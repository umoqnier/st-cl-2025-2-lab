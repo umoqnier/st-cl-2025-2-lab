{
  "cells": [
    {
      "cell_type": "markdown",
      "id": "040c998d-09c3-48cc-99c0-d18bb12ca229",
      "metadata": {
        "editable": true,
        "id": "040c998d-09c3-48cc-99c0-d18bb12ca229",
        "tags": []
      },
      "source": [
        "# Laboratorio de Temas Selectos de Procesamiento de Lenguaje Natural 🥼"
      ]
    },
    {
      "cell_type": "markdown",
      "id": "f863cfc4-5f7f-4ef5-a8c2-8b7ba0550355",
      "metadata": {
        "editable": true,
        "tags": [],
        "id": "f863cfc4-5f7f-4ef5-a8c2-8b7ba0550355"
      },
      "source": [
        "## ¿Qué vamos a ver?"
      ]
    },
    {
      "cell_type": "markdown",
      "id": "8d94ccab-4ca0-49cf-b671-cfd53121d891",
      "metadata": {
        "editable": true,
        "tags": [],
        "id": "8d94ccab-4ca0-49cf-b671-cfd53121d891"
      },
      "source": [
        "* ¿Qué vamos a trabajar?\n",
        "* Objetivos\n",
        "* ¿Cómo vamos a trabajar?\n",
        "  *  Metodología de entrega de prácticas"
      ]
    },
    {
      "cell_type": "markdown",
      "id": "8f152cc8-1daf-4f4e-a4ec-0c010fbc5155",
      "metadata": {
        "editable": true,
        "id": "8f152cc8-1daf-4f4e-a4ec-0c010fbc5155",
        "tags": []
      },
      "source": [
        "## Temario"
      ]
    },
    {
      "cell_type": "markdown",
      "id": "4ec87b4f-35df-4091-bd84-f6a14ec06a68",
      "metadata": {
        "editable": true,
        "tags": [],
        "id": "4ec87b4f-35df-4091-bd84-f6a14ec06a68"
      },
      "source": [
        "### 1. El lenguaje natural y su relación con la IA"
      ]
    },
    {
      "cell_type": "markdown",
      "id": "7cd65a8c-372d-4139-bc16-040b080d955d",
      "metadata": {
        "editable": true,
        "tags": [],
        "id": "7cd65a8c-372d-4139-bc16-040b080d955d"
      },
      "source": [
        "- Niveles de estudio del lenguaje natural  (fonología, morfología, sintaxis, semántica, pragmática)\n",
        "- Aplicaciones\n",
        "\n",
        "<center><img src=\"http://csunplugged.jp/csfg/csfieldguide/_images/AI-eliza-nlp-addiction.png\"></center>"
      ]
    },
    {
      "cell_type": "markdown",
      "id": "d8af24bb-1c20-4abd-b02a-6bda70a7e5bb",
      "metadata": {
        "editable": true,
        "tags": [],
        "id": "d8af24bb-1c20-4abd-b02a-6bda70a7e5bb"
      },
      "source": [
        "### 2. Enfoques estadísticos para aproximar el lenguaje natural"
      ]
    },
    {
      "cell_type": "markdown",
      "id": "f0326e13-dfe5-463c-b836-108182a06627",
      "metadata": {
        "editable": true,
        "tags": [],
        "id": "f0326e13-dfe5-463c-b836-108182a06627"
      },
      "source": [
        "- Ley de Zipf y otras leyes empíricas\n",
        "- Modelos de lenguaje/Vectores clásicos\n",
        "  - BoW\n",
        "  - tfidf\n",
        "- Modelos estadísticos del lenguaje"
      ]
    },
    {
      "cell_type": "code",
      "execution_count": null,
      "id": "5e85ddf4-017b-443a-a653-5ad115fb6683",
      "metadata": {
        "id": "5e85ddf4-017b-443a-a653-5ad115fb6683",
        "outputId": "e5d48524-247f-43f8-bc71-621ea6138927"
      },
      "outputs": [
        {
          "data": {
            "text/html": [
              "<center><iframe width=\"960\" height=\"615\" src=\"https://www.youtube.com/embed/fCn8zs912OE?controls=1\"></iframe></center>\n"
            ],
            "text/plain": [
              "<IPython.core.display.HTML object>"
            ]
          },
          "metadata": {},
          "output_type": "display_data"
        }
      ],
      "source": [
        "%%HTML\n",
        "<center><iframe width=\"960\" height=\"615\" src=\"https://www.youtube.com/embed/fCn8zs912OE?controls=1\"></iframe></center>"
      ]
    },
    {
      "cell_type": "markdown",
      "id": "3ca18e4c-07c6-4b39-b49b-0ca1c08aff18",
      "metadata": {
        "editable": true,
        "tags": [],
        "id": "3ca18e4c-07c6-4b39-b49b-0ca1c08aff18"
      },
      "source": [
        "### 3. Enfoques neuronales para aproximar el lenguaje natural"
      ]
    },
    {
      "cell_type": "markdown",
      "id": "7d309bdb-540c-4163-b7f1-5a491190a3f2",
      "metadata": {
        "editable": true,
        "tags": [],
        "id": "7d309bdb-540c-4163-b7f1-5a491190a3f2"
      },
      "source": [
        "- Técnicas de preprocesamiento\n",
        "    - Normalización y filtrado de textos\n",
        "    - Tokenización\n",
        "- Vectores estáticos y contextualizados\n",
        "- Modelos neuronales\n",
        "    - Encoder-decoders\n",
        "- Arquitectura de transformers e impacto en *NLP*\n",
        "\n",
        " <table>\n",
        "  <tr>\n",
        "    <th>Tokenization</th>\n",
        "    <th>Word Embeddings</th>\n",
        "  </tr>\n",
        "  <tr>\n",
        "    <td><img src=\"https://www.freecodecamp.org/news/content/images/size/w2000/2021/10/IMG_0079.jpg\" height=500 width=500></td>\n",
        "    <td><img src=\"https://kr.mathworks.com/help/examples/textanalytics/win64/VisualizeWordEmbeddingsUsingTextScatterPlotsExample_01.png\"></td>\n",
        "  </tr>\n",
        "</table>"
      ]
    },
    {
      "cell_type": "markdown",
      "id": "ba2da4ef-1b93-4b68-825b-c46bb2f8b4f0",
      "metadata": {
        "editable": true,
        "id": "ba2da4ef-1b93-4b68-825b-c46bb2f8b4f0",
        "tags": []
      },
      "source": [
        "### 4. Tendencias actuales"
      ]
    },
    {
      "cell_type": "markdown",
      "id": "bf552c8e-ef1b-4cf7-a9a0-223113926c80",
      "metadata": {
        "editable": true,
        "tags": [],
        "id": "bf552c8e-ef1b-4cf7-a9a0-223113926c80"
      },
      "source": [
        "- Transfer learning\n",
        "- In-context learning\n",
        "- RAG\n",
        "- Consideraciones éticas (?)\n",
        "\n",
        "<center><img src=\"https://i.imgflip.com/8o2ecm.jpg\"></center>"
      ]
    },
    {
      "cell_type": "markdown",
      "id": "2eb7b951-6871-4762-ac66-5334bc81db54",
      "metadata": {
        "editable": true,
        "id": "2eb7b951-6871-4762-ac66-5334bc81db54",
        "tags": []
      },
      "source": [
        "## Objetivo del laboratorio"
      ]
    },
    {
      "cell_type": "markdown",
      "id": "93905568-0aca-42a2-b59b-5d1de52e1046",
      "metadata": {
        "editable": true,
        "tags": [],
        "id": "93905568-0aca-42a2-b59b-5d1de52e1046"
      },
      "source": [
        "- Profundizar en uso de herramientas y desarrollo de soluciones a tareas de *Natural Language Processing (NLP)* enfocandonos en la reflexión desde una perspectiva lingüística\n",
        "- Ser unæ **destacadæ** practicante, tanto a nivel académico como industrial, del *NLP*\n",
        "- Practicar lo que vean en clase :)\n",
        "\n",
        "<center><img src=\"http://i0.kym-cdn.com/entries/icons/facebook/000/008/342/ihave.jpg\"></center>"
      ]
    },
    {
      "cell_type": "markdown",
      "id": "c0095dd9-9ba9-4e64-8533-283a7ad6ccc4",
      "metadata": {
        "editable": true,
        "id": "c0095dd9-9ba9-4e64-8533-283a7ad6ccc4",
        "tags": []
      },
      "source": [
        "## ¿Qué vamos a trabajar?"
      ]
    },
    {
      "cell_type": "markdown",
      "id": "213c2791-f7f7-4eba-ab85-b088a5ae3bd3",
      "metadata": {
        "editable": true,
        "id": "213c2791-f7f7-4eba-ab85-b088a5ae3bd3",
        "tags": []
      },
      "source": [
        "- Este laboratorio que cubre los aspectos prácticos de la clase teórica\n",
        "- Varias prácticas acumulativas\n",
        "    - Procuraremos ir a la par con los temas de la clase principal\n",
        "- Al final de cada práctica se `dejará(n)? (un)? ejercicio(s)?` (y opcionalmente un **EXTRA**)?"
      ]
    },
    {
      "cell_type": "markdown",
      "id": "37c63f88-06e5-49a5-a3ab-e869930086bf",
      "metadata": {
        "editable": true,
        "tags": [],
        "id": "37c63f88-06e5-49a5-a3ab-e869930086bf"
      },
      "source": [
        "## Entregables serán a través de *Github* usando `git`, *forks* y *pull requests*"
      ]
    },
    {
      "cell_type": "markdown",
      "source": [
        "### NOTAS 📖"
      ],
      "metadata": {
        "id": "vPp-KkDuz9dt"
      },
      "id": "vPp-KkDuz9dt"
    },
    {
      "cell_type": "markdown",
      "source": [
        "- Es muy recomendable entregar las prácticas ya que representa un porcentaje importante de su calificación (40%) 🤓\n",
        "- Se dará ~2 semanas para entregar ejercicios (dependiendo de la práctica)\n",
        "    - En caso de **entregas tardías** abrá una penalización `-1 punto` por cada día\n",
        "- Si utilizas LLMs, o herramientas generativas reportalos en tus prácticas 🧙🏼‍♀️\n",
        "  - Les recomendamos ampliamente que lo intenten por su cuenta primero, es una oportunidad de enfrentarse a cosas nuevas y de pensar en soluciones por su cuenta :)"
      ],
      "metadata": {
        "id": "rGmKi0AF0Ex7"
      },
      "id": "rGmKi0AF0Ex7"
    },
    {
      "cell_type": "markdown",
      "id": "0647ea84-d949-418a-a37a-6807d674a648",
      "metadata": {
        "editable": true,
        "id": "0647ea84-d949-418a-a37a-6807d674a648",
        "tags": []
      },
      "source": [
        "## Sobre mi y contacto"
      ]
    },
    {
      "cell_type": "markdown",
      "id": "ff945f2f-7648-46f7-aa38-ccb7da61f306",
      "metadata": {
        "editable": true,
        "id": "ff945f2f-7648-46f7-aa38-ccb7da61f306",
        "tags": []
      },
      "source": [
        "- Me llamo Diego Barriga (asies, como el Señor Barriga)\n",
        "- Ex-Meli como MLOps engineer\n",
        "- Hice [mi tesis](https://github.com/umoqnier/otomi-morph-segmenter) sobre NLP y lenguas indígenas mexicanas\n",
        "- Desarrollo software libre para Comunidad Elotl y LIDSoL\n",
        "- Me late la cultura libre, andar en bici (sin frenos) y uso arch BTW\n",
        "\n",
        "<div style=\"display: flex; justify-content: space-between;\">\n",
        "    <a href=\"https://elotl.mx/\" target=\"_blank\"><img src=\"https://elotl.mx/wp-content/uploads/2020/07/logo_elotl_transparente-e1596147405682.png\" style=\"width: 30%;\"></a>\n",
        "    <a href=\"https://lidsol.org/\" target=\"_blank\"><img src=\"https://www.lidsol.org/img/logo.png\" style=\"width: 80%;\"></a>\n",
        "</div>"
      ]
    },
    {
      "cell_type": "markdown",
      "id": "0487ed83-6174-4b76-a048-1db3ff9b923f",
      "metadata": {
        "editable": true,
        "tags": [],
        "id": "0487ed83-6174-4b76-a048-1db3ff9b923f"
      },
      "source": [
        "### Contacto\n",
        "\n",
        "- dbarriga@ciencias.unam.mx\n",
        "- En la clase Lunes y Miercoles de 11:00 a 13:00 :p"
      ]
    },
    {
      "cell_type": "markdown",
      "id": "a9505dc1-4aaf-4633-a337-451f9244f269",
      "metadata": {
        "editable": true,
        "id": "a9505dc1-4aaf-4633-a337-451f9244f269",
        "tags": []
      },
      "source": [
        "### Flujo de trabajo"
      ]
    },
    {
      "cell_type": "markdown",
      "id": "e7f436cf-6293-4663-8f84-46b6e22bfec8",
      "metadata": {
        "editable": true,
        "id": "e7f436cf-6293-4663-8f84-46b6e22bfec8",
        "tags": []
      },
      "source": [
        "#### La primera vez"
      ]
    },
    {
      "cell_type": "markdown",
      "id": "334c9347-9387-4e96-8549-765c8d40e161",
      "metadata": {
        "editable": true,
        "id": "334c9347-9387-4e96-8549-765c8d40e161",
        "tags": []
      },
      "source": [
        "0. [ ] Crear cuenta de Github (opcional)\n",
        "1. [ ] Crear un fork del [repositorio de prácticas](https://github.com/umoqnier/st-cl-2025-2-lab)\n",
        "2. [ ] Clonar **tu fork** en tu computadora\n",
        "\n",
        "OJO 👁️👄👁️: No el repositorio principal, es tu fork el que debes clonar"
      ]
    },
    {
      "cell_type": "markdown",
      "id": "7f3e97ee-f90a-422a-81cf-792525bcb633",
      "metadata": {
        "editable": true,
        "id": "7f3e97ee-f90a-422a-81cf-792525bcb633",
        "tags": []
      },
      "source": [
        "### Entrega de práctica"
      ]
    },
    {
      "cell_type": "markdown",
      "id": "83b12c91-bef0-468f-97b2-a24b14b11d3c",
      "metadata": {
        "editable": true,
        "tags": [],
        "id": "83b12c91-bef0-468f-97b2-a24b14b11d3c"
      },
      "source": [
        "0. Sincronizar rama `main` local con la del lab"
      ]
    },
    {
      "cell_type": "markdown",
      "id": "80c4dd80-6ee4-4385-8baf-5f029f5d631f",
      "metadata": {
        "editable": true,
        "tags": [],
        "id": "80c4dd80-6ee4-4385-8baf-5f029f5d631f"
      },
      "source": [
        "1. Crear una **nueva rama**\n",
        "    - Usa nombres descriptivos: `git checkout -b practica02/arboles-sintaxis`"
      ]
    },
    {
      "cell_type": "markdown",
      "id": "6d3f0100-2dee-4b4d-9b57-decafe541c26",
      "metadata": {
        "editable": true,
        "tags": [],
        "id": "6d3f0100-2dee-4b4d-9b57-decafe541c26"
      },
      "source": [
        "2. Crear una carpeta personal y dentro una carpeta para la práctica en turno\n",
        "    - `$ mkdir practices/umoqnier/practica1`"
      ]
    },
    {
      "cell_type": "markdown",
      "id": "8855740e-80c9-4e90-b879-e78d58b31772",
      "metadata": {
        "editable": true,
        "tags": [],
        "id": "8855740e-80c9-4e90-b879-e78d58b31772"
      },
      "source": [
        "3. Hacer su practica\n",
        "    - Usaremos el plug-in [*jupytext*](https://jupytext.readthedocs.io/en/latest/install.html)\n",
        "    - Lo que entregaran cada práctica serán (al menos) tres archivos:\n",
        "      1. **Un archivo `.py`** que será un export del notebook de su práctica\n",
        "      2. **El archivo original `.ipynb`**\n",
        "      3. **README.md** con las instrucciones para correr su práctica\n",
        "        - Incluir cualquier dependencia adicional\n",
        "    - El archivo deberá estar dentro de la carpeta de la práctica en turno con todos sus archivos\n",
        "   ```\n",
        "   practicas/\n",
        "       umoqnier/\n",
        "           P1/\n",
        "               README.md\n",
        "               mi_practica1.py\n",
        "               mi_practica1.ipynb\n",
        "   ```"
      ]
    },
    {
      "cell_type": "markdown",
      "id": "9562d4b8-403a-40a6-b214-9242f3259231",
      "metadata": {
        "editable": true,
        "tags": [],
        "id": "9562d4b8-403a-40a6-b214-9242f3259231"
      },
      "source": [
        "4. Hacer commits de sus cambios y push **a su fork**\n",
        "  - <b>PRO TIP 🧙🏼‍♀️:</b> [Write better commit messages](https://www.freecodecamp.org/news/how-to-write-better-git-commit-messages/)"
      ]
    },
    {
      "cell_type": "markdown",
      "id": "bdc987b1-71b9-421c-8493-8266aaa6eb0b",
      "metadata": {
        "editable": true,
        "tags": [],
        "id": "bdc987b1-71b9-421c-8493-8266aaa6eb0b"
      },
      "source": [
        "5. Crear su *Pull Request*\n",
        "    - Despues de una revisión la práctica se acepta o en su defecto se notificará que se requieren cambios\n",
        "    - Cuando se acepte la práctica sus cambios estarán en el repositorio principal"
      ]
    },
    {
      "cell_type": "markdown",
      "id": "0b50e9b1-2b59-4e53-af85-98b3f0e280c4",
      "metadata": {
        "editable": true,
        "id": "0b50e9b1-2b59-4e53-af85-98b3f0e280c4",
        "tags": []
      },
      "source": [
        "### 🔥 Ejercicio: Crear un PR hacia el repositorio principal del laboratorio\n",
        "\n",
        "<center><img src=\"https://cdn.ebaumsworld.com/mediaFiles/picture/718392/84890866.jpg\" height=400 width=400></center>"
      ]
    },
    {
      "cell_type": "markdown",
      "id": "db7a9732-5584-482e-87fb-125ea8e7aea6",
      "metadata": {
        "editable": true,
        "jp-MarkdownHeadingCollapsed": true,
        "tags": [],
        "id": "db7a9732-5584-482e-87fb-125ea8e7aea6"
      },
      "source": [
        "### URL: https://github.com/umoqnier/st-cl-2025-2-lab\n",
        "\n",
        "- El PR deberá crear una carpeta con su username de GitHub dentro de `practicas/` y otra carpeta interna llamada `P0/`\n",
        "    - `practicas/umoqnier/P0`\n",
        "- Agrega un archivo llamado `README.md` a la carpeta `P0/` con información básica sobre tí. Ejemplo:\n",
        "    - `practices/umoqnier/P0/README.md`\n",
        "    - Usar lenguaje de marcado [Markdown](https://docs.github.com/es/get-started/writing-on-github/getting-started-with-writing-and-formatting-on-github/basic-writing-and-formatting-syntax)\n",
        "\n",
        "```markdown\n",
        "$ cat README.md\n",
        "\n",
        "# Diego Alberto Barriga Martínez\n",
        "\n",
        "- Número de cuenta: `XXXXXXXX`\n",
        "- User de Github: @umoqnier\n",
        "- Me gusta que me llamen: Dieguito\n",
        "\n",
        "## Pasatiempos\n",
        "\n",
        "- Andar en bici\n",
        "\n",
        "## Proyectos en los que he participado y que me enorgullesen 🖤\n",
        "\n",
        "- [Esquite](https://github.com/ElotlMX/Esquite/)\n",
        "```"
      ]
    },
    {
      "cell_type": "markdown",
      "id": "07b18364-3786-42a3-938e-3656db5b8d17",
      "metadata": {
        "editable": true,
        "id": "07b18364-3786-42a3-938e-3656db5b8d17",
        "jp-MarkdownHeadingCollapsed": true,
        "tags": []
      },
      "source": [
        "## ANEXO: Entorno de trabajo con git/GitHub 💽"
      ]
    },
    {
      "cell_type": "markdown",
      "id": "4acac100-bc97-43f1-bd5f-3cfa30091658",
      "metadata": {
        "editable": true,
        "id": "4acac100-bc97-43f1-bd5f-3cfa30091658",
        "tags": []
      },
      "source": [
        "### Objetivos"
      ]
    },
    {
      "cell_type": "markdown",
      "id": "a72a8dc2-2093-4572-b234-7a8f4e4e2866",
      "metadata": {
        "editable": true,
        "id": "a72a8dc2-2093-4572-b234-7a8f4e4e2866",
        "tags": []
      },
      "source": [
        " - El alumno conocerá la herramienta `git` para el control de versiones y aprendera fundamentos de la misma usando la línea de comandos\n",
        " - Uso de plataforma Github para entrega de practicas\n",
        "   - Forks\n",
        "   - PRs\n",
        " - Uso de plataforma Google Colab"
      ]
    },
    {
      "cell_type": "markdown",
      "id": "090edbec-84e0-4bff-81e7-b734755d03a2",
      "metadata": {
        "editable": true,
        "id": "090edbec-84e0-4bff-81e7-b734755d03a2",
        "tags": []
      },
      "source": [
        "### ¿Qué es git y pa' que sirve?"
      ]
    },
    {
      "cell_type": "markdown",
      "id": "4b771e93-e717-4659-8787-a54c224f680e",
      "metadata": {
        "editable": true,
        "id": "4b771e93-e717-4659-8787-a54c224f680e",
        "tags": []
      },
      "source": [
        "Software libre cuyo proposito es versionar los archivos de un **directorio de trabajo** dado. Se le conoce como Sistema de control de versiones.\n",
        "\n",
        "![Imagen de versiones de word](https://external-content.duckduckgo.com/iu/?u=https%3A%2F%2Fwww.campingcoder.com%2Fpost%2F20180412-git-flow.png&f=1&nofb=1&ipt=a575ef3f95d4c42e34292c8e8f4a92e6c8d54399c506ad7269303b14d7524948&ipo=images)"
      ]
    },
    {
      "cell_type": "markdown",
      "id": "c5e8db82-2e99-43e2-aed7-3551c0f1f3d8",
      "metadata": {
        "editable": true,
        "id": "c5e8db82-2e99-43e2-aed7-3551c0f1f3d8",
        "tags": []
      },
      "source": [
        "#### Sistemas de control de versiones"
      ]
    },
    {
      "cell_type": "markdown",
      "id": "5b5c16eb-f971-480e-b97d-750c0791c585",
      "metadata": {
        "editable": true,
        "id": "5b5c16eb-f971-480e-b97d-750c0791c585",
        "tags": []
      },
      "source": [
        "- Guardado de versiones de archivos\n",
        "- Visualizar diferencias entre archivos\n",
        "- Trabaja con texto principalmente\n",
        "- Asociación de cambios con autoræs\n",
        "- Regresar en el tiempo a versiones anteriores"
      ]
    },
    {
      "cell_type": "markdown",
      "id": "f810e75f-1075-4491-9021-99fbcb9be0de",
      "metadata": {
        "editable": true,
        "id": "f810e75f-1075-4491-9021-99fbcb9be0de",
        "tags": []
      },
      "source": [
        "#### Caracteristicas de git"
      ]
    },
    {
      "cell_type": "markdown",
      "id": "2b6a5a08-e3ae-4e0a-8e8b-5133cdcd5869",
      "metadata": {
        "editable": true,
        "id": "2b6a5a08-e3ae-4e0a-8e8b-5133cdcd5869",
        "tags": []
      },
      "source": [
        "- Creado en el contexto del desarrollo del [kernel de linux](https://www.youtube.com/watch?v=5iFnzr73XXk)\n",
        "- Enfoque distribuido\n",
        "- Velocidad y simpleza\n",
        "- Creación de multiples ramas\n",
        "- Varias desarrolladoras trabajando en un mismo proyecto"
      ]
    },
    {
      "cell_type": "code",
      "execution_count": null,
      "id": "de0e9924-0890-4105-89a6-700d5a14bea4",
      "metadata": {
        "editable": true,
        "id": "de0e9924-0890-4105-89a6-700d5a14bea4",
        "outputId": "cb39f3b5-e923-4356-f644-1f1277b6e9fb",
        "tags": []
      },
      "outputs": [
        {
          "data": {
            "text/html": [
              "<center><iframe width=\"960\" height=\"615\" src=\"https://www.youtube.com/embed/5iFnzr73XXk?controls=1\"></iframe></center>\n"
            ],
            "text/plain": [
              "<IPython.core.display.HTML object>"
            ]
          },
          "metadata": {},
          "output_type": "display_data"
        }
      ],
      "source": [
        "%%HTML\n",
        "<center><iframe width=\"960\" height=\"615\" src=\"https://www.youtube.com/embed/5iFnzr73XXk?controls=1\"></iframe></center>"
      ]
    },
    {
      "cell_type": "markdown",
      "id": "05e2cae4-cace-4533-828b-6358dff98a60",
      "metadata": {
        "editable": true,
        "id": "05e2cae4-cace-4533-828b-6358dff98a60",
        "tags": []
      },
      "source": [
        "#### Areas de trabajo"
      ]
    },
    {
      "cell_type": "markdown",
      "id": "ccaaf4e7-ef47-4b7e-afbc-1d4ec00dabd9",
      "metadata": {
        "editable": true,
        "id": "ccaaf4e7-ef47-4b7e-afbc-1d4ec00dabd9",
        "tags": []
      },
      "source": [
        "Git trabaja con tres áreas principales:\n",
        "1. Working directory\n",
        "2. Staging area\n",
        "3. Repositorio local (`.git`)\n",
        "    - Aquí se guardan los commits (en tu computadora local)"
      ]
    },
    {
      "cell_type": "markdown",
      "id": "14668629-c589-4b2c-937f-17d817624e92",
      "metadata": {
        "editable": true,
        "tags": [],
        "id": "14668629-c589-4b2c-937f-17d817624e92"
      },
      "source": [
        "#### ¿Cómo mover archivos entre areas?"
      ]
    },
    {
      "cell_type": "markdown",
      "id": "f45e8f69-c7cc-4981-8c48-efdf1fe6a642",
      "metadata": {
        "editable": true,
        "tags": [],
        "id": "f45e8f69-c7cc-4981-8c48-efdf1fe6a642"
      },
      "source": [
        "- `git init` - Iniciar un repositorio en el directorio actual\n",
        "- `vim archivo.c` - Modifica un archivo y git detecta cambios\n",
        "- `git add` - Envia las modificaciones al *staging area*\n",
        "- `git commit` - Guarda los cambios que estuvieran en el *staging area* en el directorio `.git`\n",
        "- `git restore` - Se pueden deshacer cambios en el *staging area*"
      ]
    },
    {
      "cell_type": "markdown",
      "id": "dbd2ba7d-b52b-4b6c-ae88-bdd8babf6435",
      "metadata": {
        "editable": true,
        "tags": [],
        "id": "dbd2ba7d-b52b-4b6c-ae88-bdd8babf6435"
      },
      "source": [
        "<center> <img src=\"https://external-content.duckduckgo.com/iu/?u=http%3A%2F%2Fthachpham.com%2Fwp-content%2Fuploads%2F2015%2F04%2Fgit-staging-area.png&f=1&nofb=1&ipt=df8409aae278df92116d596f7d7768669566b858cebc4c0f51270c239b22a133&ipo=images\">  </center>"
      ]
    },
    {
      "cell_type": "markdown",
      "id": "f26dbd9b-8009-44de-9f61-682a97083dda",
      "metadata": {
        "editable": true,
        "id": "f26dbd9b-8009-44de-9f61-682a97083dda",
        "tags": []
      },
      "source": [
        "#### Instalación de git (por si no lo tienen)"
      ]
    },
    {
      "cell_type": "markdown",
      "id": "01d373d7-9d4f-479c-852e-47ded7a38107",
      "metadata": {
        "editable": true,
        "id": "01d373d7-9d4f-479c-852e-47ded7a38107",
        "tags": []
      },
      "source": [
        "- [Guia de instalación](https://github.com/git-guides/install-git)\n",
        "- [Descarga](https://git-scm.com/downloads)"
      ]
    },
    {
      "cell_type": "markdown",
      "id": "f5582a00-c0fd-4d1d-b09b-c0f572f7431e",
      "metadata": {
        "editable": true,
        "id": "f5582a00-c0fd-4d1d-b09b-c0f572f7431e",
        "tags": []
      },
      "source": [
        "### Git crash course"
      ]
    },
    {
      "cell_type": "markdown",
      "id": "d2123ccf-3c70-405f-a5cc-cb7b1d541fe4",
      "metadata": {
        "editable": true,
        "id": "d2123ccf-3c70-405f-a5cc-cb7b1d541fe4",
        "jp-MarkdownHeadingCollapsed": true,
        "tags": []
      },
      "source": [
        "#### Configuraciones básicas"
      ]
    },
    {
      "cell_type": "markdown",
      "id": "b3f9438c-a279-436b-adef-50977c05e757",
      "metadata": {
        "editable": true,
        "tags": [],
        "id": "b3f9438c-a279-436b-adef-50977c05e757"
      },
      "source": [
        "- `git config user.name \"Dieguito Maradona\"`\n",
        "- `git config user.email \"maradona@gmail.com\"`\n",
        "    - Usa la bandera `--global` para configuraciones a nivel global"
      ]
    },
    {
      "cell_type": "markdown",
      "id": "4e2498dc-0985-429c-894c-76cd4227d31d",
      "metadata": {
        "editable": true,
        "id": "4e2498dc-0985-429c-894c-76cd4227d31d",
        "jp-MarkdownHeadingCollapsed": true,
        "tags": []
      },
      "source": [
        "#### ¿Cómo obtener un repositorio?"
      ]
    },
    {
      "cell_type": "markdown",
      "id": "10171ef2-75a7-4507-98e8-45cd33a51f55",
      "metadata": {
        "editable": true,
        "id": "10171ef2-75a7-4507-98e8-45cd33a51f55",
        "tags": []
      },
      "source": [
        "- Localmente - `git init`\n",
        "- Remotamente - `git clone <url>`"
      ]
    },
    {
      "cell_type": "markdown",
      "id": "99007aec-f070-42fd-8797-51e0822203d0",
      "metadata": {
        "editable": true,
        "id": "99007aec-f070-42fd-8797-51e0822203d0",
        "jp-MarkdownHeadingCollapsed": true,
        "tags": []
      },
      "source": [
        "#### `git add`"
      ]
    },
    {
      "cell_type": "markdown",
      "id": "432becc0-3a0a-481b-a2ce-7aec80a9ac6b",
      "metadata": {
        "editable": true,
        "tags": [],
        "id": "432becc0-3a0a-481b-a2ce-7aec80a9ac6b"
      },
      "source": [
        "Este comando agrega archivos al área de staging que es previa al área de cambios definitivos\n",
        "\n",
        "- Agregar achivos individuales - `git add main.py`\n",
        "- Agregar por extension - `git add *.cpp`\n",
        "- Agregar todo en un directorio - `git add .`"
      ]
    },
    {
      "cell_type": "markdown",
      "id": "93fcc5a2-8e71-462c-8341-04634946fbd1",
      "metadata": {
        "editable": true,
        "jp-MarkdownHeadingCollapsed": true,
        "tags": [],
        "id": "93fcc5a2-8e71-462c-8341-04634946fbd1"
      },
      "source": [
        "#### `git commit`"
      ]
    },
    {
      "cell_type": "markdown",
      "id": "a5fdf316-c26d-47f8-812e-b61a95f7a745",
      "metadata": {
        "editable": true,
        "tags": [],
        "id": "a5fdf316-c26d-47f8-812e-b61a95f7a745"
      },
      "source": [
        "Confirma los cambios que esten en el area de staging. Se crea un punto en la historia del proyecto\n",
        "\n",
        "**Buenas prácticas**:\n",
        "\n",
        "- El commit debe ser acompañado con un mensaje descriptivo de los cambios\n",
        "- Es mejor hacer varios commits que hagan una cosa pequeña en lugar de un solo commit con muchos cambios\n",
        "- Recomendable seguir algun estandar. Ya sea definido por el equipo o [algún otro](https://www.freecodecamp.org/news/how-to-write-better-git-commit-messages/)"
      ]
    },
    {
      "cell_type": "markdown",
      "id": "ad936607-0448-4aef-95cb-ea9f4ef34f00",
      "metadata": {
        "editable": true,
        "tags": [],
        "id": "ad936607-0448-4aef-95cb-ea9f4ef34f00"
      },
      "source": [
        "<center><img src=\"https://imgs.xkcd.com/comics/git_commit.png\"></center>"
      ]
    },
    {
      "cell_type": "markdown",
      "id": "f805aec4-cb52-496f-bae5-462144acab58",
      "metadata": {
        "editable": true,
        "jp-MarkdownHeadingCollapsed": true,
        "tags": [],
        "id": "f805aec4-cb52-496f-bae5-462144acab58"
      },
      "source": [
        "#### `git status`"
      ]
    },
    {
      "cell_type": "markdown",
      "id": "ea008559-1702-4288-9652-cf802aa331b5",
      "metadata": {
        "editable": true,
        "tags": [],
        "id": "ea008559-1702-4288-9652-cf802aa331b5"
      },
      "source": [
        "Verificamos el estado actual del proyecto. ¿Qué cambios hubo y dónde?\n",
        "\n",
        "- `.gitignore`: Archivo de texto que permite excluir archivos para que `git` los ignore"
      ]
    },
    {
      "cell_type": "markdown",
      "id": "738f8aeb-138f-4288-a02c-22031dc94402",
      "metadata": {
        "editable": true,
        "jp-MarkdownHeadingCollapsed": true,
        "raw_mimetype": "",
        "tags": [],
        "id": "738f8aeb-138f-4288-a02c-22031dc94402"
      },
      "source": [
        "#### `git push` / `git pull`"
      ]
    },
    {
      "cell_type": "markdown",
      "id": "6281060f-4639-4caf-92e6-b082ec9bde7c",
      "metadata": {
        "editable": true,
        "id": "6281060f-4639-4caf-92e6-b082ec9bde7c",
        "tags": []
      },
      "source": [
        "Para mandar y recibir cambios desde un repositorio remoto (o sea algún lugar fuera de nuetra PC gamer)"
      ]
    },
    {
      "cell_type": "markdown",
      "id": "90b32d93-1259-4915-8007-cb40e96fdb04",
      "metadata": {
        "editable": true,
        "tags": [],
        "id": "90b32d93-1259-4915-8007-cb40e96fdb04"
      },
      "source": [
        "#### `git log`"
      ]
    },
    {
      "cell_type": "markdown",
      "id": "b1b623e0-af40-4e81-b7f9-8a650c88e728",
      "metadata": {
        "editable": true,
        "tags": [],
        "id": "b1b623e0-af40-4e81-b7f9-8a650c88e728"
      },
      "source": [
        "Revisar el historial de commits del proyecto, sus mensajes y quien realizó los cambios"
      ]
    },
    {
      "cell_type": "markdown",
      "id": "28801fa7-9e13-4534-86e2-294499974c1f",
      "metadata": {
        "editable": true,
        "id": "28801fa7-9e13-4534-86e2-294499974c1f",
        "tags": []
      },
      "source": [
        "#### Ramas\n",
        "\n",
        "<center><img src=\"https://external-content.duckduckgo.com/iu/?u=https%3A%2F%2Fwww.perforce.com%2Fsites%2Fdefault%2Ffiles%2Fstyles%2Fsocial_preview_image%2Fpublic%2Fimage%2F2020-07%2Fimage-blog-git-branching-model.jpg%3Fitok%3DrJ4GurJ8&f=1&nofb=1&ipt=319db8a24f10e5417740fc07d1b0a52225c1ae0f1ee28fc384a4b001733510c3&ipo=images\"></center>"
      ]
    },
    {
      "cell_type": "markdown",
      "id": "b65bf6dc-c133-40d5-8ada-efd0aead6855",
      "metadata": {
        "editable": true,
        "id": "b65bf6dc-c133-40d5-8ada-efd0aead6855",
        "tags": []
      },
      "source": [
        "- Parte fundamental del software `git` es su manejo de ramas (o *branches*)\n",
        "- Considerada la *killer feature* de `git`\n",
        "- Trabajar con ramas permite explorar nuevos desarrollos sin romper, ensuciar o arruinar nuestra rama principal\n",
        "    - Considerenlo un universo paralelo (o multiverso)\n",
        "    - Trabajar en diferentes versiones del software de forma simultanea"
      ]
    },
    {
      "cell_type": "markdown",
      "id": "a2d0244e-8369-4711-8a85-a0087f1ca5c2",
      "metadata": {
        "editable": true,
        "tags": [],
        "id": "a2d0244e-8369-4711-8a85-a0087f1ca5c2"
      },
      "source": [
        "<center><img src=\"https://external-content.duckduckgo.com/iu/?u=https%3A%2F%2Fmemeguy.com%2Fphotos%2Fimages%2Fmeanwhile-in-a-parallel-universe-71332.gif&f=1&nofb=1&ipt=8c983e591b8dfbc6cf45daa0c858cc4a6fbd57fb9a3ada81158058c778c97c08&ipo=images\"></center>"
      ]
    },
    {
      "cell_type": "markdown",
      "id": "4f753c10-c188-44e2-9a28-bc61deb281bf",
      "metadata": {
        "editable": true,
        "id": "4f753c10-c188-44e2-9a28-bc61deb281bf",
        "tags": []
      },
      "source": [
        "#### Comandos útiles para manejo de ramas"
      ]
    },
    {
      "cell_type": "markdown",
      "id": "0cc76aab-fd68-49d6-9999-fee34c4a4c90",
      "metadata": {
        "editable": true,
        "id": "0cc76aab-fd68-49d6-9999-fee34c4a4c90",
        "tags": []
      },
      "source": [
        "- `git checkout -b <nueva-rama>`\n",
        "- `git branch`\n",
        "- `git merge`"
      ]
    },
    {
      "cell_type": "markdown",
      "id": "398b9629-10da-4a5c-8bb2-dcec02592941",
      "metadata": {
        "editable": true,
        "id": "398b9629-10da-4a5c-8bb2-dcec02592941",
        "tags": []
      },
      "source": [
        "#### Remotos"
      ]
    },
    {
      "cell_type": "markdown",
      "id": "271c2796-46d2-471b-bdb3-ef56cee1936f",
      "metadata": {
        "editable": true,
        "tags": [],
        "id": "271c2796-46d2-471b-bdb3-ef56cee1936f"
      },
      "source": [
        "- Recuerdan que existian los repositorios remotos?\n",
        "- Podemos sincronizar nuestro trabajo local de una rama especifica con el servidor\n",
        "    - `git push origin <nombre-rama>`\n",
        "    - **NOTA:** `origin` es el nombre por defecto del respositorio remoto. Se puede llamar como queramos\n",
        "- Tambien podemos agregar mas remotos\n",
        "    - `git remote add <nombre-remoto> <url>`"
      ]
    },
    {
      "cell_type": "markdown",
      "id": "fe82b8d5-5d8b-4508-bf83-24edfe9cc604",
      "metadata": {
        "editable": true,
        "id": "fe82b8d5-5d8b-4508-bf83-24edfe9cc604",
        "tags": []
      },
      "source": [
        "#### Forks"
      ]
    },
    {
      "cell_type": "markdown",
      "id": "97ff5eb8-1694-468c-9f43-9883155731ca",
      "metadata": {
        "editable": true,
        "id": "97ff5eb8-1694-468c-9f43-9883155731ca",
        "tags": []
      },
      "source": [
        "- Un fork es una copia de un respositorio de GitHub pero que ahora es de tu autoría.\n",
        "- Sin embargo, el respositorio original queda ligado con la copia que realizaste\n",
        "- Por medio de forks es que podemos realizar contribuciones a respositorios ajenos 🤗"
      ]
    },
    {
      "cell_type": "markdown",
      "id": "5991435e-b77f-4fe0-b3d4-7634dbd863e8",
      "metadata": {
        "editable": true,
        "tags": [],
        "id": "5991435e-b77f-4fe0-b3d4-7634dbd863e8"
      },
      "source": [
        "<center><img src=\"https://external-content.duckduckgo.com/iu/?u=https%3A%2F%2Fwww.freecodecamp.org%2Fnews%2Fcontent%2Fimages%2F2022%2F02%2FGitHub-Fork.gif&f=1&nofb=1&ipt=9436ce7f55c6189a5e9c21fc39bc6a82e3ceba07dc23fadfe8251c67699add4b&ipo=images\"></center>"
      ]
    },
    {
      "cell_type": "markdown",
      "id": "2f3b3f40-4333-482e-a876-b73a8914b555",
      "metadata": {
        "editable": true,
        "id": "2f3b3f40-4333-482e-a876-b73a8914b555",
        "tags": []
      },
      "source": [
        "#### Conectando remotos nuevos"
      ]
    },
    {
      "cell_type": "markdown",
      "id": "ab9ad4e6-d677-4c7d-a250-408b25db6b97",
      "metadata": {
        "editable": true,
        "id": "ab9ad4e6-d677-4c7d-a250-408b25db6b97",
        "tags": []
      },
      "source": [
        "- `git remote add <nombre-remoto> <url>`\n",
        "- Comando util para agregar el remoto del lab ;)"
      ]
    },
    {
      "cell_type": "markdown",
      "id": "77e4476a-5d28-4fef-a597-afc705b72532",
      "metadata": {
        "editable": true,
        "id": "77e4476a-5d28-4fef-a597-afc705b72532",
        "tags": []
      },
      "source": [
        "#### Sincronizar el repo local con un repo forkeado"
      ]
    },
    {
      "cell_type": "markdown",
      "id": "505d1c33-0ca4-4a1f-8a5e-20a59f926ce7",
      "metadata": {
        "editable": true,
        "id": "505d1c33-0ca4-4a1f-8a5e-20a59f926ce7",
        "tags": []
      },
      "source": [
        "- `git pull <remoto> <rama-a-sync>`"
      ]
    },
    {
      "cell_type": "markdown",
      "id": "e94c0f26-beff-4de6-a6d9-6fa26b2efc58",
      "metadata": {
        "editable": true,
        "tags": [],
        "id": "e94c0f26-beff-4de6-a6d9-6fa26b2efc58"
      },
      "source": [
        "#### Git flow"
      ]
    },
    {
      "cell_type": "markdown",
      "id": "40aa4316-1bf0-4a31-af59-a85797024deb",
      "metadata": {
        "editable": true,
        "tags": [],
        "id": "40aa4316-1bf0-4a31-af59-a85797024deb"
      },
      "source": [
        "<center><img height=\"900\" width=\"900\" src=\"https://wac-cdn.atlassian.com/dam/jcr:cc0b526e-adb7-4d45-874e-9bcea9898b4a/04%20Hotfix%20branches.svg?cdnVersion=1437\"></center>"
      ]
    },
    {
      "cell_type": "markdown",
      "id": "cacd67f9-7552-43bc-bcf0-65d0e37dd170",
      "metadata": {
        "editable": true,
        "id": "cacd67f9-7552-43bc-bcf0-65d0e37dd170",
        "tags": []
      },
      "source": [
        "## Links útiles\n",
        "\n",
        "- [Git branches](https://git-scm.com/book/en/v2/Git-Branching-Branches-in-a-Nutshell)\n",
        "- [Write better commit messages](https://www.freecodecamp.org/news/how-to-write-better-git-commit-messages/)\n",
        "- [Guia sencilla a git](https://rogerdudler.github.io/git-guide/index.es.html)\n",
        "- [¿Cómo forkear un repo?](https://docs.github.com/es/get-started/quickstart/fork-a-repo)\n",
        "- [Hola mundo de Github](https://docs.github.com/es/get-started/quickstart/hello-world)\n",
        "- [Sintaxis básica de Markdown](https://docs.github.com/es/get-started/writing-on-github/getting-started-with-writing-and-formatting-on-github/basic-writing-and-formatting-syntax)\n",
        "- [Generación de llaves SSH](https://docs.github.com/en/authentication/connecting-to-github-with-ssh/generating-a-new-ssh-key-and-adding-it-to-the-ssh-agent)"
      ]
    },
    {
      "cell_type": "code",
      "execution_count": null,
      "id": "84de9f30-42b0-4a1d-a656-32bedfa0a17c",
      "metadata": {
        "id": "84de9f30-42b0-4a1d-a656-32bedfa0a17c"
      },
      "outputs": [],
      "source": []
    }
  ],
  "metadata": {
    "colab": {
      "provenance": [],
      "collapsed_sections": [
        "07b18364-3786-42a3-938e-3656db5b8d17",
        "4acac100-bc97-43f1-bd5f-3cfa30091658"
      ]
    },
    "jupytext": {
      "formats": "ipynb,md"
    },
    "kernelspec": {
      "display_name": "Python 3 (ipykernel)",
      "language": "python",
      "name": "python3"
    },
    "language_info": {
      "codemirror_mode": {
        "name": "ipython",
        "version": 3
      },
      "file_extension": ".py",
      "mimetype": "text/x-python",
      "name": "python",
      "nbconvert_exporter": "python",
      "pygments_lexer": "ipython3",
      "version": "3.11.11"
    }
  },
  "nbformat": 4,
  "nbformat_minor": 5
}