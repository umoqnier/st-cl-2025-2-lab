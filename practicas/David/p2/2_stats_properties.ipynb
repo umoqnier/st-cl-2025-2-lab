{
 "cells": [
  {
   "cell_type": "markdown",
   "metadata": {
    "id": "ZArXu0Ftl5ax"
   },
   "source": [
    "# 2. Propiedades estadísticas del lenguaje"
   ]
  },
  {
   "cell_type": "markdown",
   "metadata": {
    "id": "4bd84aad-12ba-4763-ad56-d39fac90d81a"
   },
   "source": [
    "## Objetivos"
   ]
  },
  {
   "cell_type": "markdown",
   "metadata": {
    "id": "236644a4-1c5a-4664-88c2-d09e304fa144"
   },
   "source": [
    "- Mostrar el uso de CFG y derivados\n",
    "    - Ejemplos de parseo de dependencias\n",
    "- Ejemplificar etiquetado NER usando bibliotecas existentes\n",
    "- Explorar propiedades estadísticas del lenguaje natural y observar los siguientes fenomenos:\n",
    "    - La distribución de Zipf\n",
    "    - La distribución de Heap\n",
    "\n",
    "- Implementar bolsas de palabras\n",
    "    - Aplicar *TF.IDF*"
   ]
  },
  {
   "cell_type": "markdown",
   "metadata": {
    "id": "800a10b9-8e1b-4905-9265-95aa149d1b88"
   },
   "source": [
    "## Perspectivas formales"
   ]
  },
  {
   "cell_type": "markdown",
   "metadata": {
    "id": "92087180-f3e3-4ce8-aadf-1f62bc0e4f27"
   },
   "source": [
    "- Fueron el primer acercamiento al procesamiento del lenguaje natural. Sin embargo tienen varias **desventajas**\n",
    "- Requieren **conocimiento previo de la lengua**\n",
    "- Las herramientas son especificas de la lengua\n",
    "- Los fenomenos que se presentan son muy amplios y difícilmente se pueden abarcar con reglas formales (muchos casos especiales)\n",
    "- Las reglas tienden a ser rigidas y no admiten incertidumbre en el resultado"
   ]
  },
  {
   "cell_type": "markdown",
   "metadata": {
    "id": "a1612535-9114-4a43-9143-b68eeb3254db"
   },
   "source": [
    "### Sintaxis"
   ]
  },
  {
   "cell_type": "markdown",
   "metadata": {
    "id": "sHDV5mKGacun"
   },
   "source": [
    "![](https://imgs.xkcd.com/comics/formal_languages_2x.png)\n",
    "\n",
    "**[audience looks around] 'What just happened?' 'There must be some context we're missing.'**"
   ]
  },
  {
   "cell_type": "markdown",
   "metadata": {
    "id": "aa68989b-4f40-4159-bdc4-3ca620769324"
   },
   "source": [
    "#### Parsing basado en reglas"
   ]
  },
  {
   "cell_type": "markdown",
   "metadata": {
    "id": "57db57dc-ed87-4e74-9298-c14107b5f099"
   },
   "source": [
    "- Gramaticas libres de contexto:\n",
    "\n",
    "$G = (T, N, O, R)$\n",
    "* $T$ símbolos terminales.\n",
    "* $N$ símbolos no terminales.\n",
    "* $O$ simbolo inicial o nodo raíz.\n",
    "* $R$ reglas de la forma $X \\longrightarrow \\gamma$ donde $X$ es no terminal y $\\gamma$ es una secuencia de terminales y no terminales"
   ]
  },
  {
   "cell_type": "code",
   "execution_count": 1,
   "metadata": {
    "id": "2W1hl96OYKz5"
   },
   "outputs": [],
   "source": [
    "import nltk"
   ]
  },
  {
   "cell_type": "code",
   "execution_count": 2,
   "metadata": {
    "id": "910d3932-1d90-4871-88c7-1d40da2a2677"
   },
   "outputs": [],
   "source": [
    "plain_grammar = \"\"\"\n",
    "S -> NP VP\n",
    "NP -> Det N | Det N PP | 'I'\n",
    "VP -> V NP | VP PP\n",
    "PP -> P NP\n",
    "Det -> 'an' | 'my'\n",
    "N -> 'elephant' | 'pajamas'\n",
    "V -> 'shot'\n",
    "P -> 'in'\n",
    "\"\"\""
   ]
  },
  {
   "cell_type": "code",
   "execution_count": 3,
   "metadata": {
    "id": "9c6e8a6f-f187-4fad-a3b5-a54cc07c475c"
   },
   "outputs": [],
   "source": [
    "grammar = nltk.CFG.fromstring(plain_grammar)\n",
    "# Cambiar analizador y trace\n",
    "analyzer = nltk.ChartParser(grammar)\n",
    "\n",
    "sentence = \"I shot an elephant in my pajamas\".split()\n",
    "trees = analyzer.parse(sentence)"
   ]
  },
  {
   "cell_type": "code",
   "execution_count": 4,
   "metadata": {
    "colab": {
     "base_uri": "https://localhost:8080/"
    },
    "id": "2645a2b7-d0af-43e9-9ce8-924ea41ae81d",
    "outputId": "58c1e701-d594-49bb-b8a8-db60353bfb6c"
   },
   "outputs": [
    {
     "name": "stdout",
     "output_type": "stream",
     "text": [
      "(S\n",
      "  (NP I)\n",
      "  (VP\n",
      "    (VP (V shot) (NP (Det an) (N elephant)))\n",
      "    (PP (P in) (NP (Det my) (N pajamas))))) <class 'nltk.tree.tree.Tree'>\n",
      "\n",
      "Bosquejo del árbol:\n",
      "\n",
      "     S                                       \n",
      " ┌───┴──────────────┐                         \n",
      " │                  VP                       \n",
      " │        ┌─────────┴──────────┐              \n",
      " │        VP                   PP            \n",
      " │   ┌────┴───┐            ┌───┴───┐          \n",
      " │   │        NP           │       NP        \n",
      " │   │    ┌───┴─────┐      │   ┌───┴─────┐    \n",
      " NP  V   Det        N      P  Det        N   \n",
      " │   │    │         │      │   │         │    \n",
      " I  shot  an     elephant  in  my     pajamas\n",
      "\n",
      "None\n",
      "(S\n",
      "  (NP I)\n",
      "  (VP\n",
      "    (V shot)\n",
      "    (NP (Det an) (N elephant) (PP (P in) (NP (Det my) (N pajamas)))))) <class 'nltk.tree.tree.Tree'>\n",
      "\n",
      "Bosquejo del árbol:\n",
      "\n",
      "     S                                   \n",
      " ┌───┴──────────┐                         \n",
      " │              VP                       \n",
      " │   ┌──────────┴──────┐                  \n",
      " │   │                 NP                \n",
      " │   │    ┌─────┬──────┴───┐              \n",
      " │   │    │     │          PP            \n",
      " │   │    │     │      ┌───┴───┐          \n",
      " │   │    │     │      │       NP        \n",
      " │   │    │     │      │   ┌───┴─────┐    \n",
      " NP  V   Det    N      P  Det        N   \n",
      " │   │    │     │      │   │         │    \n",
      " I  shot  an elephant  in  my     pajamas\n",
      "\n",
      "None\n"
     ]
    }
   ],
   "source": [
    "for tree in trees:\n",
    "    print(tree, type(tree))\n",
    "    print('\\nBosquejo del árbol:\\n')\n",
    "    print(tree.pretty_print(unicodelines=True, nodedist=1))"
   ]
  },
  {
   "cell_type": "markdown",
   "metadata": {
    "id": "c0f6a460-c42b-488e-ae47-2aac94a23700"
   },
   "source": [
    "## Perspectiva estadística"
   ]
  },
  {
   "cell_type": "markdown",
   "metadata": {
    "id": "72884cf6-d082-47cf-a6a3-43927eeb67c4"
   },
   "source": [
    "- Puede integrar aspectos de la perspectiva formal\n",
    "- Lidia mejor con la incertidumbre y es menos rigida que la perspectiva formal\n",
    "- No requiere conocimiento profundo de la lengua. Se pueden obtener soluciones de forma no supervisada"
   ]
  },
  {
   "cell_type": "markdown",
   "metadata": {
    "id": "e81eec3f-0bce-4fa7-b10e-6c2e083df489"
   },
   "source": [
    "## Modelos estadísticos"
   ]
  },
  {
   "cell_type": "markdown",
   "metadata": {
    "id": "a1aede65-078c-40d2-bf4e-0d7feb9fbd69"
   },
   "source": [
    "- Las **frecuencias** juegan un papel fundamental para hacer una descripción acertada del lenguaje\n",
    "- Las frecuencias nos dan información de la **distribución de tokens**, de la cual podemos estimar probabilidades.\n",
    "- Existen **leyes empíricas del lenguaje** que nos indican como se comportan las lenguas a niveles estadísticos\n",
    "- A partir de estas leyes y otras reglas estadísticas podemos crear **modelos del lenguaje**; es decir, asignar probabilidades a las unidades lingüísticas"
   ]
  },
  {
   "cell_type": "markdown",
   "metadata": {
    "id": "KMUputj7YmZc"
   },
   "source": [
    "### Probabilistic Context Free Grammar"
   ]
  },
  {
   "cell_type": "code",
   "execution_count": 5,
   "metadata": {
    "id": "L3ODea3bYlKr"
   },
   "outputs": [],
   "source": [
    "taco_grammar = nltk.PCFG.fromstring(\"\"\"\n",
    "O    -> FN FV     [0.7]\n",
    "O    -> FV FN     [0.3]\n",
    "FN   -> Sust      [0.6]\n",
    "FN   -> Det Sust  [0.4]\n",
    "FV   -> V FN      [0.8]\n",
    "FV   -> FN V      [0.2]\n",
    "Sust -> 'Juan'    [0.5]\n",
    "Sust -> 'tacos'   [0.5]\n",
    "Det  -> 'unos'    [1.0]\n",
    "V    -> 'come'    [1.0]\n",
    "\"\"\")\n",
    "viterbi_parser = nltk.ViterbiParser(taco_grammar)"
   ]
  },
  {
   "cell_type": "code",
   "execution_count": 6,
   "metadata": {
    "colab": {
     "base_uri": "https://localhost:8080/"
    },
    "id": "4Eux_3liZmes",
    "outputId": "42ccb8e2-45c2-4da5-bbc2-4a3ba2ff776e"
   },
   "outputs": [
    {
     "name": "stdout",
     "output_type": "stream",
     "text": [
      "(O\n",
      "  (FN (Sust Juan))\n",
      "  (FV (V come) (FN (Det unos) (Sust tacos)))) (p=0.0336)\n",
      "Versión bosque\n",
      "           O                \n",
      " ┌─────────┴───┐             \n",
      " │             FV           \n",
      " │    ┌────────┴────┐        \n",
      " FN   │             FN      \n",
      " │    │        ┌────┴────┐   \n",
      "Sust  V       Det       Sust\n",
      " │    │        │         │   \n",
      "Juan come     unos     tacos\n",
      "\n",
      "(O\n",
      "  (FN (Det unos) (Sust tacos))\n",
      "  (FV (FN (Sust Juan)) (V come))) (p=0.0084)\n",
      "Versión bosque\n",
      "                O               \n",
      "      ┌─────────┴────────┐       \n",
      "      │                  FV     \n",
      "      │             ┌────┴───┐   \n",
      "      FN            FN       │  \n",
      " ┌────┴────┐        │        │   \n",
      "Det       Sust     Sust      V  \n",
      " │         │        │        │   \n",
      "unos     tacos     Juan     come\n",
      "\n"
     ]
    }
   ],
   "source": [
    "sentences = [\n",
    "    \"Juan come unos tacos\",\n",
    "    \"unos tacos Juan come\"\n",
    "]\n",
    "for sent in sentences:\n",
    "    for tree in viterbi_parser.parse(sent.split()):\n",
    "        print(tree)\n",
    "        print(\"Versión bosque\")\n",
    "        tree.pretty_print(unicodelines=True, nodedist=1)"
   ]
  },
  {
   "cell_type": "markdown",
   "metadata": {
    "id": "7jFR4ZWpawfL"
   },
   "source": [
    "### Parseo de dependencias"
   ]
  },
  {
   "cell_type": "markdown",
   "metadata": {
    "id": "gm49NCc9a0Jo"
   },
   "source": [
    "Un parseo de dependencias devuelve las dependencias que se dan entre los tokens de una oración. Estas dependencias suelen darse entre pares de tokens. Esto es, que relaciones tienen las palabras con otras palabras."
   ]
  },
  {
   "cell_type": "markdown",
   "metadata": {
    "id": "lcsiGiw1a4UC"
   },
   "source": [
    "##### Freeling - https://nlp.lsi.upc.edu/freeling/demo/demo.php"
   ]
  },
  {
   "cell_type": "code",
   "execution_count": 7,
   "metadata": {
    "id": "58da60bc-6cdc-40ec-bc89-f96ebc7a19c9"
   },
   "outputs": [],
   "source": [
    "import spacy\n",
    "from spacy import displacy"
   ]
  },
  {
   "cell_type": "code",
   "execution_count": 8,
   "metadata": {
    "colab": {
     "base_uri": "https://localhost:8080/"
    },
    "id": "BxZAewy9a-tc",
    "outputId": "284c9991-b1f7-427d-eab7-ca2f3833c5b4"
   },
   "outputs": [
    {
     "name": "stdout",
     "output_type": "stream",
     "text": [
      "Collecting es-core-news-md==3.8.0\n",
      "  Downloading https://github.com/explosion/spacy-models/releases/download/es_core_news_md-3.8.0/es_core_news_md-3.8.0-py3-none-any.whl (42.3 MB)\n",
      "     ---------------------------------------- 0.0/42.3 MB ? eta -:--:--\n",
      "     - -------------------------------------- 1.3/42.3 MB 11.2 MB/s eta 0:00:04\n",
      "     ----- ---------------------------------- 5.5/42.3 MB 16.8 MB/s eta 0:00:03\n",
      "     ---------- ---------------------------- 11.5/42.3 MB 21.2 MB/s eta 0:00:02\n",
      "     --------------- ----------------------- 17.3/42.3 MB 23.2 MB/s eta 0:00:02\n",
      "     --------------------- ----------------- 23.3/42.3 MB 24.2 MB/s eta 0:00:01\n",
      "     ------------------------ -------------- 26.2/42.3 MB 24.4 MB/s eta 0:00:01\n",
      "     ------------------------------ -------- 32.8/42.3 MB 23.9 MB/s eta 0:00:01\n",
      "     ----------------------------------- --- 38.5/42.3 MB 24.2 MB/s eta 0:00:01\n",
      "     --------------------------------------  42.2/42.3 MB 23.5 MB/s eta 0:00:01\n",
      "     --------------------------------------- 42.3/42.3 MB 22.8 MB/s eta 0:00:00\n",
      "\u001b[38;5;2m[+] Download and installation successful\u001b[0m\n",
      "You can now load the package via spacy.load('es_core_news_md')\n"
     ]
    }
   ],
   "source": [
    "!python -m spacy download es_core_news_md"
   ]
  },
  {
   "cell_type": "code",
   "execution_count": 9,
   "metadata": {
    "id": "4ztyjwaxbB32"
   },
   "outputs": [],
   "source": [
    "nlp = spacy.load(\"es_core_news_md\")"
   ]
  },
  {
   "cell_type": "code",
   "execution_count": 10,
   "metadata": {
    "id": "vJo4jpJTbDWk"
   },
   "outputs": [],
   "source": [
    "doc = nlp(\"La niña come un suani\")"
   ]
  },
  {
   "cell_type": "code",
   "execution_count": 11,
   "metadata": {
    "colab": {
     "base_uri": "https://localhost:8080/",
     "height": 333
    },
    "id": "4xYJ5u8xbEq7",
    "outputId": "a3f575b4-1f2f-4912-f027-96416385881c"
   },
   "outputs": [
    {
     "data": {
      "text/html": [
       "<span class=\"tex2jax_ignore\"><svg xmlns=\"http://www.w3.org/2000/svg\" xmlns:xlink=\"http://www.w3.org/1999/xlink\" xml:lang=\"es\" id=\"7616492d10994c8eb00ec6953e72f834-0\" class=\"displacy\" width=\"925\" height=\"312.0\" direction=\"ltr\" style=\"max-width: none; height: 312.0px; color: #000000; background: #ffffff; font-family: Arial; direction: ltr\">\n",
       "<text class=\"displacy-token\" fill=\"currentColor\" text-anchor=\"middle\" y=\"222.0\">\n",
       "    <tspan class=\"displacy-word\" fill=\"currentColor\" x=\"50\">La</tspan>\n",
       "    <tspan class=\"displacy-tag\" dy=\"2em\" fill=\"currentColor\" x=\"50\">DET</tspan>\n",
       "</text>\n",
       "\n",
       "<text class=\"displacy-token\" fill=\"currentColor\" text-anchor=\"middle\" y=\"222.0\">\n",
       "    <tspan class=\"displacy-word\" fill=\"currentColor\" x=\"225\">niña</tspan>\n",
       "    <tspan class=\"displacy-tag\" dy=\"2em\" fill=\"currentColor\" x=\"225\">NOUN</tspan>\n",
       "</text>\n",
       "\n",
       "<text class=\"displacy-token\" fill=\"currentColor\" text-anchor=\"middle\" y=\"222.0\">\n",
       "    <tspan class=\"displacy-word\" fill=\"currentColor\" x=\"400\">come</tspan>\n",
       "    <tspan class=\"displacy-tag\" dy=\"2em\" fill=\"currentColor\" x=\"400\">VERB</tspan>\n",
       "</text>\n",
       "\n",
       "<text class=\"displacy-token\" fill=\"currentColor\" text-anchor=\"middle\" y=\"222.0\">\n",
       "    <tspan class=\"displacy-word\" fill=\"currentColor\" x=\"575\">un</tspan>\n",
       "    <tspan class=\"displacy-tag\" dy=\"2em\" fill=\"currentColor\" x=\"575\">DET</tspan>\n",
       "</text>\n",
       "\n",
       "<text class=\"displacy-token\" fill=\"currentColor\" text-anchor=\"middle\" y=\"222.0\">\n",
       "    <tspan class=\"displacy-word\" fill=\"currentColor\" x=\"750\">suani</tspan>\n",
       "    <tspan class=\"displacy-tag\" dy=\"2em\" fill=\"currentColor\" x=\"750\">PROPN</tspan>\n",
       "</text>\n",
       "\n",
       "<g class=\"displacy-arrow\">\n",
       "    <path class=\"displacy-arc\" id=\"arrow-7616492d10994c8eb00ec6953e72f834-0-0\" stroke-width=\"2px\" d=\"M70,177.0 C70,89.5 220.0,89.5 220.0,177.0\" fill=\"none\" stroke=\"currentColor\"/>\n",
       "    <text dy=\"1.25em\" style=\"font-size: 0.8em; letter-spacing: 1px\">\n",
       "        <textPath xlink:href=\"#arrow-7616492d10994c8eb00ec6953e72f834-0-0\" class=\"displacy-label\" startOffset=\"50%\" side=\"left\" fill=\"currentColor\" text-anchor=\"middle\">det</textPath>\n",
       "    </text>\n",
       "    <path class=\"displacy-arrowhead\" d=\"M70,179.0 L62,167.0 78,167.0\" fill=\"currentColor\"/>\n",
       "</g>\n",
       "\n",
       "<g class=\"displacy-arrow\">\n",
       "    <path class=\"displacy-arc\" id=\"arrow-7616492d10994c8eb00ec6953e72f834-0-1\" stroke-width=\"2px\" d=\"M245,177.0 C245,89.5 395.0,89.5 395.0,177.0\" fill=\"none\" stroke=\"currentColor\"/>\n",
       "    <text dy=\"1.25em\" style=\"font-size: 0.8em; letter-spacing: 1px\">\n",
       "        <textPath xlink:href=\"#arrow-7616492d10994c8eb00ec6953e72f834-0-1\" class=\"displacy-label\" startOffset=\"50%\" side=\"left\" fill=\"currentColor\" text-anchor=\"middle\">nsubj</textPath>\n",
       "    </text>\n",
       "    <path class=\"displacy-arrowhead\" d=\"M245,179.0 L237,167.0 253,167.0\" fill=\"currentColor\"/>\n",
       "</g>\n",
       "\n",
       "<g class=\"displacy-arrow\">\n",
       "    <path class=\"displacy-arc\" id=\"arrow-7616492d10994c8eb00ec6953e72f834-0-2\" stroke-width=\"2px\" d=\"M595,177.0 C595,89.5 745.0,89.5 745.0,177.0\" fill=\"none\" stroke=\"currentColor\"/>\n",
       "    <text dy=\"1.25em\" style=\"font-size: 0.8em; letter-spacing: 1px\">\n",
       "        <textPath xlink:href=\"#arrow-7616492d10994c8eb00ec6953e72f834-0-2\" class=\"displacy-label\" startOffset=\"50%\" side=\"left\" fill=\"currentColor\" text-anchor=\"middle\">det</textPath>\n",
       "    </text>\n",
       "    <path class=\"displacy-arrowhead\" d=\"M595,179.0 L587,167.0 603,167.0\" fill=\"currentColor\"/>\n",
       "</g>\n",
       "\n",
       "<g class=\"displacy-arrow\">\n",
       "    <path class=\"displacy-arc\" id=\"arrow-7616492d10994c8eb00ec6953e72f834-0-3\" stroke-width=\"2px\" d=\"M420,177.0 C420,2.0 750.0,2.0 750.0,177.0\" fill=\"none\" stroke=\"currentColor\"/>\n",
       "    <text dy=\"1.25em\" style=\"font-size: 0.8em; letter-spacing: 1px\">\n",
       "        <textPath xlink:href=\"#arrow-7616492d10994c8eb00ec6953e72f834-0-3\" class=\"displacy-label\" startOffset=\"50%\" side=\"left\" fill=\"currentColor\" text-anchor=\"middle\">obj</textPath>\n",
       "    </text>\n",
       "    <path class=\"displacy-arrowhead\" d=\"M750.0,179.0 L758.0,167.0 742.0,167.0\" fill=\"currentColor\"/>\n",
       "</g>\n",
       "</svg></span>"
      ],
      "text/plain": [
       "<IPython.core.display.HTML object>"
      ]
     },
     "metadata": {},
     "output_type": "display_data"
    }
   ],
   "source": [
    "displacy.render(doc, style=\"dep\")"
   ]
  },
  {
   "cell_type": "code",
   "execution_count": 12,
   "metadata": {
    "colab": {
     "base_uri": "https://localhost:8080/"
    },
    "id": "mIqAllFrbF46",
    "outputId": "da6a9cf8-f544-4cbf-dd4d-723673f4a68f"
   },
   "outputs": [
    {
     "name": "stdout",
     "output_type": "stream",
     "text": [
      "text:: La niña\n",
      "root:: niña\n",
      "root dep:: nsubj\n",
      "root head:: come\n",
      "==========\n",
      "text:: un suani\n",
      "root:: suani\n",
      "root dep:: obj\n",
      "root head:: come\n",
      "==========\n"
     ]
    }
   ],
   "source": [
    "for chunk in doc.noun_chunks:\n",
    "    print(\"text::\", chunk.text)\n",
    "    print(\"root::\", chunk.root.text)\n",
    "    print(\"root dep::\", chunk.root.dep_)\n",
    "    print(\"root head::\", chunk.root.head.text)\n",
    "    print(\"=\"*10)"
   ]
  },
  {
   "cell_type": "code",
   "execution_count": 13,
   "metadata": {
    "colab": {
     "base_uri": "https://localhost:8080/"
    },
    "id": "4g3avqyKbKwO",
    "outputId": "e9e418e4-afc9-4edc-d5e5-01ff942759f0"
   },
   "outputs": [
    {
     "name": "stdout",
     "output_type": "stream",
     "text": [
      "token:: La\n",
      "dep:: det\n",
      "head:: niña\n",
      "head POS:: NOUN\n",
      "CHILDS\n",
      "[]\n",
      "==========\n",
      "token:: niña\n",
      "dep:: nsubj\n",
      "head:: come\n",
      "head POS:: VERB\n",
      "CHILDS\n",
      "[La]\n",
      "==========\n",
      "token:: come\n",
      "dep:: ROOT\n",
      "head:: come\n",
      "head POS:: VERB\n",
      "CHILDS\n",
      "[niña, suani]\n",
      "==========\n",
      "token:: un\n",
      "dep:: det\n",
      "head:: suani\n",
      "head POS:: PROPN\n",
      "CHILDS\n",
      "[]\n",
      "==========\n",
      "token:: suani\n",
      "dep:: obj\n",
      "head:: come\n",
      "head POS:: VERB\n",
      "CHILDS\n",
      "[un]\n",
      "==========\n"
     ]
    }
   ],
   "source": [
    "for token in doc:\n",
    "    print(\"token::\", token.text)\n",
    "    print(\"dep::\", token.dep_)\n",
    "    print(\"head::\", token.head.text)\n",
    "    print(\"head POS::\", token.head.pos_)\n",
    "    print(\"CHILDS\")\n",
    "    print([child for child in token.children])\n",
    "    print(\"=\"*10)"
   ]
  },
  {
   "cell_type": "markdown",
   "metadata": {
    "id": "MiJGt0WI1HiD"
   },
   "source": [
    "#### Named Entity Recognition (NER)"
   ]
  },
  {
   "cell_type": "markdown",
   "metadata": {
    "id": "0GQRUJgT-tTd"
   },
   "source": [
    "El etiquetado NER consiste en identificar \"objetos de la vida real\" como organizaciones, paises, personas, entre otras y asignarles su etiqueta correspondiente. Esta tarea es del tipo *sequence labeling* ya que dado un texto de entrada el modelo debe identificar los intervalos del texto y etiquetarlos adecuadamente con la entidad que le corresponde. Veremos un ejemplo a continuación."
   ]
  },
  {
   "cell_type": "code",
   "execution_count": 14,
   "metadata": {
    "colab": {
     "base_uri": "https://localhost:8080/"
    },
    "id": "EoeHIVzBT3BJ",
    "outputId": "1adde8f8-4061-4fe8-b9b4-4b2b1a645475"
   },
   "outputs": [
    {
     "name": "stdout",
     "output_type": "stream",
     "text": [
      "Requirement already satisfied: datasets in c:\\users\\david\\miniconda3\\envs\\pln\\lib\\site-packages (3.3.2)\n",
      "Requirement already satisfied: filelock in c:\\users\\david\\miniconda3\\envs\\pln\\lib\\site-packages (from datasets) (3.16.1)\n",
      "Requirement already satisfied: numpy>=1.17 in c:\\users\\david\\miniconda3\\envs\\pln\\lib\\site-packages (from datasets) (1.26.4)\n",
      "Requirement already satisfied: pyarrow>=15.0.0 in c:\\users\\david\\miniconda3\\envs\\pln\\lib\\site-packages (from datasets) (17.0.0)\n",
      "Requirement already satisfied: dill<0.3.9,>=0.3.0 in c:\\users\\david\\miniconda3\\envs\\pln\\lib\\site-packages (from datasets) (0.3.8)\n",
      "Requirement already satisfied: pandas in c:\\users\\david\\miniconda3\\envs\\pln\\lib\\site-packages (from datasets) (2.2.3)\n",
      "Requirement already satisfied: requests>=2.32.2 in c:\\users\\david\\miniconda3\\envs\\pln\\lib\\site-packages (from datasets) (2.32.3)\n",
      "Requirement already satisfied: tqdm>=4.66.3 in c:\\users\\david\\miniconda3\\envs\\pln\\lib\\site-packages (from datasets) (4.66.5)\n",
      "Requirement already satisfied: xxhash in c:\\users\\david\\miniconda3\\envs\\pln\\lib\\site-packages (from datasets) (3.5.0)\n",
      "Requirement already satisfied: multiprocess<0.70.17 in c:\\users\\david\\miniconda3\\envs\\pln\\lib\\site-packages (from datasets) (0.70.16)\n",
      "Requirement already satisfied: fsspec<=2024.12.0,>=2023.1.0 in c:\\users\\david\\miniconda3\\envs\\pln\\lib\\site-packages (from fsspec[http]<=2024.12.0,>=2023.1.0->datasets) (2024.9.0)\n",
      "Requirement already satisfied: aiohttp in c:\\users\\david\\miniconda3\\envs\\pln\\lib\\site-packages (from datasets) (3.11.13)\n",
      "Requirement already satisfied: huggingface-hub>=0.24.0 in c:\\users\\david\\miniconda3\\envs\\pln\\lib\\site-packages (from datasets) (0.29.1)\n",
      "Requirement already satisfied: packaging in c:\\users\\david\\miniconda3\\envs\\pln\\lib\\site-packages (from datasets) (24.1)\n",
      "Requirement already satisfied: pyyaml>=5.1 in c:\\users\\david\\miniconda3\\envs\\pln\\lib\\site-packages (from datasets) (6.0.2)\n",
      "Requirement already satisfied: aiohappyeyeballs>=2.3.0 in c:\\users\\david\\miniconda3\\envs\\pln\\lib\\site-packages (from aiohttp->datasets) (2.4.6)\n",
      "Requirement already satisfied: aiosignal>=1.1.2 in c:\\users\\david\\miniconda3\\envs\\pln\\lib\\site-packages (from aiohttp->datasets) (1.3.2)\n",
      "Requirement already satisfied: attrs>=17.3.0 in c:\\users\\david\\miniconda3\\envs\\pln\\lib\\site-packages (from aiohttp->datasets) (24.2.0)\n",
      "Requirement already satisfied: frozenlist>=1.1.1 in c:\\users\\david\\miniconda3\\envs\\pln\\lib\\site-packages (from aiohttp->datasets) (1.5.0)\n",
      "Requirement already satisfied: multidict<7.0,>=4.5 in c:\\users\\david\\miniconda3\\envs\\pln\\lib\\site-packages (from aiohttp->datasets) (6.1.0)\n",
      "Requirement already satisfied: propcache>=0.2.0 in c:\\users\\david\\miniconda3\\envs\\pln\\lib\\site-packages (from aiohttp->datasets) (0.3.0)\n",
      "Requirement already satisfied: yarl<2.0,>=1.17.0 in c:\\users\\david\\miniconda3\\envs\\pln\\lib\\site-packages (from aiohttp->datasets) (1.18.3)\n",
      "Requirement already satisfied: typing-extensions>=3.7.4.3 in c:\\users\\david\\miniconda3\\envs\\pln\\lib\\site-packages (from huggingface-hub>=0.24.0->datasets) (4.12.2)\n",
      "Requirement already satisfied: charset-normalizer<4,>=2 in c:\\users\\david\\miniconda3\\envs\\pln\\lib\\site-packages (from requests>=2.32.2->datasets) (3.3.2)\n",
      "Requirement already satisfied: idna<4,>=2.5 in c:\\users\\david\\miniconda3\\envs\\pln\\lib\\site-packages (from requests>=2.32.2->datasets) (3.10)\n",
      "Requirement already satisfied: urllib3<3,>=1.21.1 in c:\\users\\david\\miniconda3\\envs\\pln\\lib\\site-packages (from requests>=2.32.2->datasets) (2.2.3)\n",
      "Requirement already satisfied: certifi>=2017.4.17 in c:\\users\\david\\miniconda3\\envs\\pln\\lib\\site-packages (from requests>=2.32.2->datasets) (2024.8.30)\n",
      "Requirement already satisfied: colorama in c:\\users\\david\\miniconda3\\envs\\pln\\lib\\site-packages (from tqdm>=4.66.3->datasets) (0.4.6)\n",
      "Requirement already satisfied: python-dateutil>=2.8.2 in c:\\users\\david\\miniconda3\\envs\\pln\\lib\\site-packages (from pandas->datasets) (2.9.0)\n",
      "Requirement already satisfied: pytz>=2020.1 in c:\\users\\david\\miniconda3\\envs\\pln\\lib\\site-packages (from pandas->datasets) (2024.2)\n",
      "Requirement already satisfied: tzdata>=2022.7 in c:\\users\\david\\miniconda3\\envs\\pln\\lib\\site-packages (from pandas->datasets) (2024.2)\n",
      "Requirement already satisfied: six>=1.5 in c:\\users\\david\\miniconda3\\envs\\pln\\lib\\site-packages (from python-dateutil>=2.8.2->pandas->datasets) (1.16.0)\n"
     ]
    }
   ],
   "source": [
    "!pip install datasets"
   ]
  },
  {
   "cell_type": "code",
   "execution_count": 15,
   "metadata": {
    "id": "e6WeOj09UHoN"
   },
   "outputs": [
    {
     "name": "stderr",
     "output_type": "stream",
     "text": [
      "c:\\Users\\david\\miniconda3\\envs\\PLN\\Lib\\site-packages\\tqdm\\auto.py:21: TqdmWarning: IProgress not found. Please update jupyter and ipywidgets. See https://ipywidgets.readthedocs.io/en/stable/user_install.html\n",
      "  from .autonotebook import tqdm as notebook_tqdm\n"
     ]
    }
   ],
   "source": [
    "from datasets import load_dataset"
   ]
  },
  {
   "cell_type": "code",
   "execution_count": 16,
   "metadata": {
    "id": "gv83cHA0UNCk"
   },
   "outputs": [],
   "source": [
    "data = load_dataset(\"alexfabbri/multi_news\", trust_remote_code=True)"
   ]
  },
  {
   "cell_type": "code",
   "execution_count": 17,
   "metadata": {
    "id": "puh9XC7SaHpU"
   },
   "outputs": [
    {
     "data": {
      "text/plain": [
       "\u001b[1;31mType:\u001b[0m        DatasetDict\n",
       "\u001b[1;31mString form:\u001b[0m\n",
       "DatasetDict({\n",
       "           train: Dataset({\n",
       "           features: ['document', 'summary'],\n",
       "           num_rows: 4 <...> )\n",
       "           test: Dataset({\n",
       "           features: ['document', 'summary'],\n",
       "           num_rows: 5622\n",
       "           })\n",
       "           })\n",
       "\u001b[1;31mLength:\u001b[0m      3\n",
       "\u001b[1;31mFile:\u001b[0m        c:\\users\\david\\miniconda3\\envs\\pln\\lib\\site-packages\\datasets\\dataset_dict.py\n",
       "\u001b[1;31mDocstring:\u001b[0m   A dictionary (dict of str: datasets.Dataset) with dataset transforms methods (map, filter, etc.)"
      ]
     },
     "metadata": {},
     "output_type": "display_data"
    }
   ],
   "source": [
    "# Explorar data\n",
    "data?"
   ]
  },
  {
   "cell_type": "code",
   "execution_count": 18,
   "metadata": {
    "colab": {
     "base_uri": "https://localhost:8080/"
    },
    "id": "MfP_qJEg3i9V",
    "outputId": "68da7aea-286c-4d06-9a9a-6108cb58b6f1"
   },
   "outputs": [
    {
     "name": "stdout",
     "output_type": "stream",
     "text": [
      "Collecting en-core-web-md==3.8.0\n",
      "  Downloading https://github.com/explosion/spacy-models/releases/download/en_core_web_md-3.8.0/en_core_web_md-3.8.0-py3-none-any.whl (33.5 MB)\n",
      "     ---------------------------------------- 0.0/33.5 MB ? eta -:--:--\n",
      "     ---------------------------------------- 0.3/33.5 MB ? eta -:--:--\n",
      "     - -------------------------------------- 1.3/33.5 MB 4.8 MB/s eta 0:00:07\n",
      "     ----- ---------------------------------- 5.0/33.5 MB 13.7 MB/s eta 0:00:03\n",
      "     ------------- ------------------------- 11.8/33.5 MB 18.5 MB/s eta 0:00:02\n",
      "     -------------------- ------------------ 17.8/33.5 MB 21.2 MB/s eta 0:00:01\n",
      "     --------------------------- ----------- 23.9/33.5 MB 22.2 MB/s eta 0:00:01\n",
      "     ---------------------------------- ---- 29.9/33.5 MB 23.4 MB/s eta 0:00:01\n",
      "     --------------------------------------  33.3/33.5 MB 23.2 MB/s eta 0:00:01\n",
      "     --------------------------------------- 33.5/33.5 MB 22.1 MB/s eta 0:00:00\n",
      "\u001b[38;5;2m[+] Download and installation successful\u001b[0m\n",
      "You can now load the package via spacy.load('en_core_web_md')\n"
     ]
    }
   ],
   "source": [
    "!python -m spacy download en_core_web_md"
   ]
  },
  {
   "cell_type": "code",
   "execution_count": 19,
   "metadata": {
    "id": "Esenu1zv3MLo"
   },
   "outputs": [],
   "source": [
    "nlp = spacy.load(\"en_core_web_md\")"
   ]
  },
  {
   "cell_type": "code",
   "execution_count": 20,
   "metadata": {
    "colab": {
     "base_uri": "https://localhost:8080/"
    },
    "id": "Ou6WgAjIVmBF",
    "outputId": "575aa00f-57a5-49e9-b262-dc1589b07495"
   },
   "outputs": [
    {
     "name": "stdout",
     "output_type": "stream",
     "text": [
      "DOC #1\n",
      " - - - - - - - - - - Entity #0\n",
      "\tTexto=Washington\n",
      "\tstart/end=2-12\n",
      "\tLabel=GPE\n",
      " - - - - - - - - - - Entity #1\n",
      "\tTexto=last night\n",
      "\tstart/end=26-36\n",
      "\tLabel=TIME\n",
      " - - - - - - - - - - Entity #2\n",
      "\tTexto=annual\n",
      "\tstart/end=46-52\n",
      "\tLabel=DATE\n",
      " - - - - - - - - - - Entity #3\n",
      "\tTexto=the White House Correspondents Dinner\n",
      "\tstart/end=83-120\n",
      "\tLabel=ORG\n",
      " - - - - - - - - - - Entity #4\n",
      "\tTexto=Nerd Prom\n",
      "\tstart/end=125-134\n",
      "\tLabel=PERSON\n",
      " - - - - - - - - - - Entity #5\n",
      "\tTexto=Saturday Night Live's Cecily Strong\n",
      "\tstart/end=142-177\n",
      "\tLabel=WORK_OF_ART\n",
      " - - - - - - - - - - Entity #6\n",
      "\tTexto=Obama\n",
      "\tstart/end=268-273\n",
      "\tLabel=PERSON\n",
      " - - - - - - - - - - Entity #7\n",
      "\tTexto=Hollywood\n",
      "\tstart/end=318-327\n",
      "\tLabel=GPE\n",
      " - - - - - - - - - - Entity #8\n",
      "\tTexto=the Secret Service\n",
      "\tstart/end=361-379\n",
      "\tLabel=ORG\n",
      " - - - - - - - - - - Entity #9\n",
      "\tTexto=NPR\n",
      "\tstart/end=527-530\n",
      "\tLabel=ORG\n",
      " - - - - - - - - - - Entity #10\n",
      "\tTexto=AP\n",
      "\tstart/end=539-541\n",
      "\tLabel=ORG\n",
      " - - - - - - - - - - Entity #11\n",
      "\tTexto=Today\n",
      "\tstart/end=544-549\n",
      "\tLabel=DATE\n",
      " - - - - - - - - - - Entity #12\n",
      "\tTexto=ObamaCare\n",
      "\tstart/end=561-570\n",
      "\tLabel=NORP\n",
      " - - - - - - - - - - Entity #13\n",
      "\tTexto=Senate\n",
      "\tstart/end=667-673\n",
      "\tLabel=ORG\n",
      " - - - - - - - - - - Entity #14\n",
      "\tTexto=Democrats\n",
      "\tstart/end=674-683\n",
      "\tLabel=NORP\n",
      " - - - - - - - - - - Entity #15\n",
      "\tTexto=first\n",
      "\tstart/end=697-702\n",
      "\tLabel=ORDINAL\n",
      " - - - - - - - - - - Entity #16\n",
      "\tTexto=Koch\n",
      "\tstart/end=782-786\n",
      "\tLabel=PERSON\n",
      " - - - - - - - - - - Entity #17\n",
      "\tTexto=Marco Rubio\n",
      "\tstart/end=829-840\n",
      "\tLabel=PERSON\n",
      " - - - - - - - - - - Entity #18\n",
      "\tTexto=Rand Paul\n",
      "\tstart/end=842-851\n",
      "\tLabel=PERSON\n",
      " - - - - - - - - - - Entity #19\n",
      "\tTexto=Ted Cruz\n",
      "\tstart/end=853-861\n",
      "\tLabel=PERSON\n",
      " - - - - - - - - - - Entity #20\n",
      "\tTexto=Jeb Bush\n",
      "\tstart/end=863-871\n",
      "\tLabel=PERSON\n",
      " - - - - - - - - - - Entity #21\n",
      "\tTexto=Scott Walker\n",
      "\tstart/end=873-885\n",
      "\tLabel=PERSON\n",
      " - - - - - - - - - - Entity #22\n",
      "\tTexto=Just this week\n",
      "\tstart/end=928-942\n",
      "\tLabel=DATE\n",
      " - - - - - - - - - - Entity #23\n",
      "\tTexto=Michele Bachmann\n",
      "\tstart/end=943-959\n",
      "\tLabel=PERSON\n",
      " - - - - - - - - - - Entity #24\n",
      "\tTexto=end of days\n",
      "\tstart/end=1017-1028\n",
      "\tLabel=DATE\n",
      " - - - - - - - - - - Entity #25\n",
      "\tTexto=Lincoln\n",
      "\tstart/end=1072-1079\n",
      "\tLabel=ORG\n",
      " - - - - - - - - - - Entity #26\n",
      "\tTexto=Washington\n",
      "\tstart/end=1081-1091\n",
      "\tLabel=GPE\n",
      " - - - - - - - - - - Entity #27\n",
      "\tTexto=just a few weeks ago\n",
      "\tstart/end=1158-1178\n",
      "\tLabel=DATE\n",
      " - - - - - - - - - - Entity #28\n",
      "\tTexto=millions of dollars\n",
      "\tstart/end=1195-1214\n",
      "\tLabel=MONEY\n",
      " - - - - - - - - - - Entity #29\n",
      "\tTexto=Iowa\n",
      "\tstart/end=1260-1264\n",
      "\tLabel=GPE\n",
      " - - - - - - - - - - Entity #30\n",
      "\tTexto=Joe Biden\n",
      "\tstart/end=1274-1283\n",
      "\tLabel=PERSON\n",
      " - - - - - - - - - - Entity #31\n",
      "\tTexto=Indiana\n",
      "\tstart/end=1325-1332\n",
      "\tLabel=GPE\n",
      " - - - - - - - - - - Entity #32\n",
      "\tTexto=John Boehner's\n",
      "\tstart/end=1447-1461\n",
      "\tLabel=PERSON\n",
      " - - - - - - - - - - Entity #33\n",
      "\tTexto=Netanyahu\n",
      "\tstart/end=1478-1487\n",
      "\tLabel=PERSON\n",
      "DOC #2\n",
      " - - - - - - - - - - Entity #0\n",
      "\tTexto=Justin Bieber\n",
      "\tstart/end=2-15\n",
      "\tLabel=ORG\n",
      " - - - - - - - - - - Entity #1\n",
      "\tTexto=last night\n",
      "\tstart/end=45-55\n",
      "\tLabel=TIME\n",
      " - - - - - - - - - - Entity #2\n",
      "\tTexto=first\n",
      "\tstart/end=74-79\n",
      "\tLabel=ORDINAL\n",
      " - - - - - - - - - - Entity #3\n",
      "\tTexto=three years\n",
      "\tstart/end=89-100\n",
      "\tLabel=DATE\n",
      " - - - - - - - - - - Entity #4\n",
      "\tTexto=Sunday\n",
      "\tstart/end=168-174\n",
      "\tLabel=DATE\n",
      " - - - - - - - - - - Entity #5\n",
      "\tTexto=21-year-old\n",
      "\tstart/end=346-357\n",
      "\tLabel=DATE\n",
      " - - - - - - - - - - Entity #6\n",
      "\tTexto=Bieber\n",
      "\tstart/end=510-516\n",
      "\tLabel=PERSON\n",
      " - - - - - - - - - - Entity #7\n",
      "\tTexto=Bieber\n",
      "\tstart/end=769-775\n",
      "\tLabel=PERSON\n",
      " - - - - - - - - - - Entity #8\n",
      "\tTexto=Jimmy Fallon's\n",
      "\tstart/end=844-858\n",
      "\tLabel=PERSON\n",
      " - - - - - - - - - - Entity #9\n",
      "\tTexto=The Biebs'\n",
      "\tstart/end=895-905\n",
      "\tLabel=WORK_OF_ART\n",
      " - - - - - - - - - - Entity #10\n",
      "\tTexto=Nov. 13\n",
      "\tstart/end=922-929\n",
      "\tLabel=DATE\n",
      " - - - - - - - - - - Entity #11\n",
      "\tTexto=first\n",
      "\tstart/end=935-940\n",
      "\tLabel=ORDINAL\n",
      " - - - - - - - - - - Entity #12\n",
      "\tTexto=What Do You Mean\n",
      "\tstart/end=950-966\n",
      "\tLabel=WORK_OF_ART\n",
      " - - - - - - - - - - Entity #13\n",
      "\tTexto=89\n",
      "\tstart/end=1010-1012\n",
      "\tLabel=CARDINAL\n",
      " - - - - - - - - - - Entity #14\n",
      "\tTexto=Fallon\n",
      "\tstart/end=1024-1030\n",
      "\tLabel=PERSON\n",
      " - - - - - - - - - - Entity #15\n",
      "\tTexto=Selena Gomez\n",
      "\tstart/end=1078-1090\n",
      "\tLabel=PERSON\n",
      "DOC #3\n",
      " - - - - - - - - - - Entity #0\n",
      "\tTexto=More than 30\n",
      "\tstart/end=2-14\n",
      "\tLabel=CARDINAL\n",
      " - - - - - - - - - - Entity #1\n",
      "\tTexto=Malaysia Airlines\n",
      "\tstart/end=65-82\n",
      "\tLabel=ORG\n",
      " - - - - - - - - - - Entity #2\n",
      "\tTexto=Flight 370\n",
      "\tstart/end=83-93\n",
      "\tLabel=PRODUCT\n",
      " - - - - - - - - - - Entity #3\n",
      "\tTexto=Beijing\n",
      "\tstart/end=118-125\n",
      "\tLabel=GPE\n",
      " - - - - - - - - - - Entity #4\n",
      "\tTexto=today\n",
      "\tstart/end=126-131\n",
      "\tLabel=DATE\n",
      " - - - - - - - - - - Entity #5\n",
      "\tTexto=six-month\n",
      "\tstart/end=144-153\n",
      "\tLabel=DATE\n",
      " - - - - - - - - - - Entity #6\n",
      "\tTexto=AP\n",
      "\tstart/end=200-202\n",
      "\tLabel=ORG\n",
      " - - - - - - - - - - Entity #7\n",
      "\tTexto=MH370\n",
      "\tstart/end=278-283\n",
      "\tLabel=PRODUCT\n",
      " - - - - - - - - - - Entity #8\n",
      "\tTexto=one\n",
      "\tstart/end=327-330\n",
      "\tLabel=CARDINAL\n",
      " - - - - - - - - - - Entity #9\n",
      "\tTexto=two\n",
      "\tstart/end=505-508\n",
      "\tLabel=CARDINAL\n",
      " - - - - - - - - - - Entity #10\n",
      "\tTexto=Chinese\n",
      "\tstart/end=568-575\n",
      "\tLabel=NORP\n",
      " - - - - - - - - - - Entity #11\n",
      "\tTexto=March 8\n",
      "\tstart/end=693-700\n",
      "\tLabel=DATE\n",
      " - - - - - - - - - - Entity #12\n",
      "\tTexto=23,000-square-mile\n",
      "\tstart/end=732-750\n",
      "\tLabel=QUANTITY\n",
      " - - - - - - - - - - Entity #13\n",
      "\tTexto=the Indian Ocean\n",
      "\tstart/end=762-778\n",
      "\tLabel=LOC\n",
      " - - - - - - - - - - Entity #14\n",
      "\tTexto=AP\n",
      "\tstart/end=865-867\n",
      "\tLabel=ORG\n",
      " - - - - - - - - - - Entity #15\n",
      "\tTexto=one\n",
      "\tstart/end=906-909\n",
      "\tLabel=CARDINAL\n",
      " - - - - - - - - - - Entity #16\n",
      "\tTexto=Malaysian\n",
      "\tstart/end=1077-1086\n",
      "\tLabel=NORP\n",
      " - - - - - - - - - - Entity #17\n",
      "\tTexto=CBS News\n",
      "\tstart/end=1173-1181\n",
      "\tLabel=ORG\n",
      " - - - - - - - - - - Entity #18\n",
      "\tTexto=Philip home\n",
      "\tstart/end=1200-1211\n",
      "\tLabel=ORG\n",
      " - - - - - - - - - - Entity #19\n",
      "\tTexto=one\n",
      "\tstart/end=1270-1273\n",
      "\tLabel=CARDINAL\n",
      " - - - - - - - - - - Entity #20\n",
      "\tTexto=two\n",
      "\tstart/end=1281-1284\n",
      "\tLabel=CARDINAL\n"
     ]
    }
   ],
   "source": [
    "import random\n",
    "\n",
    "random.seed(42)\n",
    "corpus = random.choices(data[\"train\"][\"summary\"], k=3)\n",
    "docs = list(nlp.pipe(corpus))\n",
    "for j, doc in enumerate(docs):\n",
    "    print(f\"DOC #{j+1}\")\n",
    "    doc.user_data[\"title\"] = \" \".join(doc.text.split()[:10])\n",
    "    for i, ent in enumerate(doc.ents):\n",
    "        print(\" -\"*10, f\"Entity #{i}\")\n",
    "        print(f\"\\tTexto={ent.text}\")\n",
    "        print(f\"\\tstart/end={ent.start_char}-{ent.end_char}\")\n",
    "        print(f\"\\tLabel={ent.label_}\")"
   ]
  },
  {
   "cell_type": "code",
   "execution_count": 21,
   "metadata": {
    "colab": {
     "base_uri": "https://localhost:8080/",
     "height": 1000
    },
    "id": "SuRORHJb74Th",
    "outputId": "6d5f1a88-5775-442c-c433-e5afbacb8b6c"
   },
   "outputs": [
    {
     "data": {
      "text/html": [
       "<span class=\"tex2jax_ignore\"><h2 style=\"margin: 0\">– Washington feted itself last night with the annual exercise</h2>\n",
       "\n",
       "<div class=\"entities\" style=\"line-height: 2.5; direction: ltr\">– \n",
       "<mark class=\"entity\" style=\"background: #feca74; padding: 0.45em 0.6em; margin: 0 0.25em; line-height: 1; border-radius: 0.35em;\">\n",
       "    Washington\n",
       "    <span style=\"font-size: 0.8em; font-weight: bold; line-height: 1; border-radius: 0.35em; vertical-align: middle; margin-left: 0.5rem\">GPE</span>\n",
       "</mark>\n",
       " feted itself \n",
       "<mark class=\"entity\" style=\"background: #bfe1d9; padding: 0.45em 0.6em; margin: 0 0.25em; line-height: 1; border-radius: 0.35em;\">\n",
       "    last night\n",
       "    <span style=\"font-size: 0.8em; font-weight: bold; line-height: 1; border-radius: 0.35em; vertical-align: middle; margin-left: 0.5rem\">TIME</span>\n",
       "</mark>\n",
       " with the \n",
       "<mark class=\"entity\" style=\"background: #bfe1d9; padding: 0.45em 0.6em; margin: 0 0.25em; line-height: 1; border-radius: 0.35em;\">\n",
       "    annual\n",
       "    <span style=\"font-size: 0.8em; font-weight: bold; line-height: 1; border-radius: 0.35em; vertical-align: middle; margin-left: 0.5rem\">DATE</span>\n",
       "</mark>\n",
       " exercise known alternately as \n",
       "<mark class=\"entity\" style=\"background: #7aecec; padding: 0.45em 0.6em; margin: 0 0.25em; line-height: 1; border-radius: 0.35em;\">\n",
       "    the White House Correspondents Dinner\n",
       "    <span style=\"font-size: 0.8em; font-weight: bold; line-height: 1; border-radius: 0.35em; vertical-align: middle; margin-left: 0.5rem\">ORG</span>\n",
       "</mark>\n",
       " or &quot;\n",
       "<mark class=\"entity\" style=\"background: #aa9cfc; padding: 0.45em 0.6em; margin: 0 0.25em; line-height: 1; border-radius: 0.35em;\">\n",
       "    Nerd Prom\n",
       "    <span style=\"font-size: 0.8em; font-weight: bold; line-height: 1; border-radius: 0.35em; vertical-align: middle; margin-left: 0.5rem\">PERSON</span>\n",
       "</mark>\n",
       ",&quot; with \n",
       "<mark class=\"entity\" style=\"background: #f0d0ff; padding: 0.45em 0.6em; margin: 0 0.25em; line-height: 1; border-radius: 0.35em;\">\n",
       "    Saturday Night Live's Cecily Strong\n",
       "    <span style=\"font-size: 0.8em; font-weight: bold; line-height: 1; border-radius: 0.35em; vertical-align: middle; margin-left: 0.5rem\">WORK_OF_ART</span>\n",
       "</mark>\n",
       " getting in some of the strongest zingers. &quot;Your hair is so white now,&quot; she told President \n",
       "<mark class=\"entity\" style=\"background: #aa9cfc; padding: 0.45em 0.6em; margin: 0 0.25em; line-height: 1; border-radius: 0.35em;\">\n",
       "    Obama\n",
       "    <span style=\"font-size: 0.8em; font-weight: bold; line-height: 1; border-radius: 0.35em; vertical-align: middle; margin-left: 0.5rem\">PERSON</span>\n",
       "</mark>\n",
       ", &quot;it can talk back to police.&quot; Further, the \n",
       "<mark class=\"entity\" style=\"background: #feca74; padding: 0.45em 0.6em; margin: 0 0.25em; line-height: 1; border-radius: 0.35em;\">\n",
       "    Hollywood\n",
       "    <span style=\"font-size: 0.8em; font-weight: bold; line-height: 1; border-radius: 0.35em; vertical-align: middle; margin-left: 0.5rem\">GPE</span>\n",
       "</mark>\n",
       " Reporter notes she observed that \n",
       "<mark class=\"entity\" style=\"background: #7aecec; padding: 0.45em 0.6em; margin: 0 0.25em; line-height: 1; border-radius: 0.35em;\">\n",
       "    the Secret Service\n",
       "    <span style=\"font-size: 0.8em; font-weight: bold; line-height: 1; border-radius: 0.35em; vertical-align: middle; margin-left: 0.5rem\">ORG</span>\n",
       "</mark>\n",
       " is &quot;the only law enforcement agency in the country that will get in trouble if a black man gets shot.&quot; Highlights from the president's speech, per \n",
       "<mark class=\"entity\" style=\"background: #7aecec; padding: 0.45em 0.6em; margin: 0 0.25em; line-height: 1; border-radius: 0.35em;\">\n",
       "    NPR\n",
       "    <span style=\"font-size: 0.8em; font-weight: bold; line-height: 1; border-radius: 0.35em; vertical-align: middle; margin-left: 0.5rem\">ORG</span>\n",
       "</mark>\n",
       " and the \n",
       "<mark class=\"entity\" style=\"background: #7aecec; padding: 0.45em 0.6em; margin: 0 0.25em; line-height: 1; border-radius: 0.35em;\">\n",
       "    AP\n",
       "    <span style=\"font-size: 0.8em; font-weight: bold; line-height: 1; border-radius: 0.35em; vertical-align: middle; margin-left: 0.5rem\">ORG</span>\n",
       "</mark>\n",
       ": &quot;\n",
       "<mark class=\"entity\" style=\"background: #bfe1d9; padding: 0.45em 0.6em; margin: 0 0.25em; line-height: 1; border-radius: 0.35em;\">\n",
       "    Today\n",
       "    <span style=\"font-size: 0.8em; font-weight: bold; line-height: 1; border-radius: 0.35em; vertical-align: middle; margin-left: 0.5rem\">DATE</span>\n",
       "</mark>\n",
       ", thanks to \n",
       "<mark class=\"entity\" style=\"background: #c887fb; padding: 0.45em 0.6em; margin: 0 0.25em; line-height: 1; border-radius: 0.35em;\">\n",
       "    ObamaCare\n",
       "    <span style=\"font-size: 0.8em; font-weight: bold; line-height: 1; border-radius: 0.35em; vertical-align: middle; margin-left: 0.5rem\">NORP</span>\n",
       "</mark>\n",
       ", you no longer have to worry about losing your insurance, if you lose your job. You're welcome, \n",
       "<mark class=\"entity\" style=\"background: #7aecec; padding: 0.45em 0.6em; margin: 0 0.25em; line-height: 1; border-radius: 0.35em;\">\n",
       "    Senate\n",
       "    <span style=\"font-size: 0.8em; font-weight: bold; line-height: 1; border-radius: 0.35em; vertical-align: middle; margin-left: 0.5rem\">ORG</span>\n",
       "</mark>\n",
       " \n",
       "<mark class=\"entity\" style=\"background: #c887fb; padding: 0.45em 0.6em; margin: 0 0.25em; line-height: 1; border-radius: 0.35em;\">\n",
       "    Democrats\n",
       "    <span style=\"font-size: 0.8em; font-weight: bold; line-height: 1; border-radius: 0.35em; vertical-align: middle; margin-left: 0.5rem\">NORP</span>\n",
       "</mark>\n",
       ".&quot; &quot;Soon, the \n",
       "<mark class=\"entity\" style=\"background: #e4e7d2; padding: 0.45em 0.6em; margin: 0 0.25em; line-height: 1; border-radius: 0.35em;\">\n",
       "    first\n",
       "    <span style=\"font-size: 0.8em; font-weight: bold; line-height: 1; border-radius: 0.35em; vertical-align: middle; margin-left: 0.5rem\">ORDINAL</span>\n",
       "</mark>\n",
       " presidential contest will take place, and I for one cannot wait to see who the \n",
       "<mark class=\"entity\" style=\"background: #aa9cfc; padding: 0.45em 0.6em; margin: 0 0.25em; line-height: 1; border-radius: 0.35em;\">\n",
       "    Koch\n",
       "    <span style=\"font-size: 0.8em; font-weight: bold; line-height: 1; border-radius: 0.35em; vertical-align: middle; margin-left: 0.5rem\">PERSON</span>\n",
       "</mark>\n",
       " brothers pick. It's exciting.&quot; He added: &quot;\n",
       "<mark class=\"entity\" style=\"background: #aa9cfc; padding: 0.45em 0.6em; margin: 0 0.25em; line-height: 1; border-radius: 0.35em;\">\n",
       "    Marco Rubio\n",
       "    <span style=\"font-size: 0.8em; font-weight: bold; line-height: 1; border-radius: 0.35em; vertical-align: middle; margin-left: 0.5rem\">PERSON</span>\n",
       "</mark>\n",
       ", \n",
       "<mark class=\"entity\" style=\"background: #aa9cfc; padding: 0.45em 0.6em; margin: 0 0.25em; line-height: 1; border-radius: 0.35em;\">\n",
       "    Rand Paul\n",
       "    <span style=\"font-size: 0.8em; font-weight: bold; line-height: 1; border-radius: 0.35em; vertical-align: middle; margin-left: 0.5rem\">PERSON</span>\n",
       "</mark>\n",
       ", \n",
       "<mark class=\"entity\" style=\"background: #aa9cfc; padding: 0.45em 0.6em; margin: 0 0.25em; line-height: 1; border-radius: 0.35em;\">\n",
       "    Ted Cruz\n",
       "    <span style=\"font-size: 0.8em; font-weight: bold; line-height: 1; border-radius: 0.35em; vertical-align: middle; margin-left: 0.5rem\">PERSON</span>\n",
       "</mark>\n",
       ", \n",
       "<mark class=\"entity\" style=\"background: #aa9cfc; padding: 0.45em 0.6em; margin: 0 0.25em; line-height: 1; border-radius: 0.35em;\">\n",
       "    Jeb Bush\n",
       "    <span style=\"font-size: 0.8em; font-weight: bold; line-height: 1; border-radius: 0.35em; vertical-align: middle; margin-left: 0.5rem\">PERSON</span>\n",
       "</mark>\n",
       ", \n",
       "<mark class=\"entity\" style=\"background: #aa9cfc; padding: 0.45em 0.6em; margin: 0 0.25em; line-height: 1; border-radius: 0.35em;\">\n",
       "    Scott Walker\n",
       "    <span style=\"font-size: 0.8em; font-weight: bold; line-height: 1; border-radius: 0.35em; vertical-align: middle; margin-left: 0.5rem\">PERSON</span>\n",
       "</mark>\n",
       " ... who will finally get that red rose?&quot; &quot;\n",
       "<mark class=\"entity\" style=\"background: #bfe1d9; padding: 0.45em 0.6em; margin: 0 0.25em; line-height: 1; border-radius: 0.35em;\">\n",
       "    Just this week\n",
       "    <span style=\"font-size: 0.8em; font-weight: bold; line-height: 1; border-radius: 0.35em; vertical-align: middle; margin-left: 0.5rem\">DATE</span>\n",
       "</mark>\n",
       " \n",
       "<mark class=\"entity\" style=\"background: #aa9cfc; padding: 0.45em 0.6em; margin: 0 0.25em; line-height: 1; border-radius: 0.35em;\">\n",
       "    Michele Bachmann\n",
       "    <span style=\"font-size: 0.8em; font-weight: bold; line-height: 1; border-radius: 0.35em; vertical-align: middle; margin-left: 0.5rem\">PERSON</span>\n",
       "</mark>\n",
       " actually predicted that I would bring about the biblical \n",
       "<mark class=\"entity\" style=\"background: #bfe1d9; padding: 0.45em 0.6em; margin: 0 0.25em; line-height: 1; border-radius: 0.35em;\">\n",
       "    end of days\n",
       "    <span style=\"font-size: 0.8em; font-weight: bold; line-height: 1; border-radius: 0.35em; vertical-align: middle; margin-left: 0.5rem\">DATE</span>\n",
       "</mark>\n",
       ". Now, that's a legacy. That's big. I mean, \n",
       "<mark class=\"entity\" style=\"background: #7aecec; padding: 0.45em 0.6em; margin: 0 0.25em; line-height: 1; border-radius: 0.35em;\">\n",
       "    Lincoln\n",
       "    <span style=\"font-size: 0.8em; font-weight: bold; line-height: 1; border-radius: 0.35em; vertical-align: middle; margin-left: 0.5rem\">ORG</span>\n",
       "</mark>\n",
       ", \n",
       "<mark class=\"entity\" style=\"background: #feca74; padding: 0.45em 0.6em; margin: 0 0.25em; line-height: 1; border-radius: 0.35em;\">\n",
       "    Washington\n",
       "    <span style=\"font-size: 0.8em; font-weight: bold; line-height: 1; border-radius: 0.35em; vertical-align: middle; margin-left: 0.5rem\">GPE</span>\n",
       "</mark>\n",
       ", they didn't do that.&quot; The economy's so bad that &quot;I had a friend, \n",
       "<mark class=\"entity\" style=\"background: #bfe1d9; padding: 0.45em 0.6em; margin: 0 0.25em; line-height: 1; border-radius: 0.35em;\">\n",
       "    just a few weeks ago\n",
       "    <span style=\"font-size: 0.8em; font-weight: bold; line-height: 1; border-radius: 0.35em; vertical-align: middle; margin-left: 0.5rem\">DATE</span>\n",
       "</mark>\n",
       ", she was making \n",
       "<mark class=\"entity\" style=\"background: #e4e7d2; padding: 0.45em 0.6em; margin: 0 0.25em; line-height: 1; border-radius: 0.35em;\">\n",
       "    millions of dollars\n",
       "    <span style=\"font-size: 0.8em; font-weight: bold; line-height: 1; border-radius: 0.35em; vertical-align: middle; margin-left: 0.5rem\">MONEY</span>\n",
       "</mark>\n",
       " a year, and now she's living out of a van in \n",
       "<mark class=\"entity\" style=\"background: #feca74; padding: 0.45em 0.6em; margin: 0 0.25em; line-height: 1; border-radius: 0.35em;\">\n",
       "    Iowa\n",
       "    <span style=\"font-size: 0.8em; font-weight: bold; line-height: 1; border-radius: 0.35em; vertical-align: middle; margin-left: 0.5rem\">GPE</span>\n",
       "</mark>\n",
       ".&quot; He and \n",
       "<mark class=\"entity\" style=\"background: #aa9cfc; padding: 0.45em 0.6em; margin: 0 0.25em; line-height: 1; border-radius: 0.35em;\">\n",
       "    Joe Biden\n",
       "    <span style=\"font-size: 0.8em; font-weight: bold; line-height: 1; border-radius: 0.35em; vertical-align: middle; margin-left: 0.5rem\">PERSON</span>\n",
       "</mark>\n",
       " have &quot;gotten so close, in some places in \n",
       "<mark class=\"entity\" style=\"background: #feca74; padding: 0.45em 0.6em; margin: 0 0.25em; line-height: 1; border-radius: 0.35em;\">\n",
       "    Indiana\n",
       "    <span style=\"font-size: 0.8em; font-weight: bold; line-height: 1; border-radius: 0.35em; vertical-align: middle; margin-left: 0.5rem\">GPE</span>\n",
       "</mark>\n",
       ", they won't serve us pizza anymore.&quot; &quot;People say I'm arrogant and aloof. Some people are so dumb.&quot; &quot;I look so old \n",
       "<mark class=\"entity\" style=\"background: #aa9cfc; padding: 0.45em 0.6em; margin: 0 0.25em; line-height: 1; border-radius: 0.35em;\">\n",
       "    John Boehner's\n",
       "    <span style=\"font-size: 0.8em; font-weight: bold; line-height: 1; border-radius: 0.35em; vertical-align: middle; margin-left: 0.5rem\">PERSON</span>\n",
       "</mark>\n",
       " already invited \n",
       "<mark class=\"entity\" style=\"background: #aa9cfc; padding: 0.45em 0.6em; margin: 0 0.25em; line-height: 1; border-radius: 0.35em;\">\n",
       "    Netanyahu\n",
       "    <span style=\"font-size: 0.8em; font-weight: bold; line-height: 1; border-radius: 0.35em; vertical-align: middle; margin-left: 0.5rem\">PERSON</span>\n",
       "</mark>\n",
       " to speak at my funeral.&quot;</div>\n",
       "\n",
       "<h2 style=\"margin: 0\">– Justin Bieber appeared on the Tonight Show last night</h2>\n",
       "\n",
       "<div class=\"entities\" style=\"line-height: 2.5; direction: ltr\">– \n",
       "<mark class=\"entity\" style=\"background: #7aecec; padding: 0.45em 0.6em; margin: 0 0.25em; line-height: 1; border-radius: 0.35em;\">\n",
       "    Justin Bieber\n",
       "    <span style=\"font-size: 0.8em; font-weight: bold; line-height: 1; border-radius: 0.35em; vertical-align: middle; margin-left: 0.5rem\">ORG</span>\n",
       "</mark>\n",
       " appeared on the Tonight Show \n",
       "<mark class=\"entity\" style=\"background: #bfe1d9; padding: 0.45em 0.6em; margin: 0 0.25em; line-height: 1; border-radius: 0.35em;\">\n",
       "    last night\n",
       "    <span style=\"font-size: 0.8em; font-weight: bold; line-height: 1; border-radius: 0.35em; vertical-align: middle; margin-left: 0.5rem\">TIME</span>\n",
       "</mark>\n",
       " to talk about his \n",
       "<mark class=\"entity\" style=\"background: #e4e7d2; padding: 0.45em 0.6em; margin: 0 0.25em; line-height: 1; border-radius: 0.35em;\">\n",
       "    first\n",
       "    <span style=\"font-size: 0.8em; font-weight: bold; line-height: 1; border-radius: 0.35em; vertical-align: middle; margin-left: 0.5rem\">ORDINAL</span>\n",
       "</mark>\n",
       " album in \n",
       "<mark class=\"entity\" style=\"background: #bfe1d9; padding: 0.45em 0.6em; margin: 0 0.25em; line-height: 1; border-radius: 0.35em;\">\n",
       "    three years\n",
       "    <span style=\"font-size: 0.8em; font-weight: bold; line-height: 1; border-radius: 0.35em; vertical-align: middle; margin-left: 0.5rem\">DATE</span>\n",
       "</mark>\n",
       " and ended up explaining the tearful end to his VMAs performance on \n",
       "<mark class=\"entity\" style=\"background: #bfe1d9; padding: 0.45em 0.6em; margin: 0 0.25em; line-height: 1; border-radius: 0.35em;\">\n",
       "    Sunday\n",
       "    <span style=\"font-size: 0.8em; font-weight: bold; line-height: 1; border-radius: 0.35em; vertical-align: middle; margin-left: 0.5rem\">DATE</span>\n",
       "</mark>\n",
       ". &quot;It was just so overwhelming for me, everything, just the performance—I missed some cues so I was a little disappointed at that—and just everyone, just the support,&quot; the \n",
       "<mark class=\"entity\" style=\"background: #bfe1d9; padding: 0.45em 0.6em; margin: 0 0.25em; line-height: 1; border-radius: 0.35em;\">\n",
       "    21-year-old\n",
       "    <span style=\"font-size: 0.8em; font-weight: bold; line-height: 1; border-radius: 0.35em; vertical-align: middle; margin-left: 0.5rem\">DATE</span>\n",
       "</mark>\n",
       " said, per People. &quot;Honestly, I just wasn't expecting them to support me in the way they did,&quot; he added. &quot;Last time I was at an award show I was booed.&quot; \n",
       "<mark class=\"entity\" style=\"background: #aa9cfc; padding: 0.45em 0.6em; margin: 0 0.25em; line-height: 1; border-radius: 0.35em;\">\n",
       "    Bieber\n",
       "    <span style=\"font-size: 0.8em; font-weight: bold; line-height: 1; border-radius: 0.35em; vertical-align: middle; margin-left: 0.5rem\">PERSON</span>\n",
       "</mark>\n",
       " also touched on his past troubles. &quot;I had a bunch of knuckleheads around me, that was pretty much it,&quot; he said. &quot;You have to test the waters. I just happened to be in the spotlight, in front of cameras all the time, and they caught all those moments.&quot; \n",
       "<mark class=\"entity\" style=\"background: #aa9cfc; padding: 0.45em 0.6em; margin: 0 0.25em; line-height: 1; border-radius: 0.35em;\">\n",
       "    Bieber\n",
       "    <span style=\"font-size: 0.8em; font-weight: bold; line-height: 1; border-radius: 0.35em; vertical-align: middle; margin-left: 0.5rem\">PERSON</span>\n",
       "</mark>\n",
       " then pointed at the crowd, asking, &quot;You didn't have those moments?&quot; \n",
       "<mark class=\"entity\" style=\"background: #aa9cfc; padding: 0.45em 0.6em; margin: 0 0.25em; line-height: 1; border-radius: 0.35em;\">\n",
       "    Jimmy Fallon's\n",
       "    <span style=\"font-size: 0.8em; font-weight: bold; line-height: 1; border-radius: 0.35em; vertical-align: middle; margin-left: 0.5rem\">PERSON</span>\n",
       "</mark>\n",
       " response: &quot;Not as much as you did.&quot; \n",
       "<mark class=\"entity\" style=\"background: #f0d0ff; padding: 0.45em 0.6em; margin: 0 0.25em; line-height: 1; border-radius: 0.35em;\">\n",
       "    The Biebs'\n",
       "    <span style=\"font-size: 0.8em; font-weight: bold; line-height: 1; border-radius: 0.35em; vertical-align: middle; margin-left: 0.5rem\">WORK_OF_ART</span>\n",
       "</mark>\n",
       " new album drops \n",
       "<mark class=\"entity\" style=\"background: #bfe1d9; padding: 0.45em 0.6em; margin: 0 0.25em; line-height: 1; border-radius: 0.35em;\">\n",
       "    Nov. 13\n",
       "    <span style=\"font-size: 0.8em; font-weight: bold; line-height: 1; border-radius: 0.35em; vertical-align: middle; margin-left: 0.5rem\">DATE</span>\n",
       "</mark>\n",
       ". His \n",
       "<mark class=\"entity\" style=\"background: #e4e7d2; padding: 0.45em 0.6em; margin: 0 0.25em; line-height: 1; border-radius: 0.35em;\">\n",
       "    first\n",
       "    <span style=\"font-size: 0.8em; font-weight: bold; line-height: 1; border-radius: 0.35em; vertical-align: middle; margin-left: 0.5rem\">ORDINAL</span>\n",
       "</mark>\n",
       " single, &quot;\n",
       "<mark class=\"entity\" style=\"background: #f0d0ff; padding: 0.45em 0.6em; margin: 0 0.25em; line-height: 1; border-radius: 0.35em;\">\n",
       "    What Do You Mean\n",
       "    <span style=\"font-size: 0.8em; font-weight: bold; line-height: 1; border-radius: 0.35em; vertical-align: middle; margin-left: 0.5rem\">WORK_OF_ART</span>\n",
       "</mark>\n",
       ",&quot; has already hit the top of the charts in \n",
       "<mark class=\"entity\" style=\"background: #e4e7d2; padding: 0.45em 0.6em; margin: 0 0.25em; line-height: 1; border-radius: 0.35em;\">\n",
       "    89\n",
       "    <span style=\"font-size: 0.8em; font-weight: bold; line-height: 1; border-radius: 0.35em; vertical-align: middle; margin-left: 0.5rem\">CARDINAL</span>\n",
       "</mark>\n",
       " countries, \n",
       "<mark class=\"entity\" style=\"background: #aa9cfc; padding: 0.45em 0.6em; margin: 0 0.25em; line-height: 1; border-radius: 0.35em;\">\n",
       "    Fallon\n",
       "    <span style=\"font-size: 0.8em; font-weight: bold; line-height: 1; border-radius: 0.35em; vertical-align: middle; margin-left: 0.5rem\">PERSON</span>\n",
       "</mark>\n",
       " said. (And there might be a secret message for \n",
       "<mark class=\"entity\" style=\"background: #aa9cfc; padding: 0.45em 0.6em; margin: 0 0.25em; line-height: 1; border-radius: 0.35em;\">\n",
       "    Selena Gomez\n",
       "    <span style=\"font-size: 0.8em; font-weight: bold; line-height: 1; border-radius: 0.35em; vertical-align: middle; margin-left: 0.5rem\">PERSON</span>\n",
       "</mark>\n",
       " in the video.)</div>\n",
       "\n",
       "<h2 style=\"margin: 0\">– More than 30 relatives of passengers who were on</h2>\n",
       "\n",
       "<div class=\"entities\" style=\"line-height: 2.5; direction: ltr\">– \n",
       "<mark class=\"entity\" style=\"background: #e4e7d2; padding: 0.45em 0.6em; margin: 0 0.25em; line-height: 1; border-radius: 0.35em;\">\n",
       "    More than 30\n",
       "    <span style=\"font-size: 0.8em; font-weight: bold; line-height: 1; border-radius: 0.35em; vertical-align: middle; margin-left: 0.5rem\">CARDINAL</span>\n",
       "</mark>\n",
       " relatives of passengers who were on board missing \n",
       "<mark class=\"entity\" style=\"background: #7aecec; padding: 0.45em 0.6em; margin: 0 0.25em; line-height: 1; border-radius: 0.35em;\">\n",
       "    Malaysia Airlines\n",
       "    <span style=\"font-size: 0.8em; font-weight: bold; line-height: 1; border-radius: 0.35em; vertical-align: middle; margin-left: 0.5rem\">ORG</span>\n",
       "</mark>\n",
       " \n",
       "<mark class=\"entity\" style=\"background: #bfeeb7; padding: 0.45em 0.6em; margin: 0 0.25em; line-height: 1; border-radius: 0.35em;\">\n",
       "    Flight 370\n",
       "    <span style=\"font-size: 0.8em; font-weight: bold; line-height: 1; border-radius: 0.35em; vertical-align: middle; margin-left: 0.5rem\">PRODUCT</span>\n",
       "</mark>\n",
       " gathered at a temple in \n",
       "<mark class=\"entity\" style=\"background: #feca74; padding: 0.45em 0.6em; margin: 0 0.25em; line-height: 1; border-radius: 0.35em;\">\n",
       "    Beijing\n",
       "    <span style=\"font-size: 0.8em; font-weight: bold; line-height: 1; border-radius: 0.35em; vertical-align: middle; margin-left: 0.5rem\">GPE</span>\n",
       "</mark>\n",
       " \n",
       "<mark class=\"entity\" style=\"background: #bfe1d9; padding: 0.45em 0.6em; margin: 0 0.25em; line-height: 1; border-radius: 0.35em;\">\n",
       "    today\n",
       "    <span style=\"font-size: 0.8em; font-weight: bold; line-height: 1; border-radius: 0.35em; vertical-align: middle; margin-left: 0.5rem\">DATE</span>\n",
       "</mark>\n",
       " to mark the \n",
       "<mark class=\"entity\" style=\"background: #bfe1d9; padding: 0.45em 0.6em; margin: 0 0.25em; line-height: 1; border-radius: 0.35em;\">\n",
       "    six-month\n",
       "    <span style=\"font-size: 0.8em; font-weight: bold; line-height: 1; border-radius: 0.35em; vertical-align: middle; margin-left: 0.5rem\">DATE</span>\n",
       "</mark>\n",
       " anniversary of the plane's disappearance, the \n",
       "<mark class=\"entity\" style=\"background: #7aecec; padding: 0.45em 0.6em; margin: 0 0.25em; line-height: 1; border-radius: 0.35em;\">\n",
       "    AP\n",
       "    <span style=\"font-size: 0.8em; font-weight: bold; line-height: 1; border-radius: 0.35em; vertical-align: middle; margin-left: 0.5rem\">ORG</span>\n",
       "</mark>\n",
       " reports. Some family members and friends wore T-shirts that said &quot;Pray for \n",
       "<mark class=\"entity\" style=\"background: #bfeeb7; padding: 0.45em 0.6em; margin: 0 0.25em; line-height: 1; border-radius: 0.35em;\">\n",
       "    MH370\n",
       "    <span style=\"font-size: 0.8em; font-weight: bold; line-height: 1; border-radius: 0.35em; vertical-align: middle; margin-left: 0.5rem\">PRODUCT</span>\n",
       "</mark>\n",
       " to return home safe and sound&quot; and wept as \n",
       "<mark class=\"entity\" style=\"background: #e4e7d2; padding: 0.45em 0.6em; margin: 0 0.25em; line-height: 1; border-radius: 0.35em;\">\n",
       "    one\n",
       "    <span style=\"font-size: 0.8em; font-weight: bold; line-height: 1; border-radius: 0.35em; vertical-align: middle; margin-left: 0.5rem\">CARDINAL</span>\n",
       "</mark>\n",
       " man read a speech about his lost daughter—which prompted plainclothes police to separate reporters from mourning relatives and tell families they could only enter the temple \n",
       "<mark class=\"entity\" style=\"background: #e4e7d2; padding: 0.45em 0.6em; margin: 0 0.25em; line-height: 1; border-radius: 0.35em;\">\n",
       "    two\n",
       "    <span style=\"font-size: 0.8em; font-weight: bold; line-height: 1; border-radius: 0.35em; vertical-align: middle; margin-left: 0.5rem\">CARDINAL</span>\n",
       "</mark>\n",
       " or three at a time. Families of the missing passengers say \n",
       "<mark class=\"entity\" style=\"background: #c887fb; padding: 0.45em 0.6em; margin: 0 0.25em; line-height: 1; border-radius: 0.35em;\">\n",
       "    Chinese\n",
       "    <span style=\"font-size: 0.8em; font-weight: bold; line-height: 1; border-radius: 0.35em; vertical-align: middle; margin-left: 0.5rem\">NORP</span>\n",
       "</mark>\n",
       " law enforcement has been shadowing them as they protest the lack of progress in finding the plane, which disappeared \n",
       "<mark class=\"entity\" style=\"background: #bfe1d9; padding: 0.45em 0.6em; margin: 0 0.25em; line-height: 1; border-radius: 0.35em;\">\n",
       "    March 8\n",
       "    <span style=\"font-size: 0.8em; font-weight: bold; line-height: 1; border-radius: 0.35em; vertical-align: middle; margin-left: 0.5rem\">DATE</span>\n",
       "</mark>\n",
       ". Search teams are focused on a \n",
       "<mark class=\"entity\" style=\"background: #e4e7d2; padding: 0.45em 0.6em; margin: 0 0.25em; line-height: 1; border-radius: 0.35em;\">\n",
       "    23,000-square-mile\n",
       "    <span style=\"font-size: 0.8em; font-weight: bold; line-height: 1; border-radius: 0.35em; vertical-align: middle; margin-left: 0.5rem\">QUANTITY</span>\n",
       "</mark>\n",
       " section of \n",
       "<mark class=\"entity\" style=\"background: #ff9561; padding: 0.45em 0.6em; margin: 0 0.25em; line-height: 1; border-radius: 0.35em;\">\n",
       "    the Indian Ocean\n",
       "    <span style=\"font-size: 0.8em; font-weight: bold; line-height: 1; border-radius: 0.35em; vertical-align: middle; margin-left: 0.5rem\">LOC</span>\n",
       "</mark>\n",
       ", which may be expanded after scrutiny of a failed call made to the plane, reports the \n",
       "<mark class=\"entity\" style=\"background: #7aecec; padding: 0.45em 0.6em; margin: 0 0.25em; line-height: 1; border-radius: 0.35em;\">\n",
       "    AP\n",
       "    <span style=\"font-size: 0.8em; font-weight: bold; line-height: 1; border-radius: 0.35em; vertical-align: middle; margin-left: 0.5rem\">ORG</span>\n",
       "</mark>\n",
       ". The families remain frustrated. Says \n",
       "<mark class=\"entity\" style=\"background: #e4e7d2; padding: 0.45em 0.6em; margin: 0 0.25em; line-height: 1; border-radius: 0.35em;\">\n",
       "    one\n",
       "    <span style=\"font-size: 0.8em; font-weight: bold; line-height: 1; border-radius: 0.35em; vertical-align: middle; margin-left: 0.5rem\">CARDINAL</span>\n",
       "</mark>\n",
       " woman who lost her sister, &quot;We feel very helpless ... because we need to rely on the government for their assistance and support and hope they can put pressure on the \n",
       "<mark class=\"entity\" style=\"background: #c887fb; padding: 0.45em 0.6em; margin: 0 0.25em; line-height: 1; border-radius: 0.35em;\">\n",
       "    Malaysian\n",
       "    <span style=\"font-size: 0.8em; font-weight: bold; line-height: 1; border-radius: 0.35em; vertical-align: middle; margin-left: 0.5rem\">NORP</span>\n",
       "</mark>\n",
       " airline to find out the truth.&quot; Another woman, whose partner was on the flight, tells \n",
       "<mark class=\"entity\" style=\"background: #7aecec; padding: 0.45em 0.6em; margin: 0 0.25em; line-height: 1; border-radius: 0.35em;\">\n",
       "    CBS News\n",
       "    <span style=\"font-size: 0.8em; font-weight: bold; line-height: 1; border-radius: 0.35em; vertical-align: middle; margin-left: 0.5rem\">ORG</span>\n",
       "</mark>\n",
       ", &quot;I need to bring \n",
       "<mark class=\"entity\" style=\"background: #7aecec; padding: 0.45em 0.6em; margin: 0 0.25em; line-height: 1; border-radius: 0.35em;\">\n",
       "    Philip home\n",
       "    <span style=\"font-size: 0.8em; font-weight: bold; line-height: 1; border-radius: 0.35em; vertical-align: middle; margin-left: 0.5rem\">ORG</span>\n",
       "</mark>\n",
       " to bury him properly or to have him back in my life again—\n",
       "<mark class=\"entity\" style=\"background: #e4e7d2; padding: 0.45em 0.6em; margin: 0 0.25em; line-height: 1; border-radius: 0.35em;\">\n",
       "    one\n",
       "    <span style=\"font-size: 0.8em; font-weight: bold; line-height: 1; border-radius: 0.35em; vertical-align: middle; margin-left: 0.5rem\">CARDINAL</span>\n",
       "</mark>\n",
       " of the \n",
       "<mark class=\"entity\" style=\"background: #e4e7d2; padding: 0.45em 0.6em; margin: 0 0.25em; line-height: 1; border-radius: 0.35em;\">\n",
       "    two\n",
       "    <span style=\"font-size: 0.8em; font-weight: bold; line-height: 1; border-radius: 0.35em; vertical-align: middle; margin-left: 0.5rem\">CARDINAL</span>\n",
       "</mark>\n",
       ".&quot;</div></span>"
      ],
      "text/plain": [
       "<IPython.core.display.HTML object>"
      ]
     },
     "metadata": {},
     "output_type": "display_data"
    }
   ],
   "source": [
    "displacy.render(docs, style=\"ent\")"
   ]
  },
  {
   "cell_type": "code",
   "execution_count": 22,
   "metadata": {
    "colab": {
     "base_uri": "https://localhost:8080/",
     "height": 35
    },
    "id": "ncDPQw5OM1vO",
    "outputId": "38c9dd7d-1a8b-4324-f94c-98c6ab086386"
   },
   "outputs": [
    {
     "data": {
      "text/plain": [
       "'Nationalities or religious or political groups'"
      ]
     },
     "execution_count": 22,
     "metadata": {},
     "output_type": "execute_result"
    }
   ],
   "source": [
    "spacy.explain(\"NORP\")"
   ]
  },
  {
   "cell_type": "markdown",
   "metadata": {
    "id": "2JSPegS3NaAm"
   },
   "source": [
    "[Available labels](https://spacy.io/models/en)"
   ]
  },
  {
   "cell_type": "markdown",
   "metadata": {
    "id": "qVzroVVHbhB_"
   },
   "source": [
    "## Leyes estadísticas"
   ]
  },
  {
   "cell_type": "code",
   "execution_count": 23,
   "metadata": {
    "id": "r22w37-7bMNL"
   },
   "outputs": [],
   "source": [
    "# Bibliotecas\n",
    "from collections import Counter\n",
    "import matplotlib.pyplot as plt\n",
    "#plt.rcParams['figure.figsize'] = [10, 6]\n",
    "import numpy as np\n",
    "import pandas as pd"
   ]
  },
  {
   "cell_type": "code",
   "execution_count": 24,
   "metadata": {
    "colab": {
     "base_uri": "https://localhost:8080/"
    },
    "id": "soknAiFndNMb",
    "outputId": "bb119a39-3f6c-4f11-82b5-28047d3e04ac"
   },
   "outputs": [
    {
     "data": {
      "text/plain": [
       "146"
      ]
     },
     "execution_count": 24,
     "metadata": {},
     "output_type": "execute_result"
    }
   ],
   "source": [
    "mini_corpus = \"\"\"Humanismo es un concepto polisémico que se aplica tanto al estudio de las letras humanas, los\n",
    "estudios clásicos y la filología grecorromana como a una genérica doctrina o actitud vital que\n",
    "concibe de forma integrada los valores humanos. Por otro lado, también se denomina humanis-\n",
    "mo al «sistema de creencias centrado en el principio de que las necesidades de la sensibilidad\n",
    "y de la inteligencia humana pueden satisfacerse sin tener que aceptar la existencia de Dios\n",
    "y la predicación de las religiones», lo que se aproxima al laicismo o a posturas secularistas.\n",
    "Se aplica como denominación a distintas corrientes filosóficas, aunque de forma particular,\n",
    "al humanismo renacentista1 (la corriente cultural europea desarrollada de forma paralela al\n",
    "Renacimiento a partir de sus orígenes en la Italia del siglo XV), caracterizado a la vez por su\n",
    "vocación filológica clásica y por su antropocentrismo frente al teocentrismo medieval\n",
    "\"\"\"\n",
    "words = mini_corpus.replace(\"\\n\", \" \").split(\" \")\n",
    "len(words)"
   ]
  },
  {
   "cell_type": "code",
   "execution_count": 25,
   "metadata": {
    "colab": {
     "base_uri": "https://localhost:8080/"
    },
    "id": "DdT_CPIQdO-M",
    "outputId": "55d445ee-0f83-4de4-c617-8d8c9aa1f9ea"
   },
   "outputs": [
    {
     "data": {
      "text/plain": [
       "[('de', 11),\n",
       " ('la', 7),\n",
       " ('al', 6),\n",
       " ('que', 5),\n",
       " ('a', 5),\n",
       " ('y', 4),\n",
       " ('se', 3),\n",
       " ('las', 3),\n",
       " ('forma', 3),\n",
       " ('aplica', 2)]"
      ]
     },
     "execution_count": 25,
     "metadata": {},
     "output_type": "execute_result"
    }
   ],
   "source": [
    "vocabulary = Counter(words)\n",
    "vocabulary.most_common(10)"
   ]
  },
  {
   "cell_type": "code",
   "execution_count": 26,
   "metadata": {
    "colab": {
     "base_uri": "https://localhost:8080/"
    },
    "id": "KG-bR3QUdQVj",
    "outputId": "a66e5ba7-f938-4cdf-f941-4fd8af9a4821"
   },
   "outputs": [
    {
     "data": {
      "text/plain": [
       "101"
      ]
     },
     "execution_count": 26,
     "metadata": {},
     "output_type": "execute_result"
    }
   ],
   "source": [
    "len(vocabulary)"
   ]
  },
  {
   "cell_type": "code",
   "execution_count": 27,
   "metadata": {
    "id": "JABP3_tDdSlf"
   },
   "outputs": [],
   "source": [
    "def get_frequencies(vocabulary: Counter, n: int) -> list:\n",
    "    return [_[1] for _ in vocabulary.most_common(n)]\n",
    "\n",
    "def plot_frequencies(frequencies: list, title=\"Freq of words\", log_scale=False):\n",
    "    x = list(range(1, len(frequencies)+1))\n",
    "    plt.plot(x, frequencies, \"-v\")\n",
    "    plt.xlabel(\"Freq rank (r)\")\n",
    "    plt.ylabel(\"Freq (f)\")\n",
    "    if log_scale:\n",
    "        plt.xscale(\"log\")\n",
    "        plt.yscale(\"log\")\n",
    "    plt.title(title)"
   ]
  },
  {
   "cell_type": "code",
   "execution_count": 28,
   "metadata": {
    "colab": {
     "base_uri": "https://localhost:8080/",
     "height": 472
    },
    "id": "YhIhQcr8dUDg",
    "outputId": "2fabedc4-45dc-44d2-d46d-a288c278905d"
   },
   "outputs": [
    {
     "data": {
      "image/png": "[encoded data removed]",
      "text/plain": [
       "<Figure size 640x480 with 1 Axes>"
      ]
     },
     "metadata": {},
     "output_type": "display_data"
    }
   ],
   "source": [
    "frequencies = get_frequencies(vocabulary, 100)\n",
    "plot_frequencies(frequencies)"
   ]
  },
  {
   "cell_type": "code",
   "execution_count": 29,
   "metadata": {
    "colab": {
     "base_uri": "https://localhost:8080/",
     "height": 476
    },
    "id": "jXCfsV04dVQP",
    "outputId": "30e1dfd8-1b39-42bf-c8de-767589f2e5a1"
   },
   "outputs": [
    {
     "data": {
      "image/png": "[encoded data removed]",
      "text/plain": [
       "<Figure size 640x480 with 1 Axes>"
      ]
     },
     "metadata": {},
     "output_type": "display_data"
    }
   ],
   "source": [
    "plot_frequencies(frequencies, log_scale=True)"
   ]
  },
  {
   "cell_type": "markdown",
   "metadata": {
    "id": "247bc5ce-a41f-4fd4-a9e5-0a7dea01a21a"
   },
   "source": [
    "**¿Qué pasará con más datos? 📊**"
   ]
  },
  {
   "cell_type": "markdown",
   "metadata": {
    "id": "80171042-187c-46ce-91a7-f995630071de"
   },
   "source": [
    "### Ley Zipf"
   ]
  },
  {
   "cell_type": "markdown",
   "metadata": {
    "id": "9910d584-735a-426e-b9c3-4893295b063b"
   },
   "source": [
    "Exploraremos el Corpus de Referencia del Español Actual [CREA](https://www.rae.es/banco-de-datos/crea/crea-anotado)"
   ]
  },
  {
   "cell_type": "code",
   "execution_count": 30,
   "metadata": {
    "id": "kQnhWBILiAaV"
   },
   "outputs": [],
   "source": [
    "corpus_freqs = pd.read_csv(\"crea_frecs.txt\", sep=\" \")"
   ]
  },
  {
   "cell_type": "code",
   "execution_count": 31,
   "metadata": {
    "colab": {
     "base_uri": "https://localhost:8080/",
     "height": 519
    },
    "id": "A6HixInrib3M",
    "outputId": "55ff4916-c707-4d0d-ed36-8695eabbfa57"
   },
   "outputs": [
    {
     "data": {
      "text/html": [
       "<div>\n",
       "<style scoped>\n",
       "    .dataframe tbody tr th:only-of-type {\n",
       "        vertical-align: middle;\n",
       "    }\n",
       "\n",
       "    .dataframe tbody tr th {\n",
       "        vertical-align: top;\n",
       "    }\n",
       "\n",
       "    .dataframe thead th {\n",
       "        text-align: right;\n",
       "    }\n",
       "</style>\n",
       "<table border=\"1\" class=\"dataframe\">\n",
       "  <thead>\n",
       "    <tr style=\"text-align: right;\">\n",
       "      <th></th>\n",
       "      <th>freq</th>\n",
       "      <th>word</th>\n",
       "    </tr>\n",
       "  </thead>\n",
       "  <tbody>\n",
       "    <tr>\n",
       "      <th>0</th>\n",
       "      <td>9999518</td>\n",
       "      <td>de</td>\n",
       "    </tr>\n",
       "    <tr>\n",
       "      <th>1</th>\n",
       "      <td>6277560</td>\n",
       "      <td>la</td>\n",
       "    </tr>\n",
       "    <tr>\n",
       "      <th>2</th>\n",
       "      <td>4681839</td>\n",
       "      <td>que</td>\n",
       "    </tr>\n",
       "    <tr>\n",
       "      <th>3</th>\n",
       "      <td>4569652</td>\n",
       "      <td>el</td>\n",
       "    </tr>\n",
       "    <tr>\n",
       "      <th>4</th>\n",
       "      <td>4234281</td>\n",
       "      <td>en</td>\n",
       "    </tr>\n",
       "    <tr>\n",
       "      <th>5</th>\n",
       "      <td>4180279</td>\n",
       "      <td>y</td>\n",
       "    </tr>\n",
       "    <tr>\n",
       "      <th>6</th>\n",
       "      <td>3260939</td>\n",
       "      <td>a</td>\n",
       "    </tr>\n",
       "    <tr>\n",
       "      <th>7</th>\n",
       "      <td>2618657</td>\n",
       "      <td>los</td>\n",
       "    </tr>\n",
       "    <tr>\n",
       "      <th>8</th>\n",
       "      <td>2022514</td>\n",
       "      <td>se</td>\n",
       "    </tr>\n",
       "    <tr>\n",
       "      <th>9</th>\n",
       "      <td>1857225</td>\n",
       "      <td>del</td>\n",
       "    </tr>\n",
       "    <tr>\n",
       "      <th>10</th>\n",
       "      <td>1686741</td>\n",
       "      <td>las</td>\n",
       "    </tr>\n",
       "    <tr>\n",
       "      <th>11</th>\n",
       "      <td>1659827</td>\n",
       "      <td>un</td>\n",
       "    </tr>\n",
       "    <tr>\n",
       "      <th>12</th>\n",
       "      <td>1561904</td>\n",
       "      <td>por</td>\n",
       "    </tr>\n",
       "    <tr>\n",
       "      <th>13</th>\n",
       "      <td>1481607</td>\n",
       "      <td>con</td>\n",
       "    </tr>\n",
       "    <tr>\n",
       "      <th>14</th>\n",
       "      <td>1465503</td>\n",
       "      <td>no</td>\n",
       "    </tr>\n",
       "  </tbody>\n",
       "</table>\n",
       "</div>"
      ],
      "text/plain": [
       "       freq word\n",
       "0   9999518   de\n",
       "1   6277560   la\n",
       "2   4681839  que\n",
       "3   4569652   el\n",
       "4   4234281   en\n",
       "5   4180279    y\n",
       "6   3260939    a\n",
       "7   2618657  los\n",
       "8   2022514   se\n",
       "9   1857225  del\n",
       "10  1686741  las\n",
       "11  1659827   un\n",
       "12  1561904  por\n",
       "13  1481607  con\n",
       "14  1465503   no"
      ]
     },
     "execution_count": 31,
     "metadata": {},
     "output_type": "execute_result"
    }
   ],
   "source": [
    "corpus_freqs.head(15)"
   ]
  },
  {
   "cell_type": "code",
   "execution_count": 32,
   "metadata": {
    "colab": {
     "base_uri": "https://localhost:8080/",
     "height": 146
    },
    "id": "AVH75dSDkBDm",
    "outputId": "2bb81c7b-d452-4471-d498-15209cfb62c6"
   },
   "outputs": [
    {
     "data": {
      "text/plain": [
       "freq    9999518\n",
       "word         de\n",
       "Name: 0, dtype: object"
      ]
     },
     "execution_count": 32,
     "metadata": {},
     "output_type": "execute_result"
    }
   ],
   "source": [
    "corpus_freqs.iloc[0]"
   ]
  },
  {
   "cell_type": "code",
   "execution_count": 33,
   "metadata": {
    "colab": {
     "base_uri": "https://localhost:8080/",
     "height": 80
    },
    "id": "t1-Vr-qKkgE0",
    "outputId": "460032b9-fa6c-4025-9d33-b030fbb41848"
   },
   "outputs": [
    {
     "data": {
      "text/html": [
       "<div>\n",
       "<style scoped>\n",
       "    .dataframe tbody tr th:only-of-type {\n",
       "        vertical-align: middle;\n",
       "    }\n",
       "\n",
       "    .dataframe tbody tr th {\n",
       "        vertical-align: top;\n",
       "    }\n",
       "\n",
       "    .dataframe thead th {\n",
       "        text-align: right;\n",
       "    }\n",
       "</style>\n",
       "<table border=\"1\" class=\"dataframe\">\n",
       "  <thead>\n",
       "    <tr style=\"text-align: right;\">\n",
       "      <th></th>\n",
       "      <th>freq</th>\n",
       "      <th>word</th>\n",
       "    </tr>\n",
       "  </thead>\n",
       "  <tbody>\n",
       "    <tr>\n",
       "      <th>12615</th>\n",
       "      <td>872</td>\n",
       "      <td>barriga</td>\n",
       "    </tr>\n",
       "  </tbody>\n",
       "</table>\n",
       "</div>"
      ],
      "text/plain": [
       "       freq     word\n",
       "12615   872  barriga"
      ]
     },
     "execution_count": 33,
     "metadata": {},
     "output_type": "execute_result"
    }
   ],
   "source": [
    "corpus_freqs[corpus_freqs[\"word\"] == \"barriga\"]"
   ]
  },
  {
   "cell_type": "code",
   "execution_count": 34,
   "metadata": {
    "colab": {
     "base_uri": "https://localhost:8080/",
     "height": 472
    },
    "id": "OeqJxfSjklM7",
    "outputId": "08f61831-574a-4d7a-8557-52127983fe0f"
   },
   "outputs": [
    {
     "data": {
      "image/png": "[encoded data removed]",
      "text/plain": [
       "<Figure size 640x480 with 1 Axes>"
      ]
     },
     "metadata": {},
     "output_type": "display_data"
    }
   ],
   "source": [
    "corpus_freqs[\"freq\"].plot(marker=\"o\")\n",
    "plt.title('Ley de Zipf en el CREA')\n",
    "plt.xlabel('rank')\n",
    "plt.ylabel('freq')\n",
    "plt.show()"
   ]
  },
  {
   "cell_type": "code",
   "execution_count": 35,
   "metadata": {
    "colab": {
     "base_uri": "https://localhost:8080/",
     "height": 476
    },
    "id": "zef8wsockrtL",
    "outputId": "b185d714-bfd4-4a24-963b-140e80d5cf96"
   },
   "outputs": [
    {
     "data": {
      "image/png": "[encoded data removed]",
      "text/plain": [
       "<Figure size 640x480 with 1 Axes>"
      ]
     },
     "metadata": {},
     "output_type": "display_data"
    }
   ],
   "source": [
    "corpus_freqs['freq'].plot(loglog=True, legend=False)\n",
    "plt.title('Ley de Zipf en el CREA (log-log)')\n",
    "plt.xlabel('log rank')\n",
    "plt.ylabel('log frecuencia')\n",
    "plt.show()"
   ]
  },
  {
   "cell_type": "markdown",
   "metadata": {
    "id": "a1f515f3-b7c7-4f75-bf79-453433fa064c"
   },
   "source": [
    "- Notamos que las frecuencias entre lenguas siguen un patrón\n",
    "- Pocas palabras (tipos) son muy frecuentes, mientras que la mayoría de palabras ocurren pocas veces\n",
    "\n",
    "De hecho, la frecuencia de la palabra que ocupa la posición r en el rank, es proporcional a $\\frac{1}{r}$ (La palabra más frecuente ocurrirá aproximadamente el doble de veces que la segunda palabra más frecuente en el corpus y tres veces más que la tercer palabra más frecuente del corpus, etc)\n",
    "\n",
    "$$f(w_r) \\propto \\frac{1}{r^α}$$\n",
    "\n",
    "Donde:\n",
    "- $r$ es el rank que ocupa la palabra en el corpus\n",
    "- $f(w_r)$ es la frecuencia de la palabra en el corpus\n",
    "- $\\alpha$ es un parámetro, el valor dependerá del corpus o fenómeno que estemos observando"
   ]
  },
  {
   "cell_type": "markdown",
   "metadata": {
    "id": "20dd3f85-8529-4c51-ba5f-baf360d57722"
   },
   "source": [
    "#### Formulación de la Ley de Zipf:"
   ]
  },
  {
   "cell_type": "markdown",
   "metadata": {
    "id": "ce8cd277-a347-49f0-b538-e1663a18e1b6"
   },
   "source": [
    "$f(w_{r})=\\frac{c}{r^{\\alpha }}$\n",
    "\n",
    "En la escala logarítimica:\n",
    "\n",
    "$log(f(w_{r}))=log(\\frac{c}{r^{\\alpha }})$\n",
    "\n",
    "$log(f(w_{r}))=log (c)-\\alpha log (r)$"
   ]
  },
  {
   "cell_type": "markdown",
   "metadata": {
    "id": "haEB1WD9k6_p"
   },
   "source": [
    "#### ❓ ¿Cómo estimar el parámetro $\\alpha$?"
   ]
  },
  {
   "cell_type": "markdown",
   "metadata": {
    "id": "7RiunVGWnaFP"
   },
   "source": [
    "Podemos hacer una regresión lineal minimizando la suma de los errores cuadráticos:\n",
    "\n",
    "$J_{MSE}=\\sum_{r}^{}(log(f(w_{r}))-(log(c)-\\alpha log(r)))^{2}$"
   ]
  },
  {
   "cell_type": "code",
   "execution_count": 36,
   "metadata": {
    "colab": {
     "base_uri": "https://localhost:8080/"
    },
    "id": "yw9jJ3lRk-HS",
    "outputId": "6777e9b2-597d-468d-fa67-06882a3cc022"
   },
   "outputs": [
    {
     "name": "stdout",
     "output_type": "stream",
     "text": [
      "alpha: 1.1812227900048202 \n",
      "MSE: 323481.1807174416\n"
     ]
    }
   ],
   "source": [
    "from scipy.optimize import minimize\n",
    "\n",
    "ranks = np.array(corpus_freqs.index) + 1\n",
    "frecs = np.array(corpus_freqs['freq'])\n",
    "\n",
    "# Inicialización\n",
    "a0 = 1\n",
    "\n",
    "# Función de minimización:\n",
    "func = lambda a: sum((np.log(frecs)-(np.log(frecs[0])-a*np.log(ranks)))**2)\n",
    "\n",
    "# Apliando minimos cuadrados\n",
    "a_hat = minimize(func, a0).x[0]\n",
    "\n",
    "print('alpha:', a_hat, '\\nMSE:', func(a_hat))"
   ]
  },
  {
   "cell_type": "code",
   "execution_count": 37,
   "metadata": {
    "id": "17EXGwl1lWtP"
   },
   "outputs": [],
   "source": [
    "def plot_generate_zipf(alpha: np.float64, ranks: np.array, freqs: np.array) -> None:\n",
    "    plt.plot(np.log(ranks),  np.log(freqs[0]) - alpha*np.log(ranks), color='r', label='Aproximación Zipf')"
   ]
  },
  {
   "cell_type": "code",
   "execution_count": 38,
   "metadata": {
    "colab": {
     "base_uri": "https://localhost:8080/",
     "height": 449
    },
    "id": "dX-7SxnbojYv",
    "outputId": "ef9e3ab0-e5fd-4566-97ea-1f9a7a18ffbf"
   },
   "outputs": [
    {
     "data": {
      "image/png": "[encoded data removed]",
      "text/plain": [
       "<Figure size 640x480 with 1 Axes>"
      ]
     },
     "metadata": {},
     "output_type": "display_data"
    }
   ],
   "source": [
    "plot_generate_zipf(a_hat, ranks, frecs)\n",
    "plt.plot(np.log(ranks),np.log(frecs), color='b', label='Distribución CREA')\n",
    "plt.xlabel('log ranks')\n",
    "plt.ylabel('log frecs')\n",
    "plt.legend(bbox_to_anchor=(1, 1))\n",
    "plt.show()"
   ]
  },
  {
   "cell_type": "markdown",
   "metadata": {
    "id": "9c1f87bb-9653-4d4c-ace0-e4ad434c0fac"
   },
   "source": [
    "### Ley de Heap"
   ]
  },
  {
   "cell_type": "markdown",
   "metadata": {
    "id": "31335455-7b4a-45c9-af8d-a88372201080"
   },
   "source": [
    "Relación entre el número de **tokens** y **tipos** de un corpus\n",
    "\n",
    "$$T \\propto N^b$$\n",
    "\n",
    "Dónde:\n",
    "\n",
    "- $T = $ número de tipos\n",
    "- $N = $ número de tokens\n",
    "- $b = $ parámetro  "
   ]
  },
  {
   "cell_type": "markdown",
   "metadata": {
    "id": "f98a1bde-ea46-42e5-bd86-859d587e18c1"
   },
   "source": [
    "- **TOKENS**: Número total de palabras dentro del texto (incluidas repeticiones)\n",
    "- **TIPOS**: Número total de palabras únicas en el texto"
   ]
  },
  {
   "cell_type": "markdown",
   "metadata": {
    "id": "tU-Ot10qyIKo"
   },
   "source": [
    "#### 📊 Ejercicio: Muestra el plot de tokens vs types para el corpus CREA\n",
    "\n",
    "**HINT:** Obtener tipos y tokens acumulados"
   ]
  },
  {
   "cell_type": "code",
   "execution_count": 39,
   "metadata": {
    "id": "tWtgyMwdmAh1"
   },
   "outputs": [],
   "source": [
    "# PLOT tokens vs types\n",
    "total_tokens = corpus_freqs[\"freq\"].sum()\n",
    "total_types = len(corpus_freqs)"
   ]
  },
  {
   "cell_type": "code",
   "execution_count": 40,
   "metadata": {
    "id": "nvY36PbtZ-Vf"
   },
   "outputs": [],
   "source": [
    "corpus_sorted = corpus_freqs.sort_values(by=\"freq\", ascending=False)\n",
    "corpus_sorted[\"cum_tokens\"] = corpus_sorted[\"freq\"].cumsum()\n",
    "corpus_sorted[\"cum_types\"] = range(1, total_types +1)"
   ]
  },
  {
   "cell_type": "code",
   "execution_count": 41,
   "metadata": {
    "colab": {
     "base_uri": "https://localhost:8080/",
     "height": 476
    },
    "id": "anfP9CFKabsT",
    "outputId": "02bcfaa4-9867-405a-b73c-be7647d0fea0"
   },
   "outputs": [
    {
     "data": {
      "image/png": "[encoded data removed]",
      "text/plain": [
       "<Figure size 640x480 with 1 Axes>"
      ]
     },
     "metadata": {},
     "output_type": "display_data"
    }
   ],
   "source": [
    "# Plot de la ley de Heap\n",
    "plt.plot(corpus_sorted['cum_types'], corpus_sorted['cum_tokens'])\n",
    "plt.xscale(\"log\")\n",
    "plt.yscale(\"log\")\n",
    "plt.xlabel('Types')\n",
    "plt.ylabel('Tokens')\n",
    "plt.title('Ley de Heap')\n",
    "plt.show()"
   ]
  },
  {
   "cell_type": "markdown",
   "metadata": {
    "id": "ZBCWHtwItcX8"
   },
   "source": [
    "### Representaciones vectoriales estáticas (estáticos)"
   ]
  },
  {
   "cell_type": "markdown",
   "metadata": {
    "id": "afUdI9q46hJN"
   },
   "source": [
    "- Buscamos una forma de mapear textos al **espacio vectorial**. Tener una representación numerica permite su procesamiento.\n",
    "    - Similitud de docs\n",
    "    - Clasificacion (agrupamiento)\n",
    "- Veremos el enfoque de la Bolsa de Palabras (Bag of Words)\n",
    "   - Matriz de documentos-terminos\n",
    "   - Cada fila es un vector con $N$ features donde las features serán el vocabulario del corpus"
   ]
  },
  {
   "cell_type": "markdown",
   "metadata": {
    "id": "5JBqJNfV6iox"
   },
   "source": [
    "<center>\n",
    "<img src=\"https://preview.redd.it/sqkqsuit7o831.jpg?width=1024&auto=webp&s=2d18d38fe9d04a4a62c9a889e7b34ef14b425630\" width=500></center>"
   ]
  },
  {
   "cell_type": "code",
   "execution_count": 42,
   "metadata": {
    "id": "HJ2xVdsqeUEe"
   },
   "outputs": [],
   "source": [
    "import gensim"
   ]
  },
  {
   "cell_type": "code",
   "execution_count": 43,
   "metadata": {
    "id": "9kEUUJzBhqyH"
   },
   "outputs": [],
   "source": [
    "doc_1 = \"Augusta Ada King, condesa de Lovelace (Londres, 10 de diciembre de 1815-íd., 27 de noviembre de 1852), registrada al nacer como Augusta Ada Byron y conocida habitualmente como Ada Lovelace, fue una matemática y escritora británica, célebre sobre todo por su trabajo acerca de la computadora mecánica de uso general de Charles Babbage, la denominada máquina analítica. Fue la primera en reconocer que la máquina tenía aplicaciones más allá del cálculo puro y en haber publicado lo que se reconoce hoy como el primer algoritmo destinado a ser procesado por una máquina, por lo que se le considera como la primera programadora de ordenadores.\"\n",
    "doc_2 = \"Brassica oleracea var. italica, el brócoli,1​ brécol2​ o bróquil3​ del italiano broccoli (brote), es una planta de la familia de las brasicáceas. Existen otras variedades de la misma especie, tales como: repollo (B. o. capitata), la coliflor (B. o. botrytis), el colinabo (B. o. gongylodes) y la col de Bruselas (B. o. gemmifera). El llamado brócoli chino o kai-lan (B. o. alboglabra) es también una variedad de Brassica oleracea.\"\n",
    "doc_3 = \"La bicicleta de piñón fijo, fixie o fixed es una bicicleta monomarcha, que no tiene piñón libre, lo que significa que no tiene punto muerto; es decir, los pedales están siempre en movimiento cuando la bicicleta está en marcha. Esto significa que no se puede dejar de pedalear, ya que, mientras la rueda trasera gire, la cadena y los pedales girarán siempre solidariamente. Por este motivo, se puede frenar haciendo una fuerza inversa al sentido de la marcha, y también ir marcha atrás.\""
   ]
  },
  {
   "cell_type": "code",
   "execution_count": 44,
   "metadata": {
    "id": "4GMdxLmueGoZ"
   },
   "outputs": [],
   "source": [
    "documents = [doc_1, doc_2, doc_3]"
   ]
  },
  {
   "cell_type": "code",
   "execution_count": 45,
   "metadata": {
    "id": "121CNkZ9eNBc"
   },
   "outputs": [],
   "source": [
    "from gensim.utils import simple_preprocess\n",
    "\n",
    "def sent_to_words(sentences: list[str]) -> list[list[str]]:\n",
    "    \"\"\"Function convert sentences to words\n",
    "\n",
    "    Use the tokenizer provided by gensim using\n",
    "    `simple_process()` which remove punctuation and converte\n",
    "    to lowercase (`deacc=True`)\n",
    "    \"\"\"\n",
    "    return [simple_preprocess(sent, deacc=True) for sent in sentences]"
   ]
  },
  {
   "cell_type": "code",
   "execution_count": 46,
   "metadata": {
    "colab": {
     "base_uri": "https://localhost:8080/"
    },
    "id": "fq6yZ-KlfM9s",
    "outputId": "28893725-567e-43a1-f45e-81f3be790557"
   },
   "outputs": [
    {
     "data": {
      "text/plain": [
       "['augusta',\n",
       " 'ada',\n",
       " 'king',\n",
       " 'condesa',\n",
       " 'de',\n",
       " 'lovelace',\n",
       " 'londres',\n",
       " 'de',\n",
       " 'diciembre',\n",
       " 'de']"
      ]
     },
     "execution_count": 46,
     "metadata": {},
     "output_type": "execute_result"
    }
   ],
   "source": [
    "docs_tokenized = sent_to_words(documents)\n",
    "docs_tokenized[0][:10]"
   ]
  },
  {
   "cell_type": "code",
   "execution_count": 47,
   "metadata": {
    "id": "6I37u6r5fYpc"
   },
   "outputs": [],
   "source": [
    "from gensim.corpora import Dictionary\n",
    "\n",
    "gensim_dic = Dictionary()\n",
    "bag_of_words_corpus = [gensim_dic.doc2bow(doc, allow_update=True) for doc in docs_tokenized]"
   ]
  },
  {
   "cell_type": "code",
   "execution_count": 48,
   "metadata": {
    "colab": {
     "base_uri": "https://localhost:8080/",
     "height": 186
    },
    "id": "35dnVyLk2fFq",
    "outputId": "a78107db-7f49-4f0c-b0ac-d24ff1061d8a"
   },
   "outputs": [
    {
     "data": {
      "text/plain": [
       "gensim.corpora.dictionary.Dictionary"
      ]
     },
     "execution_count": 48,
     "metadata": {},
     "output_type": "execute_result"
    }
   ],
   "source": [
    "type(gensim_dic)"
   ]
  },
  {
   "cell_type": "code",
   "execution_count": 49,
   "metadata": {
    "colab": {
     "base_uri": "https://localhost:8080/"
    },
    "id": "duD7ekPjyurT",
    "outputId": "bcf9bb3f-b6dd-4a93-935f-c040fa509e66"
   },
   "outputs": [
    {
     "name": "stdout",
     "output_type": "stream",
     "text": [
      "0 acerca\n",
      "1 ada\n",
      "2 al\n",
      "3 algoritmo\n",
      "4 alla\n",
      "5 analitica\n",
      "6 aplicaciones\n",
      "7 augusta\n",
      "8 babbage\n",
      "9 britanica\n",
      "10 byron\n",
      "11 calculo\n",
      "12 celebre\n",
      "13 charles\n",
      "14 como\n",
      "15 computadora\n",
      "16 condesa\n",
      "17 conocida\n",
      "18 considera\n",
      "19 de\n",
      "20 del\n",
      "21 denominada\n",
      "22 destinado\n",
      "23 diciembre\n",
      "24 el\n",
      "25 en\n",
      "26 escritora\n",
      "27 fue\n",
      "28 general\n",
      "29 haber\n",
      "30 habitualmente\n",
      "31 hoy\n",
      "32 id\n",
      "33 king\n",
      "34 la\n",
      "35 le\n",
      "36 lo\n",
      "37 londres\n",
      "38 lovelace\n",
      "39 maquina\n",
      "40 mas\n",
      "41 matematica\n",
      "42 mecanica\n",
      "43 nacer\n",
      "44 noviembre\n",
      "45 ordenadores\n",
      "46 por\n",
      "47 primer\n",
      "48 primera\n",
      "49 procesado\n",
      "50 programadora\n",
      "51 publicado\n",
      "52 puro\n",
      "53 que\n",
      "54 reconoce\n",
      "55 reconocer\n",
      "56 registrada\n",
      "57 se\n",
      "58 ser\n",
      "59 sobre\n",
      "60 su\n",
      "61 tenia\n",
      "62 todo\n",
      "63 trabajo\n",
      "64 una\n",
      "65 uso\n",
      "66 alboglabra\n",
      "67 botrytis\n",
      "68 brasicaceas\n",
      "69 brassica\n",
      "70 brecol\n",
      "71 broccoli\n",
      "72 brocoli\n",
      "73 broquil\n",
      "74 brote\n",
      "75 bruselas\n",
      "76 capitata\n",
      "77 chino\n",
      "78 col\n",
      "79 coliflor\n",
      "80 colinabo\n",
      "81 es\n",
      "82 especie\n",
      "83 existen\n",
      "84 familia\n",
      "85 gemmifera\n",
      "86 gongylodes\n",
      "87 italiano\n",
      "88 italica\n",
      "89 kai\n",
      "90 lan\n",
      "91 las\n",
      "92 llamado\n",
      "93 misma\n",
      "94 oleracea\n",
      "95 otras\n",
      "96 planta\n",
      "97 repollo\n",
      "98 tales\n",
      "99 tambien\n",
      "100 var\n",
      "101 variedad\n",
      "102 variedades\n",
      "103 atras\n",
      "104 bicicleta\n",
      "105 cadena\n",
      "106 cuando\n",
      "107 decir\n",
      "108 dejar\n",
      "109 esta\n",
      "110 estan\n",
      "111 este\n",
      "112 esto\n",
      "113 fijo\n",
      "114 fixed\n",
      "115 fixie\n",
      "116 frenar\n",
      "117 fuerza\n",
      "118 giraran\n",
      "119 gire\n",
      "120 haciendo\n",
      "121 inversa\n",
      "122 ir\n",
      "123 libre\n",
      "124 los\n",
      "125 marcha\n",
      "126 mientras\n",
      "127 monomarcha\n",
      "128 motivo\n",
      "129 movimiento\n",
      "130 muerto\n",
      "131 no\n",
      "132 pedalear\n",
      "133 pedales\n",
      "134 pinon\n",
      "135 puede\n",
      "136 punto\n",
      "137 rueda\n",
      "138 sentido\n",
      "139 siempre\n",
      "140 significa\n",
      "141 solidariamente\n",
      "142 tiene\n",
      "143 trasera\n",
      "144 ya\n"
     ]
    }
   ],
   "source": [
    "for k, v in gensim_dic.iteritems():\n",
    "    print(k, v)"
   ]
  },
  {
   "cell_type": "code",
   "execution_count": 50,
   "metadata": {
    "colab": {
     "base_uri": "https://localhost:8080/"
    },
    "id": "qgWTeVYJyMOD",
    "outputId": "d84b9a0e-11d6-4845-c506-8979a2d1deb5"
   },
   "outputs": [
    {
     "name": "stdout",
     "output_type": "stream",
     "text": [
      "3\n"
     ]
    },
    {
     "data": {
      "text/plain": [
       "[(0, 1),\n",
       " (1, 3),\n",
       " (2, 1),\n",
       " (3, 1),\n",
       " (4, 1),\n",
       " (5, 1),\n",
       " (6, 1),\n",
       " (7, 2),\n",
       " (8, 1),\n",
       " (9, 1),\n",
       " (10, 1),\n",
       " (11, 1),\n",
       " (12, 1),\n",
       " (13, 1),\n",
       " (14, 4),\n",
       " (15, 1),\n",
       " (16, 1),\n",
       " (17, 1),\n",
       " (18, 1),\n",
       " (19, 9),\n",
       " (20, 1),\n",
       " (21, 1),\n",
       " (22, 1),\n",
       " (23, 1),\n",
       " (24, 1),\n",
       " (25, 2),\n",
       " (26, 1),\n",
       " (27, 2),\n",
       " (28, 1),\n",
       " (29, 1),\n",
       " (30, 1),\n",
       " (31, 1),\n",
       " (32, 1),\n",
       " (33, 1),\n",
       " (34, 5),\n",
       " (35, 1),\n",
       " (36, 2),\n",
       " (37, 1),\n",
       " (38, 2),\n",
       " (39, 3),\n",
       " (40, 1),\n",
       " (41, 1),\n",
       " (42, 1),\n",
       " (43, 1),\n",
       " (44, 1),\n",
       " (45, 1),\n",
       " (46, 3),\n",
       " (47, 1),\n",
       " (48, 2),\n",
       " (49, 1),\n",
       " (50, 1),\n",
       " (51, 1),\n",
       " (52, 1),\n",
       " (53, 3),\n",
       " (54, 1),\n",
       " (55, 1),\n",
       " (56, 1),\n",
       " (57, 2),\n",
       " (58, 1),\n",
       " (59, 1),\n",
       " (60, 1),\n",
       " (61, 1),\n",
       " (62, 1),\n",
       " (63, 1),\n",
       " (64, 2),\n",
       " (65, 1)]"
      ]
     },
     "execution_count": 50,
     "metadata": {},
     "output_type": "execute_result"
    }
   ],
   "source": [
    "print(len(bag_of_words_corpus))\n",
    "bag_of_words_corpus[0]"
   ]
  },
  {
   "cell_type": "code",
   "execution_count": 51,
   "metadata": {
    "id": "k19nlQhR_jLk"
   },
   "outputs": [],
   "source": [
    "def bag_to_dict(bag_of_words: list, gensim_dic: Dictionary, titles: list[str]) -> list:\n",
    "    data = {}\n",
    "    for doc, title in zip(bag_of_words, titles):\n",
    "        data[title] = dict([(gensim_dic[id], freq) for id, freq in doc])\n",
    "    return data"
   ]
  },
  {
   "cell_type": "code",
   "execution_count": 52,
   "metadata": {
    "id": "rqfk-85UyPb9"
   },
   "outputs": [],
   "source": [
    "data = bag_to_dict(bag_of_words_corpus, gensim_dic, titles=[\"ADA\", \"BROCOLI\", \"FIXED\"])"
   ]
  },
  {
   "cell_type": "code",
   "execution_count": 53,
   "metadata": {
    "colab": {
     "base_uri": "https://localhost:8080/"
    },
    "id": "Oj2Lh0gJlA_W",
    "outputId": "6366fbdf-5036-4a51-8d94-9141e11a693c"
   },
   "outputs": [
    {
     "data": {
      "text/plain": [
       "{'ADA': {'acerca': 1,\n",
       "  'ada': 3,\n",
       "  'al': 1,\n",
       "  'algoritmo': 1,\n",
       "  'alla': 1,\n",
       "  'analitica': 1,\n",
       "  'aplicaciones': 1,\n",
       "  'augusta': 2,\n",
       "  'babbage': 1,\n",
       "  'britanica': 1,\n",
       "  'byron': 1,\n",
       "  'calculo': 1,\n",
       "  'celebre': 1,\n",
       "  'charles': 1,\n",
       "  'como': 4,\n",
       "  'computadora': 1,\n",
       "  'condesa': 1,\n",
       "  'conocida': 1,\n",
       "  'considera': 1,\n",
       "  'de': 9,\n",
       "  'del': 1,\n",
       "  'denominada': 1,\n",
       "  'destinado': 1,\n",
       "  'diciembre': 1,\n",
       "  'el': 1,\n",
       "  'en': 2,\n",
       "  'escritora': 1,\n",
       "  'fue': 2,\n",
       "  'general': 1,\n",
       "  'haber': 1,\n",
       "  'habitualmente': 1,\n",
       "  'hoy': 1,\n",
       "  'id': 1,\n",
       "  'king': 1,\n",
       "  'la': 5,\n",
       "  'le': 1,\n",
       "  'lo': 2,\n",
       "  'londres': 1,\n",
       "  'lovelace': 2,\n",
       "  'maquina': 3,\n",
       "  'mas': 1,\n",
       "  'matematica': 1,\n",
       "  'mecanica': 1,\n",
       "  'nacer': 1,\n",
       "  'noviembre': 1,\n",
       "  'ordenadores': 1,\n",
       "  'por': 3,\n",
       "  'primer': 1,\n",
       "  'primera': 2,\n",
       "  'procesado': 1,\n",
       "  'programadora': 1,\n",
       "  'publicado': 1,\n",
       "  'puro': 1,\n",
       "  'que': 3,\n",
       "  'reconoce': 1,\n",
       "  'reconocer': 1,\n",
       "  'registrada': 1,\n",
       "  'se': 2,\n",
       "  'ser': 1,\n",
       "  'sobre': 1,\n",
       "  'su': 1,\n",
       "  'tenia': 1,\n",
       "  'todo': 1,\n",
       "  'trabajo': 1,\n",
       "  'una': 2,\n",
       "  'uso': 1},\n",
       " 'BROCOLI': {'como': 1,\n",
       "  'de': 5,\n",
       "  'del': 1,\n",
       "  'el': 3,\n",
       "  'la': 4,\n",
       "  'una': 2,\n",
       "  'alboglabra': 1,\n",
       "  'botrytis': 1,\n",
       "  'brasicaceas': 1,\n",
       "  'brassica': 2,\n",
       "  'brecol': 1,\n",
       "  'broccoli': 1,\n",
       "  'brocoli': 2,\n",
       "  'broquil': 1,\n",
       "  'brote': 1,\n",
       "  'bruselas': 1,\n",
       "  'capitata': 1,\n",
       "  'chino': 1,\n",
       "  'col': 1,\n",
       "  'coliflor': 1,\n",
       "  'colinabo': 1,\n",
       "  'es': 2,\n",
       "  'especie': 1,\n",
       "  'existen': 1,\n",
       "  'familia': 1,\n",
       "  'gemmifera': 1,\n",
       "  'gongylodes': 1,\n",
       "  'italiano': 1,\n",
       "  'italica': 1,\n",
       "  'kai': 1,\n",
       "  'lan': 1,\n",
       "  'las': 1,\n",
       "  'llamado': 1,\n",
       "  'misma': 1,\n",
       "  'oleracea': 2,\n",
       "  'otras': 1,\n",
       "  'planta': 1,\n",
       "  'repollo': 1,\n",
       "  'tales': 1,\n",
       "  'tambien': 1,\n",
       "  'var': 1,\n",
       "  'variedad': 1,\n",
       "  'variedades': 1},\n",
       " 'FIXED': {'al': 1,\n",
       "  'de': 3,\n",
       "  'en': 2,\n",
       "  'la': 5,\n",
       "  'lo': 1,\n",
       "  'por': 1,\n",
       "  'que': 5,\n",
       "  'se': 2,\n",
       "  'una': 2,\n",
       "  'es': 2,\n",
       "  'tambien': 1,\n",
       "  'atras': 1,\n",
       "  'bicicleta': 3,\n",
       "  'cadena': 1,\n",
       "  'cuando': 1,\n",
       "  'decir': 1,\n",
       "  'dejar': 1,\n",
       "  'esta': 1,\n",
       "  'estan': 1,\n",
       "  'este': 1,\n",
       "  'esto': 1,\n",
       "  'fijo': 1,\n",
       "  'fixed': 1,\n",
       "  'fixie': 1,\n",
       "  'frenar': 1,\n",
       "  'fuerza': 1,\n",
       "  'giraran': 1,\n",
       "  'gire': 1,\n",
       "  'haciendo': 1,\n",
       "  'inversa': 1,\n",
       "  'ir': 1,\n",
       "  'libre': 1,\n",
       "  'los': 2,\n",
       "  'marcha': 3,\n",
       "  'mientras': 1,\n",
       "  'monomarcha': 1,\n",
       "  'motivo': 1,\n",
       "  'movimiento': 1,\n",
       "  'muerto': 1,\n",
       "  'no': 3,\n",
       "  'pedalear': 1,\n",
       "  'pedales': 2,\n",
       "  'pinon': 2,\n",
       "  'puede': 2,\n",
       "  'punto': 1,\n",
       "  'rueda': 1,\n",
       "  'sentido': 1,\n",
       "  'siempre': 2,\n",
       "  'significa': 2,\n",
       "  'solidariamente': 1,\n",
       "  'tiene': 2,\n",
       "  'trasera': 1,\n",
       "  'ya': 1}}"
      ]
     },
     "execution_count": 53,
     "metadata": {},
     "output_type": "execute_result"
    }
   ],
   "source": [
    "data"
   ]
  },
  {
   "cell_type": "code",
   "execution_count": 54,
   "metadata": {
    "id": "8XF444cA2U5r"
   },
   "outputs": [],
   "source": [
    "import pandas as pd\n",
    "\n",
    "doc_matrix_simple = pd.DataFrame(data).fillna(0).astype(int).T"
   ]
  },
  {
   "cell_type": "code",
   "execution_count": 55,
   "metadata": {
    "colab": {
     "base_uri": "https://localhost:8080/",
     "height": 192
    },
    "id": "kInN4KlWleRR",
    "outputId": "98206898-e438-4554-a5cf-23bbc794911b"
   },
   "outputs": [
    {
     "data": {
      "text/html": [
       "<div>\n",
       "<style scoped>\n",
       "    .dataframe tbody tr th:only-of-type {\n",
       "        vertical-align: middle;\n",
       "    }\n",
       "\n",
       "    .dataframe tbody tr th {\n",
       "        vertical-align: top;\n",
       "    }\n",
       "\n",
       "    .dataframe thead th {\n",
       "        text-align: right;\n",
       "    }\n",
       "</style>\n",
       "<table border=\"1\" class=\"dataframe\">\n",
       "  <thead>\n",
       "    <tr style=\"text-align: right;\">\n",
       "      <th></th>\n",
       "      <th>acerca</th>\n",
       "      <th>ada</th>\n",
       "      <th>al</th>\n",
       "      <th>algoritmo</th>\n",
       "      <th>alla</th>\n",
       "      <th>analitica</th>\n",
       "      <th>aplicaciones</th>\n",
       "      <th>augusta</th>\n",
       "      <th>babbage</th>\n",
       "      <th>britanica</th>\n",
       "      <th>...</th>\n",
       "      <th>puede</th>\n",
       "      <th>punto</th>\n",
       "      <th>rueda</th>\n",
       "      <th>sentido</th>\n",
       "      <th>siempre</th>\n",
       "      <th>significa</th>\n",
       "      <th>solidariamente</th>\n",
       "      <th>tiene</th>\n",
       "      <th>trasera</th>\n",
       "      <th>ya</th>\n",
       "    </tr>\n",
       "  </thead>\n",
       "  <tbody>\n",
       "    <tr>\n",
       "      <th>ADA</th>\n",
       "      <td>1</td>\n",
       "      <td>3</td>\n",
       "      <td>1</td>\n",
       "      <td>1</td>\n",
       "      <td>1</td>\n",
       "      <td>1</td>\n",
       "      <td>1</td>\n",
       "      <td>2</td>\n",
       "      <td>1</td>\n",
       "      <td>1</td>\n",
       "      <td>...</td>\n",
       "      <td>0</td>\n",
       "      <td>0</td>\n",
       "      <td>0</td>\n",
       "      <td>0</td>\n",
       "      <td>0</td>\n",
       "      <td>0</td>\n",
       "      <td>0</td>\n",
       "      <td>0</td>\n",
       "      <td>0</td>\n",
       "      <td>0</td>\n",
       "    </tr>\n",
       "    <tr>\n",
       "      <th>BROCOLI</th>\n",
       "      <td>0</td>\n",
       "      <td>0</td>\n",
       "      <td>0</td>\n",
       "      <td>0</td>\n",
       "      <td>0</td>\n",
       "      <td>0</td>\n",
       "      <td>0</td>\n",
       "      <td>0</td>\n",
       "      <td>0</td>\n",
       "      <td>0</td>\n",
       "      <td>...</td>\n",
       "      <td>0</td>\n",
       "      <td>0</td>\n",
       "      <td>0</td>\n",
       "      <td>0</td>\n",
       "      <td>0</td>\n",
       "      <td>0</td>\n",
       "      <td>0</td>\n",
       "      <td>0</td>\n",
       "      <td>0</td>\n",
       "      <td>0</td>\n",
       "    </tr>\n",
       "    <tr>\n",
       "      <th>FIXED</th>\n",
       "      <td>0</td>\n",
       "      <td>0</td>\n",
       "      <td>1</td>\n",
       "      <td>0</td>\n",
       "      <td>0</td>\n",
       "      <td>0</td>\n",
       "      <td>0</td>\n",
       "      <td>0</td>\n",
       "      <td>0</td>\n",
       "      <td>0</td>\n",
       "      <td>...</td>\n",
       "      <td>2</td>\n",
       "      <td>1</td>\n",
       "      <td>1</td>\n",
       "      <td>1</td>\n",
       "      <td>2</td>\n",
       "      <td>2</td>\n",
       "      <td>1</td>\n",
       "      <td>2</td>\n",
       "      <td>1</td>\n",
       "      <td>1</td>\n",
       "    </tr>\n",
       "  </tbody>\n",
       "</table>\n",
       "<p>3 rows × 145 columns</p>\n",
       "</div>"
      ],
      "text/plain": [
       "         acerca  ada  al  algoritmo  alla  analitica  aplicaciones  augusta  \\\n",
       "ADA           1    3   1          1     1          1             1        2   \n",
       "BROCOLI       0    0   0          0     0          0             0        0   \n",
       "FIXED         0    0   1          0     0          0             0        0   \n",
       "\n",
       "         babbage  britanica  ...  puede  punto  rueda  sentido  siempre  \\\n",
       "ADA            1          1  ...      0      0      0        0        0   \n",
       "BROCOLI        0          0  ...      0      0      0        0        0   \n",
       "FIXED          0          0  ...      2      1      1        1        2   \n",
       "\n",
       "         significa  solidariamente  tiene  trasera  ya  \n",
       "ADA              0               0      0        0   0  \n",
       "BROCOLI          0               0      0        0   0  \n",
       "FIXED            2               1      2        1   1  \n",
       "\n",
       "[3 rows x 145 columns]"
      ]
     },
     "execution_count": 55,
     "metadata": {},
     "output_type": "execute_result"
    }
   ],
   "source": [
    "doc_matrix_simple"
   ]
  },
  {
   "cell_type": "markdown",
   "metadata": {
    "id": "bVPeYSW_QUeW"
   },
   "source": [
    "- Tenemos una matrix de terminos-frecuencias ($tf$). Es decir cuantas veces un termino aparece en cierto documento.\n",
    "- Una variante de esta es una **BoW** binaria. ¿Cómo se vería?\n"
   ]
  },
  {
   "cell_type": "markdown",
   "metadata": {
    "id": "mjQxKiYSriBb"
   },
   "source": [
    "**¿Ven algun problema?**"
   ]
  },
  {
   "cell_type": "markdown",
   "metadata": {
    "id": "uX5SRzqKrj-v"
   },
   "source": [
    "- Palabras muy frecuentes que no aportan signifiancia\n",
    "- Los pesos de las palabras son tratados de forma equitativa\n",
    "    - Palabras muy frecuentes opacan las menos frecuentes y con mayor significado (semántico) en nuestros documentos\n",
    "- Las palabras frecuentes no nos ayudarian a discriminar por ejemplo entre documentos"
   ]
  },
  {
   "cell_type": "markdown",
   "metadata": {
    "id": "HSUz5DC2tpsG"
   },
   "source": [
    "#### *Term frequency-Inverse Document Frequency* (TF-IDF) al rescate\n",
    "\n",
    "<center><img src=\"https://media.tenor.com/Hqyg8s_gh5QAAAAd/perfectly-balanced-thanos.gif\" height=250></center>"
   ]
  },
  {
   "cell_type": "markdown",
   "metadata": {
    "id": "vv323MYjtsaq"
   },
   "source": [
    "- Metodo de ponderación creado para algoritmos de Information Retrieval\n",
    "- Bueno para clasificación de documentos y clustering\n",
    "- Se calcula con la multiplicacion $tf_{d,t} \\cdot idf_t$\n",
    "\n",
    "Donde:\n",
    "  - $tf_{d,t}$ es la frecuencia del termino en un documento $d$\n",
    "  - $idf_t$ es la frecuencia inversa del termino en toda la colección de documentos. Se calcula de la siguiente forma:\n",
    "\n",
    "$$idf_t = log_2\\frac{N}{df_t}$$\n",
    "\n",
    "Entonces:\n",
    "\n",
    "$$tf\\_idf(d,t) = tf_{d,t} ⋅ \\log_2\\frac{N}{df_t}$$"
   ]
  },
  {
   "cell_type": "markdown",
   "metadata": {
    "id": "eeHYU9zwwlPD"
   },
   "source": [
    "#### 🧮 Ejercicio: Aplica TF-IDF usando gensim\n",
    "\n",
    "**HINT:** https://radimrehurek.com/gensim/models/tfidfmodel.html"
   ]
  },
  {
   "cell_type": "code",
   "execution_count": 56,
   "metadata": {
    "id": "Uiet-hv7fCJB"
   },
   "outputs": [],
   "source": [
    "from gensim.models import TfidfModel\n",
    "\n",
    "tfidf = TfidfModel(bag_of_words_corpus, smartirs=\"ntc\")"
   ]
  },
  {
   "cell_type": "code",
   "execution_count": 57,
   "metadata": {
    "colab": {
     "base_uri": "https://localhost:8080/"
    },
    "id": "fiU6-_i9gykM",
    "outputId": "41a6b8a1-ef42-410b-b7e5-e6962b917949"
   },
   "outputs": [
    {
     "data": {
      "text/plain": [
       "[(0, 0.10051035884473423),\n",
       " (1, 0.3015310765342027),\n",
       " (2, 0.05025517942236712),\n",
       " (3, 0.10051035884473423),\n",
       " (4, 0.10051035884473423),\n",
       " (5, 0.10051035884473423),\n",
       " (6, 0.10051035884473423),\n",
       " (7, 0.20102071768946847),\n",
       " (8, 0.10051035884473423),\n",
       " (9, 0.10051035884473423),\n",
       " (10, 0.10051035884473423),\n",
       " (11, 0.10051035884473423),\n",
       " (12, 0.10051035884473423),\n",
       " (13, 0.10051035884473423),\n",
       " (14, 0.20102071768946847),\n",
       " (15, 0.10051035884473423),\n",
       " (16, 0.10051035884473423),\n",
       " (17, 0.10051035884473423),\n",
       " (18, 0.10051035884473423),\n",
       " (19, 0.1877200559394197),\n",
       " (20, 0.05025517942236712),\n",
       " (21, 0.10051035884473423),\n",
       " (22, 0.10051035884473423),\n",
       " (23, 0.10051035884473423),\n",
       " (24, 0.05025517942236712),\n",
       " (25, 0.10051035884473423),\n",
       " (26, 0.10051035884473423),\n",
       " (27, 0.20102071768946847),\n",
       " (28, 0.10051035884473423),\n",
       " (29, 0.10051035884473423),\n",
       " (30, 0.10051035884473423),\n",
       " (31, 0.10051035884473423),\n",
       " (32, 0.10051035884473423),\n",
       " (33, 0.10051035884473423),\n",
       " (34, 0.10428891996634428),\n",
       " (35, 0.10051035884473423),\n",
       " (36, 0.10051035884473423),\n",
       " (37, 0.10051035884473423),\n",
       " (38, 0.20102071768946847),\n",
       " (39, 0.3015310765342027),\n",
       " (40, 0.10051035884473423),\n",
       " (41, 0.10051035884473423),\n",
       " (42, 0.10051035884473423),\n",
       " (43, 0.10051035884473423),\n",
       " (44, 0.10051035884473423),\n",
       " (45, 0.10051035884473423),\n",
       " (46, 0.15076553826710135),\n",
       " (47, 0.10051035884473423),\n",
       " (48, 0.20102071768946847),\n",
       " (49, 0.10051035884473423),\n",
       " (50, 0.10051035884473423),\n",
       " (51, 0.10051035884473423),\n",
       " (52, 0.10051035884473423),\n",
       " (53, 0.15076553826710135),\n",
       " (54, 0.10051035884473423),\n",
       " (55, 0.10051035884473423),\n",
       " (56, 0.10051035884473423),\n",
       " (57, 0.10051035884473423),\n",
       " (58, 0.10051035884473423),\n",
       " (59, 0.10051035884473423),\n",
       " (60, 0.10051035884473423),\n",
       " (61, 0.10051035884473423),\n",
       " (62, 0.10051035884473423),\n",
       " (63, 0.10051035884473423),\n",
       " (64, 0.04171556798653771),\n",
       " (65, 0.10051035884473423)]"
      ]
     },
     "execution_count": 57,
     "metadata": {},
     "output_type": "execute_result"
    }
   ],
   "source": [
    "tfidf[bag_of_words_corpus[0]]"
   ]
  },
  {
   "cell_type": "code",
   "execution_count": 58,
   "metadata": {
    "id": "9gZtTwSLg5xn"
   },
   "outputs": [],
   "source": [
    "def bag_to_dict_tfidf(bag_of_words: list, gensim_dic: Dictionary, titles: list[str]) -> list:\n",
    "    data = {}\n",
    "    tfidf = TfidfModel(bag_of_words, smartirs=\"ntc\")\n",
    "    for doc, title in zip(tfidf[bag_of_words], titles):\n",
    "        data[title] = dict([(gensim_dic[id], freq) for id, freq in doc])\n",
    "    return data"
   ]
  },
  {
   "cell_type": "code",
   "execution_count": 59,
   "metadata": {
    "id": "UlY-L3v9g_5R"
   },
   "outputs": [],
   "source": [
    "data = bag_to_dict_tfidf(bag_of_words_corpus, gensim_dic, titles=[\"ADA\", \"BROCOLI\", \"FIXED\"])"
   ]
  },
  {
   "cell_type": "code",
   "execution_count": 60,
   "metadata": {
    "colab": {
     "base_uri": "https://localhost:8080/"
    },
    "id": "XrtUhDuPhCcH",
    "outputId": "b36cb3c0-93cf-4736-d9f7-f31b8134a826"
   },
   "outputs": [
    {
     "data": {
      "text/plain": [
       "{'ADA': {'acerca': 0.10051035884473423,\n",
       "  'ada': 0.3015310765342027,\n",
       "  'al': 0.05025517942236712,\n",
       "  'algoritmo': 0.10051035884473423,\n",
       "  'alla': 0.10051035884473423,\n",
       "  'analitica': 0.10051035884473423,\n",
       "  'aplicaciones': 0.10051035884473423,\n",
       "  'augusta': 0.20102071768946847,\n",
       "  'babbage': 0.10051035884473423,\n",
       "  'britanica': 0.10051035884473423,\n",
       "  'byron': 0.10051035884473423,\n",
       "  'calculo': 0.10051035884473423,\n",
       "  'celebre': 0.10051035884473423,\n",
       "  'charles': 0.10051035884473423,\n",
       "  'como': 0.20102071768946847,\n",
       "  'computadora': 0.10051035884473423,\n",
       "  'condesa': 0.10051035884473423,\n",
       "  'conocida': 0.10051035884473423,\n",
       "  'considera': 0.10051035884473423,\n",
       "  'de': 0.1877200559394197,\n",
       "  'del': 0.05025517942236712,\n",
       "  'denominada': 0.10051035884473423,\n",
       "  'destinado': 0.10051035884473423,\n",
       "  'diciembre': 0.10051035884473423,\n",
       "  'el': 0.05025517942236712,\n",
       "  'en': 0.10051035884473423,\n",
       "  'escritora': 0.10051035884473423,\n",
       "  'fue': 0.20102071768946847,\n",
       "  'general': 0.10051035884473423,\n",
       "  'haber': 0.10051035884473423,\n",
       "  'habitualmente': 0.10051035884473423,\n",
       "  'hoy': 0.10051035884473423,\n",
       "  'id': 0.10051035884473423,\n",
       "  'king': 0.10051035884473423,\n",
       "  'la': 0.10428891996634428,\n",
       "  'le': 0.10051035884473423,\n",
       "  'lo': 0.10051035884473423,\n",
       "  'londres': 0.10051035884473423,\n",
       "  'lovelace': 0.20102071768946847,\n",
       "  'maquina': 0.3015310765342027,\n",
       "  'mas': 0.10051035884473423,\n",
       "  'matematica': 0.10051035884473423,\n",
       "  'mecanica': 0.10051035884473423,\n",
       "  'nacer': 0.10051035884473423,\n",
       "  'noviembre': 0.10051035884473423,\n",
       "  'ordenadores': 0.10051035884473423,\n",
       "  'por': 0.15076553826710135,\n",
       "  'primer': 0.10051035884473423,\n",
       "  'primera': 0.20102071768946847,\n",
       "  'procesado': 0.10051035884473423,\n",
       "  'programadora': 0.10051035884473423,\n",
       "  'publicado': 0.10051035884473423,\n",
       "  'puro': 0.10051035884473423,\n",
       "  'que': 0.15076553826710135,\n",
       "  'reconoce': 0.10051035884473423,\n",
       "  'reconocer': 0.10051035884473423,\n",
       "  'registrada': 0.10051035884473423,\n",
       "  'se': 0.10051035884473423,\n",
       "  'ser': 0.10051035884473423,\n",
       "  'sobre': 0.10051035884473423,\n",
       "  'su': 0.10051035884473423,\n",
       "  'tenia': 0.10051035884473423,\n",
       "  'todo': 0.10051035884473423,\n",
       "  'trabajo': 0.10051035884473423,\n",
       "  'una': 0.04171556798653771,\n",
       "  'uso': 0.10051035884473423},\n",
       " 'BROCOLI': {'como': 0.07075464356141851,\n",
       "  'de': 0.1468291516304854,\n",
       "  'del': 0.07075464356141851,\n",
       "  'el': 0.21226393068425556,\n",
       "  'la': 0.11746332130438834,\n",
       "  'una': 0.05873166065219417,\n",
       "  'alboglabra': 0.14150928712283703,\n",
       "  'botrytis': 0.14150928712283703,\n",
       "  'brasicaceas': 0.14150928712283703,\n",
       "  'brassica': 0.28301857424567406,\n",
       "  'brecol': 0.14150928712283703,\n",
       "  'broccoli': 0.14150928712283703,\n",
       "  'brocoli': 0.28301857424567406,\n",
       "  'broquil': 0.14150928712283703,\n",
       "  'brote': 0.14150928712283703,\n",
       "  'bruselas': 0.14150928712283703,\n",
       "  'capitata': 0.14150928712283703,\n",
       "  'chino': 0.14150928712283703,\n",
       "  'col': 0.14150928712283703,\n",
       "  'coliflor': 0.14150928712283703,\n",
       "  'colinabo': 0.14150928712283703,\n",
       "  'es': 0.14150928712283703,\n",
       "  'especie': 0.14150928712283703,\n",
       "  'existen': 0.14150928712283703,\n",
       "  'familia': 0.14150928712283703,\n",
       "  'gemmifera': 0.14150928712283703,\n",
       "  'gongylodes': 0.14150928712283703,\n",
       "  'italiano': 0.14150928712283703,\n",
       "  'italica': 0.14150928712283703,\n",
       "  'kai': 0.14150928712283703,\n",
       "  'lan': 0.14150928712283703,\n",
       "  'las': 0.14150928712283703,\n",
       "  'llamado': 0.14150928712283703,\n",
       "  'misma': 0.14150928712283703,\n",
       "  'oleracea': 0.28301857424567406,\n",
       "  'otras': 0.14150928712283703,\n",
       "  'planta': 0.14150928712283703,\n",
       "  'repollo': 0.14150928712283703,\n",
       "  'tales': 0.14150928712283703,\n",
       "  'tambien': 0.07075464356141851,\n",
       "  'var': 0.14150928712283703,\n",
       "  'variedad': 0.14150928712283703,\n",
       "  'variedades': 0.14150928712283703},\n",
       " 'FIXED': {'al': 0.050280738547640556,\n",
       "  'de': 0.0626051759661183,\n",
       "  'en': 0.10056147709528111,\n",
       "  'la': 0.10434195994353049,\n",
       "  'lo': 0.050280738547640556,\n",
       "  'por': 0.050280738547640556,\n",
       "  'que': 0.2514036927382028,\n",
       "  'se': 0.10056147709528111,\n",
       "  'una': 0.0417367839774122,\n",
       "  'es': 0.10056147709528111,\n",
       "  'tambien': 0.050280738547640556,\n",
       "  'atras': 0.10056147709528111,\n",
       "  'bicicleta': 0.3016844312858433,\n",
       "  'cadena': 0.10056147709528111,\n",
       "  'cuando': 0.10056147709528111,\n",
       "  'decir': 0.10056147709528111,\n",
       "  'dejar': 0.10056147709528111,\n",
       "  'esta': 0.10056147709528111,\n",
       "  'estan': 0.10056147709528111,\n",
       "  'este': 0.10056147709528111,\n",
       "  'esto': 0.10056147709528111,\n",
       "  'fijo': 0.10056147709528111,\n",
       "  'fixed': 0.10056147709528111,\n",
       "  'fixie': 0.10056147709528111,\n",
       "  'frenar': 0.10056147709528111,\n",
       "  'fuerza': 0.10056147709528111,\n",
       "  'giraran': 0.10056147709528111,\n",
       "  'gire': 0.10056147709528111,\n",
       "  'haciendo': 0.10056147709528111,\n",
       "  'inversa': 0.10056147709528111,\n",
       "  'ir': 0.10056147709528111,\n",
       "  'libre': 0.10056147709528111,\n",
       "  'los': 0.20112295419056223,\n",
       "  'marcha': 0.3016844312858433,\n",
       "  'mientras': 0.10056147709528111,\n",
       "  'monomarcha': 0.10056147709528111,\n",
       "  'motivo': 0.10056147709528111,\n",
       "  'movimiento': 0.10056147709528111,\n",
       "  'muerto': 0.10056147709528111,\n",
       "  'no': 0.3016844312858433,\n",
       "  'pedalear': 0.10056147709528111,\n",
       "  'pedales': 0.20112295419056223,\n",
       "  'pinon': 0.20112295419056223,\n",
       "  'puede': 0.20112295419056223,\n",
       "  'punto': 0.10056147709528111,\n",
       "  'rueda': 0.10056147709528111,\n",
       "  'sentido': 0.10056147709528111,\n",
       "  'siempre': 0.20112295419056223,\n",
       "  'significa': 0.20112295419056223,\n",
       "  'solidariamente': 0.10056147709528111,\n",
       "  'tiene': 0.20112295419056223,\n",
       "  'trasera': 0.10056147709528111,\n",
       "  'ya': 0.10056147709528111}}"
      ]
     },
     "execution_count": 60,
     "metadata": {},
     "output_type": "execute_result"
    }
   ],
   "source": [
    "data"
   ]
  },
  {
   "cell_type": "code",
   "execution_count": 61,
   "metadata": {
    "id": "bnwvCsWahKdm"
   },
   "outputs": [],
   "source": [
    "doc_matrix_tfidf = pd.DataFrame(data).fillna(0).T"
   ]
  },
  {
   "cell_type": "code",
   "execution_count": 62,
   "metadata": {
    "colab": {
     "base_uri": "https://localhost:8080/",
     "height": 192
    },
    "id": "JrSpGYQXhSrz",
    "outputId": "63c48772-b474-4900-c13a-edbb1f20454f"
   },
   "outputs": [
    {
     "data": {
      "text/html": [
       "<div>\n",
       "<style scoped>\n",
       "    .dataframe tbody tr th:only-of-type {\n",
       "        vertical-align: middle;\n",
       "    }\n",
       "\n",
       "    .dataframe tbody tr th {\n",
       "        vertical-align: top;\n",
       "    }\n",
       "\n",
       "    .dataframe thead th {\n",
       "        text-align: right;\n",
       "    }\n",
       "</style>\n",
       "<table border=\"1\" class=\"dataframe\">\n",
       "  <thead>\n",
       "    <tr style=\"text-align: right;\">\n",
       "      <th></th>\n",
       "      <th>acerca</th>\n",
       "      <th>ada</th>\n",
       "      <th>al</th>\n",
       "      <th>algoritmo</th>\n",
       "      <th>alla</th>\n",
       "      <th>analitica</th>\n",
       "      <th>aplicaciones</th>\n",
       "      <th>augusta</th>\n",
       "      <th>babbage</th>\n",
       "      <th>britanica</th>\n",
       "      <th>...</th>\n",
       "      <th>puede</th>\n",
       "      <th>punto</th>\n",
       "      <th>rueda</th>\n",
       "      <th>sentido</th>\n",
       "      <th>siempre</th>\n",
       "      <th>significa</th>\n",
       "      <th>solidariamente</th>\n",
       "      <th>tiene</th>\n",
       "      <th>trasera</th>\n",
       "      <th>ya</th>\n",
       "    </tr>\n",
       "  </thead>\n",
       "  <tbody>\n",
       "    <tr>\n",
       "      <th>ADA</th>\n",
       "      <td>0.10051</td>\n",
       "      <td>0.301531</td>\n",
       "      <td>0.050255</td>\n",
       "      <td>0.10051</td>\n",
       "      <td>0.10051</td>\n",
       "      <td>0.10051</td>\n",
       "      <td>0.10051</td>\n",
       "      <td>0.201021</td>\n",
       "      <td>0.10051</td>\n",
       "      <td>0.10051</td>\n",
       "      <td>...</td>\n",
       "      <td>0.000000</td>\n",
       "      <td>0.000000</td>\n",
       "      <td>0.000000</td>\n",
       "      <td>0.000000</td>\n",
       "      <td>0.000000</td>\n",
       "      <td>0.000000</td>\n",
       "      <td>0.000000</td>\n",
       "      <td>0.000000</td>\n",
       "      <td>0.000000</td>\n",
       "      <td>0.000000</td>\n",
       "    </tr>\n",
       "    <tr>\n",
       "      <th>BROCOLI</th>\n",
       "      <td>0.00000</td>\n",
       "      <td>0.000000</td>\n",
       "      <td>0.000000</td>\n",
       "      <td>0.00000</td>\n",
       "      <td>0.00000</td>\n",
       "      <td>0.00000</td>\n",
       "      <td>0.00000</td>\n",
       "      <td>0.000000</td>\n",
       "      <td>0.00000</td>\n",
       "      <td>0.00000</td>\n",
       "      <td>...</td>\n",
       "      <td>0.000000</td>\n",
       "      <td>0.000000</td>\n",
       "      <td>0.000000</td>\n",
       "      <td>0.000000</td>\n",
       "      <td>0.000000</td>\n",
       "      <td>0.000000</td>\n",
       "      <td>0.000000</td>\n",
       "      <td>0.000000</td>\n",
       "      <td>0.000000</td>\n",
       "      <td>0.000000</td>\n",
       "    </tr>\n",
       "    <tr>\n",
       "      <th>FIXED</th>\n",
       "      <td>0.00000</td>\n",
       "      <td>0.000000</td>\n",
       "      <td>0.050281</td>\n",
       "      <td>0.00000</td>\n",
       "      <td>0.00000</td>\n",
       "      <td>0.00000</td>\n",
       "      <td>0.00000</td>\n",
       "      <td>0.000000</td>\n",
       "      <td>0.00000</td>\n",
       "      <td>0.00000</td>\n",
       "      <td>...</td>\n",
       "      <td>0.201123</td>\n",
       "      <td>0.100561</td>\n",
       "      <td>0.100561</td>\n",
       "      <td>0.100561</td>\n",
       "      <td>0.201123</td>\n",
       "      <td>0.201123</td>\n",
       "      <td>0.100561</td>\n",
       "      <td>0.201123</td>\n",
       "      <td>0.100561</td>\n",
       "      <td>0.100561</td>\n",
       "    </tr>\n",
       "  </tbody>\n",
       "</table>\n",
       "<p>3 rows × 145 columns</p>\n",
       "</div>"
      ],
      "text/plain": [
       "          acerca       ada        al  algoritmo     alla  analitica  \\\n",
       "ADA      0.10051  0.301531  0.050255    0.10051  0.10051    0.10051   \n",
       "BROCOLI  0.00000  0.000000  0.000000    0.00000  0.00000    0.00000   \n",
       "FIXED    0.00000  0.000000  0.050281    0.00000  0.00000    0.00000   \n",
       "\n",
       "         aplicaciones   augusta  babbage  britanica  ...     puede     punto  \\\n",
       "ADA           0.10051  0.201021  0.10051    0.10051  ...  0.000000  0.000000   \n",
       "BROCOLI       0.00000  0.000000  0.00000    0.00000  ...  0.000000  0.000000   \n",
       "FIXED         0.00000  0.000000  0.00000    0.00000  ...  0.201123  0.100561   \n",
       "\n",
       "            rueda   sentido   siempre  significa  solidariamente     tiene  \\\n",
       "ADA      0.000000  0.000000  0.000000   0.000000        0.000000  0.000000   \n",
       "BROCOLI  0.000000  0.000000  0.000000   0.000000        0.000000  0.000000   \n",
       "FIXED    0.100561  0.100561  0.201123   0.201123        0.100561  0.201123   \n",
       "\n",
       "          trasera        ya  \n",
       "ADA      0.000000  0.000000  \n",
       "BROCOLI  0.000000  0.000000  \n",
       "FIXED    0.100561  0.100561  \n",
       "\n",
       "[3 rows x 145 columns]"
      ]
     },
     "execution_count": 62,
     "metadata": {},
     "output_type": "execute_result"
    }
   ],
   "source": [
    "doc_matrix_tfidf"
   ]
  },
  {
   "cell_type": "markdown",
   "metadata": {
    "id": "_NqR5YUF8l0C"
   },
   "source": [
    "#### Calculando similitud entre vectores"
   ]
  },
  {
   "cell_type": "markdown",
   "metadata": {
    "id": "Eu0NF2oG-G9S"
   },
   "source": [
    "<center><img src=\"https://cdn.acidcow.com/pics/20130320/people_who_came_face_to_face_with_their_doppelganger_19.jpg\" width=500></center>"
   ]
  },
  {
   "cell_type": "markdown",
   "metadata": {
    "id": "fsRiWh4E8oNf"
   },
   "source": [
    "La forma estandar de obtener la similitud entre vectores para **BoW** es con la distancia coseno entre ellos\n",
    "\n",
    "$$cos(\\overrightarrow{v},\\overrightarrow{w}) = \\frac{\\overrightarrow{v} \\cdot\\overrightarrow{w}}{|\\overrightarrow{v}||\\overrightarrow{w}|}$$\n",
    "\n",
    "Aunque hay muchas más formas de [calcular la distancia](https://docs.scipy.org/doc/scipy/reference/spatial.distance.html) entre vectores"
   ]
  },
  {
   "cell_type": "code",
   "execution_count": 63,
   "metadata": {
    "colab": {
     "base_uri": "https://localhost:8080/"
    },
    "id": "UR3j1Cyg0d8e",
    "outputId": "3a3db21a-ced3-4721-c9d3-4e138ef19bc8"
   },
   "outputs": [
    {
     "data": {
      "text/plain": [
       "array([[0.04168787]])"
      ]
     },
     "execution_count": 63,
     "metadata": {},
     "output_type": "execute_result"
    }
   ],
   "source": [
    "from sklearn.metrics.pairwise import cosine_similarity\n",
    "\n",
    "doc_1 = doc_matrix_tfidf.loc[\"BROCOLI\"].values.reshape(1, -1)\n",
    "doc_2 = doc_matrix_tfidf.loc[\"FIXED\"].values.reshape(1, -1)\n",
    "cosine_similarity(doc_1, doc_2)"
   ]
  },
  {
   "cell_type": "markdown",
   "metadata": {
    "id": "-7yJ0bKPzPha"
   },
   "source": [
    "#### Agregando más documentos a nuestra bolsa"
   ]
  },
  {
   "cell_type": "markdown",
   "metadata": {
    "id": "AsFXpgCDnNkL"
   },
   "source": [
    "![](https://media.tenor.com/55hA4TgUrOMAAAAM/bag-bags.gif)"
   ]
  },
  {
   "cell_type": "code",
   "execution_count": 64,
   "metadata": {
    "id": "apQF7wxgzTAL"
   },
   "outputs": [],
   "source": [
    "def update_bow(doc: str, bag_of_words: list, gensim_dic: Dictionary) -> pd.DataFrame:\n",
    "    words = simple_preprocess(doc, deacc=True)\n",
    "    bag_of_words.append(gensim_dic.doc2bow(words, allow_update=True))\n",
    "    return bag_of_words"
   ]
  },
  {
   "cell_type": "code",
   "execution_count": 65,
   "metadata": {
    "id": "zujTnoGbzVe4"
   },
   "outputs": [],
   "source": [
    "#sample_doc = \"Las bicicletas fixie, también denominadas bicicletas de piñón fijo, son bicis de una sola marcha, de piñón fijo, y sin punto muerto, por lo que se debe avanzar, frenar y dar marcha atrás con el uso de los pedales. La rueda de atrás gira cuando giran los pedales. Si pedaleas hacia delante, avanzas; si paras los pedales, frenas y si pedaleas hacia atrás, irás marcha atrás. Esto requiere de un entrenamiento añadido que la bicicleta con piñón libre no lo necesita. No obstante, las bicicletas fixie tienen muchísimas ventajas.\"\n",
    "sample_doc = \"El brócoli o brécol es una planta de la familia de las brasicáceas, como otras hortalizas que conocemos como coles. Está por tanto emparentado con verduras como la coliflor, el repollo y las diferentes coles lisas o rizadas, incluyendo el kale o las coles de Bruselas.\""
   ]
  },
  {
   "cell_type": "code",
   "execution_count": 66,
   "metadata": {
    "colab": {
     "base_uri": "https://localhost:8080/"
    },
    "id": "DwD2qDl03_Bb",
    "outputId": "b3883d2d-cd25-4a3a-8b26-b03822b31c7f"
   },
   "outputs": [
    {
     "data": {
      "text/plain": [
       "4"
      ]
     },
     "execution_count": 66,
     "metadata": {},
     "output_type": "execute_result"
    }
   ],
   "source": [
    "new_bag = update_bow(sample_doc, bag_of_words_corpus.copy(), gensim_dic)\n",
    "len(new_bag)"
   ]
  },
  {
   "cell_type": "code",
   "execution_count": 67,
   "metadata": {
    "colab": {
     "base_uri": "https://localhost:8080/"
    },
    "id": "UXoTGo0CDR9L",
    "outputId": "56acf47d-4b7b-4e8d-c370-a62ab8bc5d25"
   },
   "outputs": [
    {
     "name": "stdout",
     "output_type": "stream",
     "text": [
      "0 acerca\n",
      "1 ada\n",
      "2 al\n",
      "3 algoritmo\n",
      "4 alla\n",
      "5 analitica\n",
      "6 aplicaciones\n",
      "7 augusta\n",
      "8 babbage\n",
      "9 britanica\n",
      "10 byron\n",
      "11 calculo\n",
      "12 celebre\n",
      "13 charles\n",
      "14 como\n",
      "15 computadora\n",
      "16 condesa\n",
      "17 conocida\n",
      "18 considera\n",
      "19 de\n",
      "20 del\n",
      "21 denominada\n",
      "22 destinado\n",
      "23 diciembre\n",
      "24 el\n",
      "25 en\n",
      "26 escritora\n",
      "27 fue\n",
      "28 general\n",
      "29 haber\n",
      "30 habitualmente\n",
      "31 hoy\n",
      "32 id\n",
      "33 king\n",
      "34 la\n",
      "35 le\n",
      "36 lo\n",
      "37 londres\n",
      "38 lovelace\n",
      "39 maquina\n",
      "40 mas\n",
      "41 matematica\n",
      "42 mecanica\n",
      "43 nacer\n",
      "44 noviembre\n",
      "45 ordenadores\n",
      "46 por\n",
      "47 primer\n",
      "48 primera\n",
      "49 procesado\n",
      "50 programadora\n",
      "51 publicado\n",
      "52 puro\n",
      "53 que\n",
      "54 reconoce\n",
      "55 reconocer\n",
      "56 registrada\n",
      "57 se\n",
      "58 ser\n",
      "59 sobre\n",
      "60 su\n",
      "61 tenia\n",
      "62 todo\n",
      "63 trabajo\n",
      "64 una\n",
      "65 uso\n",
      "66 alboglabra\n",
      "67 botrytis\n",
      "68 brasicaceas\n",
      "69 brassica\n",
      "70 brecol\n",
      "71 broccoli\n",
      "72 brocoli\n",
      "73 broquil\n",
      "74 brote\n",
      "75 bruselas\n",
      "76 capitata\n",
      "77 chino\n",
      "78 col\n",
      "79 coliflor\n",
      "80 colinabo\n",
      "81 es\n",
      "82 especie\n",
      "83 existen\n",
      "84 familia\n",
      "85 gemmifera\n",
      "86 gongylodes\n",
      "87 italiano\n",
      "88 italica\n",
      "89 kai\n",
      "90 lan\n",
      "91 las\n",
      "92 llamado\n",
      "93 misma\n",
      "94 oleracea\n",
      "95 otras\n",
      "96 planta\n",
      "97 repollo\n",
      "98 tales\n",
      "99 tambien\n",
      "100 var\n",
      "101 variedad\n",
      "102 variedades\n",
      "103 atras\n",
      "104 bicicleta\n",
      "105 cadena\n",
      "106 cuando\n",
      "107 decir\n",
      "108 dejar\n",
      "109 esta\n",
      "110 estan\n",
      "111 este\n",
      "112 esto\n",
      "113 fijo\n",
      "114 fixed\n",
      "115 fixie\n",
      "116 frenar\n",
      "117 fuerza\n",
      "118 giraran\n",
      "119 gire\n",
      "120 haciendo\n",
      "121 inversa\n",
      "122 ir\n",
      "123 libre\n",
      "124 los\n",
      "125 marcha\n",
      "126 mientras\n",
      "127 monomarcha\n",
      "128 motivo\n",
      "129 movimiento\n",
      "130 muerto\n",
      "131 no\n",
      "132 pedalear\n",
      "133 pedales\n",
      "134 pinon\n",
      "135 puede\n",
      "136 punto\n",
      "137 rueda\n",
      "138 sentido\n",
      "139 siempre\n",
      "140 significa\n",
      "141 solidariamente\n",
      "142 tiene\n",
      "143 trasera\n",
      "144 ya\n",
      "145 coles\n",
      "146 con\n",
      "147 conocemos\n",
      "148 diferentes\n",
      "149 emparentado\n",
      "150 hortalizas\n",
      "151 incluyendo\n",
      "152 kale\n",
      "153 lisas\n",
      "154 rizadas\n",
      "155 tanto\n",
      "156 verduras\n"
     ]
    }
   ],
   "source": [
    "for k, v in gensim_dic.iteritems():\n",
    "    print(k, v)"
   ]
  },
  {
   "cell_type": "code",
   "execution_count": 68,
   "metadata": {
    "id": "WqhYSPxFCcCZ"
   },
   "outputs": [],
   "source": [
    "new_data = bag_to_dict_tfidf(new_bag, gensim_dic, [\"ADA\", \"BROCOLI\", \"FIXED\", \"SAMPLE\"])"
   ]
  },
  {
   "cell_type": "code",
   "execution_count": 69,
   "metadata": {
    "colab": {
     "base_uri": "https://localhost:8080/",
     "height": 224
    },
    "id": "cZWWhN1KEXBa",
    "outputId": "7b8c98d7-81f0-44ae-d51c-8e4604fc8998"
   },
   "outputs": [
    {
     "data": {
      "text/html": [
       "<div>\n",
       "<style scoped>\n",
       "    .dataframe tbody tr th:only-of-type {\n",
       "        vertical-align: middle;\n",
       "    }\n",
       "\n",
       "    .dataframe tbody tr th {\n",
       "        vertical-align: top;\n",
       "    }\n",
       "\n",
       "    .dataframe thead th {\n",
       "        text-align: right;\n",
       "    }\n",
       "</style>\n",
       "<table border=\"1\" class=\"dataframe\">\n",
       "  <thead>\n",
       "    <tr style=\"text-align: right;\">\n",
       "      <th></th>\n",
       "      <th>acerca</th>\n",
       "      <th>ada</th>\n",
       "      <th>al</th>\n",
       "      <th>algoritmo</th>\n",
       "      <th>alla</th>\n",
       "      <th>analitica</th>\n",
       "      <th>aplicaciones</th>\n",
       "      <th>augusta</th>\n",
       "      <th>babbage</th>\n",
       "      <th>britanica</th>\n",
       "      <th>...</th>\n",
       "      <th>conocemos</th>\n",
       "      <th>diferentes</th>\n",
       "      <th>emparentado</th>\n",
       "      <th>hortalizas</th>\n",
       "      <th>incluyendo</th>\n",
       "      <th>kale</th>\n",
       "      <th>lisas</th>\n",
       "      <th>rizadas</th>\n",
       "      <th>tanto</th>\n",
       "      <th>verduras</th>\n",
       "    </tr>\n",
       "  </thead>\n",
       "  <tbody>\n",
       "    <tr>\n",
       "      <th>ADA</th>\n",
       "      <td>0.104156</td>\n",
       "      <td>0.312469</td>\n",
       "      <td>0.059299</td>\n",
       "      <td>0.104156</td>\n",
       "      <td>0.104156</td>\n",
       "      <td>0.104156</td>\n",
       "      <td>0.104156</td>\n",
       "      <td>0.208313</td>\n",
       "      <td>0.104156</td>\n",
       "      <td>0.104156</td>\n",
       "      <td>...</td>\n",
       "      <td>0.000000</td>\n",
       "      <td>0.000000</td>\n",
       "      <td>0.000000</td>\n",
       "      <td>0.000000</td>\n",
       "      <td>0.000000</td>\n",
       "      <td>0.000000</td>\n",
       "      <td>0.000000</td>\n",
       "      <td>0.000000</td>\n",
       "      <td>0.000000</td>\n",
       "      <td>0.000000</td>\n",
       "    </tr>\n",
       "    <tr>\n",
       "      <th>BROCOLI</th>\n",
       "      <td>0.000000</td>\n",
       "      <td>0.000000</td>\n",
       "      <td>0.000000</td>\n",
       "      <td>0.000000</td>\n",
       "      <td>0.000000</td>\n",
       "      <td>0.000000</td>\n",
       "      <td>0.000000</td>\n",
       "      <td>0.000000</td>\n",
       "      <td>0.000000</td>\n",
       "      <td>0.000000</td>\n",
       "      <td>...</td>\n",
       "      <td>0.000000</td>\n",
       "      <td>0.000000</td>\n",
       "      <td>0.000000</td>\n",
       "      <td>0.000000</td>\n",
       "      <td>0.000000</td>\n",
       "      <td>0.000000</td>\n",
       "      <td>0.000000</td>\n",
       "      <td>0.000000</td>\n",
       "      <td>0.000000</td>\n",
       "      <td>0.000000</td>\n",
       "    </tr>\n",
       "    <tr>\n",
       "      <th>FIXED</th>\n",
       "      <td>0.000000</td>\n",
       "      <td>0.000000</td>\n",
       "      <td>0.058833</td>\n",
       "      <td>0.000000</td>\n",
       "      <td>0.000000</td>\n",
       "      <td>0.000000</td>\n",
       "      <td>0.000000</td>\n",
       "      <td>0.000000</td>\n",
       "      <td>0.000000</td>\n",
       "      <td>0.000000</td>\n",
       "      <td>...</td>\n",
       "      <td>0.000000</td>\n",
       "      <td>0.000000</td>\n",
       "      <td>0.000000</td>\n",
       "      <td>0.000000</td>\n",
       "      <td>0.000000</td>\n",
       "      <td>0.000000</td>\n",
       "      <td>0.000000</td>\n",
       "      <td>0.000000</td>\n",
       "      <td>0.000000</td>\n",
       "      <td>0.000000</td>\n",
       "    </tr>\n",
       "    <tr>\n",
       "      <th>SAMPLE</th>\n",
       "      <td>0.000000</td>\n",
       "      <td>0.000000</td>\n",
       "      <td>0.000000</td>\n",
       "      <td>0.000000</td>\n",
       "      <td>0.000000</td>\n",
       "      <td>0.000000</td>\n",
       "      <td>0.000000</td>\n",
       "      <td>0.000000</td>\n",
       "      <td>0.000000</td>\n",
       "      <td>0.000000</td>\n",
       "      <td>...</td>\n",
       "      <td>0.187176</td>\n",
       "      <td>0.187176</td>\n",
       "      <td>0.187176</td>\n",
       "      <td>0.187176</td>\n",
       "      <td>0.187176</td>\n",
       "      <td>0.187176</td>\n",
       "      <td>0.187176</td>\n",
       "      <td>0.187176</td>\n",
       "      <td>0.187176</td>\n",
       "      <td>0.187176</td>\n",
       "    </tr>\n",
       "  </tbody>\n",
       "</table>\n",
       "<p>4 rows × 157 columns</p>\n",
       "</div>"
      ],
      "text/plain": [
       "           acerca       ada        al  algoritmo      alla  analitica  \\\n",
       "ADA      0.104156  0.312469  0.059299   0.104156  0.104156   0.104156   \n",
       "BROCOLI  0.000000  0.000000  0.000000   0.000000  0.000000   0.000000   \n",
       "FIXED    0.000000  0.000000  0.058833   0.000000  0.000000   0.000000   \n",
       "SAMPLE   0.000000  0.000000  0.000000   0.000000  0.000000   0.000000   \n",
       "\n",
       "         aplicaciones   augusta   babbage  britanica  ...  conocemos  \\\n",
       "ADA          0.104156  0.208313  0.104156   0.104156  ...   0.000000   \n",
       "BROCOLI      0.000000  0.000000  0.000000   0.000000  ...   0.000000   \n",
       "FIXED        0.000000  0.000000  0.000000   0.000000  ...   0.000000   \n",
       "SAMPLE       0.000000  0.000000  0.000000   0.000000  ...   0.187176   \n",
       "\n",
       "         diferentes  emparentado  hortalizas  incluyendo      kale     lisas  \\\n",
       "ADA        0.000000     0.000000    0.000000    0.000000  0.000000  0.000000   \n",
       "BROCOLI    0.000000     0.000000    0.000000    0.000000  0.000000  0.000000   \n",
       "FIXED      0.000000     0.000000    0.000000    0.000000  0.000000  0.000000   \n",
       "SAMPLE     0.187176     0.187176    0.187176    0.187176  0.187176  0.187176   \n",
       "\n",
       "          rizadas     tanto  verduras  \n",
       "ADA      0.000000  0.000000  0.000000  \n",
       "BROCOLI  0.000000  0.000000  0.000000  \n",
       "FIXED    0.000000  0.000000  0.000000  \n",
       "SAMPLE   0.187176  0.187176  0.187176  \n",
       "\n",
       "[4 rows x 157 columns]"
      ]
     },
     "execution_count": 69,
     "metadata": {},
     "output_type": "execute_result"
    }
   ],
   "source": [
    "new_doc_matrix_tfidf = pd.DataFrame(new_data).fillna(0).T\n",
    "new_doc_matrix_tfidf"
   ]
  },
  {
   "cell_type": "markdown",
   "metadata": {
    "id": "gBmY4rfTz9s1"
   },
   "source": [
    "#### 👯‍♂️ Ejercicio: Calcula la similitud del nuevo documento con el resto de documentos"
   ]
  },
  {
   "cell_type": "code",
   "execution_count": 70,
   "metadata": {
    "colab": {
     "base_uri": "https://localhost:8080/"
    },
    "id": "Smdft7g-meXq",
    "outputId": "f9f53c82-a03b-4608-b001-19a555bbff50"
   },
   "outputs": [
    {
     "name": "stdout",
     "output_type": "stream",
     "text": [
      "Similarity beetwen SAMPLE/ADA= [[0.05585885]]\n",
      "Similarity beetwen SAMPLE/BROCOLI= [[0.18502544]]\n",
      "Similarity beetwen SAMPLE/FIXED= [[0.02966609]]\n"
     ]
    }
   ],
   "source": [
    "doc_sample_values = new_doc_matrix_tfidf.loc[\"SAMPLE\"].values.reshape(1, -1)\n",
    "\n",
    "doc_titles = [\"ADA\", \"BROCOLI\", \"FIXED\"]\n",
    "for i, doc_title in enumerate(doc_titles):\n",
    "    current_doc_values = new_doc_matrix_tfidf.loc[doc_title].values.reshape(1, -1)\n",
    "    print(f\"Similarity beetwen SAMPLE/{doc_title}= {cosine_similarity(current_doc_values, doc_sample_values)}\")"
   ]
  },
  {
   "cell_type": "markdown",
   "metadata": {
    "id": "ZPUhoPghmtFC"
   },
   "source": [
    "## Práctica 2: Propiedades estadísticas de la lengua\n",
    "\n",
    "### Fecha de entrega: 2 de Marzo de 2025 11:59pm\n",
    "\n",
    "1. Verificar si la ley de Zipf se cumple en un lenguaje artificial creado por ustedes.\n",
    "    - *Ejemplo:* Un \"lenguaje artificial\" podría ser simplemente un texto donde las secuencias de caracteres fueron generadas aleatoriamente.\n"
   ]
  },
  {
   "cell_type": "code",
   "execution_count": 71,
   "metadata": {
    "id": "xZuZT2rbIsCm"
   },
   "outputs": [],
   "source": [
    "def generate_word(length: int) -> str:\n",
    "    \"\"\"\n",
    "    Generate a random word.\n",
    "    Parameters:\n",
    "      length: The length of the word to generate.\n",
    "      seed: The seed to use for the random number generator.\n",
    "    Returns:\n",
    "      A string with the generated word.\n",
    "    \"\"\"\n",
    "    vowels = \"aeiou\"\n",
    "    consonants = \"bcdfghjklmnpqrstvwxyz\"\n",
    "    probs_num_cons = [0.45, 0.3, 0.15, 0.1]\n",
    "    probs_num_vow = [0.55, 0.3, 0.15]\n",
    "    prob_begin_vowel = 0.5\n",
    "\n",
    "    word = \"\"\n",
    "    next_vowel = False\n",
    "    if np.random.rand() < prob_begin_vowel:\n",
    "        num_vow = np.random.choice([1, 2, 3], p=probs_num_vow)\n",
    "        for _ in range(num_vow):\n",
    "            word += random.choice(vowels)\n",
    "    else:\n",
    "        num_cons = np.random.choice([1, 2, 3, 4], p=probs_num_cons)\n",
    "        for _ in range(num_cons):\n",
    "            word += random.choice(consonants)\n",
    "        next_vowel = True\n",
    "\n",
    "    while len(word) < length:\n",
    "        if next_vowel:\n",
    "            num_vow = np.random.choice([1, 2, 3], p=probs_num_vow)\n",
    "            for _ in range(num_vow):\n",
    "                word += random.choice(vowels)\n",
    "            next_vowel = False\n",
    "        else:\n",
    "            num_cons = np.random.choice([1, 2, 3, 4], p=probs_num_cons)\n",
    "            for _ in range(num_cons):\n",
    "                word += random.choice(consonants)\n",
    "            next_vowel = True\n",
    "\n",
    "    if length < len(word):\n",
    "        word = word[:length]\n",
    "    return word"
   ]
  },
  {
   "cell_type": "code",
   "execution_count": 72,
   "metadata": {
    "id": "vVuw6QRUE_1x"
   },
   "outputs": [],
   "source": [
    "def generate_text(length: int, matrix_transition: np.ndarray, seed: int = 42) -> str:\n",
    "    \"\"\"\n",
    "    Generate a text with random characters.\n",
    "    Parameters:\n",
    "      length: The length of the text to generate.\n",
    "      seed: The seed to use for the random number generator.\n",
    "    Returns:\n",
    "      A string with the generated text.\n",
    "    \"\"\"\n",
    "    text = []\n",
    "    length_ = np.random.poisson(3)\n",
    "    if length_ < 1 or length_ > 25:\n",
    "        length_ = 3\n",
    "    text.append(generate_word(length_))\n",
    "    while len(text) < length:\n",
    "        probs_next_length = matrix_transition[length_-1]\n",
    "        length_ = np.random.choice(range(1, matrix_transition.shape[0]+1), p=probs_next_length)\n",
    "        text.append(generate_word(length_))\n",
    "\n",
    "    return text"
   ]
  },
  {
   "cell_type": "code",
   "execution_count": 73,
   "metadata": {
    "id": "-JvWd7UTOLNO"
   },
   "outputs": [],
   "source": [
    "# Definir los estados: Longitudes de palabra de 1 a 25\n",
    "max_length = 25\n",
    "states = np.arange(1, max_length + 1)\n",
    "\n",
    "# Crear una distribución inicial que favorezca palabras cortas (usando una distribución inversa)\n",
    "initial_distribution = 1 / states  # Más peso a palabras cortas\n",
    "initial_distribution /= initial_distribution.sum()  # Normalizar\n",
    "\n",
    "# Matriz de transición: Probabilidad de ir de una longitud a otra\n",
    "transition_matrix = np.zeros((max_length, max_length))\n",
    "\n",
    "# Construir la matriz con mayor probabilidad de transiciones cercanas\n",
    "for i in range(max_length):\n",
    "    for j in range(max_length):\n",
    "        distancia = abs(states[i] - states[j])\n",
    "        transition_matrix[i, j] = np.exp(-0.5 * distancia)  # Penalizar saltos grandes\n",
    "\n",
    "    # Favorecer la longitud actual y normalizar la fila\n",
    "    transition_matrix[i] *= initial_distribution[i]\n",
    "    transition_matrix[i] /= transition_matrix[i].sum()"
   ]
  },
  {
   "cell_type": "code",
   "execution_count": 74,
   "metadata": {
    "id": "uw7Jd0MnQGJ1"
   },
   "outputs": [],
   "source": [
    "text = pd.Series(generate_text(100000, transition_matrix))"
   ]
  },
  {
   "cell_type": "code",
   "execution_count": 75,
   "metadata": {
    "id": "HfQ0qTEZQbwI"
   },
   "outputs": [],
   "source": [
    "words_counts = text.value_counts()"
   ]
  },
  {
   "cell_type": "code",
   "execution_count": 76,
   "metadata": {
    "colab": {
     "base_uri": "https://localhost:8080/",
     "height": 453
    },
    "id": "ND1iVYd_Ut1z",
    "outputId": "ac380e40-09af-433d-c154-de537ffac217"
   },
   "outputs": [
    {
     "data": {
      "image/png": "[encoded data removed]",
      "text/plain": [
       "<Figure size 750x450 with 1 Axes>"
      ]
     },
     "metadata": {},
     "output_type": "display_data"
    }
   ],
   "source": [
    "plt.figure(figsize=(7.5, 4.5))\n",
    "plt.plot(words_counts.index, words_counts.values)\n",
    "plt.xlabel('Word length')\n",
    "plt.xscale('log')\n",
    "plt.yscale('log')\n",
    "plt.title('Word length distribution')\n",
    "plt.show()"
   ]
  },
  {
   "cell_type": "markdown",
   "metadata": {
    "id": "e_555b3wXhV0"
   },
   "source": [
    "Podemos ver cómo las frecuencias de las palabras siguen un comportamiento similar a la Ley de Zipf, esto se debe a cómo se construyo el lenguaje, si bien se usan caracteres aleatorios, para la construcción de las palabras se consideró la secuencia CVCV consonante - vocal / vocal - consonante para cosntruirlas considerando probabilidades altas para secuencias monovocálicas, un poco menos para diptongos y poco menos para triptongos; para las secuencias de consonantes se consideran también probabilidades altas para solo una consonante y bajan gradualmente hasta secuencias de cuatro vocales.\n",
    "\n",
    "Por otro lado, se consideró tmabién una matriz de transicion entre palabras modelando con una Cadena de Markov las secuencias de las longitudes de palabras, priorizando las palabras cortas y dando una probabilidad más baja de transicionar a palabras largas, con esto logramos replicar un comportamiento similar a la Ley Zipf"
   ]
  },
  {
   "cell_type": "markdown",
   "metadata": {
    "id": "F7Prj4_326UP"
   },
   "source": [
    "2. Explorar `datasets` del sitio [Hugging Face](https://huggingface.co/datasets) y elegir documentos de diferentes dominios en Español (al menos 3). Realizar reconocimiento de entidades nombradas (NER).\n",
    "    - Pueden utilizar subconjuntos de los datasets encontrados\n",
    "    - Mostrar resultados del reconocimiento\n",
    "    - Una distribución de frecuencias de las etiquetas más comunes en cada dominio\n",
    "    - Comentarios generales del desempeño observado.\n",
    "\n",
    "*Sugerencias: Spacy, CoreNLP (puede ser cualquier otra herramienta)*"
   ]
  },
  {
   "cell_type": "code",
   "execution_count": 77,
   "metadata": {
    "colab": {
     "base_uri": "https://localhost:8080/",
     "height": 177,
     "referenced_widgets": [
      "0df036ce9244477c806a448534217949",
      "4b8f91a8ccab499ab20246b76f2eeab3",
      "3cdf700453b046898fa2473ba3459c16",
      "f1da8d9a1943420fb000fc691d721e6d",
      "e4f4a633e1fc4eeaaf5300ccae136336",
      "c6a8ccf13a8340f2ace1f5defbb23bf4",
      "c996d351f6164e738514d995025d5735",
      "c27ee061bbcc4996a90b55ccc3dccec5",
      "8f624eaf73d742338cd4876690237b7f",
      "5252ca62bf074b1cb27ddad8aad2bea8",
      "12d32695640d47f88f39d5d8c764bfaf",
      "c15177f4653747cb9301fe0683db0db9",
      "7929dbdac15349d9aa42c125ac55114b",
      "5ae596018c81453aabc6fc1344b6f27c",
      "e8a4eb36862449a3bbb4b46c207460fb",
      "c20befa3f90f48cba7eb4906ce598594",
      "57054b42e123448a95bac46f0b597c5a",
      "65d096f8c53e43df9faeb65e0e3de265",
      "f5988e2d2b60487fa288925e06c76cf4",
      "9f017e0b5b19424882979004411f4934",
      "407c56268dfe429e9acbeee1bb604bd4",
      "96e1e464429942cc9d188951365f08b6",
      "753a6c69296c495b9e4f99a65348feba",
      "9d4be4cba32047758475c42dcbc750ef",
      "72f5b58e44e849ac8afe963cf4a831a7",
      "bee4175c9d14432b80495d7eb1aa3cf8",
      "a0b550ca8b0d42f891233ce4dff03309",
      "d498614a331347f0a439c124444ef98e",
      "b0c2b8bb3e5c4bb69849b7d3c3caaedf",
      "66027ffecc2d4a4ea6b8f25e4650ed94",
      "f4d5ddaf563b460cada727fe173623e2",
      "3e4b696af1c14d02b115e38005db0bc6",
      "dd96eb0a488f4546bd179243f06fba6e",
      "8f7a7f17161e466bbe0d8b50d43bbbcb",
      "d945555f1d19455388aee0239da7bad2",
      "6699180c5cca49b5a7f3c431106e4e41",
      "f10288e25d1940e79ebbc741b4ad5714",
      "bfc789b2d740419e902e3fdaf6202347",
      "fc991e0165f54a418068d52f877c7237",
      "1b1fd38fe7dd414d91c3688f0908c3dd",
      "4eceb89423954901b853fd02c330ce9b",
      "91d90141cd3441a2b483766f5b190fb0",
      "fa207bc2f6ce490baf5314aab4eb99a9",
      "957f0cbcaeba452db1e0420f76473a87",
      "0d2a2275ef32404195cf23ae1f1031a0",
      "64a052f3f6314679a665533f33158a94",
      "3c327910db304592b12d180cb8c5c402",
      "862be1c99362475cacc73848e53aae2d",
      "20697d7b5a584d0bbdc694a106c48431",
      "d2d1a64b5879404e842072977628f36f",
      "f871db2f51ec4e5fa0c4708415c84653",
      "539fb712af694fccbc23b75eb6f90184",
      "8ff224833ec04062a52f2bc939fe0436",
      "853885160903446391c643679938362b",
      "347606d42d7a4f86b4b45d2cd7eba907"
     ]
    },
    "id": "TIlJHlB827AQ",
    "outputId": "4afd815b-1de0-489f-cb34-21b22bde45e2"
   },
   "outputs": [],
   "source": [
    "ds1 = load_dataset(\"Fernandoefg/cuentos_es\")\n",
    "ds2 = load_dataset(\"dariolopez/justicio-BOE-A-1978-31229-constitucion-by-articles\")\n",
    "ds3 = load_dataset(\"Angy309/Noticias\")"
   ]
  },
  {
   "cell_type": "code",
   "execution_count": 78,
   "metadata": {
    "id": "9HGhbpjKnROt"
   },
   "outputs": [],
   "source": [
    "subset1 = [ds1['train'].data['content'][i].as_py() for i in range(5)]\n",
    "subset2 = [ds2['train'].data['text'][i].as_py() for i in range(5)]\n",
    "subset3 = [ds3['test'].data['text'][i].as_py() for i in range(15)]"
   ]
  },
  {
   "cell_type": "code",
   "execution_count": 79,
   "metadata": {
    "id": "BcxuORgMwohZ"
   },
   "outputs": [],
   "source": [
    "docs1 = list(nlp.pipe(subset1))\n",
    "docs2 = list(nlp.pipe(subset2))\n",
    "docs3 = list(nlp.pipe(subset3))"
   ]
  },
  {
   "cell_type": "code",
   "execution_count": 80,
   "metadata": {
    "colab": {
     "base_uri": "https://localhost:8080/",
     "height": 752
    },
    "id": "Ln8IkpWyxLwp",
    "outputId": "bbc665a8-ed20-4b13-852c-c9c7df09e3dc"
   },
   "outputs": [
    {
     "data": {
      "text/html": [
       "<span class=\"tex2jax_ignore\"><div class=\"entities\" style=\"line-height: 2.5; direction: ltr\">En un reino vivía \n",
       "<mark class=\"entity\" style=\"background: #aa9cfc; padding: 0.45em 0.6em; margin: 0 0.25em; line-height: 1; border-radius: 0.35em;\">\n",
       "    una vez un\n",
       "    <span style=\"font-size: 0.8em; font-weight: bold; line-height: 1; border-radius: 0.35em; vertical-align: middle; margin-left: 0.5rem\">PERSON</span>\n",
       "</mark>\n",
       " comerciante con \n",
       "<mark class=\"entity\" style=\"background: #aa9cfc; padding: 0.45em 0.6em; margin: 0 0.25em; line-height: 1; border-radius: 0.35em;\">\n",
       "    su mujer y su única hija\n",
       "    <span style=\"font-size: 0.8em; font-weight: bold; line-height: 1; border-radius: 0.35em; vertical-align: middle; margin-left: 0.5rem\">PERSON</span>\n",
       "</mark>\n",
       ", llamada \n",
       "<mark class=\"entity\" style=\"background: #aa9cfc; padding: 0.45em 0.6em; margin: 0 0.25em; line-height: 1; border-radius: 0.35em;\">\n",
       "    Basilisa la Hermosa\n",
       "    <span style=\"font-size: 0.8em; font-weight: bold; line-height: 1; border-radius: 0.35em; vertical-align: middle; margin-left: 0.5rem\">PERSON</span>\n",
       "</mark>\n",
       ". \n",
       "<mark class=\"entity\" style=\"background: #7aecec; padding: 0.45em 0.6em; margin: 0 0.25em; line-height: 1; border-radius: 0.35em;\">\n",
       "    Al cumplir la niña los ocho años se puso enferma su madre\n",
       "    <span style=\"font-size: 0.8em; font-weight: bold; line-height: 1; border-radius: 0.35em; vertical-align: middle; margin-left: 0.5rem\">ORG</span>\n",
       "</mark>\n",
       ", \n",
       "<mark class=\"entity\" style=\"background: #7aecec; padding: 0.45em 0.6em; margin: 0 0.25em; line-height: 1; border-radius: 0.35em;\">\n",
       "    y presintiendo su próxima muerte\n",
       "    <span style=\"font-size: 0.8em; font-weight: bold; line-height: 1; border-radius: 0.35em; vertical-align: middle; margin-left: 0.5rem\">ORG</span>\n",
       "</mark>\n",
       " llamó a \n",
       "<mark class=\"entity\" style=\"background: #feca74; padding: 0.45em 0.6em; margin: 0 0.25em; line-height: 1; border-radius: 0.35em;\">\n",
       "    Basilisa\n",
       "    <span style=\"font-size: 0.8em; font-weight: bold; line-height: 1; border-radius: 0.35em; vertical-align: middle; margin-left: 0.5rem\">GPE</span>\n",
       "</mark>\n",
       ", le dio una muñeca y le dijo:<br>-Escúchame, hijita \n",
       "<mark class=\"entity\" style=\"background: #7aecec; padding: 0.45em 0.6em; margin: 0 0.25em; line-height: 1; border-radius: 0.35em;\">\n",
       "    mía\n",
       "    <span style=\"font-size: 0.8em; font-weight: bold; line-height: 1; border-radius: 0.35em; vertical-align: middle; margin-left: 0.5rem\">ORG</span>\n",
       "</mark>\n",
       ", y acuérdate \n",
       "<mark class=\"entity\" style=\"background: #aa9cfc; padding: 0.45em 0.6em; margin: 0 0.25em; line-height: 1; border-radius: 0.35em;\">\n",
       "    bien de mis últimas palabras\n",
       "    <span style=\"font-size: 0.8em; font-weight: bold; line-height: 1; border-radius: 0.35em; vertical-align: middle; margin-left: 0.5rem\">PERSON</span>\n",
       "</mark>\n",
       ". Yo me muero y con \n",
       "<mark class=\"entity\" style=\"background: #aa9cfc; padding: 0.45em 0.6em; margin: 0 0.25em; line-height: 1; border-radius: 0.35em;\">\n",
       "    mi bendición te\n",
       "    <span style=\"font-size: 0.8em; font-weight: bold; line-height: 1; border-radius: 0.35em; vertical-align: middle; margin-left: 0.5rem\">PERSON</span>\n",
       "</mark>\n",
       " \n",
       "<mark class=\"entity\" style=\"background: #7aecec; padding: 0.45em 0.6em; margin: 0 0.25em; line-height: 1; border-radius: 0.35em;\">\n",
       "    dejo esta muñeca\n",
       "    <span style=\"font-size: 0.8em; font-weight: bold; line-height: 1; border-radius: 0.35em; vertical-align: middle; margin-left: 0.5rem\">ORG</span>\n",
       "</mark>\n",
       "; \n",
       "<mark class=\"entity\" style=\"background: #7aecec; padding: 0.45em 0.6em; margin: 0 0.25em; line-height: 1; border-radius: 0.35em;\">\n",
       "    guárdala siempre con cuidado\n",
       "    <span style=\"font-size: 0.8em; font-weight: bold; line-height: 1; border-radius: 0.35em; vertical-align: middle; margin-left: 0.5rem\">ORG</span>\n",
       "</mark>\n",
       ", sin \n",
       "<mark class=\"entity\" style=\"background: #aa9cfc; padding: 0.45em 0.6em; margin: 0 0.25em; line-height: 1; border-radius: 0.35em;\">\n",
       "    mostrarla\n",
       "    <span style=\"font-size: 0.8em; font-weight: bold; line-height: 1; border-radius: 0.35em; vertical-align: middle; margin-left: 0.5rem\">PERSON</span>\n",
       "</mark>\n",
       " a nadie, \n",
       "<mark class=\"entity\" style=\"background: #aa9cfc; padding: 0.45em 0.6em; margin: 0 0.25em; line-height: 1; border-radius: 0.35em;\">\n",
       "    y cuando te\n",
       "    <span style=\"font-size: 0.8em; font-weight: bold; line-height: 1; border-radius: 0.35em; vertical-align: middle; margin-left: 0.5rem\">PERSON</span>\n",
       "</mark>\n",
       " suceda \n",
       "<mark class=\"entity\" style=\"background: #aa9cfc; padding: 0.45em 0.6em; margin: 0 0.25em; line-height: 1; border-radius: 0.35em;\">\n",
       "    alguna desdicha\n",
       "    <span style=\"font-size: 0.8em; font-weight: bold; line-height: 1; border-radius: 0.35em; vertical-align: middle; margin-left: 0.5rem\">PERSON</span>\n",
       "</mark>\n",
       ", pídele \n",
       "<mark class=\"entity\" style=\"background: #7aecec; padding: 0.45em 0.6em; margin: 0 0.25em; line-height: 1; border-radius: 0.35em;\">\n",
       "    consejo\n",
       "    <span style=\"font-size: 0.8em; font-weight: bold; line-height: 1; border-radius: 0.35em; vertical-align: middle; margin-left: 0.5rem\">ORG</span>\n",
       "</mark>\n",
       ".<br>\n",
       "<mark class=\"entity\" style=\"background: #7aecec; padding: 0.45em 0.6em; margin: 0 0.25em; line-height: 1; border-radius: 0.35em;\">\n",
       "    Después de haber dicho estas palabras\n",
       "    <span style=\"font-size: 0.8em; font-weight: bold; line-height: 1; border-radius: 0.35em; vertical-align: middle; margin-left: 0.5rem\">ORG</span>\n",
       "</mark>\n",
       ", la \n",
       "<mark class=\"entity\" style=\"background: #aa9cfc; padding: 0.45em 0.6em; margin: 0 0.25em; line-height: 1; border-radius: 0.35em;\">\n",
       "    madre besó\n",
       "    <span style=\"font-size: 0.8em; font-weight: bold; line-height: 1; border-radius: 0.35em; vertical-align: middle; margin-left: 0.5rem\">PERSON</span>\n",
       "</mark>\n",
       " a su hija, \n",
       "<mark class=\"entity\" style=\"background: #aa9cfc; padding: 0.45em 0.6em; margin: 0 0.25em; line-height: 1; border-radius: 0.35em;\">\n",
       "    suspiró y se murió\n",
       "    <span style=\"font-size: 0.8em; font-weight: bold; line-height: 1; border-radius: 0.35em; vertical-align: middle; margin-left: 0.5rem\">PERSON</span>\n",
       "</mark>\n",
       ".<br>El comerciante, \n",
       "<mark class=\"entity\" style=\"background: #aa9cfc; padding: 0.45em 0.6em; margin: 0 0.25em; line-height: 1; border-radius: 0.35em;\">\n",
       "    al quedarse viudo\n",
       "    <span style=\"font-size: 0.8em; font-weight: bold; line-height: 1; border-radius: 0.35em; vertical-align: middle; margin-left: 0.5rem\">PERSON</span>\n",
       "</mark>\n",
       ", se entristeció mucho; pero \n",
       "<mark class=\"entity\" style=\"background: #aa9cfc; padding: 0.45em 0.6em; margin: 0 0.25em; line-height: 1; border-radius: 0.35em;\">\n",
       "    pasó tiempo\n",
       "    <span style=\"font-size: 0.8em; font-weight: bold; line-height: 1; border-radius: 0.35em; vertical-align: middle; margin-left: 0.5rem\">PERSON</span>\n",
       "</mark>\n",
       ", se \n",
       "<mark class=\"entity\" style=\"background: #7aecec; padding: 0.45em 0.6em; margin: 0 0.25em; line-height: 1; border-radius: 0.35em;\">\n",
       "    fue consolando\n",
       "    <span style=\"font-size: 0.8em; font-weight: bold; line-height: 1; border-radius: 0.35em; vertical-align: middle; margin-left: 0.5rem\">ORG</span>\n",
       "</mark>\n",
       " y decidió volver a casarse. Era un hombre bueno y muchas mujeres lo deseaban \n",
       "<mark class=\"entity\" style=\"background: #7aecec; padding: 0.45em 0.6em; margin: 0 0.25em; line-height: 1; border-radius: 0.35em;\">\n",
       "    por marido\n",
       "    <span style=\"font-size: 0.8em; font-weight: bold; line-height: 1; border-radius: 0.35em; vertical-align: middle; margin-left: 0.5rem\">ORG</span>\n",
       "</mark>\n",
       "; pero \n",
       "<mark class=\"entity\" style=\"background: #aa9cfc; padding: 0.45em 0.6em; margin: 0 0.25em; line-height: 1; border-radius: 0.35em;\">\n",
       "    entre todas\n",
       "    <span style=\"font-size: 0.8em; font-weight: bold; line-height: 1; border-radius: 0.35em; vertical-align: middle; margin-left: 0.5rem\">PERSON</span>\n",
       "</mark>\n",
       " eligió \n",
       "<mark class=\"entity\" style=\"background: #7aecec; padding: 0.45em 0.6em; margin: 0 0.25em; line-height: 1; border-radius: 0.35em;\">\n",
       "    una viuda que tenía dos hijas de la edad de Basilisa y que en toda la comarca tenía fama de ser buena madre\n",
       "    <span style=\"font-size: 0.8em; font-weight: bold; line-height: 1; border-radius: 0.35em; vertical-align: middle; margin-left: 0.5rem\">ORG</span>\n",
       "</mark>\n",
       " \n",
       "<mark class=\"entity\" style=\"background: #aa9cfc; padding: 0.45em 0.6em; margin: 0 0.25em; line-height: 1; border-radius: 0.35em;\">\n",
       "    y ama de casa\n",
       "    <span style=\"font-size: 0.8em; font-weight: bold; line-height: 1; border-radius: 0.35em; vertical-align: middle; margin-left: 0.5rem\">PERSON</span>\n",
       "</mark>\n",
       " ejemplar.<br>El comerciante se casó con ella, \n",
       "<mark class=\"entity\" style=\"background: #aa9cfc; padding: 0.45em 0.6em; margin: 0 0.25em; line-height: 1; border-radius: 0.35em;\">\n",
       "    pero pronto comprendió que se había equivocado\n",
       "    <span style=\"font-size: 0.8em; font-weight: bold; line-height: 1; border-radius: 0.35em; vertical-align: middle; margin-left: 0.5rem\">PERSON</span>\n",
       "</mark>\n",
       ", \n",
       "<mark class=\"entity\" style=\"background: #7aecec; padding: 0.45em 0.6em; margin: 0 0.25em; line-height: 1; border-radius: 0.35em;\">\n",
       "    pues no encontró la buena madre que\n",
       "    <span style=\"font-size: 0.8em; font-weight: bold; line-height: 1; border-radius: 0.35em; vertical-align: middle; margin-left: 0.5rem\">ORG</span>\n",
       "</mark>\n",
       " \n",
       "<mark class=\"entity\" style=\"background: #aa9cfc; padding: 0.45em 0.6em; margin: 0 0.25em; line-height: 1; border-radius: 0.35em;\">\n",
       "    para su hija deseaba\n",
       "    <span style=\"font-size: 0.8em; font-weight: bold; line-height: 1; border-radius: 0.35em; vertical-align: middle; margin-left: 0.5rem\">PERSON</span>\n",
       "</mark>\n",
       ". \n",
       "<mark class=\"entity\" style=\"background: #feca74; padding: 0.45em 0.6em; margin: 0 0.25em; line-height: 1; border-radius: 0.35em;\">\n",
       "    Basilisa\n",
       "    <span style=\"font-size: 0.8em; font-weight: bold; line-height: 1; border-radius: 0.35em; vertical-align: middle; margin-left: 0.5rem\">GPE</span>\n",
       "</mark>\n",
       " era la joven más hermosa de la aldea; \n",
       "<mark class=\"entity\" style=\"background: #9cc9cc; padding: 0.45em 0.6em; margin: 0 0.25em; line-height: 1; border-radius: 0.35em;\">\n",
       "    la madrastra\n",
       "    <span style=\"font-size: 0.8em; font-weight: bold; line-height: 1; border-radius: 0.35em; vertical-align: middle; margin-left: 0.5rem\">FAC</span>\n",
       "</mark>\n",
       " \n",
       "<mark class=\"entity\" style=\"background: #aa9cfc; padding: 0.45em 0.6em; margin: 0 0.25em; line-height: 1; border-radius: 0.35em;\">\n",
       "    y sus hijas\n",
       "    <span style=\"font-size: 0.8em; font-weight: bold; line-height: 1; border-radius: 0.35em; vertical-align: middle; margin-left: 0.5rem\">PERSON</span>\n",
       "</mark>\n",
       ", envidiosas \n",
       "<mark class=\"entity\" style=\"background: #aa9cfc; padding: 0.45em 0.6em; margin: 0 0.25em; line-height: 1; border-radius: 0.35em;\">\n",
       "    de su\n",
       "    <span style=\"font-size: 0.8em; font-weight: bold; line-height: 1; border-radius: 0.35em; vertical-align: middle; margin-left: 0.5rem\">PERSON</span>\n",
       "</mark>\n",
       " belleza, \n",
       "<mark class=\"entity\" style=\"background: #feca74; padding: 0.45em 0.6em; margin: 0 0.25em; line-height: 1; border-radius: 0.35em;\">\n",
       "    la\n",
       "    <span style=\"font-size: 0.8em; font-weight: bold; line-height: 1; border-radius: 0.35em; vertical-align: middle; margin-left: 0.5rem\">GPE</span>\n",
       "</mark>\n",
       " mortificaban continuamente y le imponían toda clase \n",
       "<mark class=\"entity\" style=\"background: #aa9cfc; padding: 0.45em 0.6em; margin: 0 0.25em; line-height: 1; border-radius: 0.35em;\">\n",
       "    de trabajos para ajar su\n",
       "    <span style=\"font-size: 0.8em; font-weight: bold; line-height: 1; border-radius: 0.35em; vertical-align: middle; margin-left: 0.5rem\">PERSON</span>\n",
       "</mark>\n",
       " hermosura a fuerza de cansancio y para que \n",
       "<mark class=\"entity\" style=\"background: #feca74; padding: 0.45em 0.6em; margin: 0 0.25em; line-height: 1; border-radius: 0.35em;\">\n",
       "    el aire\n",
       "    <span style=\"font-size: 0.8em; font-weight: bold; line-height: 1; border-radius: 0.35em; vertical-align: middle; margin-left: 0.5rem\">GPE</span>\n",
       "</mark>\n",
       " \n",
       "<mark class=\"entity\" style=\"background: #aa9cfc; padding: 0.45em 0.6em; margin: 0 0.25em; line-height: 1; border-radius: 0.35em;\">\n",
       "    y el sol quemaran su cutis delicado.\n",
       "    <span style=\"font-size: 0.8em; font-weight: bold; line-height: 1; border-radius: 0.35em; vertical-align: middle; margin-left: 0.5rem\">PERSON</span>\n",
       "</mark>\n",
       " Basilisa soportaba todo con resignación \n",
       "<mark class=\"entity\" style=\"background: #7aecec; padding: 0.45em 0.6em; margin: 0 0.25em; line-height: 1; border-radius: 0.35em;\">\n",
       "    y cada día\n",
       "    <span style=\"font-size: 0.8em; font-weight: bold; line-height: 1; border-radius: 0.35em; vertical-align: middle; margin-left: 0.5rem\">ORG</span>\n",
       "</mark>\n",
       " crecía \n",
       "<mark class=\"entity\" style=\"background: #aa9cfc; padding: 0.45em 0.6em; margin: 0 0.25em; line-height: 1; border-radius: 0.35em;\">\n",
       "    su hermosura\n",
       "    <span style=\"font-size: 0.8em; font-weight: bold; line-height: 1; border-radius: 0.35em; vertical-align: middle; margin-left: 0.5rem\">PERSON</span>\n",
       "</mark>\n",
       ", \n",
       "<mark class=\"entity\" style=\"background: #7aecec; padding: 0.45em 0.6em; margin: 0 0.25em; line-height: 1; border-radius: 0.35em;\">\n",
       "    mientras que\n",
       "    <span style=\"font-size: 0.8em; font-weight: bold; line-height: 1; border-radius: 0.35em; vertical-align: middle; margin-left: 0.5rem\">ORG</span>\n",
       "</mark>\n",
       " las hijas de la madrastra, a pesar de estar siempre ociosas, se afeaban \n",
       "<mark class=\"entity\" style=\"background: #7aecec; padding: 0.45em 0.6em; margin: 0 0.25em; line-height: 1; border-radius: 0.35em;\">\n",
       "    por la envidia que\n",
       "    <span style=\"font-size: 0.8em; font-weight: bold; line-height: 1; border-radius: 0.35em; vertical-align: middle; margin-left: 0.5rem\">ORG</span>\n",
       "</mark>\n",
       " tenían a su hermana. \n",
       "<mark class=\"entity\" style=\"background: #aa9cfc; padding: 0.45em 0.6em; margin: 0 0.25em; line-height: 1; border-radius: 0.35em;\">\n",
       "    La causa de esto\n",
       "    <span style=\"font-size: 0.8em; font-weight: bold; line-height: 1; border-radius: 0.35em; vertical-align: middle; margin-left: 0.5rem\">PERSON</span>\n",
       "</mark>\n",
       " no era ni más ni menos que la buena Muñeca, \n",
       "<mark class=\"entity\" style=\"background: #7aecec; padding: 0.45em 0.6em; margin: 0 0.25em; line-height: 1; border-radius: 0.35em;\">\n",
       "    sin la ayuda de la cual Basilisa nunca hubiera podido cumplir\n",
       "    <span style=\"font-size: 0.8em; font-weight: bold; line-height: 1; border-radius: 0.35em; vertical-align: middle; margin-left: 0.5rem\">ORG</span>\n",
       "</mark>\n",
       " con \n",
       "<mark class=\"entity\" style=\"background: #7aecec; padding: 0.45em 0.6em; margin: 0 0.25em; line-height: 1; border-radius: 0.35em;\">\n",
       "    todas sus obligaciones\n",
       "    <span style=\"font-size: 0.8em; font-weight: bold; line-height: 1; border-radius: 0.35em; vertical-align: middle; margin-left: 0.5rem\">ORG</span>\n",
       "</mark>\n",
       ". La Muñeca la consolaba \n",
       "<mark class=\"entity\" style=\"background: #7aecec; padding: 0.45em 0.6em; margin: 0 0.25em; line-height: 1; border-radius: 0.35em;\">\n",
       "    en sus desdichas\n",
       "    <span style=\"font-size: 0.8em; font-weight: bold; line-height: 1; border-radius: 0.35em; vertical-align: middle; margin-left: 0.5rem\">ORG</span>\n",
       "</mark>\n",
       ", \n",
       "<mark class=\"entity\" style=\"background: #aa9cfc; padding: 0.45em 0.6em; margin: 0 0.25em; line-height: 1; border-radius: 0.35em;\">\n",
       "    dándole buenos consejos\n",
       "    <span style=\"font-size: 0.8em; font-weight: bold; line-height: 1; border-radius: 0.35em; vertical-align: middle; margin-left: 0.5rem\">PERSON</span>\n",
       "</mark>\n",
       " y trabajando con ella.<br>\n",
       "<mark class=\"entity\" style=\"background: #7aecec; padding: 0.45em 0.6em; margin: 0 0.25em; line-height: 1; border-radius: 0.35em;\">\n",
       "    Así pasaron algunos años\n",
       "    <span style=\"font-size: 0.8em; font-weight: bold; line-height: 1; border-radius: 0.35em; vertical-align: middle; margin-left: 0.5rem\">ORG</span>\n",
       "</mark>\n",
       " \n",
       "<mark class=\"entity\" style=\"background: #7aecec; padding: 0.45em 0.6em; margin: 0 0.25em; line-height: 1; border-radius: 0.35em;\">\n",
       "    y las muchachas llegaron\n",
       "    <span style=\"font-size: 0.8em; font-weight: bold; line-height: 1; border-radius: 0.35em; vertical-align: middle; margin-left: 0.5rem\">ORG</span>\n",
       "</mark>\n",
       " a la edad de casarse. \n",
       "<mark class=\"entity\" style=\"background: #feca74; padding: 0.45em 0.6em; margin: 0 0.25em; line-height: 1; border-radius: 0.35em;\">\n",
       "    Todos\n",
       "    <span style=\"font-size: 0.8em; font-weight: bold; line-height: 1; border-radius: 0.35em; vertical-align: middle; margin-left: 0.5rem\">GPE</span>\n",
       "</mark>\n",
       " \n",
       "<mark class=\"entity\" style=\"background: #aa9cfc; padding: 0.45em 0.6em; margin: 0 0.25em; line-height: 1; border-radius: 0.35em;\">\n",
       "    los jóvenes de la\n",
       "    <span style=\"font-size: 0.8em; font-weight: bold; line-height: 1; border-radius: 0.35em; vertical-align: middle; margin-left: 0.5rem\">PERSON</span>\n",
       "</mark>\n",
       " ciudad \n",
       "<mark class=\"entity\" style=\"background: #aa9cfc; padding: 0.45em 0.6em; margin: 0 0.25em; line-height: 1; border-radius: 0.35em;\">\n",
       "    solicitaban casarse con\n",
       "    <span style=\"font-size: 0.8em; font-weight: bold; line-height: 1; border-radius: 0.35em; vertical-align: middle; margin-left: 0.5rem\">PERSON</span>\n",
       "</mark>\n",
       " \n",
       "<mark class=\"entity\" style=\"background: #aa9cfc; padding: 0.45em 0.6em; margin: 0 0.25em; line-height: 1; border-radius: 0.35em;\">\n",
       "    Basilisa\n",
       "    <span style=\"font-size: 0.8em; font-weight: bold; line-height: 1; border-radius: 0.35em; vertical-align: middle; margin-left: 0.5rem\">PERSON</span>\n",
       "</mark>\n",
       ", sin hacer caso \n",
       "<mark class=\"entity\" style=\"background: #aa9cfc; padding: 0.45em 0.6em; margin: 0 0.25em; line-height: 1; border-radius: 0.35em;\">\n",
       "    alguno de las hijas de la madrastra\n",
       "    <span style=\"font-size: 0.8em; font-weight: bold; line-height: 1; border-radius: 0.35em; vertical-align: middle; margin-left: 0.5rem\">PERSON</span>\n",
       "</mark>\n",
       ". \n",
       "<mark class=\"entity\" style=\"background: #feca74; padding: 0.45em 0.6em; margin: 0 0.25em; line-height: 1; border-radius: 0.35em;\">\n",
       "    Ésta\n",
       "    <span style=\"font-size: 0.8em; font-weight: bold; line-height: 1; border-radius: 0.35em; vertical-align: middle; margin-left: 0.5rem\">GPE</span>\n",
       "</mark>\n",
       ", cada \n",
       "<mark class=\"entity\" style=\"background: #aa9cfc; padding: 0.45em 0.6em; margin: 0 0.25em; line-height: 1; border-radius: 0.35em;\">\n",
       "    vez más enfadada\n",
       "    <span style=\"font-size: 0.8em; font-weight: bold; line-height: 1; border-radius: 0.35em; vertical-align: middle; margin-left: 0.5rem\">PERSON</span>\n",
       "</mark>\n",
       ", contestaba a todos:<br>-No casaré a la menor antes de que se casen las mayores.<br>\n",
       "<mark class=\"entity\" style=\"background: #7aecec; padding: 0.45em 0.6em; margin: 0 0.25em; line-height: 1; border-radius: 0.35em;\">\n",
       "    Y después de haber despedido\n",
       "    <span style=\"font-size: 0.8em; font-weight: bold; line-height: 1; border-radius: 0.35em; vertical-align: middle; margin-left: 0.5rem\">ORG</span>\n",
       "</mark>\n",
       " a \n",
       "<mark class=\"entity\" style=\"background: #feca74; padding: 0.45em 0.6em; margin: 0 0.25em; line-height: 1; border-radius: 0.35em;\">\n",
       "    los\n",
       "    <span style=\"font-size: 0.8em; font-weight: bold; line-height: 1; border-radius: 0.35em; vertical-align: middle; margin-left: 0.5rem\">GPE</span>\n",
       "</mark>\n",
       " pretendientes, se vengaba de la pobre \n",
       "<mark class=\"entity\" style=\"background: #aa9cfc; padding: 0.45em 0.6em; margin: 0 0.25em; line-height: 1; border-radius: 0.35em;\">\n",
       "    Basilisa\n",
       "    <span style=\"font-size: 0.8em; font-weight: bold; line-height: 1; border-radius: 0.35em; vertical-align: middle; margin-left: 0.5rem\">PERSON</span>\n",
       "</mark>\n",
       " con golpes e injurias.<br>\n",
       "<mark class=\"entity\" style=\"background: #7aecec; padding: 0.45em 0.6em; margin: 0 0.25em; line-height: 1; border-radius: 0.35em;\">\n",
       "    Un día el comerciante tuvo necesidad de hacer\n",
       "    <span style=\"font-size: 0.8em; font-weight: bold; line-height: 1; border-radius: 0.35em; vertical-align: middle; margin-left: 0.5rem\">ORG</span>\n",
       "</mark>\n",
       " \n",
       "<mark class=\"entity\" style=\"background: #aa9cfc; padding: 0.45em 0.6em; margin: 0 0.25em; line-height: 1; border-radius: 0.35em;\">\n",
       "    un viaje y se marchó\n",
       "    <span style=\"font-size: 0.8em; font-weight: bold; line-height: 1; border-radius: 0.35em; vertical-align: middle; margin-left: 0.5rem\">PERSON</span>\n",
       "</mark>\n",
       ". \n",
       "<mark class=\"entity\" style=\"background: #7aecec; padding: 0.45em 0.6em; margin: 0 0.25em; line-height: 1; border-radius: 0.35em;\">\n",
       "    Entretanto\n",
       "    <span style=\"font-size: 0.8em; font-weight: bold; line-height: 1; border-radius: 0.35em; vertical-align: middle; margin-left: 0.5rem\">ORG</span>\n",
       "</mark>\n",
       ", la madrastra se mudó a una casa que se hallaba \n",
       "<mark class=\"entity\" style=\"background: #7aecec; padding: 0.45em 0.6em; margin: 0 0.25em; line-height: 1; border-radius: 0.35em;\">\n",
       "    cerca de un\n",
       "    <span style=\"font-size: 0.8em; font-weight: bold; line-height: 1; border-radius: 0.35em; vertical-align: middle; margin-left: 0.5rem\">ORG</span>\n",
       "</mark>\n",
       " espeso \n",
       "<mark class=\"entity\" style=\"background: #7aecec; padding: 0.45em 0.6em; margin: 0 0.25em; line-height: 1; border-radius: 0.35em;\">\n",
       "    bosque en el que\n",
       "    <span style=\"font-size: 0.8em; font-weight: bold; line-height: 1; border-radius: 0.35em; vertical-align: middle; margin-left: 0.5rem\">ORG</span>\n",
       "</mark>\n",
       ", según decía la gente, \n",
       "<mark class=\"entity\" style=\"background: #aa9cfc; padding: 0.45em 0.6em; margin: 0 0.25em; line-height: 1; border-radius: 0.35em;\">\n",
       "    aunque nadie lo había visto\n",
       "    <span style=\"font-size: 0.8em; font-weight: bold; line-height: 1; border-radius: 0.35em; vertical-align: middle; margin-left: 0.5rem\">PERSON</span>\n",
       "</mark>\n",
       ", \n",
       "<mark class=\"entity\" style=\"background: #aa9cfc; padding: 0.45em 0.6em; margin: 0 0.25em; line-height: 1; border-radius: 0.35em;\">\n",
       "    vivía la\n",
       "    <span style=\"font-size: 0.8em; font-weight: bold; line-height: 1; border-radius: 0.35em; vertical-align: middle; margin-left: 0.5rem\">PERSON</span>\n",
       "</mark>\n",
       " terrible \n",
       "<mark class=\"entity\" style=\"background: #aa9cfc; padding: 0.45em 0.6em; margin: 0 0.25em; line-height: 1; border-radius: 0.35em;\">\n",
       "    bruja Baba-Yaga\n",
       "    <span style=\"font-size: 0.8em; font-weight: bold; line-height: 1; border-radius: 0.35em; vertical-align: middle; margin-left: 0.5rem\">PERSON</span>\n",
       "</mark>\n",
       "; \n",
       "<mark class=\"entity\" style=\"background: #7aecec; padding: 0.45em 0.6em; margin: 0 0.25em; line-height: 1; border-radius: 0.35em;\">\n",
       "    nadie osaba\n",
       "    <span style=\"font-size: 0.8em; font-weight: bold; line-height: 1; border-radius: 0.35em; vertical-align: middle; margin-left: 0.5rem\">ORG</span>\n",
       "</mark>\n",
       " acercarse a aquellos lugares, porque Baba-</div></span>"
      ],
      "text/plain": [
       "<IPython.core.display.HTML object>"
      ]
     },
     "metadata": {},
     "output_type": "display_data"
    }
   ],
   "source": [
    "displacy.render(docs1[0][:500], style=\"ent\")"
   ]
  },
  {
   "cell_type": "code",
   "execution_count": 81,
   "metadata": {
    "colab": {
     "base_uri": "https://localhost:8080/",
     "height": 822
    },
    "id": "MmUPcAkrx0K6",
    "outputId": "fcbce0b4-ef21-4c92-be6c-834450e68db5"
   },
   "outputs": [
    {
     "data": {
      "text/html": [
       "<span class=\"tex2jax_ignore\"><div class=\"entities\" style=\"line-height: 2.5; direction: ltr\">\n",
       "<mark class=\"entity\" style=\"background: #7aecec; padding: 0.45em 0.6em; margin: 0 0.25em; line-height: 1; border-radius: 0.35em;\">\n",
       "    Artículo 1\n",
       "1\n",
       "    <span style=\"font-size: 0.8em; font-weight: bold; line-height: 1; border-radius: 0.35em; vertical-align: middle; margin-left: 0.5rem\">ORG</span>\n",
       "</mark>\n",
       ". \n",
       "<mark class=\"entity\" style=\"background: #aa9cfc; padding: 0.45em 0.6em; margin: 0 0.25em; line-height: 1; border-radius: 0.35em;\">\n",
       "    España se constituye\n",
       "    <span style=\"font-size: 0.8em; font-weight: bold; line-height: 1; border-radius: 0.35em; vertical-align: middle; margin-left: 0.5rem\">PERSON</span>\n",
       "</mark>\n",
       " en un \n",
       "<mark class=\"entity\" style=\"background: #7aecec; padding: 0.45em 0.6em; margin: 0 0.25em; line-height: 1; border-radius: 0.35em;\">\n",
       "    Estado\n",
       "    <span style=\"font-size: 0.8em; font-weight: bold; line-height: 1; border-radius: 0.35em; vertical-align: middle; margin-left: 0.5rem\">ORG</span>\n",
       "</mark>\n",
       " social \n",
       "<mark class=\"entity\" style=\"background: #aa9cfc; padding: 0.45em 0.6em; margin: 0 0.25em; line-height: 1; border-radius: 0.35em;\">\n",
       "    y democrático de Derecho\n",
       "    <span style=\"font-size: 0.8em; font-weight: bold; line-height: 1; border-radius: 0.35em; vertical-align: middle; margin-left: 0.5rem\">PERSON</span>\n",
       "</mark>\n",
       ", \n",
       "<mark class=\"entity\" style=\"background: #7aecec; padding: 0.45em 0.6em; margin: 0 0.25em; line-height: 1; border-radius: 0.35em;\">\n",
       "    que propugna como valores\n",
       "    <span style=\"font-size: 0.8em; font-weight: bold; line-height: 1; border-radius: 0.35em; vertical-align: middle; margin-left: 0.5rem\">ORG</span>\n",
       "</mark>\n",
       " \n",
       "<mark class=\"entity\" style=\"background: #aa9cfc; padding: 0.45em 0.6em; margin: 0 0.25em; line-height: 1; border-radius: 0.35em;\">\n",
       "    superiores de su ordenamiento\n",
       "    <span style=\"font-size: 0.8em; font-weight: bold; line-height: 1; border-radius: 0.35em; vertical-align: middle; margin-left: 0.5rem\">PERSON</span>\n",
       "</mark>\n",
       " \n",
       "<mark class=\"entity\" style=\"background: #aa9cfc; padding: 0.45em 0.6em; margin: 0 0.25em; line-height: 1; border-radius: 0.35em;\">\n",
       "    jurídico la libertad\n",
       "    <span style=\"font-size: 0.8em; font-weight: bold; line-height: 1; border-radius: 0.35em; vertical-align: middle; margin-left: 0.5rem\">PERSON</span>\n",
       "</mark>\n",
       ", \n",
       "<mark class=\"entity\" style=\"background: #feca74; padding: 0.45em 0.6em; margin: 0 0.25em; line-height: 1; border-radius: 0.35em;\">\n",
       "    la justicia\n",
       "    <span style=\"font-size: 0.8em; font-weight: bold; line-height: 1; border-radius: 0.35em; vertical-align: middle; margin-left: 0.5rem\">GPE</span>\n",
       "</mark>\n",
       ", la igualdad y el pluralismo político.<br><br>\n",
       "<mark class=\"entity\" style=\"background: #e4e7d2; padding: 0.45em 0.6em; margin: 0 0.25em; line-height: 1; border-radius: 0.35em;\">\n",
       "    2\n",
       "    <span style=\"font-size: 0.8em; font-weight: bold; line-height: 1; border-radius: 0.35em; vertical-align: middle; margin-left: 0.5rem\">CARDINAL</span>\n",
       "</mark>\n",
       ". La soberanía nacional reside en el pueblo español, \n",
       "<mark class=\"entity\" style=\"background: #7aecec; padding: 0.45em 0.6em; margin: 0 0.25em; line-height: 1; border-radius: 0.35em;\">\n",
       "    del que emanan los poderes del Estado\n",
       "    <span style=\"font-size: 0.8em; font-weight: bold; line-height: 1; border-radius: 0.35em; vertical-align: middle; margin-left: 0.5rem\">ORG</span>\n",
       "</mark>\n",
       ".<br><br>\n",
       "<mark class=\"entity\" style=\"background: #e4e7d2; padding: 0.45em 0.6em; margin: 0 0.25em; line-height: 1; border-radius: 0.35em;\">\n",
       "    3\n",
       "    <span style=\"font-size: 0.8em; font-weight: bold; line-height: 1; border-radius: 0.35em; vertical-align: middle; margin-left: 0.5rem\">CARDINAL</span>\n",
       "</mark>\n",
       ". \n",
       "<mark class=\"entity\" style=\"background: #aa9cfc; padding: 0.45em 0.6em; margin: 0 0.25em; line-height: 1; border-radius: 0.35em;\">\n",
       "    La forma política del Estado español es la Monarquía\n",
       "    <span style=\"font-size: 0.8em; font-weight: bold; line-height: 1; border-radius: 0.35em; vertical-align: middle; margin-left: 0.5rem\">PERSON</span>\n",
       "</mark>\n",
       " parlamentaria.</div>\n",
       "\n",
       "<div class=\"entities\" style=\"line-height: 2.5; direction: ltr\">\n",
       "<mark class=\"entity\" style=\"background: #7aecec; padding: 0.45em 0.6em; margin: 0 0.25em; line-height: 1; border-radius: 0.35em;\">\n",
       "    Artículo 2\n",
       "La Constitución\n",
       "    <span style=\"font-size: 0.8em; font-weight: bold; line-height: 1; border-radius: 0.35em; vertical-align: middle; margin-left: 0.5rem\">ORG</span>\n",
       "</mark>\n",
       " se fundamenta en la indisoluble \n",
       "<mark class=\"entity\" style=\"background: #7aecec; padding: 0.45em 0.6em; margin: 0 0.25em; line-height: 1; border-radius: 0.35em;\">\n",
       "    unidad de la Nación española\n",
       "    <span style=\"font-size: 0.8em; font-weight: bold; line-height: 1; border-radius: 0.35em; vertical-align: middle; margin-left: 0.5rem\">ORG</span>\n",
       "</mark>\n",
       ", \n",
       "<mark class=\"entity\" style=\"background: #7aecec; padding: 0.45em 0.6em; margin: 0 0.25em; line-height: 1; border-radius: 0.35em;\">\n",
       "    patria común e indivisible de todos los españoles\n",
       "    <span style=\"font-size: 0.8em; font-weight: bold; line-height: 1; border-radius: 0.35em; vertical-align: middle; margin-left: 0.5rem\">ORG</span>\n",
       "</mark>\n",
       ", \n",
       "<mark class=\"entity\" style=\"background: #aa9cfc; padding: 0.45em 0.6em; margin: 0 0.25em; line-height: 1; border-radius: 0.35em;\">\n",
       "    y reconoce y garantiza el derecho\n",
       "    <span style=\"font-size: 0.8em; font-weight: bold; line-height: 1; border-radius: 0.35em; vertical-align: middle; margin-left: 0.5rem\">PERSON</span>\n",
       "</mark>\n",
       " a \n",
       "<mark class=\"entity\" style=\"background: #9cc9cc; padding: 0.45em 0.6em; margin: 0 0.25em; line-height: 1; border-radius: 0.35em;\">\n",
       "    la autonomía de las\n",
       "    <span style=\"font-size: 0.8em; font-weight: bold; line-height: 1; border-radius: 0.35em; vertical-align: middle; margin-left: 0.5rem\">FAC</span>\n",
       "</mark>\n",
       " nacionalidades y regiones que la integran y la solidaridad \n",
       "<mark class=\"entity\" style=\"background: #feca74; padding: 0.45em 0.6em; margin: 0 0.25em; line-height: 1; border-radius: 0.35em;\">\n",
       "    entre\n",
       "    <span style=\"font-size: 0.8em; font-weight: bold; line-height: 1; border-radius: 0.35em; vertical-align: middle; margin-left: 0.5rem\">GPE</span>\n",
       "</mark>\n",
       " todas ellas.</div>\n",
       "\n",
       "<div class=\"entities\" style=\"line-height: 2.5; direction: ltr\">\n",
       "<mark class=\"entity\" style=\"background: #7aecec; padding: 0.45em 0.6em; margin: 0 0.25em; line-height: 1; border-radius: 0.35em;\">\n",
       "    Artículo 3\n",
       "1\n",
       "    <span style=\"font-size: 0.8em; font-weight: bold; line-height: 1; border-radius: 0.35em; vertical-align: middle; margin-left: 0.5rem\">ORG</span>\n",
       "</mark>\n",
       ". El castellano es la lengua española oficial \n",
       "<mark class=\"entity\" style=\"background: #7aecec; padding: 0.45em 0.6em; margin: 0 0.25em; line-height: 1; border-radius: 0.35em;\">\n",
       "    del Estado\n",
       "    <span style=\"font-size: 0.8em; font-weight: bold; line-height: 1; border-radius: 0.35em; vertical-align: middle; margin-left: 0.5rem\">ORG</span>\n",
       "</mark>\n",
       ". \n",
       "<mark class=\"entity\" style=\"background: #feca74; padding: 0.45em 0.6em; margin: 0 0.25em; line-height: 1; border-radius: 0.35em;\">\n",
       "    Todos\n",
       "    <span style=\"font-size: 0.8em; font-weight: bold; line-height: 1; border-radius: 0.35em; vertical-align: middle; margin-left: 0.5rem\">GPE</span>\n",
       "</mark>\n",
       " los españoles \n",
       "<mark class=\"entity\" style=\"background: #aa9cfc; padding: 0.45em 0.6em; margin: 0 0.25em; line-height: 1; border-radius: 0.35em;\">\n",
       "    tienen el deber de conocerla\n",
       "    <span style=\"font-size: 0.8em; font-weight: bold; line-height: 1; border-radius: 0.35em; vertical-align: middle; margin-left: 0.5rem\">PERSON</span>\n",
       "</mark>\n",
       " y el derecho a usarla.<br><br>\n",
       "<mark class=\"entity\" style=\"background: #e4e7d2; padding: 0.45em 0.6em; margin: 0 0.25em; line-height: 1; border-radius: 0.35em;\">\n",
       "    2\n",
       "    <span style=\"font-size: 0.8em; font-weight: bold; line-height: 1; border-radius: 0.35em; vertical-align: middle; margin-left: 0.5rem\">CARDINAL</span>\n",
       "</mark>\n",
       ". \n",
       "<mark class=\"entity\" style=\"background: #feca74; padding: 0.45em 0.6em; margin: 0 0.25em; line-height: 1; border-radius: 0.35em;\">\n",
       "    Las\n",
       "    <span style=\"font-size: 0.8em; font-weight: bold; line-height: 1; border-radius: 0.35em; vertical-align: middle; margin-left: 0.5rem\">GPE</span>\n",
       "</mark>\n",
       " demás lenguas españolas \n",
       "<mark class=\"entity\" style=\"background: #aa9cfc; padding: 0.45em 0.6em; margin: 0 0.25em; line-height: 1; border-radius: 0.35em;\">\n",
       "    serán también oficiales en las\n",
       "    <span style=\"font-size: 0.8em; font-weight: bold; line-height: 1; border-radius: 0.35em; vertical-align: middle; margin-left: 0.5rem\">PERSON</span>\n",
       "</mark>\n",
       " respectivas \n",
       "<mark class=\"entity\" style=\"background: #7aecec; padding: 0.45em 0.6em; margin: 0 0.25em; line-height: 1; border-radius: 0.35em;\">\n",
       "    Comunidades Autónomas de acuerdo\n",
       "    <span style=\"font-size: 0.8em; font-weight: bold; line-height: 1; border-radius: 0.35em; vertical-align: middle; margin-left: 0.5rem\">ORG</span>\n",
       "</mark>\n",
       " con \n",
       "<mark class=\"entity\" style=\"background: #aa9cfc; padding: 0.45em 0.6em; margin: 0 0.25em; line-height: 1; border-radius: 0.35em;\">\n",
       "    sus Estatutos\n",
       "    <span style=\"font-size: 0.8em; font-weight: bold; line-height: 1; border-radius: 0.35em; vertical-align: middle; margin-left: 0.5rem\">PERSON</span>\n",
       "</mark>\n",
       ".<br><br>\n",
       "<mark class=\"entity\" style=\"background: #e4e7d2; padding: 0.45em 0.6em; margin: 0 0.25em; line-height: 1; border-radius: 0.35em;\">\n",
       "    3\n",
       "    <span style=\"font-size: 0.8em; font-weight: bold; line-height: 1; border-radius: 0.35em; vertical-align: middle; margin-left: 0.5rem\">CARDINAL</span>\n",
       "</mark>\n",
       ". La riqueza \n",
       "<mark class=\"entity\" style=\"background: #7aecec; padding: 0.45em 0.6em; margin: 0 0.25em; line-height: 1; border-radius: 0.35em;\">\n",
       "    de las distintas modalidades lingüísticas de España es un patrimonio cultural que será\n",
       "    <span style=\"font-size: 0.8em; font-weight: bold; line-height: 1; border-radius: 0.35em; vertical-align: middle; margin-left: 0.5rem\">ORG</span>\n",
       "</mark>\n",
       " objeto de especial respeto \n",
       "<mark class=\"entity\" style=\"background: #aa9cfc; padding: 0.45em 0.6em; margin: 0 0.25em; line-height: 1; border-radius: 0.35em;\">\n",
       "    y protección\n",
       "    <span style=\"font-size: 0.8em; font-weight: bold; line-height: 1; border-radius: 0.35em; vertical-align: middle; margin-left: 0.5rem\">PERSON</span>\n",
       "</mark>\n",
       ".</div>\n",
       "\n",
       "<div class=\"entities\" style=\"line-height: 2.5; direction: ltr\">\n",
       "<mark class=\"entity\" style=\"background: #7aecec; padding: 0.45em 0.6em; margin: 0 0.25em; line-height: 1; border-radius: 0.35em;\">\n",
       "    Artículo 4\n",
       "1\n",
       "    <span style=\"font-size: 0.8em; font-weight: bold; line-height: 1; border-radius: 0.35em; vertical-align: middle; margin-left: 0.5rem\">ORG</span>\n",
       "</mark>\n",
       ". \n",
       "<mark class=\"entity\" style=\"background: #9cc9cc; padding: 0.45em 0.6em; margin: 0 0.25em; line-height: 1; border-radius: 0.35em;\">\n",
       "    La bandera de España está formada\n",
       "    <span style=\"font-size: 0.8em; font-weight: bold; line-height: 1; border-radius: 0.35em; vertical-align: middle; margin-left: 0.5rem\">FAC</span>\n",
       "</mark>\n",
       " por tres franjas horizontales, \n",
       "<mark class=\"entity\" style=\"background: #aa9cfc; padding: 0.45em 0.6em; margin: 0 0.25em; line-height: 1; border-radius: 0.35em;\">\n",
       "    roja\n",
       "    <span style=\"font-size: 0.8em; font-weight: bold; line-height: 1; border-radius: 0.35em; vertical-align: middle; margin-left: 0.5rem\">PERSON</span>\n",
       "</mark>\n",
       ", \n",
       "<mark class=\"entity\" style=\"background: #aa9cfc; padding: 0.45em 0.6em; margin: 0 0.25em; line-height: 1; border-radius: 0.35em;\">\n",
       "    amarilla y roja\n",
       "    <span style=\"font-size: 0.8em; font-weight: bold; line-height: 1; border-radius: 0.35em; vertical-align: middle; margin-left: 0.5rem\">PERSON</span>\n",
       "</mark>\n",
       ", \n",
       "<mark class=\"entity\" style=\"background: #aa9cfc; padding: 0.45em 0.6em; margin: 0 0.25em; line-height: 1; border-radius: 0.35em;\">\n",
       "    siendo la amarilla de doble anchura que cada una de las rojas\n",
       "    <span style=\"font-size: 0.8em; font-weight: bold; line-height: 1; border-radius: 0.35em; vertical-align: middle; margin-left: 0.5rem\">PERSON</span>\n",
       "</mark>\n",
       ".<br><br>\n",
       "<mark class=\"entity\" style=\"background: #e4e7d2; padding: 0.45em 0.6em; margin: 0 0.25em; line-height: 1; border-radius: 0.35em;\">\n",
       "    2\n",
       "    <span style=\"font-size: 0.8em; font-weight: bold; line-height: 1; border-radius: 0.35em; vertical-align: middle; margin-left: 0.5rem\">CARDINAL</span>\n",
       "</mark>\n",
       ". \n",
       "<mark class=\"entity\" style=\"background: #aa9cfc; padding: 0.45em 0.6em; margin: 0 0.25em; line-height: 1; border-radius: 0.35em;\">\n",
       "    Los Estatutos\n",
       "    <span style=\"font-size: 0.8em; font-weight: bold; line-height: 1; border-radius: 0.35em; vertical-align: middle; margin-left: 0.5rem\">PERSON</span>\n",
       "</mark>\n",
       " podrán reconocer banderas y enseñas \n",
       "<mark class=\"entity\" style=\"background: #7aecec; padding: 0.45em 0.6em; margin: 0 0.25em; line-height: 1; border-radius: 0.35em;\">\n",
       "    propias de las Comunidades\n",
       "    <span style=\"font-size: 0.8em; font-weight: bold; line-height: 1; border-radius: 0.35em; vertical-align: middle; margin-left: 0.5rem\">ORG</span>\n",
       "</mark>\n",
       " Autónomas. \n",
       "<mark class=\"entity\" style=\"background: #aa9cfc; padding: 0.45em 0.6em; margin: 0 0.25em; line-height: 1; border-radius: 0.35em;\">\n",
       "    Estas\n",
       "    <span style=\"font-size: 0.8em; font-weight: bold; line-height: 1; border-radius: 0.35em; vertical-align: middle; margin-left: 0.5rem\">PERSON</span>\n",
       "</mark>\n",
       " se utilizarán junto a \n",
       "<mark class=\"entity\" style=\"background: #feca74; padding: 0.45em 0.6em; margin: 0 0.25em; line-height: 1; border-radius: 0.35em;\">\n",
       "    la\n",
       "    <span style=\"font-size: 0.8em; font-weight: bold; line-height: 1; border-radius: 0.35em; vertical-align: middle; margin-left: 0.5rem\">GPE</span>\n",
       "</mark>\n",
       " \n",
       "<mark class=\"entity\" style=\"background: #7aecec; padding: 0.45em 0.6em; margin: 0 0.25em; line-height: 1; border-radius: 0.35em;\">\n",
       "    bandera de España en sus edificios públicos\n",
       "    <span style=\"font-size: 0.8em; font-weight: bold; line-height: 1; border-radius: 0.35em; vertical-align: middle; margin-left: 0.5rem\">ORG</span>\n",
       "</mark>\n",
       " \n",
       "<mark class=\"entity\" style=\"background: #7aecec; padding: 0.45em 0.6em; margin: 0 0.25em; line-height: 1; border-radius: 0.35em;\">\n",
       "    y en sus actos oficiales\n",
       "    <span style=\"font-size: 0.8em; font-weight: bold; line-height: 1; border-radius: 0.35em; vertical-align: middle; margin-left: 0.5rem\">ORG</span>\n",
       "</mark>\n",
       ".</div>\n",
       "\n",
       "<div class=\"entities\" style=\"line-height: 2.5; direction: ltr\">\n",
       "<mark class=\"entity\" style=\"background: #7aecec; padding: 0.45em 0.6em; margin: 0 0.25em; line-height: 1; border-radius: 0.35em;\">\n",
       "    Artículo 5\n",
       "La capital\n",
       "    <span style=\"font-size: 0.8em; font-weight: bold; line-height: 1; border-radius: 0.35em; vertical-align: middle; margin-left: 0.5rem\">ORG</span>\n",
       "</mark>\n",
       " del Estado es la villa de Madrid.</div></span>"
      ],
      "text/plain": [
       "<IPython.core.display.HTML object>"
      ]
     },
     "metadata": {},
     "output_type": "display_data"
    }
   ],
   "source": [
    "displacy.render(docs2, style=\"ent\")"
   ]
  },
  {
   "cell_type": "code",
   "execution_count": 82,
   "metadata": {
    "colab": {
     "base_uri": "https://localhost:8080/",
     "height": 437
    },
    "id": "HAHQDb3dykHy",
    "outputId": "8cf0f438-833d-4f02-811c-f0ae5d137c64"
   },
   "outputs": [
    {
     "data": {
      "text/html": [
       "<span class=\"tex2jax_ignore\"><div class=\"entities\" style=\"line-height: 2.5; direction: ltr\">\n",
       "<mark class=\"entity\" style=\"background: #7aecec; padding: 0.45em 0.6em; margin: 0 0.25em; line-height: 1; border-radius: 0.35em;\">\n",
       "    El Ayuntamiento de Girona lanza una\n",
       "    <span style=\"font-size: 0.8em; font-weight: bold; line-height: 1; border-radius: 0.35em; vertical-align: middle; margin-left: 0.5rem\">ORG</span>\n",
       "</mark>\n",
       " app \n",
       "<mark class=\"entity\" style=\"background: #7aecec; padding: 0.45em 0.6em; margin: 0 0.25em; line-height: 1; border-radius: 0.35em;\">\n",
       "    para comprar en línea en comercios\n",
       "    <span style=\"font-size: 0.8em; font-weight: bold; line-height: 1; border-radius: 0.35em; vertical-align: middle; margin-left: 0.5rem\">ORG</span>\n",
       "</mark>\n",
       " locales</div>\n",
       "\n",
       "<div class=\"entities\" style=\"line-height: 2.5; direction: ltr\">Más del \n",
       "<mark class=\"entity\" style=\"background: #e4e7d2; padding: 0.45em 0.6em; margin: 0 0.25em; line-height: 1; border-radius: 0.35em;\">\n",
       "    70%\n",
       "    <span style=\"font-size: 0.8em; font-weight: bold; line-height: 1; border-radius: 0.35em; vertical-align: middle; margin-left: 0.5rem\">PERCENT</span>\n",
       "</mark>\n",
       " \n",
       "<mark class=\"entity\" style=\"background: #7aecec; padding: 0.45em 0.6em; margin: 0 0.25em; line-height: 1; border-radius: 0.35em;\">\n",
       "    de las terrazas Covid en Madrid\n",
       "    <span style=\"font-size: 0.8em; font-weight: bold; line-height: 1; border-radius: 0.35em; vertical-align: middle; margin-left: 0.5rem\">ORG</span>\n",
       "</mark>\n",
       " finalizará a partir del 1 de enero de 2022, cifra \n",
       "<mark class=\"entity\" style=\"background: #aa9cfc; padding: 0.45em 0.6em; margin: 0 0.25em; line-height: 1; border-radius: 0.35em;\">\n",
       "    Alcaldía\n",
       "    <span style=\"font-size: 0.8em; font-weight: bold; line-height: 1; border-radius: 0.35em; vertical-align: middle; margin-left: 0.5rem\">PERSON</span>\n",
       "</mark>\n",
       "</div>\n",
       "\n",
       "<div class=\"entities\" style=\"line-height: 2.5; direction: ltr\">\n",
       "<mark class=\"entity\" style=\"background: #7aecec; padding: 0.45em 0.6em; margin: 0 0.25em; line-height: 1; border-radius: 0.35em;\">\n",
       "    Un\n",
       "    <span style=\"font-size: 0.8em; font-weight: bold; line-height: 1; border-radius: 0.35em; vertical-align: middle; margin-left: 0.5rem\">ORG</span>\n",
       "</mark>\n",
       " tribunal \n",
       "<mark class=\"entity\" style=\"background: #aa9cfc; padding: 0.45em 0.6em; margin: 0 0.25em; line-height: 1; border-radius: 0.35em;\">\n",
       "    obliga al Ayuntamiento de Villafranca\n",
       "    <span style=\"font-size: 0.8em; font-weight: bold; line-height: 1; border-radius: 0.35em; vertical-align: middle; margin-left: 0.5rem\">PERSON</span>\n",
       "</mark>\n",
       " a eliminar una publicación de su cuenta de Facebook - Tribunales - Navarra.com. \n",
       "<mark class=\"entity\" style=\"background: #aa9cfc; padding: 0.45em 0.6em; margin: 0 0.25em; line-height: 1; border-radius: 0.35em;\">\n",
       "    Noticias de Navarra\n",
       "    <span style=\"font-size: 0.8em; font-weight: bold; line-height: 1; border-radius: 0.35em; vertical-align: middle; margin-left: 0.5rem\">PERSON</span>\n",
       "</mark>\n",
       ", \n",
       "<mark class=\"entity\" style=\"background: #feca74; padding: 0.45em 0.6em; margin: 0 0.25em; line-height: 1; border-radius: 0.35em;\">\n",
       "    Osasuna\n",
       "    <span style=\"font-size: 0.8em; font-weight: bold; line-height: 1; border-radius: 0.35em; vertical-align: middle; margin-left: 0.5rem\">GPE</span>\n",
       "</mark>\n",
       ", \n",
       "<mark class=\"entity\" style=\"background: #feca74; padding: 0.45em 0.6em; margin: 0 0.25em; line-height: 1; border-radius: 0.35em;\">\n",
       "    Pamplona\n",
       "    <span style=\"font-size: 0.8em; font-weight: bold; line-height: 1; border-radius: 0.35em; vertical-align: middle; margin-left: 0.5rem\">GPE</span>\n",
       "</mark>\n",
       ", deportes</div>\n",
       "\n",
       "<div class=\"entities\" style=\"line-height: 2.5; direction: ltr\">\n",
       "<mark class=\"entity\" style=\"background: #7aecec; padding: 0.45em 0.6em; margin: 0 0.25em; line-height: 1; border-radius: 0.35em;\">\n",
       "    El Ayuntamiento\n",
       "    <span style=\"font-size: 0.8em; font-weight: bold; line-height: 1; border-radius: 0.35em; vertical-align: middle; margin-left: 0.5rem\">ORG</span>\n",
       "</mark>\n",
       " impulsa \n",
       "<mark class=\"entity\" style=\"background: #7aecec; padding: 0.45em 0.6em; margin: 0 0.25em; line-height: 1; border-radius: 0.35em;\">\n",
       "    un\n",
       "    <span style=\"font-size: 0.8em; font-weight: bold; line-height: 1; border-radius: 0.35em; vertical-align: middle; margin-left: 0.5rem\">ORG</span>\n",
       "</mark>\n",
       " plan \n",
       "<mark class=\"entity\" style=\"background: #7aecec; padding: 0.45em 0.6em; margin: 0 0.25em; line-height: 1; border-radius: 0.35em;\">\n",
       "    de igualdad para todos sus trabajadores\n",
       "    <span style=\"font-size: 0.8em; font-weight: bold; line-height: 1; border-radius: 0.35em; vertical-align: middle; margin-left: 0.5rem\">ORG</span>\n",
       "</mark>\n",
       "</div>\n",
       "\n",
       "<div class=\"entities\" style=\"line-height: 2.5; direction: ltr\">\n",
       "<mark class=\"entity\" style=\"background: #7aecec; padding: 0.45em 0.6em; margin: 0 0.25em; line-height: 1; border-radius: 0.35em;\">\n",
       "    El Ayuntamiento\n",
       "    <span style=\"font-size: 0.8em; font-weight: bold; line-height: 1; border-radius: 0.35em; vertical-align: middle; margin-left: 0.5rem\">ORG</span>\n",
       "</mark>\n",
       " impulsa \n",
       "<mark class=\"entity\" style=\"background: #e4e7d2; padding: 0.45em 0.6em; margin: 0 0.25em; line-height: 1; border-radius: 0.35em;\">\n",
       "    21\n",
       "    <span style=\"font-size: 0.8em; font-weight: bold; line-height: 1; border-radius: 0.35em; vertical-align: middle; margin-left: 0.5rem\">CARDINAL</span>\n",
       "</mark>\n",
       " huertos \n",
       "<mark class=\"entity\" style=\"background: #7aecec; padding: 0.45em 0.6em; margin: 0 0.25em; line-height: 1; border-radius: 0.35em;\">\n",
       "    urbanos más en Valgranda\n",
       "    <span style=\"font-size: 0.8em; font-weight: bold; line-height: 1; border-radius: 0.35em; vertical-align: middle; margin-left: 0.5rem\">ORG</span>\n",
       "</mark>\n",
       ", con \n",
       "<mark class=\"entity\" style=\"background: #7aecec; padding: 0.45em 0.6em; margin: 0 0.25em; line-height: 1; border-radius: 0.35em;\">\n",
       "    una inversión de más de\n",
       "    <span style=\"font-size: 0.8em; font-weight: bold; line-height: 1; border-radius: 0.35em; vertical-align: middle; margin-left: 0.5rem\">ORG</span>\n",
       "</mark>\n",
       " 25.000 euros</div>\n",
       "\n",
       "<div class=\"entities\" style=\"line-height: 2.5; direction: ltr\">\n",
       "<mark class=\"entity\" style=\"background: #7aecec; padding: 0.45em 0.6em; margin: 0 0.25em; line-height: 1; border-radius: 0.35em;\">\n",
       "    Un\n",
       "    <span style=\"font-size: 0.8em; font-weight: bold; line-height: 1; border-radius: 0.35em; vertical-align: middle; margin-left: 0.5rem\">ORG</span>\n",
       "</mark>\n",
       " alcalde \n",
       "<mark class=\"entity\" style=\"background: #7aecec; padding: 0.45em 0.6em; margin: 0 0.25em; line-height: 1; border-radius: 0.35em;\">\n",
       "    de Castilla-La Mancha\n",
       "    <span style=\"font-size: 0.8em; font-weight: bold; line-height: 1; border-radius: 0.35em; vertical-align: middle; margin-left: 0.5rem\">ORG</span>\n",
       "</mark>\n",
       " se lanza a \n",
       "<mark class=\"entity\" style=\"background: #7aecec; padding: 0.45em 0.6em; margin: 0 0.25em; line-height: 1; border-radius: 0.35em;\">\n",
       "    captar empresas\n",
       "    <span style=\"font-size: 0.8em; font-weight: bold; line-height: 1; border-radius: 0.35em; vertical-align: middle; margin-left: 0.5rem\">ORG</span>\n",
       "</mark>\n",
       " con \n",
       "<mark class=\"entity\" style=\"background: #aa9cfc; padding: 0.45em 0.6em; margin: 0 0.25em; line-height: 1; border-radius: 0.35em;\">\n",
       "    una oferta\n",
       "    <span style=\"font-size: 0.8em; font-weight: bold; line-height: 1; border-radius: 0.35em; vertical-align: middle; margin-left: 0.5rem\">PERSON</span>\n",
       "</mark>\n",
       " &quot;absolutamente imbatible&quot;</div>\n",
       "\n",
       "<div class=\"entities\" style=\"line-height: 2.5; direction: ltr\">\n",
       "<mark class=\"entity\" style=\"background: #9cc9cc; padding: 0.45em 0.6em; margin: 0 0.25em; line-height: 1; border-radius: 0.35em;\">\n",
       "    El Ayuntamiento de\n",
       "    <span style=\"font-size: 0.8em; font-weight: bold; line-height: 1; border-radius: 0.35em; vertical-align: middle; margin-left: 0.5rem\">FAC</span>\n",
       "</mark>\n",
       " C&amp;amp;#225;diz \n",
       "<mark class=\"entity\" style=\"background: #aa9cfc; padding: 0.45em 0.6em; margin: 0 0.25em; line-height: 1; border-radius: 0.35em;\">\n",
       "    inicia una Mesa del Turismo\n",
       "    <span style=\"font-size: 0.8em; font-weight: bold; line-height: 1; border-radius: 0.35em; vertical-align: middle; margin-left: 0.5rem\">PERSON</span>\n",
       "</mark>\n",
       " con \n",
       "<mark class=\"entity\" style=\"background: #7aecec; padding: 0.45em 0.6em; margin: 0 0.25em; line-height: 1; border-radius: 0.35em;\">\n",
       "    el objetivo de reactivar el sector\n",
       "    <span style=\"font-size: 0.8em; font-weight: bold; line-height: 1; border-radius: 0.35em; vertical-align: middle; margin-left: 0.5rem\">ORG</span>\n",
       "</mark>\n",
       "</div>\n",
       "\n",
       "<div class=\"entities\" style=\"line-height: 2.5; direction: ltr\">\n",
       "<mark class=\"entity\" style=\"background: #7aecec; padding: 0.45em 0.6em; margin: 0 0.25em; line-height: 1; border-radius: 0.35em;\">\n",
       "    El PSOE\n",
       "    <span style=\"font-size: 0.8em; font-weight: bold; line-height: 1; border-radius: 0.35em; vertical-align: middle; margin-left: 0.5rem\">ORG</span>\n",
       "</mark>\n",
       " pide \n",
       "<mark class=\"entity\" style=\"background: #aa9cfc; padding: 0.45em 0.6em; margin: 0 0.25em; line-height: 1; border-radius: 0.35em;\">\n",
       "    al alcalde que deje de\n",
       "    <span style=\"font-size: 0.8em; font-weight: bold; line-height: 1; border-radius: 0.35em; vertical-align: middle; margin-left: 0.5rem\">PERSON</span>\n",
       "</mark>\n",
       " &quot;burlarse&quot; de los trabajadores \n",
       "<mark class=\"entity\" style=\"background: #7aecec; padding: 0.45em 0.6em; margin: 0 0.25em; line-height: 1; border-radius: 0.35em;\">\n",
       "    de Seguridad\n",
       "    <span style=\"font-size: 0.8em; font-weight: bold; line-height: 1; border-radius: 0.35em; vertical-align: middle; margin-left: 0.5rem\">ORG</span>\n",
       "</mark>\n",
       " Ciudadana</div>\n",
       "\n",
       "<div class=\"entities\" style=\"line-height: 2.5; direction: ltr\">\n",
       "<mark class=\"entity\" style=\"background: #7aecec; padding: 0.45em 0.6em; margin: 0 0.25em; line-height: 1; border-radius: 0.35em;\">\n",
       "    La alcaldesa de Córdoba\n",
       "    <span style=\"font-size: 0.8em; font-weight: bold; line-height: 1; border-radius: 0.35em; vertical-align: middle; margin-left: 0.5rem\">ORG</span>\n",
       "</mark>\n",
       " defiende tener &quot;\n",
       "<mark class=\"entity\" style=\"background: #feca74; padding: 0.45em 0.6em; margin: 0 0.25em; line-height: 1; border-radius: 0.35em;\">\n",
       "    las\n",
       "    <span style=\"font-size: 0.8em; font-weight: bold; line-height: 1; border-radius: 0.35em; vertical-align: middle; margin-left: 0.5rem\">GPE</span>\n",
       "</mark>\n",
       " garantías \n",
       "<mark class=\"entity\" style=\"background: #aa9cfc; padding: 0.45em 0.6em; margin: 0 0.25em; line-height: 1; border-radius: 0.35em;\">\n",
       "    jurídicas&quot; para la suspensión de licencias\n",
       "    <span style=\"font-size: 0.8em; font-weight: bold; line-height: 1; border-radius: 0.35em; vertical-align: middle; margin-left: 0.5rem\">PERSON</span>\n",
       "</mark>\n",
       " a pisos turísticos</div>\n",
       "\n",
       "<div class=\"entities\" style=\"line-height: 2.5; direction: ltr\">15/08/2020 \n",
       "<mark class=\"entity\" style=\"background: #e4e7d2; padding: 0.45em 0.6em; margin: 0 0.25em; line-height: 1; border-radius: 0.35em;\">\n",
       "    1\n",
       "    <span style=\"font-size: 0.8em; font-weight: bold; line-height: 1; border-radius: 0.35em; vertical-align: middle; margin-left: 0.5rem\">CARDINAL</span>\n",
       "</mark>\n",
       " foto Coronavirus.- El municipio de Utrillas entregará \n",
       "<mark class=\"entity\" style=\"background: #aa9cfc; padding: 0.45em 0.6em; margin: 0 0.25em; line-height: 1; border-radius: 0.35em;\">\n",
       "    ayudas\n",
       "    <span style=\"font-size: 0.8em; font-weight: bold; line-height: 1; border-radius: 0.35em; vertical-align: middle; margin-left: 0.5rem\">PERSON</span>\n",
       "</mark>\n",
       " a \n",
       "<mark class=\"entity\" style=\"background: #e4e7d2; padding: 0.45em 0.6em; margin: 0 0.25em; line-height: 1; border-radius: 0.35em;\">\n",
       "    42\n",
       "    <span style=\"font-size: 0.8em; font-weight: bold; line-height: 1; border-radius: 0.35em; vertical-align: middle; margin-left: 0.5rem\">CARDINAL</span>\n",
       "</mark>\n",
       " comercios para hacer frente a la crisis económica AYUNTAMIENTO DE UTRILLAS</div>\n",
       "\n",
       "<div class=\"entities\" style=\"line-height: 2.5; direction: ltr\">\n",
       "<mark class=\"entity\" style=\"background: #7aecec; padding: 0.45em 0.6em; margin: 0 0.25em; line-height: 1; border-radius: 0.35em;\">\n",
       "    El Ayuntamiento de Valladolid\n",
       "    <span style=\"font-size: 0.8em; font-weight: bold; line-height: 1; border-radius: 0.35em; vertical-align: middle; margin-left: 0.5rem\">ORG</span>\n",
       "</mark>\n",
       " suspenderá el \n",
       "<mark class=\"entity\" style=\"background: #7aecec; padding: 0.45em 0.6em; margin: 0 0.25em; line-height: 1; border-radius: 0.35em;\">\n",
       "    TAC\n",
       "    <span style=\"font-size: 0.8em; font-weight: bold; line-height: 1; border-radius: 0.35em; vertical-align: middle; margin-left: 0.5rem\">ORG</span>\n",
       "</mark>\n",
       ", \n",
       "<mark class=\"entity\" style=\"background: #feca74; padding: 0.45em 0.6em; margin: 0 0.25em; line-height: 1; border-radius: 0.35em;\">\n",
       "    la\n",
       "    <span style=\"font-size: 0.8em; font-weight: bold; line-height: 1; border-radius: 0.35em; vertical-align: middle; margin-left: 0.5rem\">GPE</span>\n",
       "</mark>\n",
       " \n",
       "<mark class=\"entity\" style=\"background: #feca74; padding: 0.45em 0.6em; margin: 0 0.25em; line-height: 1; border-radius: 0.35em;\">\n",
       "    Feria\n",
       "    <span style=\"font-size: 0.8em; font-weight: bold; line-height: 1; border-radius: 0.35em; vertical-align: middle; margin-left: 0.5rem\">GPE</span>\n",
       "</mark>\n",
       " \n",
       "<mark class=\"entity\" style=\"background: #aa9cfc; padding: 0.45em 0.6em; margin: 0 0.25em; line-height: 1; border-radius: 0.35em;\">\n",
       "    del Libro\n",
       "    <span style=\"font-size: 0.8em; font-weight: bold; line-height: 1; border-radius: 0.35em; vertical-align: middle; margin-left: 0.5rem\">PERSON</span>\n",
       "</mark>\n",
       " y las fiestas de San Pedro Regalado</div>\n",
       "\n",
       "<div class=\"entities\" style=\"line-height: 2.5; direction: ltr\">Concejal \n",
       "<mark class=\"entity\" style=\"background: #aa9cfc; padding: 0.45em 0.6em; margin: 0 0.25em; line-height: 1; border-radius: 0.35em;\">\n",
       "    Patria Portilla\n",
       "    <span style=\"font-size: 0.8em; font-weight: bold; line-height: 1; border-radius: 0.35em; vertical-align: middle; margin-left: 0.5rem\">PERSON</span>\n",
       "</mark>\n",
       " abrirá \n",
       "<mark class=\"entity\" style=\"background: #aa9cfc; padding: 0.45em 0.6em; margin: 0 0.25em; line-height: 1; border-radius: 0.35em;\">\n",
       "    con su\n",
       "    <span style=\"font-size: 0.8em; font-weight: bold; line-height: 1; border-radius: 0.35em; vertical-align: middle; margin-left: 0.5rem\">PERSON</span>\n",
       "</mark>\n",
       " pregón las fiestas de La Ferretera</div>\n",
       "\n",
       "<div class=\"entities\" style=\"line-height: 2.5; direction: ltr\">\n",
       "<mark class=\"entity\" style=\"background: #feca74; padding: 0.45em 0.6em; margin: 0 0.25em; line-height: 1; border-radius: 0.35em;\">\n",
       "    La\n",
       "    <span style=\"font-size: 0.8em; font-weight: bold; line-height: 1; border-radius: 0.35em; vertical-align: middle; margin-left: 0.5rem\">GPE</span>\n",
       "</mark>\n",
       " alcaldesa \n",
       "<mark class=\"entity\" style=\"background: #aa9cfc; padding: 0.45em 0.6em; margin: 0 0.25em; line-height: 1; border-radius: 0.35em;\">\n",
       "    de Pozuelo\n",
       "    <span style=\"font-size: 0.8em; font-weight: bold; line-height: 1; border-radius: 0.35em; vertical-align: middle; margin-left: 0.5rem\">PERSON</span>\n",
       "</mark>\n",
       " presenta \n",
       "<mark class=\"entity\" style=\"background: #7aecec; padding: 0.45em 0.6em; margin: 0 0.25em; line-height: 1; border-radius: 0.35em;\">\n",
       "    un\n",
       "    <span style=\"font-size: 0.8em; font-weight: bold; line-height: 1; border-radius: 0.35em; vertical-align: middle; margin-left: 0.5rem\">ORG</span>\n",
       "</mark>\n",
       " escrito para que la Justicia actúe en la vivienda \n",
       "<mark class=\"entity\" style=\"background: #7aecec; padding: 0.45em 0.6em; margin: 0 0.25em; line-height: 1; border-radius: 0.35em;\">\n",
       "    okupada en el municipio\n",
       "    <span style=\"font-size: 0.8em; font-weight: bold; line-height: 1; border-radius: 0.35em; vertical-align: middle; margin-left: 0.5rem\">ORG</span>\n",
       "</mark>\n",
       "</div>\n",
       "\n",
       "<div class=\"entities\" style=\"line-height: 2.5; direction: ltr\">\n",
       "<mark class=\"entity\" style=\"background: #9cc9cc; padding: 0.45em 0.6em; margin: 0 0.25em; line-height: 1; border-radius: 0.35em;\">\n",
       "    El Ayuntamiento de BCN\n",
       "    <span style=\"font-size: 0.8em; font-weight: bold; line-height: 1; border-radius: 0.35em; vertical-align: middle; margin-left: 0.5rem\">FAC</span>\n",
       "</mark>\n",
       " gestionará el \n",
       "<mark class=\"entity\" style=\"background: #ff9561; padding: 0.45em 0.6em; margin: 0 0.25em; line-height: 1; border-radius: 0.35em;\">\n",
       "    Port Olímpic\n",
       "    <span style=\"font-size: 0.8em; font-weight: bold; line-height: 1; border-radius: 0.35em; vertical-align: middle; margin-left: 0.5rem\">LOC</span>\n",
       "</mark>\n",
       " desde \n",
       "<mark class=\"entity\" style=\"background: #bfe1d9; padding: 0.45em 0.6em; margin: 0 0.25em; line-height: 1; border-radius: 0.35em;\">\n",
       "    abril de 2020\n",
       "    <span style=\"font-size: 0.8em; font-weight: bold; line-height: 1; border-radius: 0.35em; vertical-align: middle; margin-left: 0.5rem\">DATE</span>\n",
       "</mark>\n",
       ", \n",
       "<mark class=\"entity\" style=\"background: #7aecec; padding: 0.45em 0.6em; margin: 0 0.25em; line-height: 1; border-radius: 0.35em;\">\n",
       "    El consistorio\n",
       "    <span style=\"font-size: 0.8em; font-weight: bold; line-height: 1; border-radius: 0.35em; vertical-align: middle; margin-left: 0.5rem\">ORG</span>\n",
       "</mark>\n",
       " aprueba \n",
       "<mark class=\"entity\" style=\"background: #7aecec; padding: 0.45em 0.6em; margin: 0 0.25em; line-height: 1; border-radius: 0.35em;\">\n",
       "    el último\n",
       "    <span style=\"font-size: 0.8em; font-weight: bold; line-height: 1; border-radius: 0.35em; vertical-align: middle; margin-left: 0.5rem\">ORG</span>\n",
       "</mark>\n",
       " trámite \n",
       "<mark class=\"entity\" style=\"background: #aa9cfc; padding: 0.45em 0.6em; margin: 0 0.25em; line-height: 1; border-radius: 0.35em;\">\n",
       "    para controlar la zona de ocio durante\n",
       "    <span style=\"font-size: 0.8em; font-weight: bold; line-height: 1; border-radius: 0.35em; vertical-align: middle; margin-left: 0.5rem\">PERSON</span>\n",
       "</mark>\n",
       " \n",
       "<mark class=\"entity\" style=\"background: #e4e7d2; padding: 0.45em 0.6em; margin: 0 0.25em; line-height: 1; border-radius: 0.35em;\">\n",
       "    30\n",
       "    <span style=\"font-size: 0.8em; font-weight: bold; line-height: 1; border-radius: 0.35em; vertical-align: middle; margin-left: 0.5rem\">CARDINAL</span>\n",
       "</mark>\n",
       " años</div>\n",
       "\n",
       "<div class=\"entities\" style=\"line-height: 2.5; direction: ltr\">\n",
       "<mark class=\"entity\" style=\"background: #7aecec; padding: 0.45em 0.6em; margin: 0 0.25em; line-height: 1; border-radius: 0.35em;\">\n",
       "    El Ayuntamiento de Málaga\n",
       "    <span style=\"font-size: 0.8em; font-weight: bold; line-height: 1; border-radius: 0.35em; vertical-align: middle; margin-left: 0.5rem\">ORG</span>\n",
       "</mark>\n",
       " convoca \n",
       "<mark class=\"entity\" style=\"background: #e4e7d2; padding: 0.45em 0.6em; margin: 0 0.25em; line-height: 1; border-radius: 0.35em;\">\n",
       "    97\n",
       "    <span style=\"font-size: 0.8em; font-weight: bold; line-height: 1; border-radius: 0.35em; vertical-align: middle; margin-left: 0.5rem\">CARDINAL</span>\n",
       "</mark>\n",
       " plazas en \n",
       "<mark class=\"entity\" style=\"background: #aa9cfc; padding: 0.45em 0.6em; margin: 0 0.25em; line-height: 1; border-radius: 0.35em;\">\n",
       "    su oferta de empleo público de 2019\n",
       "    <span style=\"font-size: 0.8em; font-weight: bold; line-height: 1; border-radius: 0.35em; vertical-align: middle; margin-left: 0.5rem\">PERSON</span>\n",
       "</mark>\n",
       ", \n",
       "<mark class=\"entity\" style=\"background: #e4e7d2; padding: 0.45em 0.6em; margin: 0 0.25em; line-height: 1; border-radius: 0.35em;\">\n",
       "    84 de ellas de turno libre\n",
       "    <span style=\"font-size: 0.8em; font-weight: bold; line-height: 1; border-radius: 0.35em; vertical-align: middle; margin-left: 0.5rem\">QUANTITY</span>\n",
       "</mark>\n",
       "</div></span>"
      ],
      "text/plain": [
       "<IPython.core.display.HTML object>"
      ]
     },
     "metadata": {},
     "output_type": "display_data"
    }
   ],
   "source": [
    "displacy.render(docs3, style=\"ent\")"
   ]
  },
  {
   "cell_type": "markdown",
   "metadata": {
    "id": "ZQ4WeKwy0ieh"
   },
   "source": [
    "Se utilizaron tres corpus diferentes; uno de cuentos, uno de leyes del gobierno de España y otro de noticias. Se utilizó Spacy junto con su corpus de noticias en Español para identificar las entidades nombrada. Se pude observar que para el cuento, Spacy no hace un buen trabajo, en particular la etiqueta ORG (Organización) se utiliza de manera incorrecta y en general el desempeño es bastante malo ya que los cuentos al ser un lenguaje más narrativo y descriptivo hacen poco uso de entidades nombradas.\n",
    "\n",
    "Para el texto de las leyes de España mejora el reconocimiento de la etiqueta PERSON esto puede deberse a que en este tipo de textos estas entidades suelen aparecer de forma muy clara para ser preciso en cuanto al lenguaje jurídico, para saber en quien recae la acción y la responsabilidad.\n",
    "\n",
    "Finalmente, en el corpus de noticias, la identificación fue mucho más precisa y en general fue donde el desempeño resultó el mejor de entre los tres; esto se debe a que es en este tipo de textos en los que Spicy fue entrenado con su corpus de noticias en Español."
   ]
  }
 ],
 "metadata": {
  "colab": {
   "provenance": []
  },
  "kernelspec": {
   "display_name": "Python 3 (ipykernel)",
   "language": "python",
   "name": "python3"
  },
  "language_info": {
   "codemirror_mode": {
    "name": "ipython",
    "version": 3
   },
   "file_extension": ".py",
   "mimetype": "text/x-python",
   "name": "python",
   "nbconvert_exporter": "python",
   "pygments_lexer": "ipython3",
   "version": "3.12.7"
  },
  "widgets": {
   "application/vnd.jupyter.widget-state+json": {
    "0d2a2275ef32404195cf23ae1f1031a0": {
     "model_module": "@jupyter-widgets/controls",
     "model_module_version": "1.5.0",
     "model_name": "HBoxModel",
     "state": {
      "_dom_classes": [],
      "_model_module": "@jupyter-widgets/controls",
      "_model_module_version": "1.5.0",
      "_model_name": "HBoxModel",
      "_view_count": null,
      "_view_module": "@jupyter-widgets/controls",
      "_view_module_version": "1.5.0",
      "_view_name": "HBoxView",
      "box_style": "",
      "children": [
       "IPY_MODEL_64a052f3f6314679a665533f33158a94",
       "IPY_MODEL_3c327910db304592b12d180cb8c5c402",
       "IPY_MODEL_862be1c99362475cacc73848e53aae2d"
      ],
      "layout": "IPY_MODEL_20697d7b5a584d0bbdc694a106c48431"
     }
    },
    "0df036ce9244477c806a448534217949": {
     "model_module": "@jupyter-widgets/controls",
     "model_module_version": "1.5.0",
     "model_name": "HBoxModel",
     "state": {
      "_dom_classes": [],
      "_model_module": "@jupyter-widgets/controls",
      "_model_module_version": "1.5.0",
      "_model_name": "HBoxModel",
      "_view_count": null,
      "_view_module": "@jupyter-widgets/controls",
      "_view_module_version": "1.5.0",
      "_view_name": "HBoxView",
      "box_style": "",
      "children": [
       "IPY_MODEL_4b8f91a8ccab499ab20246b76f2eeab3",
       "IPY_MODEL_3cdf700453b046898fa2473ba3459c16",
       "IPY_MODEL_f1da8d9a1943420fb000fc691d721e6d"
      ],
      "layout": "IPY_MODEL_e4f4a633e1fc4eeaaf5300ccae136336"
     }
    },
    "12d32695640d47f88f39d5d8c764bfaf": {
     "model_module": "@jupyter-widgets/controls",
     "model_module_version": "1.5.0",
     "model_name": "DescriptionStyleModel",
     "state": {
      "_model_module": "@jupyter-widgets/controls",
      "_model_module_version": "1.5.0",
      "_model_name": "DescriptionStyleModel",
      "_view_count": null,
      "_view_module": "@jupyter-widgets/base",
      "_view_module_version": "1.2.0",
      "_view_name": "StyleView",
      "description_width": ""
     }
    },
    "1b1fd38fe7dd414d91c3688f0908c3dd": {
     "model_module": "@jupyter-widgets/controls",
     "model_module_version": "1.5.0",
     "model_name": "DescriptionStyleModel",
     "state": {
      "_model_module": "@jupyter-widgets/controls",
      "_model_module_version": "1.5.0",
      "_model_name": "DescriptionStyleModel",
      "_view_count": null,
      "_view_module": "@jupyter-widgets/base",
      "_view_module_version": "1.2.0",
      "_view_name": "StyleView",
      "description_width": ""
     }
    },
    "20697d7b5a584d0bbdc694a106c48431": {
     "model_module": "@jupyter-widgets/base",
     "model_module_version": "1.2.0",
     "model_name": "LayoutModel",
     "state": {
      "_model_module": "@jupyter-widgets/base",
      "_model_module_version": "1.2.0",
      "_model_name": "LayoutModel",
      "_view_count": null,
      "_view_module": "@jupyter-widgets/base",
      "_view_module_version": "1.2.0",
      "_view_name": "LayoutView",
      "align_content": null,
      "align_items": null,
      "align_self": null,
      "border": null,
      "bottom": null,
      "display": null,
      "flex": null,
      "flex_flow": null,
      "grid_area": null,
      "grid_auto_columns": null,
      "grid_auto_flow": null,
      "grid_auto_rows": null,
      "grid_column": null,
      "grid_gap": null,
      "grid_row": null,
      "grid_template_areas": null,
      "grid_template_columns": null,
      "grid_template_rows": null,
      "height": null,
      "justify_content": null,
      "justify_items": null,
      "left": null,
      "margin": null,
      "max_height": null,
      "max_width": null,
      "min_height": null,
      "min_width": null,
      "object_fit": null,
      "object_position": null,
      "order": null,
      "overflow": null,
      "overflow_x": null,
      "overflow_y": null,
      "padding": null,
      "right": null,
      "top": null,
      "visibility": null,
      "width": null
     }
    },
    "347606d42d7a4f86b4b45d2cd7eba907": {
     "model_module": "@jupyter-widgets/controls",
     "model_module_version": "1.5.0",
     "model_name": "DescriptionStyleModel",
     "state": {
      "_model_module": "@jupyter-widgets/controls",
      "_model_module_version": "1.5.0",
      "_model_name": "DescriptionStyleModel",
      "_view_count": null,
      "_view_module": "@jupyter-widgets/base",
      "_view_module_version": "1.2.0",
      "_view_name": "StyleView",
      "description_width": ""
     }
    },
    "3c327910db304592b12d180cb8c5c402": {
     "model_module": "@jupyter-widgets/controls",
     "model_module_version": "1.5.0",
     "model_name": "FloatProgressModel",
     "state": {
      "_dom_classes": [],
      "_model_module": "@jupyter-widgets/controls",
      "_model_module_version": "1.5.0",
      "_model_name": "FloatProgressModel",
      "_view_count": null,
      "_view_module": "@jupyter-widgets/controls",
      "_view_module_version": "1.5.0",
      "_view_name": "ProgressView",
      "bar_style": "success",
      "description": "",
      "description_tooltip": null,
      "layout": "IPY_MODEL_539fb712af694fccbc23b75eb6f90184",
      "max": 1233,
      "min": 0,
      "orientation": "horizontal",
      "style": "IPY_MODEL_8ff224833ec04062a52f2bc939fe0436",
      "value": 1233
     }
    },
    "3cdf700453b046898fa2473ba3459c16": {
     "model_module": "@jupyter-widgets/controls",
     "model_module_version": "1.5.0",
     "model_name": "FloatProgressModel",
     "state": {
      "_dom_classes": [],
      "_model_module": "@jupyter-widgets/controls",
      "_model_module_version": "1.5.0",
      "_model_name": "FloatProgressModel",
      "_view_count": null,
      "_view_module": "@jupyter-widgets/controls",
      "_view_module_version": "1.5.0",
      "_view_name": "ProgressView",
      "bar_style": "success",
      "description": "",
      "description_tooltip": null,
      "layout": "IPY_MODEL_c27ee061bbcc4996a90b55ccc3dccec5",
      "max": 4527,
      "min": 0,
      "orientation": "horizontal",
      "style": "IPY_MODEL_8f624eaf73d742338cd4876690237b7f",
      "value": 4527
     }
    },
    "3e4b696af1c14d02b115e38005db0bc6": {
     "model_module": "@jupyter-widgets/base",
     "model_module_version": "1.2.0",
     "model_name": "LayoutModel",
     "state": {
      "_model_module": "@jupyter-widgets/base",
      "_model_module_version": "1.2.0",
      "_model_name": "LayoutModel",
      "_view_count": null,
      "_view_module": "@jupyter-widgets/base",
      "_view_module_version": "1.2.0",
      "_view_name": "LayoutView",
      "align_content": null,
      "align_items": null,
      "align_self": null,
      "border": null,
      "bottom": null,
      "display": null,
      "flex": null,
      "flex_flow": null,
      "grid_area": null,
      "grid_auto_columns": null,
      "grid_auto_flow": null,
      "grid_auto_rows": null,
      "grid_column": null,
      "grid_gap": null,
      "grid_row": null,
      "grid_template_areas": null,
      "grid_template_columns": null,
      "grid_template_rows": null,
      "height": null,
      "justify_content": null,
      "justify_items": null,
      "left": null,
      "margin": null,
      "max_height": null,
      "max_width": null,
      "min_height": null,
      "min_width": null,
      "object_fit": null,
      "object_position": null,
      "order": null,
      "overflow": null,
      "overflow_x": null,
      "overflow_y": null,
      "padding": null,
      "right": null,
      "top": null,
      "visibility": null,
      "width": null
     }
    },
    "407c56268dfe429e9acbeee1bb604bd4": {
     "model_module": "@jupyter-widgets/base",
     "model_module_version": "1.2.0",
     "model_name": "LayoutModel",
     "state": {
      "_model_module": "@jupyter-widgets/base",
      "_model_module_version": "1.2.0",
      "_model_name": "LayoutModel",
      "_view_count": null,
      "_view_module": "@jupyter-widgets/base",
      "_view_module_version": "1.2.0",
      "_view_name": "LayoutView",
      "align_content": null,
      "align_items": null,
      "align_self": null,
      "border": null,
      "bottom": null,
      "display": null,
      "flex": null,
      "flex_flow": null,
      "grid_area": null,
      "grid_auto_columns": null,
      "grid_auto_flow": null,
      "grid_auto_rows": null,
      "grid_column": null,
      "grid_gap": null,
      "grid_row": null,
      "grid_template_areas": null,
      "grid_template_columns": null,
      "grid_template_rows": null,
      "height": null,
      "justify_content": null,
      "justify_items": null,
      "left": null,
      "margin": null,
      "max_height": null,
      "max_width": null,
      "min_height": null,
      "min_width": null,
      "object_fit": null,
      "object_position": null,
      "order": null,
      "overflow": null,
      "overflow_x": null,
      "overflow_y": null,
      "padding": null,
      "right": null,
      "top": null,
      "visibility": null,
      "width": null
     }
    },
    "4b8f91a8ccab499ab20246b76f2eeab3": {
     "model_module": "@jupyter-widgets/controls",
     "model_module_version": "1.5.0",
     "model_name": "HTMLModel",
     "state": {
      "_dom_classes": [],
      "_model_module": "@jupyter-widgets/controls",
      "_model_module_version": "1.5.0",
      "_model_name": "HTMLModel",
      "_view_count": null,
      "_view_module": "@jupyter-widgets/controls",
      "_view_module_version": "1.5.0",
      "_view_name": "HTMLView",
      "description": "",
      "description_tooltip": null,
      "layout": "IPY_MODEL_c6a8ccf13a8340f2ace1f5defbb23bf4",
      "placeholder": "​",
      "style": "IPY_MODEL_c996d351f6164e738514d995025d5735",
      "value": "README.md: 100%"
     }
    },
    "4eceb89423954901b853fd02c330ce9b": {
     "model_module": "@jupyter-widgets/base",
     "model_module_version": "1.2.0",
     "model_name": "LayoutModel",
     "state": {
      "_model_module": "@jupyter-widgets/base",
      "_model_module_version": "1.2.0",
      "_model_name": "LayoutModel",
      "_view_count": null,
      "_view_module": "@jupyter-widgets/base",
      "_view_module_version": "1.2.0",
      "_view_name": "LayoutView",
      "align_content": null,
      "align_items": null,
      "align_self": null,
      "border": null,
      "bottom": null,
      "display": null,
      "flex": null,
      "flex_flow": null,
      "grid_area": null,
      "grid_auto_columns": null,
      "grid_auto_flow": null,
      "grid_auto_rows": null,
      "grid_column": null,
      "grid_gap": null,
      "grid_row": null,
      "grid_template_areas": null,
      "grid_template_columns": null,
      "grid_template_rows": null,
      "height": null,
      "justify_content": null,
      "justify_items": null,
      "left": null,
      "margin": null,
      "max_height": null,
      "max_width": null,
      "min_height": null,
      "min_width": null,
      "object_fit": null,
      "object_position": null,
      "order": null,
      "overflow": null,
      "overflow_x": null,
      "overflow_y": null,
      "padding": null,
      "right": null,
      "top": null,
      "visibility": null,
      "width": null
     }
    },
    "5252ca62bf074b1cb27ddad8aad2bea8": {
     "model_module": "@jupyter-widgets/base",
     "model_module_version": "1.2.0",
     "model_name": "LayoutModel",
     "state": {
      "_model_module": "@jupyter-widgets/base",
      "_model_module_version": "1.2.0",
      "_model_name": "LayoutModel",
      "_view_count": null,
      "_view_module": "@jupyter-widgets/base",
      "_view_module_version": "1.2.0",
      "_view_name": "LayoutView",
      "align_content": null,
      "align_items": null,
      "align_self": null,
      "border": null,
      "bottom": null,
      "display": null,
      "flex": null,
      "flex_flow": null,
      "grid_area": null,
      "grid_auto_columns": null,
      "grid_auto_flow": null,
      "grid_auto_rows": null,
      "grid_column": null,
      "grid_gap": null,
      "grid_row": null,
      "grid_template_areas": null,
      "grid_template_columns": null,
      "grid_template_rows": null,
      "height": null,
      "justify_content": null,
      "justify_items": null,
      "left": null,
      "margin": null,
      "max_height": null,
      "max_width": null,
      "min_height": null,
      "min_width": null,
      "object_fit": null,
      "object_position": null,
      "order": null,
      "overflow": null,
      "overflow_x": null,
      "overflow_y": null,
      "padding": null,
      "right": null,
      "top": null,
      "visibility": null,
      "width": null
     }
    },
    "539fb712af694fccbc23b75eb6f90184": {
     "model_module": "@jupyter-widgets/base",
     "model_module_version": "1.2.0",
     "model_name": "LayoutModel",
     "state": {
      "_model_module": "@jupyter-widgets/base",
      "_model_module_version": "1.2.0",
      "_model_name": "LayoutModel",
      "_view_count": null,
      "_view_module": "@jupyter-widgets/base",
      "_view_module_version": "1.2.0",
      "_view_name": "LayoutView",
      "align_content": null,
      "align_items": null,
      "align_self": null,
      "border": null,
      "bottom": null,
      "display": null,
      "flex": null,
      "flex_flow": null,
      "grid_area": null,
      "grid_auto_columns": null,
      "grid_auto_flow": null,
      "grid_auto_rows": null,
      "grid_column": null,
      "grid_gap": null,
      "grid_row": null,
      "grid_template_areas": null,
      "grid_template_columns": null,
      "grid_template_rows": null,
      "height": null,
      "justify_content": null,
      "justify_items": null,
      "left": null,
      "margin": null,
      "max_height": null,
      "max_width": null,
      "min_height": null,
      "min_width": null,
      "object_fit": null,
      "object_position": null,
      "order": null,
      "overflow": null,
      "overflow_x": null,
      "overflow_y": null,
      "padding": null,
      "right": null,
      "top": null,
      "visibility": null,
      "width": null
     }
    },
    "57054b42e123448a95bac46f0b597c5a": {
     "model_module": "@jupyter-widgets/base",
     "model_module_version": "1.2.0",
     "model_name": "LayoutModel",
     "state": {
      "_model_module": "@jupyter-widgets/base",
      "_model_module_version": "1.2.0",
      "_model_name": "LayoutModel",
      "_view_count": null,
      "_view_module": "@jupyter-widgets/base",
      "_view_module_version": "1.2.0",
      "_view_name": "LayoutView",
      "align_content": null,
      "align_items": null,
      "align_self": null,
      "border": null,
      "bottom": null,
      "display": null,
      "flex": null,
      "flex_flow": null,
      "grid_area": null,
      "grid_auto_columns": null,
      "grid_auto_flow": null,
      "grid_auto_rows": null,
      "grid_column": null,
      "grid_gap": null,
      "grid_row": null,
      "grid_template_areas": null,
      "grid_template_columns": null,
      "grid_template_rows": null,
      "height": null,
      "justify_content": null,
      "justify_items": null,
      "left": null,
      "margin": null,
      "max_height": null,
      "max_width": null,
      "min_height": null,
      "min_width": null,
      "object_fit": null,
      "object_position": null,
      "order": null,
      "overflow": null,
      "overflow_x": null,
      "overflow_y": null,
      "padding": null,
      "right": null,
      "top": null,
      "visibility": null,
      "width": null
     }
    },
    "5ae596018c81453aabc6fc1344b6f27c": {
     "model_module": "@jupyter-widgets/controls",
     "model_module_version": "1.5.0",
     "model_name": "FloatProgressModel",
     "state": {
      "_dom_classes": [],
      "_model_module": "@jupyter-widgets/controls",
      "_model_module_version": "1.5.0",
      "_model_name": "FloatProgressModel",
      "_view_count": null,
      "_view_module": "@jupyter-widgets/controls",
      "_view_module_version": "1.5.0",
      "_view_name": "ProgressView",
      "bar_style": "success",
      "description": "",
      "description_tooltip": null,
      "layout": "IPY_MODEL_f5988e2d2b60487fa288925e06c76cf4",
      "max": 501035,
      "min": 0,
      "orientation": "horizontal",
      "style": "IPY_MODEL_9f017e0b5b19424882979004411f4934",
      "value": 501035
     }
    },
    "64a052f3f6314679a665533f33158a94": {
     "model_module": "@jupyter-widgets/controls",
     "model_module_version": "1.5.0",
     "model_name": "HTMLModel",
     "state": {
      "_dom_classes": [],
      "_model_module": "@jupyter-widgets/controls",
      "_model_module_version": "1.5.0",
      "_model_name": "HTMLModel",
      "_view_count": null,
      "_view_module": "@jupyter-widgets/controls",
      "_view_module_version": "1.5.0",
      "_view_name": "HTMLView",
      "description": "",
      "description_tooltip": null,
      "layout": "IPY_MODEL_d2d1a64b5879404e842072977628f36f",
      "placeholder": "​",
      "style": "IPY_MODEL_f871db2f51ec4e5fa0c4708415c84653",
      "value": "Generating test split: 100%"
     }
    },
    "65d096f8c53e43df9faeb65e0e3de265": {
     "model_module": "@jupyter-widgets/controls",
     "model_module_version": "1.5.0",
     "model_name": "DescriptionStyleModel",
     "state": {
      "_model_module": "@jupyter-widgets/controls",
      "_model_module_version": "1.5.0",
      "_model_name": "DescriptionStyleModel",
      "_view_count": null,
      "_view_module": "@jupyter-widgets/base",
      "_view_module_version": "1.2.0",
      "_view_name": "StyleView",
      "description_width": ""
     }
    },
    "66027ffecc2d4a4ea6b8f25e4650ed94": {
     "model_module": "@jupyter-widgets/base",
     "model_module_version": "1.2.0",
     "model_name": "LayoutModel",
     "state": {
      "_model_module": "@jupyter-widgets/base",
      "_model_module_version": "1.2.0",
      "_model_name": "LayoutModel",
      "_view_count": null,
      "_view_module": "@jupyter-widgets/base",
      "_view_module_version": "1.2.0",
      "_view_name": "LayoutView",
      "align_content": null,
      "align_items": null,
      "align_self": null,
      "border": null,
      "bottom": null,
      "display": null,
      "flex": null,
      "flex_flow": null,
      "grid_area": null,
      "grid_auto_columns": null,
      "grid_auto_flow": null,
      "grid_auto_rows": null,
      "grid_column": null,
      "grid_gap": null,
      "grid_row": null,
      "grid_template_areas": null,
      "grid_template_columns": null,
      "grid_template_rows": null,
      "height": null,
      "justify_content": null,
      "justify_items": null,
      "left": null,
      "margin": null,
      "max_height": null,
      "max_width": null,
      "min_height": null,
      "min_width": null,
      "object_fit": null,
      "object_position": null,
      "order": null,
      "overflow": null,
      "overflow_x": null,
      "overflow_y": null,
      "padding": null,
      "right": null,
      "top": null,
      "visibility": null,
      "width": null
     }
    },
    "6699180c5cca49b5a7f3c431106e4e41": {
     "model_module": "@jupyter-widgets/controls",
     "model_module_version": "1.5.0",
     "model_name": "FloatProgressModel",
     "state": {
      "_dom_classes": [],
      "_model_module": "@jupyter-widgets/controls",
      "_model_module_version": "1.5.0",
      "_model_name": "FloatProgressModel",
      "_view_count": null,
      "_view_module": "@jupyter-widgets/controls",
      "_view_module_version": "1.5.0",
      "_view_name": "ProgressView",
      "bar_style": "success",
      "description": "",
      "description_tooltip": null,
      "layout": "IPY_MODEL_4eceb89423954901b853fd02c330ce9b",
      "max": 3767,
      "min": 0,
      "orientation": "horizontal",
      "style": "IPY_MODEL_91d90141cd3441a2b483766f5b190fb0",
      "value": 3767
     }
    },
    "72f5b58e44e849ac8afe963cf4a831a7": {
     "model_module": "@jupyter-widgets/controls",
     "model_module_version": "1.5.0",
     "model_name": "FloatProgressModel",
     "state": {
      "_dom_classes": [],
      "_model_module": "@jupyter-widgets/controls",
      "_model_module_version": "1.5.0",
      "_model_name": "FloatProgressModel",
      "_view_count": null,
      "_view_module": "@jupyter-widgets/controls",
      "_view_module_version": "1.5.0",
      "_view_name": "ProgressView",
      "bar_style": "success",
      "description": "",
      "description_tooltip": null,
      "layout": "IPY_MODEL_66027ffecc2d4a4ea6b8f25e4650ed94",
      "max": 160193,
      "min": 0,
      "orientation": "horizontal",
      "style": "IPY_MODEL_f4d5ddaf563b460cada727fe173623e2",
      "value": 160193
     }
    },
    "753a6c69296c495b9e4f99a65348feba": {
     "model_module": "@jupyter-widgets/controls",
     "model_module_version": "1.5.0",
     "model_name": "HBoxModel",
     "state": {
      "_dom_classes": [],
      "_model_module": "@jupyter-widgets/controls",
      "_model_module_version": "1.5.0",
      "_model_name": "HBoxModel",
      "_view_count": null,
      "_view_module": "@jupyter-widgets/controls",
      "_view_module_version": "1.5.0",
      "_view_name": "HBoxView",
      "box_style": "",
      "children": [
       "IPY_MODEL_9d4be4cba32047758475c42dcbc750ef",
       "IPY_MODEL_72f5b58e44e849ac8afe963cf4a831a7",
       "IPY_MODEL_bee4175c9d14432b80495d7eb1aa3cf8"
      ],
      "layout": "IPY_MODEL_a0b550ca8b0d42f891233ce4dff03309"
     }
    },
    "7929dbdac15349d9aa42c125ac55114b": {
     "model_module": "@jupyter-widgets/controls",
     "model_module_version": "1.5.0",
     "model_name": "HTMLModel",
     "state": {
      "_dom_classes": [],
      "_model_module": "@jupyter-widgets/controls",
      "_model_module_version": "1.5.0",
      "_model_name": "HTMLModel",
      "_view_count": null,
      "_view_module": "@jupyter-widgets/controls",
      "_view_module_version": "1.5.0",
      "_view_name": "HTMLView",
      "description": "",
      "description_tooltip": null,
      "layout": "IPY_MODEL_57054b42e123448a95bac46f0b597c5a",
      "placeholder": "​",
      "style": "IPY_MODEL_65d096f8c53e43df9faeb65e0e3de265",
      "value": "noticias_train.csv: 100%"
     }
    },
    "853885160903446391c643679938362b": {
     "model_module": "@jupyter-widgets/base",
     "model_module_version": "1.2.0",
     "model_name": "LayoutModel",
     "state": {
      "_model_module": "@jupyter-widgets/base",
      "_model_module_version": "1.2.0",
      "_model_name": "LayoutModel",
      "_view_count": null,
      "_view_module": "@jupyter-widgets/base",
      "_view_module_version": "1.2.0",
      "_view_name": "LayoutView",
      "align_content": null,
      "align_items": null,
      "align_self": null,
      "border": null,
      "bottom": null,
      "display": null,
      "flex": null,
      "flex_flow": null,
      "grid_area": null,
      "grid_auto_columns": null,
      "grid_auto_flow": null,
      "grid_auto_rows": null,
      "grid_column": null,
      "grid_gap": null,
      "grid_row": null,
      "grid_template_areas": null,
      "grid_template_columns": null,
      "grid_template_rows": null,
      "height": null,
      "justify_content": null,
      "justify_items": null,
      "left": null,
      "margin": null,
      "max_height": null,
      "max_width": null,
      "min_height": null,
      "min_width": null,
      "object_fit": null,
      "object_position": null,
      "order": null,
      "overflow": null,
      "overflow_x": null,
      "overflow_y": null,
      "padding": null,
      "right": null,
      "top": null,
      "visibility": null,
      "width": null
     }
    },
    "862be1c99362475cacc73848e53aae2d": {
     "model_module": "@jupyter-widgets/controls",
     "model_module_version": "1.5.0",
     "model_name": "HTMLModel",
     "state": {
      "_dom_classes": [],
      "_model_module": "@jupyter-widgets/controls",
      "_model_module_version": "1.5.0",
      "_model_name": "HTMLModel",
      "_view_count": null,
      "_view_module": "@jupyter-widgets/controls",
      "_view_module_version": "1.5.0",
      "_view_name": "HTMLView",
      "description": "",
      "description_tooltip": null,
      "layout": "IPY_MODEL_853885160903446391c643679938362b",
      "placeholder": "​",
      "style": "IPY_MODEL_347606d42d7a4f86b4b45d2cd7eba907",
      "value": " 1233/1233 [00:00&lt;00:00, 23790.71 examples/s]"
     }
    },
    "8f624eaf73d742338cd4876690237b7f": {
     "model_module": "@jupyter-widgets/controls",
     "model_module_version": "1.5.0",
     "model_name": "ProgressStyleModel",
     "state": {
      "_model_module": "@jupyter-widgets/controls",
      "_model_module_version": "1.5.0",
      "_model_name": "ProgressStyleModel",
      "_view_count": null,
      "_view_module": "@jupyter-widgets/base",
      "_view_module_version": "1.2.0",
      "_view_name": "StyleView",
      "bar_color": null,
      "description_width": ""
     }
    },
    "8f7a7f17161e466bbe0d8b50d43bbbcb": {
     "model_module": "@jupyter-widgets/controls",
     "model_module_version": "1.5.0",
     "model_name": "HBoxModel",
     "state": {
      "_dom_classes": [],
      "_model_module": "@jupyter-widgets/controls",
      "_model_module_version": "1.5.0",
      "_model_name": "HBoxModel",
      "_view_count": null,
      "_view_module": "@jupyter-widgets/controls",
      "_view_module_version": "1.5.0",
      "_view_name": "HBoxView",
      "box_style": "",
      "children": [
       "IPY_MODEL_d945555f1d19455388aee0239da7bad2",
       "IPY_MODEL_6699180c5cca49b5a7f3c431106e4e41",
       "IPY_MODEL_f10288e25d1940e79ebbc741b4ad5714"
      ],
      "layout": "IPY_MODEL_bfc789b2d740419e902e3fdaf6202347"
     }
    },
    "8ff224833ec04062a52f2bc939fe0436": {
     "model_module": "@jupyter-widgets/controls",
     "model_module_version": "1.5.0",
     "model_name": "ProgressStyleModel",
     "state": {
      "_model_module": "@jupyter-widgets/controls",
      "_model_module_version": "1.5.0",
      "_model_name": "ProgressStyleModel",
      "_view_count": null,
      "_view_module": "@jupyter-widgets/base",
      "_view_module_version": "1.2.0",
      "_view_name": "StyleView",
      "bar_color": null,
      "description_width": ""
     }
    },
    "91d90141cd3441a2b483766f5b190fb0": {
     "model_module": "@jupyter-widgets/controls",
     "model_module_version": "1.5.0",
     "model_name": "ProgressStyleModel",
     "state": {
      "_model_module": "@jupyter-widgets/controls",
      "_model_module_version": "1.5.0",
      "_model_name": "ProgressStyleModel",
      "_view_count": null,
      "_view_module": "@jupyter-widgets/base",
      "_view_module_version": "1.2.0",
      "_view_name": "StyleView",
      "bar_color": null,
      "description_width": ""
     }
    },
    "957f0cbcaeba452db1e0420f76473a87": {
     "model_module": "@jupyter-widgets/controls",
     "model_module_version": "1.5.0",
     "model_name": "DescriptionStyleModel",
     "state": {
      "_model_module": "@jupyter-widgets/controls",
      "_model_module_version": "1.5.0",
      "_model_name": "DescriptionStyleModel",
      "_view_count": null,
      "_view_module": "@jupyter-widgets/base",
      "_view_module_version": "1.2.0",
      "_view_name": "StyleView",
      "description_width": ""
     }
    },
    "96e1e464429942cc9d188951365f08b6": {
     "model_module": "@jupyter-widgets/controls",
     "model_module_version": "1.5.0",
     "model_name": "DescriptionStyleModel",
     "state": {
      "_model_module": "@jupyter-widgets/controls",
      "_model_module_version": "1.5.0",
      "_model_name": "DescriptionStyleModel",
      "_view_count": null,
      "_view_module": "@jupyter-widgets/base",
      "_view_module_version": "1.2.0",
      "_view_name": "StyleView",
      "description_width": ""
     }
    },
    "9d4be4cba32047758475c42dcbc750ef": {
     "model_module": "@jupyter-widgets/controls",
     "model_module_version": "1.5.0",
     "model_name": "HTMLModel",
     "state": {
      "_dom_classes": [],
      "_model_module": "@jupyter-widgets/controls",
      "_model_module_version": "1.5.0",
      "_model_name": "HTMLModel",
      "_view_count": null,
      "_view_module": "@jupyter-widgets/controls",
      "_view_module_version": "1.5.0",
      "_view_name": "HTMLView",
      "description": "",
      "description_tooltip": null,
      "layout": "IPY_MODEL_d498614a331347f0a439c124444ef98e",
      "placeholder": "​",
      "style": "IPY_MODEL_b0c2b8bb3e5c4bb69849b7d3c3caaedf",
      "value": "noticias_test.csv: 100%"
     }
    },
    "9f017e0b5b19424882979004411f4934": {
     "model_module": "@jupyter-widgets/controls",
     "model_module_version": "1.5.0",
     "model_name": "ProgressStyleModel",
     "state": {
      "_model_module": "@jupyter-widgets/controls",
      "_model_module_version": "1.5.0",
      "_model_name": "ProgressStyleModel",
      "_view_count": null,
      "_view_module": "@jupyter-widgets/base",
      "_view_module_version": "1.2.0",
      "_view_name": "StyleView",
      "bar_color": null,
      "description_width": ""
     }
    },
    "a0b550ca8b0d42f891233ce4dff03309": {
     "model_module": "@jupyter-widgets/base",
     "model_module_version": "1.2.0",
     "model_name": "LayoutModel",
     "state": {
      "_model_module": "@jupyter-widgets/base",
      "_model_module_version": "1.2.0",
      "_model_name": "LayoutModel",
      "_view_count": null,
      "_view_module": "@jupyter-widgets/base",
      "_view_module_version": "1.2.0",
      "_view_name": "LayoutView",
      "align_content": null,
      "align_items": null,
      "align_self": null,
      "border": null,
      "bottom": null,
      "display": null,
      "flex": null,
      "flex_flow": null,
      "grid_area": null,
      "grid_auto_columns": null,
      "grid_auto_flow": null,
      "grid_auto_rows": null,
      "grid_column": null,
      "grid_gap": null,
      "grid_row": null,
      "grid_template_areas": null,
      "grid_template_columns": null,
      "grid_template_rows": null,
      "height": null,
      "justify_content": null,
      "justify_items": null,
      "left": null,
      "margin": null,
      "max_height": null,
      "max_width": null,
      "min_height": null,
      "min_width": null,
      "object_fit": null,
      "object_position": null,
      "order": null,
      "overflow": null,
      "overflow_x": null,
      "overflow_y": null,
      "padding": null,
      "right": null,
      "top": null,
      "visibility": null,
      "width": null
     }
    },
    "b0c2b8bb3e5c4bb69849b7d3c3caaedf": {
     "model_module": "@jupyter-widgets/controls",
     "model_module_version": "1.5.0",
     "model_name": "DescriptionStyleModel",
     "state": {
      "_model_module": "@jupyter-widgets/controls",
      "_model_module_version": "1.5.0",
      "_model_name": "DescriptionStyleModel",
      "_view_count": null,
      "_view_module": "@jupyter-widgets/base",
      "_view_module_version": "1.2.0",
      "_view_name": "StyleView",
      "description_width": ""
     }
    },
    "bee4175c9d14432b80495d7eb1aa3cf8": {
     "model_module": "@jupyter-widgets/controls",
     "model_module_version": "1.5.0",
     "model_name": "HTMLModel",
     "state": {
      "_dom_classes": [],
      "_model_module": "@jupyter-widgets/controls",
      "_model_module_version": "1.5.0",
      "_model_name": "HTMLModel",
      "_view_count": null,
      "_view_module": "@jupyter-widgets/controls",
      "_view_module_version": "1.5.0",
      "_view_name": "HTMLView",
      "description": "",
      "description_tooltip": null,
      "layout": "IPY_MODEL_3e4b696af1c14d02b115e38005db0bc6",
      "placeholder": "​",
      "style": "IPY_MODEL_dd96eb0a488f4546bd179243f06fba6e",
      "value": " 160k/160k [00:00&lt;00:00, 3.59MB/s]"
     }
    },
    "bfc789b2d740419e902e3fdaf6202347": {
     "model_module": "@jupyter-widgets/base",
     "model_module_version": "1.2.0",
     "model_name": "LayoutModel",
     "state": {
      "_model_module": "@jupyter-widgets/base",
      "_model_module_version": "1.2.0",
      "_model_name": "LayoutModel",
      "_view_count": null,
      "_view_module": "@jupyter-widgets/base",
      "_view_module_version": "1.2.0",
      "_view_name": "LayoutView",
      "align_content": null,
      "align_items": null,
      "align_self": null,
      "border": null,
      "bottom": null,
      "display": null,
      "flex": null,
      "flex_flow": null,
      "grid_area": null,
      "grid_auto_columns": null,
      "grid_auto_flow": null,
      "grid_auto_rows": null,
      "grid_column": null,
      "grid_gap": null,
      "grid_row": null,
      "grid_template_areas": null,
      "grid_template_columns": null,
      "grid_template_rows": null,
      "height": null,
      "justify_content": null,
      "justify_items": null,
      "left": null,
      "margin": null,
      "max_height": null,
      "max_width": null,
      "min_height": null,
      "min_width": null,
      "object_fit": null,
      "object_position": null,
      "order": null,
      "overflow": null,
      "overflow_x": null,
      "overflow_y": null,
      "padding": null,
      "right": null,
      "top": null,
      "visibility": null,
      "width": null
     }
    },
    "c15177f4653747cb9301fe0683db0db9": {
     "model_module": "@jupyter-widgets/controls",
     "model_module_version": "1.5.0",
     "model_name": "HBoxModel",
     "state": {
      "_dom_classes": [],
      "_model_module": "@jupyter-widgets/controls",
      "_model_module_version": "1.5.0",
      "_model_name": "HBoxModel",
      "_view_count": null,
      "_view_module": "@jupyter-widgets/controls",
      "_view_module_version": "1.5.0",
      "_view_name": "HBoxView",
      "box_style": "",
      "children": [
       "IPY_MODEL_7929dbdac15349d9aa42c125ac55114b",
       "IPY_MODEL_5ae596018c81453aabc6fc1344b6f27c",
       "IPY_MODEL_e8a4eb36862449a3bbb4b46c207460fb"
      ],
      "layout": "IPY_MODEL_c20befa3f90f48cba7eb4906ce598594"
     }
    },
    "c20befa3f90f48cba7eb4906ce598594": {
     "model_module": "@jupyter-widgets/base",
     "model_module_version": "1.2.0",
     "model_name": "LayoutModel",
     "state": {
      "_model_module": "@jupyter-widgets/base",
      "_model_module_version": "1.2.0",
      "_model_name": "LayoutModel",
      "_view_count": null,
      "_view_module": "@jupyter-widgets/base",
      "_view_module_version": "1.2.0",
      "_view_name": "LayoutView",
      "align_content": null,
      "align_items": null,
      "align_self": null,
      "border": null,
      "bottom": null,
      "display": null,
      "flex": null,
      "flex_flow": null,
      "grid_area": null,
      "grid_auto_columns": null,
      "grid_auto_flow": null,
      "grid_auto_rows": null,
      "grid_column": null,
      "grid_gap": null,
      "grid_row": null,
      "grid_template_areas": null,
      "grid_template_columns": null,
      "grid_template_rows": null,
      "height": null,
      "justify_content": null,
      "justify_items": null,
      "left": null,
      "margin": null,
      "max_height": null,
      "max_width": null,
      "min_height": null,
      "min_width": null,
      "object_fit": null,
      "object_position": null,
      "order": null,
      "overflow": null,
      "overflow_x": null,
      "overflow_y": null,
      "padding": null,
      "right": null,
      "top": null,
      "visibility": null,
      "width": null
     }
    },
    "c27ee061bbcc4996a90b55ccc3dccec5": {
     "model_module": "@jupyter-widgets/base",
     "model_module_version": "1.2.0",
     "model_name": "LayoutModel",
     "state": {
      "_model_module": "@jupyter-widgets/base",
      "_model_module_version": "1.2.0",
      "_model_name": "LayoutModel",
      "_view_count": null,
      "_view_module": "@jupyter-widgets/base",
      "_view_module_version": "1.2.0",
      "_view_name": "LayoutView",
      "align_content": null,
      "align_items": null,
      "align_self": null,
      "border": null,
      "bottom": null,
      "display": null,
      "flex": null,
      "flex_flow": null,
      "grid_area": null,
      "grid_auto_columns": null,
      "grid_auto_flow": null,
      "grid_auto_rows": null,
      "grid_column": null,
      "grid_gap": null,
      "grid_row": null,
      "grid_template_areas": null,
      "grid_template_columns": null,
      "grid_template_rows": null,
      "height": null,
      "justify_content": null,
      "justify_items": null,
      "left": null,
      "margin": null,
      "max_height": null,
      "max_width": null,
      "min_height": null,
      "min_width": null,
      "object_fit": null,
      "object_position": null,
      "order": null,
      "overflow": null,
      "overflow_x": null,
      "overflow_y": null,
      "padding": null,
      "right": null,
      "top": null,
      "visibility": null,
      "width": null
     }
    },
    "c6a8ccf13a8340f2ace1f5defbb23bf4": {
     "model_module": "@jupyter-widgets/base",
     "model_module_version": "1.2.0",
     "model_name": "LayoutModel",
     "state": {
      "_model_module": "@jupyter-widgets/base",
      "_model_module_version": "1.2.0",
      "_model_name": "LayoutModel",
      "_view_count": null,
      "_view_module": "@jupyter-widgets/base",
      "_view_module_version": "1.2.0",
      "_view_name": "LayoutView",
      "align_content": null,
      "align_items": null,
      "align_self": null,
      "border": null,
      "bottom": null,
      "display": null,
      "flex": null,
      "flex_flow": null,
      "grid_area": null,
      "grid_auto_columns": null,
      "grid_auto_flow": null,
      "grid_auto_rows": null,
      "grid_column": null,
      "grid_gap": null,
      "grid_row": null,
      "grid_template_areas": null,
      "grid_template_columns": null,
      "grid_template_rows": null,
      "height": null,
      "justify_content": null,
      "justify_items": null,
      "left": null,
      "margin": null,
      "max_height": null,
      "max_width": null,
      "min_height": null,
      "min_width": null,
      "object_fit": null,
      "object_position": null,
      "order": null,
      "overflow": null,
      "overflow_x": null,
      "overflow_y": null,
      "padding": null,
      "right": null,
      "top": null,
      "visibility": null,
      "width": null
     }
    },
    "c996d351f6164e738514d995025d5735": {
     "model_module": "@jupyter-widgets/controls",
     "model_module_version": "1.5.0",
     "model_name": "DescriptionStyleModel",
     "state": {
      "_model_module": "@jupyter-widgets/controls",
      "_model_module_version": "1.5.0",
      "_model_name": "DescriptionStyleModel",
      "_view_count": null,
      "_view_module": "@jupyter-widgets/base",
      "_view_module_version": "1.2.0",
      "_view_name": "StyleView",
      "description_width": ""
     }
    },
    "d2d1a64b5879404e842072977628f36f": {
     "model_module": "@jupyter-widgets/base",
     "model_module_version": "1.2.0",
     "model_name": "LayoutModel",
     "state": {
      "_model_module": "@jupyter-widgets/base",
      "_model_module_version": "1.2.0",
      "_model_name": "LayoutModel",
      "_view_count": null,
      "_view_module": "@jupyter-widgets/base",
      "_view_module_version": "1.2.0",
      "_view_name": "LayoutView",
      "align_content": null,
      "align_items": null,
      "align_self": null,
      "border": null,
      "bottom": null,
      "display": null,
      "flex": null,
      "flex_flow": null,
      "grid_area": null,
      "grid_auto_columns": null,
      "grid_auto_flow": null,
      "grid_auto_rows": null,
      "grid_column": null,
      "grid_gap": null,
      "grid_row": null,
      "grid_template_areas": null,
      "grid_template_columns": null,
      "grid_template_rows": null,
      "height": null,
      "justify_content": null,
      "justify_items": null,
      "left": null,
      "margin": null,
      "max_height": null,
      "max_width": null,
      "min_height": null,
      "min_width": null,
      "object_fit": null,
      "object_position": null,
      "order": null,
      "overflow": null,
      "overflow_x": null,
      "overflow_y": null,
      "padding": null,
      "right": null,
      "top": null,
      "visibility": null,
      "width": null
     }
    },
    "d498614a331347f0a439c124444ef98e": {
     "model_module": "@jupyter-widgets/base",
     "model_module_version": "1.2.0",
     "model_name": "LayoutModel",
     "state": {
      "_model_module": "@jupyter-widgets/base",
      "_model_module_version": "1.2.0",
      "_model_name": "LayoutModel",
      "_view_count": null,
      "_view_module": "@jupyter-widgets/base",
      "_view_module_version": "1.2.0",
      "_view_name": "LayoutView",
      "align_content": null,
      "align_items": null,
      "align_self": null,
      "border": null,
      "bottom": null,
      "display": null,
      "flex": null,
      "flex_flow": null,
      "grid_area": null,
      "grid_auto_columns": null,
      "grid_auto_flow": null,
      "grid_auto_rows": null,
      "grid_column": null,
      "grid_gap": null,
      "grid_row": null,
      "grid_template_areas": null,
      "grid_template_columns": null,
      "grid_template_rows": null,
      "height": null,
      "justify_content": null,
      "justify_items": null,
      "left": null,
      "margin": null,
      "max_height": null,
      "max_width": null,
      "min_height": null,
      "min_width": null,
      "object_fit": null,
      "object_position": null,
      "order": null,
      "overflow": null,
      "overflow_x": null,
      "overflow_y": null,
      "padding": null,
      "right": null,
      "top": null,
      "visibility": null,
      "width": null
     }
    },
    "d945555f1d19455388aee0239da7bad2": {
     "model_module": "@jupyter-widgets/controls",
     "model_module_version": "1.5.0",
     "model_name": "HTMLModel",
     "state": {
      "_dom_classes": [],
      "_model_module": "@jupyter-widgets/controls",
      "_model_module_version": "1.5.0",
      "_model_name": "HTMLModel",
      "_view_count": null,
      "_view_module": "@jupyter-widgets/controls",
      "_view_module_version": "1.5.0",
      "_view_name": "HTMLView",
      "description": "",
      "description_tooltip": null,
      "layout": "IPY_MODEL_fc991e0165f54a418068d52f877c7237",
      "placeholder": "​",
      "style": "IPY_MODEL_1b1fd38fe7dd414d91c3688f0908c3dd",
      "value": "Generating train split: 100%"
     }
    },
    "dd96eb0a488f4546bd179243f06fba6e": {
     "model_module": "@jupyter-widgets/controls",
     "model_module_version": "1.5.0",
     "model_name": "DescriptionStyleModel",
     "state": {
      "_model_module": "@jupyter-widgets/controls",
      "_model_module_version": "1.5.0",
      "_model_name": "DescriptionStyleModel",
      "_view_count": null,
      "_view_module": "@jupyter-widgets/base",
      "_view_module_version": "1.2.0",
      "_view_name": "StyleView",
      "description_width": ""
     }
    },
    "e4f4a633e1fc4eeaaf5300ccae136336": {
     "model_module": "@jupyter-widgets/base",
     "model_module_version": "1.2.0",
     "model_name": "LayoutModel",
     "state": {
      "_model_module": "@jupyter-widgets/base",
      "_model_module_version": "1.2.0",
      "_model_name": "LayoutModel",
      "_view_count": null,
      "_view_module": "@jupyter-widgets/base",
      "_view_module_version": "1.2.0",
      "_view_name": "LayoutView",
      "align_content": null,
      "align_items": null,
      "align_self": null,
      "border": null,
      "bottom": null,
      "display": null,
      "flex": null,
      "flex_flow": null,
      "grid_area": null,
      "grid_auto_columns": null,
      "grid_auto_flow": null,
      "grid_auto_rows": null,
      "grid_column": null,
      "grid_gap": null,
      "grid_row": null,
      "grid_template_areas": null,
      "grid_template_columns": null,
      "grid_template_rows": null,
      "height": null,
      "justify_content": null,
      "justify_items": null,
      "left": null,
      "margin": null,
      "max_height": null,
      "max_width": null,
      "min_height": null,
      "min_width": null,
      "object_fit": null,
      "object_position": null,
      "order": null,
      "overflow": null,
      "overflow_x": null,
      "overflow_y": null,
      "padding": null,
      "right": null,
      "top": null,
      "visibility": null,
      "width": null
     }
    },
    "e8a4eb36862449a3bbb4b46c207460fb": {
     "model_module": "@jupyter-widgets/controls",
     "model_module_version": "1.5.0",
     "model_name": "HTMLModel",
     "state": {
      "_dom_classes": [],
      "_model_module": "@jupyter-widgets/controls",
      "_model_module_version": "1.5.0",
      "_model_name": "HTMLModel",
      "_view_count": null,
      "_view_module": "@jupyter-widgets/controls",
      "_view_module_version": "1.5.0",
      "_view_name": "HTMLView",
      "description": "",
      "description_tooltip": null,
      "layout": "IPY_MODEL_407c56268dfe429e9acbeee1bb604bd4",
      "placeholder": "​",
      "style": "IPY_MODEL_96e1e464429942cc9d188951365f08b6",
      "value": " 501k/501k [00:00&lt;00:00, 11.1MB/s]"
     }
    },
    "f10288e25d1940e79ebbc741b4ad5714": {
     "model_module": "@jupyter-widgets/controls",
     "model_module_version": "1.5.0",
     "model_name": "HTMLModel",
     "state": {
      "_dom_classes": [],
      "_model_module": "@jupyter-widgets/controls",
      "_model_module_version": "1.5.0",
      "_model_name": "HTMLModel",
      "_view_count": null,
      "_view_module": "@jupyter-widgets/controls",
      "_view_module_version": "1.5.0",
      "_view_name": "HTMLView",
      "description": "",
      "description_tooltip": null,
      "layout": "IPY_MODEL_fa207bc2f6ce490baf5314aab4eb99a9",
      "placeholder": "​",
      "style": "IPY_MODEL_957f0cbcaeba452db1e0420f76473a87",
      "value": " 3767/3767 [00:00&lt;00:00, 44961.56 examples/s]"
     }
    },
    "f1da8d9a1943420fb000fc691d721e6d": {
     "model_module": "@jupyter-widgets/controls",
     "model_module_version": "1.5.0",
     "model_name": "HTMLModel",
     "state": {
      "_dom_classes": [],
      "_model_module": "@jupyter-widgets/controls",
      "_model_module_version": "1.5.0",
      "_model_name": "HTMLModel",
      "_view_count": null,
      "_view_module": "@jupyter-widgets/controls",
      "_view_module_version": "1.5.0",
      "_view_name": "HTMLView",
      "description": "",
      "description_tooltip": null,
      "layout": "IPY_MODEL_5252ca62bf074b1cb27ddad8aad2bea8",
      "placeholder": "​",
      "style": "IPY_MODEL_12d32695640d47f88f39d5d8c764bfaf",
      "value": " 4.53k/4.53k [00:00&lt;00:00, 40.3kB/s]"
     }
    },
    "f4d5ddaf563b460cada727fe173623e2": {
     "model_module": "@jupyter-widgets/controls",
     "model_module_version": "1.5.0",
     "model_name": "ProgressStyleModel",
     "state": {
      "_model_module": "@jupyter-widgets/controls",
      "_model_module_version": "1.5.0",
      "_model_name": "ProgressStyleModel",
      "_view_count": null,
      "_view_module": "@jupyter-widgets/base",
      "_view_module_version": "1.2.0",
      "_view_name": "StyleView",
      "bar_color": null,
      "description_width": ""
     }
    },
    "f5988e2d2b60487fa288925e06c76cf4": {
     "model_module": "@jupyter-widgets/base",
     "model_module_version": "1.2.0",
     "model_name": "LayoutModel",
     "state": {
      "_model_module": "@jupyter-widgets/base",
      "_model_module_version": "1.2.0",
      "_model_name": "LayoutModel",
      "_view_count": null,
      "_view_module": "@jupyter-widgets/base",
      "_view_module_version": "1.2.0",
      "_view_name": "LayoutView",
      "align_content": null,
      "align_items": null,
      "align_self": null,
      "border": null,
      "bottom": null,
      "display": null,
      "flex": null,
      "flex_flow": null,
      "grid_area": null,
      "grid_auto_columns": null,
      "grid_auto_flow": null,
      "grid_auto_rows": null,
      "grid_column": null,
      "grid_gap": null,
      "grid_row": null,
      "grid_template_areas": null,
      "grid_template_columns": null,
      "grid_template_rows": null,
      "height": null,
      "justify_content": null,
      "justify_items": null,
      "left": null,
      "margin": null,
      "max_height": null,
      "max_width": null,
      "min_height": null,
      "min_width": null,
      "object_fit": null,
      "object_position": null,
      "order": null,
      "overflow": null,
      "overflow_x": null,
      "overflow_y": null,
      "padding": null,
      "right": null,
      "top": null,
      "visibility": null,
      "width": null
     }
    },
    "f871db2f51ec4e5fa0c4708415c84653": {
     "model_module": "@jupyter-widgets/controls",
     "model_module_version": "1.5.0",
     "model_name": "DescriptionStyleModel",
     "state": {
      "_model_module": "@jupyter-widgets/controls",
      "_model_module_version": "1.5.0",
      "_model_name": "DescriptionStyleModel",
      "_view_count": null,
      "_view_module": "@jupyter-widgets/base",
      "_view_module_version": "1.2.0",
      "_view_name": "StyleView",
      "description_width": ""
     }
    },
    "fa207bc2f6ce490baf5314aab4eb99a9": {
     "model_module": "@jupyter-widgets/base",
     "model_module_version": "1.2.0",
     "model_name": "LayoutModel",
     "state": {
      "_model_module": "@jupyter-widgets/base",
      "_model_module_version": "1.2.0",
      "_model_name": "LayoutModel",
      "_view_count": null,
      "_view_module": "@jupyter-widgets/base",
      "_view_module_version": "1.2.0",
      "_view_name": "LayoutView",
      "align_content": null,
      "align_items": null,
      "align_self": null,
      "border": null,
      "bottom": null,
      "display": null,
      "flex": null,
      "flex_flow": null,
      "grid_area": null,
      "grid_auto_columns": null,
      "grid_auto_flow": null,
      "grid_auto_rows": null,
      "grid_column": null,
      "grid_gap": null,
      "grid_row": null,
      "grid_template_areas": null,
      "grid_template_columns": null,
      "grid_template_rows": null,
      "height": null,
      "justify_content": null,
      "justify_items": null,
      "left": null,
      "margin": null,
      "max_height": null,
      "max_width": null,
      "min_height": null,
      "min_width": null,
      "object_fit": null,
      "object_position": null,
      "order": null,
      "overflow": null,
      "overflow_x": null,
      "overflow_y": null,
      "padding": null,
      "right": null,
      "top": null,
      "visibility": null,
      "width": null
     }
    },
    "fc991e0165f54a418068d52f877c7237": {
     "model_module": "@jupyter-widgets/base",
     "model_module_version": "1.2.0",
     "model_name": "LayoutModel",
     "state": {
      "_model_module": "@jupyter-widgets/base",
      "_model_module_version": "1.2.0",
      "_model_name": "LayoutModel",
      "_view_count": null,
      "_view_module": "@jupyter-widgets/base",
      "_view_module_version": "1.2.0",
      "_view_name": "LayoutView",
      "align_content": null,
      "align_items": null,
      "align_self": null,
      "border": null,
      "bottom": null,
      "display": null,
      "flex": null,
      "flex_flow": null,
      "grid_area": null,
      "grid_auto_columns": null,
      "grid_auto_flow": null,
      "grid_auto_rows": null,
      "grid_column": null,
      "grid_gap": null,
      "grid_row": null,
      "grid_template_areas": null,
      "grid_template_columns": null,
      "grid_template_rows": null,
      "height": null,
      "justify_content": null,
      "justify_items": null,
      "left": null,
      "margin": null,
      "max_height": null,
      "max_width": null,
      "min_height": null,
      "min_width": null,
      "object_fit": null,
      "object_position": null,
      "order": null,
      "overflow": null,
      "overflow_x": null,
      "overflow_y": null,
      "padding": null,
      "right": null,
      "top": null,
      "visibility": null,
      "width": null
     }
    }
   }
  }
 },
 "nbformat": 4,
 "nbformat_minor": 4
}
