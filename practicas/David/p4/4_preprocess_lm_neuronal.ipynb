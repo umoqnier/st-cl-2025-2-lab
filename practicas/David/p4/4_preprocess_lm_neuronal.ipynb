{
  "cells": [
    {
      "cell_type": "markdown",
      "metadata": {
        "id": "_IKk1RRQ8Mnp"
      },
      "source": [
        "# 4. Preprocesamiento y Modelos del Lenguaje (Neuronal)"
      ]
    },
    {
      "cell_type": "markdown",
      "metadata": {
        "id": "de9a9e41-d41b-4777-9f61-9474cd17c741"
      },
      "source": [
        "<img src=\"https://2.bp.blogspot.com/-oDvCIkIjwXw/VdWWxfvmq3I/AAAAAAAARUE/r0MrmbNzMz8/s1600/inputoutput.jpg\" width=500>"
      ]
    },
    {
      "cell_type": "markdown",
      "metadata": {
        "id": "8lD1TG2_tNCV"
      },
      "source": [
        "## Objetivos"
      ]
    },
    {
      "cell_type": "markdown",
      "metadata": {
        "id": "1B2abIVKtQeD"
      },
      "source": [
        "- Aplicar preprocesamiento a corpus en español e inglés\n",
        "- Entender el funcionamiento de algoritmos de sub-word tokenization\n",
        "  - Aplicar BPE a corpus\n",
        "- Entrenar un modelo del lenguaje neuronal con la arquitectura de Bengio"
      ]
    },
    {
      "cell_type": "markdown",
      "metadata": {
        "id": "66bf61a5-0e1a-4b8a-a4b2-16d381f007ba"
      },
      "source": [
        "## ¿Qué es una palabra?"
      ]
    },
    {
      "cell_type": "markdown",
      "metadata": {
        "id": "f8e85c44-87ac-4fb0-b4a6-95f9e12cd98e"
      },
      "source": [
        "- Tecnicas de procesamiento del lenguaje depende de las palabras y las oraciones.\n",
        "  - Debemos identificar estos elementos para poder procesarlos\n",
        "- Este paso de identificación de palabras y oraciones se le llama segmentación de texto o **tokenización** (*tokenization*)\n",
        "- Además de la identificación de unidades aplicaremos transformaciones al texto"
      ]
    },
    {
      "cell_type": "markdown",
      "metadata": {
        "id": "31415ec4-b845-43d4-9768-e185d993ac01"
      },
      "source": [
        "Aunque la definición de lo que es una palabra puede parecer obvia es tremendamente difícil."
      ]
    },
    {
      "cell_type": "markdown",
      "metadata": {
        "id": "77b7ac8a-f5f0-476d-827a-e44e26b2682d"
      },
      "source": [
        "- I'm\n",
        "- we'd\n",
        "- I've\n",
        "- Diego's Bicycle"
      ]
    },
    {
      "cell_type": "markdown",
      "metadata": {
        "id": "f18669fc-3c5a-4d91-86c7-c171d2b57b08"
      },
      "source": [
        "## Elementos del preprocesamiento"
      ]
    },
    {
      "cell_type": "markdown",
      "metadata": {
        "id": "af1bb17a-a46e-4a91-ab4e-dab771a46146"
      },
      "source": [
        "- Normalización\n",
        "    - Pasar todo a minúsculas\n",
        "    - Pasar texto a cierta norma ortográfica\n",
        "- Quitar stopwords\n",
        "- Quitar elementos de marcado (HTML, XML)\n",
        "- Tokenización"
      ]
    },
    {
      "cell_type": "markdown",
      "metadata": {
        "id": "16ba6a90-cf6d-4c4a-8a60-603b560272ed"
      },
      "source": [
        "### Stopwords"
      ]
    },
    {
      "cell_type": "code",
      "execution_count": 1,
      "metadata": {
        "id": "c4794b97-7510-41df-afa8-5ecebd05904f"
      },
      "outputs": [],
      "source": [
        "import re\n",
        "import nltk\n",
        "from nltk.corpus import stopwords\n",
        "from rich import print as rprint"
      ]
    },
    {
      "cell_type": "code",
      "execution_count": null,
      "metadata": {
        "id": "StC41MVK3P2l"
      },
      "outputs": [],
      "source": [
        "BASE_PATH = \"drive/MyDrive\"\n",
        "CORPORA_PATH = f\"{BASE_PATH}/corpora/tokenization\"\n",
        "MODELS_PATH = f\"{BASE_PATH}/models/sub-word\""
      ]
    },
    {
      "cell_type": "code",
      "execution_count": null,
      "metadata": {
        "colab": {
          "base_uri": "https://localhost:8080/"
        },
        "id": "fmp68qFmwaZ_",
        "outputId": "ee1e8ab7-77d9-43d0-e4b7-225c2c6e62d7"
      },
      "outputs": [
        {
          "name": "stderr",
          "output_type": "stream",
          "text": [
            "[nltk_data] Downloading package stopwords to /root/nltk_data...\n",
            "[nltk_data]   Unzipping corpora/stopwords.zip.\n"
          ]
        },
        {
          "data": {
            "text/plain": [
              "True"
            ]
          },
          "execution_count": 3,
          "metadata": {},
          "output_type": "execute_result"
        }
      ],
      "source": [
        "nltk.download('stopwords')"
      ]
    },
    {
      "cell_type": "code",
      "execution_count": null,
      "metadata": {
        "colab": {
          "base_uri": "https://localhost:8080/",
          "height": 34
        },
        "id": "656189ff-e72a-4320-a015-1d17d64ae7d6",
        "outputId": "bed7744a-4471-46ff-b91a-027d597cde3c"
      },
      "outputs": [
        {
          "data": {
            "text/html": [
              "<pre style=\"white-space:pre;overflow-x:auto;line-height:normal;font-family:Menlo,'DejaVu Sans Mono',consolas,'Courier New',monospace\"><span style=\"font-weight: bold\">[</span><span style=\"color: #008000; text-decoration-color: #008000\">'de'</span>, <span style=\"color: #008000; text-decoration-color: #008000\">'la'</span>, <span style=\"color: #008000; text-decoration-color: #008000\">'que'</span>, <span style=\"color: #008000; text-decoration-color: #008000\">'el'</span>, <span style=\"color: #008000; text-decoration-color: #008000\">'en'</span>, <span style=\"color: #008000; text-decoration-color: #008000\">'y'</span>, <span style=\"color: #008000; text-decoration-color: #008000\">'a'</span>, <span style=\"color: #008000; text-decoration-color: #008000\">'los'</span>, <span style=\"color: #008000; text-decoration-color: #008000\">'del'</span>, <span style=\"color: #008000; text-decoration-color: #008000\">'se'</span>, <span style=\"color: #008000; text-decoration-color: #008000\">'las'</span>, <span style=\"color: #008000; text-decoration-color: #008000\">'por'</span>, <span style=\"color: #008000; text-decoration-color: #008000\">'un'</span>, <span style=\"color: #008000; text-decoration-color: #008000\">'para'</span>, <span style=\"color: #008000; text-decoration-color: #008000\">'con'</span><span style=\"font-weight: bold\">]</span>\n",
              "</pre>\n"
            ],
            "text/plain": [
              "\u001b[1m[\u001b[0m\u001b[32m'de'\u001b[0m, \u001b[32m'la'\u001b[0m, \u001b[32m'que'\u001b[0m, \u001b[32m'el'\u001b[0m, \u001b[32m'en'\u001b[0m, \u001b[32m'y'\u001b[0m, \u001b[32m'a'\u001b[0m, \u001b[32m'los'\u001b[0m, \u001b[32m'del'\u001b[0m, \u001b[32m'se'\u001b[0m, \u001b[32m'las'\u001b[0m, \u001b[32m'por'\u001b[0m, \u001b[32m'un'\u001b[0m, \u001b[32m'para'\u001b[0m, \u001b[32m'con'\u001b[0m\u001b[1m]\u001b[0m\n"
            ]
          },
          "metadata": {},
          "output_type": "display_data"
        }
      ],
      "source": [
        "rprint(stopwords.words(\"spanish\")[:15])"
      ]
    },
    {
      "cell_type": "markdown",
      "metadata": {
        "id": "48386915-018b-4ae0-86c6-17c35d05b260"
      },
      "source": [
        "### Normalización"
      ]
    },
    {
      "cell_type": "markdown",
      "metadata": {
        "id": "b1408f7a-7b41-4aa7-9e02-83f163215d5a"
      },
      "source": [
        "<center><img src=\"https://external-content.duckduckgo.com/iu/?u=http%3A%2F%2Fimg1.wikia.nocookie.net%2F__cb20140504152558%2Fspongebob%2Fimages%2Fe%2Fe3%2FThe_spongebob.jpg&f=1&nofb=1&ipt=28368023b54a7c84c9100025981b1042d0f4ca3ceaac53be42094cc1c3794348&ipo=images\" height=300 width=300></center>"
      ]
    },
    {
      "cell_type": "code",
      "execution_count": null,
      "metadata": {
        "id": "6a0d292c-0913-43fc-915e-3c471c3e6498"
      },
      "outputs": [],
      "source": [
        "import unicodedata\n",
        "\n",
        "def strip_accents(s: str) -> str:\n",
        "   return ''.join(\n",
        "       c for c in unicodedata.normalize('NFD', s)\n",
        "       if unicodedata.category(c) != 'Mn'\n",
        "   )"
      ]
    },
    {
      "cell_type": "code",
      "execution_count": null,
      "metadata": {
        "colab": {
          "base_uri": "https://localhost:8080/",
          "height": 35
        },
        "id": "24ebe82f-fc22-44f0-a8e1-850159088bcc",
        "outputId": "8de49098-9789-4bc0-c26a-19de8cb2cba3"
      },
      "outputs": [
        {
          "data": {
            "application/vnd.google.colaboratory.intrinsic+json": {
              "type": "string"
            },
            "text/plain": [
              "'mama hoy queria que me oigan en el olimpo'"
            ]
          },
          "execution_count": 3,
          "metadata": {},
          "output_type": "execute_result"
        }
      ],
      "source": [
        "strip_accents(\"mamá hoy quería que me oigan en el olímpo\")"
      ]
    },
    {
      "cell_type": "markdown",
      "metadata": {
        "id": "56979837-f830-4485-a789-fb19f9a47fe8"
      },
      "source": [
        "- https://www.unicode.org/reports/tr44/#GC_Values_Table\n",
        "\n",
        "> And keep in mind, these manipulations may significantly alter the meaning of the text. Accents, Umlauts etc. are not \"decoration\".\n",
        "- [oefe](https://stackoverflow.com/users/49793/oefe) - [source](https://stackoverflow.com/questions/517923/what-is-the-best-way-to-remove-accents-normalize-in-a-python-unicode-string)"
      ]
    },
    {
      "cell_type": "code",
      "execution_count": null,
      "metadata": {
        "id": "633f0e32-c0c5-4406-9765-6233122afe26"
      },
      "outputs": [],
      "source": [
        "def preprocess(words: list[str], regex: str=\"\\w+\", lang: str=\"en\") -> list[str]:\n",
        "    \"\"\"Preprocess step for corpus\n",
        "\n",
        "    Parameters\n",
        "    ----------\n",
        "    words: list[str]\n",
        "        Words of a given corpus\n",
        "    regex: str\n",
        "        Optional regex to filter patterns in words. Default \\w+\n",
        "    lang: str\n",
        "        Optional lang for choice stopwords. Default \"en\"\n",
        "\n",
        "    Return\n",
        "    ------\n",
        "    list:\n",
        "        List of words filtered and normalized\n",
        "\n",
        "    \"\"\"\n",
        "    stop_lang = \"english\" if lang==\"en\" else \"spanish\"\n",
        "    result = []\n",
        "    for word in words:\n",
        "        word = re.sub(f\"[^\\w\\s]\", \"\", word).lower()\n",
        "        if word.isalpha():\n",
        "            result.append(word)\n",
        "    return result"
      ]
    },
    {
      "cell_type": "markdown",
      "metadata": {
        "id": "mOlls_kCDNmF"
      },
      "source": [
        "#### ¿Para otras lenguas?"
      ]
    },
    {
      "cell_type": "markdown",
      "metadata": {
        "id": "gbg-GwEzSjqv"
      },
      "source": [
        "- No hay muchos recursos :(\n",
        "- Pero para el nahuatl esta `pyelotl` :)"
      ]
    },
    {
      "cell_type": "markdown",
      "metadata": {
        "id": "aNWBVF4c9N3j"
      },
      "source": [
        "#### Normalizando el Nahuatl"
      ]
    },
    {
      "cell_type": "code",
      "execution_count": null,
      "metadata": {
        "colab": {
          "base_uri": "https://localhost:8080/"
        },
        "id": "pGfBR-FV4n0s",
        "outputId": "f5ddc9fb-c4d6-40a3-f8d6-f2cc88940288"
      },
      "outputs": [
        {
          "name": "stdout",
          "output_type": "stream",
          "text": [
            "Collecting elotl\n",
            "  Downloading elotl-0.1.1-py3-none-any.whl.metadata (6.2 kB)\n",
            "Downloading elotl-0.1.1-py3-none-any.whl (5.1 MB)\n",
            "\u001b[2K   \u001b[90m━━━━━━━━━━━━━━━━━━━━━━━━━━━━━━━━━━━━━━━━\u001b[0m \u001b[32m5.1/5.1 MB\u001b[0m \u001b[31m1.8 MB/s\u001b[0m eta \u001b[36m0:00:00\u001b[0m\n",
            "\u001b[?25hInstalling collected packages: elotl\n",
            "Successfully installed elotl-0.1.1\n"
          ]
        }
      ],
      "source": [
        "!pip install elotl"
      ]
    },
    {
      "cell_type": "code",
      "execution_count": null,
      "metadata": {
        "id": "26GQkUkX9QvB"
      },
      "outputs": [],
      "source": [
        "import elotl.corpus\n",
        "import elotl.nahuatl.orthography"
      ]
    },
    {
      "cell_type": "code",
      "execution_count": null,
      "metadata": {
        "id": "2-5cSewJ4p40"
      },
      "outputs": [],
      "source": [
        "axolotl = elotl.corpus.load(\"axolotl\")"
      ]
    },
    {
      "cell_type": "code",
      "execution_count": null,
      "metadata": {
        "id": "thlTYQUqGwRE"
      },
      "outputs": [],
      "source": [
        "# Tres posibles normalizadores: sep, inali, ack\n",
        "# Sauce: https://pypi.org/project/elotl/\n",
        "\n",
        "nahuatl_normalizer = elotl.nahuatl.orthography.Normalizer(\"sep\")"
      ]
    },
    {
      "cell_type": "code",
      "execution_count": null,
      "metadata": {
        "colab": {
          "base_uri": "https://localhost:8080/",
          "height": 35
        },
        "id": "ZLZX7VeNHDxn",
        "outputId": "6c3db4b7-6145-4cc9-f1bf-31298771105a"
      },
      "outputs": [
        {
          "data": {
            "application/vnd.google.colaboratory.intrinsic+json": {
              "type": "string"
            },
            "text/plain": [
              "'¿In chalchihuitl, teocuitlatl, mach ah ca on yaz?'"
            ]
          },
          "execution_count": 13,
          "metadata": {},
          "output_type": "execute_result"
        }
      ],
      "source": [
        "axolotl[1][1]"
      ]
    },
    {
      "cell_type": "code",
      "execution_count": null,
      "metadata": {
        "colab": {
          "base_uri": "https://localhost:8080/",
          "height": 35
        },
        "id": "nkC--od4HLao",
        "outputId": "1d6dc0bb-954e-430a-b5d9-d1f8ed21408e"
      },
      "outputs": [
        {
          "data": {
            "application/vnd.google.colaboratory.intrinsic+json": {
              "type": "string"
            },
            "text/plain": [
              "'¿in chalchiuitl, teokuitlatl, mach aj ka on yas?'"
            ]
          },
          "execution_count": 14,
          "metadata": {},
          "output_type": "execute_result"
        }
      ],
      "source": [
        "nahuatl_normalizer.normalize(axolotl[1][1])"
      ]
    },
    {
      "cell_type": "code",
      "execution_count": null,
      "metadata": {
        "colab": {
          "base_uri": "https://localhost:8080/",
          "height": 35
        },
        "id": "mIXqhX_uHWJ8",
        "outputId": "ec6ef3ef-debc-4cff-f8e2-09408eae144a"
      },
      "outputs": [
        {
          "data": {
            "application/vnd.google.colaboratory.intrinsic+json": {
              "type": "string"
            },
            "text/plain": [
              "'¿in t͡ʃalt͡ʃiwiƛ, teokʷiƛaƛ, mat͡ʃ aʔ ka on yas?'"
            ]
          },
          "execution_count": 15,
          "metadata": {},
          "output_type": "execute_result"
        }
      ],
      "source": [
        "nahuatl_normalizer.to_phones(axolotl[1][1])"
      ]
    },
    {
      "cell_type": "markdown",
      "metadata": {
        "id": "y291dtSSDUwx"
      },
      "source": [
        "## Tokenización"
      ]
    },
    {
      "cell_type": "markdown",
      "metadata": {
        "id": "0ddc2aa7-ee08-49d6-965b-33689dc90ec5"
      },
      "source": [
        "### Word-base tokenization"
      ]
    },
    {
      "cell_type": "code",
      "execution_count": null,
      "metadata": {
        "id": "f9b61fc1-db4b-4fe2-a5e8-208224511055"
      },
      "outputs": [],
      "source": [
        "text = \"\"\"\n",
        "¡¡¡Mamá prendele a la grabadora!!!, ¿llamaste a las vecinas? Corre la voz porque, efectivamente, !estoy en la tele! 📺\n",
        "\"\"\""
      ]
    },
    {
      "cell_type": "code",
      "execution_count": null,
      "metadata": {
        "colab": {
          "base_uri": "https://localhost:8080/"
        },
        "id": "99e04d8e-7a84-48da-9cce-ea13e2a49219",
        "outputId": "9c833763-dc70-4387-aeae-b093d9fadb62"
      },
      "outputs": [
        {
          "data": {
            "text/plain": [
              "['¡¡¡Mamá',\n",
              " 'prendele',\n",
              " 'a',\n",
              " 'la',\n",
              " 'grabadora!!!,',\n",
              " '¿llamaste',\n",
              " 'a',\n",
              " 'las',\n",
              " 'vecinas?',\n",
              " 'Corre',\n",
              " 'la',\n",
              " 'voz',\n",
              " 'porque,',\n",
              " 'efectivamente,',\n",
              " '!estoy',\n",
              " 'en',\n",
              " 'la',\n",
              " 'tele!',\n",
              " '📺']"
            ]
          },
          "execution_count": 17,
          "metadata": {},
          "output_type": "execute_result"
        }
      ],
      "source": [
        "text.split()"
      ]
    },
    {
      "cell_type": "code",
      "execution_count": null,
      "metadata": {
        "colab": {
          "base_uri": "https://localhost:8080/"
        },
        "id": "391ff037-8b9a-4ce9-9033-a6f9af23a5cf",
        "outputId": "440147db-ed72-4e94-82df-91674b8610a5"
      },
      "outputs": [
        {
          "data": {
            "text/plain": [
              "['Mamá',\n",
              " 'prendele',\n",
              " 'a',\n",
              " 'la',\n",
              " 'grabadora',\n",
              " 'llamaste',\n",
              " 'a',\n",
              " 'las',\n",
              " 'vecinas',\n",
              " 'Corre',\n",
              " 'la',\n",
              " 'voz',\n",
              " 'porque',\n",
              " 'efectivamente',\n",
              " 'estoy',\n",
              " 'en',\n",
              " 'la',\n",
              " 'tele']"
            ]
          },
          "execution_count": 18,
          "metadata": {},
          "output_type": "execute_result"
        }
      ],
      "source": [
        "# [a-zA-Z_]\n",
        "regex = r\"\\w+\"\n",
        "re.findall(regex, text)"
      ]
    },
    {
      "cell_type": "code",
      "execution_count": null,
      "metadata": {
        "colab": {
          "base_uri": "https://localhost:8080/"
        },
        "id": "bf8294ee-8724-446f-8c02-ad152502ef34",
        "outputId": "3ec40555-714e-440c-b6f9-7e7af10536f5"
      },
      "outputs": [
        {
          "data": {
            "text/plain": [
              "['El', 'valor', 'de', 'PI', 'es', '3', '14159']"
            ]
          },
          "execution_count": 19,
          "metadata": {},
          "output_type": "execute_result"
        }
      ],
      "source": [
        "re.findall(regex, \"El valor de PI es 3.14159\")"
      ]
    },
    {
      "cell_type": "markdown",
      "metadata": {
        "id": "f4f2d72d-fb80-4204-a739-167ab9063414"
      },
      "source": [
        "<img src=\"http://images.wikia.com/battlebears/images/2/2c/Troll_Problem.jpg\" with=\"250\" height=\"250\">"
      ]
    },
    {
      "cell_type": "markdown",
      "metadata": {
        "id": "8c5f8ae0-1626-4c15-9b9c-1381ef0d8508"
      },
      "source": [
        "- Vocabularios gigantescos difíciles de procesar\n",
        "- Generalmente, entre más grande es el vocabulario más pesado será nuestro modelo\n",
        "\n",
        "**Ejemplo:**\n",
        "- Si queremos representaciones vectoriales de nuestras palabras obtendríamos vectores distintos para palabras similares\n",
        "    - niño = `v1(39, 34, 5,...)`\n",
        "    - niños = `v2(9, 4, 0,...)`\n",
        "    - niña = `v3(2, 1, 1,...)`\n",
        "    - ...\n",
        "- Tendríamos tokens con bajísima frecuencia\n",
        "    - merequetengue = `vn(0,0,1,...)`"
      ]
    },
    {
      "cell_type": "markdown",
      "metadata": {
        "id": "8e1a0096-0a54-45af-823c-3f8a25cfa196"
      },
      "source": [
        "### Una solución: Steaming/Lematización (AKA la vieja confiable)"
      ]
    },
    {
      "cell_type": "markdown",
      "metadata": {
        "id": "e38c6752-4b70-4b0d-9bbd-10bf16f3f5b6"
      },
      "source": [
        "![](https://i.pinimg.com/736x/77/df/89/77df89e6ff57d332ba4e5d7bff723133--meme.jpg)"
      ]
    },
    {
      "cell_type": "code",
      "execution_count": null,
      "metadata": {
        "colab": {
          "base_uri": "https://localhost:8080/"
        },
        "id": "e70c9d0e-2f78-404c-ab8b-6889982092c9",
        "outputId": "be5e2a1b-e258-4c10-ab1a-43b7a94088a1"
      },
      "outputs": [
        {
          "name": "stderr",
          "output_type": "stream",
          "text": [
            "[nltk_data] Downloading package brown to /root/nltk_data...\n",
            "[nltk_data]   Unzipping corpora/brown.zip.\n"
          ]
        },
        {
          "data": {
            "text/plain": [
              "True"
            ]
          },
          "execution_count": 20,
          "metadata": {},
          "output_type": "execute_result"
        }
      ],
      "source": [
        "from nltk.corpus import brown\n",
        "nltk.download('brown')"
      ]
    },
    {
      "cell_type": "code",
      "execution_count": null,
      "metadata": {
        "colab": {
          "base_uri": "https://localhost:8080/",
          "height": 34
        },
        "id": "8fb7d008-0c35-48c2-9604-c235ed415e4f",
        "outputId": "e5d34b98-bf64-4763-ea56-654f0773ac71"
      },
      "outputs": [
        {
          "data": {
            "text/html": [
              "<pre style=\"white-space:pre;overflow-x:auto;line-height:normal;font-family:Menlo,'DejaVu Sans Mono',consolas,'Courier New',monospace\">fulton\n",
              "</pre>\n"
            ],
            "text/plain": [
              "fulton\n"
            ]
          },
          "metadata": {},
          "output_type": "display_data"
        }
      ],
      "source": [
        "brown_corpus = preprocess(brown.words()[:100000])\n",
        "rprint(brown_corpus[0])"
      ]
    },
    {
      "cell_type": "code",
      "execution_count": null,
      "metadata": {
        "colab": {
          "base_uri": "https://localhost:8080/",
          "height": 34
        },
        "id": "61f209ea-0d04-42c2-a5c4-afe93a9f4c7a",
        "outputId": "5ed76a89-01be-49d9-8015-97a76b2af937"
      },
      "outputs": [
        {
          "data": {
            "text/html": [
              "<pre style=\"white-space:pre;overflow-x:auto;line-height:normal;font-family:Menlo,'DejaVu Sans Mono',consolas,'Courier New',monospace\"><span style=\"font-weight: bold\">[</span><span style=\"color: #008000; text-decoration-color: #008000\">'fulton'</span>, <span style=\"color: #008000; text-decoration-color: #008000\">'county'</span>, <span style=\"color: #008000; text-decoration-color: #008000\">'grand'</span>, <span style=\"color: #008000; text-decoration-color: #008000\">'jury'</span>, <span style=\"color: #008000; text-decoration-color: #008000\">'said'</span>, <span style=\"color: #008000; text-decoration-color: #008000\">'friday'</span>, <span style=\"color: #008000; text-decoration-color: #008000\">'investigation'</span>, <span style=\"color: #008000; text-decoration-color: #008000\">'atlantas'</span>, <span style=\"color: #008000; text-decoration-color: #008000\">'recent'</span>, <span style=\"color: #008000; text-decoration-color: #008000\">'primary'</span><span style=\"font-weight: bold\">]</span>\n",
              "</pre>\n"
            ],
            "text/plain": [
              "\u001b[1m[\u001b[0m\u001b[32m'fulton'\u001b[0m, \u001b[32m'county'\u001b[0m, \u001b[32m'grand'\u001b[0m, \u001b[32m'jury'\u001b[0m, \u001b[32m'said'\u001b[0m, \u001b[32m'friday'\u001b[0m, \u001b[32m'investigation'\u001b[0m, \u001b[32m'atlantas'\u001b[0m, \u001b[32m'recent'\u001b[0m, \u001b[32m'primary'\u001b[0m\u001b[1m]\u001b[0m\n"
            ]
          },
          "metadata": {},
          "output_type": "display_data"
        }
      ],
      "source": [
        "rprint(brown_corpus[:10])"
      ]
    },
    {
      "cell_type": "code",
      "execution_count": null,
      "metadata": {
        "colab": {
          "base_uri": "https://localhost:8080/",
          "height": 119
        },
        "id": "e79115bf-9baa-4f3c-b684-a9302abb30e0",
        "outputId": "38b14448-9bb8-4402-c2ba-8fb7283516a9"
      },
      "outputs": [
        {
          "data": {
            "text/html": [
              "<pre style=\"white-space:pre;overflow-x:auto;line-height:normal;font-family:Menlo,'DejaVu Sans Mono',consolas,'Courier New',monospace\"><span style=\"color: #808000; text-decoration-color: #808000\">Brown Vanilla</span>\n",
              "</pre>\n"
            ],
            "text/plain": [
              "\u001b[33mBrown Vanilla\u001b[0m\n"
            ]
          },
          "metadata": {},
          "output_type": "display_data"
        },
        {
          "data": {
            "text/html": [
              "<pre style=\"white-space:pre;overflow-x:auto;line-height:normal;font-family:Menlo,'DejaVu Sans Mono',consolas,'Courier New',monospace\">Tokens: <span style=\"color: #008080; text-decoration-color: #008080; font-weight: bold\">1161192</span>\n",
              "</pre>\n"
            ],
            "text/plain": [
              "Tokens: \u001b[1;36m1161192\u001b[0m\n"
            ]
          },
          "metadata": {},
          "output_type": "display_data"
        },
        {
          "data": {
            "text/html": [
              "<pre style=\"white-space:pre;overflow-x:auto;line-height:normal;font-family:Menlo,'DejaVu Sans Mono',consolas,'Courier New',monospace\">Tipos: <span style=\"color: #008080; text-decoration-color: #008080; font-weight: bold\">56057</span>\n",
              "</pre>\n"
            ],
            "text/plain": [
              "Tipos: \u001b[1;36m56057\u001b[0m\n"
            ]
          },
          "metadata": {},
          "output_type": "display_data"
        },
        {
          "data": {
            "text/html": [
              "<pre style=\"white-space:pre;overflow-x:auto;line-height:normal;font-family:Menlo,'DejaVu Sans Mono',consolas,'Courier New',monospace\"><span style=\"color: #008000; text-decoration-color: #008000\">Brown Preprocess</span>\n",
              "</pre>\n"
            ],
            "text/plain": [
              "\u001b[32mBrown Preprocess\u001b[0m\n"
            ]
          },
          "metadata": {},
          "output_type": "display_data"
        },
        {
          "data": {
            "text/html": [
              "<pre style=\"white-space:pre;overflow-x:auto;line-height:normal;font-family:Menlo,'DejaVu Sans Mono',consolas,'Courier New',monospace\">Tokens: <span style=\"color: #008080; text-decoration-color: #008080; font-weight: bold\">45196</span>\n",
              "</pre>\n"
            ],
            "text/plain": [
              "Tokens: \u001b[1;36m45196\u001b[0m\n"
            ]
          },
          "metadata": {},
          "output_type": "display_data"
        },
        {
          "data": {
            "text/html": [
              "<pre style=\"white-space:pre;overflow-x:auto;line-height:normal;font-family:Menlo,'DejaVu Sans Mono',consolas,'Courier New',monospace\">Tipos: <span style=\"color: #008080; text-decoration-color: #008080; font-weight: bold\">11548</span>\n",
              "</pre>\n"
            ],
            "text/plain": [
              "Tipos: \u001b[1;36m11548\u001b[0m\n"
            ]
          },
          "metadata": {},
          "output_type": "display_data"
        }
      ],
      "source": [
        "from collections import Counter\n",
        "\n",
        "rprint(f\"[yellow]Brown Vanilla\")\n",
        "rprint(\"Tokens:\", len(brown.words()))\n",
        "rprint(\"Tipos:\", len(Counter(brown.words())))\n",
        "\n",
        "rprint(f\"[green]Brown Preprocess\")\n",
        "rprint(\"Tokens:\", len(brown_corpus))\n",
        "rprint(\"Tipos:\", len(Counter(brown_corpus)))"
      ]
    },
    {
      "cell_type": "markdown",
      "metadata": {
        "id": "510ffd6b-ec60-4900-9560-8049d1b0a904"
      },
      "source": [
        "#### Steamming"
      ]
    },
    {
      "cell_type": "code",
      "execution_count": null,
      "metadata": {
        "id": "d7d03024-890c-48de-95f0-a890a1063d4f"
      },
      "outputs": [],
      "source": [
        "from nltk.stem.snowball import SnowballStemmer\n",
        "\n",
        "stemmer = SnowballStemmer(\"english\")"
      ]
    },
    {
      "cell_type": "code",
      "execution_count": null,
      "metadata": {
        "id": "38efb116-8b9a-4500-b2f3-f623f13648d4"
      },
      "outputs": [],
      "source": [
        "stemmed_brown = [stemmer.stem(word) for word in brown_corpus]"
      ]
    },
    {
      "cell_type": "markdown",
      "metadata": {
        "id": "066de27f-2a9b-4acf-bd20-480535359d1f"
      },
      "source": [
        "#### Lematización"
      ]
    },
    {
      "cell_type": "code",
      "execution_count": null,
      "metadata": {
        "colab": {
          "base_uri": "https://localhost:8080/"
        },
        "id": "8bef5fdc-528a-4bac-8242-6e91a00f6cbe",
        "outputId": "f07cccca-a1f7-4a05-fa73-135d19890027"
      },
      "outputs": [
        {
          "name": "stdout",
          "output_type": "stream",
          "text": [
            "Collecting en-core-web-md==3.8.0\n",
            "  Downloading https://github.com/explosion/spacy-models/releases/download/en_core_web_md-3.8.0/en_core_web_md-3.8.0-py3-none-any.whl (33.5 MB)\n",
            "\u001b[2K     \u001b[90m━━━━━━━━━━━━━━━━━━━━━━━━━━━━━━━━━━━━━━━━\u001b[0m \u001b[32m33.5/33.5 MB\u001b[0m \u001b[31m20.2 MB/s\u001b[0m eta \u001b[36m0:00:00\u001b[0m\n",
            "\u001b[?25hInstalling collected packages: en-core-web-md\n",
            "Successfully installed en-core-web-md-3.8.0\n",
            "\u001b[38;5;2m✔ Download and installation successful\u001b[0m\n",
            "You can now load the package via spacy.load('en_core_web_md')\n",
            "\u001b[38;5;3m⚠ Restart to reload dependencies\u001b[0m\n",
            "If you are in a Jupyter or Colab notebook, you may need to restart Python in\n",
            "order to load all the package's dependencies. You can do this by selecting the\n",
            "'Restart kernel' or 'Restart runtime' option.\n",
            "Collecting es-core-news-md==3.8.0\n",
            "  Downloading https://github.com/explosion/spacy-models/releases/download/es_core_news_md-3.8.0/es_core_news_md-3.8.0-py3-none-any.whl (42.3 MB)\n",
            "\u001b[2K     \u001b[90m━━━━━━━━━━━━━━━━━━━━━━━━━━━━━━━━━━━━━━━━\u001b[0m \u001b[32m42.3/42.3 MB\u001b[0m \u001b[31m12.2 MB/s\u001b[0m eta \u001b[36m0:00:00\u001b[0m\n",
            "\u001b[?25hInstalling collected packages: es-core-news-md\n",
            "Successfully installed es-core-news-md-3.8.0\n",
            "\u001b[38;5;2m✔ Download and installation successful\u001b[0m\n",
            "You can now load the package via spacy.load('es_core_news_md')\n",
            "\u001b[38;5;3m⚠ Restart to reload dependencies\u001b[0m\n",
            "If you are in a Jupyter or Colab notebook, you may need to restart Python in\n",
            "order to load all the package's dependencies. You can do this by selecting the\n",
            "'Restart kernel' or 'Restart runtime' option.\n"
          ]
        }
      ],
      "source": [
        "!python -m spacy download en_core_web_md\n",
        "!python -m spacy download es_core_news_md"
      ]
    },
    {
      "cell_type": "code",
      "execution_count": null,
      "metadata": {
        "id": "60e870f4-c44c-4c36-8c95-1b425222d9c8"
      },
      "outputs": [],
      "source": [
        "import spacy\n",
        "\n",
        "def lemmatize(words: list, lang: str=\"en\") -> list:\n",
        "    model = \"en_core_web_md\" if lang == \"en\" else \"es_core_news_md\"\n",
        "    nlp = spacy.load(model)\n",
        "    nlp.max_length = 1500000\n",
        "    lemmatizer = nlp.get_pipe(\"lemmatizer\")\n",
        "    return [token.lemma_ for token in nlp(\" \".join(words))]"
      ]
    },
    {
      "cell_type": "code",
      "execution_count": null,
      "metadata": {
        "id": "10bbcbe3-8e54-469c-bf29-1e9698ee0667"
      },
      "outputs": [],
      "source": [
        "lemmatized_brown = lemmatize(brown_corpus)"
      ]
    },
    {
      "cell_type": "code",
      "execution_count": null,
      "metadata": {
        "colab": {
          "base_uri": "https://localhost:8080/",
          "height": 68
        },
        "id": "d97520de-ce55-4ad4-8c6a-7539089d30a8",
        "outputId": "ec5e8523-fa8e-4c76-e1f0-de9db900d016"
      },
      "outputs": [
        {
          "data": {
            "text/html": [
              "<pre style=\"white-space:pre;overflow-x:auto;line-height:normal;font-family:Menlo,'DejaVu Sans Mono',consolas,'Courier New',monospace\">Tipos <span style=\"font-weight: bold\">(</span><span style=\"color: #000080; text-decoration-color: #000080\">word-based</span><span style=\"color: #000080; text-decoration-color: #000080; font-weight: bold\">)</span><span style=\"color: #000080; text-decoration-color: #000080\">:</span> <span style=\"color: #008080; text-decoration-color: #008080; font-weight: bold\">11548</span>\n",
              "</pre>\n"
            ],
            "text/plain": [
              "Tipos \u001b[1m(\u001b[0m\u001b[34mword-based\u001b[0m\u001b[1;34m)\u001b[0m\u001b[34m:\u001b[0m \u001b[1;36m11548\u001b[0m\n"
            ]
          },
          "metadata": {},
          "output_type": "display_data"
        },
        {
          "data": {
            "text/html": [
              "<pre style=\"white-space:pre;overflow-x:auto;line-height:normal;font-family:Menlo,'DejaVu Sans Mono',consolas,'Courier New',monospace\">Tipos <span style=\"font-weight: bold\">(</span><span style=\"color: #808000; text-decoration-color: #808000\">Steamming</span><span style=\"color: #808000; text-decoration-color: #808000; font-weight: bold\">)</span><span style=\"color: #808000; text-decoration-color: #808000\">:</span> <span style=\"color: #008080; text-decoration-color: #008080; font-weight: bold\">8055</span>\n",
              "</pre>\n"
            ],
            "text/plain": [
              "Tipos \u001b[1m(\u001b[0m\u001b[33mSteamming\u001b[0m\u001b[1;33m)\u001b[0m\u001b[33m:\u001b[0m \u001b[1;36m8055\u001b[0m\n"
            ]
          },
          "metadata": {},
          "output_type": "display_data"
        },
        {
          "data": {
            "text/html": [
              "<pre style=\"white-space:pre;overflow-x:auto;line-height:normal;font-family:Menlo,'DejaVu Sans Mono',consolas,'Courier New',monospace\">Tipos <span style=\"font-weight: bold\">(</span><span style=\"color: #008000; text-decoration-color: #008000\">Lemmatized</span><span style=\"color: #008000; text-decoration-color: #008000; font-weight: bold\">)</span><span style=\"color: #008000; text-decoration-color: #008000\">:</span> <span style=\"color: #008080; text-decoration-color: #008080; font-weight: bold\">9395</span>\n",
              "</pre>\n"
            ],
            "text/plain": [
              "Tipos \u001b[1m(\u001b[0m\u001b[32mLemmatized\u001b[0m\u001b[1;32m)\u001b[0m\u001b[32m:\u001b[0m \u001b[1;36m9395\u001b[0m\n"
            ]
          },
          "metadata": {},
          "output_type": "display_data"
        }
      ],
      "source": [
        "from rich.panel import Panel\n",
        "\n",
        "rprint(\"Tipos ([blue]word-based):\", len(Counter(brown_corpus)))\n",
        "rprint(\"Tipos ([yellow]Steamming):\", len(Counter(stemmed_brown)))\n",
        "rprint(\"Tipos ([green]Lemmatized):\", len(Counter(lemmatized_brown)))"
      ]
    },
    {
      "cell_type": "markdown",
      "metadata": {
        "id": "fafef790-10c8-44ab-9793-6708085c8145"
      },
      "source": [
        "#### More problems?\n",
        "\n",
        "<img src=\"https://uploads.dailydot.com/2019/10/Untitled_Goose_Game_Honk.jpeg?auto=compress%2Cformat&ixlib=php-3.3.0\" width=\"250\" height=\"250\">"
      ]
    },
    {
      "cell_type": "markdown",
      "metadata": {
        "id": "8f2cc1f7-c2d8-430b-8197-78b6b784c987"
      },
      "source": [
        "- Métodos dependientes de las lenguas\n",
        "- Se pierde información\n",
        "- Ruled-based"
      ]
    },
    {
      "cell_type": "markdown",
      "metadata": {
        "id": "c1fb1d33-3005-4017-a58d-926702397c24"
      },
      "source": [
        "## Subword-tokenization salva el día 🦸🏼‍♀️"
      ]
    },
    {
      "cell_type": "markdown",
      "metadata": {
        "id": "012112e1-032a-4f2e-8aba-1f190292e79c"
      },
      "source": [
        "![](https://gifdb.com/images/high/super-cow-and-chicken-daxvak1q16quwd9p.webp)"
      ]
    },
    {
      "cell_type": "markdown",
      "metadata": {
        "id": "3de78c10-c81b-4c21-812d-b2a56bca7a10"
      },
      "source": [
        "- Segmentación de palabras en unidades más pequeñas (*sub-words*)\n",
        "- Obtenemos tipos menos variados y con mayores frecuencias\n",
        "    - Esto le gusta modelos basados en métodos estadísticos\n",
        "- Palabras frecuentes no deberían separarse\n",
        "- Palabras largas y raras debería descomponerse en sub-palabras significativas\n",
        "- Los métodos estadisticos que no requieren conocimiento a priori de las lenguas"
      ]
    },
    {
      "cell_type": "code",
      "execution_count": null,
      "metadata": {
        "colab": {
          "base_uri": "https://localhost:8080/"
        },
        "id": "d7a81982-9f86-4ba9-90b1-f8f1d1885e2d",
        "outputId": "19d3d9ed-7574-4e93-8047-aeccef408f5c"
      },
      "outputs": [
        {
          "name": "stdout",
          "output_type": "stream",
          "text": [
            "Objetivo: Let's do tokenization! -> [\"Let's\", 'do', 'token', 'ization', '!']\n"
          ]
        }
      ],
      "source": [
        "text = \"Let's do tokenization!\"\n",
        "result = [\"Let's\", \"do\", \"token\", \"ization\", \"!\"]\n",
        "print(f\"Objetivo: {text} -> {result}\")"
      ]
    },
    {
      "cell_type": "markdown",
      "metadata": {
        "id": "4a799376-23f1-483e-9bce-9289ab0f819b"
      },
      "source": [
        "### Algoritmos"
      ]
    },
    {
      "cell_type": "markdown",
      "metadata": {
        "id": "31a4ebfd-ca2d-4e5c-bdbe-1144f4900521"
      },
      "source": [
        "Existen varios algoritmos para hacer *subword-tokenization* como los que se listan a continuación:\n",
        "\n",
        "- Byte-Pair Encoding (BPE)\n",
        "- WordPiece\n",
        "- Unigram"
      ]
    },
    {
      "cell_type": "markdown",
      "metadata": {
        "id": "71325743-1e7f-41b3-b394-bda24d815c0c"
      },
      "source": [
        "#### BPE"
      ]
    },
    {
      "cell_type": "markdown",
      "metadata": {
        "id": "7be7b2d5-b07d-4e7f-863d-46e12344bc15"
      },
      "source": [
        "- Segmenmentación iterativa, comienza segmentando en secuencias de caracteres\n",
        "- Junta los pares más frecuentes (*merge operation*)\n",
        "- Termina cuando se llega al número de *merge operations* especificado o número de vocabulario deseado (*hyperparams*, depende de la implementación)\n",
        "- Introducido en el paper: [Neural Machine Translation of Rare Words with Subword Units, (Sennrich et al., 2015)](https://arxiv.org/abs/1508.07909)"
      ]
    },
    {
      "cell_type": "code",
      "execution_count": null,
      "metadata": {
        "colab": {
          "base_uri": "https://localhost:8080/",
          "height": 539
        },
        "id": "0b330906-1697-4c37-b100-2590aa2af43e",
        "outputId": "85781ca9-81c1-4758-8041-2826eaca9818"
      },
      "outputs": [
        {
          "data": {
            "text/html": [
              "<iframe width=\"960\" height=\"515\" src=\"https://www.youtube.com/embed/HEikzVL-lZU\"></iframe>\n"
            ],
            "text/plain": [
              "<IPython.core.display.HTML object>"
            ]
          },
          "metadata": {},
          "output_type": "display_data"
        }
      ],
      "source": [
        "%%HTML\n",
        "<iframe width=\"960\" height=\"515\" src=\"https://www.youtube.com/embed/HEikzVL-lZU\"></iframe>"
      ]
    },
    {
      "cell_type": "code",
      "execution_count": null,
      "metadata": {
        "colab": {
          "base_uri": "https://localhost:8080/"
        },
        "id": "2e6c110d-731a-42c2-b577-53e30ab110ca",
        "outputId": "8cabf25e-efec-4b0c-a2f3-d5a8b7c61bf7",
        "scrolled": true
      },
      "outputs": [
        {
          "name": "stdout",
          "output_type": "stream",
          "text": [
            "Requirement already satisfied: transformers in /usr/local/lib/python3.11/dist-packages (4.48.3)\n",
            "Requirement already satisfied: filelock in /usr/local/lib/python3.11/dist-packages (from transformers) (3.17.0)\n",
            "Requirement already satisfied: huggingface-hub<1.0,>=0.24.0 in /usr/local/lib/python3.11/dist-packages (from transformers) (0.28.1)\n",
            "Requirement already satisfied: numpy>=1.17 in /usr/local/lib/python3.11/dist-packages (from transformers) (2.0.2)\n",
            "Requirement already satisfied: packaging>=20.0 in /usr/local/lib/python3.11/dist-packages (from transformers) (24.2)\n",
            "Requirement already satisfied: pyyaml>=5.1 in /usr/local/lib/python3.11/dist-packages (from transformers) (6.0.2)\n",
            "Requirement already satisfied: regex!=2019.12.17 in /usr/local/lib/python3.11/dist-packages (from transformers) (2024.11.6)\n",
            "Requirement already satisfied: requests in /usr/local/lib/python3.11/dist-packages (from transformers) (2.32.3)\n",
            "Requirement already satisfied: tokenizers<0.22,>=0.21 in /usr/local/lib/python3.11/dist-packages (from transformers) (0.21.1)\n",
            "Requirement already satisfied: safetensors>=0.4.1 in /usr/local/lib/python3.11/dist-packages (from transformers) (0.5.3)\n",
            "Requirement already satisfied: tqdm>=4.27 in /usr/local/lib/python3.11/dist-packages (from transformers) (4.67.1)\n",
            "Requirement already satisfied: fsspec>=2023.5.0 in /usr/local/lib/python3.11/dist-packages (from huggingface-hub<1.0,>=0.24.0->transformers) (2024.10.0)\n",
            "Requirement already satisfied: typing-extensions>=3.7.4.3 in /usr/local/lib/python3.11/dist-packages (from huggingface-hub<1.0,>=0.24.0->transformers) (4.12.2)\n",
            "Requirement already satisfied: charset-normalizer<4,>=2 in /usr/local/lib/python3.11/dist-packages (from requests->transformers) (3.4.1)\n",
            "Requirement already satisfied: idna<4,>=2.5 in /usr/local/lib/python3.11/dist-packages (from requests->transformers) (3.10)\n",
            "Requirement already satisfied: urllib3<3,>=1.21.1 in /usr/local/lib/python3.11/dist-packages (from requests->transformers) (2.3.0)\n",
            "Requirement already satisfied: certifi>=2017.4.17 in /usr/local/lib/python3.11/dist-packages (from requests->transformers) (2025.1.31)\n"
          ]
        }
      ],
      "source": [
        "!pip install transformers"
      ]
    },
    {
      "cell_type": "code",
      "execution_count": null,
      "metadata": {
        "id": "aeeba1d3-4f9f-4b00-8a77-8a34be974189"
      },
      "outputs": [],
      "source": [
        "SENTENCE = \"Let's do this tokenization to enable hypermodernization on my tokens tokenized 👁️👁️👁️!!!\""
      ]
    },
    {
      "cell_type": "code",
      "execution_count": null,
      "metadata": {
        "colab": {
          "base_uri": "https://localhost:8080/",
          "height": 491
        },
        "id": "bb2e0093-1039-4e6d-aade-d2758c482698",
        "outputId": "58a07d30-2491-4af4-8ac1-c659ae9ddac1"
      },
      "outputs": [
        {
          "data": {
            "text/html": [
              "<pre style=\"white-space:pre;overflow-x:auto;line-height:normal;font-family:Menlo,'DejaVu Sans Mono',consolas,'Courier New',monospace\"><span style=\"font-weight: bold\">[</span>\n",
              "    <span style=\"color: #008000; text-decoration-color: #008000\">'Let'</span>,\n",
              "    <span style=\"color: #008000; text-decoration-color: #008000\">\"'s\"</span>,\n",
              "    <span style=\"color: #008000; text-decoration-color: #008000\">'Ġdo'</span>,\n",
              "    <span style=\"color: #008000; text-decoration-color: #008000\">'Ġthis'</span>,\n",
              "    <span style=\"color: #008000; text-decoration-color: #008000\">'Ġtoken'</span>,\n",
              "    <span style=\"color: #008000; text-decoration-color: #008000\">'ization'</span>,\n",
              "    <span style=\"color: #008000; text-decoration-color: #008000\">'Ġto'</span>,\n",
              "    <span style=\"color: #008000; text-decoration-color: #008000\">'Ġenable'</span>,\n",
              "    <span style=\"color: #008000; text-decoration-color: #008000\">'Ġhyper'</span>,\n",
              "    <span style=\"color: #008000; text-decoration-color: #008000\">'modern'</span>,\n",
              "    <span style=\"color: #008000; text-decoration-color: #008000\">'ization'</span>,\n",
              "    <span style=\"color: #008000; text-decoration-color: #008000\">'Ġon'</span>,\n",
              "    <span style=\"color: #008000; text-decoration-color: #008000\">'Ġmy'</span>,\n",
              "    <span style=\"color: #008000; text-decoration-color: #008000\">'Ġtokens'</span>,\n",
              "    <span style=\"color: #008000; text-decoration-color: #008000\">'Ġtoken'</span>,\n",
              "    <span style=\"color: #008000; text-decoration-color: #008000\">'ized'</span>,\n",
              "    <span style=\"color: #008000; text-decoration-color: #008000\">'ĠðŁĳ'</span>,\n",
              "    <span style=\"color: #008000; text-decoration-color: #008000\">'ģ'</span>,\n",
              "    <span style=\"color: #008000; text-decoration-color: #008000\">'ï¸ı'</span>,\n",
              "    <span style=\"color: #008000; text-decoration-color: #008000\">'ðŁĳ'</span>,\n",
              "    <span style=\"color: #008000; text-decoration-color: #008000\">'ģ'</span>,\n",
              "    <span style=\"color: #008000; text-decoration-color: #008000\">'ï¸ı'</span>,\n",
              "    <span style=\"color: #008000; text-decoration-color: #008000\">'ðŁĳ'</span>,\n",
              "    <span style=\"color: #008000; text-decoration-color: #008000\">'ģ'</span>,\n",
              "    <span style=\"color: #008000; text-decoration-color: #008000\">'ï¸ı'</span>,\n",
              "    <span style=\"color: #008000; text-decoration-color: #008000\">'!!!'</span>\n",
              "<span style=\"font-weight: bold\">]</span>\n",
              "</pre>\n"
            ],
            "text/plain": [
              "\u001b[1m[\u001b[0m\n",
              "    \u001b[32m'Let'\u001b[0m,\n",
              "    \u001b[32m\"'s\"\u001b[0m,\n",
              "    \u001b[32m'Ġdo'\u001b[0m,\n",
              "    \u001b[32m'Ġthis'\u001b[0m,\n",
              "    \u001b[32m'Ġtoken'\u001b[0m,\n",
              "    \u001b[32m'ization'\u001b[0m,\n",
              "    \u001b[32m'Ġto'\u001b[0m,\n",
              "    \u001b[32m'Ġenable'\u001b[0m,\n",
              "    \u001b[32m'Ġhyper'\u001b[0m,\n",
              "    \u001b[32m'modern'\u001b[0m,\n",
              "    \u001b[32m'ization'\u001b[0m,\n",
              "    \u001b[32m'Ġon'\u001b[0m,\n",
              "    \u001b[32m'Ġmy'\u001b[0m,\n",
              "    \u001b[32m'Ġtokens'\u001b[0m,\n",
              "    \u001b[32m'Ġtoken'\u001b[0m,\n",
              "    \u001b[32m'ized'\u001b[0m,\n",
              "    \u001b[32m'ĠðŁĳ'\u001b[0m,\n",
              "    \u001b[32m'ģ'\u001b[0m,\n",
              "    \u001b[32m'ï¸ı'\u001b[0m,\n",
              "    \u001b[32m'ðŁĳ'\u001b[0m,\n",
              "    \u001b[32m'ģ'\u001b[0m,\n",
              "    \u001b[32m'ï¸ı'\u001b[0m,\n",
              "    \u001b[32m'ðŁĳ'\u001b[0m,\n",
              "    \u001b[32m'ģ'\u001b[0m,\n",
              "    \u001b[32m'ï¸ı'\u001b[0m,\n",
              "    \u001b[32m'!!!'\u001b[0m\n",
              "\u001b[1m]\u001b[0m\n"
            ]
          },
          "metadata": {},
          "output_type": "display_data"
        }
      ],
      "source": [
        "from transformers import GPT2Tokenizer\n",
        "\n",
        "bpe_tokenizer = GPT2Tokenizer.from_pretrained(\"gpt2\")\n",
        "rprint(bpe_tokenizer.tokenize(SENTENCE))"
      ]
    },
    {
      "cell_type": "code",
      "execution_count": null,
      "metadata": {
        "colab": {
          "base_uri": "https://localhost:8080/",
          "height": 491
        },
        "id": "2f3fb464-ee01-45ff-bdb5-1aab19934a33",
        "outputId": "d9a6458c-6260-4766-c729-3e25684603e6"
      },
      "outputs": [
        {
          "data": {
            "text/html": [
              "<pre style=\"white-space:pre;overflow-x:auto;line-height:normal;font-family:Menlo,'DejaVu Sans Mono',consolas,'Courier New',monospace\"><span style=\"font-weight: bold\">[</span>\n",
              "    <span style=\"color: #008080; text-decoration-color: #008080; font-weight: bold\">5756</span>,\n",
              "    <span style=\"color: #008080; text-decoration-color: #008080; font-weight: bold\">338</span>,\n",
              "    <span style=\"color: #008080; text-decoration-color: #008080; font-weight: bold\">466</span>,\n",
              "    <span style=\"color: #008080; text-decoration-color: #008080; font-weight: bold\">428</span>,\n",
              "    <span style=\"color: #008080; text-decoration-color: #008080; font-weight: bold\">11241</span>,\n",
              "    <span style=\"color: #008080; text-decoration-color: #008080; font-weight: bold\">1634</span>,\n",
              "    <span style=\"color: #008080; text-decoration-color: #008080; font-weight: bold\">284</span>,\n",
              "    <span style=\"color: #008080; text-decoration-color: #008080; font-weight: bold\">7139</span>,\n",
              "    <span style=\"color: #008080; text-decoration-color: #008080; font-weight: bold\">8718</span>,\n",
              "    <span style=\"color: #008080; text-decoration-color: #008080; font-weight: bold\">23922</span>,\n",
              "    <span style=\"color: #008080; text-decoration-color: #008080; font-weight: bold\">1634</span>,\n",
              "    <span style=\"color: #008080; text-decoration-color: #008080; font-weight: bold\">319</span>,\n",
              "    <span style=\"color: #008080; text-decoration-color: #008080; font-weight: bold\">616</span>,\n",
              "    <span style=\"color: #008080; text-decoration-color: #008080; font-weight: bold\">16326</span>,\n",
              "    <span style=\"color: #008080; text-decoration-color: #008080; font-weight: bold\">11241</span>,\n",
              "    <span style=\"color: #008080; text-decoration-color: #008080; font-weight: bold\">1143</span>,\n",
              "    <span style=\"color: #008080; text-decoration-color: #008080; font-weight: bold\">50169</span>,\n",
              "    <span style=\"color: #008080; text-decoration-color: #008080; font-weight: bold\">223</span>,\n",
              "    <span style=\"color: #008080; text-decoration-color: #008080; font-weight: bold\">37929</span>,\n",
              "    <span style=\"color: #008080; text-decoration-color: #008080; font-weight: bold\">41840</span>,\n",
              "    <span style=\"color: #008080; text-decoration-color: #008080; font-weight: bold\">223</span>,\n",
              "    <span style=\"color: #008080; text-decoration-color: #008080; font-weight: bold\">37929</span>,\n",
              "    <span style=\"color: #008080; text-decoration-color: #008080; font-weight: bold\">41840</span>,\n",
              "    <span style=\"color: #008080; text-decoration-color: #008080; font-weight: bold\">223</span>,\n",
              "    <span style=\"color: #008080; text-decoration-color: #008080; font-weight: bold\">37929</span>,\n",
              "    <span style=\"color: #008080; text-decoration-color: #008080; font-weight: bold\">10185</span>\n",
              "<span style=\"font-weight: bold\">]</span>\n",
              "</pre>\n"
            ],
            "text/plain": [
              "\u001b[1m[\u001b[0m\n",
              "    \u001b[1;36m5756\u001b[0m,\n",
              "    \u001b[1;36m338\u001b[0m,\n",
              "    \u001b[1;36m466\u001b[0m,\n",
              "    \u001b[1;36m428\u001b[0m,\n",
              "    \u001b[1;36m11241\u001b[0m,\n",
              "    \u001b[1;36m1634\u001b[0m,\n",
              "    \u001b[1;36m284\u001b[0m,\n",
              "    \u001b[1;36m7139\u001b[0m,\n",
              "    \u001b[1;36m8718\u001b[0m,\n",
              "    \u001b[1;36m23922\u001b[0m,\n",
              "    \u001b[1;36m1634\u001b[0m,\n",
              "    \u001b[1;36m319\u001b[0m,\n",
              "    \u001b[1;36m616\u001b[0m,\n",
              "    \u001b[1;36m16326\u001b[0m,\n",
              "    \u001b[1;36m11241\u001b[0m,\n",
              "    \u001b[1;36m1143\u001b[0m,\n",
              "    \u001b[1;36m50169\u001b[0m,\n",
              "    \u001b[1;36m223\u001b[0m,\n",
              "    \u001b[1;36m37929\u001b[0m,\n",
              "    \u001b[1;36m41840\u001b[0m,\n",
              "    \u001b[1;36m223\u001b[0m,\n",
              "    \u001b[1;36m37929\u001b[0m,\n",
              "    \u001b[1;36m41840\u001b[0m,\n",
              "    \u001b[1;36m223\u001b[0m,\n",
              "    \u001b[1;36m37929\u001b[0m,\n",
              "    \u001b[1;36m10185\u001b[0m\n",
              "\u001b[1m]\u001b[0m\n"
            ]
          },
          "metadata": {},
          "output_type": "display_data"
        }
      ],
      "source": [
        "encoded_tokens = bpe_tokenizer(SENTENCE)\n",
        "rprint(encoded_tokens[\"input_ids\"])"
      ]
    },
    {
      "cell_type": "code",
      "execution_count": null,
      "metadata": {
        "colab": {
          "base_uri": "https://localhost:8080/",
          "height": 34
        },
        "id": "0864645e-d3b4-47b2-a500-cccb81beb3fb",
        "outputId": "84efed11-ad89-4349-993a-ee7d13eb0143"
      },
      "outputs": [
        {
          "data": {
            "text/html": [
              "<pre style=\"white-space:pre;overflow-x:auto;line-height:normal;font-family:Menlo,'DejaVu Sans Mono',consolas,'Courier New',monospace\">Let's do this tokenization to enable hypermodernization on my tokens tokenized 👁️👁️👁️!!!\n",
              "</pre>\n"
            ],
            "text/plain": [
              "Let's do this tokenization to enable hypermodernization on my tokens tokenized 👁️👁️👁️!!!\n"
            ]
          },
          "metadata": {},
          "output_type": "display_data"
        }
      ],
      "source": [
        "rprint(bpe_tokenizer.decode(encoded_tokens[\"input_ids\"]))"
      ]
    },
    {
      "cell_type": "markdown",
      "metadata": {
        "id": "9a64c0f4-1f4d-4c5f-a875-f224040adc78"
      },
      "source": [
        "- En realidad GPT-2 usa *Byte-Level BPE*\n",
        "    - Evitamos vocabularios de inicio grandes (Ej: unicode)\n",
        "    - Usamos bytes como vocabulario base\n",
        "    - Evitamos *Out Of Vocabulary, OOV* (aka `[UKW]`)"
      ]
    },
    {
      "cell_type": "markdown",
      "metadata": {
        "id": "xnaxqfOHHdEo"
      },
      "source": [
        "#### WordPiece"
      ]
    },
    {
      "cell_type": "markdown",
      "metadata": {
        "id": "G_GezIRiHfdl"
      },
      "source": [
        "- Descrito en el paper: [Japanese and Korean voice search, (Schuster et al., 2012) ](https://static.googleusercontent.com/media/research.google.com/ja//pubs/archive/37842.pdf)\n",
        "- Similar a BPE, inicia el vocabulario con todos los caracteres y aprende los merges\n",
        "- En contraste con BPE, no elige con base en los pares más frecuentes si no los pares que maximicen la probabilidad de aparecer en los datos una vez que se agregan al vocabulario\n",
        "\n",
        "$$score(a_i,b_j) = \\frac{f(a_i,b_j)}{f(a_i)f(b_j)}$$\n",
        "\n",
        "- Esto quiere decir que evalua la perdida de realizar un *merge* asegurandoce que vale la pena hacerlo\n",
        "\n",
        "- Algoritmo usado en `BERT`"
      ]
    },
    {
      "cell_type": "code",
      "execution_count": null,
      "metadata": {
        "colab": {
          "base_uri": "https://localhost:8080/",
          "height": 524
        },
        "id": "PErrKfZ4Sjql",
        "outputId": "e9e1456b-2da6-4617-d3f1-6ffbecdacc41"
      },
      "outputs": [
        {
          "data": {
            "text/html": [
              "<iframe width=\"960\" height=\"500\" src=\"https://www.youtube.com/embed/qpv6ms_t_1A\"></iframe>\n"
            ],
            "text/plain": [
              "<IPython.core.display.HTML object>"
            ]
          },
          "metadata": {},
          "output_type": "display_data"
        }
      ],
      "source": [
        "%%HTML\n",
        "<iframe width=\"960\" height=\"500\" src=\"https://www.youtube.com/embed/qpv6ms_t_1A\"></iframe>"
      ]
    },
    {
      "cell_type": "code",
      "execution_count": null,
      "metadata": {
        "colab": {
          "base_uri": "https://localhost:8080/",
          "height": 585
        },
        "id": "R3GbJuV7A6be",
        "outputId": "26fa48d1-50fb-4586-a226-ea5da1cbff71"
      },
      "outputs": [
        {
          "data": {
            "application/vnd.jupyter.widget-view+json": {
              "model_id": "1a939c10206147f6aef80430ac9a4f21",
              "version_major": 2,
              "version_minor": 0
            },
            "text/plain": [
              "tokenizer_config.json:   0%|          | 0.00/48.0 [00:00<?, ?B/s]"
            ]
          },
          "metadata": {},
          "output_type": "display_data"
        },
        {
          "data": {
            "application/vnd.jupyter.widget-view+json": {
              "model_id": "76611db7e66e43cbbc74df3e44683e72",
              "version_major": 2,
              "version_minor": 0
            },
            "text/plain": [
              "vocab.txt:   0%|          | 0.00/232k [00:00<?, ?B/s]"
            ]
          },
          "metadata": {},
          "output_type": "display_data"
        },
        {
          "data": {
            "application/vnd.jupyter.widget-view+json": {
              "model_id": "d95687b2785c4474a5362e5c0d45a233",
              "version_major": 2,
              "version_minor": 0
            },
            "text/plain": [
              "tokenizer.json:   0%|          | 0.00/466k [00:00<?, ?B/s]"
            ]
          },
          "metadata": {},
          "output_type": "display_data"
        },
        {
          "data": {
            "application/vnd.jupyter.widget-view+json": {
              "model_id": "146fe189360f4733b671c0b06d50782d",
              "version_major": 2,
              "version_minor": 0
            },
            "text/plain": [
              "config.json:   0%|          | 0.00/570 [00:00<?, ?B/s]"
            ]
          },
          "metadata": {},
          "output_type": "display_data"
        },
        {
          "data": {
            "text/html": [
              "<pre style=\"white-space:pre;overflow-x:auto;line-height:normal;font-family:Menlo,'DejaVu Sans Mono',consolas,'Courier New',monospace\"><span style=\"font-weight: bold\">[</span>\n",
              "    <span style=\"color: #008000; text-decoration-color: #008000\">'[UNK]'</span>,\n",
              "    <span style=\"color: #008000; text-decoration-color: #008000\">\"'\"</span>,\n",
              "    <span style=\"color: #008000; text-decoration-color: #008000\">'s'</span>,\n",
              "    <span style=\"color: #008000; text-decoration-color: #008000\">'do'</span>,\n",
              "    <span style=\"color: #008000; text-decoration-color: #008000\">'this'</span>,\n",
              "    <span style=\"color: #008000; text-decoration-color: #008000\">'token'</span>,\n",
              "    <span style=\"color: #008000; text-decoration-color: #008000\">'##ization'</span>,\n",
              "    <span style=\"color: #008000; text-decoration-color: #008000\">'to'</span>,\n",
              "    <span style=\"color: #008000; text-decoration-color: #008000\">'enable'</span>,\n",
              "    <span style=\"color: #008000; text-decoration-color: #008000\">'hyper'</span>,\n",
              "    <span style=\"color: #008000; text-decoration-color: #008000\">'##mo'</span>,\n",
              "    <span style=\"color: #008000; text-decoration-color: #008000\">'##dern'</span>,\n",
              "    <span style=\"color: #008000; text-decoration-color: #008000\">'##ization'</span>,\n",
              "    <span style=\"color: #008000; text-decoration-color: #008000\">'on'</span>,\n",
              "    <span style=\"color: #008000; text-decoration-color: #008000\">'my'</span>,\n",
              "    <span style=\"color: #008000; text-decoration-color: #008000\">'token'</span>,\n",
              "    <span style=\"color: #008000; text-decoration-color: #008000\">'##s'</span>,\n",
              "    <span style=\"color: #008000; text-decoration-color: #008000\">'token'</span>,\n",
              "    <span style=\"color: #008000; text-decoration-color: #008000\">'##ized'</span>,\n",
              "    <span style=\"color: #008000; text-decoration-color: #008000\">'[UNK]'</span>,\n",
              "    <span style=\"color: #008000; text-decoration-color: #008000\">'!'</span>,\n",
              "    <span style=\"color: #008000; text-decoration-color: #008000\">'!'</span>,\n",
              "    <span style=\"color: #008000; text-decoration-color: #008000\">'!'</span>,\n",
              "    <span style=\"color: #008000; text-decoration-color: #008000\">'[UNK]'</span>\n",
              "<span style=\"font-weight: bold\">]</span>\n",
              "</pre>\n"
            ],
            "text/plain": [
              "\u001b[1m[\u001b[0m\n",
              "    \u001b[32m'\u001b[0m\u001b[32m[\u001b[0m\u001b[32mUNK\u001b[0m\u001b[32m]\u001b[0m\u001b[32m'\u001b[0m,\n",
              "    \u001b[32m\"'\"\u001b[0m,\n",
              "    \u001b[32m's'\u001b[0m,\n",
              "    \u001b[32m'do'\u001b[0m,\n",
              "    \u001b[32m'this'\u001b[0m,\n",
              "    \u001b[32m'token'\u001b[0m,\n",
              "    \u001b[32m'##ization'\u001b[0m,\n",
              "    \u001b[32m'to'\u001b[0m,\n",
              "    \u001b[32m'enable'\u001b[0m,\n",
              "    \u001b[32m'hyper'\u001b[0m,\n",
              "    \u001b[32m'##mo'\u001b[0m,\n",
              "    \u001b[32m'##dern'\u001b[0m,\n",
              "    \u001b[32m'##ization'\u001b[0m,\n",
              "    \u001b[32m'on'\u001b[0m,\n",
              "    \u001b[32m'my'\u001b[0m,\n",
              "    \u001b[32m'token'\u001b[0m,\n",
              "    \u001b[32m'##s'\u001b[0m,\n",
              "    \u001b[32m'token'\u001b[0m,\n",
              "    \u001b[32m'##ized'\u001b[0m,\n",
              "    \u001b[32m'\u001b[0m\u001b[32m[\u001b[0m\u001b[32mUNK\u001b[0m\u001b[32m]\u001b[0m\u001b[32m'\u001b[0m,\n",
              "    \u001b[32m'!'\u001b[0m,\n",
              "    \u001b[32m'!'\u001b[0m,\n",
              "    \u001b[32m'!'\u001b[0m,\n",
              "    \u001b[32m'\u001b[0m\u001b[32m[\u001b[0m\u001b[32mUNK\u001b[0m\u001b[32m]\u001b[0m\u001b[32m'\u001b[0m\n",
              "\u001b[1m]\u001b[0m\n"
            ]
          },
          "metadata": {},
          "output_type": "display_data"
        }
      ],
      "source": [
        "from transformers import BertTokenizer\n",
        "SENTENCE = \"🌽\" + SENTENCE + \"🔥\"\n",
        "wp_tokenizer = BertTokenizer.from_pretrained(\"bert-base-uncased\")\n",
        "rprint(wp_tokenizer.tokenize(SENTENCE))"
      ]
    },
    {
      "cell_type": "markdown",
      "metadata": {
        "id": "v2S-v6_IJiKH"
      },
      "source": [
        "<center><img src=\"https://us-tuna-sounds-images.voicemod.net/9cf541d2-dd7f-4c1c-ae37-8bc671c855fe-1665957161744.jpg\"></center>"
      ]
    },
    {
      "cell_type": "code",
      "execution_count": null,
      "metadata": {
        "colab": {
          "base_uri": "https://localhost:8080/",
          "height": 558
        },
        "id": "U_l1y4DDJvSq",
        "outputId": "0366950e-596b-4fc0-c8f1-05718c7ce7f6"
      },
      "outputs": [
        {
          "data": {
            "text/html": [
              "<pre style=\"white-space:pre;overflow-x:auto;line-height:normal;font-family:Menlo,'DejaVu Sans Mono',consolas,'Courier New',monospace\"><span style=\"font-weight: bold\">{</span>\n",
              "    <span style=\"color: #008000; text-decoration-color: #008000\">'input_ids'</span>: <span style=\"font-weight: bold\">[</span>\n",
              "        <span style=\"color: #008080; text-decoration-color: #008080; font-weight: bold\">101</span>,\n",
              "        <span style=\"color: #008080; text-decoration-color: #008080; font-weight: bold\">100</span>,\n",
              "        <span style=\"color: #008080; text-decoration-color: #008080; font-weight: bold\">1005</span>,\n",
              "        <span style=\"color: #008080; text-decoration-color: #008080; font-weight: bold\">1055</span>,\n",
              "        <span style=\"color: #008080; text-decoration-color: #008080; font-weight: bold\">2079</span>,\n",
              "        <span style=\"color: #008080; text-decoration-color: #008080; font-weight: bold\">2023</span>,\n",
              "        <span style=\"color: #008080; text-decoration-color: #008080; font-weight: bold\">19204</span>,\n",
              "        <span style=\"color: #008080; text-decoration-color: #008080; font-weight: bold\">3989</span>,\n",
              "        <span style=\"color: #008080; text-decoration-color: #008080; font-weight: bold\">2000</span>,\n",
              "        <span style=\"color: #008080; text-decoration-color: #008080; font-weight: bold\">9585</span>,\n",
              "        <span style=\"color: #008080; text-decoration-color: #008080; font-weight: bold\">23760</span>,\n",
              "        <span style=\"color: #008080; text-decoration-color: #008080; font-weight: bold\">5302</span>,\n",
              "        <span style=\"color: #008080; text-decoration-color: #008080; font-weight: bold\">25888</span>,\n",
              "        <span style=\"color: #008080; text-decoration-color: #008080; font-weight: bold\">3989</span>,\n",
              "        <span style=\"color: #008080; text-decoration-color: #008080; font-weight: bold\">2006</span>,\n",
              "        <span style=\"color: #008080; text-decoration-color: #008080; font-weight: bold\">2026</span>,\n",
              "        <span style=\"color: #008080; text-decoration-color: #008080; font-weight: bold\">19204</span>,\n",
              "        <span style=\"color: #008080; text-decoration-color: #008080; font-weight: bold\">2015</span>,\n",
              "        <span style=\"color: #008080; text-decoration-color: #008080; font-weight: bold\">19204</span>,\n",
              "        <span style=\"color: #008080; text-decoration-color: #008080; font-weight: bold\">3550</span>,\n",
              "        <span style=\"color: #008080; text-decoration-color: #008080; font-weight: bold\">100</span>,\n",
              "        <span style=\"color: #008080; text-decoration-color: #008080; font-weight: bold\">999</span>,\n",
              "        <span style=\"color: #008080; text-decoration-color: #008080; font-weight: bold\">999</span>,\n",
              "        <span style=\"color: #008080; text-decoration-color: #008080; font-weight: bold\">999</span>,\n",
              "        <span style=\"color: #008080; text-decoration-color: #008080; font-weight: bold\">100</span>,\n",
              "        <span style=\"color: #008080; text-decoration-color: #008080; font-weight: bold\">102</span>\n",
              "    <span style=\"font-weight: bold\">]</span>,\n",
              "    <span style=\"color: #008000; text-decoration-color: #008000\">'token_type_ids'</span>: <span style=\"font-weight: bold\">[</span><span style=\"color: #008080; text-decoration-color: #008080; font-weight: bold\">0</span>, <span style=\"color: #008080; text-decoration-color: #008080; font-weight: bold\">0</span>, <span style=\"color: #008080; text-decoration-color: #008080; font-weight: bold\">0</span>, <span style=\"color: #008080; text-decoration-color: #008080; font-weight: bold\">0</span>, <span style=\"color: #008080; text-decoration-color: #008080; font-weight: bold\">0</span>, <span style=\"color: #008080; text-decoration-color: #008080; font-weight: bold\">0</span>, <span style=\"color: #008080; text-decoration-color: #008080; font-weight: bold\">0</span>, <span style=\"color: #008080; text-decoration-color: #008080; font-weight: bold\">0</span>, <span style=\"color: #008080; text-decoration-color: #008080; font-weight: bold\">0</span>, <span style=\"color: #008080; text-decoration-color: #008080; font-weight: bold\">0</span>, <span style=\"color: #008080; text-decoration-color: #008080; font-weight: bold\">0</span>, <span style=\"color: #008080; text-decoration-color: #008080; font-weight: bold\">0</span>, <span style=\"color: #008080; text-decoration-color: #008080; font-weight: bold\">0</span>, <span style=\"color: #008080; text-decoration-color: #008080; font-weight: bold\">0</span>, <span style=\"color: #008080; text-decoration-color: #008080; font-weight: bold\">0</span>, <span style=\"color: #008080; text-decoration-color: #008080; font-weight: bold\">0</span>, <span style=\"color: #008080; text-decoration-color: #008080; font-weight: bold\">0</span>, <span style=\"color: #008080; text-decoration-color: #008080; font-weight: bold\">0</span>, <span style=\"color: #008080; text-decoration-color: #008080; font-weight: bold\">0</span>, <span style=\"color: #008080; text-decoration-color: #008080; font-weight: bold\">0</span>, <span style=\"color: #008080; text-decoration-color: #008080; font-weight: bold\">0</span>, <span style=\"color: #008080; text-decoration-color: #008080; font-weight: bold\">0</span>, <span style=\"color: #008080; text-decoration-color: #008080; font-weight: bold\">0</span>, <span style=\"color: #008080; text-decoration-color: #008080; font-weight: bold\">0</span>, <span style=\"color: #008080; text-decoration-color: #008080; font-weight: bold\">0</span>, <span style=\"color: #008080; text-decoration-color: #008080; font-weight: bold\">0</span><span style=\"font-weight: bold\">]</span>,\n",
              "    <span style=\"color: #008000; text-decoration-color: #008000\">'attention_mask'</span>: <span style=\"font-weight: bold\">[</span><span style=\"color: #008080; text-decoration-color: #008080; font-weight: bold\">1</span>, <span style=\"color: #008080; text-decoration-color: #008080; font-weight: bold\">1</span>, <span style=\"color: #008080; text-decoration-color: #008080; font-weight: bold\">1</span>, <span style=\"color: #008080; text-decoration-color: #008080; font-weight: bold\">1</span>, <span style=\"color: #008080; text-decoration-color: #008080; font-weight: bold\">1</span>, <span style=\"color: #008080; text-decoration-color: #008080; font-weight: bold\">1</span>, <span style=\"color: #008080; text-decoration-color: #008080; font-weight: bold\">1</span>, <span style=\"color: #008080; text-decoration-color: #008080; font-weight: bold\">1</span>, <span style=\"color: #008080; text-decoration-color: #008080; font-weight: bold\">1</span>, <span style=\"color: #008080; text-decoration-color: #008080; font-weight: bold\">1</span>, <span style=\"color: #008080; text-decoration-color: #008080; font-weight: bold\">1</span>, <span style=\"color: #008080; text-decoration-color: #008080; font-weight: bold\">1</span>, <span style=\"color: #008080; text-decoration-color: #008080; font-weight: bold\">1</span>, <span style=\"color: #008080; text-decoration-color: #008080; font-weight: bold\">1</span>, <span style=\"color: #008080; text-decoration-color: #008080; font-weight: bold\">1</span>, <span style=\"color: #008080; text-decoration-color: #008080; font-weight: bold\">1</span>, <span style=\"color: #008080; text-decoration-color: #008080; font-weight: bold\">1</span>, <span style=\"color: #008080; text-decoration-color: #008080; font-weight: bold\">1</span>, <span style=\"color: #008080; text-decoration-color: #008080; font-weight: bold\">1</span>, <span style=\"color: #008080; text-decoration-color: #008080; font-weight: bold\">1</span>, <span style=\"color: #008080; text-decoration-color: #008080; font-weight: bold\">1</span>, <span style=\"color: #008080; text-decoration-color: #008080; font-weight: bold\">1</span>, <span style=\"color: #008080; text-decoration-color: #008080; font-weight: bold\">1</span>, <span style=\"color: #008080; text-decoration-color: #008080; font-weight: bold\">1</span>, <span style=\"color: #008080; text-decoration-color: #008080; font-weight: bold\">1</span>, <span style=\"color: #008080; text-decoration-color: #008080; font-weight: bold\">1</span><span style=\"font-weight: bold\">]</span>\n",
              "<span style=\"font-weight: bold\">}</span>\n",
              "</pre>\n"
            ],
            "text/plain": [
              "\u001b[1m{\u001b[0m\n",
              "    \u001b[32m'input_ids'\u001b[0m: \u001b[1m[\u001b[0m\n",
              "        \u001b[1;36m101\u001b[0m,\n",
              "        \u001b[1;36m100\u001b[0m,\n",
              "        \u001b[1;36m1005\u001b[0m,\n",
              "        \u001b[1;36m1055\u001b[0m,\n",
              "        \u001b[1;36m2079\u001b[0m,\n",
              "        \u001b[1;36m2023\u001b[0m,\n",
              "        \u001b[1;36m19204\u001b[0m,\n",
              "        \u001b[1;36m3989\u001b[0m,\n",
              "        \u001b[1;36m2000\u001b[0m,\n",
              "        \u001b[1;36m9585\u001b[0m,\n",
              "        \u001b[1;36m23760\u001b[0m,\n",
              "        \u001b[1;36m5302\u001b[0m,\n",
              "        \u001b[1;36m25888\u001b[0m,\n",
              "        \u001b[1;36m3989\u001b[0m,\n",
              "        \u001b[1;36m2006\u001b[0m,\n",
              "        \u001b[1;36m2026\u001b[0m,\n",
              "        \u001b[1;36m19204\u001b[0m,\n",
              "        \u001b[1;36m2015\u001b[0m,\n",
              "        \u001b[1;36m19204\u001b[0m,\n",
              "        \u001b[1;36m3550\u001b[0m,\n",
              "        \u001b[1;36m100\u001b[0m,\n",
              "        \u001b[1;36m999\u001b[0m,\n",
              "        \u001b[1;36m999\u001b[0m,\n",
              "        \u001b[1;36m999\u001b[0m,\n",
              "        \u001b[1;36m100\u001b[0m,\n",
              "        \u001b[1;36m102\u001b[0m\n",
              "    \u001b[1m]\u001b[0m,\n",
              "    \u001b[32m'token_type_ids'\u001b[0m: \u001b[1m[\u001b[0m\u001b[1;36m0\u001b[0m, \u001b[1;36m0\u001b[0m, \u001b[1;36m0\u001b[0m, \u001b[1;36m0\u001b[0m, \u001b[1;36m0\u001b[0m, \u001b[1;36m0\u001b[0m, \u001b[1;36m0\u001b[0m, \u001b[1;36m0\u001b[0m, \u001b[1;36m0\u001b[0m, \u001b[1;36m0\u001b[0m, \u001b[1;36m0\u001b[0m, \u001b[1;36m0\u001b[0m, \u001b[1;36m0\u001b[0m, \u001b[1;36m0\u001b[0m, \u001b[1;36m0\u001b[0m, \u001b[1;36m0\u001b[0m, \u001b[1;36m0\u001b[0m, \u001b[1;36m0\u001b[0m, \u001b[1;36m0\u001b[0m, \u001b[1;36m0\u001b[0m, \u001b[1;36m0\u001b[0m, \u001b[1;36m0\u001b[0m, \u001b[1;36m0\u001b[0m, \u001b[1;36m0\u001b[0m, \u001b[1;36m0\u001b[0m, \u001b[1;36m0\u001b[0m\u001b[1m]\u001b[0m,\n",
              "    \u001b[32m'attention_mask'\u001b[0m: \u001b[1m[\u001b[0m\u001b[1;36m1\u001b[0m, \u001b[1;36m1\u001b[0m, \u001b[1;36m1\u001b[0m, \u001b[1;36m1\u001b[0m, \u001b[1;36m1\u001b[0m, \u001b[1;36m1\u001b[0m, \u001b[1;36m1\u001b[0m, \u001b[1;36m1\u001b[0m, \u001b[1;36m1\u001b[0m, \u001b[1;36m1\u001b[0m, \u001b[1;36m1\u001b[0m, \u001b[1;36m1\u001b[0m, \u001b[1;36m1\u001b[0m, \u001b[1;36m1\u001b[0m, \u001b[1;36m1\u001b[0m, \u001b[1;36m1\u001b[0m, \u001b[1;36m1\u001b[0m, \u001b[1;36m1\u001b[0m, \u001b[1;36m1\u001b[0m, \u001b[1;36m1\u001b[0m, \u001b[1;36m1\u001b[0m, \u001b[1;36m1\u001b[0m, \u001b[1;36m1\u001b[0m, \u001b[1;36m1\u001b[0m, \u001b[1;36m1\u001b[0m, \u001b[1;36m1\u001b[0m\u001b[1m]\u001b[0m\n",
              "\u001b[1m}\u001b[0m\n"
            ]
          },
          "metadata": {},
          "output_type": "display_data"
        }
      ],
      "source": [
        "rprint(wp_tokenizer(SENTENCE))"
      ]
    },
    {
      "cell_type": "markdown",
      "metadata": {
        "id": "LsnetsJ-gWHM"
      },
      "source": [
        "#### Unigram"
      ]
    },
    {
      "cell_type": "markdown",
      "metadata": {
        "id": "JKia-OlqgYTn"
      },
      "source": [
        "- Algoritmo de subpword tokenization introducido en el paper: [Subword Regularization: Improving Neural Network Translation Models with Multiple Subword Candidates (Kudo, 2018)](https://arxiv.org/pdf/1804.10959.pdf)\n",
        "- En contraste con BPE o WordPiece, este algoritmo inicia con un vocabulario muy grande y va reduciendolo hasta llegar tener un vocabulario deseado\n",
        "- En cada iteración se calcula la perdida de quitar cierto elemento del vocabulario\n",
        "    - Se quitará `p%` elementos que menos aumenten la perdida en esa iteración\n",
        "- El algoritmo termina cuando se alcanza el tamaño deseado del vocabulario"
      ]
    },
    {
      "cell_type": "markdown",
      "metadata": {
        "id": "eqS3rQ56z7oW"
      },
      "source": [
        "Sin embargo, *Unigram* no se usa por si mismo en algun modelo de Hugging Face:\n",
        "> \"Unigram is not used directly for any of the models in the transformers, but it’s used in conjunction with SentencePiece.\" - Hugging face guy"
      ]
    },
    {
      "cell_type": "markdown",
      "metadata": {
        "id": "oaIJpqsY0Hj5"
      },
      "source": [
        "#### SentencePiece\n"
      ]
    },
    {
      "cell_type": "markdown",
      "metadata": {
        "id": "2Hu7plAT0MFz"
      },
      "source": [
        "- No asume que las palabras estan divididas por espacios\n",
        "- Trata la entrada de texto como un *stream* de datos crudos. Esto incluye al espacio como un caractér a usar\n",
        "- Utiliza BPE o Unigram para construir el vocabulario"
      ]
    },
    {
      "cell_type": "code",
      "execution_count": null,
      "metadata": {
        "colab": {
          "base_uri": "https://localhost:8080/"
        },
        "id": "AaDOAL3K0wjI",
        "outputId": "c6876e35-113f-4028-bbd3-94aa62139298"
      },
      "outputs": [
        {
          "name": "stdout",
          "output_type": "stream",
          "text": [
            "Requirement already satisfied: sentencepiece in /usr/local/lib/python3.11/dist-packages (0.2.0)\n"
          ]
        }
      ],
      "source": [
        "# https://github.com/google/sentencepiece#installation\n",
        "!pip install sentencepiece"
      ]
    },
    {
      "cell_type": "code",
      "execution_count": null,
      "metadata": {
        "colab": {
          "base_uri": "https://localhost:8080/",
          "height": 553
        },
        "id": "S_C5ypqsy81u",
        "outputId": "1c99b61a-5305-40a3-9be2-0e081e111c46"
      },
      "outputs": [
        {
          "data": {
            "application/vnd.jupyter.widget-view+json": {
              "model_id": "8ab9de1f94934d4eb34de5cfe9e7ef86",
              "version_major": 2,
              "version_minor": 0
            },
            "text/plain": [
              "spiece.model:   0%|          | 0.00/798k [00:00<?, ?B/s]"
            ]
          },
          "metadata": {},
          "output_type": "display_data"
        },
        {
          "data": {
            "application/vnd.jupyter.widget-view+json": {
              "model_id": "5e39fd09aee04a358a1c684c2c0a7443",
              "version_major": 2,
              "version_minor": 0
            },
            "text/plain": [
              "tokenizer.json:   0%|          | 0.00/1.38M [00:00<?, ?B/s]"
            ]
          },
          "metadata": {},
          "output_type": "display_data"
        },
        {
          "data": {
            "application/vnd.jupyter.widget-view+json": {
              "model_id": "a901e427e2684f5aa10c991c4b84b10a",
              "version_major": 2,
              "version_minor": 0
            },
            "text/plain": [
              "config.json:   0%|          | 0.00/760 [00:00<?, ?B/s]"
            ]
          },
          "metadata": {},
          "output_type": "display_data"
        },
        {
          "data": {
            "text/html": [
              "<pre style=\"white-space:pre;overflow-x:auto;line-height:normal;font-family:Menlo,'DejaVu Sans Mono',consolas,'Courier New',monospace\"><span style=\"font-weight: bold\">[</span>\n",
              "    <span style=\"color: #008000; text-decoration-color: #008000\">'▁'</span>,\n",
              "    <span style=\"color: #008000; text-decoration-color: #008000\">'🌽'</span>,\n",
              "    <span style=\"color: #008000; text-decoration-color: #008000\">'Let'</span>,\n",
              "    <span style=\"color: #008000; text-decoration-color: #008000\">\"'\"</span>,\n",
              "    <span style=\"color: #008000; text-decoration-color: #008000\">'s'</span>,\n",
              "    <span style=\"color: #008000; text-decoration-color: #008000\">'▁do'</span>,\n",
              "    <span style=\"color: #008000; text-decoration-color: #008000\">'▁this'</span>,\n",
              "    <span style=\"color: #008000; text-decoration-color: #008000\">'▁token'</span>,\n",
              "    <span style=\"color: #008000; text-decoration-color: #008000\">'ization'</span>,\n",
              "    <span style=\"color: #008000; text-decoration-color: #008000\">'▁to'</span>,\n",
              "    <span style=\"color: #008000; text-decoration-color: #008000\">'▁enable'</span>,\n",
              "    <span style=\"color: #008000; text-decoration-color: #008000\">'▁hyper'</span>,\n",
              "    <span style=\"color: #008000; text-decoration-color: #008000\">'modern'</span>,\n",
              "    <span style=\"color: #008000; text-decoration-color: #008000\">'ization'</span>,\n",
              "    <span style=\"color: #008000; text-decoration-color: #008000\">'▁on'</span>,\n",
              "    <span style=\"color: #008000; text-decoration-color: #008000\">'▁my'</span>,\n",
              "    <span style=\"color: #008000; text-decoration-color: #008000\">'▁token'</span>,\n",
              "    <span style=\"color: #008000; text-decoration-color: #008000\">'s'</span>,\n",
              "    <span style=\"color: #008000; text-decoration-color: #008000\">'▁token'</span>,\n",
              "    <span style=\"color: #008000; text-decoration-color: #008000\">'ized'</span>,\n",
              "    <span style=\"color: #008000; text-decoration-color: #008000\">'▁'</span>,\n",
              "    <span style=\"color: #008000; text-decoration-color: #008000\">'👁️👁️👁️'</span>,\n",
              "    <span style=\"color: #008000; text-decoration-color: #008000\">'!!!'</span>,\n",
              "    <span style=\"color: #008000; text-decoration-color: #008000\">'🔥'</span>\n",
              "<span style=\"font-weight: bold\">]</span>\n",
              "</pre>\n"
            ],
            "text/plain": [
              "\u001b[1m[\u001b[0m\n",
              "    \u001b[32m'▁'\u001b[0m,\n",
              "    \u001b[32m'🌽'\u001b[0m,\n",
              "    \u001b[32m'Let'\u001b[0m,\n",
              "    \u001b[32m\"'\"\u001b[0m,\n",
              "    \u001b[32m's'\u001b[0m,\n",
              "    \u001b[32m'▁do'\u001b[0m,\n",
              "    \u001b[32m'▁this'\u001b[0m,\n",
              "    \u001b[32m'▁token'\u001b[0m,\n",
              "    \u001b[32m'ization'\u001b[0m,\n",
              "    \u001b[32m'▁to'\u001b[0m,\n",
              "    \u001b[32m'▁enable'\u001b[0m,\n",
              "    \u001b[32m'▁hyper'\u001b[0m,\n",
              "    \u001b[32m'modern'\u001b[0m,\n",
              "    \u001b[32m'ization'\u001b[0m,\n",
              "    \u001b[32m'▁on'\u001b[0m,\n",
              "    \u001b[32m'▁my'\u001b[0m,\n",
              "    \u001b[32m'▁token'\u001b[0m,\n",
              "    \u001b[32m's'\u001b[0m,\n",
              "    \u001b[32m'▁token'\u001b[0m,\n",
              "    \u001b[32m'ized'\u001b[0m,\n",
              "    \u001b[32m'▁'\u001b[0m,\n",
              "    \u001b[32m'👁️👁️👁️'\u001b[0m,\n",
              "    \u001b[32m'!!!'\u001b[0m,\n",
              "    \u001b[32m'🔥'\u001b[0m\n",
              "\u001b[1m]\u001b[0m\n"
            ]
          },
          "metadata": {},
          "output_type": "display_data"
        }
      ],
      "source": [
        "from transformers import XLNetTokenizer\n",
        "\n",
        "tokenizer = XLNetTokenizer.from_pretrained(\"xlnet-base-cased\")\n",
        "rprint(tokenizer.tokenize(SENTENCE))"
      ]
    },
    {
      "cell_type": "markdown",
      "metadata": {
        "id": "83b76a7c-7e2a-45a8-b476-24ec118cd4d1"
      },
      "source": [
        "#### Objetivo de los subword tokenizers\n"
      ]
    },
    {
      "cell_type": "markdown",
      "metadata": {
        "id": "8b7bc0fd-87ce-45a7-9506-e4d2c37acdb2"
      },
      "source": [
        "- Buscamos que modelos de redes neuronales tenga datos mas frecuentes\n",
        "- Esto ayuda a que en principio \"aprendan\" mejor\n",
        "- Reducir el numero de tipos\n",
        "- Reducir el numero de OOV"
      ]
    },
    {
      "cell_type": "markdown",
      "metadata": {
        "id": "20c87515-a421-4c3e-8e33-96b53fd46234"
      },
      "source": [
        "### Vamos a tokenizar 🌈\n",
        "![](https://i.pinimg.com/736x/58/6b/88/586b8825f010ce0e3f9c831f568aafa8.jpg)"
      ]
    },
    {
      "cell_type": "markdown",
      "metadata": {
        "id": "Zzmt8bXwDE58"
      },
      "source": [
        "#### Corpus en español: CESS"
      ]
    },
    {
      "cell_type": "code",
      "execution_count": null,
      "metadata": {
        "colab": {
          "base_uri": "https://localhost:8080/"
        },
        "id": "VCXtaN9fRBCn",
        "outputId": "6f3f1af1-e6e8-4c28-a763-dc2e6a0cc0e9"
      },
      "outputs": [
        {
          "name": "stderr",
          "output_type": "stream",
          "text": [
            "[nltk_data] Downloading package cess_esp to /root/nltk_data...\n",
            "[nltk_data]   Unzipping corpora/cess_esp.zip.\n"
          ]
        },
        {
          "data": {
            "text/plain": [
              "True"
            ]
          },
          "execution_count": 44,
          "metadata": {},
          "output_type": "execute_result"
        }
      ],
      "source": [
        "nltk.download(\"cess_esp\")"
      ]
    },
    {
      "cell_type": "code",
      "execution_count": null,
      "metadata": {
        "id": "DtnmYlySQsFE"
      },
      "outputs": [],
      "source": [
        "from nltk.corpus import cess_esp\n",
        "\n",
        "cess_words = cess_esp.words()"
      ]
    },
    {
      "cell_type": "code",
      "execution_count": null,
      "metadata": {
        "colab": {
          "base_uri": "https://localhost:8080/",
          "height": 52
        },
        "id": "hwD7sbnU64e1",
        "outputId": "ca268e4b-30cb-4285-efe9-6fc30b3d4504"
      },
      "outputs": [
        {
          "data": {
            "application/vnd.google.colaboratory.intrinsic+json": {
              "type": "string"
            },
            "text/plain": [
              "'El grupo estatal Electricité_de_France -Fpa- EDF -Fpt- anunció hoy , jueves , la compra del 51_por_ciento de la empresa mexicana Electricidad_Águila_de_Altamira -Fpa- EAA -Fpt- , creada por el japonés Mitsubishi_Corporation'"
            ]
          },
          "execution_count": 47,
          "metadata": {},
          "output_type": "execute_result"
        }
      ],
      "source": [
        "\" \".join(cess_words[:30])"
      ]
    },
    {
      "cell_type": "code",
      "execution_count": null,
      "metadata": {
        "id": "xbanfyLMSeq1"
      },
      "outputs": [],
      "source": [
        "cess_plain_text = \" \".join(preprocess(cess_words))"
      ]
    },
    {
      "cell_type": "code",
      "execution_count": null,
      "metadata": {
        "colab": {
          "base_uri": "https://localhost:8080/",
          "height": 68
        },
        "id": "8ojFGeSCTlmj",
        "outputId": "f4cb7d77-828d-4445-ffe4-47e07292abf6"
      },
      "outputs": [
        {
          "data": {
            "text/html": [
              "<pre style=\"white-space:pre;overflow-x:auto;line-height:normal;font-family:Menlo,'DejaVu Sans Mono',consolas,'Courier New',monospace\"><span style=\"color: #008000; text-decoration-color: #008000\">'ble principal en una central de ciclo combinado que debe empezar a funcionar en la electricidad producida pasará a</span>\n",
              "<span style=\"color: #008000; text-decoration-color: #008000\">la red eléctrica pública de méxico un acuerdo de venta de energía de eaa con la fpa cfe fpt por una duración de </span>\n",
              "<span style=\"color: #008000; text-decoration-color: #008000\">años edf que no quiso revelar cuánto pagó por su participación mayoritari'</span>\n",
              "</pre>\n"
            ],
            "text/plain": [
              "\u001b[32m'ble principal en una central de ciclo combinado que debe empezar a funcionar en la electricidad producida pasará a\u001b[0m\n",
              "\u001b[32mla red eléctrica pública de méxico un acuerdo de venta de energía de eaa con la fpa cfe fpt por una duración de \u001b[0m\n",
              "\u001b[32maños edf que no quiso revelar cuánto pagó por su participación mayoritari'\u001b[0m\n"
            ]
          },
          "metadata": {},
          "output_type": "display_data"
        }
      ],
      "source": [
        "rprint(f\"'{cess_plain_text[300:600]}'\")"
      ]
    },
    {
      "cell_type": "code",
      "execution_count": null,
      "metadata": {
        "id": "UT8A4jHkSjqn"
      },
      "outputs": [],
      "source": [
        "cess_preprocessed_words = cess_plain_text.split()"
      ]
    },
    {
      "cell_type": "code",
      "execution_count": null,
      "metadata": {
        "id": "Pd4s_rqT3Goi"
      },
      "outputs": [],
      "source": [
        "with open(f\"{CORPORA_PATH}/cess_plain.txt\", \"w\") as f:\n",
        "    f.write(cess_plain_text)"
      ]
    },
    {
      "cell_type": "markdown",
      "metadata": {
        "id": "cb1e486a-4bdf-4dc0-9adf-9e75b76054fe"
      },
      "source": [
        "#### Corpus Inglés: Gutenberg"
      ]
    },
    {
      "cell_type": "code",
      "execution_count": null,
      "metadata": {
        "colab": {
          "base_uri": "https://localhost:8080/"
        },
        "id": "QPstlJ20UkbE",
        "outputId": "9f4ee1b8-b38c-4c66-f46b-44e71c31fbf2"
      },
      "outputs": [
        {
          "name": "stderr",
          "output_type": "stream",
          "text": [
            "[nltk_data] Downloading package gutenberg to /root/nltk_data...\n",
            "[nltk_data]   Unzipping corpora/gutenberg.zip.\n",
            "[nltk_data] Downloading package punkt_tab to /root/nltk_data...\n",
            "[nltk_data]   Unzipping tokenizers/punkt_tab.zip.\n"
          ]
        },
        {
          "data": {
            "text/plain": [
              "True"
            ]
          },
          "execution_count": 52,
          "metadata": {},
          "output_type": "execute_result"
        }
      ],
      "source": [
        "nltk.download('gutenberg')\n",
        "nltk.download(\"punkt_tab\")"
      ]
    },
    {
      "cell_type": "code",
      "execution_count": null,
      "metadata": {
        "id": "DcDTJyKYQLSJ"
      },
      "outputs": [],
      "source": [
        "from nltk.corpus import gutenberg\n",
        "\n",
        "gutenberg_words = gutenberg.words()[:200000]"
      ]
    },
    {
      "cell_type": "code",
      "execution_count": null,
      "metadata": {
        "colab": {
          "base_uri": "https://localhost:8080/",
          "height": 51
        },
        "id": "whJVXnEDSjqo",
        "outputId": "530e5f30-b50a-4a63-f023-167d0c6269cf"
      },
      "outputs": [
        {
          "data": {
            "text/html": [
              "<pre style=\"white-space:pre;overflow-x:auto;line-height:normal;font-family:Menlo,'DejaVu Sans Mono',consolas,'Courier New',monospace\"><span style=\"font-weight: bold\">[</span> Emma by Jane Austen <span style=\"color: #008080; text-decoration-color: #008080; font-weight: bold\">1816</span> <span style=\"font-weight: bold\">]</span> VOLUME I CHAPTER I Emma Woodhouse , handsome , clever , and rich , with a comfortable \n",
              "home and happy disposition , seemed\n",
              "</pre>\n"
            ],
            "text/plain": [
              "\u001b[1m[\u001b[0m Emma by Jane Austen \u001b[1;36m1816\u001b[0m \u001b[1m]\u001b[0m VOLUME I CHAPTER I Emma Woodhouse , handsome , clever , and rich , with a comfortable \n",
              "home and happy disposition , seemed\n"
            ]
          },
          "metadata": {},
          "output_type": "display_data"
        }
      ],
      "source": [
        "rprint(\" \".join(gutenberg_words[:30]))"
      ]
    },
    {
      "cell_type": "code",
      "execution_count": null,
      "metadata": {
        "colab": {
          "base_uri": "https://localhost:8080/",
          "height": 34
        },
        "id": "2d6v-OL8Sjqo",
        "outputId": "c8e5539c-9ea2-4147-f76f-c86b20fcd61a"
      },
      "outputs": [
        {
          "data": {
            "text/html": [
              "<pre style=\"white-space:pre;overflow-x:auto;line-height:normal;font-family:Menlo,'DejaVu Sans Mono',consolas,'Courier New',monospace\">emma by jane austen volume i chapter i emma woodhouse handsome clever and rich with a comfortable ho\n",
              "</pre>\n"
            ],
            "text/plain": [
              "emma by jane austen volume i chapter i emma woodhouse handsome clever and rich with a comfortable ho\n"
            ]
          },
          "metadata": {},
          "output_type": "display_data"
        }
      ],
      "source": [
        "gutenberg_plain_text = \" \".join(preprocess(gutenberg_words))\n",
        "\n",
        "rprint(gutenberg_plain_text[:100])"
      ]
    },
    {
      "cell_type": "code",
      "execution_count": null,
      "metadata": {
        "id": "rnhKdzStSjqo"
      },
      "outputs": [],
      "source": [
        "gutenberg_preprocessed_words = gutenberg_plain_text.split()"
      ]
    },
    {
      "cell_type": "code",
      "execution_count": null,
      "metadata": {
        "id": "viLIGIJ1Sjqo"
      },
      "outputs": [],
      "source": [
        "with open(f\"{CORPORA_PATH}/gutenberg_plain.txt\", \"w\") as f:\n",
        "    f.write(gutenberg_plain_text)"
      ]
    },
    {
      "cell_type": "markdown",
      "metadata": {
        "id": "y7ojemCtVEwE"
      },
      "source": [
        "#### Tokenizando el español con Hugging face"
      ]
    },
    {
      "cell_type": "code",
      "execution_count": null,
      "metadata": {
        "colab": {
          "base_uri": "https://localhost:8080/",
          "height": 1000
        },
        "id": "-MHPlfhUVHl0",
        "outputId": "84fb54e0-6f64-4b84-cb2f-6b9e947e74b7"
      },
      "outputs": [
        {
          "data": {
            "application/vnd.jupyter.widget-view+json": {
              "model_id": "b256f5aef3534b7aad1390a6d2cae73e",
              "version_major": 2,
              "version_minor": 0
            },
            "text/plain": [
              "tokenizer_config.json:   0%|          | 0.00/310 [00:00<?, ?B/s]"
            ]
          },
          "metadata": {},
          "output_type": "display_data"
        },
        {
          "data": {
            "application/vnd.jupyter.widget-view+json": {
              "model_id": "5ce2ef4dfaac4b6e91a18f48985a5820",
              "version_major": 2,
              "version_minor": 0
            },
            "text/plain": [
              "config.json:   0%|          | 0.00/650 [00:00<?, ?B/s]"
            ]
          },
          "metadata": {},
          "output_type": "display_data"
        },
        {
          "data": {
            "application/vnd.jupyter.widget-view+json": {
              "model_id": "499f22254bf0416cb0f2c859e741d233",
              "version_major": 2,
              "version_minor": 0
            },
            "text/plain": [
              "vocab.txt:   0%|          | 0.00/248k [00:00<?, ?B/s]"
            ]
          },
          "metadata": {},
          "output_type": "display_data"
        },
        {
          "data": {
            "application/vnd.jupyter.widget-view+json": {
              "model_id": "a7f7977bbd424a5186771c934b4c21de",
              "version_major": 2,
              "version_minor": 0
            },
            "text/plain": [
              "tokenizer.json:   0%|          | 0.00/486k [00:00<?, ?B/s]"
            ]
          },
          "metadata": {},
          "output_type": "display_data"
        },
        {
          "data": {
            "application/vnd.jupyter.widget-view+json": {
              "model_id": "80cc23a3cdbe4a0c9ee91b824e11181c",
              "version_major": 2,
              "version_minor": 0
            },
            "text/plain": [
              "special_tokens_map.json:   0%|          | 0.00/134 [00:00<?, ?B/s]"
            ]
          },
          "metadata": {},
          "output_type": "display_data"
        },
        {
          "data": {
            "text/html": [
              "<pre style=\"white-space:pre;overflow-x:auto;line-height:normal;font-family:Menlo,'DejaVu Sans Mono',consolas,'Courier New',monospace\"><span style=\"font-weight: bold\">[</span>\n",
              "    <span style=\"color: #008000; text-decoration-color: #008000\">'de'</span>,\n",
              "    <span style=\"color: #008000; text-decoration-color: #008000\">'dólares'</span>,\n",
              "    <span style=\"color: #008000; text-decoration-color: #008000\">'fp'</span>,\n",
              "    <span style=\"color: #008000; text-decoration-color: #008000\">'##t'</span>,\n",
              "    <span style=\"color: #008000; text-decoration-color: #008000\">'en'</span>,\n",
              "    <span style=\"color: #008000; text-decoration-color: #008000\">'la'</span>,\n",
              "    <span style=\"color: #008000; text-decoration-color: #008000\">'central'</span>,\n",
              "    <span style=\"color: #008000; text-decoration-color: #008000\">'de'</span>,\n",
              "    <span style=\"color: #008000; text-decoration-color: #008000\">'con'</span>,\n",
              "    <span style=\"color: #008000; text-decoration-color: #008000\">'una'</span>,\n",
              "    <span style=\"color: #008000; text-decoration-color: #008000\">'potencia'</span>,\n",
              "    <span style=\"color: #008000; text-decoration-color: #008000\">'de'</span>,\n",
              "    <span style=\"color: #008000; text-decoration-color: #008000\">'mega'</span>,\n",
              "    <span style=\"color: #008000; text-decoration-color: #008000\">'##va'</span>,\n",
              "    <span style=\"color: #008000; text-decoration-color: #008000\">'##tios'</span>,\n",
              "    <span style=\"color: #008000; text-decoration-color: #008000\">'y'</span>,\n",
              "    <span style=\"color: #008000; text-decoration-color: #008000\">'millones'</span>,\n",
              "    <span style=\"color: #008000; text-decoration-color: #008000\">'de'</span>,\n",
              "    <span style=\"color: #008000; text-decoration-color: #008000\">'euros'</span>,\n",
              "    <span style=\"color: #008000; text-decoration-color: #008000\">'fp'</span>,\n",
              "    <span style=\"color: #008000; text-decoration-color: #008000\">'##a'</span>,\n",
              "    <span style=\"color: #008000; text-decoration-color: #008000\">'millones'</span>,\n",
              "    <span style=\"color: #008000; text-decoration-color: #008000\">'de'</span>,\n",
              "    <span style=\"color: #008000; text-decoration-color: #008000\">'dólares'</span>,\n",
              "    <span style=\"color: #008000; text-decoration-color: #008000\">'fp'</span>,\n",
              "    <span style=\"color: #008000; text-decoration-color: #008000\">'##t'</span>,\n",
              "    <span style=\"color: #008000; text-decoration-color: #008000\">'en'</span>,\n",
              "    <span style=\"color: #008000; text-decoration-color: #008000\">'sal'</span>,\n",
              "    <span style=\"color: #008000; text-decoration-color: #008000\">'##tillo'</span>,\n",
              "    <span style=\"color: #008000; text-decoration-color: #008000\">'que'</span>,\n",
              "    <span style=\"color: #008000; text-decoration-color: #008000\">'como'</span>,\n",
              "    <span style=\"color: #008000; text-decoration-color: #008000\">'la'</span>,\n",
              "    <span style=\"color: #008000; text-decoration-color: #008000\">'primera'</span>,\n",
              "    <span style=\"color: #008000; text-decoration-color: #008000\">'funcionará'</span>,\n",
              "    <span style=\"color: #008000; text-decoration-color: #008000\">'con'</span>,\n",
              "    <span style=\"color: #008000; text-decoration-color: #008000\">'gas'</span>,\n",
              "    <span style=\"color: #008000; text-decoration-color: #008000\">'natural'</span>,\n",
              "    <span style=\"color: #008000; text-decoration-color: #008000\">'y'</span>,\n",
              "    <span style=\"color: #008000; text-decoration-color: #008000\">'cuya'</span>,\n",
              "    <span style=\"color: #008000; text-decoration-color: #008000\">'potencia'</span>,\n",
              "    <span style=\"color: #008000; text-decoration-color: #008000\">'prevista'</span>,\n",
              "    <span style=\"color: #008000; text-decoration-color: #008000\">'es'</span>,\n",
              "    <span style=\"color: #008000; text-decoration-color: #008000\">'de'</span>,\n",
              "    <span style=\"color: #008000; text-decoration-color: #008000\">'mega'</span>,\n",
              "    <span style=\"color: #008000; text-decoration-color: #008000\">'##va'</span>,\n",
              "    <span style=\"color: #008000; text-decoration-color: #008000\">'##tios'</span>,\n",
              "    <span style=\"color: #008000; text-decoration-color: #008000\">'la'</span>,\n",
              "    <span style=\"color: #008000; text-decoration-color: #008000\">'alcaldes'</span>,\n",
              "    <span style=\"color: #008000; text-decoration-color: #008000\">'##a'</span>,\n",
              "    <span style=\"color: #008000; text-decoration-color: #008000\">'de'</span>,\n",
              "    <span style=\"color: #008000; text-decoration-color: #008000\">'málaga'</span>,\n",
              "    <span style=\"color: #008000; text-decoration-color: #008000\">'y'</span>,\n",
              "    <span style=\"color: #008000; text-decoration-color: #008000\">'cabeza'</span>,\n",
              "    <span style=\"color: #008000; text-decoration-color: #008000\">'de'</span>,\n",
              "    <span style=\"color: #008000; text-decoration-color: #008000\">'lista'</span>,\n",
              "    <span style=\"color: #008000; text-decoration-color: #008000\">'del'</span>,\n",
              "    <span style=\"color: #008000; text-decoration-color: #008000\">'pp'</span>,\n",
              "    <span style=\"color: #008000; text-decoration-color: #008000\">'al'</span>,\n",
              "    <span style=\"color: #008000; text-decoration-color: #008000\">'congreso'</span>,\n",
              "    <span style=\"color: #008000; text-decoration-color: #008000\">'por'</span>,\n",
              "    <span style=\"color: #008000; text-decoration-color: #008000\">'esta'</span>,\n",
              "    <span style=\"color: #008000; text-decoration-color: #008000\">'provincia'</span>,\n",
              "    <span style=\"color: #008000; text-decoration-color: #008000\">'pidió'</span>,\n",
              "    <span style=\"color: #008000; text-decoration-color: #008000\">'hoy'</span>,\n",
              "    <span style=\"color: #008000; text-decoration-color: #008000\">'a'</span>,\n",
              "    <span style=\"color: #008000; text-decoration-color: #008000\">'los'</span>,\n",
              "    <span style=\"color: #008000; text-decoration-color: #008000\">'militantes'</span>,\n",
              "    <span style=\"color: #008000; text-decoration-color: #008000\">'de'</span>,\n",
              "    <span style=\"color: #008000; text-decoration-color: #008000\">'esta'</span>,\n",
              "    <span style=\"color: #008000; text-decoration-color: #008000\">'formación'</span>,\n",
              "    <span style=\"color: #008000; text-decoration-color: #008000\">'que'</span>,\n",
              "    <span style=\"color: #008000; text-decoration-color: #008000\">'sepan'</span>,\n",
              "    <span style=\"color: #008000; text-decoration-color: #008000\">'administrar'</span>,\n",
              "    <span style=\"color: #008000; text-decoration-color: #008000\">'la'</span>,\n",
              "    <span style=\"color: #008000; text-decoration-color: #008000\">'victoria'</span>,\n",
              "    <span style=\"color: #008000; text-decoration-color: #008000\">'porque'</span>,\n",
              "    <span style=\"color: #008000; text-decoration-color: #008000\">'no'</span>,\n",
              "    <span style=\"color: #008000; text-decoration-color: #008000\">'vale'</span>,\n",
              "    <span style=\"color: #008000; text-decoration-color: #008000\">'la'</span>,\n",
              "    <span style=\"color: #008000; text-decoration-color: #008000\">'revancha'</span>,\n",
              "    <span style=\"color: #008000; text-decoration-color: #008000\">'el'</span>\n",
              "<span style=\"font-weight: bold\">]</span>\n",
              "</pre>\n"
            ],
            "text/plain": [
              "\u001b[1m[\u001b[0m\n",
              "    \u001b[32m'de'\u001b[0m,\n",
              "    \u001b[32m'dólares'\u001b[0m,\n",
              "    \u001b[32m'fp'\u001b[0m,\n",
              "    \u001b[32m'##t'\u001b[0m,\n",
              "    \u001b[32m'en'\u001b[0m,\n",
              "    \u001b[32m'la'\u001b[0m,\n",
              "    \u001b[32m'central'\u001b[0m,\n",
              "    \u001b[32m'de'\u001b[0m,\n",
              "    \u001b[32m'con'\u001b[0m,\n",
              "    \u001b[32m'una'\u001b[0m,\n",
              "    \u001b[32m'potencia'\u001b[0m,\n",
              "    \u001b[32m'de'\u001b[0m,\n",
              "    \u001b[32m'mega'\u001b[0m,\n",
              "    \u001b[32m'##va'\u001b[0m,\n",
              "    \u001b[32m'##tios'\u001b[0m,\n",
              "    \u001b[32m'y'\u001b[0m,\n",
              "    \u001b[32m'millones'\u001b[0m,\n",
              "    \u001b[32m'de'\u001b[0m,\n",
              "    \u001b[32m'euros'\u001b[0m,\n",
              "    \u001b[32m'fp'\u001b[0m,\n",
              "    \u001b[32m'##a'\u001b[0m,\n",
              "    \u001b[32m'millones'\u001b[0m,\n",
              "    \u001b[32m'de'\u001b[0m,\n",
              "    \u001b[32m'dólares'\u001b[0m,\n",
              "    \u001b[32m'fp'\u001b[0m,\n",
              "    \u001b[32m'##t'\u001b[0m,\n",
              "    \u001b[32m'en'\u001b[0m,\n",
              "    \u001b[32m'sal'\u001b[0m,\n",
              "    \u001b[32m'##tillo'\u001b[0m,\n",
              "    \u001b[32m'que'\u001b[0m,\n",
              "    \u001b[32m'como'\u001b[0m,\n",
              "    \u001b[32m'la'\u001b[0m,\n",
              "    \u001b[32m'primera'\u001b[0m,\n",
              "    \u001b[32m'funcionará'\u001b[0m,\n",
              "    \u001b[32m'con'\u001b[0m,\n",
              "    \u001b[32m'gas'\u001b[0m,\n",
              "    \u001b[32m'natural'\u001b[0m,\n",
              "    \u001b[32m'y'\u001b[0m,\n",
              "    \u001b[32m'cuya'\u001b[0m,\n",
              "    \u001b[32m'potencia'\u001b[0m,\n",
              "    \u001b[32m'prevista'\u001b[0m,\n",
              "    \u001b[32m'es'\u001b[0m,\n",
              "    \u001b[32m'de'\u001b[0m,\n",
              "    \u001b[32m'mega'\u001b[0m,\n",
              "    \u001b[32m'##va'\u001b[0m,\n",
              "    \u001b[32m'##tios'\u001b[0m,\n",
              "    \u001b[32m'la'\u001b[0m,\n",
              "    \u001b[32m'alcaldes'\u001b[0m,\n",
              "    \u001b[32m'##a'\u001b[0m,\n",
              "    \u001b[32m'de'\u001b[0m,\n",
              "    \u001b[32m'málaga'\u001b[0m,\n",
              "    \u001b[32m'y'\u001b[0m,\n",
              "    \u001b[32m'cabeza'\u001b[0m,\n",
              "    \u001b[32m'de'\u001b[0m,\n",
              "    \u001b[32m'lista'\u001b[0m,\n",
              "    \u001b[32m'del'\u001b[0m,\n",
              "    \u001b[32m'pp'\u001b[0m,\n",
              "    \u001b[32m'al'\u001b[0m,\n",
              "    \u001b[32m'congreso'\u001b[0m,\n",
              "    \u001b[32m'por'\u001b[0m,\n",
              "    \u001b[32m'esta'\u001b[0m,\n",
              "    \u001b[32m'provincia'\u001b[0m,\n",
              "    \u001b[32m'pidió'\u001b[0m,\n",
              "    \u001b[32m'hoy'\u001b[0m,\n",
              "    \u001b[32m'a'\u001b[0m,\n",
              "    \u001b[32m'los'\u001b[0m,\n",
              "    \u001b[32m'militantes'\u001b[0m,\n",
              "    \u001b[32m'de'\u001b[0m,\n",
              "    \u001b[32m'esta'\u001b[0m,\n",
              "    \u001b[32m'formación'\u001b[0m,\n",
              "    \u001b[32m'que'\u001b[0m,\n",
              "    \u001b[32m'sepan'\u001b[0m,\n",
              "    \u001b[32m'administrar'\u001b[0m,\n",
              "    \u001b[32m'la'\u001b[0m,\n",
              "    \u001b[32m'victoria'\u001b[0m,\n",
              "    \u001b[32m'porque'\u001b[0m,\n",
              "    \u001b[32m'no'\u001b[0m,\n",
              "    \u001b[32m'vale'\u001b[0m,\n",
              "    \u001b[32m'la'\u001b[0m,\n",
              "    \u001b[32m'revancha'\u001b[0m,\n",
              "    \u001b[32m'el'\u001b[0m\n",
              "\u001b[1m]\u001b[0m\n"
            ]
          },
          "metadata": {},
          "output_type": "display_data"
        }
      ],
      "source": [
        "from transformers import AutoTokenizer\n",
        "\n",
        "spanish_tokenizer = AutoTokenizer.from_pretrained(\"dccuchile/bert-base-spanish-wwm-uncased\")\n",
        "rprint(spanish_tokenizer.tokenize(cess_plain_text[1000:1400]))"
      ]
    },
    {
      "cell_type": "code",
      "execution_count": null,
      "metadata": {
        "id": "x-aByv8pXYRQ"
      },
      "outputs": [],
      "source": [
        "cess_types = Counter(cess_words)"
      ]
    },
    {
      "cell_type": "code",
      "execution_count": null,
      "metadata": {
        "colab": {
          "base_uri": "https://localhost:8080/",
          "height": 220
        },
        "id": "SbpXXjvKYRW6",
        "outputId": "7051b120-5c31-438e-e8b2-5042a06e277b"
      },
      "outputs": [
        {
          "data": {
            "text/html": [
              "<pre style=\"white-space:pre;overflow-x:auto;line-height:normal;font-family:Menlo,'DejaVu Sans Mono',consolas,'Courier New',monospace\"><span style=\"font-weight: bold\">[</span>\n",
              "    <span style=\"font-weight: bold\">(</span><span style=\"color: #008000; text-decoration-color: #008000\">','</span>, <span style=\"color: #008080; text-decoration-color: #008080; font-weight: bold\">11420</span><span style=\"font-weight: bold\">)</span>,\n",
              "    <span style=\"font-weight: bold\">(</span><span style=\"color: #008000; text-decoration-color: #008000\">'de'</span>, <span style=\"color: #008080; text-decoration-color: #008080; font-weight: bold\">10234</span><span style=\"font-weight: bold\">)</span>,\n",
              "    <span style=\"font-weight: bold\">(</span><span style=\"color: #008000; text-decoration-color: #008000\">'la'</span>, <span style=\"color: #008080; text-decoration-color: #008080; font-weight: bold\">6412</span><span style=\"font-weight: bold\">)</span>,\n",
              "    <span style=\"font-weight: bold\">(</span><span style=\"color: #008000; text-decoration-color: #008000\">'.'</span>, <span style=\"color: #008080; text-decoration-color: #008080; font-weight: bold\">5866</span><span style=\"font-weight: bold\">)</span>,\n",
              "    <span style=\"font-weight: bold\">(</span><span style=\"color: #008000; text-decoration-color: #008000\">'que'</span>, <span style=\"color: #008080; text-decoration-color: #008080; font-weight: bold\">5552</span><span style=\"font-weight: bold\">)</span>,\n",
              "    <span style=\"font-weight: bold\">(</span><span style=\"color: #008000; text-decoration-color: #008000\">'el'</span>, <span style=\"color: #008080; text-decoration-color: #008080; font-weight: bold\">5199</span><span style=\"font-weight: bold\">)</span>,\n",
              "    <span style=\"font-weight: bold\">(</span><span style=\"color: #008000; text-decoration-color: #008000\">'en'</span>, <span style=\"color: #008080; text-decoration-color: #008080; font-weight: bold\">4340</span><span style=\"font-weight: bold\">)</span>,\n",
              "    <span style=\"font-weight: bold\">(</span><span style=\"color: #008000; text-decoration-color: #008000\">'y'</span>, <span style=\"color: #008080; text-decoration-color: #008080; font-weight: bold\">4235</span><span style=\"font-weight: bold\">)</span>,\n",
              "    <span style=\"font-weight: bold\">(</span><span style=\"color: #008000; text-decoration-color: #008000\">'*0*'</span>, <span style=\"color: #008080; text-decoration-color: #008080; font-weight: bold\">3883</span><span style=\"font-weight: bold\">)</span>,\n",
              "    <span style=\"font-weight: bold\">(</span><span style=\"color: #008000; text-decoration-color: #008000\">'\"'</span>, <span style=\"color: #008080; text-decoration-color: #008080; font-weight: bold\">3038</span><span style=\"font-weight: bold\">)</span>\n",
              "<span style=\"font-weight: bold\">]</span>\n",
              "</pre>\n"
            ],
            "text/plain": [
              "\u001b[1m[\u001b[0m\n",
              "    \u001b[1m(\u001b[0m\u001b[32m','\u001b[0m, \u001b[1;36m11420\u001b[0m\u001b[1m)\u001b[0m,\n",
              "    \u001b[1m(\u001b[0m\u001b[32m'de'\u001b[0m, \u001b[1;36m10234\u001b[0m\u001b[1m)\u001b[0m,\n",
              "    \u001b[1m(\u001b[0m\u001b[32m'la'\u001b[0m, \u001b[1;36m6412\u001b[0m\u001b[1m)\u001b[0m,\n",
              "    \u001b[1m(\u001b[0m\u001b[32m'.'\u001b[0m, \u001b[1;36m5866\u001b[0m\u001b[1m)\u001b[0m,\n",
              "    \u001b[1m(\u001b[0m\u001b[32m'que'\u001b[0m, \u001b[1;36m5552\u001b[0m\u001b[1m)\u001b[0m,\n",
              "    \u001b[1m(\u001b[0m\u001b[32m'el'\u001b[0m, \u001b[1;36m5199\u001b[0m\u001b[1m)\u001b[0m,\n",
              "    \u001b[1m(\u001b[0m\u001b[32m'en'\u001b[0m, \u001b[1;36m4340\u001b[0m\u001b[1m)\u001b[0m,\n",
              "    \u001b[1m(\u001b[0m\u001b[32m'y'\u001b[0m, \u001b[1;36m4235\u001b[0m\u001b[1m)\u001b[0m,\n",
              "    \u001b[1m(\u001b[0m\u001b[32m'*0*'\u001b[0m, \u001b[1;36m3883\u001b[0m\u001b[1m)\u001b[0m,\n",
              "    \u001b[1m(\u001b[0m\u001b[32m'\"'\u001b[0m, \u001b[1;36m3038\u001b[0m\u001b[1m)\u001b[0m\n",
              "\u001b[1m]\u001b[0m\n"
            ]
          },
          "metadata": {},
          "output_type": "display_data"
        }
      ],
      "source": [
        "rprint(cess_types.most_common(10))"
      ]
    },
    {
      "cell_type": "code",
      "execution_count": null,
      "metadata": {
        "colab": {
          "base_uri": "https://localhost:8080/",
          "height": 71
        },
        "id": "7pYaX_ZEXijm",
        "outputId": "d78c0914-c315-48f7-cd19-293020f83ccb"
      },
      "outputs": [
        {
          "name": "stderr",
          "output_type": "stream",
          "text": [
            "Token indices sequence length is longer than the specified maximum sequence length for this model (178312 > 512). Running this sequence through the model will result in indexing errors\n"
          ]
        },
        {
          "data": {
            "text/html": [
              "<pre style=\"white-space:pre;overflow-x:auto;line-height:normal;font-family:Menlo,'DejaVu Sans Mono',consolas,'Courier New',monospace\"><span style=\"font-weight: bold\">[</span><span style=\"color: #008000; text-decoration-color: #008000\">'el'</span>, <span style=\"color: #008000; text-decoration-color: #008000\">'grupo'</span>, <span style=\"color: #008000; text-decoration-color: #008000\">'estatal'</span>, <span style=\"color: #008000; text-decoration-color: #008000\">'fp'</span>, <span style=\"color: #008000; text-decoration-color: #008000\">'##a'</span>, <span style=\"color: #008000; text-decoration-color: #008000\">'ed'</span>, <span style=\"color: #008000; text-decoration-color: #008000\">'##f'</span>, <span style=\"color: #008000; text-decoration-color: #008000\">'fp'</span>, <span style=\"color: #008000; text-decoration-color: #008000\">'##t'</span>, <span style=\"color: #008000; text-decoration-color: #008000\">'anunció'</span><span style=\"font-weight: bold\">]</span>\n",
              "</pre>\n"
            ],
            "text/plain": [
              "\u001b[1m[\u001b[0m\u001b[32m'el'\u001b[0m, \u001b[32m'grupo'\u001b[0m, \u001b[32m'estatal'\u001b[0m, \u001b[32m'fp'\u001b[0m, \u001b[32m'##a'\u001b[0m, \u001b[32m'ed'\u001b[0m, \u001b[32m'##f'\u001b[0m, \u001b[32m'fp'\u001b[0m, \u001b[32m'##t'\u001b[0m, \u001b[32m'anunció'\u001b[0m\u001b[1m]\u001b[0m\n"
            ]
          },
          "metadata": {},
          "output_type": "display_data"
        }
      ],
      "source": [
        "cess_tokenized = spanish_tokenizer.tokenize(cess_plain_text)\n",
        "rprint(cess_tokenized[:10])\n",
        "cess_tokenized_types = Counter(cess_tokenized)"
      ]
    },
    {
      "cell_type": "code",
      "execution_count": null,
      "metadata": {
        "colab": {
          "base_uri": "https://localhost:8080/",
          "height": 558
        },
        "id": "MWOUzc9JYG1T",
        "outputId": "f6d60b8f-5d10-44b0-fbe4-bfca9c80ae70"
      },
      "outputs": [
        {
          "data": {
            "text/html": [
              "<pre style=\"white-space:pre;overflow-x:auto;line-height:normal;font-family:Menlo,'DejaVu Sans Mono',consolas,'Courier New',monospace\"><span style=\"font-weight: bold\">[</span>\n",
              "    <span style=\"font-weight: bold\">(</span><span style=\"color: #008000; text-decoration-color: #008000\">'de'</span>, <span style=\"color: #008080; text-decoration-color: #008080; font-weight: bold\">10287</span><span style=\"font-weight: bold\">)</span>,\n",
              "    <span style=\"font-weight: bold\">(</span><span style=\"color: #008000; text-decoration-color: #008000\">'la'</span>, <span style=\"color: #008080; text-decoration-color: #008080; font-weight: bold\">6930</span><span style=\"font-weight: bold\">)</span>,\n",
              "    <span style=\"font-weight: bold\">(</span><span style=\"color: #008000; text-decoration-color: #008000\">'el'</span>, <span style=\"color: #008080; text-decoration-color: #008080; font-weight: bold\">6021</span><span style=\"font-weight: bold\">)</span>,\n",
              "    <span style=\"font-weight: bold\">(</span><span style=\"color: #008000; text-decoration-color: #008000\">'que'</span>, <span style=\"color: #008080; text-decoration-color: #008080; font-weight: bold\">5574</span><span style=\"font-weight: bold\">)</span>,\n",
              "    <span style=\"font-weight: bold\">(</span><span style=\"color: #008000; text-decoration-color: #008000\">'en'</span>, <span style=\"color: #008080; text-decoration-color: #008080; font-weight: bold\">4650</span><span style=\"font-weight: bold\">)</span>,\n",
              "    <span style=\"font-weight: bold\">(</span><span style=\"color: #008000; text-decoration-color: #008000\">'y'</span>, <span style=\"color: #008080; text-decoration-color: #008080; font-weight: bold\">4351</span><span style=\"font-weight: bold\">)</span>,\n",
              "    <span style=\"font-weight: bold\">(</span><span style=\"color: #008000; text-decoration-color: #008000\">'los'</span>, <span style=\"color: #008080; text-decoration-color: #008080; font-weight: bold\">3189</span><span style=\"font-weight: bold\">)</span>,\n",
              "    <span style=\"font-weight: bold\">(</span><span style=\"color: #008000; text-decoration-color: #008000\">'a'</span>, <span style=\"color: #008080; text-decoration-color: #008080; font-weight: bold\">3024</span><span style=\"font-weight: bold\">)</span>,\n",
              "    <span style=\"font-weight: bold\">(</span><span style=\"color: #008000; text-decoration-color: #008000\">'del'</span>, <span style=\"color: #008080; text-decoration-color: #008080; font-weight: bold\">2262</span><span style=\"font-weight: bold\">)</span>,\n",
              "    <span style=\"font-weight: bold\">(</span><span style=\"color: #008000; text-decoration-color: #008000\">'se'</span>, <span style=\"color: #008080; text-decoration-color: #008080; font-weight: bold\">1952</span><span style=\"font-weight: bold\">)</span>,\n",
              "    <span style=\"font-weight: bold\">(</span><span style=\"color: #008000; text-decoration-color: #008000\">'las'</span>, <span style=\"color: #008080; text-decoration-color: #008080; font-weight: bold\">1923</span><span style=\"font-weight: bold\">)</span>,\n",
              "    <span style=\"font-weight: bold\">(</span><span style=\"color: #008000; text-decoration-color: #008000\">'un'</span>, <span style=\"color: #008080; text-decoration-color: #008080; font-weight: bold\">1869</span><span style=\"font-weight: bold\">)</span>,\n",
              "    <span style=\"font-weight: bold\">(</span><span style=\"color: #008000; text-decoration-color: #008000\">'fp'</span>, <span style=\"color: #008080; text-decoration-color: #008080; font-weight: bold\">1649</span><span style=\"font-weight: bold\">)</span>,\n",
              "    <span style=\"font-weight: bold\">(</span><span style=\"color: #008000; text-decoration-color: #008000\">'con'</span>, <span style=\"color: #008080; text-decoration-color: #008080; font-weight: bold\">1563</span><span style=\"font-weight: bold\">)</span>,\n",
              "    <span style=\"font-weight: bold\">(</span><span style=\"color: #008000; text-decoration-color: #008000\">'por'</span>, <span style=\"color: #008080; text-decoration-color: #008080; font-weight: bold\">1546</span><span style=\"font-weight: bold\">)</span>,\n",
              "    <span style=\"font-weight: bold\">(</span><span style=\"color: #008000; text-decoration-color: #008000\">'una'</span>, <span style=\"color: #008080; text-decoration-color: #008080; font-weight: bold\">1456</span><span style=\"font-weight: bold\">)</span>,\n",
              "    <span style=\"font-weight: bold\">(</span><span style=\"color: #008000; text-decoration-color: #008000\">'no'</span>, <span style=\"color: #008080; text-decoration-color: #008080; font-weight: bold\">1365</span><span style=\"font-weight: bold\">)</span>,\n",
              "    <span style=\"font-weight: bold\">(</span><span style=\"color: #008000; text-decoration-color: #008000\">'su'</span>, <span style=\"color: #008080; text-decoration-color: #008080; font-weight: bold\">1331</span><span style=\"font-weight: bold\">)</span>,\n",
              "    <span style=\"font-weight: bold\">(</span><span style=\"color: #008000; text-decoration-color: #008000\">'para'</span>, <span style=\"color: #008080; text-decoration-color: #008080; font-weight: bold\">1329</span><span style=\"font-weight: bold\">)</span>,\n",
              "    <span style=\"font-weight: bold\">(</span><span style=\"color: #008000; text-decoration-color: #008000\">'##a'</span>, <span style=\"color: #008080; text-decoration-color: #008080; font-weight: bold\">1177</span><span style=\"font-weight: bold\">)</span>,\n",
              "    <span style=\"font-weight: bold\">(</span><span style=\"color: #008000; text-decoration-color: #008000\">'##s'</span>, <span style=\"color: #008080; text-decoration-color: #008080; font-weight: bold\">1107</span><span style=\"font-weight: bold\">)</span>,\n",
              "    <span style=\"font-weight: bold\">(</span><span style=\"color: #008000; text-decoration-color: #008000\">'al'</span>, <span style=\"color: #008080; text-decoration-color: #008080; font-weight: bold\">1022</span><span style=\"font-weight: bold\">)</span>,\n",
              "    <span style=\"font-weight: bold\">(</span><span style=\"color: #008000; text-decoration-color: #008000\">'es'</span>, <span style=\"color: #008080; text-decoration-color: #008080; font-weight: bold\">973</span><span style=\"font-weight: bold\">)</span>,\n",
              "    <span style=\"font-weight: bold\">(</span><span style=\"color: #008000; text-decoration-color: #008000\">'##t'</span>, <span style=\"color: #008080; text-decoration-color: #008080; font-weight: bold\">882</span><span style=\"font-weight: bold\">)</span>,\n",
              "    <span style=\"font-weight: bold\">(</span><span style=\"color: #008000; text-decoration-color: #008000\">'como'</span>, <span style=\"color: #008080; text-decoration-color: #008080; font-weight: bold\">727</span><span style=\"font-weight: bold\">)</span>,\n",
              "    <span style=\"font-weight: bold\">(</span><span style=\"color: #008000; text-decoration-color: #008000\">'ha'</span>, <span style=\"color: #008080; text-decoration-color: #008080; font-weight: bold\">724</span><span style=\"font-weight: bold\">)</span>,\n",
              "    <span style=\"font-weight: bold\">(</span><span style=\"color: #008000; text-decoration-color: #008000\">'lo'</span>, <span style=\"color: #008080; text-decoration-color: #008080; font-weight: bold\">710</span><span style=\"font-weight: bold\">)</span>,\n",
              "    <span style=\"font-weight: bold\">(</span><span style=\"color: #008000; text-decoration-color: #008000\">'más'</span>, <span style=\"color: #008080; text-decoration-color: #008080; font-weight: bold\">666</span><span style=\"font-weight: bold\">)</span>,\n",
              "    <span style=\"font-weight: bold\">(</span><span style=\"color: #008000; text-decoration-color: #008000\">'##n'</span>, <span style=\"color: #008080; text-decoration-color: #008080; font-weight: bold\">560</span><span style=\"font-weight: bold\">)</span>,\n",
              "    <span style=\"font-weight: bold\">(</span><span style=\"color: #008000; text-decoration-color: #008000\">'sus'</span>, <span style=\"color: #008080; text-decoration-color: #008080; font-weight: bold\">519</span><span style=\"font-weight: bold\">)</span>\n",
              "<span style=\"font-weight: bold\">]</span>\n",
              "</pre>\n"
            ],
            "text/plain": [
              "\u001b[1m[\u001b[0m\n",
              "    \u001b[1m(\u001b[0m\u001b[32m'de'\u001b[0m, \u001b[1;36m10287\u001b[0m\u001b[1m)\u001b[0m,\n",
              "    \u001b[1m(\u001b[0m\u001b[32m'la'\u001b[0m, \u001b[1;36m6930\u001b[0m\u001b[1m)\u001b[0m,\n",
              "    \u001b[1m(\u001b[0m\u001b[32m'el'\u001b[0m, \u001b[1;36m6021\u001b[0m\u001b[1m)\u001b[0m,\n",
              "    \u001b[1m(\u001b[0m\u001b[32m'que'\u001b[0m, \u001b[1;36m5574\u001b[0m\u001b[1m)\u001b[0m,\n",
              "    \u001b[1m(\u001b[0m\u001b[32m'en'\u001b[0m, \u001b[1;36m4650\u001b[0m\u001b[1m)\u001b[0m,\n",
              "    \u001b[1m(\u001b[0m\u001b[32m'y'\u001b[0m, \u001b[1;36m4351\u001b[0m\u001b[1m)\u001b[0m,\n",
              "    \u001b[1m(\u001b[0m\u001b[32m'los'\u001b[0m, \u001b[1;36m3189\u001b[0m\u001b[1m)\u001b[0m,\n",
              "    \u001b[1m(\u001b[0m\u001b[32m'a'\u001b[0m, \u001b[1;36m3024\u001b[0m\u001b[1m)\u001b[0m,\n",
              "    \u001b[1m(\u001b[0m\u001b[32m'del'\u001b[0m, \u001b[1;36m2262\u001b[0m\u001b[1m)\u001b[0m,\n",
              "    \u001b[1m(\u001b[0m\u001b[32m'se'\u001b[0m, \u001b[1;36m1952\u001b[0m\u001b[1m)\u001b[0m,\n",
              "    \u001b[1m(\u001b[0m\u001b[32m'las'\u001b[0m, \u001b[1;36m1923\u001b[0m\u001b[1m)\u001b[0m,\n",
              "    \u001b[1m(\u001b[0m\u001b[32m'un'\u001b[0m, \u001b[1;36m1869\u001b[0m\u001b[1m)\u001b[0m,\n",
              "    \u001b[1m(\u001b[0m\u001b[32m'fp'\u001b[0m, \u001b[1;36m1649\u001b[0m\u001b[1m)\u001b[0m,\n",
              "    \u001b[1m(\u001b[0m\u001b[32m'con'\u001b[0m, \u001b[1;36m1563\u001b[0m\u001b[1m)\u001b[0m,\n",
              "    \u001b[1m(\u001b[0m\u001b[32m'por'\u001b[0m, \u001b[1;36m1546\u001b[0m\u001b[1m)\u001b[0m,\n",
              "    \u001b[1m(\u001b[0m\u001b[32m'una'\u001b[0m, \u001b[1;36m1456\u001b[0m\u001b[1m)\u001b[0m,\n",
              "    \u001b[1m(\u001b[0m\u001b[32m'no'\u001b[0m, \u001b[1;36m1365\u001b[0m\u001b[1m)\u001b[0m,\n",
              "    \u001b[1m(\u001b[0m\u001b[32m'su'\u001b[0m, \u001b[1;36m1331\u001b[0m\u001b[1m)\u001b[0m,\n",
              "    \u001b[1m(\u001b[0m\u001b[32m'para'\u001b[0m, \u001b[1;36m1329\u001b[0m\u001b[1m)\u001b[0m,\n",
              "    \u001b[1m(\u001b[0m\u001b[32m'##a'\u001b[0m, \u001b[1;36m1177\u001b[0m\u001b[1m)\u001b[0m,\n",
              "    \u001b[1m(\u001b[0m\u001b[32m'##s'\u001b[0m, \u001b[1;36m1107\u001b[0m\u001b[1m)\u001b[0m,\n",
              "    \u001b[1m(\u001b[0m\u001b[32m'al'\u001b[0m, \u001b[1;36m1022\u001b[0m\u001b[1m)\u001b[0m,\n",
              "    \u001b[1m(\u001b[0m\u001b[32m'es'\u001b[0m, \u001b[1;36m973\u001b[0m\u001b[1m)\u001b[0m,\n",
              "    \u001b[1m(\u001b[0m\u001b[32m'##t'\u001b[0m, \u001b[1;36m882\u001b[0m\u001b[1m)\u001b[0m,\n",
              "    \u001b[1m(\u001b[0m\u001b[32m'como'\u001b[0m, \u001b[1;36m727\u001b[0m\u001b[1m)\u001b[0m,\n",
              "    \u001b[1m(\u001b[0m\u001b[32m'ha'\u001b[0m, \u001b[1;36m724\u001b[0m\u001b[1m)\u001b[0m,\n",
              "    \u001b[1m(\u001b[0m\u001b[32m'lo'\u001b[0m, \u001b[1;36m710\u001b[0m\u001b[1m)\u001b[0m,\n",
              "    \u001b[1m(\u001b[0m\u001b[32m'más'\u001b[0m, \u001b[1;36m666\u001b[0m\u001b[1m)\u001b[0m,\n",
              "    \u001b[1m(\u001b[0m\u001b[32m'##n'\u001b[0m, \u001b[1;36m560\u001b[0m\u001b[1m)\u001b[0m,\n",
              "    \u001b[1m(\u001b[0m\u001b[32m'sus'\u001b[0m, \u001b[1;36m519\u001b[0m\u001b[1m)\u001b[0m\n",
              "\u001b[1m]\u001b[0m\n"
            ]
          },
          "metadata": {},
          "output_type": "display_data"
        }
      ],
      "source": [
        "rprint(cess_tokenized_types.most_common(30))"
      ]
    },
    {
      "cell_type": "code",
      "execution_count": null,
      "metadata": {
        "id": "pXxst1GJmnAA"
      },
      "outputs": [],
      "source": [
        "cess_lemmatized_types = Counter(lemmatize(cess_words, lang=\"es\"))"
      ]
    },
    {
      "cell_type": "code",
      "execution_count": null,
      "metadata": {
        "id": "vYPJSUTaoDOY"
      },
      "outputs": [],
      "source": [
        "rprint(cess_lemmatized_types.most_common(30))"
      ]
    },
    {
      "cell_type": "code",
      "execution_count": null,
      "metadata": {
        "colab": {
          "base_uri": "https://localhost:8080/",
          "height": 85
        },
        "id": "68sT2jnD6Lp4",
        "outputId": "15f91dd9-123c-4649-8fb8-eade44e1bd11"
      },
      "outputs": [
        {
          "data": {
            "text/html": [
              "<pre style=\"white-space:pre;overflow-x:auto;line-height:normal;font-family:Menlo,'DejaVu Sans Mono',consolas,'Courier New',monospace\">CESS\n",
              "</pre>\n"
            ],
            "text/plain": [
              "CESS\n"
            ]
          },
          "metadata": {},
          "output_type": "display_data"
        },
        {
          "data": {
            "text/html": [
              "<pre style=\"white-space:pre;overflow-x:auto;line-height:normal;font-family:Menlo,'DejaVu Sans Mono',consolas,'Courier New',monospace\">Tipos <span style=\"font-weight: bold\">(</span><span style=\"color: #000080; text-decoration-color: #000080\">word-base</span><span style=\"color: #000080; text-decoration-color: #000080; font-weight: bold\">)</span><span style=\"color: #000080; text-decoration-color: #000080\">: </span><span style=\"color: #000080; text-decoration-color: #000080; font-weight: bold\">25464</span>\n",
              "</pre>\n"
            ],
            "text/plain": [
              "Tipos \u001b[1m(\u001b[0m\u001b[34mword-base\u001b[0m\u001b[1;34m)\u001b[0m\u001b[34m: \u001b[0m\u001b[1;34m25464\u001b[0m\n"
            ]
          },
          "metadata": {},
          "output_type": "display_data"
        },
        {
          "data": {
            "text/html": [
              "<pre style=\"white-space:pre;overflow-x:auto;line-height:normal;font-family:Menlo,'DejaVu Sans Mono',consolas,'Courier New',monospace\">Tipos <span style=\"font-weight: bold\">(</span><span style=\"color: #808000; text-decoration-color: #808000\">lemmatized</span><span style=\"color: #808000; text-decoration-color: #808000; font-weight: bold\">)</span><span style=\"color: #808000; text-decoration-color: #808000\">: </span><span style=\"color: #808000; text-decoration-color: #808000; font-weight: bold\">17898</span>\n",
              "</pre>\n"
            ],
            "text/plain": [
              "Tipos \u001b[1m(\u001b[0m\u001b[33mlemmatized\u001b[0m\u001b[1;33m)\u001b[0m\u001b[33m: \u001b[0m\u001b[1;33m17898\u001b[0m\n"
            ]
          },
          "metadata": {},
          "output_type": "display_data"
        },
        {
          "data": {
            "text/html": [
              "<pre style=\"white-space:pre;overflow-x:auto;line-height:normal;font-family:Menlo,'DejaVu Sans Mono',consolas,'Courier New',monospace\">Tipos <span style=\"font-weight: bold\">(</span><span style=\"color: #008000; text-decoration-color: #008000\">sub-word</span><span style=\"color: #008000; text-decoration-color: #008000; font-weight: bold\">)</span><span style=\"color: #008000; text-decoration-color: #008000\">: </span><span style=\"color: #008000; text-decoration-color: #008000; font-weight: bold\">16614</span>\n",
              "</pre>\n"
            ],
            "text/plain": [
              "Tipos \u001b[1m(\u001b[0m\u001b[32msub-word\u001b[0m\u001b[1;32m)\u001b[0m\u001b[32m: \u001b[0m\u001b[1;32m16614\u001b[0m\n"
            ]
          },
          "metadata": {},
          "output_type": "display_data"
        }
      ],
      "source": [
        "rprint(\"CESS\")\n",
        "rprint(f\"Tipos ([blue]word-base): {len(cess_types)}\")\n",
        "rprint(f\"Tipos ([yellow]lemmatized): {len(cess_lemmatized_types)}\")\n",
        "rprint(f\"Tipos ([green]sub-word): {len(cess_tokenized_types)}\")"
      ]
    },
    {
      "cell_type": "markdown",
      "metadata": {
        "id": "TI_4lLaDbXLK"
      },
      "source": [
        "#### Tokenizando para el inglés"
      ]
    },
    {
      "cell_type": "code",
      "execution_count": null,
      "metadata": {
        "id": "gZCtfixJbPuE"
      },
      "outputs": [],
      "source": [
        "gutenberg_types = Counter(gutenberg_words)"
      ]
    },
    {
      "cell_type": "code",
      "execution_count": null,
      "metadata": {
        "id": "K8YuRqJVbii1"
      },
      "outputs": [],
      "source": [
        "gutenberg_tokenized = wp_tokenizer.tokenize(gutenberg_plain_text)\n",
        "gutenberg_tokenized_types = Counter(gutenberg_tokenized)"
      ]
    },
    {
      "cell_type": "code",
      "execution_count": null,
      "metadata": {
        "colab": {
          "base_uri": "https://localhost:8080/",
          "height": 1000
        },
        "id": "IVyJ3N9xbz3J",
        "outputId": "d98e140f-1e76-493f-9f58-71c668b19111"
      },
      "outputs": [
        {
          "data": {
            "text/html": [
              "<pre style=\"white-space:pre;overflow-x:auto;line-height:normal;font-family:Menlo,'DejaVu Sans Mono',consolas,'Courier New',monospace\"><span style=\"font-weight: bold\">[</span>\n",
              "    <span style=\"font-weight: bold\">(</span><span style=\"color: #008000; text-decoration-color: #008000\">'the'</span>, <span style=\"color: #008080; text-decoration-color: #008080; font-weight: bold\">5475</span><span style=\"font-weight: bold\">)</span>,\n",
              "    <span style=\"font-weight: bold\">(</span><span style=\"color: #008000; text-decoration-color: #008000\">'to'</span>, <span style=\"color: #008080; text-decoration-color: #008080; font-weight: bold\">5473</span><span style=\"font-weight: bold\">)</span>,\n",
              "    <span style=\"font-weight: bold\">(</span><span style=\"color: #008000; text-decoration-color: #008000\">'and'</span>, <span style=\"color: #008080; text-decoration-color: #008080; font-weight: bold\">5119</span><span style=\"font-weight: bold\">)</span>,\n",
              "    <span style=\"font-weight: bold\">(</span><span style=\"color: #008000; text-decoration-color: #008000\">'of'</span>, <span style=\"color: #008080; text-decoration-color: #008080; font-weight: bold\">4560</span><span style=\"font-weight: bold\">)</span>,\n",
              "    <span style=\"font-weight: bold\">(</span><span style=\"color: #008000; text-decoration-color: #008000\">'a'</span>, <span style=\"color: #008080; text-decoration-color: #008080; font-weight: bold\">3265</span><span style=\"font-weight: bold\">)</span>,\n",
              "    <span style=\"font-weight: bold\">(</span><span style=\"color: #008000; text-decoration-color: #008000\">'i'</span>, <span style=\"color: #008080; text-decoration-color: #008080; font-weight: bold\">3221</span><span style=\"font-weight: bold\">)</span>,\n",
              "    <span style=\"font-weight: bold\">(</span><span style=\"color: #008000; text-decoration-color: #008000\">'it'</span>, <span style=\"color: #008080; text-decoration-color: #008080; font-weight: bold\">2600</span><span style=\"font-weight: bold\">)</span>,\n",
              "    <span style=\"font-weight: bold\">(</span><span style=\"color: #008000; text-decoration-color: #008000\">'her'</span>, <span style=\"color: #008080; text-decoration-color: #008080; font-weight: bold\">2556</span><span style=\"font-weight: bold\">)</span>,\n",
              "    <span style=\"font-weight: bold\">(</span><span style=\"color: #008000; text-decoration-color: #008000\">'was'</span>, <span style=\"color: #008080; text-decoration-color: #008080; font-weight: bold\">2484</span><span style=\"font-weight: bold\">)</span>,\n",
              "    <span style=\"font-weight: bold\">(</span><span style=\"color: #008000; text-decoration-color: #008000\">'she'</span>, <span style=\"color: #008080; text-decoration-color: #008080; font-weight: bold\">2472</span><span style=\"font-weight: bold\">)</span>,\n",
              "    <span style=\"font-weight: bold\">(</span><span style=\"color: #008000; text-decoration-color: #008000\">'in'</span>, <span style=\"color: #008080; text-decoration-color: #008080; font-weight: bold\">2361</span><span style=\"font-weight: bold\">)</span>,\n",
              "    <span style=\"font-weight: bold\">(</span><span style=\"color: #008000; text-decoration-color: #008000\">'not'</span>, <span style=\"color: #008080; text-decoration-color: #008080; font-weight: bold\">2186</span><span style=\"font-weight: bold\">)</span>,\n",
              "    <span style=\"font-weight: bold\">(</span><span style=\"color: #008000; text-decoration-color: #008000\">'be'</span>, <span style=\"color: #008080; text-decoration-color: #008080; font-weight: bold\">2060</span><span style=\"font-weight: bold\">)</span>,\n",
              "    <span style=\"font-weight: bold\">(</span><span style=\"color: #008000; text-decoration-color: #008000\">'you'</span>, <span style=\"color: #008080; text-decoration-color: #008080; font-weight: bold\">1988</span><span style=\"font-weight: bold\">)</span>,\n",
              "    <span style=\"font-weight: bold\">(</span><span style=\"color: #008000; text-decoration-color: #008000\">'he'</span>, <span style=\"color: #008080; text-decoration-color: #008080; font-weight: bold\">1885</span><span style=\"font-weight: bold\">)</span>,\n",
              "    <span style=\"font-weight: bold\">(</span><span style=\"color: #008000; text-decoration-color: #008000\">'that'</span>, <span style=\"color: #008080; text-decoration-color: #008080; font-weight: bold\">1857</span><span style=\"font-weight: bold\">)</span>,\n",
              "    <span style=\"font-weight: bold\">(</span><span style=\"color: #008000; text-decoration-color: #008000\">'had'</span>, <span style=\"color: #008080; text-decoration-color: #008080; font-weight: bold\">1735</span><span style=\"font-weight: bold\">)</span>,\n",
              "    <span style=\"font-weight: bold\">(</span><span style=\"color: #008000; text-decoration-color: #008000\">'as'</span>, <span style=\"color: #008080; text-decoration-color: #008080; font-weight: bold\">1519</span><span style=\"font-weight: bold\">)</span>,\n",
              "    <span style=\"font-weight: bold\">(</span><span style=\"color: #008000; text-decoration-color: #008000\">'but'</span>, <span style=\"color: #008080; text-decoration-color: #008080; font-weight: bold\">1485</span><span style=\"font-weight: bold\">)</span>,\n",
              "    <span style=\"font-weight: bold\">(</span><span style=\"color: #008000; text-decoration-color: #008000\">'for'</span>, <span style=\"color: #008080; text-decoration-color: #008080; font-weight: bold\">1416</span><span style=\"font-weight: bold\">)</span>,\n",
              "    <span style=\"font-weight: bold\">(</span><span style=\"color: #008000; text-decoration-color: #008000\">'have'</span>, <span style=\"color: #008080; text-decoration-color: #008080; font-weight: bold\">1362</span><span style=\"font-weight: bold\">)</span>,\n",
              "    <span style=\"font-weight: bold\">(</span><span style=\"color: #008000; text-decoration-color: #008000\">'is'</span>, <span style=\"color: #008080; text-decoration-color: #008080; font-weight: bold\">1273</span><span style=\"font-weight: bold\">)</span>,\n",
              "    <span style=\"font-weight: bold\">(</span><span style=\"color: #008000; text-decoration-color: #008000\">'with'</span>, <span style=\"color: #008080; text-decoration-color: #008080; font-weight: bold\">1262</span><span style=\"font-weight: bold\">)</span>,\n",
              "    <span style=\"font-weight: bold\">(</span><span style=\"color: #008000; text-decoration-color: #008000\">'very'</span>, <span style=\"color: #008080; text-decoration-color: #008080; font-weight: bold\">1242</span><span style=\"font-weight: bold\">)</span>,\n",
              "    <span style=\"font-weight: bold\">(</span><span style=\"color: #008000; text-decoration-color: #008000\">'his'</span>, <span style=\"color: #008080; text-decoration-color: #008080; font-weight: bold\">1210</span><span style=\"font-weight: bold\">)</span>,\n",
              "    <span style=\"font-weight: bold\">(</span><span style=\"color: #008000; text-decoration-color: #008000\">'mr'</span>, <span style=\"color: #008080; text-decoration-color: #008080; font-weight: bold\">1173</span><span style=\"font-weight: bold\">)</span>,\n",
              "    <span style=\"font-weight: bold\">(</span><span style=\"color: #008000; text-decoration-color: #008000\">'at'</span>, <span style=\"color: #008080; text-decoration-color: #008080; font-weight: bold\">1080</span><span style=\"font-weight: bold\">)</span>,\n",
              "    <span style=\"font-weight: bold\">(</span><span style=\"color: #008000; text-decoration-color: #008000\">'so'</span>, <span style=\"color: #008080; text-decoration-color: #008080; font-weight: bold\">992</span><span style=\"font-weight: bold\">)</span>,\n",
              "    <span style=\"font-weight: bold\">(</span><span style=\"color: #008000; text-decoration-color: #008000\">'s'</span>, <span style=\"color: #008080; text-decoration-color: #008080; font-weight: bold\">985</span><span style=\"font-weight: bold\">)</span>,\n",
              "    <span style=\"font-weight: bold\">(</span><span style=\"color: #008000; text-decoration-color: #008000\">'all'</span>, <span style=\"color: #008080; text-decoration-color: #008080; font-weight: bold\">904</span><span style=\"font-weight: bold\">)</span>,\n",
              "    <span style=\"font-weight: bold\">(</span><span style=\"color: #008000; text-decoration-color: #008000\">'emma'</span>, <span style=\"color: #008080; text-decoration-color: #008080; font-weight: bold\">865</span><span style=\"font-weight: bold\">)</span>,\n",
              "    <span style=\"font-weight: bold\">(</span><span style=\"color: #008000; text-decoration-color: #008000\">'could'</span>, <span style=\"color: #008080; text-decoration-color: #008080; font-weight: bold\">860</span><span style=\"font-weight: bold\">)</span>,\n",
              "    <span style=\"font-weight: bold\">(</span><span style=\"color: #008000; text-decoration-color: #008000\">'would'</span>, <span style=\"color: #008080; text-decoration-color: #008080; font-weight: bold\">850</span><span style=\"font-weight: bold\">)</span>,\n",
              "    <span style=\"font-weight: bold\">(</span><span style=\"color: #008000; text-decoration-color: #008000\">'been'</span>, <span style=\"color: #008080; text-decoration-color: #008080; font-weight: bold\">805</span><span style=\"font-weight: bold\">)</span>,\n",
              "    <span style=\"font-weight: bold\">(</span><span style=\"color: #008000; text-decoration-color: #008000\">'him'</span>, <span style=\"color: #008080; text-decoration-color: #008080; font-weight: bold\">781</span><span style=\"font-weight: bold\">)</span>,\n",
              "    <span style=\"font-weight: bold\">(</span><span style=\"color: #008000; text-decoration-color: #008000\">'no'</span>, <span style=\"color: #008080; text-decoration-color: #008080; font-weight: bold\">768</span><span style=\"font-weight: bold\">)</span>,\n",
              "    <span style=\"font-weight: bold\">(</span><span style=\"color: #008000; text-decoration-color: #008000\">'my'</span>, <span style=\"color: #008080; text-decoration-color: #008080; font-weight: bold\">735</span><span style=\"font-weight: bold\">)</span>,\n",
              "    <span style=\"font-weight: bold\">(</span><span style=\"color: #008000; text-decoration-color: #008000\">'on'</span>, <span style=\"color: #008080; text-decoration-color: #008080; font-weight: bold\">721</span><span style=\"font-weight: bold\">)</span>,\n",
              "    <span style=\"font-weight: bold\">(</span><span style=\"color: #008000; text-decoration-color: #008000\">'mrs'</span>, <span style=\"color: #008080; text-decoration-color: #008080; font-weight: bold\">707</span><span style=\"font-weight: bold\">)</span>,\n",
              "    <span style=\"font-weight: bold\">(</span><span style=\"color: #008000; text-decoration-color: #008000\">'any'</span>, <span style=\"color: #008080; text-decoration-color: #008080; font-weight: bold\">686</span><span style=\"font-weight: bold\">)</span>,\n",
              "    <span style=\"font-weight: bold\">(</span><span style=\"color: #008000; text-decoration-color: #008000\">'do'</span>, <span style=\"color: #008080; text-decoration-color: #008080; font-weight: bold\">660</span><span style=\"font-weight: bold\">)</span>,\n",
              "    <span style=\"font-weight: bold\">(</span><span style=\"color: #008000; text-decoration-color: #008000\">'were'</span>, <span style=\"color: #008080; text-decoration-color: #008080; font-weight: bold\">621</span><span style=\"font-weight: bold\">)</span>,\n",
              "    <span style=\"font-weight: bold\">(</span><span style=\"color: #008000; text-decoration-color: #008000\">'##s'</span>, <span style=\"color: #008080; text-decoration-color: #008080; font-weight: bold\">611</span><span style=\"font-weight: bold\">)</span>,\n",
              "    <span style=\"font-weight: bold\">(</span><span style=\"color: #008000; text-decoration-color: #008000\">'miss'</span>, <span style=\"color: #008080; text-decoration-color: #008080; font-weight: bold\">606</span><span style=\"font-weight: bold\">)</span>,\n",
              "    <span style=\"font-weight: bold\">(</span><span style=\"color: #008000; text-decoration-color: #008000\">'by'</span>, <span style=\"color: #008080; text-decoration-color: #008080; font-weight: bold\">604</span><span style=\"font-weight: bold\">)</span>,\n",
              "    <span style=\"font-weight: bold\">(</span><span style=\"color: #008000; text-decoration-color: #008000\">'which'</span>, <span style=\"color: #008080; text-decoration-color: #008080; font-weight: bold\">601</span><span style=\"font-weight: bold\">)</span>,\n",
              "    <span style=\"font-weight: bold\">(</span><span style=\"color: #008000; text-decoration-color: #008000\">'must'</span>, <span style=\"color: #008080; text-decoration-color: #008080; font-weight: bold\">582</span><span style=\"font-weight: bold\">)</span>,\n",
              "    <span style=\"font-weight: bold\">(</span><span style=\"color: #008000; text-decoration-color: #008000\">'will'</span>, <span style=\"color: #008080; text-decoration-color: #008080; font-weight: bold\">582</span><span style=\"font-weight: bold\">)</span>,\n",
              "    <span style=\"font-weight: bold\">(</span><span style=\"color: #008000; text-decoration-color: #008000\">'me'</span>, <span style=\"color: #008080; text-decoration-color: #008080; font-weight: bold\">582</span><span style=\"font-weight: bold\">)</span>,\n",
              "    <span style=\"font-weight: bold\">(</span><span style=\"color: #008000; text-decoration-color: #008000\">'there'</span>, <span style=\"color: #008080; text-decoration-color: #008080; font-weight: bold\">576</span><span style=\"font-weight: bold\">)</span>,\n",
              "    <span style=\"font-weight: bold\">(</span><span style=\"color: #008000; text-decoration-color: #008000\">'from'</span>, <span style=\"color: #008080; text-decoration-color: #008080; font-weight: bold\">573</span><span style=\"font-weight: bold\">)</span>,\n",
              "    <span style=\"font-weight: bold\">(</span><span style=\"color: #008000; text-decoration-color: #008000\">'they'</span>, <span style=\"color: #008080; text-decoration-color: #008080; font-weight: bold\">562</span><span style=\"font-weight: bold\">)</span>,\n",
              "    <span style=\"font-weight: bold\">(</span><span style=\"color: #008000; text-decoration-color: #008000\">'what'</span>, <span style=\"color: #008080; text-decoration-color: #008080; font-weight: bold\">552</span><span style=\"font-weight: bold\">)</span>,\n",
              "    <span style=\"font-weight: bold\">(</span><span style=\"color: #008000; text-decoration-color: #008000\">'this'</span>, <span style=\"color: #008080; text-decoration-color: #008080; font-weight: bold\">544</span><span style=\"font-weight: bold\">)</span>,\n",
              "    <span style=\"font-weight: bold\">(</span><span style=\"color: #008000; text-decoration-color: #008000\">'or'</span>, <span style=\"color: #008080; text-decoration-color: #008080; font-weight: bold\">514</span><span style=\"font-weight: bold\">)</span>,\n",
              "    <span style=\"font-weight: bold\">(</span><span style=\"color: #008000; text-decoration-color: #008000\">'harriet'</span>, <span style=\"color: #008080; text-decoration-color: #008080; font-weight: bold\">506</span><span style=\"font-weight: bold\">)</span>,\n",
              "    <span style=\"font-weight: bold\">(</span><span style=\"color: #008000; text-decoration-color: #008000\">'much'</span>, <span style=\"color: #008080; text-decoration-color: #008080; font-weight: bold\">501</span><span style=\"font-weight: bold\">)</span>,\n",
              "    <span style=\"font-weight: bold\">(</span><span style=\"color: #008000; text-decoration-color: #008000\">'such'</span>, <span style=\"color: #008080; text-decoration-color: #008080; font-weight: bold\">500</span><span style=\"font-weight: bold\">)</span>,\n",
              "    <span style=\"font-weight: bold\">(</span><span style=\"color: #008000; text-decoration-color: #008000\">'if'</span>, <span style=\"color: #008080; text-decoration-color: #008080; font-weight: bold\">496</span><span style=\"font-weight: bold\">)</span>,\n",
              "    <span style=\"font-weight: bold\">(</span><span style=\"color: #008000; text-decoration-color: #008000\">'an'</span>, <span style=\"color: #008080; text-decoration-color: #008080; font-weight: bold\">493</span><span style=\"font-weight: bold\">)</span>,\n",
              "    <span style=\"font-weight: bold\">(</span><span style=\"color: #008000; text-decoration-color: #008000\">'said'</span>, <span style=\"color: #008080; text-decoration-color: #008080; font-weight: bold\">490</span><span style=\"font-weight: bold\">)</span>,\n",
              "    <span style=\"font-weight: bold\">(</span><span style=\"color: #008000; text-decoration-color: #008000\">'more'</span>, <span style=\"color: #008080; text-decoration-color: #008080; font-weight: bold\">488</span><span style=\"font-weight: bold\">)</span>,\n",
              "    <span style=\"font-weight: bold\">(</span><span style=\"color: #008000; text-decoration-color: #008000\">'one'</span>, <span style=\"color: #008080; text-decoration-color: #008080; font-weight: bold\">472</span><span style=\"font-weight: bold\">)</span>,\n",
              "    <span style=\"font-weight: bold\">(</span><span style=\"color: #008000; text-decoration-color: #008000\">'are'</span>, <span style=\"color: #008080; text-decoration-color: #008080; font-weight: bold\">467</span><span style=\"font-weight: bold\">)</span>,\n",
              "    <span style=\"font-weight: bold\">(</span><span style=\"color: #008000; text-decoration-color: #008000\">'them'</span>, <span style=\"color: #008080; text-decoration-color: #008080; font-weight: bold\">450</span><span style=\"font-weight: bold\">)</span>,\n",
              "    <span style=\"font-weight: bold\">(</span><span style=\"color: #008000; text-decoration-color: #008000\">'every'</span>, <span style=\"color: #008080; text-decoration-color: #008080; font-weight: bold\">449</span><span style=\"font-weight: bold\">)</span>,\n",
              "    <span style=\"font-weight: bold\">(</span><span style=\"color: #008000; text-decoration-color: #008000\">'weston'</span>, <span style=\"color: #008080; text-decoration-color: #008080; font-weight: bold\">448</span><span style=\"font-weight: bold\">)</span>,\n",
              "    <span style=\"font-weight: bold\">(</span><span style=\"color: #008000; text-decoration-color: #008000\">'am'</span>, <span style=\"color: #008080; text-decoration-color: #008080; font-weight: bold\">440</span><span style=\"font-weight: bold\">)</span>,\n",
              "    <span style=\"font-weight: bold\">(</span><span style=\"color: #008000; text-decoration-color: #008000\">'than'</span>, <span style=\"color: #008080; text-decoration-color: #008080; font-weight: bold\">433</span><span style=\"font-weight: bold\">)</span>,\n",
              "    <span style=\"font-weight: bold\">(</span><span style=\"color: #008000; text-decoration-color: #008000\">'elton'</span>, <span style=\"color: #008080; text-decoration-color: #008080; font-weight: bold\">407</span><span style=\"font-weight: bold\">)</span>,\n",
              "    <span style=\"font-weight: bold\">(</span><span style=\"color: #008000; text-decoration-color: #008000\">'well'</span>, <span style=\"color: #008080; text-decoration-color: #008080; font-weight: bold\">405</span><span style=\"font-weight: bold\">)</span>,\n",
              "    <span style=\"font-weight: bold\">(</span><span style=\"color: #008000; text-decoration-color: #008000\">'thing'</span>, <span style=\"color: #008080; text-decoration-color: #008080; font-weight: bold\">402</span><span style=\"font-weight: bold\">)</span>,\n",
              "    <span style=\"font-weight: bold\">(</span><span style=\"color: #008000; text-decoration-color: #008000\">'knight'</span>, <span style=\"color: #008080; text-decoration-color: #008080; font-weight: bold\">398</span><span style=\"font-weight: bold\">)</span>,\n",
              "    <span style=\"font-weight: bold\">(</span><span style=\"color: #008000; text-decoration-color: #008000\">'##ley'</span>, <span style=\"color: #008080; text-decoration-color: #008080; font-weight: bold\">398</span><span style=\"font-weight: bold\">)</span>,\n",
              "    <span style=\"font-weight: bold\">(</span><span style=\"color: #008000; text-decoration-color: #008000\">'think'</span>, <span style=\"color: #008080; text-decoration-color: #008080; font-weight: bold\">391</span><span style=\"font-weight: bold\">)</span>,\n",
              "    <span style=\"font-weight: bold\">(</span><span style=\"color: #008000; text-decoration-color: #008000\">'being'</span>, <span style=\"color: #008080; text-decoration-color: #008080; font-weight: bold\">381</span><span style=\"font-weight: bold\">)</span>,\n",
              "    <span style=\"font-weight: bold\">(</span><span style=\"color: #008000; text-decoration-color: #008000\">'should'</span>, <span style=\"color: #008080; text-decoration-color: #008080; font-weight: bold\">380</span><span style=\"font-weight: bold\">)</span>,\n",
              "    <span style=\"font-weight: bold\">(</span><span style=\"color: #008000; text-decoration-color: #008000\">'how'</span>, <span style=\"color: #008080; text-decoration-color: #008080; font-weight: bold\">378</span><span style=\"font-weight: bold\">)</span>,\n",
              "    <span style=\"font-weight: bold\">(</span><span style=\"color: #008000; text-decoration-color: #008000\">'little'</span>, <span style=\"color: #008080; text-decoration-color: #008080; font-weight: bold\">376</span><span style=\"font-weight: bold\">)</span>,\n",
              "    <span style=\"font-weight: bold\">(</span><span style=\"color: #008000; text-decoration-color: #008000\">'good'</span>, <span style=\"color: #008080; text-decoration-color: #008080; font-weight: bold\">376</span><span style=\"font-weight: bold\">)</span>,\n",
              "    <span style=\"font-weight: bold\">(</span><span style=\"color: #008000; text-decoration-color: #008000\">'we'</span>, <span style=\"color: #008080; text-decoration-color: #008080; font-weight: bold\">376</span><span style=\"font-weight: bold\">)</span>,\n",
              "    <span style=\"font-weight: bold\">(</span><span style=\"color: #008000; text-decoration-color: #008000\">'never'</span>, <span style=\"color: #008080; text-decoration-color: #008080; font-weight: bold\">373</span><span style=\"font-weight: bold\">)</span>,\n",
              "    <span style=\"font-weight: bold\">(</span><span style=\"color: #008000; text-decoration-color: #008000\">'when'</span>, <span style=\"color: #008080; text-decoration-color: #008080; font-weight: bold\">372</span><span style=\"font-weight: bold\">)</span>,\n",
              "    <span style=\"font-weight: bold\">(</span><span style=\"color: #008000; text-decoration-color: #008000\">'your'</span>, <span style=\"color: #008080; text-decoration-color: #008080; font-weight: bold\">369</span><span style=\"font-weight: bold\">)</span>,\n",
              "    <span style=\"font-weight: bold\">(</span><span style=\"color: #008000; text-decoration-color: #008000\">'did'</span>, <span style=\"color: #008080; text-decoration-color: #008080; font-weight: bold\">361</span><span style=\"font-weight: bold\">)</span>,\n",
              "    <span style=\"font-weight: bold\">(</span><span style=\"color: #008000; text-decoration-color: #008000\">'only'</span>, <span style=\"color: #008080; text-decoration-color: #008080; font-weight: bold\">358</span><span style=\"font-weight: bold\">)</span>,\n",
              "    <span style=\"font-weight: bold\">(</span><span style=\"color: #008000; text-decoration-color: #008000\">'might'</span>, <span style=\"color: #008080; text-decoration-color: #008080; font-weight: bold\">343</span><span style=\"font-weight: bold\">)</span>,\n",
              "    <span style=\"font-weight: bold\">(</span><span style=\"color: #008000; text-decoration-color: #008000\">'know'</span>, <span style=\"color: #008080; text-decoration-color: #008080; font-weight: bold\">342</span><span style=\"font-weight: bold\">)</span>,\n",
              "    <span style=\"font-weight: bold\">(</span><span style=\"color: #008000; text-decoration-color: #008000\">'their'</span>, <span style=\"color: #008080; text-decoration-color: #008080; font-weight: bold\">332</span><span style=\"font-weight: bold\">)</span>,\n",
              "    <span style=\"font-weight: bold\">(</span><span style=\"color: #008000; text-decoration-color: #008000\">'own'</span>, <span style=\"color: #008080; text-decoration-color: #008080; font-weight: bold\">321</span><span style=\"font-weight: bold\">)</span>,\n",
              "    <span style=\"font-weight: bold\">(</span><span style=\"color: #008000; text-decoration-color: #008000\">'wood'</span>, <span style=\"color: #008080; text-decoration-color: #008080; font-weight: bold\">319</span><span style=\"font-weight: bold\">)</span>,\n",
              "    <span style=\"font-weight: bold\">(</span><span style=\"color: #008000; text-decoration-color: #008000\">'who'</span>, <span style=\"color: #008080; text-decoration-color: #008080; font-weight: bold\">319</span><span style=\"font-weight: bold\">)</span>,\n",
              "    <span style=\"font-weight: bold\">(</span><span style=\"color: #008000; text-decoration-color: #008000\">'now'</span>, <span style=\"color: #008080; text-decoration-color: #008080; font-weight: bold\">315</span><span style=\"font-weight: bold\">)</span>,\n",
              "    <span style=\"font-weight: bold\">(</span><span style=\"color: #008000; text-decoration-color: #008000\">'##house'</span>, <span style=\"color: #008080; text-decoration-color: #008080; font-weight: bold\">313</span><span style=\"font-weight: bold\">)</span>,\n",
              "    <span style=\"font-weight: bold\">(</span><span style=\"color: #008000; text-decoration-color: #008000\">'say'</span>, <span style=\"color: #008080; text-decoration-color: #008080; font-weight: bold\">313</span><span style=\"font-weight: bold\">)</span>,\n",
              "    <span style=\"font-weight: bold\">(</span><span style=\"color: #008000; text-decoration-color: #008000\">'jane'</span>, <span style=\"color: #008080; text-decoration-color: #008080; font-weight: bold\">302</span><span style=\"font-weight: bold\">)</span>,\n",
              "    <span style=\"font-weight: bold\">(</span><span style=\"color: #008000; text-decoration-color: #008000\">'can'</span>, <span style=\"color: #008080; text-decoration-color: #008080; font-weight: bold\">297</span><span style=\"font-weight: bold\">)</span>,\n",
              "    <span style=\"font-weight: bold\">(</span><span style=\"color: #008000; text-decoration-color: #008000\">'quite'</span>, <span style=\"color: #008080; text-decoration-color: #008080; font-weight: bold\">290</span><span style=\"font-weight: bold\">)</span>,\n",
              "    <span style=\"font-weight: bold\">(</span><span style=\"color: #008000; text-decoration-color: #008000\">'herself'</span>, <span style=\"color: #008080; text-decoration-color: #008080; font-weight: bold\">288</span><span style=\"font-weight: bold\">)</span>,\n",
              "    <span style=\"font-weight: bold\">(</span><span style=\"color: #008000; text-decoration-color: #008000\">'time'</span>, <span style=\"color: #008080; text-decoration-color: #008080; font-weight: bold\">285</span><span style=\"font-weight: bold\">)</span>\n",
              "<span style=\"font-weight: bold\">]</span>\n",
              "</pre>\n"
            ],
            "text/plain": [
              "\u001b[1m[\u001b[0m\n",
              "    \u001b[1m(\u001b[0m\u001b[32m'the'\u001b[0m, \u001b[1;36m5475\u001b[0m\u001b[1m)\u001b[0m,\n",
              "    \u001b[1m(\u001b[0m\u001b[32m'to'\u001b[0m, \u001b[1;36m5473\u001b[0m\u001b[1m)\u001b[0m,\n",
              "    \u001b[1m(\u001b[0m\u001b[32m'and'\u001b[0m, \u001b[1;36m5119\u001b[0m\u001b[1m)\u001b[0m,\n",
              "    \u001b[1m(\u001b[0m\u001b[32m'of'\u001b[0m, \u001b[1;36m4560\u001b[0m\u001b[1m)\u001b[0m,\n",
              "    \u001b[1m(\u001b[0m\u001b[32m'a'\u001b[0m, \u001b[1;36m3265\u001b[0m\u001b[1m)\u001b[0m,\n",
              "    \u001b[1m(\u001b[0m\u001b[32m'i'\u001b[0m, \u001b[1;36m3221\u001b[0m\u001b[1m)\u001b[0m,\n",
              "    \u001b[1m(\u001b[0m\u001b[32m'it'\u001b[0m, \u001b[1;36m2600\u001b[0m\u001b[1m)\u001b[0m,\n",
              "    \u001b[1m(\u001b[0m\u001b[32m'her'\u001b[0m, \u001b[1;36m2556\u001b[0m\u001b[1m)\u001b[0m,\n",
              "    \u001b[1m(\u001b[0m\u001b[32m'was'\u001b[0m, \u001b[1;36m2484\u001b[0m\u001b[1m)\u001b[0m,\n",
              "    \u001b[1m(\u001b[0m\u001b[32m'she'\u001b[0m, \u001b[1;36m2472\u001b[0m\u001b[1m)\u001b[0m,\n",
              "    \u001b[1m(\u001b[0m\u001b[32m'in'\u001b[0m, \u001b[1;36m2361\u001b[0m\u001b[1m)\u001b[0m,\n",
              "    \u001b[1m(\u001b[0m\u001b[32m'not'\u001b[0m, \u001b[1;36m2186\u001b[0m\u001b[1m)\u001b[0m,\n",
              "    \u001b[1m(\u001b[0m\u001b[32m'be'\u001b[0m, \u001b[1;36m2060\u001b[0m\u001b[1m)\u001b[0m,\n",
              "    \u001b[1m(\u001b[0m\u001b[32m'you'\u001b[0m, \u001b[1;36m1988\u001b[0m\u001b[1m)\u001b[0m,\n",
              "    \u001b[1m(\u001b[0m\u001b[32m'he'\u001b[0m, \u001b[1;36m1885\u001b[0m\u001b[1m)\u001b[0m,\n",
              "    \u001b[1m(\u001b[0m\u001b[32m'that'\u001b[0m, \u001b[1;36m1857\u001b[0m\u001b[1m)\u001b[0m,\n",
              "    \u001b[1m(\u001b[0m\u001b[32m'had'\u001b[0m, \u001b[1;36m1735\u001b[0m\u001b[1m)\u001b[0m,\n",
              "    \u001b[1m(\u001b[0m\u001b[32m'as'\u001b[0m, \u001b[1;36m1519\u001b[0m\u001b[1m)\u001b[0m,\n",
              "    \u001b[1m(\u001b[0m\u001b[32m'but'\u001b[0m, \u001b[1;36m1485\u001b[0m\u001b[1m)\u001b[0m,\n",
              "    \u001b[1m(\u001b[0m\u001b[32m'for'\u001b[0m, \u001b[1;36m1416\u001b[0m\u001b[1m)\u001b[0m,\n",
              "    \u001b[1m(\u001b[0m\u001b[32m'have'\u001b[0m, \u001b[1;36m1362\u001b[0m\u001b[1m)\u001b[0m,\n",
              "    \u001b[1m(\u001b[0m\u001b[32m'is'\u001b[0m, \u001b[1;36m1273\u001b[0m\u001b[1m)\u001b[0m,\n",
              "    \u001b[1m(\u001b[0m\u001b[32m'with'\u001b[0m, \u001b[1;36m1262\u001b[0m\u001b[1m)\u001b[0m,\n",
              "    \u001b[1m(\u001b[0m\u001b[32m'very'\u001b[0m, \u001b[1;36m1242\u001b[0m\u001b[1m)\u001b[0m,\n",
              "    \u001b[1m(\u001b[0m\u001b[32m'his'\u001b[0m, \u001b[1;36m1210\u001b[0m\u001b[1m)\u001b[0m,\n",
              "    \u001b[1m(\u001b[0m\u001b[32m'mr'\u001b[0m, \u001b[1;36m1173\u001b[0m\u001b[1m)\u001b[0m,\n",
              "    \u001b[1m(\u001b[0m\u001b[32m'at'\u001b[0m, \u001b[1;36m1080\u001b[0m\u001b[1m)\u001b[0m,\n",
              "    \u001b[1m(\u001b[0m\u001b[32m'so'\u001b[0m, \u001b[1;36m992\u001b[0m\u001b[1m)\u001b[0m,\n",
              "    \u001b[1m(\u001b[0m\u001b[32m's'\u001b[0m, \u001b[1;36m985\u001b[0m\u001b[1m)\u001b[0m,\n",
              "    \u001b[1m(\u001b[0m\u001b[32m'all'\u001b[0m, \u001b[1;36m904\u001b[0m\u001b[1m)\u001b[0m,\n",
              "    \u001b[1m(\u001b[0m\u001b[32m'emma'\u001b[0m, \u001b[1;36m865\u001b[0m\u001b[1m)\u001b[0m,\n",
              "    \u001b[1m(\u001b[0m\u001b[32m'could'\u001b[0m, \u001b[1;36m860\u001b[0m\u001b[1m)\u001b[0m,\n",
              "    \u001b[1m(\u001b[0m\u001b[32m'would'\u001b[0m, \u001b[1;36m850\u001b[0m\u001b[1m)\u001b[0m,\n",
              "    \u001b[1m(\u001b[0m\u001b[32m'been'\u001b[0m, \u001b[1;36m805\u001b[0m\u001b[1m)\u001b[0m,\n",
              "    \u001b[1m(\u001b[0m\u001b[32m'him'\u001b[0m, \u001b[1;36m781\u001b[0m\u001b[1m)\u001b[0m,\n",
              "    \u001b[1m(\u001b[0m\u001b[32m'no'\u001b[0m, \u001b[1;36m768\u001b[0m\u001b[1m)\u001b[0m,\n",
              "    \u001b[1m(\u001b[0m\u001b[32m'my'\u001b[0m, \u001b[1;36m735\u001b[0m\u001b[1m)\u001b[0m,\n",
              "    \u001b[1m(\u001b[0m\u001b[32m'on'\u001b[0m, \u001b[1;36m721\u001b[0m\u001b[1m)\u001b[0m,\n",
              "    \u001b[1m(\u001b[0m\u001b[32m'mrs'\u001b[0m, \u001b[1;36m707\u001b[0m\u001b[1m)\u001b[0m,\n",
              "    \u001b[1m(\u001b[0m\u001b[32m'any'\u001b[0m, \u001b[1;36m686\u001b[0m\u001b[1m)\u001b[0m,\n",
              "    \u001b[1m(\u001b[0m\u001b[32m'do'\u001b[0m, \u001b[1;36m660\u001b[0m\u001b[1m)\u001b[0m,\n",
              "    \u001b[1m(\u001b[0m\u001b[32m'were'\u001b[0m, \u001b[1;36m621\u001b[0m\u001b[1m)\u001b[0m,\n",
              "    \u001b[1m(\u001b[0m\u001b[32m'##s'\u001b[0m, \u001b[1;36m611\u001b[0m\u001b[1m)\u001b[0m,\n",
              "    \u001b[1m(\u001b[0m\u001b[32m'miss'\u001b[0m, \u001b[1;36m606\u001b[0m\u001b[1m)\u001b[0m,\n",
              "    \u001b[1m(\u001b[0m\u001b[32m'by'\u001b[0m, \u001b[1;36m604\u001b[0m\u001b[1m)\u001b[0m,\n",
              "    \u001b[1m(\u001b[0m\u001b[32m'which'\u001b[0m, \u001b[1;36m601\u001b[0m\u001b[1m)\u001b[0m,\n",
              "    \u001b[1m(\u001b[0m\u001b[32m'must'\u001b[0m, \u001b[1;36m582\u001b[0m\u001b[1m)\u001b[0m,\n",
              "    \u001b[1m(\u001b[0m\u001b[32m'will'\u001b[0m, \u001b[1;36m582\u001b[0m\u001b[1m)\u001b[0m,\n",
              "    \u001b[1m(\u001b[0m\u001b[32m'me'\u001b[0m, \u001b[1;36m582\u001b[0m\u001b[1m)\u001b[0m,\n",
              "    \u001b[1m(\u001b[0m\u001b[32m'there'\u001b[0m, \u001b[1;36m576\u001b[0m\u001b[1m)\u001b[0m,\n",
              "    \u001b[1m(\u001b[0m\u001b[32m'from'\u001b[0m, \u001b[1;36m573\u001b[0m\u001b[1m)\u001b[0m,\n",
              "    \u001b[1m(\u001b[0m\u001b[32m'they'\u001b[0m, \u001b[1;36m562\u001b[0m\u001b[1m)\u001b[0m,\n",
              "    \u001b[1m(\u001b[0m\u001b[32m'what'\u001b[0m, \u001b[1;36m552\u001b[0m\u001b[1m)\u001b[0m,\n",
              "    \u001b[1m(\u001b[0m\u001b[32m'this'\u001b[0m, \u001b[1;36m544\u001b[0m\u001b[1m)\u001b[0m,\n",
              "    \u001b[1m(\u001b[0m\u001b[32m'or'\u001b[0m, \u001b[1;36m514\u001b[0m\u001b[1m)\u001b[0m,\n",
              "    \u001b[1m(\u001b[0m\u001b[32m'harriet'\u001b[0m, \u001b[1;36m506\u001b[0m\u001b[1m)\u001b[0m,\n",
              "    \u001b[1m(\u001b[0m\u001b[32m'much'\u001b[0m, \u001b[1;36m501\u001b[0m\u001b[1m)\u001b[0m,\n",
              "    \u001b[1m(\u001b[0m\u001b[32m'such'\u001b[0m, \u001b[1;36m500\u001b[0m\u001b[1m)\u001b[0m,\n",
              "    \u001b[1m(\u001b[0m\u001b[32m'if'\u001b[0m, \u001b[1;36m496\u001b[0m\u001b[1m)\u001b[0m,\n",
              "    \u001b[1m(\u001b[0m\u001b[32m'an'\u001b[0m, \u001b[1;36m493\u001b[0m\u001b[1m)\u001b[0m,\n",
              "    \u001b[1m(\u001b[0m\u001b[32m'said'\u001b[0m, \u001b[1;36m490\u001b[0m\u001b[1m)\u001b[0m,\n",
              "    \u001b[1m(\u001b[0m\u001b[32m'more'\u001b[0m, \u001b[1;36m488\u001b[0m\u001b[1m)\u001b[0m,\n",
              "    \u001b[1m(\u001b[0m\u001b[32m'one'\u001b[0m, \u001b[1;36m472\u001b[0m\u001b[1m)\u001b[0m,\n",
              "    \u001b[1m(\u001b[0m\u001b[32m'are'\u001b[0m, \u001b[1;36m467\u001b[0m\u001b[1m)\u001b[0m,\n",
              "    \u001b[1m(\u001b[0m\u001b[32m'them'\u001b[0m, \u001b[1;36m450\u001b[0m\u001b[1m)\u001b[0m,\n",
              "    \u001b[1m(\u001b[0m\u001b[32m'every'\u001b[0m, \u001b[1;36m449\u001b[0m\u001b[1m)\u001b[0m,\n",
              "    \u001b[1m(\u001b[0m\u001b[32m'weston'\u001b[0m, \u001b[1;36m448\u001b[0m\u001b[1m)\u001b[0m,\n",
              "    \u001b[1m(\u001b[0m\u001b[32m'am'\u001b[0m, \u001b[1;36m440\u001b[0m\u001b[1m)\u001b[0m,\n",
              "    \u001b[1m(\u001b[0m\u001b[32m'than'\u001b[0m, \u001b[1;36m433\u001b[0m\u001b[1m)\u001b[0m,\n",
              "    \u001b[1m(\u001b[0m\u001b[32m'elton'\u001b[0m, \u001b[1;36m407\u001b[0m\u001b[1m)\u001b[0m,\n",
              "    \u001b[1m(\u001b[0m\u001b[32m'well'\u001b[0m, \u001b[1;36m405\u001b[0m\u001b[1m)\u001b[0m,\n",
              "    \u001b[1m(\u001b[0m\u001b[32m'thing'\u001b[0m, \u001b[1;36m402\u001b[0m\u001b[1m)\u001b[0m,\n",
              "    \u001b[1m(\u001b[0m\u001b[32m'knight'\u001b[0m, \u001b[1;36m398\u001b[0m\u001b[1m)\u001b[0m,\n",
              "    \u001b[1m(\u001b[0m\u001b[32m'##ley'\u001b[0m, \u001b[1;36m398\u001b[0m\u001b[1m)\u001b[0m,\n",
              "    \u001b[1m(\u001b[0m\u001b[32m'think'\u001b[0m, \u001b[1;36m391\u001b[0m\u001b[1m)\u001b[0m,\n",
              "    \u001b[1m(\u001b[0m\u001b[32m'being'\u001b[0m, \u001b[1;36m381\u001b[0m\u001b[1m)\u001b[0m,\n",
              "    \u001b[1m(\u001b[0m\u001b[32m'should'\u001b[0m, \u001b[1;36m380\u001b[0m\u001b[1m)\u001b[0m,\n",
              "    \u001b[1m(\u001b[0m\u001b[32m'how'\u001b[0m, \u001b[1;36m378\u001b[0m\u001b[1m)\u001b[0m,\n",
              "    \u001b[1m(\u001b[0m\u001b[32m'little'\u001b[0m, \u001b[1;36m376\u001b[0m\u001b[1m)\u001b[0m,\n",
              "    \u001b[1m(\u001b[0m\u001b[32m'good'\u001b[0m, \u001b[1;36m376\u001b[0m\u001b[1m)\u001b[0m,\n",
              "    \u001b[1m(\u001b[0m\u001b[32m'we'\u001b[0m, \u001b[1;36m376\u001b[0m\u001b[1m)\u001b[0m,\n",
              "    \u001b[1m(\u001b[0m\u001b[32m'never'\u001b[0m, \u001b[1;36m373\u001b[0m\u001b[1m)\u001b[0m,\n",
              "    \u001b[1m(\u001b[0m\u001b[32m'when'\u001b[0m, \u001b[1;36m372\u001b[0m\u001b[1m)\u001b[0m,\n",
              "    \u001b[1m(\u001b[0m\u001b[32m'your'\u001b[0m, \u001b[1;36m369\u001b[0m\u001b[1m)\u001b[0m,\n",
              "    \u001b[1m(\u001b[0m\u001b[32m'did'\u001b[0m, \u001b[1;36m361\u001b[0m\u001b[1m)\u001b[0m,\n",
              "    \u001b[1m(\u001b[0m\u001b[32m'only'\u001b[0m, \u001b[1;36m358\u001b[0m\u001b[1m)\u001b[0m,\n",
              "    \u001b[1m(\u001b[0m\u001b[32m'might'\u001b[0m, \u001b[1;36m343\u001b[0m\u001b[1m)\u001b[0m,\n",
              "    \u001b[1m(\u001b[0m\u001b[32m'know'\u001b[0m, \u001b[1;36m342\u001b[0m\u001b[1m)\u001b[0m,\n",
              "    \u001b[1m(\u001b[0m\u001b[32m'their'\u001b[0m, \u001b[1;36m332\u001b[0m\u001b[1m)\u001b[0m,\n",
              "    \u001b[1m(\u001b[0m\u001b[32m'own'\u001b[0m, \u001b[1;36m321\u001b[0m\u001b[1m)\u001b[0m,\n",
              "    \u001b[1m(\u001b[0m\u001b[32m'wood'\u001b[0m, \u001b[1;36m319\u001b[0m\u001b[1m)\u001b[0m,\n",
              "    \u001b[1m(\u001b[0m\u001b[32m'who'\u001b[0m, \u001b[1;36m319\u001b[0m\u001b[1m)\u001b[0m,\n",
              "    \u001b[1m(\u001b[0m\u001b[32m'now'\u001b[0m, \u001b[1;36m315\u001b[0m\u001b[1m)\u001b[0m,\n",
              "    \u001b[1m(\u001b[0m\u001b[32m'##house'\u001b[0m, \u001b[1;36m313\u001b[0m\u001b[1m)\u001b[0m,\n",
              "    \u001b[1m(\u001b[0m\u001b[32m'say'\u001b[0m, \u001b[1;36m313\u001b[0m\u001b[1m)\u001b[0m,\n",
              "    \u001b[1m(\u001b[0m\u001b[32m'jane'\u001b[0m, \u001b[1;36m302\u001b[0m\u001b[1m)\u001b[0m,\n",
              "    \u001b[1m(\u001b[0m\u001b[32m'can'\u001b[0m, \u001b[1;36m297\u001b[0m\u001b[1m)\u001b[0m,\n",
              "    \u001b[1m(\u001b[0m\u001b[32m'quite'\u001b[0m, \u001b[1;36m290\u001b[0m\u001b[1m)\u001b[0m,\n",
              "    \u001b[1m(\u001b[0m\u001b[32m'herself'\u001b[0m, \u001b[1;36m288\u001b[0m\u001b[1m)\u001b[0m,\n",
              "    \u001b[1m(\u001b[0m\u001b[32m'time'\u001b[0m, \u001b[1;36m285\u001b[0m\u001b[1m)\u001b[0m\n",
              "\u001b[1m]\u001b[0m\n"
            ]
          },
          "metadata": {},
          "output_type": "display_data"
        }
      ],
      "source": [
        "rprint(gutenberg_tokenized_types.most_common(100))"
      ]
    },
    {
      "cell_type": "code",
      "execution_count": null,
      "metadata": {
        "id": "jP-6w2yfoQ5g"
      },
      "outputs": [],
      "source": [
        "gutenberg_lemmatized_types = Counter(lemmatize(gutenberg_preprocessed_words))"
      ]
    },
    {
      "cell_type": "code",
      "execution_count": null,
      "metadata": {
        "colab": {
          "base_uri": "https://localhost:8080/",
          "height": 389
        },
        "id": "3FZ8bI7Do00y",
        "outputId": "5b23fdc0-44df-4b10-f2a0-65beb2a9275e"
      },
      "outputs": [
        {
          "data": {
            "text/html": [
              "<pre style=\"white-space:pre;overflow-x:auto;line-height:normal;font-family:Menlo,'DejaVu Sans Mono',consolas,'Courier New',monospace\"><span style=\"font-weight: bold\">[</span>\n",
              "    <span style=\"font-weight: bold\">(</span><span style=\"color: #008000; text-decoration-color: #008000\">'be'</span>, <span style=\"color: #008080; text-decoration-color: #008080; font-weight: bold\">8498</span><span style=\"font-weight: bold\">)</span>,\n",
              "    <span style=\"font-weight: bold\">(</span><span style=\"color: #008000; text-decoration-color: #008000\">'the'</span>, <span style=\"color: #008080; text-decoration-color: #008080; font-weight: bold\">5475</span><span style=\"font-weight: bold\">)</span>,\n",
              "    <span style=\"font-weight: bold\">(</span><span style=\"color: #008000; text-decoration-color: #008000\">'to'</span>, <span style=\"color: #008080; text-decoration-color: #008080; font-weight: bold\">5447</span><span style=\"font-weight: bold\">)</span>,\n",
              "    <span style=\"font-weight: bold\">(</span><span style=\"color: #008000; text-decoration-color: #008000\">'and'</span>, <span style=\"color: #008080; text-decoration-color: #008080; font-weight: bold\">5119</span><span style=\"font-weight: bold\">)</span>,\n",
              "    <span style=\"font-weight: bold\">(</span><span style=\"color: #008000; text-decoration-color: #008000\">'of'</span>, <span style=\"color: #008080; text-decoration-color: #008080; font-weight: bold\">4560</span><span style=\"font-weight: bold\">)</span>,\n",
              "    <span style=\"font-weight: bold\">(</span><span style=\"color: #008000; text-decoration-color: #008000\">'I'</span>, <span style=\"color: #008080; text-decoration-color: #008080; font-weight: bold\">3799</span><span style=\"font-weight: bold\">)</span>,\n",
              "    <span style=\"font-weight: bold\">(</span><span style=\"color: #008000; text-decoration-color: #008000\">'she'</span>, <span style=\"color: #008080; text-decoration-color: #008080; font-weight: bold\">3513</span><span style=\"font-weight: bold\">)</span>,\n",
              "    <span style=\"font-weight: bold\">(</span><span style=\"color: #008000; text-decoration-color: #008000\">'have'</span>, <span style=\"color: #008080; text-decoration-color: #008080; font-weight: bold\">3440</span><span style=\"font-weight: bold\">)</span>,\n",
              "    <span style=\"font-weight: bold\">(</span><span style=\"color: #008000; text-decoration-color: #008000\">'a'</span>, <span style=\"color: #008080; text-decoration-color: #008080; font-weight: bold\">3265</span><span style=\"font-weight: bold\">)</span>,\n",
              "    <span style=\"font-weight: bold\">(</span><span style=\"color: #008000; text-decoration-color: #008000\">'he'</span>, <span style=\"color: #008080; text-decoration-color: #008080; font-weight: bold\">2659</span><span style=\"font-weight: bold\">)</span>,\n",
              "    <span style=\"font-weight: bold\">(</span><span style=\"color: #008000; text-decoration-color: #008000\">'it'</span>, <span style=\"color: #008080; text-decoration-color: #008080; font-weight: bold\">2600</span><span style=\"font-weight: bold\">)</span>,\n",
              "    <span style=\"font-weight: bold\">(</span><span style=\"color: #008000; text-decoration-color: #008000\">'not'</span>, <span style=\"color: #008080; text-decoration-color: #008080; font-weight: bold\">2330</span><span style=\"font-weight: bold\">)</span>,\n",
              "    <span style=\"font-weight: bold\">(</span><span style=\"color: #008000; text-decoration-color: #008000\">'in'</span>, <span style=\"color: #008080; text-decoration-color: #008080; font-weight: bold\">2316</span><span style=\"font-weight: bold\">)</span>,\n",
              "    <span style=\"font-weight: bold\">(</span><span style=\"color: #008000; text-decoration-color: #008000\">'you'</span>, <span style=\"color: #008080; text-decoration-color: #008080; font-weight: bold\">1988</span><span style=\"font-weight: bold\">)</span>,\n",
              "    <span style=\"font-weight: bold\">(</span><span style=\"color: #008000; text-decoration-color: #008000\">'that'</span>, <span style=\"color: #008080; text-decoration-color: #008080; font-weight: bold\">1857</span><span style=\"font-weight: bold\">)</span>,\n",
              "    <span style=\"font-weight: bold\">(</span><span style=\"color: #008000; text-decoration-color: #008000\">'as'</span>, <span style=\"color: #008080; text-decoration-color: #008080; font-weight: bold\">1501</span><span style=\"font-weight: bold\">)</span>,\n",
              "    <span style=\"font-weight: bold\">(</span><span style=\"color: #008000; text-decoration-color: #008000\">'but'</span>, <span style=\"color: #008080; text-decoration-color: #008080; font-weight: bold\">1485</span><span style=\"font-weight: bold\">)</span>,\n",
              "    <span style=\"font-weight: bold\">(</span><span style=\"color: #008000; text-decoration-color: #008000\">'her'</span>, <span style=\"color: #008080; text-decoration-color: #008080; font-weight: bold\">1446</span><span style=\"font-weight: bold\">)</span>,\n",
              "    <span style=\"font-weight: bold\">(</span><span style=\"color: #008000; text-decoration-color: #008000\">'for'</span>, <span style=\"color: #008080; text-decoration-color: #008080; font-weight: bold\">1399</span><span style=\"font-weight: bold\">)</span>,\n",
              "    <span style=\"font-weight: bold\">(</span><span style=\"color: #008000; text-decoration-color: #008000\">'do'</span>, <span style=\"color: #008080; text-decoration-color: #008080; font-weight: bold\">1341</span><span style=\"font-weight: bold\">)</span>\n",
              "<span style=\"font-weight: bold\">]</span>\n",
              "</pre>\n"
            ],
            "text/plain": [
              "\u001b[1m[\u001b[0m\n",
              "    \u001b[1m(\u001b[0m\u001b[32m'be'\u001b[0m, \u001b[1;36m8498\u001b[0m\u001b[1m)\u001b[0m,\n",
              "    \u001b[1m(\u001b[0m\u001b[32m'the'\u001b[0m, \u001b[1;36m5475\u001b[0m\u001b[1m)\u001b[0m,\n",
              "    \u001b[1m(\u001b[0m\u001b[32m'to'\u001b[0m, \u001b[1;36m5447\u001b[0m\u001b[1m)\u001b[0m,\n",
              "    \u001b[1m(\u001b[0m\u001b[32m'and'\u001b[0m, \u001b[1;36m5119\u001b[0m\u001b[1m)\u001b[0m,\n",
              "    \u001b[1m(\u001b[0m\u001b[32m'of'\u001b[0m, \u001b[1;36m4560\u001b[0m\u001b[1m)\u001b[0m,\n",
              "    \u001b[1m(\u001b[0m\u001b[32m'I'\u001b[0m, \u001b[1;36m3799\u001b[0m\u001b[1m)\u001b[0m,\n",
              "    \u001b[1m(\u001b[0m\u001b[32m'she'\u001b[0m, \u001b[1;36m3513\u001b[0m\u001b[1m)\u001b[0m,\n",
              "    \u001b[1m(\u001b[0m\u001b[32m'have'\u001b[0m, \u001b[1;36m3440\u001b[0m\u001b[1m)\u001b[0m,\n",
              "    \u001b[1m(\u001b[0m\u001b[32m'a'\u001b[0m, \u001b[1;36m3265\u001b[0m\u001b[1m)\u001b[0m,\n",
              "    \u001b[1m(\u001b[0m\u001b[32m'he'\u001b[0m, \u001b[1;36m2659\u001b[0m\u001b[1m)\u001b[0m,\n",
              "    \u001b[1m(\u001b[0m\u001b[32m'it'\u001b[0m, \u001b[1;36m2600\u001b[0m\u001b[1m)\u001b[0m,\n",
              "    \u001b[1m(\u001b[0m\u001b[32m'not'\u001b[0m, \u001b[1;36m2330\u001b[0m\u001b[1m)\u001b[0m,\n",
              "    \u001b[1m(\u001b[0m\u001b[32m'in'\u001b[0m, \u001b[1;36m2316\u001b[0m\u001b[1m)\u001b[0m,\n",
              "    \u001b[1m(\u001b[0m\u001b[32m'you'\u001b[0m, \u001b[1;36m1988\u001b[0m\u001b[1m)\u001b[0m,\n",
              "    \u001b[1m(\u001b[0m\u001b[32m'that'\u001b[0m, \u001b[1;36m1857\u001b[0m\u001b[1m)\u001b[0m,\n",
              "    \u001b[1m(\u001b[0m\u001b[32m'as'\u001b[0m, \u001b[1;36m1501\u001b[0m\u001b[1m)\u001b[0m,\n",
              "    \u001b[1m(\u001b[0m\u001b[32m'but'\u001b[0m, \u001b[1;36m1485\u001b[0m\u001b[1m)\u001b[0m,\n",
              "    \u001b[1m(\u001b[0m\u001b[32m'her'\u001b[0m, \u001b[1;36m1446\u001b[0m\u001b[1m)\u001b[0m,\n",
              "    \u001b[1m(\u001b[0m\u001b[32m'for'\u001b[0m, \u001b[1;36m1399\u001b[0m\u001b[1m)\u001b[0m,\n",
              "    \u001b[1m(\u001b[0m\u001b[32m'do'\u001b[0m, \u001b[1;36m1341\u001b[0m\u001b[1m)\u001b[0m\n",
              "\u001b[1m]\u001b[0m\n"
            ]
          },
          "metadata": {},
          "output_type": "display_data"
        }
      ],
      "source": [
        "rprint(gutenberg_lemmatized_types.most_common(20))"
      ]
    },
    {
      "cell_type": "code",
      "execution_count": null,
      "metadata": {
        "colab": {
          "base_uri": "https://localhost:8080/",
          "height": 85
        },
        "id": "KEz6waNi69JV",
        "outputId": "fdeacf84-ceea-4c55-82de-d180bc7c0bce"
      },
      "outputs": [
        {
          "data": {
            "text/html": [
              "<pre style=\"white-space:pre;overflow-x:auto;line-height:normal;font-family:Menlo,'DejaVu Sans Mono',consolas,'Courier New',monospace\">Gutenberg\n",
              "</pre>\n"
            ],
            "text/plain": [
              "Gutenberg\n"
            ]
          },
          "metadata": {},
          "output_type": "display_data"
        },
        {
          "data": {
            "text/html": [
              "<pre style=\"white-space:pre;overflow-x:auto;line-height:normal;font-family:Menlo,'DejaVu Sans Mono',consolas,'Courier New',monospace\">Tipos <span style=\"font-weight: bold\">(</span><span style=\"color: #000080; text-decoration-color: #000080\">word-base</span><span style=\"color: #000080; text-decoration-color: #000080; font-weight: bold\">)</span><span style=\"color: #000080; text-decoration-color: #000080\">: </span><span style=\"color: #000080; text-decoration-color: #000080; font-weight: bold\">8112</span>\n",
              "</pre>\n"
            ],
            "text/plain": [
              "Tipos \u001b[1m(\u001b[0m\u001b[34mword-base\u001b[0m\u001b[1;34m)\u001b[0m\u001b[34m: \u001b[0m\u001b[1;34m8112\u001b[0m\n"
            ]
          },
          "metadata": {},
          "output_type": "display_data"
        },
        {
          "data": {
            "text/html": [
              "<pre style=\"white-space:pre;overflow-x:auto;line-height:normal;font-family:Menlo,'DejaVu Sans Mono',consolas,'Courier New',monospace\">Tipos <span style=\"font-weight: bold\">(</span><span style=\"color: #808000; text-decoration-color: #808000\">lemmatized</span><span style=\"color: #808000; text-decoration-color: #808000; font-weight: bold\">)</span><span style=\"color: #808000; text-decoration-color: #808000\">: </span><span style=\"color: #808000; text-decoration-color: #808000; font-weight: bold\">5430</span>\n",
              "</pre>\n"
            ],
            "text/plain": [
              "Tipos \u001b[1m(\u001b[0m\u001b[33mlemmatized\u001b[0m\u001b[1;33m)\u001b[0m\u001b[33m: \u001b[0m\u001b[1;33m5430\u001b[0m\n"
            ]
          },
          "metadata": {},
          "output_type": "display_data"
        },
        {
          "data": {
            "text/html": [
              "<pre style=\"white-space:pre;overflow-x:auto;line-height:normal;font-family:Menlo,'DejaVu Sans Mono',consolas,'Courier New',monospace\">Tipos <span style=\"font-weight: bold\">(</span><span style=\"color: #008000; text-decoration-color: #008000\">sub-word</span><span style=\"color: #008000; text-decoration-color: #008000; font-weight: bold\">)</span><span style=\"color: #008000; text-decoration-color: #008000\">: </span><span style=\"color: #008000; text-decoration-color: #008000; font-weight: bold\">6764</span>\n",
              "</pre>\n"
            ],
            "text/plain": [
              "Tipos \u001b[1m(\u001b[0m\u001b[32msub-word\u001b[0m\u001b[1;32m)\u001b[0m\u001b[32m: \u001b[0m\u001b[1;32m6764\u001b[0m\n"
            ]
          },
          "metadata": {},
          "output_type": "display_data"
        }
      ],
      "source": [
        "rprint(\"Gutenberg\")\n",
        "rprint(f\"Tipos ([blue]word-base): {len(gutenberg_types)}\")\n",
        "rprint(f\"Tipos ([yellow]lemmatized): {len(gutenberg_lemmatized_types)}\")\n",
        "rprint(f\"Tipos ([green]sub-word): {len(gutenberg_tokenized_types)}\")"
      ]
    },
    {
      "cell_type": "markdown",
      "metadata": {
        "id": "GcydjN6lSjqq"
      },
      "source": [
        "#### OOV: out of vocabulary"
      ]
    },
    {
      "cell_type": "markdown",
      "metadata": {
        "id": "jt8G8mzcSjqq"
      },
      "source": [
        "Palabras que se vieron en el entrenamiento pero no estan en el test"
      ]
    },
    {
      "cell_type": "code",
      "execution_count": null,
      "metadata": {
        "colab": {
          "base_uri": "https://localhost:8080/",
          "height": 34
        },
        "id": "moyB-5MzSjqq",
        "outputId": "040173b2-2abb-49a8-a0f4-166ddb2ac96b"
      },
      "outputs": [
        {
          "data": {
            "text/html": [
              "<pre style=\"white-space:pre;overflow-x:auto;line-height:normal;font-family:Menlo,'DejaVu Sans Mono',consolas,'Courier New',monospace\"><span style=\"color: #008080; text-decoration-color: #008080; font-weight: bold\">140000</span> <span style=\"color: #008080; text-decoration-color: #008080; font-weight: bold\">60000</span>\n",
              "</pre>\n"
            ],
            "text/plain": [
              "\u001b[1;36m140000\u001b[0m \u001b[1;36m60000\u001b[0m\n"
            ]
          },
          "metadata": {},
          "output_type": "display_data"
        }
      ],
      "source": [
        "from sklearn.model_selection import train_test_split\n",
        "\n",
        "train_data, test_data = train_test_split(gutenberg_words, test_size=0.3, random_state=42)\n",
        "rprint(len(train_data), len(test_data))"
      ]
    },
    {
      "cell_type": "code",
      "execution_count": null,
      "metadata": {
        "colab": {
          "base_uri": "https://localhost:8080/",
          "height": 51
        },
        "id": "5oQRcd9USjqq",
        "outputId": "5b983fc0-14a2-4262-efa1-226cec573e61"
      },
      "outputs": [
        {
          "data": {
            "text/html": [
              "<pre style=\"white-space:pre;overflow-x:auto;line-height:normal;font-family:Menlo,'DejaVu Sans Mono',consolas,'Courier New',monospace\"><span style=\"font-weight: bold\">{</span><span style=\"color: #008000; text-decoration-color: #008000\">'c'</span>, <span style=\"color: #008000; text-decoration-color: #008000\">'b'</span>, <span style=\"color: #008000; text-decoration-color: #008000\">'e'</span><span style=\"font-weight: bold\">}</span>\n",
              "</pre>\n"
            ],
            "text/plain": [
              "\u001b[1m{\u001b[0m\u001b[32m'c'\u001b[0m, \u001b[32m'b'\u001b[0m, \u001b[32m'e'\u001b[0m\u001b[1m}\u001b[0m\n"
            ]
          },
          "metadata": {},
          "output_type": "display_data"
        },
        {
          "data": {
            "text/html": [
              "<pre style=\"white-space:pre;overflow-x:auto;line-height:normal;font-family:Menlo,'DejaVu Sans Mono',consolas,'Courier New',monospace\"><span style=\"font-weight: bold\">{</span><span style=\"color: #008000; text-decoration-color: #008000\">'y'</span>, <span style=\"color: #008000; text-decoration-color: #008000\">'x'</span><span style=\"font-weight: bold\">}</span>\n",
              "</pre>\n"
            ],
            "text/plain": [
              "\u001b[1m{\u001b[0m\u001b[32m'y'\u001b[0m, \u001b[32m'x'\u001b[0m\u001b[1m}\u001b[0m\n"
            ]
          },
          "metadata": {},
          "output_type": "display_data"
        }
      ],
      "source": [
        "s_1 = {\"a\", \"b\", \"c\", \"d\", \"e\"}\n",
        "s_2 = {\"a\", \"x\", \"y\", \"d\"}\n",
        "rprint(s_1 - s_2)\n",
        "rprint(s_2 - s_1)"
      ]
    },
    {
      "cell_type": "code",
      "execution_count": null,
      "metadata": {
        "id": "TF_wjGDISjqq"
      },
      "outputs": [],
      "source": [
        "oov_test = set(test_data) - set(train_data)"
      ]
    },
    {
      "cell_type": "code",
      "execution_count": null,
      "metadata": {
        "colab": {
          "base_uri": "https://localhost:8080/",
          "height": 68
        },
        "id": "marpiR5ASjqq",
        "outputId": "95ad354a-1918-4b1b-88d1-87b8fdb0fb44"
      },
      "outputs": [
        {
          "data": {
            "text/html": [
              "<pre style=\"white-space:pre;overflow-x:auto;line-height:normal;font-family:Menlo,'DejaVu Sans Mono',consolas,'Courier New',monospace\">creations in train: <span style=\"color: #ff0000; text-decoration-color: #ff0000; font-style: italic\">False</span>\n",
              "</pre>\n"
            ],
            "text/plain": [
              "creations in train: \u001b[3;91mFalse\u001b[0m\n"
            ]
          },
          "metadata": {},
          "output_type": "display_data"
        },
        {
          "data": {
            "text/html": [
              "<pre style=\"white-space:pre;overflow-x:auto;line-height:normal;font-family:Menlo,'DejaVu Sans Mono',consolas,'Courier New',monospace\">unconvinced in train: <span style=\"color: #ff0000; text-decoration-color: #ff0000; font-style: italic\">False</span>\n",
              "</pre>\n"
            ],
            "text/plain": [
              "unconvinced in train: \u001b[3;91mFalse\u001b[0m\n"
            ]
          },
          "metadata": {},
          "output_type": "display_data"
        },
        {
          "data": {
            "text/html": [
              "<pre style=\"white-space:pre;overflow-x:auto;line-height:normal;font-family:Menlo,'DejaVu Sans Mono',consolas,'Courier New',monospace\">_purport_ in train: <span style=\"color: #ff0000; text-decoration-color: #ff0000; font-style: italic\">False</span>\n",
              "</pre>\n"
            ],
            "text/plain": [
              "_purport_ in train: \u001b[3;91mFalse\u001b[0m\n"
            ]
          },
          "metadata": {},
          "output_type": "display_data"
        }
      ],
      "source": [
        "for word in list(oov_test)[:3]:\n",
        "    rprint(f\"{word} in train: {word in set(train_data)}\")"
      ]
    },
    {
      "cell_type": "code",
      "execution_count": null,
      "metadata": {
        "colab": {
          "base_uri": "https://localhost:8080/",
          "height": 34
        },
        "id": "npZU0NTNSjqq",
        "outputId": "9f61bd28-3bcc-4742-ef7d-473502c40b16"
      },
      "outputs": [
        {
          "data": {
            "text/html": [
              "<pre style=\"white-space:pre;overflow-x:auto;line-height:normal;font-family:Menlo,'DejaVu Sans Mono',consolas,'Courier New',monospace\"><span style=\"color: #008080; text-decoration-color: #008080; font-weight: bold\">124016</span> <span style=\"color: #008080; text-decoration-color: #008080; font-weight: bold\">53151</span>\n",
              "</pre>\n"
            ],
            "text/plain": [
              "\u001b[1;36m124016\u001b[0m \u001b[1;36m53151\u001b[0m\n"
            ]
          },
          "metadata": {},
          "output_type": "display_data"
        }
      ],
      "source": [
        "train_tokenized, test_tokenized = train_test_split(gutenberg_tokenized, test_size=0.3, random_state=42)\n",
        "rprint(len(train_tokenized), len(test_tokenized))"
      ]
    },
    {
      "cell_type": "code",
      "execution_count": null,
      "metadata": {
        "id": "6MpEc0DGSjqr"
      },
      "outputs": [],
      "source": [
        "oov_tokenized_test = set(test_tokenized) - set(train_tokenized)"
      ]
    },
    {
      "cell_type": "code",
      "execution_count": null,
      "metadata": {
        "colab": {
          "base_uri": "https://localhost:8080/",
          "height": 51
        },
        "id": "39vXDCFA70db",
        "outputId": "46f165ea-6535-4067-a614-c8f33153eacd"
      },
      "outputs": [
        {
          "data": {
            "text/html": [
              "<pre style=\"white-space:pre;overflow-x:auto;line-height:normal;font-family:Menlo,'DejaVu Sans Mono',consolas,'Courier New',monospace\">OOV <span style=\"font-weight: bold\">(</span><span style=\"color: #808000; text-decoration-color: #808000\">word-base</span><span style=\"color: #808000; text-decoration-color: #808000; font-weight: bold\">)</span><span style=\"color: #808000; text-decoration-color: #808000\">:</span> <span style=\"color: #008080; text-decoration-color: #008080; font-weight: bold\">1114</span>\n",
              "</pre>\n"
            ],
            "text/plain": [
              "OOV \u001b[1m(\u001b[0m\u001b[33mword-base\u001b[0m\u001b[1;33m)\u001b[0m\u001b[33m:\u001b[0m \u001b[1;36m1114\u001b[0m\n"
            ]
          },
          "metadata": {},
          "output_type": "display_data"
        },
        {
          "data": {
            "text/html": [
              "<pre style=\"white-space:pre;overflow-x:auto;line-height:normal;font-family:Menlo,'DejaVu Sans Mono',consolas,'Courier New',monospace\">OOV <span style=\"font-weight: bold\">(</span><span style=\"color: #008000; text-decoration-color: #008000\">sub-word</span><span style=\"color: #008000; text-decoration-color: #008000; font-weight: bold\">)</span><span style=\"color: #008000; text-decoration-color: #008000\">:</span> <span style=\"color: #008080; text-decoration-color: #008080; font-weight: bold\">728</span>\n",
              "</pre>\n"
            ],
            "text/plain": [
              "OOV \u001b[1m(\u001b[0m\u001b[32msub-word\u001b[0m\u001b[1;32m)\u001b[0m\u001b[32m:\u001b[0m \u001b[1;36m728\u001b[0m\n"
            ]
          },
          "metadata": {},
          "output_type": "display_data"
        }
      ],
      "source": [
        "rprint(\"OOV ([yellow]word-base):\", len(oov_test))\n",
        "rprint(\"OOV ([green]sub-word):\", len(oov_tokenized_test))"
      ]
    },
    {
      "cell_type": "markdown",
      "metadata": {
        "id": "QCZ9MV7ecmGo"
      },
      "source": [
        "## Entrenando nuestro modelo con BPE\n",
        "![](https://external-content.duckduckgo.com/iu/?u=https%3A%2F%2Fmedia1.tenor.com%2Fimages%2Fd565618bb1217a7c435579d9172270d0%2Ftenor.gif%3Fitemid%3D3379322&f=1&nofb=1&ipt=9719714edb643995ce9d978c8bab77f5310204960093070e37e183d5372096d9&ipo=images)"
      ]
    },
    {
      "cell_type": "code",
      "execution_count": null,
      "metadata": {
        "colab": {
          "base_uri": "https://localhost:8080/"
        },
        "id": "Fb7ajFAHcscl",
        "outputId": "4e230c4f-3d9b-43a4-c9f4-5d4129cdf4dc"
      },
      "outputs": [
        {
          "name": "stdout",
          "output_type": "stream",
          "text": [
            "\u001b[31mERROR: Operation cancelled by user\u001b[0m\u001b[31m\n",
            "\u001b[0m"
          ]
        }
      ],
      "source": [
        "!pip install subword-nmt"
      ]
    },
    {
      "cell_type": "code",
      "execution_count": null,
      "metadata": {
        "colab": {
          "base_uri": "https://localhost:8080/"
        },
        "id": "JwyeJ5f0dWjE",
        "outputId": "11fb0e70-7c21-45eb-908e-6056fdb1bd3f"
      },
      "outputs": [
        {
          "name": "stdout",
          "output_type": "stream",
          "text": [
            "ls: cannot access '{CORPORA_PATH}': No such file or directory\n"
          ]
        }
      ],
      "source": [
        "!ls {CORPORA_PATH}"
      ]
    },
    {
      "cell_type": "code",
      "execution_count": null,
      "metadata": {
        "colab": {
          "base_uri": "https://localhost:8080/"
        },
        "id": "nLTPhYlzdZMB",
        "outputId": "4b0efe78-45f0-4184-affc-a5d6d1150175",
        "scrolled": true
      },
      "outputs": [
        {
          "name": "stdout",
          "output_type": "stream",
          "text": [
            "cat: {CORPORA_PATH}/gutenberg_plain.txt: No such file or directory\n"
          ]
        }
      ],
      "source": [
        "!cat {CORPORA_PATH}/gutenberg_plain.txt"
      ]
    },
    {
      "cell_type": "code",
      "execution_count": null,
      "metadata": {
        "colab": {
          "base_uri": "https://localhost:8080/"
        },
        "id": "E_oASS5Vc1xz",
        "outputId": "e81406b3-d0fd-47b5-dcb4-951c3d78bde3"
      },
      "outputs": [
        {
          "name": "stdout",
          "output_type": "stream",
          "text": [
            "/bin/bash: line 1: {CORPORA_PATH}/gutenberg_plain.txt: No such file or directory\n"
          ]
        }
      ],
      "source": [
        "!subword-nmt learn-bpe -s 300 < \\\n",
        " {CORPORA_PATH}/gutenberg_plain.txt > \\\n",
        "  {MODELS_PATH}/gutenberg.model"
      ]
    },
    {
      "cell_type": "code",
      "execution_count": null,
      "metadata": {
        "colab": {
          "base_uri": "https://localhost:8080/"
        },
        "id": "FA1pLWxx6ETS",
        "outputId": "750aadb0-f555-4b01-ab12-e732f8ee5e56"
      },
      "outputs": [
        {
          "name": "stdout",
          "output_type": "stream",
          "text": [
            "/bin/bash: line 1: subword-nmt: command not found\n"
          ]
        }
      ],
      "source": [
        "!echo \"I need to process this sentence because tokenization can be useful\" \\\n",
        "| subword-nmt apply-bpe -c {MODELS_PATH}/gutenberg.model"
      ]
    },
    {
      "cell_type": "code",
      "execution_count": null,
      "metadata": {
        "colab": {
          "base_uri": "https://localhost:8080/"
        },
        "id": "HJmcHBtMSjqs",
        "outputId": "6d15915b-126c-4007-fb29-a792ba773255"
      },
      "outputs": [
        {
          "name": "stdout",
          "output_type": "stream",
          "text": [
            "/bin/bash: line 1: {CORPORA_PATH}/gutenberg_plain.txt: No such file or directory\n"
          ]
        }
      ],
      "source": [
        "!subword-nmt learn-bpe -s 1500 < \\\n",
        "{CORPORA_PATH}/gutenberg_plain.txt > \\\n",
        " {MODELS_PATH}/gutenberg_high.model"
      ]
    },
    {
      "cell_type": "code",
      "execution_count": null,
      "metadata": {
        "colab": {
          "base_uri": "https://localhost:8080/"
        },
        "id": "e2dahcJwSjqs",
        "outputId": "e8331919-4930-4b3f-d495-0c7bf43186a5"
      },
      "outputs": [
        {
          "name": "stdout",
          "output_type": "stream",
          "text": [
            "/bin/bash: line 1: subword-nmt: command not found\n"
          ]
        }
      ],
      "source": [
        "!echo \"I need to process this sentence because tokenization can be useful\" \\\n",
        "| subword-nmt apply-bpe -c {MODELS_PATH}/gutenberg_high.model"
      ]
    },
    {
      "cell_type": "markdown",
      "metadata": {
        "id": "sbRQG1WNAbjm"
      },
      "source": [
        "### Aplicandolo a otros corpus: La biblia 📖🇻🇦"
      ]
    },
    {
      "cell_type": "code",
      "execution_count": null,
      "metadata": {
        "id": "6XO4EeM8pkxG"
      },
      "outputs": [],
      "source": [
        "BIBLE_FILE_NAMES = {\"spa\": \"spa-x-bible-reinavaleracontemporanea\", \"eng\": \"eng-x-bible-kingjames\"}"
      ]
    },
    {
      "cell_type": "code",
      "execution_count": null,
      "metadata": {
        "id": "VMNjKQD0NONF"
      },
      "outputs": [],
      "source": [
        "import requests\n",
        "\n",
        "def get_bible_corpus(lang: str) -> str:\n",
        "    \"\"\"Download bible file corpus from GitHub repo\"\"\"\n",
        "    file_name = BIBLE_FILE_NAMES[lang]\n",
        "    r = requests.get(f\"https://raw.githubusercontent.com/ximenina/theturningpoint/main/Detailed/corpora/corpusPBC/{file_name}.txt.clean.txt\")\n",
        "    return r.text\n",
        "\n",
        "def write_plain_text_corpus(raw_text: str, file_name: str) -> None:\n",
        "    \"\"\"Write file text on disk\"\"\"\n",
        "    with open(f\"{file_name}.txt\", \"w\") as f:\n",
        "        f.write(raw_text)"
      ]
    },
    {
      "cell_type": "markdown",
      "metadata": {
        "id": "Q6TDU2HOSjqs"
      },
      "source": [
        "#### Biblia en Inglés"
      ]
    },
    {
      "cell_type": "code",
      "execution_count": null,
      "metadata": {
        "id": "AjtLE1AxSjqs"
      },
      "outputs": [],
      "source": [
        "eng_bible_plain_text = get_bible_corpus(\"eng\")\n",
        "eng_bible_words = eng_bible_plain_text.lower().replace(\"\\n\", \" \").split()"
      ]
    },
    {
      "cell_type": "code",
      "execution_count": null,
      "metadata": {
        "colab": {
          "base_uri": "https://localhost:8080/"
        },
        "id": "sYMESFp8Sjqs",
        "outputId": "be706fea-926a-42cb-d11a-68e2ffd5970c"
      },
      "outputs": [
        {
          "name": "stdout",
          "output_type": "stream",
          "text": [
            "['the', 'beginning', 'of', 'the', 'gospel', 'of', 'jesus', 'christ', ',', 'the']\n"
          ]
        }
      ],
      "source": [
        "print(eng_bible_words[:10])"
      ]
    },
    {
      "cell_type": "code",
      "execution_count": null,
      "metadata": {
        "colab": {
          "base_uri": "https://localhost:8080/"
        },
        "id": "ALk45qwsSjqs",
        "outputId": "1c9a3d8a-6127-4f0f-f221-5dedd4b59525"
      },
      "outputs": [
        {
          "data": {
            "text/plain": [
              "30963"
            ]
          },
          "execution_count": 12,
          "metadata": {},
          "output_type": "execute_result"
        }
      ],
      "source": [
        "len(eng_bible_words)"
      ]
    },
    {
      "cell_type": "code",
      "execution_count": null,
      "metadata": {
        "colab": {
          "base_uri": "https://localhost:8080/",
          "height": 141
        },
        "id": "TGH_NKhDSjqs",
        "outputId": "1a9a51c2-8e34-4b75-978c-1a7348fae37c"
      },
      "outputs": [
        {
          "ename": "NameError",
          "evalue": "name 'Counter' is not defined",
          "output_type": "error",
          "traceback": [
            "\u001b[0;31m---------------------------------------------------------------------------\u001b[0m",
            "\u001b[0;31mNameError\u001b[0m                                 Traceback (most recent call last)",
            "\u001b[0;32m<ipython-input-13-dedb120b35b9>\u001b[0m in \u001b[0;36m<cell line: 0>\u001b[0;34m()\u001b[0m\n\u001b[0;32m----> 1\u001b[0;31m \u001b[0meng_bible_types\u001b[0m \u001b[0;34m=\u001b[0m \u001b[0mCounter\u001b[0m\u001b[0;34m(\u001b[0m\u001b[0meng_bible_words\u001b[0m\u001b[0;34m)\u001b[0m\u001b[0;34m\u001b[0m\u001b[0;34m\u001b[0m\u001b[0m\n\u001b[0m",
            "\u001b[0;31mNameError\u001b[0m: name 'Counter' is not defined"
          ]
        }
      ],
      "source": [
        "eng_bible_types = Counter(eng_bible_words)"
      ]
    },
    {
      "cell_type": "code",
      "execution_count": null,
      "metadata": {
        "id": "GC5P3Yn_Sjqs"
      },
      "outputs": [],
      "source": [
        "rprint(eng_bible_types.most_common(30))"
      ]
    },
    {
      "cell_type": "code",
      "execution_count": null,
      "metadata": {
        "id": "adgpqpBdSjqs"
      },
      "outputs": [],
      "source": [
        "eng_bible_lemmas_types = Counter(lemmatize(eng_bible_words, lang=\"en\"))"
      ]
    },
    {
      "cell_type": "code",
      "execution_count": null,
      "metadata": {
        "id": "QrIkXJGxSjqs"
      },
      "outputs": [],
      "source": [
        "write_plain_text_corpus(eng_bible_plain_text, f\"{CORPORA_PATH}/eng-bible\")"
      ]
    },
    {
      "cell_type": "code",
      "execution_count": null,
      "metadata": {
        "id": "JFGwzRc4Sjqs"
      },
      "outputs": [],
      "source": [
        "!subword-nmt apply-bpe -c {MODELS_PATH}/gutenberg_high.model < \\\n",
        " {CORPORA_PATH}/eng-bible.txt > \\\n",
        " {CORPORA_PATH}/eng-bible-tokenized.txt"
      ]
    },
    {
      "cell_type": "code",
      "execution_count": null,
      "metadata": {
        "id": "fzodgfBnSjqs"
      },
      "outputs": [],
      "source": [
        "with open(f\"{CORPORA_PATH}/eng-bible-tokenized.txt\", 'r') as f:\n",
        "    tokenized_data = f.read()\n",
        "eng_bible_tokenized = tokenized_data.split()"
      ]
    },
    {
      "cell_type": "code",
      "execution_count": null,
      "metadata": {
        "id": "qqhNQ2YdSjqs"
      },
      "outputs": [],
      "source": [
        "rprint(eng_bible_tokenized[:10])"
      ]
    },
    {
      "cell_type": "code",
      "execution_count": null,
      "metadata": {
        "id": "EAveIccUSjqs"
      },
      "outputs": [],
      "source": [
        "len(eng_bible_tokenized)"
      ]
    },
    {
      "cell_type": "code",
      "execution_count": null,
      "metadata": {
        "id": "p2uvQjAdSjqt"
      },
      "outputs": [],
      "source": [
        "eng_bible_tokenized_types = Counter(eng_bible_tokenized)\n",
        "len(eng_bible_tokenized_types)"
      ]
    },
    {
      "cell_type": "code",
      "execution_count": null,
      "metadata": {
        "id": "_nQjLlsxSjqt"
      },
      "outputs": [],
      "source": [
        "eng_bible_tokenized_types.most_common(30)"
      ]
    },
    {
      "cell_type": "markdown",
      "metadata": {
        "id": "Hz_HgraASjqt"
      },
      "source": [
        "#### ¿Qué pasa si aplicamos el modelo aprendido con Gutenberg a otras lenguas?"
      ]
    },
    {
      "cell_type": "code",
      "execution_count": null,
      "metadata": {
        "id": "HnYGl4NtNueJ"
      },
      "outputs": [],
      "source": [
        "spa_bible_plain_text = get_bible_corpus('spa')\n",
        "spa_bible_words = spa_bible_plain_text.replace(\"\\n\", \" \").lower().split()"
      ]
    },
    {
      "cell_type": "code",
      "execution_count": null,
      "metadata": {
        "id": "brmETSDiPEkV"
      },
      "outputs": [],
      "source": [
        "spa_bible_words[:10]"
      ]
    },
    {
      "cell_type": "code",
      "execution_count": null,
      "metadata": {
        "id": "FdgN5Br7P5-X"
      },
      "outputs": [],
      "source": [
        "len(spa_bible_words)"
      ]
    },
    {
      "cell_type": "code",
      "execution_count": null,
      "metadata": {
        "id": "otFwhvKCQA7p"
      },
      "outputs": [],
      "source": [
        "spa_bible_types = Counter(spa_bible_words)\n",
        "len(spa_bible_types)"
      ]
    },
    {
      "cell_type": "code",
      "execution_count": null,
      "metadata": {
        "id": "ynLly3NoQKES"
      },
      "outputs": [],
      "source": [
        "spa_bible_types.most_common(30)"
      ]
    },
    {
      "cell_type": "code",
      "execution_count": null,
      "metadata": {
        "id": "qLLWH8vmul4d"
      },
      "outputs": [],
      "source": [
        "spa_bible_lemmas_types = Counter(lemmatize(spa_bible_words, lang=\"es\"))\n",
        "len(spa_bible_lemmas_types)"
      ]
    },
    {
      "cell_type": "code",
      "execution_count": null,
      "metadata": {
        "id": "o3x3DZ8zr8uc"
      },
      "outputs": [],
      "source": [
        "write_plain_text_corpus(spa_bible_plain_text, f\"{CORPORA_PATH}/spa-bible\")"
      ]
    },
    {
      "cell_type": "code",
      "execution_count": null,
      "metadata": {
        "id": "i8pEgnudKvWQ"
      },
      "outputs": [],
      "source": [
        "!subword-nmt apply-bpe -c {MODELS_PATH}/gutenberg_high.model < \\\n",
        " {CORPORA_PATH}/spa-bible.txt > \\\n",
        " {CORPORA_PATH}/spa-bible-tokenized.txt"
      ]
    },
    {
      "cell_type": "code",
      "execution_count": null,
      "metadata": {
        "id": "mbS7LM26LMBA"
      },
      "outputs": [],
      "source": [
        "with open(f\"{CORPORA_PATH}/spa-bible-tokenized.txt\", \"r\") as f:\n",
        "    tokenized_text = f.read()\n",
        "spa_bible_tokenized = tokenized_text.split()"
      ]
    },
    {
      "cell_type": "code",
      "execution_count": null,
      "metadata": {
        "id": "hB60BSTYMOD-"
      },
      "outputs": [],
      "source": [
        "spa_bible_tokenized[:10]"
      ]
    },
    {
      "cell_type": "code",
      "execution_count": null,
      "metadata": {
        "id": "bqMFr9h3L0Km"
      },
      "outputs": [],
      "source": [
        "len(spa_bible_tokenized)"
      ]
    },
    {
      "cell_type": "code",
      "execution_count": null,
      "metadata": {
        "id": "lrXsWTwXMLoD"
      },
      "outputs": [],
      "source": [
        "spa_bible_tokenized_types = Counter(spa_bible_tokenized)\n",
        "len(spa_bible_tokenized_types)"
      ]
    },
    {
      "cell_type": "code",
      "execution_count": null,
      "metadata": {
        "id": "tmF_dkiDMeaA",
        "scrolled": true
      },
      "outputs": [],
      "source": [
        "spa_bible_tokenized_types.most_common(40)"
      ]
    },
    {
      "cell_type": "markdown",
      "metadata": {
        "id": "pxkw79ldAnrP"
      },
      "source": [
        "### Type-token Ratio (TTR)\n",
        "\n",
        "- Una forma de medir la variazión del vocabulario en un corpus\n",
        "- Este se calcula como $TTR = \\frac{len(types)}{len(tokens)}$\n",
        "- Puede ser útil para monitorear la variación lexica de un texto"
      ]
    },
    {
      "cell_type": "code",
      "execution_count": null,
      "metadata": {
        "id": "b5ey_DGoAj9-"
      },
      "outputs": [],
      "source": [
        "rprint(\"Información de la biblia en Inglés\")\n",
        "rprint(\"Tokens:\", len(eng_bible_words))\n",
        "rprint(\"Types ([blue]word-base):\", len(eng_bible_types))\n",
        "rprint(\"Types ([yellow]lemmatized)\", len(eng_bible_lemmas_types))\n",
        "rprint(\"Types ([green]BPE):\", len(eng_bible_tokenized_types))\n",
        "rprint(\"TTR ([blue]word-base):\", len(eng_bible_types)/len(eng_bible_words))\n",
        "rprint(\"TTR ([green]BPE):\", len(eng_bible_tokenized_types)/len(eng_bible_tokenized))"
      ]
    },
    {
      "cell_type": "code",
      "execution_count": null,
      "metadata": {
        "id": "lGwkIrisSjqt"
      },
      "outputs": [],
      "source": [
        "rprint(\"Bible Spanish Information\")\n",
        "rprint(\"Tokens:\", len(spa_bible_words))\n",
        "rprint(\"Types ([blue]word-base):\", len(spa_bible_types))\n",
        "rprint(\"Types ([yellow]lemmatized)\", len(spa_bible_lemmas_types))\n",
        "rprint(\"Types ([green]BPE):\", len(spa_bible_tokenized_types))\n",
        "rprint(\"TTR ([blue]word-base):\", len(spa_bible_types)/len(spa_bible_words))\n",
        "rprint(\"TTR ([green]BPE):\", len(spa_bible_tokenized_types)/len(spa_bible_tokenized))"
      ]
    },
    {
      "cell_type": "markdown",
      "metadata": {
        "id": "EN_Id7U0Dww9"
      },
      "source": [
        "## Modelos del Lenguaje Neuronales (Bengio)"
      ]
    },
    {
      "cell_type": "markdown",
      "metadata": {
        "id": "nQxQ-WXSGQEH"
      },
      "source": [
        "- [(Bengio et al 2003)](https://dl.acm.org/doi/10.5555/944919.944966) proponen una arquitecura neuronal como alternativa a los modelos del lenguaje estadísticos\n",
        "- Esta arquitectura lidia mejor con los casos donde las probabilidades se hacen cero, sin necesidad de aplicar una técnica de smoothing."
      ]
    },
    {
      "cell_type": "markdown",
      "metadata": {
        "id": "NopnRFEqGH1C"
      },
      "source": [
        "<p float=\"left\">\n",
        "  <img src=\"https://toppng.com/public/uploads/preview/at-the-movies-will-smith-meme-tada-11562851401lnexjqtwf9.png\" width=\"100\" />\n",
        "  <img src=\"https://abhinavcreed13.github.io/assets/images/bengio-model.png\" width=\"600\"/>\n",
        "</p>"
      ]
    },
    {
      "cell_type": "code",
      "execution_count": 49,
      "metadata": {
        "colab": {
          "base_uri": "https://localhost:8080/"
        },
        "id": "UlUKrJl9Dy7T",
        "outputId": "29d4a56c-d4bc-45db-e80d-2f785b7d20bb"
      },
      "outputs": [
        {
          "output_type": "stream",
          "name": "stderr",
          "text": [
            "[nltk_data] Downloading package reuters to /root/nltk_data...\n",
            "[nltk_data]   Package reuters is already up-to-date!\n",
            "[nltk_data] Downloading package punkt_tab to /root/nltk_data...\n",
            "[nltk_data]   Package punkt_tab is already up-to-date!\n",
            "[nltk_data] Downloading package stopwords to /root/nltk_data...\n",
            "[nltk_data]   Unzipping corpora/stopwords.zip.\n"
          ]
        }
      ],
      "source": [
        "nltk.download('reuters')\n",
        "nltk.download('punkt_tab')\n",
        "nltk.download('stopwords')\n",
        "\n",
        "from nltk.corpus import reuters, stopwords\n",
        "from nltk import ngrams"
      ]
    },
    {
      "cell_type": "code",
      "execution_count": 3,
      "metadata": {
        "id": "yCTD_uvCkdmR"
      },
      "outputs": [],
      "source": [
        "def preprocess_corpus(corpus: list[str]) -> list[str]:\n",
        "    \"\"\"Función de preprocesamiento\n",
        "\n",
        "    Esta función está diseñada para preprocesar\n",
        "    corpus para modelos del lenguaje neuronales.\n",
        "    Agrega tokens de inicio y fin, normaliza\n",
        "    palabras a minusculas\n",
        "    \"\"\"\n",
        "    preprocessed_corpus = []\n",
        "    for sent in corpus:\n",
        "        result = [word.lower() for word in sent]\n",
        "        # Al final de la oración\n",
        "        result.append(\"<EOS>\")\n",
        "        result.insert(0, \"<BOS>\")\n",
        "        preprocessed_corpus.append(result)\n",
        "    return preprocessed_corpus"
      ]
    },
    {
      "cell_type": "code",
      "execution_count": 4,
      "metadata": {
        "id": "Xh5B-1SNks3m"
      },
      "outputs": [],
      "source": [
        "def get_words_freqs(corpus: list[list[str]]):\n",
        "    \"\"\"Calcula la frecuencia de las palabras en un corpus\"\"\"\n",
        "    words_freqs = {}\n",
        "    for sentence in corpus:\n",
        "        for word in sentence:\n",
        "            words_freqs[word] = words_freqs.get(word, 0) + 1\n",
        "    return words_freqs"
      ]
    },
    {
      "cell_type": "code",
      "execution_count": 5,
      "metadata": {
        "id": "cvAfVr3spIxH"
      },
      "outputs": [],
      "source": [
        "UNK_LABEL = \"<UNK>\"\n",
        "def get_words_indexes(words_freqs: dict) -> dict:\n",
        "    \"\"\"Calcula los indices de las palabras dadas sus frecuencias\"\"\"\n",
        "    result = {}\n",
        "    for idx, word in enumerate(words_freqs.keys()):\n",
        "        # Happax legomena happends\n",
        "        if words_freqs[word] == 1:\n",
        "            # Temp index for unknowns\n",
        "            result[UNK_LABEL] = len(words_freqs)\n",
        "        else:\n",
        "            result[word] = idx\n",
        "\n",
        "    return {word: idx for idx, word in enumerate(result.keys())}, {idx: word for idx, word in enumerate(result.keys())}"
      ]
    },
    {
      "cell_type": "code",
      "execution_count": 6,
      "metadata": {
        "id": "b_mFJJCKo0Lb"
      },
      "outputs": [],
      "source": [
        "corpus = preprocess_corpus(reuters.sents())"
      ]
    },
    {
      "cell_type": "code",
      "execution_count": 7,
      "metadata": {
        "colab": {
          "base_uri": "https://localhost:8080/"
        },
        "id": "lkdXaTeasChe",
        "outputId": "8ea8ceca-4db9-4001-f587-fa4c9e6c6c9a"
      },
      "outputs": [
        {
          "output_type": "execute_result",
          "data": {
            "text/plain": [
              "54716"
            ]
          },
          "metadata": {},
          "execution_count": 7
        }
      ],
      "source": [
        "len(corpus)"
      ]
    },
    {
      "cell_type": "code",
      "execution_count": 8,
      "metadata": {
        "id": "Q6tFRiR6pYb8"
      },
      "outputs": [],
      "source": [
        "words_freqs = get_words_freqs(corpus)"
      ]
    },
    {
      "cell_type": "code",
      "execution_count": 9,
      "metadata": {
        "colab": {
          "base_uri": "https://localhost:8080/"
        },
        "id": "FU2OvRa0qrS7",
        "outputId": "97bb711c-d7fc-48b8-e88c-7d75a31c1d8c"
      },
      "outputs": [
        {
          "output_type": "execute_result",
          "data": {
            "text/plain": [
              "69277"
            ]
          },
          "metadata": {},
          "execution_count": 9
        }
      ],
      "source": [
        "words_freqs[\"the\"]"
      ]
    },
    {
      "cell_type": "code",
      "execution_count": 10,
      "metadata": {
        "colab": {
          "base_uri": "https://localhost:8080/"
        },
        "id": "l6UNIB2Ndqg5",
        "outputId": "970a47a2-9a7e-4837-8063-e557848d82d3"
      },
      "outputs": [
        {
          "output_type": "execute_result",
          "data": {
            "text/plain": [
              "31079"
            ]
          },
          "metadata": {},
          "execution_count": 10
        }
      ],
      "source": [
        "len(words_freqs)"
      ]
    },
    {
      "cell_type": "code",
      "execution_count": 11,
      "metadata": {
        "colab": {
          "base_uri": "https://localhost:8080/"
        },
        "id": "SwjAv9UBpeeI",
        "outputId": "a9f83ccd-bf6f-4680-dd90-5f9b5e472998"
      },
      "outputs": [
        {
          "output_type": "stream",
          "name": "stdout",
          "text": [
            "inflict 1\n",
            "sheen 1\n",
            "avowed 1\n",
            "kilolitres 1\n",
            "janunary 1\n",
            "pineapples 1\n",
            "hasrul 1\n",
            "paian 1\n",
            "sawn 1\n",
            "goodall 1\n",
            "bundey 1\n"
          ]
        }
      ],
      "source": [
        "count = 0\n",
        "for word, freq in words_freqs.items():\n",
        "    if freq == 1 and count <= 10:\n",
        "        print(word, freq)\n",
        "        count += 1"
      ]
    },
    {
      "cell_type": "code",
      "execution_count": 12,
      "metadata": {
        "id": "PPcDgLLSpinR"
      },
      "outputs": [],
      "source": [
        "words_indexes, index_to_word = get_words_indexes(words_freqs)"
      ]
    },
    {
      "cell_type": "code",
      "execution_count": 13,
      "metadata": {
        "colab": {
          "base_uri": "https://localhost:8080/"
        },
        "id": "CweL7VBqpfkN",
        "outputId": "e6e89f25-dfb6-41d4-8663-74e1b77c6219"
      },
      "outputs": [
        {
          "output_type": "execute_result",
          "data": {
            "text/plain": [
              "16"
            ]
          },
          "metadata": {},
          "execution_count": 13
        }
      ],
      "source": [
        "words_indexes[\"the\"]"
      ]
    },
    {
      "cell_type": "code",
      "execution_count": 14,
      "metadata": {
        "colab": {
          "base_uri": "https://localhost:8080/",
          "height": 35
        },
        "id": "pYm6RWBQWcP3",
        "outputId": "9a1d0f4b-7208-4d2d-f646-2e65ba24665e"
      },
      "outputs": [
        {
          "output_type": "execute_result",
          "data": {
            "text/plain": [
              "'the'"
            ],
            "application/vnd.google.colaboratory.intrinsic+json": {
              "type": "string"
            }
          },
          "metadata": {},
          "execution_count": 14
        }
      ],
      "source": [
        "index_to_word[16]"
      ]
    },
    {
      "cell_type": "code",
      "execution_count": 15,
      "metadata": {
        "colab": {
          "base_uri": "https://localhost:8080/"
        },
        "id": "8_Qik6p5duon",
        "outputId": "1764f979-4040-43fa-87c4-0db11306881a"
      },
      "outputs": [
        {
          "output_type": "execute_result",
          "data": {
            "text/plain": [
              "20056"
            ]
          },
          "metadata": {},
          "execution_count": 15
        }
      ],
      "source": [
        "len(words_indexes)"
      ]
    },
    {
      "cell_type": "code",
      "execution_count": 16,
      "metadata": {
        "colab": {
          "base_uri": "https://localhost:8080/"
        },
        "id": "3Ch0CnS5WgIG",
        "outputId": "9128603b-8622-4fd3-c739-63aae5694147"
      },
      "outputs": [
        {
          "output_type": "execute_result",
          "data": {
            "text/plain": [
              "20056"
            ]
          },
          "metadata": {},
          "execution_count": 16
        }
      ],
      "source": [
        "len(index_to_word)"
      ]
    },
    {
      "cell_type": "code",
      "execution_count": 17,
      "metadata": {
        "id": "wlESyaQhpvTr"
      },
      "outputs": [],
      "source": [
        "def get_word_id(words_indexes: dict, word: str) -> int:\n",
        "    \"\"\"Obtiene el id de una palabra dada\n",
        "\n",
        "    Si no se encuentra la palabra se regresa el id\n",
        "    del token UNK\n",
        "    \"\"\"\n",
        "    unk_word_id = words_indexes[UNK_LABEL]\n",
        "    return words_indexes.get(word, unk_word_id)"
      ]
    },
    {
      "cell_type": "markdown",
      "metadata": {
        "id": "gRvZpX4xTfHo"
      },
      "source": [
        "### Obtenemos trigramas"
      ]
    },
    {
      "cell_type": "markdown",
      "metadata": {
        "id": "gMl4BlMyTjqr"
      },
      "source": [
        "Convertiremos los trigramas obtenidos a secuencias de idx, y preparamos el conjunto de entrenamiento $x$ y $y$\n",
        "\n",
        "- x: Contexto\n",
        "- y: Predicción de la siguiente palabra"
      ]
    },
    {
      "cell_type": "code",
      "execution_count": 18,
      "metadata": {
        "id": "AldgYb33Tbrv"
      },
      "outputs": [],
      "source": [
        "def get_train_test_data(corpus: list[list[str]], words_indexes: dict, n: int) -> tuple[list, list]:\n",
        "    \"\"\"Obtiene el conjunto de train y test\n",
        "\n",
        "    Requerido en el step de entrenamiento del modelo neuronal\n",
        "    \"\"\"\n",
        "    x_train = []\n",
        "    y_train = []\n",
        "    for sent in corpus:\n",
        "        n_grams = ngrams(sent, n)\n",
        "        for w1, w2, w3 in n_grams:\n",
        "            x_train.append([get_word_id(words_indexes, w1), get_word_id(words_indexes, w2)])\n",
        "            y_train.append([get_word_id(words_indexes, w3)])\n",
        "    return x_train, y_train"
      ]
    },
    {
      "cell_type": "markdown",
      "metadata": {
        "id": "zB-L1K8ralQd"
      },
      "source": [
        "### Preparando Pytorch\n",
        "\n",
        "$x' = e(x_1) \\oplus e(x_2)$\n",
        "\n",
        "$h = \\tanh(W_1 x' + b)$\n",
        "\n",
        "$y = softmax(W_2 h)$"
      ]
    },
    {
      "cell_type": "code",
      "execution_count": 19,
      "metadata": {
        "colab": {
          "base_uri": "https://localhost:8080/"
        },
        "id": "S7W1bDPVahid",
        "outputId": "5acdbaa3-5c55-44e3-8270-1c5db5588755"
      },
      "outputs": [
        {
          "output_type": "stream",
          "name": "stdout",
          "text": [
            "Mounted at /content/drive\n"
          ]
        }
      ],
      "source": [
        "# cargamos bibliotecas\n",
        "import torch\n",
        "from torch import nn\n",
        "import torch.nn.functional as F\n",
        "import torch.optim as optim\n",
        "from torch.utils.data import DataLoader\n",
        "from google.colab import drive\n",
        "import time\n",
        "drive.mount('/content/drive', force_remount=True)"
      ]
    },
    {
      "cell_type": "code",
      "execution_count": 20,
      "metadata": {
        "id": "mrUUVaf6a1jp"
      },
      "outputs": [],
      "source": [
        "# Setup de parametros\n",
        "EMBEDDING_DIM = 200\n",
        "CONTEXT_SIZE = 2\n",
        "BATCH_SIZE = 256\n",
        "H = 100\n",
        "torch.manual_seed(42)\n",
        "# Tamaño del Vocabulario\n",
        "V = len(words_indexes)"
      ]
    },
    {
      "cell_type": "code",
      "execution_count": 21,
      "metadata": {
        "id": "GhS0a_JEa5KI"
      },
      "outputs": [],
      "source": [
        "x_train, y_train = get_train_test_data(corpus, words_indexes, n=3)"
      ]
    },
    {
      "cell_type": "code",
      "execution_count": 22,
      "metadata": {
        "id": "L9x6cmTCbHUK"
      },
      "outputs": [],
      "source": [
        "import numpy as np\n",
        "\n",
        "train_set = np.concatenate((x_train, y_train), axis=1)\n",
        "# partimos los datos de entrada en batches\n",
        "train_loader = DataLoader(train_set, batch_size = BATCH_SIZE)"
      ]
    },
    {
      "cell_type": "markdown",
      "metadata": {
        "id": "lORC1f2PB0Q4"
      },
      "source": [
        "### Creamos la arquitectura del modelo"
      ]
    },
    {
      "cell_type": "code",
      "execution_count": 24,
      "metadata": {
        "id": "Sg8coyLvB-av"
      },
      "outputs": [],
      "source": [
        "# Trigram Neural Network Model\n",
        "class TrigramModel(nn.Module):\n",
        "    \"\"\"Clase padre: https://pytorch.org/docs/stable/generated/torch.nn.Module.html\"\"\"\n",
        "\n",
        "    def __init__(self, vocab_size, embedding_dim, context_size, h):\n",
        "        super(TrigramModel, self).__init__()\n",
        "        self.context_size = context_size\n",
        "        self.embedding_dim = embedding_dim\n",
        "        self.embeddings = nn.Embedding(vocab_size, embedding_dim)\n",
        "        self.linear1 = nn.Linear(context_size * embedding_dim, h)\n",
        "        self.linear2 = nn.Linear(h, vocab_size)\n",
        "\n",
        "    def forward(self, inputs):\n",
        "        # x': concatenation of x1 and x2 embeddings   -->\n",
        "        # self.embeddings regresa un vector por cada uno de los índices que se les pase como entrada.\n",
        "        # view() les cambia el tamaño para concatenarlos\n",
        "        embeds = self.embeddings(inputs).view((-1,self.context_size * self.embedding_dim))\n",
        "        # h: tanh(W_1.x' + b)  -->\n",
        "        out = torch.tanh(self.linear1(embeds))\n",
        "        # W_2.h                 -->\n",
        "        out = self.linear2(out)\n",
        "        # log_softmax(W_2.h)      -->\n",
        "        # dim=1 para que opere sobre renglones, pues al usar batchs tenemos varios vectores de salida\n",
        "        log_probs = F.log_softmax(out, dim=1)\n",
        "\n",
        "        return log_probs"
      ]
    },
    {
      "cell_type": "code",
      "execution_count": 25,
      "metadata": {
        "id": "NE_68PTX3kQo"
      },
      "outputs": [],
      "source": [
        "# Seleccionar la GPU si está disponible\n",
        "device = torch.accelerator.current_accelerator().type if torch.accelerator.is_available() else \"cpu\""
      ]
    },
    {
      "cell_type": "code",
      "execution_count": 27,
      "metadata": {
        "colab": {
          "base_uri": "https://localhost:8080/"
        },
        "id": "JWRS5Ir_CqkN",
        "outputId": "c9e8b714-f96e-4023-8a32-b6fd373a61c3"
      },
      "outputs": [
        {
          "output_type": "stream",
          "name": "stdout",
          "text": [
            "Training on device cpu\n",
            "\n",
            "--- Training model Epoch: 0 ---\n",
            "Training Iteration 0 of epoch 0 complete. Loss: 9.913684844970703; Time taken (s): 0.45997190475463867\n",
            "Training Iteration 500 of epoch 0 complete. Loss: 5.7369279861450195; Time taken (s): 88.40837550163269\n",
            "Training Iteration 1000 of epoch 0 complete. Loss: 5.31139612197876; Time taken (s): 79.8763198852539\n",
            "Training Iteration 1500 of epoch 0 complete. Loss: 3.9569344520568848; Time taken (s): 80.29462838172913\n",
            "Training Iteration 2000 of epoch 0 complete. Loss: 4.986577033996582; Time taken (s): 81.82195329666138\n",
            "Training Iteration 2500 of epoch 0 complete. Loss: 4.677121639251709; Time taken (s): 82.58262348175049\n",
            "Training Iteration 3000 of epoch 0 complete. Loss: 4.112558364868164; Time taken (s): 83.52183747291565\n",
            "Training Iteration 3500 of epoch 0 complete. Loss: 4.538654804229736; Time taken (s): 84.07136178016663\n",
            "Training Iteration 4000 of epoch 0 complete. Loss: 5.544379234313965; Time taken (s): 84.04395318031311\n",
            "Training Iteration 4500 of epoch 0 complete. Loss: 5.192338466644287; Time taken (s): 83.98258972167969\n",
            "Training Iteration 5000 of epoch 0 complete. Loss: 4.508123397827148; Time taken (s): 84.45980596542358\n",
            "Training Iteration 5500 of epoch 0 complete. Loss: 4.123260974884033; Time taken (s): 85.81635808944702\n",
            "Training Iteration 6000 of epoch 0 complete. Loss: 4.916527271270752; Time taken (s): 84.94133877754211\n",
            "Training Iteration 6500 of epoch 0 complete. Loss: 5.072262287139893; Time taken (s): 85.23932719230652\n",
            "Model saved for epoch=0 at drive/MyDrive/LM_neuronal/model_cpu_context_2_epoch_0.dat\n",
            "\n",
            "--- Training model Epoch: 1 ---\n",
            "Training Iteration 0 of epoch 1 complete. Loss: 4.9838080406188965; Time taken (s): 0.19078922271728516\n",
            "Training Iteration 500 of epoch 1 complete. Loss: 4.6415534019470215; Time taken (s): 85.80631232261658\n",
            "Training Iteration 1000 of epoch 1 complete. Loss: 4.685194492340088; Time taken (s): 87.20823335647583\n",
            "Training Iteration 1500 of epoch 1 complete. Loss: 3.4020707607269287; Time taken (s): 84.89645719528198\n",
            "Training Iteration 2000 of epoch 1 complete. Loss: 4.301939487457275; Time taken (s): 85.47401022911072\n",
            "Training Iteration 2500 of epoch 1 complete. Loss: 4.139677047729492; Time taken (s): 86.58471083641052\n",
            "Training Iteration 3000 of epoch 1 complete. Loss: 3.6874887943267822; Time taken (s): 85.42690443992615\n",
            "Training Iteration 3500 of epoch 1 complete. Loss: 4.04022216796875; Time taken (s): 85.60197949409485\n",
            "Training Iteration 4000 of epoch 1 complete. Loss: 5.014543533325195; Time taken (s): 86.62825560569763\n",
            "Training Iteration 4500 of epoch 1 complete. Loss: 4.764110565185547; Time taken (s): 85.72095847129822\n",
            "Training Iteration 5000 of epoch 1 complete. Loss: 4.186621189117432; Time taken (s): 86.33613586425781\n",
            "Training Iteration 5500 of epoch 1 complete. Loss: 3.87142276763916; Time taken (s): 86.3217625617981\n",
            "Training Iteration 6000 of epoch 1 complete. Loss: 4.344667434692383; Time taken (s): 85.02368903160095\n",
            "Training Iteration 6500 of epoch 1 complete. Loss: 4.577086448669434; Time taken (s): 85.19007968902588\n",
            "Model saved for epoch=1 at drive/MyDrive/LM_neuronal/model_cpu_context_2_epoch_1.dat\n",
            "\n",
            "--- Training model Epoch: 2 ---\n",
            "Training Iteration 0 of epoch 2 complete. Loss: 4.752678871154785; Time taken (s): 0.17374372482299805\n",
            "Training Iteration 500 of epoch 2 complete. Loss: 4.439208507537842; Time taken (s): 85.80970597267151\n",
            "Training Iteration 1000 of epoch 2 complete. Loss: 4.43613862991333; Time taken (s): 85.94170331954956\n",
            "Training Iteration 1500 of epoch 2 complete. Loss: 3.297715902328491; Time taken (s): 84.7935082912445\n",
            "Training Iteration 2000 of epoch 2 complete. Loss: 4.113924503326416; Time taken (s): 84.61728167533875\n",
            "Training Iteration 2500 of epoch 2 complete. Loss: 3.88733172416687; Time taken (s): 86.00163078308105\n",
            "Training Iteration 3000 of epoch 2 complete. Loss: 3.483255624771118; Time taken (s): 84.61010646820068\n",
            "Training Iteration 3500 of epoch 2 complete. Loss: 3.7712717056274414; Time taken (s): 84.82636380195618\n",
            "Training Iteration 4000 of epoch 2 complete. Loss: 4.765188217163086; Time taken (s): 84.64327096939087\n",
            "Training Iteration 4500 of epoch 2 complete. Loss: 4.557529449462891; Time taken (s): 85.21320748329163\n",
            "Training Iteration 5000 of epoch 2 complete. Loss: 4.017198085784912; Time taken (s): 84.83031392097473\n",
            "Training Iteration 5500 of epoch 2 complete. Loss: 3.759558916091919; Time taken (s): 84.64364647865295\n",
            "Training Iteration 6000 of epoch 2 complete. Loss: 3.995151996612549; Time taken (s): 85.01627230644226\n",
            "Training Iteration 6500 of epoch 2 complete. Loss: 4.329712390899658; Time taken (s): 85.13284206390381\n",
            "Model saved for epoch=2 at drive/MyDrive/LM_neuronal/model_cpu_context_2_epoch_2.dat\n",
            "\n",
            "--- Training model Epoch: 3 ---\n",
            "Training Iteration 0 of epoch 3 complete. Loss: 4.6057047843933105; Time taken (s): 0.3079063892364502\n",
            "Training Iteration 500 of epoch 3 complete. Loss: 4.303832530975342; Time taken (s): 85.83233284950256\n",
            "Training Iteration 1000 of epoch 3 complete. Loss: 4.284680366516113; Time taken (s): 85.33326005935669\n",
            "Training Iteration 1500 of epoch 3 complete. Loss: 3.1946823596954346; Time taken (s): 84.59483051300049\n",
            "Training Iteration 2000 of epoch 3 complete. Loss: 3.965738534927368; Time taken (s): 85.98940873146057\n",
            "Training Iteration 2500 of epoch 3 complete. Loss: 3.809182643890381; Time taken (s): 85.04581880569458\n",
            "Training Iteration 3000 of epoch 3 complete. Loss: 3.316955089569092; Time taken (s): 85.00717282295227\n",
            "Training Iteration 3500 of epoch 3 complete. Loss: 3.6768932342529297; Time taken (s): 85.88985586166382\n",
            "Training Iteration 4000 of epoch 3 complete. Loss: 4.551162242889404; Time taken (s): 84.95151734352112\n",
            "Training Iteration 4500 of epoch 3 complete. Loss: 4.37091064453125; Time taken (s): 84.6366970539093\n",
            "Training Iteration 5000 of epoch 3 complete. Loss: 3.9006457328796387; Time taken (s): 85.32279205322266\n",
            "Training Iteration 5500 of epoch 3 complete. Loss: 3.6755902767181396; Time taken (s): 85.6982913017273\n",
            "Training Iteration 6000 of epoch 3 complete. Loss: 3.776632070541382; Time taken (s): 85.18361639976501\n",
            "Training Iteration 6500 of epoch 3 complete. Loss: 4.19276237487793; Time taken (s): 84.96233248710632\n",
            "Model saved for epoch=3 at drive/MyDrive/LM_neuronal/model_cpu_context_2_epoch_3.dat\n",
            "\n",
            "--- Training model Epoch: 4 ---\n",
            "Training Iteration 0 of epoch 4 complete. Loss: 4.482072353363037; Time taken (s): 0.14434552192687988\n",
            "Training Iteration 500 of epoch 4 complete. Loss: 4.263815879821777; Time taken (s): 85.68783497810364\n",
            "Training Iteration 1000 of epoch 4 complete. Loss: 4.211913108825684; Time taken (s): 85.96626091003418\n",
            "Training Iteration 1500 of epoch 4 complete. Loss: 3.1077191829681396; Time taken (s): 84.46813654899597\n",
            "Training Iteration 2000 of epoch 4 complete. Loss: 3.866131544113159; Time taken (s): 84.6470046043396\n",
            "Training Iteration 2500 of epoch 4 complete. Loss: 3.7069802284240723; Time taken (s): 86.23946523666382\n",
            "Training Iteration 3000 of epoch 4 complete. Loss: 3.216810703277588; Time taken (s): 85.09563970565796\n",
            "Training Iteration 3500 of epoch 4 complete. Loss: 3.578561544418335; Time taken (s): 84.15680599212646\n",
            "Training Iteration 4000 of epoch 4 complete. Loss: 4.450170993804932; Time taken (s): 84.68913865089417\n",
            "Training Iteration 4500 of epoch 4 complete. Loss: 4.2806830406188965; Time taken (s): 85.50082993507385\n",
            "Training Iteration 5000 of epoch 4 complete. Loss: 3.809998035430908; Time taken (s): 84.65003180503845\n",
            "Training Iteration 5500 of epoch 4 complete. Loss: 3.6336302757263184; Time taken (s): 84.49042654037476\n",
            "Training Iteration 6000 of epoch 4 complete. Loss: 3.624541997909546; Time taken (s): 85.29697942733765\n",
            "Training Iteration 6500 of epoch 4 complete. Loss: 4.094790458679199; Time taken (s): 85.04162693023682\n",
            "Model saved for epoch=4 at drive/MyDrive/LM_neuronal/model_cpu_context_2_epoch_4.dat\n",
            "\n",
            "--- Training model Epoch: 5 ---\n",
            "Training Iteration 0 of epoch 5 complete. Loss: 4.38264274597168; Time taken (s): 0.23974061012268066\n",
            "Training Iteration 500 of epoch 5 complete. Loss: 4.243346691131592; Time taken (s): 84.7407341003418\n",
            "Training Iteration 1000 of epoch 5 complete. Loss: 4.113702774047852; Time taken (s): 85.01789116859436\n",
            "Training Iteration 1500 of epoch 5 complete. Loss: 3.068704128265381; Time taken (s): 84.34479069709778\n",
            "Training Iteration 2000 of epoch 5 complete. Loss: 3.7724664211273193; Time taken (s): 85.37059116363525\n",
            "Training Iteration 2500 of epoch 5 complete. Loss: 3.617154836654663; Time taken (s): 84.43876194953918\n",
            "Training Iteration 3000 of epoch 5 complete. Loss: 3.1104514598846436; Time taken (s): 84.1395971775055\n",
            "Training Iteration 3500 of epoch 5 complete. Loss: 3.524348735809326; Time taken (s): 84.53759336471558\n",
            "Training Iteration 4000 of epoch 5 complete. Loss: 4.386344909667969; Time taken (s): 85.5805549621582\n",
            "Training Iteration 4500 of epoch 5 complete. Loss: 4.199643611907959; Time taken (s): 84.28327369689941\n",
            "Training Iteration 5000 of epoch 5 complete. Loss: 3.746276617050171; Time taken (s): 84.38063454627991\n",
            "Training Iteration 5500 of epoch 5 complete. Loss: 3.5886924266815186; Time taken (s): 84.5695378780365\n",
            "Training Iteration 6000 of epoch 5 complete. Loss: 3.5352351665496826; Time taken (s): 85.25345969200134\n",
            "Training Iteration 6500 of epoch 5 complete. Loss: 4.048711776733398; Time taken (s): 84.4275164604187\n",
            "Model saved for epoch=5 at drive/MyDrive/LM_neuronal/model_cpu_context_2_epoch_5.dat\n",
            "\n",
            "--- Training model Epoch: 6 ---\n",
            "Training Iteration 0 of epoch 6 complete. Loss: 4.316273212432861; Time taken (s): 0.19208860397338867\n",
            "Training Iteration 500 of epoch 6 complete. Loss: 4.217665195465088; Time taken (s): 84.45199704170227\n",
            "Training Iteration 1000 of epoch 6 complete. Loss: 4.0318379402160645; Time taken (s): 85.20021986961365\n",
            "Training Iteration 1500 of epoch 6 complete. Loss: 3.0578722953796387; Time taken (s): 84.74992060661316\n",
            "Training Iteration 2000 of epoch 6 complete. Loss: 3.7223100662231445; Time taken (s): 84.9262204170227\n",
            "Training Iteration 2500 of epoch 6 complete. Loss: 3.56113862991333; Time taken (s): 84.66811084747314\n",
            "Training Iteration 3000 of epoch 6 complete. Loss: 3.057476043701172; Time taken (s): 84.54593086242676\n",
            "Training Iteration 3500 of epoch 6 complete. Loss: 3.449472427368164; Time taken (s): 85.31481981277466\n",
            "Training Iteration 4000 of epoch 6 complete. Loss: 4.330978870391846; Time taken (s): 84.8796124458313\n",
            "Training Iteration 4500 of epoch 6 complete. Loss: 4.109581470489502; Time taken (s): 84.55365633964539\n",
            "Training Iteration 5000 of epoch 6 complete. Loss: 3.7373626232147217; Time taken (s): 84.42591404914856\n",
            "Training Iteration 5500 of epoch 6 complete. Loss: 3.577845811843872; Time taken (s): 85.40160083770752\n",
            "Training Iteration 6000 of epoch 6 complete. Loss: 3.448854923248291; Time taken (s): 84.49782943725586\n",
            "Training Iteration 6500 of epoch 6 complete. Loss: 3.9748332500457764; Time taken (s): 84.34903311729431\n",
            "Model saved for epoch=6 at drive/MyDrive/LM_neuronal/model_cpu_context_2_epoch_6.dat\n",
            "\n",
            "--- Training model Epoch: 7 ---\n",
            "Training Iteration 0 of epoch 7 complete. Loss: 4.283975124359131; Time taken (s): 0.166703462600708\n",
            "Training Iteration 500 of epoch 7 complete. Loss: 4.1594648361206055; Time taken (s): 85.12028050422668\n",
            "Training Iteration 1000 of epoch 7 complete. Loss: 3.989718198776245; Time taken (s): 85.56282091140747\n",
            "Training Iteration 1500 of epoch 7 complete. Loss: 3.0111730098724365; Time taken (s): 84.57969784736633\n",
            "Training Iteration 2000 of epoch 7 complete. Loss: 3.6183531284332275; Time taken (s): 84.2653284072876\n",
            "Training Iteration 2500 of epoch 7 complete. Loss: 3.5085301399230957; Time taken (s): 84.18006467819214\n",
            "Training Iteration 3000 of epoch 7 complete. Loss: 3.0162720680236816; Time taken (s): 84.117027759552\n",
            "Training Iteration 3500 of epoch 7 complete. Loss: 3.401895046234131; Time taken (s): 85.46486139297485\n",
            "Training Iteration 4000 of epoch 7 complete. Loss: 4.258540153503418; Time taken (s): 84.44830703735352\n",
            "Training Iteration 4500 of epoch 7 complete. Loss: 4.0306477546691895; Time taken (s): 84.15774321556091\n",
            "Training Iteration 5000 of epoch 7 complete. Loss: 3.7083024978637695; Time taken (s): 84.70316052436829\n",
            "Training Iteration 5500 of epoch 7 complete. Loss: 3.569450855255127; Time taken (s): 85.00035119056702\n",
            "Training Iteration 6000 of epoch 7 complete. Loss: 3.399750232696533; Time taken (s): 83.81955146789551\n",
            "Training Iteration 6500 of epoch 7 complete. Loss: 3.9602272510528564; Time taken (s): 84.43111777305603\n",
            "Model saved for epoch=7 at drive/MyDrive/LM_neuronal/model_cpu_context_2_epoch_7.dat\n",
            "\n",
            "--- Training model Epoch: 8 ---\n",
            "Training Iteration 0 of epoch 8 complete. Loss: 4.255570411682129; Time taken (s): 0.1583542823791504\n",
            "Training Iteration 500 of epoch 8 complete. Loss: 4.081084728240967; Time taken (s): 84.6551775932312\n",
            "Training Iteration 1000 of epoch 8 complete. Loss: 3.97697377204895; Time taken (s): 85.95551013946533\n",
            "Training Iteration 1500 of epoch 8 complete. Loss: 3.011622667312622; Time taken (s): 84.96198534965515\n",
            "Training Iteration 2000 of epoch 8 complete. Loss: 3.6178789138793945; Time taken (s): 84.345956325531\n",
            "Training Iteration 2500 of epoch 8 complete. Loss: 3.460716962814331; Time taken (s): 84.94913983345032\n",
            "Training Iteration 3000 of epoch 8 complete. Loss: 2.9850332736968994; Time taken (s): 85.14077568054199\n",
            "Training Iteration 3500 of epoch 8 complete. Loss: 3.3881185054779053; Time taken (s): 84.26984119415283\n",
            "Training Iteration 4000 of epoch 8 complete. Loss: 4.272827625274658; Time taken (s): 84.66130876541138\n",
            "Training Iteration 4500 of epoch 8 complete. Loss: 4.01884651184082; Time taken (s): 84.41168928146362\n",
            "Training Iteration 5000 of epoch 8 complete. Loss: 3.7153005599975586; Time taken (s): 85.05163192749023\n",
            "Training Iteration 5500 of epoch 8 complete. Loss: 3.5749988555908203; Time taken (s): 85.36674857139587\n",
            "Training Iteration 6000 of epoch 8 complete. Loss: 3.348134994506836; Time taken (s): 84.29632425308228\n",
            "Training Iteration 6500 of epoch 8 complete. Loss: 3.920670747756958; Time taken (s): 84.40349459648132\n",
            "Model saved for epoch=8 at drive/MyDrive/LM_neuronal/model_cpu_context_2_epoch_8.dat\n",
            "\n",
            "--- Training model Epoch: 9 ---\n",
            "Training Iteration 0 of epoch 9 complete. Loss: 4.189713954925537; Time taken (s): 0.1578667163848877\n",
            "Training Iteration 500 of epoch 9 complete. Loss: 4.066851615905762; Time taken (s): 85.40458416938782\n",
            "Training Iteration 1000 of epoch 9 complete. Loss: 3.9439473152160645; Time taken (s): 86.74648094177246\n",
            "Training Iteration 1500 of epoch 9 complete. Loss: 3.0051863193511963; Time taken (s): 84.85677528381348\n",
            "Training Iteration 2000 of epoch 9 complete. Loss: 3.5655970573425293; Time taken (s): 85.15992665290833\n",
            "Training Iteration 2500 of epoch 9 complete. Loss: 3.4310014247894287; Time taken (s): 85.35409379005432\n",
            "Training Iteration 3000 of epoch 9 complete. Loss: 2.946784019470215; Time taken (s): 85.67356562614441\n",
            "Training Iteration 3500 of epoch 9 complete. Loss: 3.3679275512695312; Time taken (s): 84.53630232810974\n",
            "Training Iteration 4000 of epoch 9 complete. Loss: 4.217103004455566; Time taken (s): 84.85880947113037\n",
            "Training Iteration 4500 of epoch 9 complete. Loss: 3.976616382598877; Time taken (s): 85.28749775886536\n",
            "Training Iteration 5000 of epoch 9 complete. Loss: 3.723534107208252; Time taken (s): 85.11303186416626\n",
            "Training Iteration 5500 of epoch 9 complete. Loss: 3.5784244537353516; Time taken (s): 84.73509812355042\n",
            "Training Iteration 6000 of epoch 9 complete. Loss: 3.3393821716308594; Time taken (s): 84.7919397354126\n",
            "Training Iteration 6500 of epoch 9 complete. Loss: 3.912100315093994; Time taken (s): 85.53719210624695\n",
            "Model saved for epoch=9 at drive/MyDrive/LM_neuronal/model_cpu_context_2_epoch_9.dat\n"
          ]
        }
      ],
      "source": [
        "#torch.device(\"cuda\" if torch.cuda.is_available() else \"cpu\")\n",
        "print(f\"Training on device {device}\")\n",
        "\n",
        "# 1. Pérdida. Negative log-likelihood loss\n",
        "loss_function = nn.NLLLoss()\n",
        "\n",
        "# 2. Instanciar el modelo y enviarlo a device\n",
        "model = TrigramModel(V, EMBEDDING_DIM, CONTEXT_SIZE, H).to(device)\n",
        "\n",
        "# 3. Optimización. ADAM optimizer\n",
        "optimizer = optim.Adam(model.parameters(), lr = 2e-3)\n",
        "\n",
        "# ------------------------- TRAIN & SAVE MODEL ------------------------\n",
        "EPOCHS = 10\n",
        "for epoch in range(EPOCHS):\n",
        "    st = time.time()\n",
        "    print(\"\\n--- Training model Epoch: {} ---\".format(epoch))\n",
        "    for it, data_tensor in enumerate(train_loader):\n",
        "        # Mover los datos a la GPU\n",
        "        context_tensor = data_tensor[:,0:2].to(device)\n",
        "        target_tensor = data_tensor[:,2].to(device)\n",
        "\n",
        "        model.zero_grad()\n",
        "\n",
        "        # FORWARD:\n",
        "        log_probs = model(context_tensor)\n",
        "\n",
        "        # compute loss function\n",
        "        loss = loss_function(log_probs, target_tensor)\n",
        "\n",
        "        # BACKWARD:\n",
        "        loss.backward()\n",
        "        optimizer.step()\n",
        "\n",
        "        if it % 500 == 0:\n",
        "            print(\"Training Iteration {} of epoch {} complete. Loss: {}; Time taken (s): {}\".format(it, epoch, loss.item(), (time.time()-st)))\n",
        "            st = time.time()\n",
        "\n",
        "    # saving model\n",
        "    model_path = f'drive/MyDrive/LM_neuronal/model_{device}_context_{CONTEXT_SIZE}_epoch_{epoch}.dat'\n",
        "    torch.save(model.state_dict(), model_path)\n",
        "    print(f\"Model saved for epoch={epoch} at {model_path}\")\n"
      ]
    },
    {
      "cell_type": "code",
      "execution_count": 28,
      "metadata": {
        "id": "MbJ548WBYf_o"
      },
      "outputs": [],
      "source": [
        "def get_model(path: str) -> TrigramModel:\n",
        "    \"\"\"Obtiene modelo de pytorch desde disco\"\"\"\n",
        "    model_loaded = TrigramModel(V, EMBEDDING_DIM, CONTEXT_SIZE, H)\n",
        "    model_loaded.load_state_dict(torch.load(path))\n",
        "    model_loaded.to(device)\n",
        "    model_loaded.eval()\n",
        "    return model_loaded"
      ]
    },
    {
      "cell_type": "code",
      "execution_count": 29,
      "metadata": {
        "id": "ojEVrN5QS32s"
      },
      "outputs": [],
      "source": [
        "PATH = \"drive/MyDrive/LM_neuronal/model_cpu_context_2_epoch_9.dat\"\n",
        "model = get_model(PATH)"
      ]
    },
    {
      "cell_type": "code",
      "execution_count": 30,
      "metadata": {
        "id": "LGGQzd8N0G8Y"
      },
      "outputs": [],
      "source": [
        "#model = get_model(PATH)\n",
        "W1 = \"<BOS>\"\n",
        "W2 = \"my\"\n",
        "\n",
        "IDX1 = get_word_id(words_indexes, W1)\n",
        "IDX2 = get_word_id(words_indexes, W2)\n",
        "\n",
        "#Obtenemos Log probabidades p(W3|W2,W1)\n",
        "probs = model(torch.tensor([[IDX1,  IDX2]]).to(device)).detach().tolist()"
      ]
    },
    {
      "cell_type": "code",
      "execution_count": 31,
      "metadata": {
        "colab": {
          "base_uri": "https://localhost:8080/"
        },
        "id": "kv_IfrNtf_6W",
        "outputId": "40478c74-5382-4abc-8df0-3b491998bf34"
      },
      "outputs": [
        {
          "output_type": "execute_result",
          "data": {
            "text/plain": [
              "20056"
            ]
          },
          "metadata": {},
          "execution_count": 31
        }
      ],
      "source": [
        "len(probs[0])"
      ]
    },
    {
      "cell_type": "code",
      "execution_count": 32,
      "metadata": {
        "colab": {
          "base_uri": "https://localhost:8080/"
        },
        "id": "dGh39h041Ip8",
        "outputId": "dcdad730-7ff4-4b67-ce1b-374d55ee46e4"
      },
      "outputs": [
        {
          "output_type": "stream",
          "name": "stdout",
          "text": [
            "962 banking -3.660282611846924\n",
            "31 <UNK> -3.6976237297058105\n",
            "6257 foods -3.728015899658203\n",
            "4113 leaders -3.840341567993164\n",
            "2738 personal -3.9619531631469727\n",
            "1591 heavy -4.168741226196289\n",
            "12166 gut -4.232181549072266\n",
            "38 officials -4.50295877456665\n",
            "3643 scale -4.554118633270264\n",
            "1821 d -4.554482460021973\n",
            "9601 hoare -4.572607517242432\n"
          ]
        }
      ],
      "source": [
        "# Creamos diccionario con {idx: logprob}\n",
        "model_probs = {}\n",
        "for idx, p in enumerate(probs[0]):\n",
        "  model_probs[idx] = p\n",
        "\n",
        "# Sort:\n",
        "model_probs_sorted = sorted(((prob, idx) for idx, prob in model_probs.items()), reverse=True)\n",
        "\n",
        "# Printing word  and prob (retrieving the idx):\n",
        "topcandidates = 0\n",
        "for prob, idx in model_probs_sorted:\n",
        "  #Retrieve the word associated with that idx\n",
        "  word = index_to_word[idx]\n",
        "  print(idx, word, prob)\n",
        "\n",
        "  topcandidates += 1\n",
        "\n",
        "  if topcandidates > 10:\n",
        "    break"
      ]
    },
    {
      "cell_type": "code",
      "execution_count": 33,
      "metadata": {
        "colab": {
          "base_uri": "https://localhost:8080/"
        },
        "id": "y2hsMj_1Tak6",
        "outputId": "f09cf4b8-b5e8-4bc3-8b15-3a3c2a0dc168"
      },
      "outputs": [
        {
          "output_type": "stream",
          "name": "stdout",
          "text": [
            "banking\n"
          ]
        }
      ],
      "source": [
        "print(index_to_word.get(model_probs_sorted[0][1]))"
      ]
    },
    {
      "cell_type": "markdown",
      "metadata": {
        "id": "j3PKcCznXCBG"
      },
      "source": [
        "### Generacion de lenguaje"
      ]
    },
    {
      "cell_type": "code",
      "execution_count": 34,
      "metadata": {
        "id": "_-xkJK_cNYbP"
      },
      "outputs": [],
      "source": [
        "def get_likely_words(model: TrigramModel, context: str, words_indexes: dict, index_to_word: dict, top_count: int=10) -> list[tuple]:\n",
        "    model_probs = {}\n",
        "    words = context.split()\n",
        "    idx_word_1 = get_word_id(words_indexes, words[0])\n",
        "    idx_word_2 = get_word_id(words_indexes, words[1])\n",
        "    probs = model(torch.tensor([[idx_word_1, idx_word_2]]).to(device)).detach().tolist()\n",
        "\n",
        "    for idx, p in enumerate(probs[0]):\n",
        "        model_probs[idx] = p\n",
        "\n",
        "    # Strategy: Sort and get top-K words to generate text\n",
        "    return sorted(((prob, index_to_word[idx]) for idx, prob in model_probs.items()), reverse=True)[:top_count]"
      ]
    },
    {
      "cell_type": "code",
      "execution_count": 35,
      "metadata": {
        "colab": {
          "base_uri": "https://localhost:8080/"
        },
        "id": "iw0njIDfRRBW",
        "outputId": "85bff864-951e-4a8e-d7fa-68ad1779fa15"
      },
      "outputs": [
        {
          "output_type": "execute_result",
          "data": {
            "text/plain": [
              "[(-1.6068211793899536, 'a'),\n",
              " (-2.2957401275634766, 'the'),\n",
              " (-2.3446669578552246, 'not')]"
            ]
          },
          "metadata": {},
          "execution_count": 35
        }
      ],
      "source": [
        "sentence = \"this is\"\n",
        "get_likely_words(model, sentence, words_indexes, index_to_word, 3)"
      ]
    },
    {
      "cell_type": "code",
      "execution_count": 36,
      "metadata": {
        "id": "Ex44jU5mMkPC"
      },
      "outputs": [],
      "source": [
        "from random import randint\n",
        "\n",
        "def get_next_word(words: list[tuple[float, str]]) -> str:\n",
        "    # From a top-K list of words get a random word\n",
        "    return words[randint(0, len(words)-1)][1]"
      ]
    },
    {
      "cell_type": "code",
      "execution_count": 37,
      "metadata": {
        "colab": {
          "base_uri": "https://localhost:8080/",
          "height": 35
        },
        "id": "i1ujC9j9TzE2",
        "outputId": "eca94a3b-4e0a-44b5-f70c-e8e15683567c"
      },
      "outputs": [
        {
          "output_type": "execute_result",
          "data": {
            "text/plain": [
              "'an'"
            ],
            "application/vnd.google.colaboratory.intrinsic+json": {
              "type": "string"
            }
          },
          "metadata": {},
          "execution_count": 37
        }
      ],
      "source": [
        "get_next_word(get_likely_words(model, sentence, words_indexes, index_to_word))"
      ]
    },
    {
      "cell_type": "code",
      "execution_count": 38,
      "metadata": {
        "id": "z6eW24WDUS_d"
      },
      "outputs": [],
      "source": [
        "MAX_TOKENS = 50\n",
        "TOP_COUNT = 10\n",
        "def generate_text(model: TrigramModel, history: str, words_indexes: dict, index_to_word: dict, tokens_count: int=0) -> None:\n",
        "    next_word = get_next_word(get_likely_words(model, history, words_indexes, index_to_word, top_count=TOP_COUNT))\n",
        "    print(next_word, end=\" \")\n",
        "    tokens_count += 1\n",
        "    if tokens_count == MAX_TOKENS or next_word == \"<EOS>\":\n",
        "        return\n",
        "    generate_text(model, history.split()[1]+ \" \" + next_word, words_indexes, index_to_word, tokens_count)"
      ]
    },
    {
      "cell_type": "code",
      "execution_count": 39,
      "metadata": {
        "colab": {
          "base_uri": "https://localhost:8080/"
        },
        "id": "Zzc9lFqAaFJE",
        "outputId": "a6b11207-4832-452e-d1f3-49b4069c238f"
      },
      "outputs": [
        {
          "output_type": "stream",
          "name": "stdout",
          "text": [
            "mexico is a major <UNK> the decline for both locations and <UNK> in north rhine , he replied . e cts <EOS> "
          ]
        }
      ],
      "source": [
        "sentence = \"mexico is\"\n",
        "print(sentence, end=\" \")\n",
        "generate_text(model, sentence, words_indexes, index_to_word)"
      ]
    },
    {
      "cell_type": "markdown",
      "source": [
        "# Práctica 4: Modelos del Lenguaje Neuronales\n",
        "\n",
        "**Fecha de entrega: 6 de abril de 2025 11:59pm**\n",
        "\n",
        "A partir del modelo entrenado:\n",
        "\n",
        "- Sacar los embeddings de las palabras del vocabulario\n",
        "\n",
        "- Visualizar en 2D los embeddings de algunas palabras (quizá las más frecuentes, excluyendo stopwords)\n",
        "\n",
        "- Seleccione algunas palabras y verifique sí realmente codifican nociones semánticas, e,g, similitud semántica con similitud coseno entre dos vectores, analogías por medios de operaciones de vectores"
      ],
      "metadata": {
        "id": "V8uxWhHyqvll"
      }
    },
    {
      "cell_type": "code",
      "source": [
        "import pandas as pd\n",
        "from sklearn.decomposition import PCA\n",
        "import matplotlib.pyplot as plt"
      ],
      "metadata": {
        "id": "AFmZjnOJqwdq"
      },
      "execution_count": 72,
      "outputs": []
    },
    {
      "cell_type": "code",
      "source": [
        "## Tokens más frecuentes con longitud mayor a 5\n",
        "freqs = pd.Series({k:v for k,v in words_freqs.items() if k.isalpha() and k not in stopwords.words('english') and len(k) > 5})\n",
        "freqs = freqs[(freqs.index != \"<BOS>\") & (freqs.index != \"<EOS>\") & (freqs.index != \"<UNK>\")]\n",
        "freqs.sort_values(ascending=False).head(10)"
      ],
      "metadata": {
        "colab": {
          "base_uri": "https://localhost:8080/",
          "height": 397
        },
        "id": "LRtSRB1sq22V",
        "outputId": "309a3293-e38d-487e-f544-da389d053466"
      },
      "execution_count": 56,
      "outputs": [
        {
          "output_type": "execute_result",
          "data": {
            "text/plain": [
              "billion     5829\n",
              "company     4670\n",
              "profit      2960\n",
              "market      2811\n",
              "shares      2652\n",
              "tonnes      2511\n",
              "prices      2195\n",
              "quarter     1852\n",
              "february    1817\n",
              "january     1732\n",
              "dtype: int64"
            ],
            "text/html": [
              "<div>\n",
              "<style scoped>\n",
              "    .dataframe tbody tr th:only-of-type {\n",
              "        vertical-align: middle;\n",
              "    }\n",
              "\n",
              "    .dataframe tbody tr th {\n",
              "        vertical-align: top;\n",
              "    }\n",
              "\n",
              "    .dataframe thead th {\n",
              "        text-align: right;\n",
              "    }\n",
              "</style>\n",
              "<table border=\"1\" class=\"dataframe\">\n",
              "  <thead>\n",
              "    <tr style=\"text-align: right;\">\n",
              "      <th></th>\n",
              "      <th>0</th>\n",
              "    </tr>\n",
              "  </thead>\n",
              "  <tbody>\n",
              "    <tr>\n",
              "      <th>billion</th>\n",
              "      <td>5829</td>\n",
              "    </tr>\n",
              "    <tr>\n",
              "      <th>company</th>\n",
              "      <td>4670</td>\n",
              "    </tr>\n",
              "    <tr>\n",
              "      <th>profit</th>\n",
              "      <td>2960</td>\n",
              "    </tr>\n",
              "    <tr>\n",
              "      <th>market</th>\n",
              "      <td>2811</td>\n",
              "    </tr>\n",
              "    <tr>\n",
              "      <th>shares</th>\n",
              "      <td>2652</td>\n",
              "    </tr>\n",
              "    <tr>\n",
              "      <th>tonnes</th>\n",
              "      <td>2511</td>\n",
              "    </tr>\n",
              "    <tr>\n",
              "      <th>prices</th>\n",
              "      <td>2195</td>\n",
              "    </tr>\n",
              "    <tr>\n",
              "      <th>quarter</th>\n",
              "      <td>1852</td>\n",
              "    </tr>\n",
              "    <tr>\n",
              "      <th>february</th>\n",
              "      <td>1817</td>\n",
              "    </tr>\n",
              "    <tr>\n",
              "      <th>january</th>\n",
              "      <td>1732</td>\n",
              "    </tr>\n",
              "  </tbody>\n",
              "</table>\n",
              "</div><br><label><b>dtype:</b> int64</label>"
            ]
          },
          "metadata": {},
          "execution_count": 56
        }
      ]
    },
    {
      "cell_type": "code",
      "source": [
        "subseted_words = list(freqs.index[:100])\n",
        "ids_subseted_words = [get_word_id(words_indexes, word) for word in subseted_words]\n",
        "embeddings = model.embeddings(torch.tensor(ids_subseted_words)).detach().numpy()"
      ],
      "metadata": {
        "id": "ADtni_TRrHN-"
      },
      "execution_count": 76,
      "outputs": []
    },
    {
      "cell_type": "code",
      "source": [
        "reducer = PCA(n_components=2)\n",
        "embeddings_2d = reducer.fit_transform(embeddings)\n",
        "\n",
        "fig = plt.figure(figsize=(10,10))\n",
        "ax = fig.add_subplot(111)\n",
        "ax.scatter(embeddings_2d[:,0], embeddings_2d[:,1])\n",
        "ax.set_xlabel(\"PC1\")\n",
        "ax.set_ylabel(\"PC2\")\n",
        "ax.set_title(\"Embeddings de palabras\")\n",
        "\n",
        "for i, word in enumerate(subseted_words):\n",
        "    ax.annotate(word, (embeddings_2d[i,0], embeddings_2d[i,1]))\n",
        "plt.show()"
      ],
      "metadata": {
        "colab": {
          "base_uri": "https://localhost:8080/",
          "height": 872
        },
        "id": "XoDqXaDNyV0H",
        "outputId": "9ff760cb-3b03-4519-ac42-cdc86bebfcb5"
      },
      "execution_count": 75,
      "outputs": [
        {
          "output_type": "display_data",
          "data": {
            "text/plain": [
              "<Figure size 1000x1000 with 1 Axes>"
            ],
            "image/png": "[encoded data removed]"
          },
          "metadata": {}
        }
      ]
    },
    {
      "cell_type": "markdown",
      "source": [
        "Podemos observar que si bien ciertas palabras relacionadas entre sí aparecen juntas como los son _worried_ y _problems_, _imports_ y _exports_, _electric_ y _electronics_; en general la represenetación no es muy buena ya qye gran parte de los embedings se distribuyen uniformemente al rededor de un cúmulo central, esto puede deberse a que el corpus de entrenamiento es relativamente pequeño y no muy diverso ya que se centra en noticias."
      ],
      "metadata": {
        "id": "Zp3BiFeK4U0e"
      }
    },
    {
      "cell_type": "markdown",
      "source": [
        "Ejemplos de similitud léxica con distancia coseno"
      ],
      "metadata": {
        "id": "de633wQ30gUS"
      }
    },
    {
      "cell_type": "code",
      "source": [
        "def cosine_similarity(v1, v2):\n",
        "    return np.dot(v1, v2) / (np.linalg.norm(v1) * np.linalg.norm(v2))"
      ],
      "metadata": {
        "id": "hts_Ahz50jsD"
      },
      "execution_count": 77,
      "outputs": []
    },
    {
      "cell_type": "code",
      "source": [
        "cosine_similarity(model.embeddings(torch.tensor(get_word_id(words_indexes, \"king\"))).detach().numpy(),\n",
        "                  model.embeddings(torch.tensor(get_word_id(words_indexes, \"queen\"))).detach().numpy())"
      ],
      "metadata": {
        "colab": {
          "base_uri": "https://localhost:8080/"
        },
        "id": "ruyhMT400oHB",
        "outputId": "272d35b5-00ca-4eeb-8ea9-a23e30a7340e"
      },
      "execution_count": 78,
      "outputs": [
        {
          "output_type": "execute_result",
          "data": {
            "text/plain": [
              "np.float32(0.030624213)"
            ]
          },
          "metadata": {},
          "execution_count": 78
        }
      ]
    },
    {
      "cell_type": "code",
      "source": [
        "cosine_similarity(model.embeddings(torch.tensor(get_word_id(words_indexes, \"worried\"))).detach().numpy(),\n",
        "                  model.embeddings(torch.tensor(get_word_id(words_indexes, \"problems\"))).detach().numpy())"
      ],
      "metadata": {
        "colab": {
          "base_uri": "https://localhost:8080/"
        },
        "id": "-PGI926O0yiT",
        "outputId": "24d48ed3-7883-40e0-ea9f-f90516df7ce8"
      },
      "execution_count": 103,
      "outputs": [
        {
          "output_type": "execute_result",
          "data": {
            "text/plain": [
              "np.float32(0.13172017)"
            ]
          },
          "metadata": {},
          "execution_count": 103
        }
      ]
    },
    {
      "cell_type": "code",
      "source": [
        "cosine_similarity(model.embeddings(torch.tensor(get_word_id(words_indexes, \"money\"))).detach().numpy(),\n",
        "                  model.embeddings(torch.tensor(get_word_id(words_indexes, \"dollars\"))).detach().numpy())"
      ],
      "metadata": {
        "colab": {
          "base_uri": "https://localhost:8080/"
        },
        "id": "GKAEjuZ603se",
        "outputId": "14246e33-dadc-4f98-d432-068e19dab6ca"
      },
      "execution_count": 80,
      "outputs": [
        {
          "output_type": "execute_result",
          "data": {
            "text/plain": [
              "np.float32(0.103301026)"
            ]
          },
          "metadata": {},
          "execution_count": 80
        }
      ]
    },
    {
      "cell_type": "code",
      "source": [
        "cosine_similarity(model.embeddings(torch.tensor(get_word_id(words_indexes, \"bussines\"))).detach().numpy(),\n",
        "                  model.embeddings(torch.tensor(get_word_id(words_indexes, \"company\"))).detach().numpy())"
      ],
      "metadata": {
        "colab": {
          "base_uri": "https://localhost:8080/"
        },
        "id": "zvhehOS21C7X",
        "outputId": "436cfa5f-4fc4-44e1-fd9f-0d429cdef973"
      },
      "execution_count": 81,
      "outputs": [
        {
          "output_type": "execute_result",
          "data": {
            "text/plain": [
              "np.float32(-0.09633616)"
            ]
          },
          "metadata": {},
          "execution_count": 81
        }
      ]
    },
    {
      "cell_type": "code",
      "source": [
        "cosine_similarity(model.embeddings(torch.tensor(get_word_id(words_indexes, \"nations\"))).detach().numpy(),\n",
        "                  model.embeddings(torch.tensor(get_word_id(words_indexes, \"countries\"))).detach().numpy())"
      ],
      "metadata": {
        "colab": {
          "base_uri": "https://localhost:8080/"
        },
        "id": "pINByA6x1ONC",
        "outputId": "185c7f2a-f83e-436a-c419-e5a423aefdf2"
      },
      "execution_count": 82,
      "outputs": [
        {
          "output_type": "execute_result",
          "data": {
            "text/plain": [
              "np.float32(0.25734845)"
            ]
          },
          "metadata": {},
          "execution_count": 82
        }
      ]
    },
    {
      "cell_type": "code",
      "source": [
        "cosine_similarity(model.embeddings(torch.tensor(get_word_id(words_indexes, \"foreigner\"))).detach().numpy(),\n",
        "                  model.embeddings(torch.tensor(get_word_id(words_indexes, \"inmigrant\"))).detach().numpy())"
      ],
      "metadata": {
        "colab": {
          "base_uri": "https://localhost:8080/"
        },
        "id": "XhmZG_eD1TpD",
        "outputId": "ea6509f2-ab1a-4fba-c5bf-872ff8d0b921"
      },
      "execution_count": 89,
      "outputs": [
        {
          "output_type": "execute_result",
          "data": {
            "text/plain": [
              "np.float32(0.99999994)"
            ]
          },
          "metadata": {},
          "execution_count": 89
        }
      ]
    },
    {
      "cell_type": "code",
      "source": [
        "cosine_similarity(model.embeddings(torch.tensor(get_word_id(words_indexes, \"stock\"))).detach().numpy(),\n",
        "                  model.embeddings(torch.tensor(get_word_id(words_indexes, \"asset\"))).detach().numpy())"
      ],
      "metadata": {
        "colab": {
          "base_uri": "https://localhost:8080/"
        },
        "id": "JntqPtmn1wSF",
        "outputId": "44b2df83-c708-4b77-c6c0-b186e8e13c2d"
      },
      "execution_count": 88,
      "outputs": [
        {
          "output_type": "execute_result",
          "data": {
            "text/plain": [
              "np.float32(0.27624932)"
            ]
          },
          "metadata": {},
          "execution_count": 88
        }
      ]
    },
    {
      "cell_type": "code",
      "source": [
        "cosine_similarity(model.embeddings(torch.tensor(get_word_id(words_indexes, \"good\"))).detach().numpy(),\n",
        "                  model.embeddings(torch.tensor(get_word_id(words_indexes, \"bad\"))).detach().numpy())"
      ],
      "metadata": {
        "colab": {
          "base_uri": "https://localhost:8080/"
        },
        "id": "c_xZ681a2VvI",
        "outputId": "00e1b058-6fb6-4f28-eae9-d1daadf70632"
      },
      "execution_count": 93,
      "outputs": [
        {
          "output_type": "execute_result",
          "data": {
            "text/plain": [
              "np.float32(0.16288206)"
            ]
          },
          "metadata": {},
          "execution_count": 93
        }
      ]
    },
    {
      "cell_type": "code",
      "source": [
        "cosine_similarity(model.embeddings(torch.tensor(get_word_id(words_indexes, \"imports\"))).detach().numpy(),\n",
        "                  model.embeddings(torch.tensor(get_word_id(words_indexes, \"exports\"))).detach().numpy())"
      ],
      "metadata": {
        "colab": {
          "base_uri": "https://localhost:8080/"
        },
        "id": "T_5IvMKL3a6d",
        "outputId": "6a474435-dd9f-462c-d242-09b467f8ca48"
      },
      "execution_count": 97,
      "outputs": [
        {
          "output_type": "execute_result",
          "data": {
            "text/plain": [
              "np.float32(0.23614289)"
            ]
          },
          "metadata": {},
          "execution_count": 97
        }
      ]
    },
    {
      "cell_type": "markdown",
      "source": [
        "De la misma manera que en la representación gráfica, la similitud entre los embedings de palabras relacionadas, en general si presentan una similitud mayor a cero, pero no es el la similitud que se esperaría de sinónimos, sin embargo un caso curioso es el de _foreigner_ e _inmigrant_ que tienen una similitud casi de 1 lo que indica que ambos términos son utilizados como palabras equivalentes en el corpus de noticias."
      ],
      "metadata": {
        "id": "bPB_VTQZ6pHa"
      }
    },
    {
      "cell_type": "code",
      "source": [
        "def find_analogies(word1, word2, word3):\n",
        "    \"\"\"\n",
        "    Encuentra una analogía del tipo \"word1 es a word2 como word3 es a X\".\n",
        "    Utiliza embeddings de palabras para calcular la relación vectorial y encontrar\n",
        "    la palabra más similar que complete la analogía.\n",
        "\n",
        "    Args:\n",
        "        word1 (str): Primera palabra de la relación\n",
        "        word2 (str): Segunda palabra de la relación\n",
        "        word3 (str): Tercera palabra que inicia la segunda parte de la relación\n",
        "\n",
        "    Returns:\n",
        "        str: La palabra que mejor completa la analogía \"word1:word2 :: word3:?\"\n",
        "\n",
        "    Ejemplo:\n",
        "        >>> find_analogies(\"rey\", \"hombre\", \"reina\")\n",
        "        \"mujer\"\n",
        "    \"\"\"\n",
        "    # Convertir todas las palabras a minúsculas para normalización\n",
        "    word1, word2, word3 = word1.lower(), word2.lower(), word3.lower()\n",
        "\n",
        "    # Obtener los índices de las palabras en el vocabulario\n",
        "    idx1 = get_word_id(words_indexes, word1)\n",
        "    idx2 = get_word_id(words_indexes, word2)\n",
        "    idx3 = get_word_id(words_indexes, word3)\n",
        "\n",
        "    # Obtener los embeddings de las palabras (vectores numéricos)\n",
        "    emb1, emb2, emb3 = model.embeddings(torch.tensor([idx1, idx2, idx3])).detach().numpy()\n",
        "\n",
        "    # Calcular el vector prototipo para la analogía: (word2 - word1) + word3\n",
        "    prototype = (emb2 - emb1) + emb3\n",
        "    # Normalizar el vector prototipo\n",
        "    prototype = prototype / np.linalg.norm(prototype)\n",
        "\n",
        "    # Buscar la palabra más cercana en el espacio de embeddings\n",
        "    closest_word = []\n",
        "    min_cosine_dist = -2  # Inicializar con valor mínimo posible (-1 sería el mínimo real)\n",
        "\n",
        "    for i in range(len(index_to_word)):\n",
        "        # Saltar las palabras de entrada para no devolverlas como resultado\n",
        "        if index_to_word[i] in {word1, word2, word3}:\n",
        "            continue\n",
        "\n",
        "        # Obtener embedding de la palabra candidata\n",
        "        emb = model.embeddings(torch.tensor([i])).detach().numpy().flatten()\n",
        "        # Calcular similitud coseno con el prototipo\n",
        "        sim = cosine_similarity(prototype, emb)\n",
        "\n",
        "        # Actualizar la palabra más cercana si encontramos mayor similitud\n",
        "        if sim > min_cosine_dist:\n",
        "            min_cosine_dist = sim\n",
        "            closest_word = index_to_word[i]\n",
        "\n",
        "    return closest_word"
      ],
      "metadata": {
        "id": "hco41saj8DtE"
      },
      "execution_count": 107,
      "outputs": []
    },
    {
      "cell_type": "code",
      "source": [
        "find_analogies(\"king\", \"man\", \"queen\")"
      ],
      "metadata": {
        "colab": {
          "base_uri": "https://localhost:8080/",
          "height": 35
        },
        "id": "-rfRAGn080gR",
        "outputId": "e7c81b6e-68a9-4e92-875e-f7c8aa905d04"
      },
      "execution_count": 108,
      "outputs": [
        {
          "output_type": "execute_result",
          "data": {
            "text/plain": [
              "'everyone'"
            ],
            "application/vnd.google.colaboratory.intrinsic+json": {
              "type": "string"
            }
          },
          "metadata": {},
          "execution_count": 108
        }
      ]
    },
    {
      "cell_type": "code",
      "source": [
        "find_analogies(\"stock\", \"asset\", \"money\")"
      ],
      "metadata": {
        "colab": {
          "base_uri": "https://localhost:8080/",
          "height": 35
        },
        "id": "eIeRG874-O5K",
        "outputId": "c68fd50f-6f5b-415f-bcdd-05e2a0beca56"
      },
      "execution_count": 115,
      "outputs": [
        {
          "output_type": "execute_result",
          "data": {
            "text/plain": [
              "'honor'"
            ],
            "application/vnd.google.colaboratory.intrinsic+json": {
              "type": "string"
            }
          },
          "metadata": {},
          "execution_count": 115
        }
      ]
    },
    {
      "cell_type": "code",
      "source": [
        "find_analogies(\"imports\", \"buy\", \"exports\")"
      ],
      "metadata": {
        "colab": {
          "base_uri": "https://localhost:8080/",
          "height": 35
        },
        "id": "zgbgde3z-mRn",
        "outputId": "229c9fa0-3de5-4de0-cdd9-a701c15f8756"
      },
      "execution_count": 116,
      "outputs": [
        {
          "output_type": "execute_result",
          "data": {
            "text/plain": [
              "'provided'"
            ],
            "application/vnd.google.colaboratory.intrinsic+json": {
              "type": "string"
            }
          },
          "metadata": {},
          "execution_count": 116
        }
      ]
    },
    {
      "cell_type": "code",
      "source": [
        "find_analogies(\"mexico\", \"latin\", \"america\")"
      ],
      "metadata": {
        "colab": {
          "base_uri": "https://localhost:8080/",
          "height": 35
        },
        "id": "HKwV_ZZ__Dfo",
        "outputId": "bf2570b2-dc2a-4241-990e-06c1a87c94b2"
      },
      "execution_count": 123,
      "outputs": [
        {
          "output_type": "execute_result",
          "data": {
            "text/plain": [
              "'adp'"
            ],
            "application/vnd.google.colaboratory.intrinsic+json": {
              "type": "string"
            }
          },
          "metadata": {},
          "execution_count": 123
        }
      ]
    },
    {
      "cell_type": "code",
      "source": [
        "find_analogies(\"industry\", \"manufacturing\", \"banking\")"
      ],
      "metadata": {
        "colab": {
          "base_uri": "https://localhost:8080/",
          "height": 35
        },
        "id": "77qeoc1JExCH",
        "outputId": "036fe789-c9cc-4d0b-af88-557826a2daee"
      },
      "execution_count": 126,
      "outputs": [
        {
          "output_type": "execute_result",
          "data": {
            "text/plain": [
              "'refining'"
            ],
            "application/vnd.google.colaboratory.intrinsic+json": {
              "type": "string"
            }
          },
          "metadata": {},
          "execution_count": 126
        }
      ]
    },
    {
      "cell_type": "code",
      "source": [
        "find_analogies(\"rich\", \"development\", \"poor\")"
      ],
      "metadata": {
        "colab": {
          "base_uri": "https://localhost:8080/",
          "height": 35
        },
        "id": "zRTYQiwyFZre",
        "outputId": "2660011c-da2c-4500-a154-cb760a884521"
      },
      "execution_count": 129,
      "outputs": [
        {
          "output_type": "execute_result",
          "data": {
            "text/plain": [
              "'polo'"
            ],
            "application/vnd.google.colaboratory.intrinsic+json": {
              "type": "string"
            }
          },
          "metadata": {},
          "execution_count": 129
        }
      ]
    },
    {
      "cell_type": "markdown",
      "metadata": {
        "id": "LZXTW28KFyTy"
      },
      "source": [
        "## Referencias\n",
        "\n",
        "- [Language models - Lena Voita](https://lena-voita.github.io/nlp_course/language_modeling.html#generation_strategies)\n",
        "- [A Neural Probabilistic Model - Bengio](https://www.jmlr.org/papers/volume3/bengio03a/bengio03a.pdf)\n",
        "- Parte del código de esta práctica fue retomado del trabajo de la Dr. Ximena Guitierrez Vasques"
      ]
    }
  ],
  "metadata": {
    "accelerator": "GPU",
    "colab": {
      "collapsed_sections": [
        "8lD1TG2_tNCV",
        "66bf61a5-0e1a-4b8a-a4b2-16d381f007ba",
        "16ba6a90-cf6d-4c4a-8a60-603b560272ed",
        "48386915-018b-4ae0-86c6-17c35d05b260",
        "aNWBVF4c9N3j",
        "y291dtSSDUwx",
        "0ddc2aa7-ee08-49d6-965b-33689dc90ec5",
        "8e1a0096-0a54-45af-823c-3f8a25cfa196",
        "c1fb1d33-3005-4017-a58d-926702397c24",
        "QCZ9MV7ecmGo",
        "sbRQG1WNAbjm"
      ],
      "gpuType": "T4",
      "provenance": []
    },
    "kernelspec": {
      "display_name": "Python 3",
      "name": "python3"
    },
    "language_info": {
      "name": "python"
    }
  },
  "nbformat": 4,
  "nbformat_minor": 0
}