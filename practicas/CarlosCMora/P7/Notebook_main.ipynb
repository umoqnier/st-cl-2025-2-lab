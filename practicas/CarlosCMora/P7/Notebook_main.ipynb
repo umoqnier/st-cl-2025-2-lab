{
 "cells": [
  {
   "cell_type": "markdown",
   "metadata": {},
   "source": [
    "# Alumnos:\n",
    "\n",
    "* ### Vázquez Martínez Fredin Alberto"
   ]
  },
  {
   "cell_type": "markdown",
   "metadata": {},
   "source": [
    "# Aplicación: StudyBuddy\n",
    "Aplicación que con base en tus notas de clase y documentos relacionados te ayuda a estudiar para pasar tu examen final.\n",
    "\n",
    "## Desarrollo\n",
    "\n",
    "### Input:\n",
    "Se va a considerar un agente con langchain capaz de leer notas, la entrada esperada serán Pdfs, posteriormente va captar información.\n",
    "\n",
    "\n",
    "### Output:\n",
    "La salida esperada será un resumen de puntos más importantes de tus notas.\n",
    "\n",
    "En caso que el usuario incluya alguna de los siguientes puntos, se va esperar resultados adicionales:\n",
    "\n",
    "1. Palabras clave o temas clave: además del resumen general, el agente será capaz de poder enfocar el resumen de las notas para ese tema solicitado por el usuario. \n",
    "\n",
    "2. Preguntas: el agente tendrá la capacidad de responder a preguntas en base a las notas dadas."
   ]
  },
  {
   "cell_type": "code",
   "execution_count": 1,
   "metadata": {},
   "outputs": [
    {
     "name": "stdout",
     "output_type": "stream",
     "text": [
      "Collecting langchain_ollama\n",
      "  Using cached langchain_ollama-0.3.3-py3-none-any.whl.metadata (1.5 kB)\n",
      "Collecting ollama<1.0.0,>=0.4.8 (from langchain_ollama)\n",
      "  Using cached ollama-0.4.8-py3-none-any.whl.metadata (4.7 kB)\n",
      "Collecting langchain-core<1.0.0,>=0.3.60 (from langchain_ollama)\n",
      "  Using cached langchain_core-0.3.61-py3-none-any.whl.metadata (5.8 kB)\n",
      "Collecting langsmith<0.4,>=0.1.126 (from langchain-core<1.0.0,>=0.3.60->langchain_ollama)\n",
      "  Using cached langsmith-0.3.42-py3-none-any.whl.metadata (15 kB)\n",
      "Collecting tenacity!=8.4.0,<10.0.0,>=8.1.0 (from langchain-core<1.0.0,>=0.3.60->langchain_ollama)\n",
      "  Using cached tenacity-9.1.2-py3-none-any.whl.metadata (1.2 kB)\n",
      "Collecting jsonpatch<2.0,>=1.33 (from langchain-core<1.0.0,>=0.3.60->langchain_ollama)\n",
      "  Using cached jsonpatch-1.33-py2.py3-none-any.whl.metadata (3.0 kB)\n",
      "Requirement already satisfied: PyYAML>=5.3 in /home/carloscmora/miniconda3/envs/transformers_env/lib/python3.9/site-packages (from langchain-core<1.0.0,>=0.3.60->langchain_ollama) (6.0.2)\n",
      "Collecting packaging<25,>=23.2 (from langchain-core<1.0.0,>=0.3.60->langchain_ollama)\n",
      "  Using cached packaging-24.2-py3-none-any.whl.metadata (3.2 kB)\n",
      "Requirement already satisfied: typing-extensions>=4.7 in /home/carloscmora/miniconda3/envs/transformers_env/lib/python3.9/site-packages (from langchain-core<1.0.0,>=0.3.60->langchain_ollama) (4.13.2)\n",
      "Requirement already satisfied: pydantic>=2.7.4 in /home/carloscmora/miniconda3/envs/transformers_env/lib/python3.9/site-packages (from langchain-core<1.0.0,>=0.3.60->langchain_ollama) (2.11.4)\n",
      "Requirement already satisfied: jsonpointer>=1.9 in /home/carloscmora/miniconda3/envs/transformers_env/lib/python3.9/site-packages (from jsonpatch<2.0,>=1.33->langchain-core<1.0.0,>=0.3.60->langchain_ollama) (3.0.0)\n",
      "Requirement already satisfied: httpx<1,>=0.23.0 in /home/carloscmora/miniconda3/envs/transformers_env/lib/python3.9/site-packages (from langsmith<0.4,>=0.1.126->langchain-core<1.0.0,>=0.3.60->langchain_ollama) (0.27.2)\n",
      "Requirement already satisfied: orjson<4.0.0,>=3.9.14 in /home/carloscmora/miniconda3/envs/transformers_env/lib/python3.9/site-packages (from langsmith<0.4,>=0.1.126->langchain-core<1.0.0,>=0.3.60->langchain_ollama) (3.10.18)\n",
      "Requirement already satisfied: requests<3,>=2 in /home/carloscmora/miniconda3/envs/transformers_env/lib/python3.9/site-packages (from langsmith<0.4,>=0.1.126->langchain-core<1.0.0,>=0.3.60->langchain_ollama) (2.32.3)\n",
      "Collecting requests-toolbelt<2.0.0,>=1.0.0 (from langsmith<0.4,>=0.1.126->langchain-core<1.0.0,>=0.3.60->langchain_ollama)\n",
      "  Using cached requests_toolbelt-1.0.0-py2.py3-none-any.whl.metadata (14 kB)\n",
      "Collecting zstandard<0.24.0,>=0.23.0 (from langsmith<0.4,>=0.1.126->langchain-core<1.0.0,>=0.3.60->langchain_ollama)\n",
      "  Using cached zstandard-0.23.0-cp39-cp39-manylinux_2_17_x86_64.manylinux2014_x86_64.whl.metadata (3.0 kB)\n",
      "Requirement already satisfied: anyio in /home/carloscmora/miniconda3/envs/transformers_env/lib/python3.9/site-packages (from httpx<1,>=0.23.0->langsmith<0.4,>=0.1.126->langchain-core<1.0.0,>=0.3.60->langchain_ollama) (4.9.0)\n",
      "Requirement already satisfied: certifi in /home/carloscmora/miniconda3/envs/transformers_env/lib/python3.9/site-packages (from httpx<1,>=0.23.0->langsmith<0.4,>=0.1.126->langchain-core<1.0.0,>=0.3.60->langchain_ollama) (2025.4.26)\n",
      "Requirement already satisfied: httpcore==1.* in /home/carloscmora/miniconda3/envs/transformers_env/lib/python3.9/site-packages (from httpx<1,>=0.23.0->langsmith<0.4,>=0.1.126->langchain-core<1.0.0,>=0.3.60->langchain_ollama) (1.0.9)\n",
      "Requirement already satisfied: idna in /home/carloscmora/miniconda3/envs/transformers_env/lib/python3.9/site-packages (from httpx<1,>=0.23.0->langsmith<0.4,>=0.1.126->langchain-core<1.0.0,>=0.3.60->langchain_ollama) (3.10)\n",
      "Requirement already satisfied: sniffio in /home/carloscmora/miniconda3/envs/transformers_env/lib/python3.9/site-packages (from httpx<1,>=0.23.0->langsmith<0.4,>=0.1.126->langchain-core<1.0.0,>=0.3.60->langchain_ollama) (1.3.1)\n",
      "Requirement already satisfied: h11>=0.16 in /home/carloscmora/miniconda3/envs/transformers_env/lib/python3.9/site-packages (from httpcore==1.*->httpx<1,>=0.23.0->langsmith<0.4,>=0.1.126->langchain-core<1.0.0,>=0.3.60->langchain_ollama) (0.16.0)\n",
      "Requirement already satisfied: annotated-types>=0.6.0 in /home/carloscmora/miniconda3/envs/transformers_env/lib/python3.9/site-packages (from pydantic>=2.7.4->langchain-core<1.0.0,>=0.3.60->langchain_ollama) (0.7.0)\n",
      "Requirement already satisfied: pydantic-core==2.33.2 in /home/carloscmora/miniconda3/envs/transformers_env/lib/python3.9/site-packages (from pydantic>=2.7.4->langchain-core<1.0.0,>=0.3.60->langchain_ollama) (2.33.2)\n",
      "Requirement already satisfied: typing-inspection>=0.4.0 in /home/carloscmora/miniconda3/envs/transformers_env/lib/python3.9/site-packages (from pydantic>=2.7.4->langchain-core<1.0.0,>=0.3.60->langchain_ollama) (0.4.0)\n",
      "Requirement already satisfied: charset-normalizer<4,>=2 in /home/carloscmora/miniconda3/envs/transformers_env/lib/python3.9/site-packages (from requests<3,>=2->langsmith<0.4,>=0.1.126->langchain-core<1.0.0,>=0.3.60->langchain_ollama) (3.4.2)\n",
      "Requirement already satisfied: urllib3<3,>=1.21.1 in /home/carloscmora/miniconda3/envs/transformers_env/lib/python3.9/site-packages (from requests<3,>=2->langsmith<0.4,>=0.1.126->langchain-core<1.0.0,>=0.3.60->langchain_ollama) (2.4.0)\n",
      "Requirement already satisfied: exceptiongroup>=1.0.2 in /home/carloscmora/miniconda3/envs/transformers_env/lib/python3.9/site-packages (from anyio->httpx<1,>=0.23.0->langsmith<0.4,>=0.1.126->langchain-core<1.0.0,>=0.3.60->langchain_ollama) (1.3.0)\n",
      "Using cached langchain_ollama-0.3.3-py3-none-any.whl (21 kB)\n",
      "Using cached langchain_core-0.3.61-py3-none-any.whl (438 kB)\n",
      "Using cached jsonpatch-1.33-py2.py3-none-any.whl (12 kB)\n",
      "Using cached langsmith-0.3.42-py3-none-any.whl (360 kB)\n",
      "Using cached ollama-0.4.8-py3-none-any.whl (13 kB)\n",
      "Using cached packaging-24.2-py3-none-any.whl (65 kB)\n",
      "Using cached requests_toolbelt-1.0.0-py2.py3-none-any.whl (54 kB)\n",
      "Using cached tenacity-9.1.2-py3-none-any.whl (28 kB)\n",
      "Using cached zstandard-0.23.0-cp39-cp39-manylinux_2_17_x86_64.manylinux2014_x86_64.whl (5.4 MB)\n",
      "Installing collected packages: zstandard, tenacity, packaging, jsonpatch, requests-toolbelt, ollama, langsmith, langchain-core, langchain_ollama\n",
      "\u001b[2K  Attempting uninstall: packaging\n",
      "\u001b[2K    Found existing installation: packaging 25.0\n",
      "\u001b[2K    Uninstalling packaging-25.0:\n",
      "\u001b[2K      Successfully uninstalled packaging-25.0\n",
      "\u001b[2K   \u001b[90m━━━━━━━━━━━━━━━━━━━━━━━━━━━━━━━━━━━━━━━━\u001b[0m \u001b[32m9/9\u001b[0m [langchain_ollama][langchain-core]lt]\n",
      "\u001b[1A\u001b[2KSuccessfully installed jsonpatch-1.33 langchain-core-0.3.61 langchain_ollama-0.3.3 langsmith-0.3.42 ollama-0.4.8 packaging-24.2 requests-toolbelt-1.0.0 tenacity-9.1.2 zstandard-0.23.0\n",
      "Collecting langchain_community\n",
      "  Using cached langchain_community-0.3.24-py3-none-any.whl.metadata (2.5 kB)\n",
      "Requirement already satisfied: langchain-core<1.0.0,>=0.3.59 in /home/carloscmora/miniconda3/envs/transformers_env/lib/python3.9/site-packages (from langchain_community) (0.3.61)\n",
      "Collecting langchain<1.0.0,>=0.3.25 (from langchain_community)\n",
      "  Using cached langchain-0.3.25-py3-none-any.whl.metadata (7.8 kB)\n",
      "Collecting SQLAlchemy<3,>=1.4 (from langchain_community)\n",
      "  Using cached sqlalchemy-2.0.41-cp39-cp39-manylinux_2_17_x86_64.manylinux2014_x86_64.whl.metadata (9.6 kB)\n",
      "Requirement already satisfied: requests<3,>=2 in /home/carloscmora/miniconda3/envs/transformers_env/lib/python3.9/site-packages (from langchain_community) (2.32.3)\n",
      "Requirement already satisfied: PyYAML>=5.3 in /home/carloscmora/miniconda3/envs/transformers_env/lib/python3.9/site-packages (from langchain_community) (6.0.2)\n",
      "Requirement already satisfied: aiohttp<4.0.0,>=3.8.3 in /home/carloscmora/miniconda3/envs/transformers_env/lib/python3.9/site-packages (from langchain_community) (3.11.18)\n",
      "Requirement already satisfied: tenacity!=8.4.0,<10,>=8.1.0 in /home/carloscmora/miniconda3/envs/transformers_env/lib/python3.9/site-packages (from langchain_community) (9.1.2)\n",
      "Collecting dataclasses-json<0.7,>=0.5.7 (from langchain_community)\n",
      "  Using cached dataclasses_json-0.6.7-py3-none-any.whl.metadata (25 kB)\n",
      "Collecting pydantic-settings<3.0.0,>=2.4.0 (from langchain_community)\n",
      "  Using cached pydantic_settings-2.9.1-py3-none-any.whl.metadata (3.8 kB)\n",
      "Requirement already satisfied: langsmith<0.4,>=0.1.125 in /home/carloscmora/miniconda3/envs/transformers_env/lib/python3.9/site-packages (from langchain_community) (0.3.42)\n",
      "Collecting httpx-sse<1.0.0,>=0.4.0 (from langchain_community)\n",
      "  Using cached httpx_sse-0.4.0-py3-none-any.whl.metadata (9.0 kB)\n",
      "Requirement already satisfied: numpy>=1.26.2 in /home/carloscmora/miniconda3/envs/transformers_env/lib/python3.9/site-packages (from langchain_community) (2.0.2)\n",
      "Requirement already satisfied: aiohappyeyeballs>=2.3.0 in /home/carloscmora/miniconda3/envs/transformers_env/lib/python3.9/site-packages (from aiohttp<4.0.0,>=3.8.3->langchain_community) (2.6.1)\n",
      "Requirement already satisfied: aiosignal>=1.1.2 in /home/carloscmora/miniconda3/envs/transformers_env/lib/python3.9/site-packages (from aiohttp<4.0.0,>=3.8.3->langchain_community) (1.3.2)\n",
      "Requirement already satisfied: async-timeout<6.0,>=4.0 in /home/carloscmora/miniconda3/envs/transformers_env/lib/python3.9/site-packages (from aiohttp<4.0.0,>=3.8.3->langchain_community) (5.0.1)\n",
      "Requirement already satisfied: attrs>=17.3.0 in /home/carloscmora/miniconda3/envs/transformers_env/lib/python3.9/site-packages (from aiohttp<4.0.0,>=3.8.3->langchain_community) (25.3.0)\n",
      "Requirement already satisfied: frozenlist>=1.1.1 in /home/carloscmora/miniconda3/envs/transformers_env/lib/python3.9/site-packages (from aiohttp<4.0.0,>=3.8.3->langchain_community) (1.6.0)\n",
      "Requirement already satisfied: multidict<7.0,>=4.5 in /home/carloscmora/miniconda3/envs/transformers_env/lib/python3.9/site-packages (from aiohttp<4.0.0,>=3.8.3->langchain_community) (6.4.3)\n",
      "Requirement already satisfied: propcache>=0.2.0 in /home/carloscmora/miniconda3/envs/transformers_env/lib/python3.9/site-packages (from aiohttp<4.0.0,>=3.8.3->langchain_community) (0.3.1)\n",
      "Requirement already satisfied: yarl<2.0,>=1.17.0 in /home/carloscmora/miniconda3/envs/transformers_env/lib/python3.9/site-packages (from aiohttp<4.0.0,>=3.8.3->langchain_community) (1.20.0)\n",
      "Collecting marshmallow<4.0.0,>=3.18.0 (from dataclasses-json<0.7,>=0.5.7->langchain_community)\n",
      "  Using cached marshmallow-3.26.1-py3-none-any.whl.metadata (7.3 kB)\n",
      "Collecting typing-inspect<1,>=0.4.0 (from dataclasses-json<0.7,>=0.5.7->langchain_community)\n",
      "  Using cached typing_inspect-0.9.0-py3-none-any.whl.metadata (1.5 kB)\n",
      "Collecting langchain-text-splitters<1.0.0,>=0.3.8 (from langchain<1.0.0,>=0.3.25->langchain_community)\n",
      "  Using cached langchain_text_splitters-0.3.8-py3-none-any.whl.metadata (1.9 kB)\n",
      "Requirement already satisfied: pydantic<3.0.0,>=2.7.4 in /home/carloscmora/miniconda3/envs/transformers_env/lib/python3.9/site-packages (from langchain<1.0.0,>=0.3.25->langchain_community) (2.11.4)\n",
      "Collecting async-timeout<6.0,>=4.0 (from aiohttp<4.0.0,>=3.8.3->langchain_community)\n",
      "  Using cached async_timeout-4.0.3-py3-none-any.whl.metadata (4.2 kB)\n",
      "Requirement already satisfied: jsonpatch<2.0,>=1.33 in /home/carloscmora/miniconda3/envs/transformers_env/lib/python3.9/site-packages (from langchain-core<1.0.0,>=0.3.59->langchain_community) (1.33)\n",
      "Requirement already satisfied: packaging<25,>=23.2 in /home/carloscmora/miniconda3/envs/transformers_env/lib/python3.9/site-packages (from langchain-core<1.0.0,>=0.3.59->langchain_community) (24.2)\n",
      "Requirement already satisfied: typing-extensions>=4.7 in /home/carloscmora/miniconda3/envs/transformers_env/lib/python3.9/site-packages (from langchain-core<1.0.0,>=0.3.59->langchain_community) (4.13.2)\n",
      "Requirement already satisfied: jsonpointer>=1.9 in /home/carloscmora/miniconda3/envs/transformers_env/lib/python3.9/site-packages (from jsonpatch<2.0,>=1.33->langchain-core<1.0.0,>=0.3.59->langchain_community) (3.0.0)\n",
      "Requirement already satisfied: httpx<1,>=0.23.0 in /home/carloscmora/miniconda3/envs/transformers_env/lib/python3.9/site-packages (from langsmith<0.4,>=0.1.125->langchain_community) (0.27.2)\n",
      "Requirement already satisfied: orjson<4.0.0,>=3.9.14 in /home/carloscmora/miniconda3/envs/transformers_env/lib/python3.9/site-packages (from langsmith<0.4,>=0.1.125->langchain_community) (3.10.18)\n",
      "Requirement already satisfied: requests-toolbelt<2.0.0,>=1.0.0 in /home/carloscmora/miniconda3/envs/transformers_env/lib/python3.9/site-packages (from langsmith<0.4,>=0.1.125->langchain_community) (1.0.0)\n",
      "Requirement already satisfied: zstandard<0.24.0,>=0.23.0 in /home/carloscmora/miniconda3/envs/transformers_env/lib/python3.9/site-packages (from langsmith<0.4,>=0.1.125->langchain_community) (0.23.0)\n",
      "Requirement already satisfied: anyio in /home/carloscmora/miniconda3/envs/transformers_env/lib/python3.9/site-packages (from httpx<1,>=0.23.0->langsmith<0.4,>=0.1.125->langchain_community) (4.9.0)\n",
      "Requirement already satisfied: certifi in /home/carloscmora/miniconda3/envs/transformers_env/lib/python3.9/site-packages (from httpx<1,>=0.23.0->langsmith<0.4,>=0.1.125->langchain_community) (2025.4.26)\n",
      "Requirement already satisfied: httpcore==1.* in /home/carloscmora/miniconda3/envs/transformers_env/lib/python3.9/site-packages (from httpx<1,>=0.23.0->langsmith<0.4,>=0.1.125->langchain_community) (1.0.9)\n",
      "Requirement already satisfied: idna in /home/carloscmora/miniconda3/envs/transformers_env/lib/python3.9/site-packages (from httpx<1,>=0.23.0->langsmith<0.4,>=0.1.125->langchain_community) (3.10)\n",
      "Requirement already satisfied: sniffio in /home/carloscmora/miniconda3/envs/transformers_env/lib/python3.9/site-packages (from httpx<1,>=0.23.0->langsmith<0.4,>=0.1.125->langchain_community) (1.3.1)\n",
      "Requirement already satisfied: h11>=0.16 in /home/carloscmora/miniconda3/envs/transformers_env/lib/python3.9/site-packages (from httpcore==1.*->httpx<1,>=0.23.0->langsmith<0.4,>=0.1.125->langchain_community) (0.16.0)\n",
      "Requirement already satisfied: annotated-types>=0.6.0 in /home/carloscmora/miniconda3/envs/transformers_env/lib/python3.9/site-packages (from pydantic<3.0.0,>=2.7.4->langchain<1.0.0,>=0.3.25->langchain_community) (0.7.0)\n",
      "Requirement already satisfied: pydantic-core==2.33.2 in /home/carloscmora/miniconda3/envs/transformers_env/lib/python3.9/site-packages (from pydantic<3.0.0,>=2.7.4->langchain<1.0.0,>=0.3.25->langchain_community) (2.33.2)\n",
      "Requirement already satisfied: typing-inspection>=0.4.0 in /home/carloscmora/miniconda3/envs/transformers_env/lib/python3.9/site-packages (from pydantic<3.0.0,>=2.7.4->langchain<1.0.0,>=0.3.25->langchain_community) (0.4.0)\n",
      "Collecting python-dotenv>=0.21.0 (from pydantic-settings<3.0.0,>=2.4.0->langchain_community)\n",
      "  Downloading python_dotenv-1.1.0-py3-none-any.whl.metadata (24 kB)\n",
      "Requirement already satisfied: charset-normalizer<4,>=2 in /home/carloscmora/miniconda3/envs/transformers_env/lib/python3.9/site-packages (from requests<3,>=2->langchain_community) (3.4.2)\n",
      "Requirement already satisfied: urllib3<3,>=1.21.1 in /home/carloscmora/miniconda3/envs/transformers_env/lib/python3.9/site-packages (from requests<3,>=2->langchain_community) (2.4.0)\n",
      "Collecting greenlet>=1 (from SQLAlchemy<3,>=1.4->langchain_community)\n",
      "  Using cached greenlet-3.2.2-cp39-cp39-manylinux_2_24_x86_64.manylinux_2_28_x86_64.whl.metadata (4.1 kB)\n",
      "Collecting mypy-extensions>=0.3.0 (from typing-inspect<1,>=0.4.0->dataclasses-json<0.7,>=0.5.7->langchain_community)\n",
      "  Using cached mypy_extensions-1.1.0-py3-none-any.whl.metadata (1.1 kB)\n",
      "Requirement already satisfied: exceptiongroup>=1.0.2 in /home/carloscmora/miniconda3/envs/transformers_env/lib/python3.9/site-packages (from anyio->httpx<1,>=0.23.0->langsmith<0.4,>=0.1.125->langchain_community) (1.3.0)\n",
      "Using cached langchain_community-0.3.24-py3-none-any.whl (2.5 MB)\n",
      "Using cached dataclasses_json-0.6.7-py3-none-any.whl (28 kB)\n",
      "Using cached httpx_sse-0.4.0-py3-none-any.whl (7.8 kB)\n",
      "Using cached langchain-0.3.25-py3-none-any.whl (1.0 MB)\n",
      "Using cached async_timeout-4.0.3-py3-none-any.whl (5.7 kB)\n",
      "Using cached langchain_text_splitters-0.3.8-py3-none-any.whl (32 kB)\n",
      "Using cached marshmallow-3.26.1-py3-none-any.whl (50 kB)\n",
      "Using cached pydantic_settings-2.9.1-py3-none-any.whl (44 kB)\n",
      "Using cached sqlalchemy-2.0.41-cp39-cp39-manylinux_2_17_x86_64.manylinux2014_x86_64.whl (3.2 MB)\n",
      "Using cached typing_inspect-0.9.0-py3-none-any.whl (8.8 kB)\n",
      "Using cached greenlet-3.2.2-cp39-cp39-manylinux_2_24_x86_64.manylinux_2_28_x86_64.whl (579 kB)\n",
      "Using cached mypy_extensions-1.1.0-py3-none-any.whl (5.0 kB)\n",
      "Downloading python_dotenv-1.1.0-py3-none-any.whl (20 kB)\n",
      "Installing collected packages: python-dotenv, mypy-extensions, marshmallow, httpx-sse, greenlet, async-timeout, typing-inspect, SQLAlchemy, pydantic-settings, dataclasses-json, langchain-text-splitters, langchain, langchain_community\n",
      "\u001b[2K  Attempting uninstall: async-timeout\n",
      "\u001b[2K    Found existing installation: async-timeout 5.0.1\n",
      "\u001b[2K    Uninstalling async-timeout-5.0.1:\n",
      "\u001b[2K      Successfully uninstalled async-timeout-5.0.1\n",
      "\u001b[2K   \u001b[90m━━━━━━━━━━━━━━━━━━━━━━━━━━━━━━━━━━━━━━━━\u001b[0m \u001b[32m13/13\u001b[0m [langchain_community]ngchain_community]\n",
      "\u001b[1A\u001b[2KSuccessfully installed SQLAlchemy-2.0.41 async-timeout-4.0.3 dataclasses-json-0.6.7 greenlet-3.2.2 httpx-sse-0.4.0 langchain-0.3.25 langchain-text-splitters-0.3.8 langchain_community-0.3.24 marshmallow-3.26.1 mypy-extensions-1.1.0 pydantic-settings-2.9.1 python-dotenv-1.1.0 typing-inspect-0.9.0\n",
      "Collecting pymupdf\n",
      "  Using cached pymupdf-1.26.0-cp39-abi3-manylinux2014_x86_64.manylinux_2_17_x86_64.whl.metadata (3.4 kB)\n",
      "Using cached pymupdf-1.26.0-cp39-abi3-manylinux2014_x86_64.manylinux_2_17_x86_64.whl (24.1 MB)\n",
      "Installing collected packages: pymupdf\n",
      "Successfully installed pymupdf-1.26.0\n",
      "Requirement already satisfied: langchain_text_splitters in /home/carloscmora/miniconda3/envs/transformers_env/lib/python3.9/site-packages (0.3.8)\n",
      "Requirement already satisfied: langchain-core<1.0.0,>=0.3.51 in /home/carloscmora/miniconda3/envs/transformers_env/lib/python3.9/site-packages (from langchain_text_splitters) (0.3.61)\n",
      "Requirement already satisfied: langsmith<0.4,>=0.1.126 in /home/carloscmora/miniconda3/envs/transformers_env/lib/python3.9/site-packages (from langchain-core<1.0.0,>=0.3.51->langchain_text_splitters) (0.3.42)\n",
      "Requirement already satisfied: tenacity!=8.4.0,<10.0.0,>=8.1.0 in /home/carloscmora/miniconda3/envs/transformers_env/lib/python3.9/site-packages (from langchain-core<1.0.0,>=0.3.51->langchain_text_splitters) (9.1.2)\n",
      "Requirement already satisfied: jsonpatch<2.0,>=1.33 in /home/carloscmora/miniconda3/envs/transformers_env/lib/python3.9/site-packages (from langchain-core<1.0.0,>=0.3.51->langchain_text_splitters) (1.33)\n",
      "Requirement already satisfied: PyYAML>=5.3 in /home/carloscmora/miniconda3/envs/transformers_env/lib/python3.9/site-packages (from langchain-core<1.0.0,>=0.3.51->langchain_text_splitters) (6.0.2)\n",
      "Requirement already satisfied: packaging<25,>=23.2 in /home/carloscmora/miniconda3/envs/transformers_env/lib/python3.9/site-packages (from langchain-core<1.0.0,>=0.3.51->langchain_text_splitters) (24.2)\n",
      "Requirement already satisfied: typing-extensions>=4.7 in /home/carloscmora/miniconda3/envs/transformers_env/lib/python3.9/site-packages (from langchain-core<1.0.0,>=0.3.51->langchain_text_splitters) (4.13.2)\n",
      "Requirement already satisfied: pydantic>=2.7.4 in /home/carloscmora/miniconda3/envs/transformers_env/lib/python3.9/site-packages (from langchain-core<1.0.0,>=0.3.51->langchain_text_splitters) (2.11.4)\n",
      "Requirement already satisfied: jsonpointer>=1.9 in /home/carloscmora/miniconda3/envs/transformers_env/lib/python3.9/site-packages (from jsonpatch<2.0,>=1.33->langchain-core<1.0.0,>=0.3.51->langchain_text_splitters) (3.0.0)\n",
      "Requirement already satisfied: httpx<1,>=0.23.0 in /home/carloscmora/miniconda3/envs/transformers_env/lib/python3.9/site-packages (from langsmith<0.4,>=0.1.126->langchain-core<1.0.0,>=0.3.51->langchain_text_splitters) (0.27.2)\n",
      "Requirement already satisfied: orjson<4.0.0,>=3.9.14 in /home/carloscmora/miniconda3/envs/transformers_env/lib/python3.9/site-packages (from langsmith<0.4,>=0.1.126->langchain-core<1.0.0,>=0.3.51->langchain_text_splitters) (3.10.18)\n",
      "Requirement already satisfied: requests<3,>=2 in /home/carloscmora/miniconda3/envs/transformers_env/lib/python3.9/site-packages (from langsmith<0.4,>=0.1.126->langchain-core<1.0.0,>=0.3.51->langchain_text_splitters) (2.32.3)\n",
      "Requirement already satisfied: requests-toolbelt<2.0.0,>=1.0.0 in /home/carloscmora/miniconda3/envs/transformers_env/lib/python3.9/site-packages (from langsmith<0.4,>=0.1.126->langchain-core<1.0.0,>=0.3.51->langchain_text_splitters) (1.0.0)\n",
      "Requirement already satisfied: zstandard<0.24.0,>=0.23.0 in /home/carloscmora/miniconda3/envs/transformers_env/lib/python3.9/site-packages (from langsmith<0.4,>=0.1.126->langchain-core<1.0.0,>=0.3.51->langchain_text_splitters) (0.23.0)\n",
      "Requirement already satisfied: anyio in /home/carloscmora/miniconda3/envs/transformers_env/lib/python3.9/site-packages (from httpx<1,>=0.23.0->langsmith<0.4,>=0.1.126->langchain-core<1.0.0,>=0.3.51->langchain_text_splitters) (4.9.0)\n",
      "Requirement already satisfied: certifi in /home/carloscmora/miniconda3/envs/transformers_env/lib/python3.9/site-packages (from httpx<1,>=0.23.0->langsmith<0.4,>=0.1.126->langchain-core<1.0.0,>=0.3.51->langchain_text_splitters) (2025.4.26)\n",
      "Requirement already satisfied: httpcore==1.* in /home/carloscmora/miniconda3/envs/transformers_env/lib/python3.9/site-packages (from httpx<1,>=0.23.0->langsmith<0.4,>=0.1.126->langchain-core<1.0.0,>=0.3.51->langchain_text_splitters) (1.0.9)\n",
      "Requirement already satisfied: idna in /home/carloscmora/miniconda3/envs/transformers_env/lib/python3.9/site-packages (from httpx<1,>=0.23.0->langsmith<0.4,>=0.1.126->langchain-core<1.0.0,>=0.3.51->langchain_text_splitters) (3.10)\n",
      "Requirement already satisfied: sniffio in /home/carloscmora/miniconda3/envs/transformers_env/lib/python3.9/site-packages (from httpx<1,>=0.23.0->langsmith<0.4,>=0.1.126->langchain-core<1.0.0,>=0.3.51->langchain_text_splitters) (1.3.1)\n",
      "Requirement already satisfied: h11>=0.16 in /home/carloscmora/miniconda3/envs/transformers_env/lib/python3.9/site-packages (from httpcore==1.*->httpx<1,>=0.23.0->langsmith<0.4,>=0.1.126->langchain-core<1.0.0,>=0.3.51->langchain_text_splitters) (0.16.0)\n",
      "Requirement already satisfied: annotated-types>=0.6.0 in /home/carloscmora/miniconda3/envs/transformers_env/lib/python3.9/site-packages (from pydantic>=2.7.4->langchain-core<1.0.0,>=0.3.51->langchain_text_splitters) (0.7.0)\n",
      "Requirement already satisfied: pydantic-core==2.33.2 in /home/carloscmora/miniconda3/envs/transformers_env/lib/python3.9/site-packages (from pydantic>=2.7.4->langchain-core<1.0.0,>=0.3.51->langchain_text_splitters) (2.33.2)\n",
      "Requirement already satisfied: typing-inspection>=0.4.0 in /home/carloscmora/miniconda3/envs/transformers_env/lib/python3.9/site-packages (from pydantic>=2.7.4->langchain-core<1.0.0,>=0.3.51->langchain_text_splitters) (0.4.0)\n",
      "Requirement already satisfied: charset-normalizer<4,>=2 in /home/carloscmora/miniconda3/envs/transformers_env/lib/python3.9/site-packages (from requests<3,>=2->langsmith<0.4,>=0.1.126->langchain-core<1.0.0,>=0.3.51->langchain_text_splitters) (3.4.2)\n",
      "Requirement already satisfied: urllib3<3,>=1.21.1 in /home/carloscmora/miniconda3/envs/transformers_env/lib/python3.9/site-packages (from requests<3,>=2->langsmith<0.4,>=0.1.126->langchain-core<1.0.0,>=0.3.51->langchain_text_splitters) (2.4.0)\n",
      "Requirement already satisfied: exceptiongroup>=1.0.2 in /home/carloscmora/miniconda3/envs/transformers_env/lib/python3.9/site-packages (from anyio->httpx<1,>=0.23.0->langsmith<0.4,>=0.1.126->langchain-core<1.0.0,>=0.3.51->langchain_text_splitters) (1.3.0)\n",
      "Collecting langchain_chroma\n",
      "  Using cached langchain_chroma-0.2.4-py3-none-any.whl.metadata (1.1 kB)\n",
      "Requirement already satisfied: langchain-core>=0.3.60 in /home/carloscmora/miniconda3/envs/transformers_env/lib/python3.9/site-packages (from langchain_chroma) (0.3.61)\n",
      "Requirement already satisfied: numpy>=1.26.0 in /home/carloscmora/miniconda3/envs/transformers_env/lib/python3.9/site-packages (from langchain_chroma) (2.0.2)\n",
      "Collecting chromadb>=1.0.9 (from langchain_chroma)\n",
      "  Using cached chromadb-1.0.10-cp39-abi3-manylinux_2_17_x86_64.manylinux2014_x86_64.whl.metadata (6.9 kB)\n",
      "Collecting build>=1.0.3 (from chromadb>=1.0.9->langchain_chroma)\n",
      "  Using cached build-1.2.2.post1-py3-none-any.whl.metadata (6.5 kB)\n",
      "Requirement already satisfied: pydantic>=1.9 in /home/carloscmora/miniconda3/envs/transformers_env/lib/python3.9/site-packages (from chromadb>=1.0.9->langchain_chroma) (2.11.4)\n",
      "Collecting fastapi==0.115.9 (from chromadb>=1.0.9->langchain_chroma)\n",
      "  Using cached fastapi-0.115.9-py3-none-any.whl.metadata (27 kB)\n",
      "Requirement already satisfied: uvicorn>=0.18.3 in /home/carloscmora/miniconda3/envs/transformers_env/lib/python3.9/site-packages (from uvicorn[standard]>=0.18.3->chromadb>=1.0.9->langchain_chroma) (0.34.2)\n",
      "Collecting posthog>=2.4.0 (from chromadb>=1.0.9->langchain_chroma)\n",
      "  Using cached posthog-4.2.0-py2.py3-none-any.whl.metadata (3.0 kB)\n",
      "Requirement already satisfied: typing-extensions>=4.5.0 in /home/carloscmora/miniconda3/envs/transformers_env/lib/python3.9/site-packages (from chromadb>=1.0.9->langchain_chroma) (4.13.2)\n",
      "Collecting onnxruntime>=1.14.1 (from chromadb>=1.0.9->langchain_chroma)\n",
      "  Using cached onnxruntime-1.19.2-cp39-cp39-manylinux_2_27_x86_64.manylinux_2_28_x86_64.whl.metadata (4.5 kB)\n",
      "Collecting opentelemetry-api>=1.2.0 (from chromadb>=1.0.9->langchain_chroma)\n",
      "  Using cached opentelemetry_api-1.33.1-py3-none-any.whl.metadata (1.6 kB)\n",
      "Collecting opentelemetry-exporter-otlp-proto-grpc>=1.2.0 (from chromadb>=1.0.9->langchain_chroma)\n",
      "  Using cached opentelemetry_exporter_otlp_proto_grpc-1.33.1-py3-none-any.whl.metadata (2.5 kB)\n",
      "Collecting opentelemetry-instrumentation-fastapi>=0.41b0 (from chromadb>=1.0.9->langchain_chroma)\n",
      "  Using cached opentelemetry_instrumentation_fastapi-0.54b1-py3-none-any.whl.metadata (2.2 kB)\n",
      "Collecting opentelemetry-sdk>=1.2.0 (from chromadb>=1.0.9->langchain_chroma)\n",
      "  Using cached opentelemetry_sdk-1.33.1-py3-none-any.whl.metadata (1.6 kB)\n",
      "Requirement already satisfied: tokenizers>=0.13.2 in /home/carloscmora/miniconda3/envs/transformers_env/lib/python3.9/site-packages (from chromadb>=1.0.9->langchain_chroma) (0.21.1)\n",
      "Collecting pypika>=0.48.9 (from chromadb>=1.0.9->langchain_chroma)\n",
      "  Using cached pypika-0.48.9-py2.py3-none-any.whl\n",
      "Requirement already satisfied: tqdm>=4.65.0 in /home/carloscmora/miniconda3/envs/transformers_env/lib/python3.9/site-packages (from chromadb>=1.0.9->langchain_chroma) (4.67.1)\n",
      "Requirement already satisfied: overrides>=7.3.1 in /home/carloscmora/miniconda3/envs/transformers_env/lib/python3.9/site-packages (from chromadb>=1.0.9->langchain_chroma) (7.7.0)\n",
      "Requirement already satisfied: importlib-resources in /home/carloscmora/miniconda3/envs/transformers_env/lib/python3.9/site-packages (from chromadb>=1.0.9->langchain_chroma) (6.5.2)\n",
      "Collecting grpcio>=1.58.0 (from chromadb>=1.0.9->langchain_chroma)\n",
      "  Downloading grpcio-1.71.0-cp39-cp39-manylinux_2_17_x86_64.manylinux2014_x86_64.whl.metadata (3.8 kB)\n",
      "Collecting bcrypt>=4.0.1 (from chromadb>=1.0.9->langchain_chroma)\n",
      "  Using cached bcrypt-4.3.0-cp39-abi3-manylinux_2_34_x86_64.whl.metadata (10 kB)\n",
      "Requirement already satisfied: typer>=0.9.0 in /home/carloscmora/miniconda3/envs/transformers_env/lib/python3.9/site-packages (from chromadb>=1.0.9->langchain_chroma) (0.15.3)\n",
      "Collecting kubernetes>=28.1.0 (from chromadb>=1.0.9->langchain_chroma)\n",
      "  Using cached kubernetes-32.0.1-py2.py3-none-any.whl.metadata (1.7 kB)\n",
      "Requirement already satisfied: tenacity>=8.2.3 in /home/carloscmora/miniconda3/envs/transformers_env/lib/python3.9/site-packages (from chromadb>=1.0.9->langchain_chroma) (9.1.2)\n",
      "Requirement already satisfied: pyyaml>=6.0.0 in /home/carloscmora/miniconda3/envs/transformers_env/lib/python3.9/site-packages (from chromadb>=1.0.9->langchain_chroma) (6.0.2)\n",
      "Collecting mmh3>=4.0.1 (from chromadb>=1.0.9->langchain_chroma)\n",
      "  Using cached mmh3-5.1.0-cp39-cp39-manylinux_2_5_x86_64.manylinux1_x86_64.manylinux_2_17_x86_64.manylinux2014_x86_64.whl.metadata (16 kB)\n",
      "Requirement already satisfied: orjson>=3.9.12 in /home/carloscmora/miniconda3/envs/transformers_env/lib/python3.9/site-packages (from chromadb>=1.0.9->langchain_chroma) (3.10.18)\n",
      "Requirement already satisfied: httpx>=0.27.0 in /home/carloscmora/miniconda3/envs/transformers_env/lib/python3.9/site-packages (from chromadb>=1.0.9->langchain_chroma) (0.27.2)\n",
      "Requirement already satisfied: rich>=10.11.0 in /home/carloscmora/miniconda3/envs/transformers_env/lib/python3.9/site-packages (from chromadb>=1.0.9->langchain_chroma) (14.0.0)\n",
      "Requirement already satisfied: jsonschema>=4.19.0 in /home/carloscmora/miniconda3/envs/transformers_env/lib/python3.9/site-packages (from chromadb>=1.0.9->langchain_chroma) (4.23.0)\n",
      "Collecting starlette<0.46.0,>=0.40.0 (from fastapi==0.115.9->chromadb>=1.0.9->langchain_chroma)\n",
      "  Using cached starlette-0.45.3-py3-none-any.whl.metadata (6.3 kB)\n",
      "Requirement already satisfied: annotated-types>=0.6.0 in /home/carloscmora/miniconda3/envs/transformers_env/lib/python3.9/site-packages (from pydantic>=1.9->chromadb>=1.0.9->langchain_chroma) (0.7.0)\n",
      "Requirement already satisfied: pydantic-core==2.33.2 in /home/carloscmora/miniconda3/envs/transformers_env/lib/python3.9/site-packages (from pydantic>=1.9->chromadb>=1.0.9->langchain_chroma) (2.33.2)\n",
      "Requirement already satisfied: typing-inspection>=0.4.0 in /home/carloscmora/miniconda3/envs/transformers_env/lib/python3.9/site-packages (from pydantic>=1.9->chromadb>=1.0.9->langchain_chroma) (0.4.0)\n",
      "Requirement already satisfied: anyio<5,>=3.6.2 in /home/carloscmora/miniconda3/envs/transformers_env/lib/python3.9/site-packages (from starlette<0.46.0,>=0.40.0->fastapi==0.115.9->chromadb>=1.0.9->langchain_chroma) (4.9.0)\n",
      "Requirement already satisfied: exceptiongroup>=1.0.2 in /home/carloscmora/miniconda3/envs/transformers_env/lib/python3.9/site-packages (from anyio<5,>=3.6.2->starlette<0.46.0,>=0.40.0->fastapi==0.115.9->chromadb>=1.0.9->langchain_chroma) (1.3.0)\n",
      "Requirement already satisfied: idna>=2.8 in /home/carloscmora/miniconda3/envs/transformers_env/lib/python3.9/site-packages (from anyio<5,>=3.6.2->starlette<0.46.0,>=0.40.0->fastapi==0.115.9->chromadb>=1.0.9->langchain_chroma) (3.10)\n",
      "Requirement already satisfied: sniffio>=1.1 in /home/carloscmora/miniconda3/envs/transformers_env/lib/python3.9/site-packages (from anyio<5,>=3.6.2->starlette<0.46.0,>=0.40.0->fastapi==0.115.9->chromadb>=1.0.9->langchain_chroma) (1.3.1)\n",
      "Requirement already satisfied: packaging>=19.1 in /home/carloscmora/miniconda3/envs/transformers_env/lib/python3.9/site-packages (from build>=1.0.3->chromadb>=1.0.9->langchain_chroma) (24.2)\n",
      "Collecting pyproject_hooks (from build>=1.0.3->chromadb>=1.0.9->langchain_chroma)\n",
      "  Using cached pyproject_hooks-1.2.0-py3-none-any.whl.metadata (1.3 kB)\n",
      "Requirement already satisfied: importlib-metadata>=4.6 in /home/carloscmora/miniconda3/envs/transformers_env/lib/python3.9/site-packages (from build>=1.0.3->chromadb>=1.0.9->langchain_chroma) (8.7.0)\n",
      "Requirement already satisfied: tomli>=1.1.0 in /home/carloscmora/miniconda3/envs/transformers_env/lib/python3.9/site-packages (from build>=1.0.3->chromadb>=1.0.9->langchain_chroma) (2.2.1)\n",
      "Requirement already satisfied: certifi in /home/carloscmora/miniconda3/envs/transformers_env/lib/python3.9/site-packages (from httpx>=0.27.0->chromadb>=1.0.9->langchain_chroma) (2025.4.26)\n",
      "Requirement already satisfied: httpcore==1.* in /home/carloscmora/miniconda3/envs/transformers_env/lib/python3.9/site-packages (from httpx>=0.27.0->chromadb>=1.0.9->langchain_chroma) (1.0.9)\n",
      "Requirement already satisfied: h11>=0.16 in /home/carloscmora/miniconda3/envs/transformers_env/lib/python3.9/site-packages (from httpcore==1.*->httpx>=0.27.0->chromadb>=1.0.9->langchain_chroma) (0.16.0)\n",
      "Requirement already satisfied: zipp>=3.20 in /home/carloscmora/miniconda3/envs/transformers_env/lib/python3.9/site-packages (from importlib-metadata>=4.6->build>=1.0.3->chromadb>=1.0.9->langchain_chroma) (3.21.0)\n",
      "Requirement already satisfied: attrs>=22.2.0 in /home/carloscmora/miniconda3/envs/transformers_env/lib/python3.9/site-packages (from jsonschema>=4.19.0->chromadb>=1.0.9->langchain_chroma) (25.3.0)\n",
      "Requirement already satisfied: jsonschema-specifications>=2023.03.6 in /home/carloscmora/miniconda3/envs/transformers_env/lib/python3.9/site-packages (from jsonschema>=4.19.0->chromadb>=1.0.9->langchain_chroma) (2025.4.1)\n",
      "Requirement already satisfied: referencing>=0.28.4 in /home/carloscmora/miniconda3/envs/transformers_env/lib/python3.9/site-packages (from jsonschema>=4.19.0->chromadb>=1.0.9->langchain_chroma) (0.36.2)\n",
      "Requirement already satisfied: rpds-py>=0.7.1 in /home/carloscmora/miniconda3/envs/transformers_env/lib/python3.9/site-packages (from jsonschema>=4.19.0->chromadb>=1.0.9->langchain_chroma) (0.24.0)\n",
      "Requirement already satisfied: six>=1.9.0 in /home/carloscmora/miniconda3/envs/transformers_env/lib/python3.9/site-packages (from kubernetes>=28.1.0->chromadb>=1.0.9->langchain_chroma) (1.17.0)\n",
      "Requirement already satisfied: python-dateutil>=2.5.3 in /home/carloscmora/miniconda3/envs/transformers_env/lib/python3.9/site-packages (from kubernetes>=28.1.0->chromadb>=1.0.9->langchain_chroma) (2.9.0.post0)\n",
      "Collecting google-auth>=1.0.1 (from kubernetes>=28.1.0->chromadb>=1.0.9->langchain_chroma)\n",
      "  Downloading google_auth-2.40.2-py2.py3-none-any.whl.metadata (6.2 kB)\n",
      "Requirement already satisfied: websocket-client!=0.40.0,!=0.41.*,!=0.42.*,>=0.32.0 in /home/carloscmora/miniconda3/envs/transformers_env/lib/python3.9/site-packages (from kubernetes>=28.1.0->chromadb>=1.0.9->langchain_chroma) (1.8.0)\n",
      "Requirement already satisfied: requests in /home/carloscmora/miniconda3/envs/transformers_env/lib/python3.9/site-packages (from kubernetes>=28.1.0->chromadb>=1.0.9->langchain_chroma) (2.32.3)\n",
      "Collecting requests-oauthlib (from kubernetes>=28.1.0->chromadb>=1.0.9->langchain_chroma)\n",
      "  Using cached requests_oauthlib-2.0.0-py2.py3-none-any.whl.metadata (11 kB)\n",
      "Collecting oauthlib>=3.2.2 (from kubernetes>=28.1.0->chromadb>=1.0.9->langchain_chroma)\n",
      "  Using cached oauthlib-3.2.2-py3-none-any.whl.metadata (7.5 kB)\n",
      "Requirement already satisfied: urllib3>=1.24.2 in /home/carloscmora/miniconda3/envs/transformers_env/lib/python3.9/site-packages (from kubernetes>=28.1.0->chromadb>=1.0.9->langchain_chroma) (2.4.0)\n",
      "Collecting durationpy>=0.7 (from kubernetes>=28.1.0->chromadb>=1.0.9->langchain_chroma)\n",
      "  Using cached durationpy-0.10-py3-none-any.whl.metadata (340 bytes)\n",
      "Collecting cachetools<6.0,>=2.0.0 (from google-auth>=1.0.1->kubernetes>=28.1.0->chromadb>=1.0.9->langchain_chroma)\n",
      "  Using cached cachetools-5.5.2-py3-none-any.whl.metadata (5.4 kB)\n",
      "Collecting pyasn1-modules>=0.2.1 (from google-auth>=1.0.1->kubernetes>=28.1.0->chromadb>=1.0.9->langchain_chroma)\n",
      "  Downloading pyasn1_modules-0.4.2-py3-none-any.whl.metadata (3.5 kB)\n",
      "Collecting rsa<5,>=3.1.4 (from google-auth>=1.0.1->kubernetes>=28.1.0->chromadb>=1.0.9->langchain_chroma)\n",
      "  Downloading rsa-4.9.1-py3-none-any.whl.metadata (5.6 kB)\n",
      "Collecting pyasn1>=0.1.3 (from rsa<5,>=3.1.4->google-auth>=1.0.1->kubernetes>=28.1.0->chromadb>=1.0.9->langchain_chroma)\n",
      "  Using cached pyasn1-0.6.1-py3-none-any.whl.metadata (8.4 kB)\n",
      "Requirement already satisfied: langsmith<0.4,>=0.1.126 in /home/carloscmora/miniconda3/envs/transformers_env/lib/python3.9/site-packages (from langchain-core>=0.3.60->langchain_chroma) (0.3.42)\n",
      "Requirement already satisfied: jsonpatch<2.0,>=1.33 in /home/carloscmora/miniconda3/envs/transformers_env/lib/python3.9/site-packages (from langchain-core>=0.3.60->langchain_chroma) (1.33)\n",
      "Requirement already satisfied: jsonpointer>=1.9 in /home/carloscmora/miniconda3/envs/transformers_env/lib/python3.9/site-packages (from jsonpatch<2.0,>=1.33->langchain-core>=0.3.60->langchain_chroma) (3.0.0)\n",
      "Requirement already satisfied: requests-toolbelt<2.0.0,>=1.0.0 in /home/carloscmora/miniconda3/envs/transformers_env/lib/python3.9/site-packages (from langsmith<0.4,>=0.1.126->langchain-core>=0.3.60->langchain_chroma) (1.0.0)\n",
      "Requirement already satisfied: zstandard<0.24.0,>=0.23.0 in /home/carloscmora/miniconda3/envs/transformers_env/lib/python3.9/site-packages (from langsmith<0.4,>=0.1.126->langchain-core>=0.3.60->langchain_chroma) (0.23.0)\n",
      "Requirement already satisfied: charset-normalizer<4,>=2 in /home/carloscmora/miniconda3/envs/transformers_env/lib/python3.9/site-packages (from requests->kubernetes>=28.1.0->chromadb>=1.0.9->langchain_chroma) (3.4.2)\n",
      "Collecting coloredlogs (from onnxruntime>=1.14.1->chromadb>=1.0.9->langchain_chroma)\n",
      "  Using cached coloredlogs-15.0.1-py2.py3-none-any.whl.metadata (12 kB)\n",
      "Collecting flatbuffers (from onnxruntime>=1.14.1->chromadb>=1.0.9->langchain_chroma)\n",
      "  Downloading flatbuffers-25.2.10-py2.py3-none-any.whl.metadata (875 bytes)\n",
      "Collecting protobuf (from onnxruntime>=1.14.1->chromadb>=1.0.9->langchain_chroma)\n",
      "  Downloading protobuf-6.31.0-cp39-abi3-manylinux2014_x86_64.whl.metadata (593 bytes)\n",
      "Requirement already satisfied: sympy in /home/carloscmora/miniconda3/envs/transformers_env/lib/python3.9/site-packages (from onnxruntime>=1.14.1->chromadb>=1.0.9->langchain_chroma) (1.14.0)\n",
      "Collecting deprecated>=1.2.6 (from opentelemetry-api>=1.2.0->chromadb>=1.0.9->langchain_chroma)\n",
      "  Using cached Deprecated-1.2.18-py2.py3-none-any.whl.metadata (5.7 kB)\n",
      "Collecting importlib-metadata>=4.6 (from build>=1.0.3->chromadb>=1.0.9->langchain_chroma)\n",
      "  Using cached importlib_metadata-8.6.1-py3-none-any.whl.metadata (4.7 kB)\n",
      "Collecting wrapt<2,>=1.10 (from deprecated>=1.2.6->opentelemetry-api>=1.2.0->chromadb>=1.0.9->langchain_chroma)\n",
      "  Downloading wrapt-1.17.2-cp39-cp39-manylinux_2_5_x86_64.manylinux1_x86_64.manylinux_2_17_x86_64.manylinux2014_x86_64.whl.metadata (6.4 kB)\n",
      "Collecting googleapis-common-protos~=1.52 (from opentelemetry-exporter-otlp-proto-grpc>=1.2.0->chromadb>=1.0.9->langchain_chroma)\n",
      "  Downloading googleapis_common_protos-1.70.0-py3-none-any.whl.metadata (9.3 kB)\n",
      "Collecting opentelemetry-exporter-otlp-proto-common==1.33.1 (from opentelemetry-exporter-otlp-proto-grpc>=1.2.0->chromadb>=1.0.9->langchain_chroma)\n",
      "  Using cached opentelemetry_exporter_otlp_proto_common-1.33.1-py3-none-any.whl.metadata (1.9 kB)\n",
      "Collecting opentelemetry-proto==1.33.1 (from opentelemetry-exporter-otlp-proto-grpc>=1.2.0->chromadb>=1.0.9->langchain_chroma)\n",
      "  Using cached opentelemetry_proto-1.33.1-py3-none-any.whl.metadata (2.4 kB)\n",
      "Collecting protobuf (from onnxruntime>=1.14.1->chromadb>=1.0.9->langchain_chroma)\n",
      "  Downloading protobuf-5.29.4-cp38-abi3-manylinux2014_x86_64.whl.metadata (592 bytes)\n",
      "Collecting opentelemetry-semantic-conventions==0.54b1 (from opentelemetry-sdk>=1.2.0->chromadb>=1.0.9->langchain_chroma)\n",
      "  Using cached opentelemetry_semantic_conventions-0.54b1-py3-none-any.whl.metadata (2.5 kB)\n",
      "Collecting opentelemetry-instrumentation-asgi==0.54b1 (from opentelemetry-instrumentation-fastapi>=0.41b0->chromadb>=1.0.9->langchain_chroma)\n",
      "  Using cached opentelemetry_instrumentation_asgi-0.54b1-py3-none-any.whl.metadata (2.1 kB)\n",
      "Collecting opentelemetry-instrumentation==0.54b1 (from opentelemetry-instrumentation-fastapi>=0.41b0->chromadb>=1.0.9->langchain_chroma)\n",
      "  Using cached opentelemetry_instrumentation-0.54b1-py3-none-any.whl.metadata (6.8 kB)\n",
      "Collecting opentelemetry-util-http==0.54b1 (from opentelemetry-instrumentation-fastapi>=0.41b0->chromadb>=1.0.9->langchain_chroma)\n",
      "  Using cached opentelemetry_util_http-0.54b1-py3-none-any.whl.metadata (2.6 kB)\n",
      "Collecting asgiref~=3.0 (from opentelemetry-instrumentation-asgi==0.54b1->opentelemetry-instrumentation-fastapi>=0.41b0->chromadb>=1.0.9->langchain_chroma)\n",
      "  Using cached asgiref-3.8.1-py3-none-any.whl.metadata (9.3 kB)\n",
      "Collecting backoff>=1.10.0 (from posthog>=2.4.0->chromadb>=1.0.9->langchain_chroma)\n",
      "  Using cached backoff-2.2.1-py3-none-any.whl.metadata (14 kB)\n",
      "Collecting distro>=1.5.0 (from posthog>=2.4.0->chromadb>=1.0.9->langchain_chroma)\n",
      "  Using cached distro-1.9.0-py3-none-any.whl.metadata (6.8 kB)\n",
      "Requirement already satisfied: markdown-it-py>=2.2.0 in /home/carloscmora/miniconda3/envs/transformers_env/lib/python3.9/site-packages (from rich>=10.11.0->chromadb>=1.0.9->langchain_chroma) (3.0.0)\n",
      "Requirement already satisfied: pygments<3.0.0,>=2.13.0 in /home/carloscmora/miniconda3/envs/transformers_env/lib/python3.9/site-packages (from rich>=10.11.0->chromadb>=1.0.9->langchain_chroma) (2.19.1)\n",
      "Requirement already satisfied: mdurl~=0.1 in /home/carloscmora/miniconda3/envs/transformers_env/lib/python3.9/site-packages (from markdown-it-py>=2.2.0->rich>=10.11.0->chromadb>=1.0.9->langchain_chroma) (0.1.2)\n",
      "Requirement already satisfied: huggingface-hub<1.0,>=0.16.4 in /home/carloscmora/miniconda3/envs/transformers_env/lib/python3.9/site-packages (from tokenizers>=0.13.2->chromadb>=1.0.9->langchain_chroma) (0.31.2)\n",
      "Requirement already satisfied: filelock in /home/carloscmora/miniconda3/envs/transformers_env/lib/python3.9/site-packages (from huggingface-hub<1.0,>=0.16.4->tokenizers>=0.13.2->chromadb>=1.0.9->langchain_chroma) (3.18.0)\n",
      "Requirement already satisfied: fsspec>=2023.5.0 in /home/carloscmora/miniconda3/envs/transformers_env/lib/python3.9/site-packages (from huggingface-hub<1.0,>=0.16.4->tokenizers>=0.13.2->chromadb>=1.0.9->langchain_chroma) (2025.3.0)\n",
      "Requirement already satisfied: click>=8.0.0 in /home/carloscmora/miniconda3/envs/transformers_env/lib/python3.9/site-packages (from typer>=0.9.0->chromadb>=1.0.9->langchain_chroma) (8.1.8)\n",
      "Requirement already satisfied: shellingham>=1.3.0 in /home/carloscmora/miniconda3/envs/transformers_env/lib/python3.9/site-packages (from typer>=0.9.0->chromadb>=1.0.9->langchain_chroma) (1.5.4)\n",
      "Collecting httptools>=0.6.3 (from uvicorn[standard]>=0.18.3->chromadb>=1.0.9->langchain_chroma)\n",
      "  Using cached httptools-0.6.4-cp39-cp39-manylinux_2_5_x86_64.manylinux1_x86_64.manylinux_2_17_x86_64.manylinux2014_x86_64.whl.metadata (3.6 kB)\n",
      "Requirement already satisfied: python-dotenv>=0.13 in /home/carloscmora/miniconda3/envs/transformers_env/lib/python3.9/site-packages (from uvicorn[standard]>=0.18.3->chromadb>=1.0.9->langchain_chroma) (1.1.0)\n",
      "Collecting uvloop!=0.15.0,!=0.15.1,>=0.14.0 (from uvicorn[standard]>=0.18.3->chromadb>=1.0.9->langchain_chroma)\n",
      "  Using cached uvloop-0.21.0-cp39-cp39-manylinux_2_17_x86_64.manylinux2014_x86_64.whl.metadata (4.9 kB)\n",
      "Collecting watchfiles>=0.13 (from uvicorn[standard]>=0.18.3->chromadb>=1.0.9->langchain_chroma)\n",
      "  Using cached watchfiles-1.0.5-cp39-cp39-manylinux_2_17_x86_64.manylinux2014_x86_64.whl.metadata (4.9 kB)\n",
      "Requirement already satisfied: websockets>=10.4 in /home/carloscmora/miniconda3/envs/transformers_env/lib/python3.9/site-packages (from uvicorn[standard]>=0.18.3->chromadb>=1.0.9->langchain_chroma) (12.0)\n",
      "Collecting humanfriendly>=9.1 (from coloredlogs->onnxruntime>=1.14.1->chromadb>=1.0.9->langchain_chroma)\n",
      "  Using cached humanfriendly-10.0-py2.py3-none-any.whl.metadata (9.2 kB)\n",
      "Requirement already satisfied: mpmath<1.4,>=1.1.0 in /home/carloscmora/miniconda3/envs/transformers_env/lib/python3.9/site-packages (from sympy->onnxruntime>=1.14.1->chromadb>=1.0.9->langchain_chroma) (1.3.0)\n",
      "Using cached langchain_chroma-0.2.4-py3-none-any.whl (11 kB)\n",
      "Using cached chromadb-1.0.10-cp39-abi3-manylinux_2_17_x86_64.manylinux2014_x86_64.whl (19.0 MB)\n",
      "Using cached fastapi-0.115.9-py3-none-any.whl (94 kB)\n",
      "Using cached starlette-0.45.3-py3-none-any.whl (71 kB)\n",
      "Using cached bcrypt-4.3.0-cp39-abi3-manylinux_2_34_x86_64.whl (284 kB)\n",
      "Using cached build-1.2.2.post1-py3-none-any.whl (22 kB)\n",
      "Downloading grpcio-1.71.0-cp39-cp39-manylinux_2_17_x86_64.manylinux2014_x86_64.whl (5.9 MB)\n",
      "\u001b[2K   \u001b[90m━━━━━━━━━━━━━━━━━━━━━━━━━━━━━━━━━━━━━━━━\u001b[0m \u001b[32m5.9/5.9 MB\u001b[0m \u001b[31m45.5 MB/s\u001b[0m eta \u001b[36m0:00:00\u001b[0m\n",
      "\u001b[?25hUsing cached kubernetes-32.0.1-py2.py3-none-any.whl (2.0 MB)\n",
      "Using cached durationpy-0.10-py3-none-any.whl (3.9 kB)\n",
      "Downloading google_auth-2.40.2-py2.py3-none-any.whl (216 kB)\n",
      "Using cached cachetools-5.5.2-py3-none-any.whl (10 kB)\n",
      "Downloading rsa-4.9.1-py3-none-any.whl (34 kB)\n",
      "Using cached mmh3-5.1.0-cp39-cp39-manylinux_2_5_x86_64.manylinux1_x86_64.manylinux_2_17_x86_64.manylinux2014_x86_64.whl (98 kB)\n",
      "Using cached oauthlib-3.2.2-py3-none-any.whl (151 kB)\n",
      "Using cached onnxruntime-1.19.2-cp39-cp39-manylinux_2_27_x86_64.manylinux_2_28_x86_64.whl (13.2 MB)\n",
      "Using cached opentelemetry_api-1.33.1-py3-none-any.whl (65 kB)\n",
      "Using cached importlib_metadata-8.6.1-py3-none-any.whl (26 kB)\n",
      "Using cached Deprecated-1.2.18-py2.py3-none-any.whl (10.0 kB)\n",
      "Downloading wrapt-1.17.2-cp39-cp39-manylinux_2_5_x86_64.manylinux1_x86_64.manylinux_2_17_x86_64.manylinux2014_x86_64.whl (82 kB)\n",
      "Using cached opentelemetry_exporter_otlp_proto_grpc-1.33.1-py3-none-any.whl (18 kB)\n",
      "Using cached opentelemetry_exporter_otlp_proto_common-1.33.1-py3-none-any.whl (18 kB)\n",
      "Using cached opentelemetry_proto-1.33.1-py3-none-any.whl (55 kB)\n",
      "Downloading googleapis_common_protos-1.70.0-py3-none-any.whl (294 kB)\n",
      "Using cached opentelemetry_sdk-1.33.1-py3-none-any.whl (118 kB)\n",
      "Using cached opentelemetry_semantic_conventions-0.54b1-py3-none-any.whl (194 kB)\n",
      "Downloading protobuf-5.29.4-cp38-abi3-manylinux2014_x86_64.whl (319 kB)\n",
      "Using cached opentelemetry_instrumentation_fastapi-0.54b1-py3-none-any.whl (12 kB)\n",
      "Using cached opentelemetry_instrumentation-0.54b1-py3-none-any.whl (31 kB)\n",
      "Using cached opentelemetry_instrumentation_asgi-0.54b1-py3-none-any.whl (16 kB)\n",
      "Using cached opentelemetry_util_http-0.54b1-py3-none-any.whl (7.3 kB)\n",
      "Using cached asgiref-3.8.1-py3-none-any.whl (23 kB)\n",
      "Using cached posthog-4.2.0-py2.py3-none-any.whl (96 kB)\n",
      "Using cached backoff-2.2.1-py3-none-any.whl (15 kB)\n",
      "Using cached distro-1.9.0-py3-none-any.whl (20 kB)\n",
      "Using cached pyasn1-0.6.1-py3-none-any.whl (83 kB)\n",
      "Downloading pyasn1_modules-0.4.2-py3-none-any.whl (181 kB)\n",
      "Using cached httptools-0.6.4-cp39-cp39-manylinux_2_5_x86_64.manylinux1_x86_64.manylinux_2_17_x86_64.manylinux2014_x86_64.whl (448 kB)\n",
      "Using cached uvloop-0.21.0-cp39-cp39-manylinux_2_17_x86_64.manylinux2014_x86_64.whl (3.8 MB)\n",
      "Using cached watchfiles-1.0.5-cp39-cp39-manylinux_2_17_x86_64.manylinux2014_x86_64.whl (456 kB)\n",
      "Using cached coloredlogs-15.0.1-py2.py3-none-any.whl (46 kB)\n",
      "Using cached humanfriendly-10.0-py2.py3-none-any.whl (86 kB)\n",
      "Downloading flatbuffers-25.2.10-py2.py3-none-any.whl (30 kB)\n",
      "Using cached pyproject_hooks-1.2.0-py3-none-any.whl (10 kB)\n",
      "Using cached requests_oauthlib-2.0.0-py2.py3-none-any.whl (24 kB)\n",
      "Installing collected packages: pypika, flatbuffers, durationpy, wrapt, uvloop, pyproject_hooks, pyasn1, protobuf, opentelemetry-util-http, oauthlib, mmh3, importlib-metadata, humanfriendly, httptools, grpcio, distro, cachetools, bcrypt, backoff, asgiref, rsa, requests-oauthlib, pyasn1-modules, posthog, opentelemetry-proto, googleapis-common-protos, deprecated, coloredlogs, build, watchfiles, starlette, opentelemetry-exporter-otlp-proto-common, opentelemetry-api, onnxruntime, google-auth, opentelemetry-semantic-conventions, kubernetes, fastapi, opentelemetry-sdk, opentelemetry-instrumentation, opentelemetry-instrumentation-asgi, opentelemetry-exporter-otlp-proto-grpc, opentelemetry-instrumentation-fastapi, chromadb, langchain_chroma\n",
      "\u001b[2K  Attempting uninstall: importlib-metadata━━━━━━━━━━━━━━━━━━━━━━━━\u001b[0m \u001b[32m 6/45\u001b[0m [pyasn1]\n",
      "\u001b[2K    Found existing installation: importlib_metadata 8.7.0━━━━━\u001b[0m \u001b[32m 6/45\u001b[0m [pyasn1]\n",
      "\u001b[2K    Uninstalling importlib_metadata-8.7.0:━━━━━━━━━━━━━━━━━━━━━━━━\u001b[0m \u001b[32m11/45\u001b[0m [importlib-metadata]\n",
      "\u001b[2K      Successfully uninstalled importlib_metadata-8.7.0━━━━━━━\u001b[0m \u001b[32m11/45\u001b[0m [importlib-metadata]\n",
      "\u001b[2K  Attempting uninstall: starlette0m\u001b[90m╺\u001b[0m\u001b[90m━━━━━━━━━━━━━━━━\u001b[0m \u001b[32m26/45\u001b[0m [deprecated]les]\n",
      "\u001b[2K    Found existing installation: starlette 0.46.2━━━━━━━━━━━━━\u001b[0m \u001b[32m26/45\u001b[0m [deprecated]\n",
      "\u001b[2K    Uninstalling starlette-0.46.2:0m╺\u001b[0m\u001b[90m━━━━━━━━━━━━━━━━\u001b[0m \u001b[32m26/45\u001b[0m [deprecated]\n",
      "\u001b[2K      Successfully uninstalled starlette-0.46.2━━━━━━━━━━━━━━━\u001b[0m \u001b[32m26/45\u001b[0m [deprecated]\n",
      "\u001b[2K  Attempting uninstall: fastapi━━━━━━━━━\u001b[0m\u001b[90m╺\u001b[0m\u001b[90m━━━━━━━\u001b[0m \u001b[32m36/45\u001b[0m [kubernetes]]\n",
      "\u001b[2K    Found existing installation: fastapi 0.115.12m\u001b[90m━━━━━━━\u001b[0m \u001b[32m36/45\u001b[0m [kubernetes]\n",
      "\u001b[2K    Uninstalling fastapi-0.115.12:━━\u001b[0m\u001b[90m╺\u001b[0m\u001b[90m━━━━━━━\u001b[0m \u001b[32m36/45\u001b[0m [kubernetes]\n",
      "\u001b[2K      Successfully uninstalled fastapi-0.115.12[0m\u001b[90m━━━━━━━\u001b[0m \u001b[32m36/45\u001b[0m [kubernetes]\n",
      "\u001b[2K   \u001b[90m━━━━━━━━━━━━━━━━━━━━━━━━━━━━━━━━━━━━━━━━\u001b[0m \u001b[32m45/45\u001b[0m [langchain_chroma][chromadb]etry-sdk]\n",
      "\u001b[1A\u001b[2KSuccessfully installed asgiref-3.8.1 backoff-2.2.1 bcrypt-4.3.0 build-1.2.2.post1 cachetools-5.5.2 chromadb-1.0.10 coloredlogs-15.0.1 deprecated-1.2.18 distro-1.9.0 durationpy-0.10 fastapi-0.115.9 flatbuffers-25.2.10 google-auth-2.40.2 googleapis-common-protos-1.70.0 grpcio-1.71.0 httptools-0.6.4 humanfriendly-10.0 importlib-metadata-8.6.1 kubernetes-32.0.1 langchain_chroma-0.2.4 mmh3-5.1.0 oauthlib-3.2.2 onnxruntime-1.19.2 opentelemetry-api-1.33.1 opentelemetry-exporter-otlp-proto-common-1.33.1 opentelemetry-exporter-otlp-proto-grpc-1.33.1 opentelemetry-instrumentation-0.54b1 opentelemetry-instrumentation-asgi-0.54b1 opentelemetry-instrumentation-fastapi-0.54b1 opentelemetry-proto-1.33.1 opentelemetry-sdk-1.33.1 opentelemetry-semantic-conventions-0.54b1 opentelemetry-util-http-0.54b1 posthog-4.2.0 protobuf-5.29.4 pyasn1-0.6.1 pyasn1-modules-0.4.2 pypika-0.48.9 pyproject_hooks-1.2.0 requests-oauthlib-2.0.0 rsa-4.9.1 starlette-0.45.3 uvloop-0.21.0 watchfiles-1.0.5 wrapt-1.17.2\n",
      "Collecting langgraph\n",
      "  Using cached langgraph-0.4.7-py3-none-any.whl.metadata (6.8 kB)\n",
      "Requirement already satisfied: langchain-core>=0.1 in /home/carloscmora/miniconda3/envs/transformers_env/lib/python3.9/site-packages (from langgraph) (0.3.61)\n",
      "Collecting langgraph-checkpoint>=2.0.26 (from langgraph)\n",
      "  Using cached langgraph_checkpoint-2.0.26-py3-none-any.whl.metadata (4.6 kB)\n",
      "Collecting langgraph-prebuilt>=0.2.0 (from langgraph)\n",
      "  Using cached langgraph_prebuilt-0.2.1-py3-none-any.whl.metadata (4.5 kB)\n",
      "Collecting langgraph-sdk>=0.1.42 (from langgraph)\n",
      "  Using cached langgraph_sdk-0.1.70-py3-none-any.whl.metadata (1.5 kB)\n",
      "Requirement already satisfied: pydantic>=2.7.4 in /home/carloscmora/miniconda3/envs/transformers_env/lib/python3.9/site-packages (from langgraph) (2.11.4)\n",
      "Requirement already satisfied: xxhash>=3.5.0 in /home/carloscmora/miniconda3/envs/transformers_env/lib/python3.9/site-packages (from langgraph) (3.5.0)\n",
      "Requirement already satisfied: langsmith<0.4,>=0.1.126 in /home/carloscmora/miniconda3/envs/transformers_env/lib/python3.9/site-packages (from langchain-core>=0.1->langgraph) (0.3.42)\n",
      "Requirement already satisfied: tenacity!=8.4.0,<10.0.0,>=8.1.0 in /home/carloscmora/miniconda3/envs/transformers_env/lib/python3.9/site-packages (from langchain-core>=0.1->langgraph) (9.1.2)\n",
      "Requirement already satisfied: jsonpatch<2.0,>=1.33 in /home/carloscmora/miniconda3/envs/transformers_env/lib/python3.9/site-packages (from langchain-core>=0.1->langgraph) (1.33)\n",
      "Requirement already satisfied: PyYAML>=5.3 in /home/carloscmora/miniconda3/envs/transformers_env/lib/python3.9/site-packages (from langchain-core>=0.1->langgraph) (6.0.2)\n",
      "Requirement already satisfied: packaging<25,>=23.2 in /home/carloscmora/miniconda3/envs/transformers_env/lib/python3.9/site-packages (from langchain-core>=0.1->langgraph) (24.2)\n",
      "Requirement already satisfied: typing-extensions>=4.7 in /home/carloscmora/miniconda3/envs/transformers_env/lib/python3.9/site-packages (from langchain-core>=0.1->langgraph) (4.13.2)\n",
      "Requirement already satisfied: jsonpointer>=1.9 in /home/carloscmora/miniconda3/envs/transformers_env/lib/python3.9/site-packages (from jsonpatch<2.0,>=1.33->langchain-core>=0.1->langgraph) (3.0.0)\n",
      "Requirement already satisfied: httpx<1,>=0.23.0 in /home/carloscmora/miniconda3/envs/transformers_env/lib/python3.9/site-packages (from langsmith<0.4,>=0.1.126->langchain-core>=0.1->langgraph) (0.27.2)\n",
      "Requirement already satisfied: orjson<4.0.0,>=3.9.14 in /home/carloscmora/miniconda3/envs/transformers_env/lib/python3.9/site-packages (from langsmith<0.4,>=0.1.126->langchain-core>=0.1->langgraph) (3.10.18)\n",
      "Requirement already satisfied: requests<3,>=2 in /home/carloscmora/miniconda3/envs/transformers_env/lib/python3.9/site-packages (from langsmith<0.4,>=0.1.126->langchain-core>=0.1->langgraph) (2.32.3)\n",
      "Requirement already satisfied: requests-toolbelt<2.0.0,>=1.0.0 in /home/carloscmora/miniconda3/envs/transformers_env/lib/python3.9/site-packages (from langsmith<0.4,>=0.1.126->langchain-core>=0.1->langgraph) (1.0.0)\n",
      "Requirement already satisfied: zstandard<0.24.0,>=0.23.0 in /home/carloscmora/miniconda3/envs/transformers_env/lib/python3.9/site-packages (from langsmith<0.4,>=0.1.126->langchain-core>=0.1->langgraph) (0.23.0)\n",
      "Requirement already satisfied: anyio in /home/carloscmora/miniconda3/envs/transformers_env/lib/python3.9/site-packages (from httpx<1,>=0.23.0->langsmith<0.4,>=0.1.126->langchain-core>=0.1->langgraph) (4.9.0)\n",
      "Requirement already satisfied: certifi in /home/carloscmora/miniconda3/envs/transformers_env/lib/python3.9/site-packages (from httpx<1,>=0.23.0->langsmith<0.4,>=0.1.126->langchain-core>=0.1->langgraph) (2025.4.26)\n",
      "Requirement already satisfied: httpcore==1.* in /home/carloscmora/miniconda3/envs/transformers_env/lib/python3.9/site-packages (from httpx<1,>=0.23.0->langsmith<0.4,>=0.1.126->langchain-core>=0.1->langgraph) (1.0.9)\n",
      "Requirement already satisfied: idna in /home/carloscmora/miniconda3/envs/transformers_env/lib/python3.9/site-packages (from httpx<1,>=0.23.0->langsmith<0.4,>=0.1.126->langchain-core>=0.1->langgraph) (3.10)\n",
      "Requirement already satisfied: sniffio in /home/carloscmora/miniconda3/envs/transformers_env/lib/python3.9/site-packages (from httpx<1,>=0.23.0->langsmith<0.4,>=0.1.126->langchain-core>=0.1->langgraph) (1.3.1)\n",
      "Requirement already satisfied: h11>=0.16 in /home/carloscmora/miniconda3/envs/transformers_env/lib/python3.9/site-packages (from httpcore==1.*->httpx<1,>=0.23.0->langsmith<0.4,>=0.1.126->langchain-core>=0.1->langgraph) (0.16.0)\n",
      "Requirement already satisfied: annotated-types>=0.6.0 in /home/carloscmora/miniconda3/envs/transformers_env/lib/python3.9/site-packages (from pydantic>=2.7.4->langgraph) (0.7.0)\n",
      "Requirement already satisfied: pydantic-core==2.33.2 in /home/carloscmora/miniconda3/envs/transformers_env/lib/python3.9/site-packages (from pydantic>=2.7.4->langgraph) (2.33.2)\n",
      "Requirement already satisfied: typing-inspection>=0.4.0 in /home/carloscmora/miniconda3/envs/transformers_env/lib/python3.9/site-packages (from pydantic>=2.7.4->langgraph) (0.4.0)\n",
      "Requirement already satisfied: charset-normalizer<4,>=2 in /home/carloscmora/miniconda3/envs/transformers_env/lib/python3.9/site-packages (from requests<3,>=2->langsmith<0.4,>=0.1.126->langchain-core>=0.1->langgraph) (3.4.2)\n",
      "Requirement already satisfied: urllib3<3,>=1.21.1 in /home/carloscmora/miniconda3/envs/transformers_env/lib/python3.9/site-packages (from requests<3,>=2->langsmith<0.4,>=0.1.126->langchain-core>=0.1->langgraph) (2.4.0)\n",
      "Collecting ormsgpack<2.0.0,>=1.8.0 (from langgraph-checkpoint>=2.0.26->langgraph)\n",
      "  Using cached ormsgpack-1.10.0-cp39-cp39-manylinux_2_17_x86_64.manylinux2014_x86_64.whl.metadata (43 kB)\n",
      "Requirement already satisfied: exceptiongroup>=1.0.2 in /home/carloscmora/miniconda3/envs/transformers_env/lib/python3.9/site-packages (from anyio->httpx<1,>=0.23.0->langsmith<0.4,>=0.1.126->langchain-core>=0.1->langgraph) (1.3.0)\n",
      "Using cached langgraph-0.4.7-py3-none-any.whl (154 kB)\n",
      "Using cached langgraph_checkpoint-2.0.26-py3-none-any.whl (44 kB)\n",
      "Using cached ormsgpack-1.10.0-cp39-cp39-manylinux_2_17_x86_64.manylinux2014_x86_64.whl (216 kB)\n",
      "Using cached langgraph_prebuilt-0.2.1-py3-none-any.whl (23 kB)\n",
      "Using cached langgraph_sdk-0.1.70-py3-none-any.whl (49 kB)\n",
      "Installing collected packages: ormsgpack, langgraph-sdk, langgraph-checkpoint, langgraph-prebuilt, langgraph\n",
      "\u001b[2K   \u001b[90m━━━━━━━━━━━━━━━━━━━━━━━━━━━━━━━━━━━━━━━━\u001b[0m \u001b[32m5/5\u001b[0m [langgraph]\n",
      "\u001b[1A\u001b[2KSuccessfully installed langgraph-0.4.7 langgraph-checkpoint-2.0.26 langgraph-prebuilt-0.2.1 langgraph-sdk-0.1.70 ormsgpack-1.10.0\n"
     ]
    }
   ],
   "source": [
    "## Instalando las dependencias ##\n",
    "!pip install langchain_ollama\n",
    "!pip install langchain_community\n",
    "!pip install pymupdf\n",
    "!pip install langchain_text_splitters\n",
    "!pip install langchain_chroma\n",
    "!pip install langgraph"
   ]
  },
  {
   "cell_type": "code",
   "execution_count": 2,
   "metadata": {},
   "outputs": [
    {
     "name": "stderr",
     "output_type": "stream",
     "text": [
      "USER_AGENT environment variable not set, consider setting it to identify your requests.\n"
     ]
    }
   ],
   "source": [
    "## Cargando las librerias ##\n",
    "import os \n",
    "from rich import print as rprint\n",
    "from rich.rule import Rule\n",
    "from langchain_ollama.chat_models import ChatOllama\n",
    "from langchain_text_splitters import RecursiveCharacterTextSplitter\n",
    "from langchain_ollama.embeddings import OllamaEmbeddings\n",
    "from langchain_chroma import Chroma\n",
    "from langchain_core.prompts import ChatPromptTemplate\n",
    "from IPython.display import Markdown, display\n",
    "from langchain_core.documents import Document\n",
    "from typing_extensions import List, TypedDict\n",
    "\n",
    "\n",
    "# loaders\n",
    "from langchain_community.document_loaders import WebBaseLoader, PyMuPDFLoader, UnstructuredPDFLoader\n",
    "\n",
    "# langGraph\n",
    "from langgraph.graph import MessagesState, StateGraph\n",
    "from IPython.display import Image, display\n",
    "from langgraph.graph import START, StateGraph"
   ]
  },
  {
   "cell_type": "markdown",
   "metadata": {},
   "source": [
    "### Cargando el modelo y definiendo loaders para recuperación de información"
   ]
  },
  {
   "cell_type": "code",
   "execution_count": 3,
   "metadata": {},
   "outputs": [
    {
     "data": {
      "text/html": [
       "<pre style=\"white-space:pre;overflow-x:auto;line-height:normal;font-family:Menlo,'DejaVu Sans Mono',consolas,'Courier New',monospace\">Total documents <span style=\"color: #008080; text-decoration-color: #008080; font-weight: bold\">12</span>\n",
       "</pre>\n"
      ],
      "text/plain": [
       "Total documents \u001b[1;36m12\u001b[0m\n"
      ]
     },
     "metadata": {},
     "output_type": "display_data"
    },
    {
     "data": {
      "text/html": [
       "<pre style=\"white-space:pre;overflow-x:auto;line-height:normal;font-family:Menlo,'DejaVu Sans Mono',consolas,'Courier New',monospace\"><span style=\"color: #00ff00; text-decoration-color: #00ff00\">────────────────────────────────────────────────────── </span>Doc <span style=\"color: #008080; text-decoration-color: #008080; font-weight: bold\">1</span><span style=\"color: #00ff00; text-decoration-color: #00ff00\"> ──────────────────────────────────────────────────────</span>\n",
       "</pre>\n"
      ],
      "text/plain": [
       "\u001b[92m────────────────────────────────────────────────────── \u001b[0mDoc \u001b[1;36m1\u001b[0m\u001b[92m ──────────────────────────────────────────────────────\u001b[0m\n"
      ]
     },
     "metadata": {},
     "output_type": "display_data"
    },
    {
     "data": {
      "text/html": [
       "<pre style=\"white-space:pre;overflow-x:auto;line-height:normal;font-family:Menlo,'DejaVu Sans Mono',consolas,'Courier New',monospace\">Tema <span style=\"color: #008080; text-decoration-color: #008080; font-weight: bold\">2</span>. \n",
       " \n",
       "Aprendizaje \n",
       " \n",
       "Concepto: convertir experiencia en habilidad o conocimiento. \n",
       "Entonces, un aprendizaje automático es programas a las computadoras para que aprendan \n",
       "de la entrada dada sin instrucciones explícitas. La entrada es la experiencia y la salida el \n",
       "conocimiento. \n",
       "Marco de aprendi\n",
       "</pre>\n"
      ],
      "text/plain": [
       "Tema \u001b[1;36m2\u001b[0m. \n",
       " \n",
       "Aprendizaje \n",
       " \n",
       "Concepto: convertir experiencia en habilidad o conocimiento. \n",
       "Entonces, un aprendizaje automático es programas a las computadoras para que aprendan \n",
       "de la entrada dada sin instrucciones explícitas. La entrada es la experiencia y la salida el \n",
       "conocimiento. \n",
       "Marco de aprendi\n"
      ]
     },
     "metadata": {},
     "output_type": "display_data"
    },
    {
     "data": {
      "text/html": [
       "<pre style=\"white-space:pre;overflow-x:auto;line-height:normal;font-family:Menlo,'DejaVu Sans Mono',consolas,'Courier New',monospace\"><span style=\"color: #00ff00; text-decoration-color: #00ff00\">────────────────────────────────────────────────────── </span>Doc <span style=\"color: #008080; text-decoration-color: #008080; font-weight: bold\">2</span><span style=\"color: #00ff00; text-decoration-color: #00ff00\"> ──────────────────────────────────────────────────────</span>\n",
       "</pre>\n"
      ],
      "text/plain": [
       "\u001b[92m────────────────────────────────────────────────────── \u001b[0mDoc \u001b[1;36m2\u001b[0m\u001b[92m ──────────────────────────────────────────────────────\u001b[0m\n"
      ]
     },
     "metadata": {},
     "output_type": "display_data"
    },
    {
     "data": {
      "text/html": [
       "<pre style=\"white-space:pre;overflow-x:auto;line-height:normal;font-family:Menlo,'DejaVu Sans Mono',consolas,'Courier New',monospace\">También se suele usar la notación de P: \n",
       " \n",
       "P,J indica que el error es sobre la distribución P y la función de etiquetado f.  R es llamado \n",
       "como error de generalización, riesgo, error verdadero de h. \n",
       "El objetivo es encontrar una función h tal que se minimice el error R.  \n",
       " \n",
       "Que es encontrar el argum\n",
       "</pre>\n"
      ],
      "text/plain": [
       "También se suele usar la notación de P: \n",
       " \n",
       "P,J indica que el error es sobre la distribución P y la función de etiquetado f.  R es llamado \n",
       "como error de generalización, riesgo, error verdadero de h. \n",
       "El objetivo es encontrar una función h tal que se minimice el error R.  \n",
       " \n",
       "Que es encontrar el argum\n"
      ]
     },
     "metadata": {},
     "output_type": "display_data"
    },
    {
     "data": {
      "text/html": [
       "<pre style=\"white-space:pre;overflow-x:auto;line-height:normal;font-family:Menlo,'DejaVu Sans Mono',consolas,'Courier New',monospace\"><span style=\"color: #00ff00; text-decoration-color: #00ff00\">────────────────────────────────────────────────────── </span>Doc <span style=\"color: #008080; text-decoration-color: #008080; font-weight: bold\">3</span><span style=\"color: #00ff00; text-decoration-color: #00ff00\"> ──────────────────────────────────────────────────────</span>\n",
       "</pre>\n"
      ],
      "text/plain": [
       "\u001b[92m────────────────────────────────────────────────────── \u001b[0mDoc \u001b[1;36m3\u001b[0m\u001b[92m ──────────────────────────────────────────────────────\u001b[0m\n"
      ]
     },
     "metadata": {},
     "output_type": "display_data"
    },
    {
     "data": {
      "text/html": [
       "<pre style=\"white-space:pre;overflow-x:auto;line-height:normal;font-family:Menlo,'DejaVu Sans Mono',consolas,'Courier New',monospace\">Es importante tanto el tamaño de la muestra como la complejidad de las familias de \n",
       "hipótesis. Si tenemos una muestra pequeña, y si se toma una familia muy compleja \n",
       "entonces habrá mala generalización y se tendrá un sobreajuste. Esto significa que el \n",
       "modelo se ajusta mucho a las particularidades de\n",
       "</pre>\n"
      ],
      "text/plain": [
       "Es importante tanto el tamaño de la muestra como la complejidad de las familias de \n",
       "hipótesis. Si tenemos una muestra pequeña, y si se toma una familia muy compleja \n",
       "entonces habrá mala generalización y se tendrá un sobreajuste. Esto significa que el \n",
       "modelo se ajusta mucho a las particularidades de\n"
      ]
     },
     "metadata": {},
     "output_type": "display_data"
    }
   ],
   "source": [
    "## Cargando el modelo ##\n",
    "MODEL = \"llama3.2\"\n",
    "llm = ChatOllama(model=MODEL,base_url=\"http://172.29.128.1:11434\")\n",
    "\n",
    "## Definiendo loaders ##\n",
    "\n",
    "name_dir = 'pdfs_notes'\n",
    "documents = [\n",
    "    doc\n",
    "    for file in os.listdir(name_dir)\n",
    "    if file.endswith(\".pdf\")\n",
    "    for doc in PyMuPDFLoader(os.path.join(name_dir, file)).load()\n",
    "]\n",
    "\n",
    "rprint(f\"Total documents {len(documents)}\")\n",
    "for i, doc in enumerate(documents[:3], start=1):\n",
    "    rprint(Rule(f\"Doc {i}\"))\n",
    "    rprint(doc.page_content[:300])"
   ]
  },
  {
   "cell_type": "code",
   "execution_count": 4,
   "metadata": {},
   "outputs": [
    {
     "data": {
      "text/html": [
       "<pre style=\"white-space:pre;overflow-x:auto;line-height:normal;font-family:Menlo,'DejaVu Sans Mono',consolas,'Courier New',monospace\">Splits <span style=\"color: #008080; text-decoration-color: #008080; font-weight: bold\">33</span>\n",
       "</pre>\n"
      ],
      "text/plain": [
       "Splits \u001b[1;36m33\u001b[0m\n"
      ]
     },
     "metadata": {},
     "output_type": "display_data"
    },
    {
     "data": {
      "text/html": [
       "<pre style=\"white-space:pre;overflow-x:auto;line-height:normal;font-family:Menlo,'DejaVu Sans Mono',consolas,'Courier New',monospace\"><span style=\"color: #00ff00; text-decoration-color: #00ff00\">──────────────────────────────────────────────────── </span>split #<span style=\"color: #008080; text-decoration-color: #008080; font-weight: bold\">1</span><span style=\"color: #00ff00; text-decoration-color: #00ff00\"> ─────────────────────────────────────────────────────</span>\n",
       "</pre>\n"
      ],
      "text/plain": [
       "\u001b[92m──────────────────────────────────────────────────── \u001b[0msplit #\u001b[1;36m1\u001b[0m\u001b[92m ─────────────────────────────────────────────────────\u001b[0m\n"
      ]
     },
     "metadata": {},
     "output_type": "display_data"
    },
    {
     "data": {
      "text/html": [
       "<pre style=\"white-space:pre;overflow-x:auto;line-height:normal;font-family:Menlo,'DejaVu Sans Mono',consolas,'Courier New',monospace\"><span style=\"color: #800080; text-decoration-color: #800080; font-weight: bold\">Document</span><span style=\"font-weight: bold\">(</span>\n",
       "    <span style=\"color: #808000; text-decoration-color: #808000\">metadata</span>=<span style=\"font-weight: bold\">{</span>\n",
       "        <span style=\"color: #008000; text-decoration-color: #008000\">'producer'</span>: <span style=\"color: #008000; text-decoration-color: #008000\">'Skia/PDF m138 Google Docs Renderer'</span>,\n",
       "        <span style=\"color: #008000; text-decoration-color: #008000\">'creator'</span>: <span style=\"color: #008000; text-decoration-color: #008000\">''</span>,\n",
       "        <span style=\"color: #008000; text-decoration-color: #008000\">'creationdate'</span>: <span style=\"color: #008000; text-decoration-color: #008000\">''</span>,\n",
       "        <span style=\"color: #008000; text-decoration-color: #008000\">'source'</span>: <span style=\"color: #008000; text-decoration-color: #008000\">'pdfs_notes/Guia_MachineLearning.pdf'</span>,\n",
       "        <span style=\"color: #008000; text-decoration-color: #008000\">'file_path'</span>: <span style=\"color: #008000; text-decoration-color: #008000\">'pdfs_notes/Guia_MachineLearning.pdf'</span>,\n",
       "        <span style=\"color: #008000; text-decoration-color: #008000\">'total_pages'</span>: <span style=\"color: #008080; text-decoration-color: #008080; font-weight: bold\">12</span>,\n",
       "        <span style=\"color: #008000; text-decoration-color: #008000\">'format'</span>: <span style=\"color: #008000; text-decoration-color: #008000\">'PDF 1.4'</span>,\n",
       "        <span style=\"color: #008000; text-decoration-color: #008000\">'title'</span>: <span style=\"color: #008000; text-decoration-color: #008000\">'GuiaPersonal'</span>,\n",
       "        <span style=\"color: #008000; text-decoration-color: #008000\">'author'</span>: <span style=\"color: #008000; text-decoration-color: #008000\">''</span>,\n",
       "        <span style=\"color: #008000; text-decoration-color: #008000\">'subject'</span>: <span style=\"color: #008000; text-decoration-color: #008000\">''</span>,\n",
       "        <span style=\"color: #008000; text-decoration-color: #008000\">'keywords'</span>: <span style=\"color: #008000; text-decoration-color: #008000\">''</span>,\n",
       "        <span style=\"color: #008000; text-decoration-color: #008000\">'moddate'</span>: <span style=\"color: #008000; text-decoration-color: #008000\">''</span>,\n",
       "        <span style=\"color: #008000; text-decoration-color: #008000\">'trapped'</span>: <span style=\"color: #008000; text-decoration-color: #008000\">''</span>,\n",
       "        <span style=\"color: #008000; text-decoration-color: #008000\">'modDate'</span>: <span style=\"color: #008000; text-decoration-color: #008000\">''</span>,\n",
       "        <span style=\"color: #008000; text-decoration-color: #008000\">'creationDate'</span>: <span style=\"color: #008000; text-decoration-color: #008000\">''</span>,\n",
       "        <span style=\"color: #008000; text-decoration-color: #008000\">'page'</span>: <span style=\"color: #008080; text-decoration-color: #008080; font-weight: bold\">10</span>,\n",
       "        <span style=\"color: #008000; text-decoration-color: #008000\">'start_index'</span>: <span style=\"color: #008080; text-decoration-color: #008080; font-weight: bold\">1647</span>\n",
       "    <span style=\"font-weight: bold\">}</span>,\n",
       "    <span style=\"color: #808000; text-decoration-color: #808000\">page_content</span>=<span style=\"color: #008000; text-decoration-color: #008000\">'Propiedades de la función sigmoide \\n1.\\u200b Acotada de 0 a 1 \\n2.\\u200b Simétrica o sea que 1 -</span>\n",
       "<span style=\"color: #008000; text-decoration-color: #008000\">sigmoide(a) = sigmoide(-a) \\n3.\\u200b Es diferenciable = sigmoide(a) * ( 1 - sigmoide(a))  \\nLa tarea es predecir </span>\n",
       "<span style=\"color: #008000; text-decoration-color: #008000\">la probabilidad de que x pertenezca a una clase y: p(y|x) \\nPara saber si pertenece a C1, entonces se escribe como </span>\n",
       "<span style=\"color: #008000; text-decoration-color: #008000\">p(C1 | x), para C2 es p(C2 | x) = 1 \\n- p(C1 | x)'</span>\n",
       "<span style=\"font-weight: bold\">)</span>\n",
       "</pre>\n"
      ],
      "text/plain": [
       "\u001b[1;35mDocument\u001b[0m\u001b[1m(\u001b[0m\n",
       "    \u001b[33mmetadata\u001b[0m=\u001b[1m{\u001b[0m\n",
       "        \u001b[32m'producer'\u001b[0m: \u001b[32m'Skia/PDF m138 Google Docs Renderer'\u001b[0m,\n",
       "        \u001b[32m'creator'\u001b[0m: \u001b[32m''\u001b[0m,\n",
       "        \u001b[32m'creationdate'\u001b[0m: \u001b[32m''\u001b[0m,\n",
       "        \u001b[32m'source'\u001b[0m: \u001b[32m'pdfs_notes/Guia_MachineLearning.pdf'\u001b[0m,\n",
       "        \u001b[32m'file_path'\u001b[0m: \u001b[32m'pdfs_notes/Guia_MachineLearning.pdf'\u001b[0m,\n",
       "        \u001b[32m'total_pages'\u001b[0m: \u001b[1;36m12\u001b[0m,\n",
       "        \u001b[32m'format'\u001b[0m: \u001b[32m'PDF 1.4'\u001b[0m,\n",
       "        \u001b[32m'title'\u001b[0m: \u001b[32m'GuiaPersonal'\u001b[0m,\n",
       "        \u001b[32m'author'\u001b[0m: \u001b[32m''\u001b[0m,\n",
       "        \u001b[32m'subject'\u001b[0m: \u001b[32m''\u001b[0m,\n",
       "        \u001b[32m'keywords'\u001b[0m: \u001b[32m''\u001b[0m,\n",
       "        \u001b[32m'moddate'\u001b[0m: \u001b[32m''\u001b[0m,\n",
       "        \u001b[32m'trapped'\u001b[0m: \u001b[32m''\u001b[0m,\n",
       "        \u001b[32m'modDate'\u001b[0m: \u001b[32m''\u001b[0m,\n",
       "        \u001b[32m'creationDate'\u001b[0m: \u001b[32m''\u001b[0m,\n",
       "        \u001b[32m'page'\u001b[0m: \u001b[1;36m10\u001b[0m,\n",
       "        \u001b[32m'start_index'\u001b[0m: \u001b[1;36m1647\u001b[0m\n",
       "    \u001b[1m}\u001b[0m,\n",
       "    \u001b[33mpage_content\u001b[0m=\u001b[32m'Propiedades de la función sigmoide \\n1.\\u200b Acotada de 0 a 1 \\n2.\\u200b Simétrica o sea que 1 -\u001b[0m\n",
       "\u001b[32msigmoide\u001b[0m\u001b[32m(\u001b[0m\u001b[32ma\u001b[0m\u001b[32m)\u001b[0m\u001b[32m = sigmoide\u001b[0m\u001b[32m(\u001b[0m\u001b[32m-a\u001b[0m\u001b[32m)\u001b[0m\u001b[32m \\n3.\\u200b Es diferenciable = sigmoide\u001b[0m\u001b[32m(\u001b[0m\u001b[32ma\u001b[0m\u001b[32m)\u001b[0m\u001b[32m * \u001b[0m\u001b[32m(\u001b[0m\u001b[32m 1 - sigmoide\u001b[0m\u001b[32m(\u001b[0m\u001b[32ma\u001b[0m\u001b[32m)\u001b[0m\u001b[32m)\u001b[0m\u001b[32m  \\nLa tarea es predecir \u001b[0m\n",
       "\u001b[32mla probabilidad de que x pertenezca a una clase y: p\u001b[0m\u001b[32m(\u001b[0m\u001b[32my|x\u001b[0m\u001b[32m)\u001b[0m\u001b[32m \\nPara saber si pertenece a C1, entonces se escribe como \u001b[0m\n",
       "\u001b[32mp\u001b[0m\u001b[32m(\u001b[0m\u001b[32mC1 | x\u001b[0m\u001b[32m)\u001b[0m\u001b[32m, para C2 es p\u001b[0m\u001b[32m(\u001b[0m\u001b[32mC2 | x\u001b[0m\u001b[32m)\u001b[0m\u001b[32m = 1 \\n- p\u001b[0m\u001b[32m(\u001b[0m\u001b[32mC1 | x\u001b[0m\u001b[32m)\u001b[0m\u001b[32m'\u001b[0m\n",
       "\u001b[1m)\u001b[0m\n"
      ]
     },
     "metadata": {},
     "output_type": "display_data"
    },
    {
     "data": {
      "text/html": [
       "<pre style=\"white-space:pre;overflow-x:auto;line-height:normal;font-family:Menlo,'DejaVu Sans Mono',consolas,'Courier New',monospace\"><span style=\"color: #00ff00; text-decoration-color: #00ff00\">──────────────────────────────────────────────────── </span>split #<span style=\"color: #008080; text-decoration-color: #008080; font-weight: bold\">2</span><span style=\"color: #00ff00; text-decoration-color: #00ff00\"> ─────────────────────────────────────────────────────</span>\n",
       "</pre>\n"
      ],
      "text/plain": [
       "\u001b[92m──────────────────────────────────────────────────── \u001b[0msplit #\u001b[1;36m2\u001b[0m\u001b[92m ─────────────────────────────────────────────────────\u001b[0m\n"
      ]
     },
     "metadata": {},
     "output_type": "display_data"
    },
    {
     "data": {
      "text/html": [
       "<pre style=\"white-space:pre;overflow-x:auto;line-height:normal;font-family:Menlo,'DejaVu Sans Mono',consolas,'Courier New',monospace\"><span style=\"color: #800080; text-decoration-color: #800080; font-weight: bold\">Document</span><span style=\"font-weight: bold\">(</span>\n",
       "    <span style=\"color: #808000; text-decoration-color: #808000\">metadata</span>=<span style=\"font-weight: bold\">{</span>\n",
       "        <span style=\"color: #008000; text-decoration-color: #008000\">'producer'</span>: <span style=\"color: #008000; text-decoration-color: #008000\">'Skia/PDF m138 Google Docs Renderer'</span>,\n",
       "        <span style=\"color: #008000; text-decoration-color: #008000\">'creator'</span>: <span style=\"color: #008000; text-decoration-color: #008000\">''</span>,\n",
       "        <span style=\"color: #008000; text-decoration-color: #008000\">'creationdate'</span>: <span style=\"color: #008000; text-decoration-color: #008000\">''</span>,\n",
       "        <span style=\"color: #008000; text-decoration-color: #008000\">'source'</span>: <span style=\"color: #008000; text-decoration-color: #008000\">'pdfs_notes/Guia_MachineLearning.pdf'</span>,\n",
       "        <span style=\"color: #008000; text-decoration-color: #008000\">'file_path'</span>: <span style=\"color: #008000; text-decoration-color: #008000\">'pdfs_notes/Guia_MachineLearning.pdf'</span>,\n",
       "        <span style=\"color: #008000; text-decoration-color: #008000\">'total_pages'</span>: <span style=\"color: #008080; text-decoration-color: #008080; font-weight: bold\">12</span>,\n",
       "        <span style=\"color: #008000; text-decoration-color: #008000\">'format'</span>: <span style=\"color: #008000; text-decoration-color: #008000\">'PDF 1.4'</span>,\n",
       "        <span style=\"color: #008000; text-decoration-color: #008000\">'title'</span>: <span style=\"color: #008000; text-decoration-color: #008000\">'GuiaPersonal'</span>,\n",
       "        <span style=\"color: #008000; text-decoration-color: #008000\">'author'</span>: <span style=\"color: #008000; text-decoration-color: #008000\">''</span>,\n",
       "        <span style=\"color: #008000; text-decoration-color: #008000\">'subject'</span>: <span style=\"color: #008000; text-decoration-color: #008000\">''</span>,\n",
       "        <span style=\"color: #008000; text-decoration-color: #008000\">'keywords'</span>: <span style=\"color: #008000; text-decoration-color: #008000\">''</span>,\n",
       "        <span style=\"color: #008000; text-decoration-color: #008000\">'moddate'</span>: <span style=\"color: #008000; text-decoration-color: #008000\">''</span>,\n",
       "        <span style=\"color: #008000; text-decoration-color: #008000\">'trapped'</span>: <span style=\"color: #008000; text-decoration-color: #008000\">''</span>,\n",
       "        <span style=\"color: #008000; text-decoration-color: #008000\">'modDate'</span>: <span style=\"color: #008000; text-decoration-color: #008000\">''</span>,\n",
       "        <span style=\"color: #008000; text-decoration-color: #008000\">'creationDate'</span>: <span style=\"color: #008000; text-decoration-color: #008000\">''</span>,\n",
       "        <span style=\"color: #008000; text-decoration-color: #008000\">'page'</span>: <span style=\"color: #008080; text-decoration-color: #008080; font-weight: bold\">11</span>,\n",
       "        <span style=\"color: #008000; text-decoration-color: #008000\">'start_index'</span>: <span style=\"color: #008080; text-decoration-color: #008080; font-weight: bold\">0</span>\n",
       "    <span style=\"font-weight: bold\">}</span>,\n",
       "    <span style=\"color: #808000; text-decoration-color: #808000\">page_content</span>=<span style=\"color: #008000; text-decoration-color: #008000\">'La decisión sobre qué clase aplicar a un ejemplo x, está dado por un umbral \\n1 Si P(y=1 | x) &gt; </span>\n",
       "<span style=\"color: #008000; text-decoration-color: #008000\">0.5 \\n0 en otro caso \\nFunción logit: \\nEsta nos dice que el logaritmo de la razón de probabilidades p(C1 | x)/p(C2</span>\n",
       "<span style=\"color: #008000; text-decoration-color: #008000\">| x) es \\nequivalente a la expresión de regresión lineal. \\nSirve como vinculo entre la probabilidad y la expresión</span>\n",
       "<span style=\"color: #008000; text-decoration-color: #008000\">de regresión lineal. Oscila entre finito \\npositivo y negativo, da un criterio adecuado para el cual se realiza la </span>\n",
       "<span style=\"color: #008000; text-decoration-color: #008000\">regresión lineal y el \\nlogit se convierte en probabilidades. \\nFunción odds \\nResulta después de exponenciar ambos</span>\n",
       "<span style=\"color: #008000; text-decoration-color: #008000\">lados de la función logit. La cual nos dice que la \\nprobabilidad de que la variable dependiente sea igual a un </span>\n",
       "<span style=\"color: #008000; text-decoration-color: #008000\">caso, es equivalente a la función \\nexponencial de la regresión lineal. Dada una combinación lineal x de los </span>\n",
       "<span style=\"color: #008000; text-decoration-color: #008000\">predictores. \\nFunción de costo \\nNo se usa ECM porque crea complicaciones al encontrar un mínimo global con </span>\n",
       "<span style=\"color: #008000; text-decoration-color: #008000\">descenso de \\ngradiente. Como los resultados son entre 0 a 1, es dificil hacer un seguimiento de errores'</span>\n",
       "<span style=\"font-weight: bold\">)</span>\n",
       "</pre>\n"
      ],
      "text/plain": [
       "\u001b[1;35mDocument\u001b[0m\u001b[1m(\u001b[0m\n",
       "    \u001b[33mmetadata\u001b[0m=\u001b[1m{\u001b[0m\n",
       "        \u001b[32m'producer'\u001b[0m: \u001b[32m'Skia/PDF m138 Google Docs Renderer'\u001b[0m,\n",
       "        \u001b[32m'creator'\u001b[0m: \u001b[32m''\u001b[0m,\n",
       "        \u001b[32m'creationdate'\u001b[0m: \u001b[32m''\u001b[0m,\n",
       "        \u001b[32m'source'\u001b[0m: \u001b[32m'pdfs_notes/Guia_MachineLearning.pdf'\u001b[0m,\n",
       "        \u001b[32m'file_path'\u001b[0m: \u001b[32m'pdfs_notes/Guia_MachineLearning.pdf'\u001b[0m,\n",
       "        \u001b[32m'total_pages'\u001b[0m: \u001b[1;36m12\u001b[0m,\n",
       "        \u001b[32m'format'\u001b[0m: \u001b[32m'PDF 1.4'\u001b[0m,\n",
       "        \u001b[32m'title'\u001b[0m: \u001b[32m'GuiaPersonal'\u001b[0m,\n",
       "        \u001b[32m'author'\u001b[0m: \u001b[32m''\u001b[0m,\n",
       "        \u001b[32m'subject'\u001b[0m: \u001b[32m''\u001b[0m,\n",
       "        \u001b[32m'keywords'\u001b[0m: \u001b[32m''\u001b[0m,\n",
       "        \u001b[32m'moddate'\u001b[0m: \u001b[32m''\u001b[0m,\n",
       "        \u001b[32m'trapped'\u001b[0m: \u001b[32m''\u001b[0m,\n",
       "        \u001b[32m'modDate'\u001b[0m: \u001b[32m''\u001b[0m,\n",
       "        \u001b[32m'creationDate'\u001b[0m: \u001b[32m''\u001b[0m,\n",
       "        \u001b[32m'page'\u001b[0m: \u001b[1;36m11\u001b[0m,\n",
       "        \u001b[32m'start_index'\u001b[0m: \u001b[1;36m0\u001b[0m\n",
       "    \u001b[1m}\u001b[0m,\n",
       "    \u001b[33mpage_content\u001b[0m=\u001b[32m'La decisión sobre qué clase aplicar a un ejemplo x, está dado por un umbral \\n1 Si P\u001b[0m\u001b[32m(\u001b[0m\u001b[32my\u001b[0m\u001b[32m=\u001b[0m\u001b[32m1\u001b[0m\u001b[32m | x\u001b[0m\u001b[32m)\u001b[0m\u001b[32m > \u001b[0m\n",
       "\u001b[32m0.5 \\n0 en otro caso \\nFunción logit: \\nEsta nos dice que el logaritmo de la razón de probabilidades p\u001b[0m\u001b[32m(\u001b[0m\u001b[32mC1 | x\u001b[0m\u001b[32m)\u001b[0m\u001b[32m/p\u001b[0m\u001b[32m(\u001b[0m\u001b[32mC2\u001b[0m\n",
       "\u001b[32m| x\u001b[0m\u001b[32m)\u001b[0m\u001b[32m es \\nequivalente a la expresión de regresión lineal. \\nSirve como vinculo entre la probabilidad y la expresión\u001b[0m\n",
       "\u001b[32mde regresión lineal. Oscila entre finito \\npositivo y negativo, da un criterio adecuado para el cual se realiza la \u001b[0m\n",
       "\u001b[32mregresión lineal y el \\nlogit se convierte en probabilidades. \\nFunción odds \\nResulta después de exponenciar ambos\u001b[0m\n",
       "\u001b[32mlados de la función logit. La cual nos dice que la \\nprobabilidad de que la variable dependiente sea igual a un \u001b[0m\n",
       "\u001b[32mcaso, es equivalente a la función \\nexponencial de la regresión lineal. Dada una combinación lineal x de los \u001b[0m\n",
       "\u001b[32mpredictores. \\nFunción de costo \\nNo se usa ECM porque crea complicaciones al encontrar un mínimo global con \u001b[0m\n",
       "\u001b[32mdescenso de \\ngradiente. Como los resultados son entre 0 a 1, es dificil hacer un seguimiento de errores'\u001b[0m\n",
       "\u001b[1m)\u001b[0m\n"
      ]
     },
     "metadata": {},
     "output_type": "display_data"
    },
    {
     "data": {
      "text/html": [
       "<pre style=\"white-space:pre;overflow-x:auto;line-height:normal;font-family:Menlo,'DejaVu Sans Mono',consolas,'Courier New',monospace\"><span style=\"color: #00ff00; text-decoration-color: #00ff00\">──────────────────────────────────────────────────── </span>split #<span style=\"color: #008080; text-decoration-color: #008080; font-weight: bold\">3</span><span style=\"color: #00ff00; text-decoration-color: #00ff00\"> ─────────────────────────────────────────────────────</span>\n",
       "</pre>\n"
      ],
      "text/plain": [
       "\u001b[92m──────────────────────────────────────────────────── \u001b[0msplit #\u001b[1;36m3\u001b[0m\u001b[92m ─────────────────────────────────────────────────────\u001b[0m\n"
      ]
     },
     "metadata": {},
     "output_type": "display_data"
    },
    {
     "data": {
      "text/html": [
       "<pre style=\"white-space:pre;overflow-x:auto;line-height:normal;font-family:Menlo,'DejaVu Sans Mono',consolas,'Courier New',monospace\"><span style=\"color: #800080; text-decoration-color: #800080; font-weight: bold\">Document</span><span style=\"font-weight: bold\">(</span>\n",
       "    <span style=\"color: #808000; text-decoration-color: #808000\">metadata</span>=<span style=\"font-weight: bold\">{</span>\n",
       "        <span style=\"color: #008000; text-decoration-color: #008000\">'producer'</span>: <span style=\"color: #008000; text-decoration-color: #008000\">'Skia/PDF m138 Google Docs Renderer'</span>,\n",
       "        <span style=\"color: #008000; text-decoration-color: #008000\">'creator'</span>: <span style=\"color: #008000; text-decoration-color: #008000\">''</span>,\n",
       "        <span style=\"color: #008000; text-decoration-color: #008000\">'creationdate'</span>: <span style=\"color: #008000; text-decoration-color: #008000\">''</span>,\n",
       "        <span style=\"color: #008000; text-decoration-color: #008000\">'source'</span>: <span style=\"color: #008000; text-decoration-color: #008000\">'pdfs_notes/Guia_MachineLearning.pdf'</span>,\n",
       "        <span style=\"color: #008000; text-decoration-color: #008000\">'file_path'</span>: <span style=\"color: #008000; text-decoration-color: #008000\">'pdfs_notes/Guia_MachineLearning.pdf'</span>,\n",
       "        <span style=\"color: #008000; text-decoration-color: #008000\">'total_pages'</span>: <span style=\"color: #008080; text-decoration-color: #008080; font-weight: bold\">12</span>,\n",
       "        <span style=\"color: #008000; text-decoration-color: #008000\">'format'</span>: <span style=\"color: #008000; text-decoration-color: #008000\">'PDF 1.4'</span>,\n",
       "        <span style=\"color: #008000; text-decoration-color: #008000\">'title'</span>: <span style=\"color: #008000; text-decoration-color: #008000\">'GuiaPersonal'</span>,\n",
       "        <span style=\"color: #008000; text-decoration-color: #008000\">'author'</span>: <span style=\"color: #008000; text-decoration-color: #008000\">''</span>,\n",
       "        <span style=\"color: #008000; text-decoration-color: #008000\">'subject'</span>: <span style=\"color: #008000; text-decoration-color: #008000\">''</span>,\n",
       "        <span style=\"color: #008000; text-decoration-color: #008000\">'keywords'</span>: <span style=\"color: #008000; text-decoration-color: #008000\">''</span>,\n",
       "        <span style=\"color: #008000; text-decoration-color: #008000\">'moddate'</span>: <span style=\"color: #008000; text-decoration-color: #008000\">''</span>,\n",
       "        <span style=\"color: #008000; text-decoration-color: #008000\">'trapped'</span>: <span style=\"color: #008000; text-decoration-color: #008000\">''</span>,\n",
       "        <span style=\"color: #008000; text-decoration-color: #008000\">'modDate'</span>: <span style=\"color: #008000; text-decoration-color: #008000\">''</span>,\n",
       "        <span style=\"color: #008000; text-decoration-color: #008000\">'creationDate'</span>: <span style=\"color: #008000; text-decoration-color: #008000\">''</span>,\n",
       "        <span style=\"color: #008000; text-decoration-color: #008000\">'page'</span>: <span style=\"color: #008080; text-decoration-color: #008080; font-weight: bold\">11</span>,\n",
       "        <span style=\"color: #008000; text-decoration-color: #008000\">'start_index'</span>: <span style=\"color: #008080; text-decoration-color: #008080; font-weight: bold\">782</span>\n",
       "    <span style=\"font-weight: bold\">}</span>,\n",
       "    <span style=\"color: #808000; text-decoration-color: #808000\">page_content</span>=<span style=\"color: #008000; text-decoration-color: #008000\">'Función de costo \\nNo se usa ECM porque crea complicaciones al encontrar un mínimo global con </span>\n",
       "<span style=\"color: #008000; text-decoration-color: #008000\">descenso de \\ngradiente. Como los resultados son entre 0 a 1, es dificil hacer un seguimiento de errores \\npor los </span>\n",
       "<span style=\"color: #008000; text-decoration-color: #008000\">valores flotantes. \\nLa función a minimizar es la función de perdida log loss.'</span>\n",
       "<span style=\"font-weight: bold\">)</span>\n",
       "</pre>\n"
      ],
      "text/plain": [
       "\u001b[1;35mDocument\u001b[0m\u001b[1m(\u001b[0m\n",
       "    \u001b[33mmetadata\u001b[0m=\u001b[1m{\u001b[0m\n",
       "        \u001b[32m'producer'\u001b[0m: \u001b[32m'Skia/PDF m138 Google Docs Renderer'\u001b[0m,\n",
       "        \u001b[32m'creator'\u001b[0m: \u001b[32m''\u001b[0m,\n",
       "        \u001b[32m'creationdate'\u001b[0m: \u001b[32m''\u001b[0m,\n",
       "        \u001b[32m'source'\u001b[0m: \u001b[32m'pdfs_notes/Guia_MachineLearning.pdf'\u001b[0m,\n",
       "        \u001b[32m'file_path'\u001b[0m: \u001b[32m'pdfs_notes/Guia_MachineLearning.pdf'\u001b[0m,\n",
       "        \u001b[32m'total_pages'\u001b[0m: \u001b[1;36m12\u001b[0m,\n",
       "        \u001b[32m'format'\u001b[0m: \u001b[32m'PDF 1.4'\u001b[0m,\n",
       "        \u001b[32m'title'\u001b[0m: \u001b[32m'GuiaPersonal'\u001b[0m,\n",
       "        \u001b[32m'author'\u001b[0m: \u001b[32m''\u001b[0m,\n",
       "        \u001b[32m'subject'\u001b[0m: \u001b[32m''\u001b[0m,\n",
       "        \u001b[32m'keywords'\u001b[0m: \u001b[32m''\u001b[0m,\n",
       "        \u001b[32m'moddate'\u001b[0m: \u001b[32m''\u001b[0m,\n",
       "        \u001b[32m'trapped'\u001b[0m: \u001b[32m''\u001b[0m,\n",
       "        \u001b[32m'modDate'\u001b[0m: \u001b[32m''\u001b[0m,\n",
       "        \u001b[32m'creationDate'\u001b[0m: \u001b[32m''\u001b[0m,\n",
       "        \u001b[32m'page'\u001b[0m: \u001b[1;36m11\u001b[0m,\n",
       "        \u001b[32m'start_index'\u001b[0m: \u001b[1;36m782\u001b[0m\n",
       "    \u001b[1m}\u001b[0m,\n",
       "    \u001b[33mpage_content\u001b[0m=\u001b[32m'Función de costo \\nNo se usa ECM porque crea complicaciones al encontrar un mínimo global con \u001b[0m\n",
       "\u001b[32mdescenso de \\ngradiente. Como los resultados son entre 0 a 1, es dificil hacer un seguimiento de errores \\npor los \u001b[0m\n",
       "\u001b[32mvalores flotantes. \\nLa función a minimizar es la función de perdida log loss.'\u001b[0m\n",
       "\u001b[1m)\u001b[0m\n"
      ]
     },
     "metadata": {},
     "output_type": "display_data"
    }
   ],
   "source": [
    "## Separando la informacion de los documentos para una mejor recuperación de la información ##\n",
    "text_splitter = RecursiveCharacterTextSplitter(chunk_size=1000, chunk_overlap=200, add_start_index=True)\n",
    "all_splits = text_splitter.split_documents(documents)\n",
    "\n",
    "rprint(f\"Splits {len(all_splits)}\")\n",
    "for i, split in enumerate(all_splits[30:33], start=1):\n",
    "    rprint(Rule(f\"split #{i}\"))\n",
    "    rprint(split)"
   ]
  },
  {
   "cell_type": "markdown",
   "metadata": {},
   "source": [
    "### Cargando modelo de embeddings\n",
    "\n",
    "Los embeddings serán usados para poder hacer búsqueda en los textos que fueron dados, usando similitud de coseno. Estos embeddings serán usados para crear la base de datos de vectores, de esta manera podemos agregar esos vectores de la información que tenemos para poder hacer queries."
   ]
  },
  {
   "cell_type": "code",
   "execution_count": 5,
   "metadata": {},
   "outputs": [
    {
     "data": {
      "text/html": [
       "<pre style=\"white-space:pre;overflow-x:auto;line-height:normal;font-family:Menlo,'DejaVu Sans Mono',consolas,'Courier New',monospace\"><span style=\"font-weight: bold\">[</span>\n",
       "    <span style=\"color: #008000; text-decoration-color: #008000\">'a7caf975-4751-48e1-b1be-13af62c1807a'</span>,\n",
       "    <span style=\"color: #008000; text-decoration-color: #008000\">'11a8a9c4-f7fb-4b17-a249-9bcaae2c6731'</span>,\n",
       "    <span style=\"color: #008000; text-decoration-color: #008000\">'9abe296c-c097-4315-968a-5845d63ee34a'</span>,\n",
       "    <span style=\"color: #008000; text-decoration-color: #008000\">'c8be3c35-82e3-45c1-8b50-f6da3a662819'</span>,\n",
       "    <span style=\"color: #008000; text-decoration-color: #008000\">'ad820d04-ad5b-4c2c-ba67-e3b775789637'</span>,\n",
       "    <span style=\"color: #008000; text-decoration-color: #008000\">'b348d84e-b7b4-4791-ad2b-39cb61bf4433'</span>,\n",
       "    <span style=\"color: #008000; text-decoration-color: #008000\">'1e736708-2775-4e99-bfd4-19fd52a29b21'</span>,\n",
       "    <span style=\"color: #008000; text-decoration-color: #008000\">'e753724e-ea8e-4de9-b9ef-0a3b02082514'</span>,\n",
       "    <span style=\"color: #008000; text-decoration-color: #008000\">'4ec3a61d-d4f5-4fab-ab7c-022f55b27648'</span>,\n",
       "    <span style=\"color: #008000; text-decoration-color: #008000\">'7db9b173-7c8a-46fe-af4b-b12f79bfc9f0'</span>\n",
       "<span style=\"font-weight: bold\">]</span>\n",
       "</pre>\n"
      ],
      "text/plain": [
       "\u001b[1m[\u001b[0m\n",
       "    \u001b[32m'a7caf975-4751-48e1-b1be-13af62c1807a'\u001b[0m,\n",
       "    \u001b[32m'11a8a9c4-f7fb-4b17-a249-9bcaae2c6731'\u001b[0m,\n",
       "    \u001b[32m'9abe296c-c097-4315-968a-5845d63ee34a'\u001b[0m,\n",
       "    \u001b[32m'c8be3c35-82e3-45c1-8b50-f6da3a662819'\u001b[0m,\n",
       "    \u001b[32m'ad820d04-ad5b-4c2c-ba67-e3b775789637'\u001b[0m,\n",
       "    \u001b[32m'b348d84e-b7b4-4791-ad2b-39cb61bf4433'\u001b[0m,\n",
       "    \u001b[32m'1e736708-2775-4e99-bfd4-19fd52a29b21'\u001b[0m,\n",
       "    \u001b[32m'e753724e-ea8e-4de9-b9ef-0a3b02082514'\u001b[0m,\n",
       "    \u001b[32m'4ec3a61d-d4f5-4fab-ab7c-022f55b27648'\u001b[0m,\n",
       "    \u001b[32m'7db9b173-7c8a-46fe-af4b-b12f79bfc9f0'\u001b[0m\n",
       "\u001b[1m]\u001b[0m\n"
      ]
     },
     "metadata": {},
     "output_type": "display_data"
    }
   ],
   "source": [
    "embeddings = OllamaEmbeddings(model=\"nomic-embed-text:latest\",\n",
    "    base_url=\"http://172.29.128.1:11434\")\n",
    "vector_store = Chroma(\n",
    "    # Nombramos nuestra colección\n",
    "    collection_name=\"vector_BD\",\n",
    "    embedding_function=embeddings,\n",
    "    persist_directory=\"./documents_vector_db\"\n",
    ")\n",
    "\n",
    "# Indexando nuestra información\n",
    "ids = vector_store.add_documents(documents=all_splits)\n",
    "rprint(ids[:10])"
   ]
  },
  {
   "cell_type": "markdown",
   "metadata": {},
   "source": [
    "Ya con esta base de datos de vectores de nuestra información, es posible hacer consultas de similitud, con similitud coseno, para encontrar splits de los documentos cargados, que tengan mayor similitud con nuestra búsqueda."
   ]
  },
  {
   "cell_type": "code",
   "execution_count": 6,
   "metadata": {},
   "outputs": [
    {
     "data": {
      "text/html": [
       "<pre style=\"white-space:pre;overflow-x:auto;line-height:normal;font-family:Menlo,'DejaVu Sans Mono',consolas,'Courier New',monospace\"><span style=\"color: #800080; text-decoration-color: #800080; font-weight: bold\">Document</span><span style=\"font-weight: bold\">(</span>\n",
       "    <span style=\"color: #808000; text-decoration-color: #808000\">id</span>=<span style=\"color: #008000; text-decoration-color: #008000\">'00107a90-08a9-49a4-91f5-5b49ef0e6894'</span>,\n",
       "    <span style=\"color: #808000; text-decoration-color: #808000\">metadata</span>=<span style=\"font-weight: bold\">{</span>\n",
       "        <span style=\"color: #008000; text-decoration-color: #008000\">'subject'</span>: <span style=\"color: #008000; text-decoration-color: #008000\">''</span>,\n",
       "        <span style=\"color: #008000; text-decoration-color: #008000\">'file_path'</span>: <span style=\"color: #008000; text-decoration-color: #008000\">'pdfs_notes/Guia_MachineLearning.pdf'</span>,\n",
       "        <span style=\"color: #008000; text-decoration-color: #008000\">'producer'</span>: <span style=\"color: #008000; text-decoration-color: #008000\">'Skia/PDF m138 Google Docs Renderer'</span>,\n",
       "        <span style=\"color: #008000; text-decoration-color: #008000\">'creationDate'</span>: <span style=\"color: #008000; text-decoration-color: #008000\">''</span>,\n",
       "        <span style=\"color: #008000; text-decoration-color: #008000\">'title'</span>: <span style=\"color: #008000; text-decoration-color: #008000\">'GuiaPersonal'</span>,\n",
       "        <span style=\"color: #008000; text-decoration-color: #008000\">'source'</span>: <span style=\"color: #008000; text-decoration-color: #008000\">'pdfs_notes/Guia_MachineLearning.pdf'</span>,\n",
       "        <span style=\"color: #008000; text-decoration-color: #008000\">'moddate'</span>: <span style=\"color: #008000; text-decoration-color: #008000\">''</span>,\n",
       "        <span style=\"color: #008000; text-decoration-color: #008000\">'author'</span>: <span style=\"color: #008000; text-decoration-color: #008000\">''</span>,\n",
       "        <span style=\"color: #008000; text-decoration-color: #008000\">'modDate'</span>: <span style=\"color: #008000; text-decoration-color: #008000\">''</span>,\n",
       "        <span style=\"color: #008000; text-decoration-color: #008000\">'total_pages'</span>: <span style=\"color: #008080; text-decoration-color: #008080; font-weight: bold\">12</span>,\n",
       "        <span style=\"color: #008000; text-decoration-color: #008000\">'format'</span>: <span style=\"color: #008000; text-decoration-color: #008000\">'PDF 1.4'</span>,\n",
       "        <span style=\"color: #008000; text-decoration-color: #008000\">'page'</span>: <span style=\"color: #008080; text-decoration-color: #008080; font-weight: bold\">5</span>,\n",
       "        <span style=\"color: #008000; text-decoration-color: #008000\">'creationdate'</span>: <span style=\"color: #008000; text-decoration-color: #008000\">''</span>,\n",
       "        <span style=\"color: #008000; text-decoration-color: #008000\">'keywords'</span>: <span style=\"color: #008000; text-decoration-color: #008000\">''</span>,\n",
       "        <span style=\"color: #008000; text-decoration-color: #008000\">'start_index'</span>: <span style=\"color: #008080; text-decoration-color: #008080; font-weight: bold\">1627</span>,\n",
       "        <span style=\"color: #008000; text-decoration-color: #008000\">'creator'</span>: <span style=\"color: #008000; text-decoration-color: #008000\">''</span>,\n",
       "        <span style=\"color: #008000; text-decoration-color: #008000\">'trapped'</span>: <span style=\"color: #008000; text-decoration-color: #008000\">''</span>\n",
       "    <span style=\"font-weight: bold\">}</span>,\n",
       "    <span style=\"color: #808000; text-decoration-color: #808000\">page_content</span>=<span style=\"color: #008000; text-decoration-color: #008000\">'sesgo, varianza y el error irreductible.  \\nError irreductible: es el término de ruido que ningun</span>\n",
       "<span style=\"color: #008000; text-decoration-color: #008000\">modelo puede reducir, ya son el ruido \\ndel los datos. Solo se puede tener control del sesgo y varianza. \\nError de</span>\n",
       "<span style=\"color: #008000; text-decoration-color: #008000\">sesgo \\nEs la diferencia entre la predicción esperada, promedio, y la real. El sesgo mide que tan \\nlejos están las</span>\n",
       "<span style=\"color: #008000; text-decoration-color: #008000\">predicciones de los valores correctos. \\nError varianza \\nEs la variabilidad de la predicción de un modelo para un </span>\n",
       "<span style=\"color: #008000; text-decoration-color: #008000\">ejemplo. Es cuánto varían las \\npredicciones para un punto dado entre diferentes ejecuciones del modelo.'</span>\n",
       "<span style=\"font-weight: bold\">)</span>\n",
       "</pre>\n"
      ],
      "text/plain": [
       "\u001b[1;35mDocument\u001b[0m\u001b[1m(\u001b[0m\n",
       "    \u001b[33mid\u001b[0m=\u001b[32m'00107a90-08a9-49a4-91f5-5b49ef0e6894'\u001b[0m,\n",
       "    \u001b[33mmetadata\u001b[0m=\u001b[1m{\u001b[0m\n",
       "        \u001b[32m'subject'\u001b[0m: \u001b[32m''\u001b[0m,\n",
       "        \u001b[32m'file_path'\u001b[0m: \u001b[32m'pdfs_notes/Guia_MachineLearning.pdf'\u001b[0m,\n",
       "        \u001b[32m'producer'\u001b[0m: \u001b[32m'Skia/PDF m138 Google Docs Renderer'\u001b[0m,\n",
       "        \u001b[32m'creationDate'\u001b[0m: \u001b[32m''\u001b[0m,\n",
       "        \u001b[32m'title'\u001b[0m: \u001b[32m'GuiaPersonal'\u001b[0m,\n",
       "        \u001b[32m'source'\u001b[0m: \u001b[32m'pdfs_notes/Guia_MachineLearning.pdf'\u001b[0m,\n",
       "        \u001b[32m'moddate'\u001b[0m: \u001b[32m''\u001b[0m,\n",
       "        \u001b[32m'author'\u001b[0m: \u001b[32m''\u001b[0m,\n",
       "        \u001b[32m'modDate'\u001b[0m: \u001b[32m''\u001b[0m,\n",
       "        \u001b[32m'total_pages'\u001b[0m: \u001b[1;36m12\u001b[0m,\n",
       "        \u001b[32m'format'\u001b[0m: \u001b[32m'PDF 1.4'\u001b[0m,\n",
       "        \u001b[32m'page'\u001b[0m: \u001b[1;36m5\u001b[0m,\n",
       "        \u001b[32m'creationdate'\u001b[0m: \u001b[32m''\u001b[0m,\n",
       "        \u001b[32m'keywords'\u001b[0m: \u001b[32m''\u001b[0m,\n",
       "        \u001b[32m'start_index'\u001b[0m: \u001b[1;36m1627\u001b[0m,\n",
       "        \u001b[32m'creator'\u001b[0m: \u001b[32m''\u001b[0m,\n",
       "        \u001b[32m'trapped'\u001b[0m: \u001b[32m''\u001b[0m\n",
       "    \u001b[1m}\u001b[0m,\n",
       "    \u001b[33mpage_content\u001b[0m=\u001b[32m'sesgo, varianza y el error irreductible.  \\nError irreductible: es el término de ruido que ningun\u001b[0m\n",
       "\u001b[32mmodelo puede reducir, ya son el ruido \\ndel los datos. Solo se puede tener control del sesgo y varianza. \\nError de\u001b[0m\n",
       "\u001b[32msesgo \\nEs la diferencia entre la predicción esperada, promedio, y la real. El sesgo mide que tan \\nlejos están las\u001b[0m\n",
       "\u001b[32mpredicciones de los valores correctos. \\nError varianza \\nEs la variabilidad de la predicción de un modelo para un \u001b[0m\n",
       "\u001b[32mejemplo. Es cuánto varían las \\npredicciones para un punto dado entre diferentes ejecuciones del modelo.'\u001b[0m\n",
       "\u001b[1m)\u001b[0m\n"
      ]
     },
     "metadata": {},
     "output_type": "display_data"
    },
    {
     "data": {
      "text/html": [
       "<pre style=\"white-space:pre;overflow-x:auto;line-height:normal;font-family:Menlo,'DejaVu Sans Mono',consolas,'Courier New',monospace\"><span style=\"color: #808000; text-decoration-color: #808000\">Results</span>=<span style=\"color: #008080; text-decoration-color: #008080; font-weight: bold\">4</span>\n",
       "</pre>\n"
      ],
      "text/plain": [
       "\u001b[33mResults\u001b[0m=\u001b[1;36m4\u001b[0m\n"
      ]
     },
     "metadata": {},
     "output_type": "display_data"
    },
    {
     "data": {
      "text/html": [
       "<pre style=\"white-space:pre;overflow-x:auto;line-height:normal;font-family:Menlo,'DejaVu Sans Mono',consolas,'Courier New',monospace\"><span style=\"color: #00ff00; text-decoration-color: #00ff00\">──────────────────────────────────────────────────── </span>Result #<span style=\"color: #008080; text-decoration-color: #008080; font-weight: bold\">0</span><span style=\"color: #00ff00; text-decoration-color: #00ff00\"> ────────────────────────────────────────────────────</span>\n",
       "</pre>\n"
      ],
      "text/plain": [
       "\u001b[92m──────────────────────────────────────────────────── \u001b[0mResult #\u001b[1;36m0\u001b[0m\u001b[92m ────────────────────────────────────────────────────\u001b[0m\n"
      ]
     },
     "metadata": {},
     "output_type": "display_data"
    },
    {
     "data": {
      "text/html": [
       "<pre style=\"white-space:pre;overflow-x:auto;line-height:normal;font-family:Menlo,'DejaVu Sans Mono',consolas,'Courier New',monospace\">sesgo, varianza y el error irreductible.  \n",
       "Error irreductible: es el término de ruido que ningun modelo puede reducir, ya son el ruido \n",
       "del los datos. Solo se puede tener control del sesgo y varianza. \n",
       "Error de sesgo \n",
       "Es la diferencia entre la predicción esperada, promedio, y la real. El sesgo mide que tan \n",
       "lejos están las predicciones de los valores correctos. \n",
       "Error varianza \n",
       "Es la variabilidad de la predicción de un modelo para un ejemplo. Es cuánto varían las \n",
       "predicciones para un punto dado entre diferentes ejecuciones del modelo.\n",
       "</pre>\n"
      ],
      "text/plain": [
       "sesgo, varianza y el error irreductible.  \n",
       "Error irreductible: es el término de ruido que ningun modelo puede reducir, ya son el ruido \n",
       "del los datos. Solo se puede tener control del sesgo y varianza. \n",
       "Error de sesgo \n",
       "Es la diferencia entre la predicción esperada, promedio, y la real. El sesgo mide que tan \n",
       "lejos están las predicciones de los valores correctos. \n",
       "Error varianza \n",
       "Es la variabilidad de la predicción de un modelo para un ejemplo. Es cuánto varían las \n",
       "predicciones para un punto dado entre diferentes ejecuciones del modelo.\n"
      ]
     },
     "metadata": {},
     "output_type": "display_data"
    },
    {
     "data": {
      "text/html": [
       "<pre style=\"white-space:pre;overflow-x:auto;line-height:normal;font-family:Menlo,'DejaVu Sans Mono',consolas,'Courier New',monospace\"><span style=\"color: #00ff00; text-decoration-color: #00ff00\">──────────────────────────────────────────────────── </span>Result #<span style=\"color: #008080; text-decoration-color: #008080; font-weight: bold\">1</span><span style=\"color: #00ff00; text-decoration-color: #00ff00\"> ────────────────────────────────────────────────────</span>\n",
       "</pre>\n"
      ],
      "text/plain": [
       "\u001b[92m──────────────────────────────────────────────────── \u001b[0mResult #\u001b[1;36m1\u001b[0m\u001b[92m ────────────────────────────────────────────────────\u001b[0m\n"
      ]
     },
     "metadata": {},
     "output_type": "display_data"
    },
    {
     "data": {
      "text/html": [
       "<pre style=\"white-space:pre;overflow-x:auto;line-height:normal;font-family:Menlo,'DejaVu Sans Mono',consolas,'Courier New',monospace\">sesgo, varianza y el error irreductible.  \n",
       "Error irreductible: es el término de ruido que ningun modelo puede reducir, ya son el ruido \n",
       "del los datos. Solo se puede tener control del sesgo y varianza. \n",
       "Error de sesgo \n",
       "Es la diferencia entre la predicción esperada, promedio, y la real. El sesgo mide que tan \n",
       "lejos están las predicciones de los valores correctos. \n",
       "Error varianza \n",
       "Es la variabilidad de la predicción de un modelo para un ejemplo. Es cuánto varían las \n",
       "predicciones para un punto dado entre diferentes ejecuciones del modelo.\n",
       "</pre>\n"
      ],
      "text/plain": [
       "sesgo, varianza y el error irreductible.  \n",
       "Error irreductible: es el término de ruido que ningun modelo puede reducir, ya son el ruido \n",
       "del los datos. Solo se puede tener control del sesgo y varianza. \n",
       "Error de sesgo \n",
       "Es la diferencia entre la predicción esperada, promedio, y la real. El sesgo mide que tan \n",
       "lejos están las predicciones de los valores correctos. \n",
       "Error varianza \n",
       "Es la variabilidad de la predicción de un modelo para un ejemplo. Es cuánto varían las \n",
       "predicciones para un punto dado entre diferentes ejecuciones del modelo.\n"
      ]
     },
     "metadata": {},
     "output_type": "display_data"
    },
    {
     "data": {
      "text/html": [
       "<pre style=\"white-space:pre;overflow-x:auto;line-height:normal;font-family:Menlo,'DejaVu Sans Mono',consolas,'Courier New',monospace\"><span style=\"color: #00ff00; text-decoration-color: #00ff00\">──────────────────────────────────────────────────── </span>Result #<span style=\"color: #008080; text-decoration-color: #008080; font-weight: bold\">2</span><span style=\"color: #00ff00; text-decoration-color: #00ff00\"> ────────────────────────────────────────────────────</span>\n",
       "</pre>\n"
      ],
      "text/plain": [
       "\u001b[92m──────────────────────────────────────────────────── \u001b[0mResult #\u001b[1;36m2\u001b[0m\u001b[92m ────────────────────────────────────────────────────\u001b[0m\n"
      ]
     },
     "metadata": {},
     "output_type": "display_data"
    },
    {
     "data": {
      "text/html": [
       "<pre style=\"white-space:pre;overflow-x:auto;line-height:normal;font-family:Menlo,'DejaVu Sans Mono',consolas,'Courier New',monospace\">sesgo, varianza y el error irreductible.  \n",
       "Error irreductible: es el término de ruido que ningun modelo puede reducir, ya son el ruido \n",
       "del los datos. Solo se puede tener control del sesgo y varianza. \n",
       "Error de sesgo \n",
       "Es la diferencia entre la predicción esperada, promedio, y la real. El sesgo mide que tan \n",
       "lejos están las predicciones de los valores correctos. \n",
       "Error varianza \n",
       "Es la variabilidad de la predicción de un modelo para un ejemplo. Es cuánto varían las \n",
       "predicciones para un punto dado entre diferentes ejecuciones del modelo.\n",
       "</pre>\n"
      ],
      "text/plain": [
       "sesgo, varianza y el error irreductible.  \n",
       "Error irreductible: es el término de ruido que ningun modelo puede reducir, ya son el ruido \n",
       "del los datos. Solo se puede tener control del sesgo y varianza. \n",
       "Error de sesgo \n",
       "Es la diferencia entre la predicción esperada, promedio, y la real. El sesgo mide que tan \n",
       "lejos están las predicciones de los valores correctos. \n",
       "Error varianza \n",
       "Es la variabilidad de la predicción de un modelo para un ejemplo. Es cuánto varían las \n",
       "predicciones para un punto dado entre diferentes ejecuciones del modelo.\n"
      ]
     },
     "metadata": {},
     "output_type": "display_data"
    },
    {
     "data": {
      "text/html": [
       "<pre style=\"white-space:pre;overflow-x:auto;line-height:normal;font-family:Menlo,'DejaVu Sans Mono',consolas,'Courier New',monospace\"><span style=\"color: #00ff00; text-decoration-color: #00ff00\">──────────────────────────────────────────────────── </span>Result #<span style=\"color: #008080; text-decoration-color: #008080; font-weight: bold\">3</span><span style=\"color: #00ff00; text-decoration-color: #00ff00\"> ────────────────────────────────────────────────────</span>\n",
       "</pre>\n"
      ],
      "text/plain": [
       "\u001b[92m──────────────────────────────────────────────────── \u001b[0mResult #\u001b[1;36m3\u001b[0m\u001b[92m ────────────────────────────────────────────────────\u001b[0m\n"
      ]
     },
     "metadata": {},
     "output_type": "display_data"
    },
    {
     "data": {
      "text/html": [
       "<pre style=\"white-space:pre;overflow-x:auto;line-height:normal;font-family:Menlo,'DejaVu Sans Mono',consolas,'Courier New',monospace\">sesgo, varianza y el error irreductible.  \n",
       "Error irreductible: es el término de ruido que ningun modelo puede reducir, ya son el ruido \n",
       "del los datos. Solo se puede tener control del sesgo y varianza. \n",
       "Error de sesgo \n",
       "Es la diferencia entre la predicción esperada, promedio, y la real. El sesgo mide que tan \n",
       "lejos están las predicciones de los valores correctos. \n",
       "Error varianza \n",
       "Es la variabilidad de la predicción de un modelo para un ejemplo. Es cuánto varían las \n",
       "predicciones para un punto dado entre diferentes ejecuciones del modelo.\n",
       "</pre>\n"
      ],
      "text/plain": [
       "sesgo, varianza y el error irreductible.  \n",
       "Error irreductible: es el término de ruido que ningun modelo puede reducir, ya son el ruido \n",
       "del los datos. Solo se puede tener control del sesgo y varianza. \n",
       "Error de sesgo \n",
       "Es la diferencia entre la predicción esperada, promedio, y la real. El sesgo mide que tan \n",
       "lejos están las predicciones de los valores correctos. \n",
       "Error varianza \n",
       "Es la variabilidad de la predicción de un modelo para un ejemplo. Es cuánto varían las \n",
       "predicciones para un punto dado entre diferentes ejecuciones del modelo.\n"
      ]
     },
     "metadata": {},
     "output_type": "display_data"
    }
   ],
   "source": [
    "# Búsqueda de término\n",
    "results = await vector_store.asimilarity_search(\"Sobreajuste\")\n",
    "rprint(results[0])\n",
    "\n",
    "# Búsqueda de pregunta\n",
    "embedding = embeddings.embed_query(\"por qué se produce el sobreajuste?\")\n",
    "results = vector_store.similarity_search_by_vector(embedding)\n",
    "rprint(f\"Results={len(results)}\")\n",
    "for i, result in enumerate(results):\n",
    "    rprint(Rule(f\"Result #{i}\"))\n",
    "    rprint(result.page_content)"
   ]
  },
  {
   "cell_type": "markdown",
   "metadata": {},
   "source": [
    "## ¿Qué tenemos hasta el momento?\n",
    "\n",
    "1. Se cargan los documentos usar\n",
    "2. Se separan en bloques para poder recuperar de mejor manejar la información de nuestros documentos\n",
    "3. Crear la base de datos de vectores\n",
    "4. Poder hacer búsqueda de similitud coseno por medio de embeddings\n",
    "\n",
    "## Creación del prompt"
   ]
  },
  {
   "cell_type": "code",
   "execution_count": 7,
   "metadata": {},
   "outputs": [],
   "source": [
    "PROMPT_TEMPLATE = \"\"\"\n",
    "### Rol y Objetivo:\n",
    "Eres StudyBuddy, un asistente de estudio especializado en transformar notas académicas en material de aprendizaje efectivo. \n",
    "Tu principal objetivo es ayudar al usuario a preparar su examen final mediante técnicas de estudio comprobadas.\n",
    "\n",
    "### Instrucciones de Contexto:\n",
    "1. **Base de conocimiento**: Usa EXCLUSIVAMENTE la información del contexto proporcionado (vectorizado de las notas del usuario)\n",
    "2. **Limitaciones**: Si la pregunta no está cubierta en el contexto o es ambigua:\n",
    "   - Responde: \"No encuentro esa información en tus notas. ¿Quieres que profundice en otro tema?\"\n",
    "   - Nunca inventes información o conceptos no presentes en el contexto\n",
    "\n",
    "### Funcionalidades Principales:\n",
    "#### 1. Generación de Resúmenes:\n",
    "   - Crea resúmenes estructurados usando:\n",
    "     * Técnica de Cornell (conceptos clave + notas laterales + resumen final)\n",
    "     * Mapas mentales en formato markdown\n",
    "     * Diagramas de flujo conceptuales (usando pseudocódigo ASCII)\n",
    "\n",
    "#### 2. Explicación de Temas:\n",
    "   - Desglosa conceptos complejos en componentes simples\n",
    "   - Proporciona analogías prácticas relacionadas con el campo de estudio\n",
    "   - Incluye ejemplos concretos extraídos del contexto\n",
    "\n",
    "#### 3. Generación de Prácticas:\n",
    "   - Crea preguntas de práctica según tipo:\n",
    "     * [V/F] Para verificar comprensión básica\n",
    "     * [Caso práctico] Escenarios aplicados al material\n",
    "     * [Desarrollo] Preguntas de análisis profundo\n",
    "   - Incluye rúbricas de evaluación automática para cada respuesta\n",
    "\n",
    "### Formato de Respuesta:\n",
    "- Usa markdown para estructurar el contenido\n",
    "- Prioriza viñetas y listas numeradas\n",
    "- Incluye etiquetas de dificultad: [BÁSICO|INTERMEDIO|AVANZADO]\n",
    "- Mantén máximo 3 párrafos por sección\n",
    "\n",
    "### Parámetros Actuales:\n",
    "Usuario solicita: {question}\n",
    "Contexto disponible: {context}\n",
    "\n",
    "Respuesta:\n",
    "\"\"\"\n",
    "\n",
    "\n",
    "prompt = ChatPromptTemplate.from_template(PROMPT_TEMPLATE)"
   ]
  },
  {
   "cell_type": "code",
   "execution_count": 8,
   "metadata": {},
   "outputs": [
    {
     "data": {
      "text/html": [
       "<pre style=\"white-space:pre;overflow-x:auto;line-height:normal;font-family:Menlo,'DejaVu Sans Mono',consolas,'Courier New',monospace\">\n",
       "### Rol y Objetivo:\n",
       "Eres StudyBuddy, un asistente de estudio especializado en transformar notas académicas en material de aprendizaje \n",
       "efectivo. \n",
       "Tu principal objetivo es ayudar al usuario a preparar su examen final mediante técnicas de estudio comprobadas.\n",
       "\n",
       "### Instrucciones de Contexto:\n",
       "<span style=\"color: #008080; text-decoration-color: #008080; font-weight: bold\">1</span>. **Base de conocimiento**: Usa EXCLUSIVAMENTE la información del contexto proporcionado <span style=\"font-weight: bold\">(</span>vectorizado de las notas\n",
       "del usuario<span style=\"font-weight: bold\">)</span>\n",
       "<span style=\"color: #008080; text-decoration-color: #008080; font-weight: bold\">2</span>. **Limitaciones**: Si la pregunta no está cubierta en el contexto o es ambigua:\n",
       "   - Responde: <span style=\"color: #008000; text-decoration-color: #008000\">\"No encuentro esa información en tus notas. ¿Quieres que profundice en otro tema?\"</span>\n",
       "   - Nunca inventes información o conceptos no presentes en el contexto\n",
       "\n",
       "### Funcionalidades Principales:\n",
       "#### <span style=\"color: #008080; text-decoration-color: #008080; font-weight: bold\">1</span>. Generación de Resúmenes:\n",
       "   - Crea resúmenes estructurados usando:\n",
       "     * Técnica de Cornell <span style=\"font-weight: bold\">(</span>conceptos clave + notas laterales + resumen final<span style=\"font-weight: bold\">)</span>\n",
       "     * Mapas mentales en formato markdown\n",
       "     * Diagramas de flujo conceptuales <span style=\"font-weight: bold\">(</span>usando pseudocódigo ASCII<span style=\"font-weight: bold\">)</span>\n",
       "\n",
       "#### <span style=\"color: #008080; text-decoration-color: #008080; font-weight: bold\">2</span>. Explicación de Temas:\n",
       "   - Desglosa conceptos complejos en componentes simples\n",
       "   - Proporciona analogías prácticas relacionadas con el campo de estudio\n",
       "   - Incluye ejemplos concretos extraídos del contexto\n",
       "\n",
       "#### <span style=\"color: #008080; text-decoration-color: #008080; font-weight: bold\">3</span>. Generación de Prácticas:\n",
       "   - Crea preguntas de práctica según tipo:\n",
       "     * <span style=\"font-weight: bold\">[</span>V/F<span style=\"font-weight: bold\">]</span> Para verificar comprensión básica\n",
       "     * <span style=\"font-weight: bold\">[</span>Caso práctico<span style=\"font-weight: bold\">]</span> Escenarios aplicados al material\n",
       "     * <span style=\"font-weight: bold\">[</span>Desarrollo<span style=\"font-weight: bold\">]</span> Preguntas de análisis profundo\n",
       "   - Incluye rúbricas de evaluación automática para cada respuesta\n",
       "\n",
       "### Formato de Respuesta:\n",
       "- Usa markdown para estructurar el contenido\n",
       "- Prioriza viñetas y listas numeradas\n",
       "- Incluye etiquetas de dificultad: <span style=\"font-weight: bold\">[</span>BÁSICO|INTERMEDIO|AVANZADO<span style=\"font-weight: bold\">]</span>\n",
       "- Mantén máximo <span style=\"color: #008080; text-decoration-color: #008080; font-weight: bold\">3</span> párrafos por sección\n",
       "\n",
       "### Parámetros Actuales:\n",
       "Usuario solicita: <span style=\"color: #008000; text-decoration-color: #008000; font-weight: bold\">&lt;The</span><span style=\"color: #008000; text-decoration-color: #008000\"> question in question&gt;</span>\n",
       "<span style=\"color: #000000; text-decoration-color: #000000\">Contexto disponible: </span><span style=\"color: #000080; text-decoration-color: #000080\">&lt;My retrieved and absolutely relevant documents</span><span style=\"color: #000080; text-decoration-color: #000080; font-weight: bold\">&gt;</span>\n",
       "\n",
       "Respuesta:\n",
       "\n",
       "</pre>\n"
      ],
      "text/plain": [
       "\n",
       "### Rol y Objetivo:\n",
       "Eres StudyBuddy, un asistente de estudio especializado en transformar notas académicas en material de aprendizaje \n",
       "efectivo. \n",
       "Tu principal objetivo es ayudar al usuario a preparar su examen final mediante técnicas de estudio comprobadas.\n",
       "\n",
       "### Instrucciones de Contexto:\n",
       "\u001b[1;36m1\u001b[0m. **Base de conocimiento**: Usa EXCLUSIVAMENTE la información del contexto proporcionado \u001b[1m(\u001b[0mvectorizado de las notas\n",
       "del usuario\u001b[1m)\u001b[0m\n",
       "\u001b[1;36m2\u001b[0m. **Limitaciones**: Si la pregunta no está cubierta en el contexto o es ambigua:\n",
       "   - Responde: \u001b[32m\"No encuentro esa información en tus notas. ¿Quieres que profundice en otro tema?\"\u001b[0m\n",
       "   - Nunca inventes información o conceptos no presentes en el contexto\n",
       "\n",
       "### Funcionalidades Principales:\n",
       "#### \u001b[1;36m1\u001b[0m. Generación de Resúmenes:\n",
       "   - Crea resúmenes estructurados usando:\n",
       "     * Técnica de Cornell \u001b[1m(\u001b[0mconceptos clave + notas laterales + resumen final\u001b[1m)\u001b[0m\n",
       "     * Mapas mentales en formato markdown\n",
       "     * Diagramas de flujo conceptuales \u001b[1m(\u001b[0musando pseudocódigo ASCII\u001b[1m)\u001b[0m\n",
       "\n",
       "#### \u001b[1;36m2\u001b[0m. Explicación de Temas:\n",
       "   - Desglosa conceptos complejos en componentes simples\n",
       "   - Proporciona analogías prácticas relacionadas con el campo de estudio\n",
       "   - Incluye ejemplos concretos extraídos del contexto\n",
       "\n",
       "#### \u001b[1;36m3\u001b[0m. Generación de Prácticas:\n",
       "   - Crea preguntas de práctica según tipo:\n",
       "     * \u001b[1m[\u001b[0mV/F\u001b[1m]\u001b[0m Para verificar comprensión básica\n",
       "     * \u001b[1m[\u001b[0mCaso práctico\u001b[1m]\u001b[0m Escenarios aplicados al material\n",
       "     * \u001b[1m[\u001b[0mDesarrollo\u001b[1m]\u001b[0m Preguntas de análisis profundo\n",
       "   - Incluye rúbricas de evaluación automática para cada respuesta\n",
       "\n",
       "### Formato de Respuesta:\n",
       "- Usa markdown para estructurar el contenido\n",
       "- Prioriza viñetas y listas numeradas\n",
       "- Incluye etiquetas de dificultad: \u001b[1m[\u001b[0mBÁSICO|INTERMEDIO|AVANZADO\u001b[1m]\u001b[0m\n",
       "- Mantén máximo \u001b[1;36m3\u001b[0m párrafos por sección\n",
       "\n",
       "### Parámetros Actuales:\n",
       "Usuario solicita: \u001b[1;32m<\u001b[0m\u001b[1;32mThe\u001b[0m\u001b[32m question in question>\u001b[0m\n",
       "\u001b[39mContexto disponible: \u001b[0m\u001b[34m<My retrieved and absolutely relevant documents\u001b[0m\u001b[1;34m>\u001b[0m\n",
       "\n",
       "Respuesta:\n",
       "\n"
      ]
     },
     "metadata": {},
     "output_type": "display_data"
    }
   ],
   "source": [
    "example_messages = prompt.invoke(\n",
    "    {\"context\": \"[blue]<My retrieved and absolutely relevant documents>[/]\", \"question\": \"[green]<The question in question>[/]\"}\n",
    ").to_messages()\n",
    "\n",
    "rprint(example_messages[0].content)"
   ]
  },
  {
   "cell_type": "markdown",
   "metadata": {},
   "source": [
    "## Probando el modelo"
   ]
  },
  {
   "cell_type": "code",
   "execution_count": 9,
   "metadata": {},
   "outputs": [
    {
     "data": {
      "text/html": [
       "<pre style=\"white-space:pre;overflow-x:auto;line-height:normal;font-family:Menlo,'DejaVu Sans Mono',consolas,'Courier New',monospace\"><span style=\"color: #008080; text-decoration-color: #008080; font-weight: bold\">1</span>\n",
       "</pre>\n"
      ],
      "text/plain": [
       "\u001b[1;36m1\u001b[0m\n"
      ]
     },
     "metadata": {},
     "output_type": "display_data"
    },
    {
     "data": {
      "text/html": [
       "<pre style=\"white-space:pre;overflow-x:auto;line-height:normal;font-family:Menlo,'DejaVu Sans Mono',consolas,'Courier New',monospace\"><span style=\"color: #008080; text-decoration-color: #008080; font-weight: bold\">2</span>\n",
       "</pre>\n"
      ],
      "text/plain": [
       "\u001b[1;36m2\u001b[0m\n"
      ]
     },
     "metadata": {},
     "output_type": "display_data"
    },
    {
     "data": {
      "text/html": [
       "<pre style=\"white-space:pre;overflow-x:auto;line-height:normal;font-family:Menlo,'DejaVu Sans Mono',consolas,'Courier New',monospace\"><span style=\"color: #008080; text-decoration-color: #008080; font-weight: bold\">3</span>\n",
       "</pre>\n"
      ],
      "text/plain": [
       "\u001b[1;36m3\u001b[0m\n"
      ]
     },
     "metadata": {},
     "output_type": "display_data"
    },
    {
     "data": {
      "text/html": [
       "<pre style=\"white-space:pre;overflow-x:auto;line-height:normal;font-family:Menlo,'DejaVu Sans Mono',consolas,'Courier New',monospace\">Usuario: \n",
       "</pre>\n"
      ],
      "text/plain": [
       "Usuario: \n"
      ]
     },
     "metadata": {},
     "output_type": "display_data"
    },
    {
     "data": {
      "text/markdown": [
       "**StudyBuddy**: **Resumen**\n",
       "\n",
       "El contexto proporcionado trata sobre el análisis de errores en modelos estadísticos, específicamente sobre el sesgo, la varianza y el error irreductible. Estos conceptos son fundamentales en el desarrollo y evaluación de modelos de aprendizaje automático.\n",
       "\n",
       "### Sesgo\n",
       "\n",
       "*   El **error de sesgo** es la diferencia entre la predicción esperada promedio y la realidad. Mide la distancia entre las predicciones del modelo y los valores correctos.\n",
       "*   Es importante minimizar el error de sesgo, ya que representa la tendencia general del modelo a predecir incorrectamente.\n",
       "\n",
       "### Varianza\n",
       "\n",
       "*   El **error varianza** es una medida de la variabilidad de las predicciones de un modelo para un ejemplo específico. Esto nos dice cuánto puede variar la predicción en diferentes ejecuciones del mismo modelo.\n",
       "*   Controlar el error varianza es crucial para garantizar consistencia y precisión en las predicciones.\n",
       "\n",
       "### Error Irreductible\n",
       "\n",
       "*   El **error irreductible**, también conocido como el ruido, es un concepto fundamental que nos dice cuán difícil es eliminar la desviación inherentes o erróneas de nuestros datos.\n",
       "*   Aunque los modelos pueden mejorar en el control de sesgo y varianza, no podemos eliminar completamente el error irreductible.\n",
       "\n",
       "### Ejemplo Práctico\n",
       "\n",
       "Supongamos que tienes un modelo de clasificación binaria, y quieres evaluar su rendimiento. Puedes crear preguntas prácticas como: ¿Cuál es la tendencia general del modelo en predecir clase positiva vs negativa? ¿Cuánto puede variar el resultado para un mismo ejemplo entre diferentes ejecuciones del modelo?\n",
       "\n",
       "**Preguntas de Práctica**\n",
       "\n",
       "*   [V/F] ¿El error de sesgo representa solo la distancia entre las predicciones y los valores correctos, o también incluye la varianza?\n",
       "*   [Caso práctico] Si tienes dos modelos con el mismo rendimiento en términos de sesgo, pero uno tiene menos varianza que el otro, ¿cuál modelo es más confiable?\n",
       "*   [Desarrollo] ¿Cómo afectaría agregar un nuevo conjunto de datos al modelo a un pequeño ruido en los datos originales?\n",
       "\n",
       "**Rúbrica de Evaluación**\n",
       "\n",
       "- **V/F**: Correcta, incorrecta\n",
       "- **[Caso práctico]**: La pregunta debe ser clara y bien definida, y su respuesta debe proporcionar una explicación detallada.\n",
       "-   [Desarrollo]: La pregunta debe ser original pero relacionada con el tema."
      ],
      "text/plain": [
       "<IPython.core.display.Markdown object>"
      ]
     },
     "metadata": {},
     "output_type": "display_data"
    }
   ],
   "source": [
    "# 1. Solicitud del estudiante\n",
    "question = input(f\"StudyBuddy [{MODEL}]>> \")\n",
    "rprint(\"1\")\n",
    "# 2. Obtener documentos reelevantes\n",
    "retrieved_docs = vector_store.similarity_search(question)\n",
    "docs_content = \"\\n\\n\".join(doc.page_content for doc in retrieved_docs)\n",
    "rprint(\"2\")\n",
    "# 3. Pasarlos a junto con la pregunta al modelo\n",
    "prompt_result = prompt.invoke({\"question\": question, \"context\": docs_content})\n",
    "rprint(\"3\")\n",
    "# 4. Generar una respuesta\n",
    "answer = llm.invoke(prompt_result)\n",
    "\n",
    "rprint(f'Usuario: {question}')\n",
    "\n",
    "display(Markdown('**StudyBuddy**: '+answer.content))"
   ]
  },
  {
   "cell_type": "markdown",
   "metadata": {},
   "source": [
    "## Orquestando el flujo del agente con LangGraph"
   ]
  },
  {
   "cell_type": "code",
   "execution_count": 10,
   "metadata": {},
   "outputs": [],
   "source": [
    "class State(TypedDict):\n",
    "    \"\"\"Define the states of the app\"\"\"\n",
    "    question: str\n",
    "    context: list[Document]\n",
    "    answer: str"
   ]
  },
  {
   "cell_type": "code",
   "execution_count": 11,
   "metadata": {},
   "outputs": [
    {
     "data": {
      "image/png": "[encoded data removed]",
      "text/plain": [
       "<IPython.core.display.Image object>"
      ]
     },
     "metadata": {},
     "output_type": "display_data"
    }
   ],
   "source": [
    "def retrieve(state: State):\n",
    "    retrieved_docs = vector_store.similarity_search(state[\"question\"])\n",
    "    return {\"context\": retrieved_docs}\n",
    "\n",
    "def generate(state: State):\n",
    "    docs_content = \"\\n\\n\".join(doc.page_content for doc in state[\"context\"])\n",
    "    messages = prompt.invoke({\"question\": state[\"question\"], \"context\": docs_content})\n",
    "    response = llm.invoke(messages)\n",
    "    return {\"answer\": response.content}\n",
    "\n",
    "\n",
    "## Creacion del grafo ##\n",
    "graph_builder = StateGraph(State).add_sequence([retrieve, generate])\n",
    "\n",
    "graph_builder.add_edge(START, \"retrieve\")\n",
    "graph = graph_builder.compile()\n",
    "\n",
    "## Grafo ##\n",
    "display(Image(graph.get_graph().draw_mermaid_png())) "
   ]
  },
  {
   "cell_type": "markdown",
   "metadata": {},
   "source": [
    "### Flujo del agente con LangGraph\n",
    "El siguiente flujo ya muestra como se va generando la respuesta usando LangGraph, en este caso es interesante ya que podemos generar el flujo como mensaje.\n",
    "\n",
    "Para este caso sea más ilustrativo, desde un notebook se puede usar el código de update_display para poder actualizar la salida y poco a poco ir viendo la respuesta que nos da el agente."
   ]
  },
  {
   "cell_type": "code",
   "execution_count": 12,
   "metadata": {},
   "outputs": [
    {
     "data": {
      "text/markdown": [
       "**Análisis de los Puntos más Probables a Preguntar en el Examen**\n",
       "\n",
       "**Preparación del Entrenamiento**\n",
       "Para determinar los puntos más probables a preguntar en el examen, debemos analizar el contexto proporcionado. En este caso, se menciona la técnica de Holdout sample, que no parte de suposiciones y utiliza los datos propios.\n",
       "\n",
       "### **Evaluación de la Técnica de Holdout Sample**\n",
       "\n",
       "*   La técnica de Holdout sample es una forma de validar al modelo utilizando un conjunto de datos reservados.\n",
       "*   **Ventajas:**\n",
       "    *   No tiene suposiciones.\n",
       "    *   Es preciso si hay suficientes datos.\n",
       "    *   Es fácil de implementar y entender.\n",
       "\n",
       "### **Desglose del Contexto**\n",
       "\n",
       "*   El contexto se centra en aplicaciones, lo que sugiere que se está tratando con una técnica de aprendizaje automático para problemas de programación o análisis de algoritmos.\n",
       "*   La importancia de utilizar la técnica de Holdout sample para validar los modelos es clave en este contexto.\n",
       "\n",
       "### **Conclusión**\n",
       "\n",
       "**Puntos más Probables a Preguntar en el Examen:**\n",
       "Según la información proporcionada, se pueden identificar los siguientes puntos como más probables a preguntar en el examen:\n",
       "\n",
       "1.  Técnicas de aprendizaje automático para problemas de programación o análisis de algoritmos.\n",
       "2.  Implementación de Holdout sample para validar modelos.\n",
       "3.  Ventajas y desventajas de la técnica de Holdout sample.\n",
       "\n",
       "Estos puntos deberían ser los más relevantes en el examen, ya que se reflejan directamente en el contexto proporcionado."
      ],
      "text/plain": [
       "<IPython.core.display.Markdown object>"
      ]
     },
     "metadata": {},
     "output_type": "display_data"
    }
   ],
   "source": [
    "from IPython.display import display, Markdown, update_display\n",
    "\n",
    "streamed_response = \"\"\n",
    "display_id = \"stream\"\n",
    "\n",
    "display(Markdown(\"\"), display_id=display_id)\n",
    "\n",
    "for message, metadata in graph.stream(\n",
    "    {\"question\": \"Dame los puntos más probables a preguntar en el examen\"},\n",
    "    stream_mode=\"messages\"\n",
    "):\n",
    "    streamed_response += message.content\n",
    "    update_display(Markdown(streamed_response), display_id=display_id)"
   ]
  },
  {
   "cell_type": "markdown",
   "metadata": {},
   "source": [
    "## Haciendo el modelo conversacional con LangGraph\n",
    "\n",
    "Esto es tener guardado los mensajes anterior, o sea un historial de mensajes para poder crear el modelo conversacional. Esta funcionalidad ya lo provee langGraph."
   ]
  },
  {
   "cell_type": "code",
   "execution_count": 13,
   "metadata": {},
   "outputs": [],
   "source": [
    "from langchain_core.tools import tool\n",
    "from langchain_core.messages import SystemMessage\n",
    "from langgraph.prebuilt import ToolNode\n",
    "from langgraph.graph import END\n",
    "from langgraph.prebuilt import ToolNode, tools_condition"
   ]
  },
  {
   "cell_type": "markdown",
   "metadata": {},
   "source": [
    "Usamos el decorador\n",
    "        \n",
    "        @tool(response_format=\"content_and_artifact\")\n",
    "\n",
    "Para poder indicar que esta es una herramienta que se va usar dentro de un sistema, en este caso dentro del grafo definido anteriormente con langGraph"
   ]
  },
  {
   "cell_type": "code",
   "execution_count": 14,
   "metadata": {},
   "outputs": [],
   "source": [
    "graph_msg_builder = StateGraph(MessagesState)\n",
    "\n",
    "\n",
    "@tool(response_format=\"content_and_artifact\")\n",
    "def retrieve_tool(query: str):\n",
    "    \"\"\"Retrieve information related to a user query\"\"\"\n",
    "    retrieved_docs = vector_store.similarity_search(query)\n",
    "    serialized = \"\\n\\n\".join(\n",
    "        (f\"Source: {doc.metadata}\\nContent: {doc.page_content}\")\n",
    "        for doc in retrieved_docs\n",
    "    )\n",
    "    return serialized, retrieved_docs\n",
    "\n",
    "\n",
    "## Ahora, hacemos la llamada de la tool para poder obtener los docs\n",
    "## más importantes, y después obtener la respuesta.\n",
    "\n",
    "def query_or_respond(state: MessagesState):\n",
    "    \"\"\"Genera una tool call para retrieval o responde directo\n",
    "    \"\"\"\n",
    "    llm_with_tools = llm.bind_tools([retrieve_tool]) # agrega esa herramienta al modelo\n",
    "    response = llm_with_tools.invoke(state[\"messages\"]) # usando esa herramienta es que ya hace la \n",
    "    return {\"messages\": [response]}\n",
    "\n",
    "\n",
    "## Funcion para generar la respuesta usando las tools y el prompt \n",
    "def generate(state: MessagesState):\n",
    "    \"\"\"Genera una respuesta\"\"\"\n",
    "    recent_tool_messages = []\n",
    "    for message in reversed(state[\"messages\"]):\n",
    "        if not message.type == \"tool\":\n",
    "            break\n",
    "        recent_tool_messages.append(message)\n",
    "    # Obtenemos los mensajes de tools en orden inverso\n",
    "    tool_messages = recent_tool_messages[::-1]\n",
    "    # Creando un prompt con los mensajes\n",
    "    docs_content = \"\\n\\n\".join(doc.content for doc in tool_messages)\n",
    "\n",
    "\n",
    "    system_message = (\n",
    "                    \"\"\"\n",
    "                    ### Rol y Objetivo:\n",
    "                    Eres StudyBuddy, un asistente de estudio especializado en transformar notas académicas en material de aprendizaje efectivo. \n",
    "                    Tu principal objetivo es ayudar al usuario a preparar su examen final mediante técnicas de estudio comprobadas.\n",
    "\n",
    "                    ### Instrucciones de Contexto:\n",
    "                    1. **Base de conocimiento**: Usa EXCLUSIVAMENTE la información del contexto proporcionado (vectorizado de las notas del usuario)\n",
    "                    2. **Limitaciones**: Si la pregunta no está cubierta en el contexto o es ambigua:\n",
    "                    - Responde: \"No encuentro esa información en tus notas. ¿Quieres que profundice en otro tema?\"\n",
    "                    - Nunca inventes información o conceptos no presentes en el contexto\n",
    "\n",
    "                    ### Funcionalidades Principales:\n",
    "                    #### 1. Generación de Resúmenes:\n",
    "                    - Crea resúmenes estructurados usando:\n",
    "                        * Técnica de Cornell (conceptos clave + notas laterales + resumen final)\n",
    "                        * Mapas mentales en formato markdown\n",
    "                        * Diagramas de flujo conceptuales (usando pseudocódigo ASCII)\n",
    "\n",
    "                    #### 2. Explicación de Temas:\n",
    "                    - Desglosa conceptos complejos en componentes simples\n",
    "                    - Proporciona analogías prácticas relacionadas con el campo de estudio\n",
    "                    - Incluye ejemplos concretos extraídos del contexto\n",
    "\n",
    "                    #### 3. Generación de Prácticas:\n",
    "                    - Crea preguntas de práctica según tipo:\n",
    "                        * [V/F] Para verificar comprensión básica\n",
    "                        * [Caso práctico] Escenarios aplicados al material\n",
    "                        * [Desarrollo] Preguntas de análisis profundo\n",
    "                    - Incluye rúbricas de evaluación automática para cada respuesta\n",
    "\n",
    "                    ### Formato de Respuesta:\n",
    "                    - Usa markdown para estructurar el contenido\n",
    "                    - Prioriza viñetas y listas numeradas\n",
    "                    - Incluye etiquetas de dificultad: [BÁSICO|INTERMEDIO|AVANZADO]\n",
    "                    - Mantén máximo 3 párrafos por sección\n",
    "                    \"\"\"\n",
    "        f\"{docs_content}\"\n",
    "    )\n",
    "    \n",
    "    convertation = [\n",
    "        message\n",
    "        for message in state[\"messages\"]\n",
    "        if message.type in (\"human\", \"system\")\n",
    "        or (message.type == \"ai\" and not message.tool_calls)\n",
    "    ]\n",
    "    prompt = [SystemMessage(system_message)] + convertation\n",
    "\n",
    "    # Run!\n",
    "    response = llm.invoke(prompt)\n",
    "    return {\"messages\": [response]}\n"
   ]
  },
  {
   "cell_type": "code",
   "execution_count": 15,
   "metadata": {},
   "outputs": [],
   "source": [
    "tools = ToolNode([retrieve_tool])\n",
    "graph_msg_builder.add_node(query_or_respond)\n",
    "graph_msg_builder.add_node(tools)\n",
    "graph_msg_builder.add_node(generate)\n",
    "\n",
    "graph_msg_builder.set_entry_point(\"query_or_respond\")\n",
    "graph_msg_builder.add_conditional_edges(\n",
    "    \"query_or_respond\",\n",
    "    tools_condition,\n",
    "    {END: END, \"tools\": \"tools\"}\n",
    ")\n",
    "\n",
    "graph_msg_builder.add_edge(\"tools\", \"generate\")\n",
    "graph_msg_builder.add_edge(\"generate\", END)\n",
    "\n",
    "graph_tools = graph_msg_builder.compile()\n"
   ]
  },
  {
   "cell_type": "code",
   "execution_count": 16,
   "metadata": {},
   "outputs": [
    {
     "data": {
      "image/png": "[encoded data removed]",
      "text/plain": [
       "<IPython.core.display.Image object>"
      ]
     },
     "metadata": {},
     "output_type": "display_data"
    }
   ],
   "source": [
    "display(Image(graph_tools.get_graph().draw_mermaid_png()))"
   ]
  },
  {
   "cell_type": "code",
   "execution_count": 17,
   "metadata": {},
   "outputs": [
    {
     "name": "stdout",
     "output_type": "stream",
     "text": [
      "¡Claro! Basándome en las notas proporcionadas, aquí te presento algunos de los puntos más probables que podrían estar en el examen:\n",
      "\n",
      "**Temas claves**\n",
      "\n",
      "1. **Optimización bayesiana**: Entiendo el concepto de construir un modelo probabilístico de la función objetivo en función de los valores de hiperparámetros probados hasta el momento.\n",
      "2. **Algoritmos de aprendizaje automático**: Conozco al menos algunos de los algoritmos de aprendizaje automático comunes, como gradient descent, stochastic gradient descent y optimización lineal.\n",
      "3. **Modelos de Machine Learning**: Entiendo los conceptos básicos de modelos de Machine Learning, como el problema de clasificación, la regresión lineal y el análisis de componentes principales (PCA).\n",
      "4. **Construcción de modelos**: Conozco los pasos generales para construir un modelo, desde la selección del algoritmo hasta la evaluación de su rendimiento.\n",
      "\n",
      "**Preguntas de práctica**\n",
      "\n",
      "1. **Pregunta de clasificación**: ¿Cuál es el algoritmo de aprendizaje automático más adecuado para una tarea de clasificación con una variable independiente contínua y una variable dependiente categórica?\n",
      "2. **Pregunta de regresión lineal**: ¿Qué es la ecuación del plano de regresión lineal, y cómo se utiliza en modelos de Machine Learning?\n",
      "3. **Pregunta de PCA**: ¿Qué es el análisis de componentes principales (PCA), y cómo se aplica en problemas de reducción de dimensionalidad?\n",
      "\n",
      "**Ejemplos concretos**\n",
      "\n",
      "1. **Guía de aprendizaje automático**: Si tuvieras que crear una guía de aprendizaje automático para un problema de clasificación, ¿cómo la estructurarías?\n",
      "2. **Análisis de componentes principales (PCA)**: Si tuvieras que realizar un análisis de componentes principales (PCA) en un conjunto de datos, ¿cómo lo harías y qué resultados esperarías obtener?\n",
      "\n",
      "Estos son solo algunos ejemplos de puntos que podrían estar en el examen. Recuerda que la mejor forma de prepararte es estudiar y practicar con ejercicios y problemas similares a los que se encontrarán en el examen."
     ]
    }
   ],
   "source": [
    "input_message = \"Dame los puntos mas probables que estén en el examen\"\n",
    "\n",
    "for step, metadata in graph_tools.stream(\n",
    "    {\"messages\": [{\"role\": \"user\", \"content\": input_message}]},\n",
    "    stream_mode=\"messages\",\n",
    "):\n",
    "    if step.type == \"AIMessageChunk\":\n",
    "        print(step.content, end=\"\")\n",
    "\n"
   ]
  },
  {
   "cell_type": "code",
   "execution_count": 18,
   "metadata": {},
   "outputs": [
    {
     "name": "stdout",
     "output_type": "stream",
     "text": [
      "**Punto 2: Explicación de Temas**\n",
      "\n",
      "La explicación de temas es fundamental para comprender los conceptos clave del mapeo de sobreajuste y desajuste. A continuación, se presentan las explicaciones detalladas de los puntos:\n",
      "\n",
      "### Sesgo y Varianza\n",
      "\n",
      "El sesgo y la varianza son dos conceptos fundamentales en el mapeo de modelos que influyen en su precisión.\n",
      "\n",
      "*   **Sesgo**: El sesgo se refiere a la tendencia del modelo a predecir valores de predicción diferentes al valor real, debido a errores o limitaciones inherentes en la data o el método de aprendizaje. En otras palabras, el modelo está sesgado hacia ciertos patrones o tendencias en los datos.\n",
      "*   **Varianza**: La varianza se refiere a la medida de dispersión de los valores de predicción del modelo alrededor del valor real. Una mayor varianza indica una mayor incertidumbre en las predicciones, mientras que una menor varianza indica una mayor precisión.\n",
      "\n",
      "### Balance entre Sesgo y Varianza\n",
      "\n",
      "El objetivo es encontrar un equilibrio entre el sesgo y la varianza, lo que se conoce como optimización del modelo. Esto implica ajustar los parámetros del modelo para minimizar tanto el sesgo como la varianza.\n",
      "\n",
      "*   **Punto óptimo**: El punto óptimo es donde se minimiza tanto el sesgo como la varianza. En este punto, el modelo predecirá valores de predicción lo más cercanos posible al valor real.\n",
      "*   **Overshoot**: Si se pasa el punto óptimo, el modelo puede entrar en un sobreajuste, donde el sesgo disminuye pero la varianza aumenta. Esto reduce la precisión del modelo y puede llevar a errores de predicción.\n",
      "*   **Underfitting**: Por otro lado, si no se alcanza el punto óptimo, el modelo puede caer en un underfitting, donde la varianza disminuye pero el sesgo aumenta. Esto también reduce la precisión del modelo y puede llevar a errores de predicción.\n",
      "\n",
      "En resumen, encontrar un balance entre el sesgo y la varianza es fundamental para optimizar los modelos de aprendizaje automático y mejorar su precisión en las predicciones."
     ]
    }
   ],
   "source": [
    "input_message = \"cual seria el segundo punto\"\n",
    "\n",
    "for step, metadata in graph_tools.stream(\n",
    "    {\"messages\": [{\"role\": \"user\", \"content\": input_message}]},\n",
    "    stream_mode=\"messages\",\n",
    "):\n",
    "    if step.type == \"AIMessageChunk\":\n",
    "        print(step.content, end=\"\")\n",
    "\n"
   ]
  },
  {
   "cell_type": "code",
   "execution_count": null,
   "metadata": {},
   "outputs": [],
   "source": []
  }
 ],
 "metadata": {
  "kernelspec": {
   "display_name": "transformers_env",
   "language": "python",
   "name": "python3"
  },
  "language_info": {
   "codemirror_mode": {
    "name": "ipython",
    "version": 3
   },
   "file_extension": ".py",
   "mimetype": "text/x-python",
   "name": "python",
   "nbconvert_exporter": "python",
   "pygments_lexer": "ipython3",
   "version": "3.9.21"
  }
 },
 "nbformat": 4,
 "nbformat_minor": 2
}
