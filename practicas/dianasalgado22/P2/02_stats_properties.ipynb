{
 "cells": [
  {
   "cell_type": "markdown",
   "metadata": {},
   "source": [
    "# Práctica 2: Propiedades estadísticas de la lengua\n",
    "\n",
    "## Fecha de entrega: 2 de Marzo de 2025 11:59pm\n",
    "\n"
   ]
  },
  {
   "cell_type": "code",
   "execution_count": null,
   "metadata": {},
   "outputs": [],
   "source": [
    "#!jupytext --set-formats ipynb,py 02_stats_properties.ipynb"
   ]
  },
  {
   "cell_type": "code",
   "execution_count": null,
   "metadata": {},
   "outputs": [],
   "source": [
    "# Bibliotecas\n",
    "import random \n",
    "import string\n",
    "import numpy as np\n",
    "import matplotlib.pyplot as plt\n",
    "from collections import Counter\n",
    "import pandas as pd\n",
    "\n",
    "# Descargadas\n",
    "import spacy\n",
    "from spacy import displacy\n",
    "!python -m spacy download es_core_news_md"
   ]
  },
  {
   "cell_type": "markdown",
   "metadata": {},
   "source": [
    "## 1. \n",
    "Verificar si la ley de Zipf se cumple en un lenguaje artificial creado por ustedes.\n",
    "\n",
    "- *Ejemplo:* Un \"lenguaje artificial\" podría ser simplemente un texto donde las secuencias de caracteres fueron generadas aleatoriamente."
   ]
  },
  {
   "cell_type": "code",
   "execution_count": 3,
   "metadata": {},
   "outputs": [],
   "source": [
    "def generar_palabra_aleatoria(min_len=4, max_len=10):\n",
    "    \"\"\"\n",
    "    Genera una palabra aleatoria compuesta por caracteres en minúscula del alfabeto inglés.\n",
    "\n",
    "    Parameters\n",
    "    ----------\n",
    "    min_len : int, optional\n",
    "        Longitud mínima de la palabra generada (por defecto 4).\n",
    "    max_len : int, optional\n",
    "        Longitud máxima de la palabra generada (por defecto 10).\n",
    "\n",
    "    Returns\n",
    "    -------\n",
    "    str\n",
    "        Palabra aleatoria con una longitud entre min_len y max_len.\n",
    "    \"\"\"\n",
    "    # Generar una longitud n random\n",
    "    longitud = random.randint(min_len, max_len)\n",
    "    # Generar n caracteres random y unirlos para formar la palabra\n",
    "    return ''.join(random.choices(string.ascii_lowercase, k=longitud))\n"
   ]
  },
  {
   "cell_type": "code",
   "execution_count": 4,
   "metadata": {},
   "outputs": [
    {
     "data": {
      "text/html": [
       "<div>\n",
       "<style scoped>\n",
       "    .dataframe tbody tr th:only-of-type {\n",
       "        vertical-align: middle;\n",
       "    }\n",
       "\n",
       "    .dataframe tbody tr th {\n",
       "        vertical-align: top;\n",
       "    }\n",
       "\n",
       "    .dataframe thead th {\n",
       "        text-align: right;\n",
       "    }\n",
       "</style>\n",
       "<table border=\"1\" class=\"dataframe\">\n",
       "  <thead>\n",
       "    <tr style=\"text-align: right;\">\n",
       "      <th></th>\n",
       "      <th>word</th>\n",
       "      <th>freq</th>\n",
       "    </tr>\n",
       "  </thead>\n",
       "  <tbody>\n",
       "    <tr>\n",
       "      <th>0</th>\n",
       "      <td>cmdbz</td>\n",
       "      <td>39</td>\n",
       "    </tr>\n",
       "    <tr>\n",
       "      <th>1</th>\n",
       "      <td>eeqoy</td>\n",
       "      <td>37</td>\n",
       "    </tr>\n",
       "    <tr>\n",
       "      <th>2</th>\n",
       "      <td>trucq</td>\n",
       "      <td>36</td>\n",
       "    </tr>\n",
       "    <tr>\n",
       "      <th>3</th>\n",
       "      <td>lhhgozxuii</td>\n",
       "      <td>36</td>\n",
       "    </tr>\n",
       "    <tr>\n",
       "      <th>4</th>\n",
       "      <td>vxwbgw</td>\n",
       "      <td>35</td>\n",
       "    </tr>\n",
       "  </tbody>\n",
       "</table>\n",
       "</div>"
      ],
      "text/plain": [
       "         word  freq\n",
       "0       cmdbz    39\n",
       "1       eeqoy    37\n",
       "2       trucq    36\n",
       "3  lhhgozxuii    36\n",
       "4      vxwbgw    35"
      ]
     },
     "execution_count": 4,
     "metadata": {},
     "output_type": "execute_result"
    }
   ],
   "source": [
    "# Generamos un vocabulario de 5,000 palabras aleatorias\n",
    "vocabulario = [generar_palabra_aleatoria() for _ in range(5000)]\n",
    "\n",
    "# Generamos un corpus de 100,000 palabras, escogidas aleatoriamente (uniforme) del vocabulario\n",
    "corpus = ' '.join(random.choices(vocabulario, k=100000))\n",
    "\n",
    "# Contar la frecuencia de cada palabra \n",
    "frecuencias = Counter(corpus.split())\n",
    "\n",
    "# Crear un DataFrame con columnas 'word' y 'freq', ordenado de mayor a menor frecuencia\n",
    "corpus_freqs = pd.DataFrame(list(frecuencias.items()), columns=['word', 'freq'])\n",
    "corpus_freqs = corpus_freqs.sort_values(by='freq', ascending=False).reset_index(drop=True)\n",
    "\n",
    "corpus_freqs.head(5)"
   ]
  },
  {
   "cell_type": "code",
   "execution_count": 5,
   "metadata": {},
   "outputs": [
    {
     "data": {
      "image/png": "[encoded data removed]",
      "text/plain": [
       "<Figure size 640x480 with 1 Axes>"
      ]
     },
     "metadata": {},
     "output_type": "display_data"
    }
   ],
   "source": [
    "# Graficar ley de zipf\n",
    "corpus_freqs[\"freq\"].plot(marker=\"o\")\n",
    "plt.title('Ley de Zipf en lenguaje artificial aleatorio')\n",
    "plt.xlabel('rank')\n",
    "plt.ylabel('freq')\n",
    "plt.show()"
   ]
  },
  {
   "cell_type": "code",
   "execution_count": 6,
   "metadata": {},
   "outputs": [
    {
     "data": {
      "image/png": "[encoded data removed]",
      "text/plain": [
       "<Figure size 640x480 with 1 Axes>"
      ]
     },
     "metadata": {},
     "output_type": "display_data"
    }
   ],
   "source": [
    "# Aplicando logaritmo para la visualizacion\n",
    "corpus_freqs['freq'].plot(loglog=True, legend=False)\n",
    "plt.title('Ley de Zipf en lenguaje artificial aleatorio \\n(log-log)')\n",
    "plt.xlabel('log rank')\n",
    "plt.ylabel('log frecuencia')\n",
    "plt.show()"
   ]
  },
  {
   "cell_type": "markdown",
   "metadata": {},
   "source": [
    "Podemos observar que la gráfica difiere notablemente de la distribución típica de la ley de Zipf en lenguajes naturales. Aunque la forma general mantiene una tendencia decreciente, la curva es más plana en comparación con la ley de Zipf esperada. Es decir, la diferencia entre las palabras más comunes y las menos comunes no es tan pronunciada. Esto sugiere que, en un lenguaje artificial generado aleatoriamente, no emergen las mismas estructuras jerárquicas de frecuencia que en los lenguajes naturales, donde ciertas palabras predominan debido a patrones semánticos y sintácticos propios del uso del idioma."
   ]
  },
  {
   "cell_type": "markdown",
   "metadata": {},
   "source": [
    "## 2.\n",
    "Explorar `datasets` del sitio [Hugging Face](https://huggingface.co/datasets) y elegir documentos de diferentes dominios en Español (al menos 3). Realizar reconocimiento de entidades nombradas (NER).\n",
    "\n",
    "- Pueden utilizar subconjuntos de los datasets encontrados\n",
    "- Mostrar resultados del reconocimiento\n",
    "- Una distribución de frecuencias de las etiquetas más comunes en cada dominio\n",
    "- Comentarios generales del desempeño observado.\n",
    "\n",
    "*Sugerencias: Spacy, CoreNLP (puede ser cualquier otra herramienta)*"
   ]
  },
  {
   "cell_type": "markdown",
   "metadata": {},
   "source": [
    "**Dataset elegidos:** \n",
    "\n",
    "Dataset de Noticias: Nicky0007/cointelegraph_noticias_Es\n",
    "\n",
    "Dataset de Recetas: somosnlp/recetas-cocina\n",
    "\n",
    "Dataset de Comentarios Suicidas: somosnlp-hackathon-2023/suicide-comments-es "
   ]
  },
  {
   "cell_type": "markdown",
   "metadata": {},
   "source": [
    "### Cargar los datos y preprocesarlos"
   ]
  },
  {
   "cell_type": "code",
   "execution_count": 7,
   "metadata": {},
   "outputs": [],
   "source": [
    "df_recetas = pd.read_csv(\"./data/dataset_recetas.csv\")\n",
    "df_noticias = pd.read_csv(\"./data/dataset_noticias.csv\")\n",
    "df_suicidio = pd.read_csv(\"./data/suicide_comments_es.csv\")"
   ]
  },
  {
   "cell_type": "code",
   "execution_count": 8,
   "metadata": {},
   "outputs": [
    {
     "data": {
      "text/html": [
       "<div>\n",
       "<style scoped>\n",
       "    .dataframe tbody tr th:only-of-type {\n",
       "        vertical-align: middle;\n",
       "    }\n",
       "\n",
       "    .dataframe tbody tr th {\n",
       "        vertical-align: top;\n",
       "    }\n",
       "\n",
       "    .dataframe thead th {\n",
       "        text-align: right;\n",
       "    }\n",
       "</style>\n",
       "<table border=\"1\" class=\"dataframe\">\n",
       "  <thead>\n",
       "    <tr style=\"text-align: right;\">\n",
       "      <th></th>\n",
       "      <th>Text</th>\n",
       "      <th>Label</th>\n",
       "    </tr>\n",
       "  </thead>\n",
       "  <tbody>\n",
       "    <tr>\n",
       "      <th>0</th>\n",
       "      <td>Pablo Picasso es un artista famoso de principi...</td>\n",
       "      <td>0</td>\n",
       "    </tr>\n",
       "    <tr>\n",
       "      <th>1</th>\n",
       "      <td>Las mujeres son extrañas, sé lo que quieres de...</td>\n",
       "      <td>0</td>\n",
       "    </tr>\n",
       "  </tbody>\n",
       "</table>\n",
       "</div>"
      ],
      "text/plain": [
       "                                                Text  Label\n",
       "0  Pablo Picasso es un artista famoso de principi...      0\n",
       "1  Las mujeres son extrañas, sé lo que quieres de...      0"
      ]
     },
     "execution_count": 8,
     "metadata": {},
     "output_type": "execute_result"
    }
   ],
   "source": [
    "df_suicidio.head(2)"
   ]
  },
  {
   "cell_type": "code",
   "execution_count": 9,
   "metadata": {},
   "outputs": [],
   "source": [
    "# Selecccionamos las columnas con el texto que analizaremos\n",
    "df_recetas = df_recetas.dropna(subset=['steps'])\n",
    "df_noticias = df_noticias.dropna(subset=['description'])\n",
    "df_suicidio = df_suicidio.dropna(subset=['Text'])\n",
    "\n",
    "# Renombrar columnas a \"texto\" en cada DataFrame\n",
    "df_recetas = df_recetas.rename(columns={'steps': 'texto'})\n",
    "df_noticias = df_noticias.rename(columns={'description': 'texto'})\n",
    "df_suicidio = df_suicidio.rename(columns={'Text': 'texto'})"
   ]
  },
  {
   "cell_type": "markdown",
   "metadata": {},
   "source": [
    "### NER"
   ]
  },
  {
   "cell_type": "code",
   "execution_count": 10,
   "metadata": {},
   "outputs": [],
   "source": [
    "nlp = spacy.load(\"es_core_news_md\")"
   ]
  },
  {
   "cell_type": "code",
   "execution_count": 11,
   "metadata": {},
   "outputs": [],
   "source": [
    "def extract_entities(df, text_column=\"texto\", n=100):\n",
    "    \"\"\"\n",
    "    Extrae entidades nombradas de un subconjunto aleatorio del dataset.\n",
    "\n",
    "    Parameters\n",
    "    ----------\n",
    "    df : pandas.DataFrame\n",
    "        DataFrame que contiene los textos a procesar.\n",
    "    text_column : str\n",
    "        Nombre de la columna que contiene los textos.\n",
    "    n : int, optional\n",
    "        Número de ejemplos aleatorios a procesar (default es 100).\n",
    "\n",
    "    Returns\n",
    "    -------\n",
    "    pandas.DataFrame\n",
    "        DataFrame con una nueva columna 'entities' donde cada fila contiene \n",
    "        las entidades reconocidas en el texto correspondiente.\n",
    "    \"\"\"\n",
    "    # Seleccionar aleatoriamente `n` ejemplos del dataset\n",
    "    subset_df = df.sample(n=min(n, len(df)), random_state=42)\n",
    "\n",
    "    # Aplicar NER a los textos seleccionados\n",
    "    subset_df['entities'] = subset_df[text_column].apply(lambda text: [(ent.text, ent.label_) for ent in nlp(text).ents])\n",
    "\n",
    "    return subset_df"
   ]
  },
  {
   "cell_type": "code",
   "execution_count": 12,
   "metadata": {},
   "outputs": [],
   "source": [
    "# Aplicar la función a los datasets\n",
    "df_noticias_sampled = extract_entities(df_noticias, n=100)\n",
    "df_recetas_sampled = extract_entities(df_recetas, n=100)\n",
    "df_suicidio_sampled = extract_entities(df_suicidio, n=100)"
   ]
  },
  {
   "cell_type": "markdown",
   "metadata": {},
   "source": [
    "#### Visualizar algunos ejemplos"
   ]
  },
  {
   "cell_type": "code",
   "execution_count": 28,
   "metadata": {},
   "outputs": [],
   "source": [
    "def visualize_ner(df, text_column=\"texto\", num_examples=5):\n",
    "    \"\"\"\n",
    "    Visualiza el reconocimiento de entidades nombradas en textos usando displacy.\n",
    "\n",
    "    Parameters\n",
    "    ----------\n",
    "    df : pandas.DataFrame\n",
    "        DataFrame que contiene los textos procesados y las entidades extraídas.\n",
    "    text_column : str\n",
    "        Nombre de la columna que contiene los textos.\n",
    "    num_examples : int, optional\n",
    "        Número de ejemplos a visualizar (default es 5).\n",
    "\n",
    "    Returns\n",
    "    -------\n",
    "    None\n",
    "        Muestra la visualización de `displacy` con las entidades destacadas.\n",
    "    \"\"\"\n",
    "    # Seleccionar `num_examples` aleatorios\n",
    "    sample_texts = df.sample(n=min(num_examples, len(df)), random_state=121)[text_column].tolist()\n",
    "\n",
    "    for text in sample_texts:\n",
    "        doc = nlp(text)\n",
    "        displacy.render(doc, style=\"ent\", jupyter=True)\n"
   ]
  },
  {
   "cell_type": "code",
   "execution_count": 31,
   "metadata": {},
   "outputs": [
    {
     "name": "stdout",
     "output_type": "stream",
     "text": [
      "Dataset de Noticias: \n"
     ]
    },
    {
     "data": {
      "text/html": [
       "<span class=\"tex2jax_ignore\"><div class=\"entities\" style=\"line-height: 2.5; direction: ltr\">El \n",
       "<mark class=\"entity\" style=\"background: #7aecec; padding: 0.45em 0.6em; margin: 0 0.25em; line-height: 1; border-radius: 0.35em;\">\n",
       "    CRS\n",
       "    <span style=\"font-size: 0.8em; font-weight: bold; line-height: 1; border-radius: 0.35em; vertical-align: middle; margin-left: 0.5rem\">ORG</span>\n",
       "</mark>\n",
       " describió la caída de \n",
       "<mark class=\"entity\" style=\"background: #ddd; padding: 0.45em 0.6em; margin: 0 0.25em; line-height: 1; border-radius: 0.35em;\">\n",
       "    TerraUSD\n",
       "    <span style=\"font-size: 0.8em; font-weight: bold; line-height: 1; border-radius: 0.35em; vertical-align: middle; margin-left: 0.5rem\">MISC</span>\n",
       "</mark>\n",
       " como un escenario &quot;similar a una corrida bancaria&quot; en el que los holders comenzaron a dudar de las reservas que respaldan la paridad con el dólar.</div></span>"
      ],
      "text/plain": [
       "<IPython.core.display.HTML object>"
      ]
     },
     "metadata": {},
     "output_type": "display_data"
    },
    {
     "data": {
      "text/html": [
       "<span class=\"tex2jax_ignore\"><div class=\"entities\" style=\"line-height: 2.5; direction: ltr\">¿Pueden las stablecoins tener problemas en \n",
       "<mark class=\"entity\" style=\"background: #ff9561; padding: 0.45em 0.6em; margin: 0 0.25em; line-height: 1; border-radius: 0.35em;\">\n",
       "    Europa\n",
       "    <span style=\"font-size: 0.8em; font-weight: bold; line-height: 1; border-radius: 0.35em; vertical-align: middle; margin-left: 0.5rem\">LOC</span>\n",
       "</mark>\n",
       "?</div></span>"
      ],
      "text/plain": [
       "<IPython.core.display.HTML object>"
      ]
     },
     "metadata": {},
     "output_type": "display_data"
    },
    {
     "data": {
      "text/html": [
       "<span class=\"tex2jax_ignore\"><div class=\"entities\" style=\"line-height: 2.5; direction: ltr\">¿Tendré que pagar impuestos si obtengo beneficios gracias al staking de criptomonedas en \n",
       "<mark class=\"entity\" style=\"background: #ff9561; padding: 0.45em 0.6em; margin: 0 0.25em; line-height: 1; border-radius: 0.35em;\">\n",
       "    España\n",
       "    <span style=\"font-size: 0.8em; font-weight: bold; line-height: 1; border-radius: 0.35em; vertical-align: middle; margin-left: 0.5rem\">LOC</span>\n",
       "</mark>\n",
       "?</div></span>"
      ],
      "text/plain": [
       "<IPython.core.display.HTML object>"
      ]
     },
     "metadata": {},
     "output_type": "display_data"
    },
    {
     "name": "stdout",
     "output_type": "stream",
     "text": [
      "Dataset de Recetas: \n"
     ]
    },
    {
     "data": {
      "text/html": [
       "<span class=\"tex2jax_ignore\"><div class=\"entities\" style=\"line-height: 2.5; direction: ltr\">1 Cogemos la cebolla los 3 pimientos y los cortamos pequeñitos a modo del frtito de la paella. 2 Los ponemos a freir con un chorreon de aceite y su poquito de sal. Cuando este todo fritito con la cebolla dorada ,lo sacamos a un bol el aceite que este escurrido. 3 Le echamos las latas de atum sin el aceite,el pimiento morron picadito al gusto y por ultimo le hechamos las 3 cucharadas de tomate de caja y moverlo todo con una cuchara o paleta. 4 Cogemos la masa quebrada y la colocamos encima del papel de horno dentro de la bandeja del horno como, vendran en dos partes la masa, una la reservamos y utilizamos una para vaciar el contenido del bol.cuando vaciemos el contenido debemos dejar un dedo de ancho bacido por los 4 lados de la masa para a continuancion poner sobre este la otra parte de la masa. 5 Cerramos los lados con un tenedor a modo de empanadilla presionando. \n",
       "<mark class=\"entity\" style=\"background: #ff9561; padding: 0.45em 0.6em; margin: 0 0.25em; line-height: 1; border-radius: 0.35em;\">\n",
       "    Batimos\n",
       "    <span style=\"font-size: 0.8em; font-weight: bold; line-height: 1; border-radius: 0.35em; vertical-align: middle; margin-left: 0.5rem\">LOC</span>\n",
       "</mark>\n",
       " el huevo entero y con una brocha pintamos la empanada. 6 Metemos en el horno a 180 grados a media altura. \n",
       "<mark class=\"entity\" style=\"background: #ddd; padding: 0.45em 0.6em; margin: 0 0.25em; line-height: 1; border-radius: 0.35em;\">\n",
       "    El tiempo\n",
       "    <span style=\"font-size: 0.8em; font-weight: bold; line-height: 1; border-radius: 0.35em; vertical-align: middle; margin-left: 0.5rem\">MISC</span>\n",
       "</mark>\n",
       " es aproximadamente 15 minutos¡¡ ojo¡¡mirar que se valla dorando al gusto y cuando este se saca del horno dejar enfriar y a comer.</div></span>"
      ],
      "text/plain": [
       "<IPython.core.display.HTML object>"
      ]
     },
     "metadata": {},
     "output_type": "display_data"
    },
    {
     "data": {
      "text/html": [
       "<span class=\"tex2jax_ignore\"><div class=\"entities\" style=\"line-height: 2.5; direction: ltr\"> \n",
       "<mark class=\"entity\" style=\"background: #ff9561; padding: 0.45em 0.6em; margin: 0 0.25em; line-height: 1; border-radius: 0.35em;\">\n",
       "    Lentejas guisadas Pelar\n",
       "    <span style=\"font-size: 0.8em; font-weight: bold; line-height: 1; border-radius: 0.35em; vertical-align: middle; margin-left: 0.5rem\">LOC</span>\n",
       "</mark>\n",
       " y cortar una cebolla. \n",
       "<mark class=\"entity\" style=\"background: #ff9561; padding: 0.45em 0.6em; margin: 0 0.25em; line-height: 1; border-radius: 0.35em;\">\n",
       "    Basta\n",
       "    <span style=\"font-size: 0.8em; font-weight: bold; line-height: 1; border-radius: 0.35em; vertical-align: middle; margin-left: 0.5rem\">LOC</span>\n",
       "</mark>\n",
       " cortarla por la mitad si es mediana o pequeña. Si es algo mayor, hacer cuatro gajos. \n",
       "<mark class=\"entity\" style=\"background: #ddd; padding: 0.45em 0.6em; margin: 0 0.25em; line-height: 1; border-radius: 0.35em;\">\n",
       "    Pelar\n",
       "    <span style=\"font-size: 0.8em; font-weight: bold; line-height: 1; border-radius: 0.35em; vertical-align: middle; margin-left: 0.5rem\">MISC</span>\n",
       "</mark>\n",
       " y cortar una zanahoria en un par de trozos. \n",
       "<mark class=\"entity\" style=\"background: #ddd; padding: 0.45em 0.6em; margin: 0 0.25em; line-height: 1; border-radius: 0.35em;\">\n",
       "    Unos pocos más si la zanahoria\n",
       "    <span style=\"font-size: 0.8em; font-weight: bold; line-height: 1; border-radius: 0.35em; vertical-align: middle; margin-left: 0.5rem\">MISC</span>\n",
       "</mark>\n",
       " es de grandes dimensiones. \n",
       "<mark class=\"entity\" style=\"background: #ddd; padding: 0.45em 0.6em; margin: 0 0.25em; line-height: 1; border-radius: 0.35em;\">\n",
       "    Pelar\n",
       "    <span style=\"font-size: 0.8em; font-weight: bold; line-height: 1; border-radius: 0.35em; vertical-align: middle; margin-left: 0.5rem\">MISC</span>\n",
       "</mark>\n",
       " y cortar en cuatro trozos una patata mediana. \n",
       "<mark class=\"entity\" style=\"background: #ddd; padding: 0.45em 0.6em; margin: 0 0.25em; line-height: 1; border-radius: 0.35em;\">\n",
       "    Lavar\n",
       "    <span style=\"font-size: 0.8em; font-weight: bold; line-height: 1; border-radius: 0.35em; vertical-align: middle; margin-left: 0.5rem\">PER</span>\n",
       "</mark>\n",
       " un pimiento verde y hacerle un corte transversal desde una punta hasta la zona que le une al tallo. \n",
       "<mark class=\"entity\" style=\"background: #ddd; padding: 0.45em 0.6em; margin: 0 0.25em; line-height: 1; border-radius: 0.35em;\">\n",
       "    Lavar\n",
       "    <span style=\"font-size: 0.8em; font-weight: bold; line-height: 1; border-radius: 0.35em; vertical-align: middle; margin-left: 0.5rem\">PER</span>\n",
       "</mark>\n",
       " un tomate, quitarle la zona del tallo y cortar por la mitad. \n",
       "<mark class=\"entity\" style=\"background: #ff9561; padding: 0.45em 0.6em; margin: 0 0.25em; line-height: 1; border-radius: 0.35em;\">\n",
       "    Llenar\n",
       "    <span style=\"font-size: 0.8em; font-weight: bold; line-height: 1; border-radius: 0.35em; vertical-align: middle; margin-left: 0.5rem\">LOC</span>\n",
       "</mark>\n",
       " hasta la mitad una olla de gran diámetro y profundidad. \n",
       "<mark class=\"entity\" style=\"background: #ff9561; padding: 0.45em 0.6em; margin: 0 0.25em; line-height: 1; border-radius: 0.35em;\">\n",
       "    Calentar\n",
       "    <span style=\"font-size: 0.8em; font-weight: bold; line-height: 1; border-radius: 0.35em; vertical-align: middle; margin-left: 0.5rem\">LOC</span>\n",
       "</mark>\n",
       " y agregar una pizca de sal para que se caliente antes. Cuando comience a coger calor, agregar todas las verduras, un par de cucharadas de aceite de oliva, unas hojas de laurel y dejar que se vayan poniendo blandas. \n",
       "<mark class=\"entity\" style=\"background: #ddd; padding: 0.45em 0.6em; margin: 0 0.25em; line-height: 1; border-radius: 0.35em;\">\n",
       "    Una vez que hayamos\n",
       "    <span style=\"font-size: 0.8em; font-weight: bold; line-height: 1; border-radius: 0.35em; vertical-align: middle; margin-left: 0.5rem\">MISC</span>\n",
       "</mark>\n",
       " comprobado que las verduras comienzan a perder rigidez, agregar las lentejas y una cucharadita de pimentón dulce. También se puede agregar picante si es de nuestro agrado. \n",
       "<mark class=\"entity\" style=\"background: #ddd; padding: 0.45em 0.6em; margin: 0 0.25em; line-height: 1; border-radius: 0.35em;\">\n",
       "    Dejar\n",
       "    <span style=\"font-size: 0.8em; font-weight: bold; line-height: 1; border-radius: 0.35em; vertical-align: middle; margin-left: 0.5rem\">PER</span>\n",
       "</mark>\n",
       " que se vayan calentando las legumbres y de vez en cuando, remover con ayuda de un cucharón. \n",
       "<mark class=\"entity\" style=\"background: #ddd; padding: 0.45em 0.6em; margin: 0 0.25em; line-height: 1; border-radius: 0.35em;\">\n",
       "    Probar de sal\n",
       "    <span style=\"font-size: 0.8em; font-weight: bold; line-height: 1; border-radius: 0.35em; vertical-align: middle; margin-left: 0.5rem\">MISC</span>\n",
       "</mark>\n",
       " y rectificar si es necesario. \n",
       "<mark class=\"entity\" style=\"background: #ddd; padding: 0.45em 0.6em; margin: 0 0.25em; line-height: 1; border-radius: 0.35em;\">\n",
       "    Servir calientes\n",
       "    <span style=\"font-size: 0.8em; font-weight: bold; line-height: 1; border-radius: 0.35em; vertical-align: middle; margin-left: 0.5rem\">MISC</span>\n",
       "</mark>\n",
       " o templadas.</div></span>"
      ],
      "text/plain": [
       "<IPython.core.display.HTML object>"
      ]
     },
     "metadata": {},
     "output_type": "display_data"
    },
    {
     "name": "stdout",
     "output_type": "stream",
     "text": [
      "Dataset de Comentarios Sucidas: \n"
     ]
    },
    {
     "data": {
      "text/html": [
       "<span class=\"tex2jax_ignore\"><div class=\"entities\" style=\"line-height: 2.5; direction: ltr\">Construir un modelo de regresión lineal que prediga la presión arterial sistólica de un paciente</div></span>"
      ],
      "text/plain": [
       "<IPython.core.display.HTML object>"
      ]
     },
     "metadata": {},
     "output_type": "display_data"
    },
    {
     "data": {
      "text/html": [
       "<span class=\"tex2jax_ignore\"><div class=\"entities\" style=\"line-height: 2.5; direction: ltr\">¿Por qué?</div></span>"
      ],
      "text/plain": [
       "<IPython.core.display.HTML object>"
      ]
     },
     "metadata": {},
     "output_type": "display_data"
    },
    {
     "data": {
      "text/html": [
       "<span class=\"tex2jax_ignore\"><div class=\"entities\" style=\"line-height: 2.5; direction: ltr\">Crea una historia sobre un conejo que vive con una ardilla aventurera en el bosque.</div></span>"
      ],
      "text/plain": [
       "<IPython.core.display.HTML object>"
      ]
     },
     "metadata": {},
     "output_type": "display_data"
    },
    {
     "data": {
      "text/html": [
       "<span class=\"tex2jax_ignore\"><div class=\"entities\" style=\"line-height: 2.5; direction: ltr\">Dame un ejemplo de una obra de literatura afroamericana.</div></span>"
      ],
      "text/plain": [
       "<IPython.core.display.HTML object>"
      ]
     },
     "metadata": {},
     "output_type": "display_data"
    },
    {
     "data": {
      "text/html": [
       "<span class=\"tex2jax_ignore\"><div class=\"entities\" style=\"line-height: 2.5; direction: ltr\">Yo iré de compras hoy.</div></span>"
      ],
      "text/plain": [
       "<IPython.core.display.HTML object>"
      ]
     },
     "metadata": {},
     "output_type": "display_data"
    },
    {
     "data": {
      "text/html": [
       "<span class=\"tex2jax_ignore\"><div class=\"entities\" style=\"line-height: 2.5; direction: ltr\">Edita la siguiente oración, '\n",
       "<mark class=\"entity\" style=\"background: #ddd; padding: 0.45em 0.6em; margin: 0 0.25em; line-height: 1; border-radius: 0.35em;\">\n",
       "    We\n",
       "    <span style=\"font-size: 0.8em; font-weight: bold; line-height: 1; border-radius: 0.35em; vertical-align: middle; margin-left: 0.5rem\">MISC</span>\n",
       "</mark>\n",
       " could've brought our bikes with us if there was' para que sea gramaticalmente correcta.</div></span>"
      ],
      "text/plain": [
       "<IPython.core.display.HTML object>"
      ]
     },
     "metadata": {},
     "output_type": "display_data"
    },
    {
     "data": {
      "text/html": [
       "<span class=\"tex2jax_ignore\"><div class=\"entities\" style=\"line-height: 2.5; direction: ltr\">Reescribe la siguiente oración utilizando la gramática correcta para que sea gramaticalmente correcta.</div></span>"
      ],
      "text/plain": [
       "<IPython.core.display.HTML object>"
      ]
     },
     "metadata": {},
     "output_type": "display_data"
    },
    {
     "data": {
      "text/html": [
       "<span class=\"tex2jax_ignore\"><div class=\"entities\" style=\"line-height: 2.5; direction: ltr\">Si es posible, ¿podrías hacer eso lo antes posible, por favor?</div></span>"
      ],
      "text/plain": [
       "<IPython.core.display.HTML object>"
      ]
     },
     "metadata": {},
     "output_type": "display_data"
    },
    {
     "data": {
      "text/html": [
       "<span class=\"tex2jax_ignore\"><div class=\"entities\" style=\"line-height: 2.5; direction: ltr\">Realiza un cálculo simple usando los siguientes números.</div></span>"
      ],
      "text/plain": [
       "<IPython.core.display.HTML object>"
      ]
     },
     "metadata": {},
     "output_type": "display_data"
    },
    {
     "data": {
      "text/html": [
       "<span class=\"tex2jax_ignore\"><div class=\"entities\" style=\"line-height: 2.5; direction: ltr\">Cada día veo mi final más cerca</div></span>"
      ],
      "text/plain": [
       "<IPython.core.display.HTML object>"
      ]
     },
     "metadata": {},
     "output_type": "display_data"
    },
    {
     "data": {
      "text/html": [
       "<span class=\"tex2jax_ignore\"><div class=\"entities\" style=\"line-height: 2.5; direction: ltr\">Gracias.</div></span>"
      ],
      "text/plain": [
       "<IPython.core.display.HTML object>"
      ]
     },
     "metadata": {},
     "output_type": "display_data"
    },
    {
     "data": {
      "text/html": [
       "<span class=\"tex2jax_ignore\"><div class=\"entities\" style=\"line-height: 2.5; direction: ltr\">Soy un buen mentiroso.</div></span>"
      ],
      "text/plain": [
       "<IPython.core.display.HTML object>"
      ]
     },
     "metadata": {},
     "output_type": "display_data"
    },
    {
     "data": {
      "text/html": [
       "<span class=\"tex2jax_ignore\"><div class=\"entities\" style=\"line-height: 2.5; direction: ltr\">Cambie la oración del presente continuo al pasado continuo: &quot;\n",
       "<mark class=\"entity\" style=\"background: #ddd; padding: 0.45em 0.6em; margin: 0 0.25em; line-height: 1; border-radius: 0.35em;\">\n",
       "    Estoy estudiando para mi examen\n",
       "    <span style=\"font-size: 0.8em; font-weight: bold; line-height: 1; border-radius: 0.35em; vertical-align: middle; margin-left: 0.5rem\">MISC</span>\n",
       "</mark>\n",
       ".&quot;</div></span>"
      ],
      "text/plain": [
       "<IPython.core.display.HTML object>"
      ]
     },
     "metadata": {},
     "output_type": "display_data"
    },
    {
     "data": {
      "text/html": [
       "<span class=\"tex2jax_ignore\"><div class=\"entities\" style=\"line-height: 2.5; direction: ltr\">\n",
       "<mark class=\"entity\" style=\"background: #ddd; padding: 0.45em 0.6em; margin: 0 0.25em; line-height: 1; border-radius: 0.35em;\">\n",
       "    Resuma\n",
       "    <span style=\"font-size: 0.8em; font-weight: bold; line-height: 1; border-radius: 0.35em; vertical-align: middle; margin-left: 0.5rem\">PER</span>\n",
       "</mark>\n",
       " por qué es importante leer</div></span>"
      ],
      "text/plain": [
       "<IPython.core.display.HTML object>"
      ]
     },
     "metadata": {},
     "output_type": "display_data"
    },
    {
     "data": {
      "text/html": [
       "<span class=\"tex2jax_ignore\"><div class=\"entities\" style=\"line-height: 2.5; direction: ltr\">Aún aquí. \n",
       "<mark class=\"entity\" style=\"background: #ddd; padding: 0.45em 0.6em; margin: 0 0.25em; line-height: 1; border-radius: 0.35em;\">\n",
       "    Los días\n",
       "    <span style=\"font-size: 0.8em; font-weight: bold; line-height: 1; border-radius: 0.35em; vertical-align: middle; margin-left: 0.5rem\">MISC</span>\n",
       "</mark>\n",
       " son generalmente la parte fácil, sin embargo. \n",
       "<mark class=\"entity\" style=\"background: #ddd; padding: 0.45em 0.6em; margin: 0 0.25em; line-height: 1; border-radius: 0.35em;\">\n",
       "    Dame\n",
       "    <span style=\"font-size: 0.8em; font-weight: bold; line-height: 1; border-radius: 0.35em; vertical-align: middle; margin-left: 0.5rem\">MISC</span>\n",
       "</mark>\n",
       " un par de horas para sentarme en casa y ver cómo va :-)</div></span>"
      ],
      "text/plain": [
       "<IPython.core.display.HTML object>"
      ]
     },
     "metadata": {},
     "output_type": "display_data"
    },
    {
     "data": {
      "text/html": [
       "<span class=\"tex2jax_ignore\"><div class=\"entities\" style=\"line-height: 2.5; direction: ltr\">Encuentra el \n",
       "<mark class=\"entity\" style=\"background: #7aecec; padding: 0.45em 0.6em; margin: 0 0.25em; line-height: 1; border-radius: 0.35em;\">\n",
       "    BPM\n",
       "    <span style=\"font-size: 0.8em; font-weight: bold; line-height: 1; border-radius: 0.35em; vertical-align: middle; margin-left: 0.5rem\">ORG</span>\n",
       "</mark>\n",
       " (\n",
       "<mark class=\"entity\" style=\"background: #ddd; padding: 0.45em 0.6em; margin: 0 0.25em; line-height: 1; border-radius: 0.35em;\">\n",
       "    Beats Per Minute\n",
       "    <span style=\"font-size: 0.8em; font-weight: bold; line-height: 1; border-radius: 0.35em; vertical-align: middle; margin-left: 0.5rem\">MISC</span>\n",
       "</mark>\n",
       ") de esta canción.</div></span>"
      ],
      "text/plain": [
       "<IPython.core.display.HTML object>"
      ]
     },
     "metadata": {},
     "output_type": "display_data"
    },
    {
     "data": {
      "text/html": [
       "<span class=\"tex2jax_ignore\"><div class=\"entities\" style=\"line-height: 2.5; direction: ltr\">Escribe una breve descripción sobre el juego de ajedrez</div></span>"
      ],
      "text/plain": [
       "<IPython.core.display.HTML object>"
      ]
     },
     "metadata": {},
     "output_type": "display_data"
    },
    {
     "data": {
      "text/html": [
       "<span class=\"tex2jax_ignore\"><div class=\"entities\" style=\"line-height: 2.5; direction: ltr\">Explíquese solo, por favor.</div></span>"
      ],
      "text/plain": [
       "<IPython.core.display.HTML object>"
      ]
     },
     "metadata": {},
     "output_type": "display_data"
    },
    {
     "data": {
      "text/html": [
       "<span class=\"tex2jax_ignore\"><div class=\"entities\" style=\"line-height: 2.5; direction: ltr\">Describir un concepto de diseño.</div></span>"
      ],
      "text/plain": [
       "<IPython.core.display.HTML object>"
      ]
     },
     "metadata": {},
     "output_type": "display_data"
    },
    {
     "data": {
      "text/html": [
       "<span class=\"tex2jax_ignore\"><div class=\"entities\" style=\"line-height: 2.5; direction: ltr\">Un buen título &quot;llamativo&quot; para una publicación de blog sobre marketing podría ser &quot;5 consejos esenciales para impulsar tu estrategia de marketing&quot;.</div></span>"
      ],
      "text/plain": [
       "<IPython.core.display.HTML object>"
      ]
     },
     "metadata": {},
     "output_type": "display_data"
    }
   ],
   "source": [
    "# Visualizar entidades nombradas en cada dataset\n",
    "print(\"Dataset de Noticias: \")\n",
    "visualize_ner(df_noticias_sampled, num_examples=3)\n",
    "print(\"Dataset de Recetas: \")\n",
    "visualize_ner(df_recetas_sampled, num_examples=2)\n",
    "print(\"Dataset de Comentarios Sucidas: \")\n",
    "visualize_ner(df_suicidio_sampled, num_examples=20)\n"
   ]
  },
  {
   "cell_type": "markdown",
   "metadata": {},
   "source": [
    "#### Contar la frecuencia de las etiquetas y graficar distribución  "
   ]
  },
  {
   "cell_type": "code",
   "execution_count": 15,
   "metadata": {},
   "outputs": [],
   "source": [
    "def count_entity_labels(df):\n",
    "    \"\"\"\n",
    "    Cuenta la frecuencia de cada tipo de entidad nombrada en un DataFrame.\n",
    "\n",
    "    Parameters\n",
    "    ----------\n",
    "    df : pandas.DataFrame\n",
    "        DataFrame que contiene una columna 'entities', donde cada fila \n",
    "        tiene una lista de tuplas (texto de la entidad, etiqueta de entidad).\n",
    "\n",
    "    Returns\n",
    "    -------\n",
    "    collections.Counter\n",
    "        Un diccionario con la frecuencia de cada tipo de entidad.\n",
    "    \"\"\"\n",
    "    all_labels = [ent[1] for entities in df['entities'] for ent in entities]\n",
    "    return Counter(all_labels)"
   ]
  },
  {
   "cell_type": "code",
   "execution_count": 16,
   "metadata": {},
   "outputs": [
    {
     "name": "stdout",
     "output_type": "stream",
     "text": [
      "Counter({'MISC': 56, 'PER': 44, 'LOC': 37, 'ORG': 36})\n",
      "Counter({'MISC': 419, 'LOC': 134, 'PER': 67, 'ORG': 25})\n",
      "Counter({'MISC': 21, 'LOC': 11, 'PER': 8, 'ORG': 2})\n"
     ]
    }
   ],
   "source": [
    "# Contar etiquetas por dataset\n",
    "freq_noticias = count_entity_labels(df_noticias_sampled)\n",
    "freq_recetas = count_entity_labels(df_recetas_sampled)\n",
    "freq_suicidio = count_entity_labels(df_suicidio_sampled)\n",
    "\n",
    "print(freq_noticias)  \n",
    "print(freq_recetas)\n",
    "print(freq_suicidio)\n"
   ]
  },
  {
   "cell_type": "code",
   "execution_count": 17,
   "metadata": {},
   "outputs": [],
   "source": [
    "def explain_entity_labels(freq):\n",
    "    \"\"\"\n",
    "    Imprime el significado de cada etiqueta de entidad encontrada en un dataset.\n",
    "\n",
    "    Parameters\n",
    "    ----------\n",
    "    freq : collections.Counter\n",
    "        Diccionario con la frecuencia de cada tipo de entidad.\n",
    "\n",
    "    Returns\n",
    "    -------\n",
    "    None\n",
    "        Muestra en pantalla cada etiqueta junto con su descripción.\n",
    "    \"\"\"\n",
    "    print(\"\\nSignificado de las etiquetas NER detectadas:\\n\")\n",
    "    for label in freq.keys():\n",
    "        description = spacy.explain(label)\n",
    "        if description:\n",
    "            print(f\"{label} --> {description}\")\n",
    "        else:\n",
    "            print(f\"{label} --> Descripción no encontrada en spaCy.\")"
   ]
  },
  {
   "cell_type": "code",
   "execution_count": 18,
   "metadata": {},
   "outputs": [
    {
     "name": "stdout",
     "output_type": "stream",
     "text": [
      "Dataset Noticias:\n",
      "\n",
      "Significado de las etiquetas NER detectadas:\n",
      "\n",
      "PER --> Named person or family.\n",
      "MISC --> Miscellaneous entities, e.g. events, nationalities, products or works of art\n",
      "LOC --> Non-GPE locations, mountain ranges, bodies of water\n",
      "ORG --> Companies, agencies, institutions, etc.\n",
      "\n",
      "Dataset Recetas:\n",
      "\n",
      "Significado de las etiquetas NER detectadas:\n",
      "\n",
      "PER --> Named person or family.\n",
      "MISC --> Miscellaneous entities, e.g. events, nationalities, products or works of art\n",
      "LOC --> Non-GPE locations, mountain ranges, bodies of water\n",
      "ORG --> Companies, agencies, institutions, etc.\n",
      "\n",
      "Dataset Comentarios Suicidas:\n",
      "\n",
      "Significado de las etiquetas NER detectadas:\n",
      "\n",
      "MISC --> Miscellaneous entities, e.g. events, nationalities, products or works of art\n",
      "PER --> Named person or family.\n",
      "ORG --> Companies, agencies, institutions, etc.\n",
      "LOC --> Non-GPE locations, mountain ranges, bodies of water\n"
     ]
    }
   ],
   "source": [
    "# Aplicar la función a cada dataset\n",
    "print(\"Dataset Noticias:\")\n",
    "explain_entity_labels(freq_noticias)\n",
    "\n",
    "print(\"\\nDataset Recetas:\")\n",
    "explain_entity_labels(freq_recetas)\n",
    "\n",
    "print(\"\\nDataset Comentarios Suicidas:\")\n",
    "explain_entity_labels(freq_suicidio)"
   ]
  },
  {
   "cell_type": "code",
   "execution_count": 22,
   "metadata": {},
   "outputs": [],
   "source": [
    "def plot_entity_distribution(freq, dataset_name):\n",
    "    \"\"\"\n",
    "    Genera un gráfico de barras con la distribución de entidades nombradas.\n",
    "\n",
    "    Parameters\n",
    "    ----------\n",
    "    freq : collections.Counter\n",
    "        Diccionario con la frecuencia de cada entidad extraída.\n",
    "    dataset_name : str\n",
    "        Nombre del dataset analizado (para etiquetar la gráfica).\n",
    "\n",
    "    Returns\n",
    "    -------\n",
    "    None\n",
    "        Muestra un gráfico de barras con la distribución de entidades.\n",
    "    \"\"\"\n",
    "    if not freq:\n",
    "        print(f\"No se encontraron entidades en {dataset_name}.\")\n",
    "        return\n",
    "\n",
    "    labels, values = zip(*freq.items())  # Extraer etiquetas y sus frecuencias\n",
    "    \n",
    "    plt.figure(figsize=(10, 5))\n",
    "    plt.bar(labels, values)\n",
    "    plt.title(f\"Distribución de entidades en {dataset_name}\")\n",
    "    plt.xticks(rotation=45)\n",
    "    plt.xlabel(\"Tipo de entidad\")\n",
    "    plt.ylabel(\"Frecuencia\")\n",
    "    plt.show()\n"
   ]
  },
  {
   "cell_type": "code",
   "execution_count": 21,
   "metadata": {},
   "outputs": [
    {
     "data": {
      "image/png": "[encoded data removed]",
      "text/plain": [
       "<Figure size 1000x500 with 1 Axes>"
      ]
     },
     "metadata": {},
     "output_type": "display_data"
    },
    {
     "data": {
      "image/png": "[encoded data removed]",
      "text/plain": [
       "<Figure size 1000x500 with 1 Axes>"
      ]
     },
     "metadata": {},
     "output_type": "display_data"
    },
    {
     "data": {
      "image/png": "[encoded data removed]",
      "text/plain": [
       "<Figure size 1000x500 with 1 Axes>"
      ]
     },
     "metadata": {},
     "output_type": "display_data"
    }
   ],
   "source": [
    "# Graficar distribución de entidades en cada dataset\n",
    "plot_entity_distribution(freq_noticias, \"Dataset de Noticias\")\n",
    "plot_entity_distribution(freq_recetas, \"Dataset de Recetas\")\n",
    "plot_entity_distribution(freq_suicidio, \"Dataset de Comentarios Suicidas\")"
   ]
  },
  {
   "cell_type": "markdown",
   "metadata": {},
   "source": [
    "#### Conclusiones\n",
    "\n",
    "1. **Dataset de Noticias**\n",
    "\n",
    "    El modelo de spaCy presentó un desempeño sólido en este dataset, logrando identificar correctamente organizaciones (ORG), ubicaciones (LOC) y otras entidades relevantes dentro del contexto informativo. Esto era de esperarse, ya que el modelo ha sido entrenado con datos similares a los textos periodísticos, lo que le permite reconocer con precisión nombres de países, instituciones y términos económicos. Si bien se encontraron algunos errores menores, en general, la clasificación fue confiable y sin un uso excesivo de etiquetas erróneas. En este contexto, el modelo puede considerarse una herramienta útil para la extracción de entidades en noticias.\n",
    "\n",
    "2. **Dataset de Recetas**\n",
    "\n",
    "    El reconocimiento de entidades en este dataset fue considerablemente menos preciso. El modelo identificó incorrectamente varios verbos y términos culinarios como nombres de lugares o categorías misceláneas, lo que sugiere una falta de adaptación a este dominio. Palabras como \"Batimos\" y \"Calentar\" fueron etiquetadas como ubicaciones (LOC), lo que indica que el modelo no pudo diferenciar entre acciones y nombres propios dentro del contexto gastronómico. Además, la etiqueta MISC fue asignada con demasiada frecuencia, lo que sugiere que el modelo estaba \"adivinando\" categorías en lugar de hacer una identificación clara. Para mejorar la precisión en este tipo de textos, sería recomendable entrenar un modelo especializado en terminología de cocina o utilizar enfoques más adaptados al contexto.\n",
    "\n",
    "3. **Dataset de Comentarios Suicidas**\n",
    "\n",
    "    El desempeño del modelo en este dataset fue adecuado, ya que no identificó entidades de manera excesiva ni forzó etiquetas en textos donde no había nombres propios relevantes. Dado que estos comentarios no suelen contener nombres de lugares, organizaciones o personas, el hecho de que el modelo haya realizado pocas detecciones sugiere que está operando con un criterio razonable. Si bien hubo algunas etiquetas que podrían considerarse innecesarias, en términos generales, el modelo no cometió errores graves. Esto indica que, en textos conversacionales o de carácter subjetivo, spaCy tiende a ser más conservador en la identificación de entidades, lo cual puede ser ventajoso en ciertos escenarios."
   ]
  }
 ],
 "metadata": {
  "kernelspec": {
   "display_name": "Python 3",
   "language": "python",
   "name": "python3"
  },
  "language_info": {
   "codemirror_mode": {
    "name": "ipython",
    "version": 3
   },
   "file_extension": ".py",
   "mimetype": "text/x-python",
   "name": "python",
   "nbconvert_exporter": "python",
   "pygments_lexer": "ipython3",
   "version": "3.10.11"
  }
 },
 "nbformat": 4,
 "nbformat_minor": 2
}
