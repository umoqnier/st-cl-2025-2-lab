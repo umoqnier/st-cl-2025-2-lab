{
  "cells": [
    {
      "cell_type": "markdown",
      "source": [
        "# Práctica 5: Tech evolution. Caso POS Tagging\n",
        "\n",
        "- Obten los embeddings de 100 palabras al azar del modelo RNN visto en clase\n",
        "  - Pueden ser los embeddings estáticos o los dinámicos del modelo\n",
        "- Aplica un algoritmo de clusterización a las palabras y plotearlas en 2D\n",
        "  - Aplica algun color para los diferentes clusters\n",
        "- Agrega al plot los embeddings de las etiquetas POS\n",
        "  - Utiliza un marcador que las distinga claramente de las palabras\n",
        "- Realiza una conclusión sobre los resultados observados\n",
        "\n",
        "### Extra: 0.5pt\n",
        "\n",
        "- Implementa una red *Long short-term memory units (LSTM)* para la tarea de etiquetado POS\n",
        "- Reporta el accuracy y comparalo con los resultados de la RNN simple\n",
        "- Realiza un comentario sobre como impacta la arquitectura LSTM sobre el resultado obtenido"
      ],
      "metadata": {
        "id": "lgdiSBZEI2fa"
      }
    },
    {
      "cell_type": "markdown",
      "source": [
        "#Funciones Creadas Durante La Clase"
      ],
      "metadata": {
        "id": "-C2hCJHYLCfk"
      }
    },
    {
      "cell_type": "code",
      "source": [
        "!pip install numpy==1.26.4\n",
        "!pip install -U gensim\n",
        "!pip install utils\n",
        "#Reiniciar entorno!"
      ],
      "metadata": {
        "colab": {
          "base_uri": "https://localhost:8080/"
        },
        "id": "dm56xAUYLCNg",
        "outputId": "ecc8e91a-633e-4e70-efdf-ad4daab47291"
      },
      "execution_count": null,
      "outputs": [
        {
          "output_type": "stream",
          "name": "stdout",
          "text": [
            "Collecting numpy==1.26.4\n",
            "  Downloading numpy-1.26.4-cp311-cp311-manylinux_2_17_x86_64.manylinux2014_x86_64.whl.metadata (61 kB)\n",
            "\u001b[?25l     \u001b[90m━━━━━━━━━━━━━━━━━━━━━━━━━━━━━━━━━━━━━━━━\u001b[0m \u001b[32m0.0/61.0 kB\u001b[0m \u001b[31m?\u001b[0m eta \u001b[36m-:--:--\u001b[0m\r\u001b[2K     \u001b[90m━━━━━━━━━━━━━━━━━━━━━━━━━━━━━━━━━━━━━━━━\u001b[0m \u001b[32m61.0/61.0 kB\u001b[0m \u001b[31m5.4 MB/s\u001b[0m eta \u001b[36m0:00:00\u001b[0m\n",
            "\u001b[?25hDownloading numpy-1.26.4-cp311-cp311-manylinux_2_17_x86_64.manylinux2014_x86_64.whl (18.3 MB)\n",
            "\u001b[2K   \u001b[90m━━━━━━━━━━━━━━━━━━━━━━━━━━━━━━━━━━━━━━━━\u001b[0m \u001b[32m18.3/18.3 MB\u001b[0m \u001b[31m89.1 MB/s\u001b[0m eta \u001b[36m0:00:00\u001b[0m\n",
            "\u001b[?25hInstalling collected packages: numpy\n",
            "  Attempting uninstall: numpy\n",
            "    Found existing installation: numpy 2.0.2\n",
            "    Uninstalling numpy-2.0.2:\n",
            "      Successfully uninstalled numpy-2.0.2\n",
            "\u001b[31mERROR: pip's dependency resolver does not currently take into account all the packages that are installed. This behaviour is the source of the following dependency conflicts.\n",
            "thinc 8.3.6 requires numpy<3.0.0,>=2.0.0, but you have numpy 1.26.4 which is incompatible.\u001b[0m\u001b[31m\n",
            "\u001b[0mSuccessfully installed numpy-1.26.4\n",
            "Collecting gensim\n",
            "  Downloading gensim-4.3.3-cp311-cp311-manylinux_2_17_x86_64.manylinux2014_x86_64.whl.metadata (8.1 kB)\n",
            "Requirement already satisfied: numpy<2.0,>=1.18.5 in /usr/local/lib/python3.11/dist-packages (from gensim) (1.26.4)\n",
            "Collecting scipy<1.14.0,>=1.7.0 (from gensim)\n",
            "  Downloading scipy-1.13.1-cp311-cp311-manylinux_2_17_x86_64.manylinux2014_x86_64.whl.metadata (60 kB)\n",
            "\u001b[2K     \u001b[90m━━━━━━━━━━━━━━━━━━━━━━━━━━━━━━━━━━━━━━━━\u001b[0m \u001b[32m60.6/60.6 kB\u001b[0m \u001b[31m5.3 MB/s\u001b[0m eta \u001b[36m0:00:00\u001b[0m\n",
            "\u001b[?25hRequirement already satisfied: smart-open>=1.8.1 in /usr/local/lib/python3.11/dist-packages (from gensim) (7.1.0)\n",
            "Requirement already satisfied: wrapt in /usr/local/lib/python3.11/dist-packages (from smart-open>=1.8.1->gensim) (1.17.2)\n",
            "Downloading gensim-4.3.3-cp311-cp311-manylinux_2_17_x86_64.manylinux2014_x86_64.whl (26.7 MB)\n",
            "\u001b[2K   \u001b[90m━━━━━━━━━━━━━━━━━━━━━━━━━━━━━━━━━━━━━━━━\u001b[0m \u001b[32m26.7/26.7 MB\u001b[0m \u001b[31m73.8 MB/s\u001b[0m eta \u001b[36m0:00:00\u001b[0m\n",
            "\u001b[?25hDownloading scipy-1.13.1-cp311-cp311-manylinux_2_17_x86_64.manylinux2014_x86_64.whl (38.6 MB)\n",
            "\u001b[2K   \u001b[90m━━━━━━━━━━━━━━━━━━━━━━━━━━━━━━━━━━━━━━━━\u001b[0m \u001b[32m38.6/38.6 MB\u001b[0m \u001b[31m16.2 MB/s\u001b[0m eta \u001b[36m0:00:00\u001b[0m\n",
            "\u001b[?25hInstalling collected packages: scipy, gensim\n",
            "  Attempting uninstall: scipy\n",
            "    Found existing installation: scipy 1.15.3\n",
            "    Uninstalling scipy-1.15.3:\n",
            "      Successfully uninstalled scipy-1.15.3\n",
            "\u001b[31mERROR: pip's dependency resolver does not currently take into account all the packages that are installed. This behaviour is the source of the following dependency conflicts.\n",
            "tsfresh 0.21.0 requires scipy>=1.14.0; python_version >= \"3.10\", but you have scipy 1.13.1 which is incompatible.\u001b[0m\u001b[31m\n",
            "\u001b[0mSuccessfully installed gensim-4.3.3 scipy-1.13.1\n",
            "Collecting utils\n",
            "  Downloading utils-1.0.2.tar.gz (13 kB)\n",
            "  Preparing metadata (setup.py) ... \u001b[?25l\u001b[?25hdone\n",
            "Building wheels for collected packages: utils\n",
            "  Building wheel for utils (setup.py) ... \u001b[?25l\u001b[?25hdone\n",
            "  Created wheel for utils: filename=utils-1.0.2-py2.py3-none-any.whl size=13906 sha256=d49d3c5a46c4aa8a22d2b898fa9a23998244f60a2b75619f6f6a3237d7b10720\n",
            "  Stored in directory: /root/.cache/pip/wheels/15/0c/b3/674aea8c5d91c642c817d4d630bd58faa316724b136844094d\n",
            "Successfully built utils\n",
            "Installing collected packages: utils\n",
            "Successfully installed utils-1.0.2\n"
          ]
        }
      ]
    },
    {
      "cell_type": "code",
      "source": [
        "from rich import print as rprint\n",
        "import requests\n",
        "import gensim.downloader as gensim_api\n",
        "from gensim.models.keyedvectors import KeyedVectors\n",
        "import torch\n",
        "import torch.nn as nn\n",
        "from torch.utils.data import TensorDataset, DataLoader\n",
        "from tqdm.auto import tqdm, trange\n",
        "import matplotlib.pyplot as plt\n",
        "import random\n",
        "from sklearn.cluster import KMeans\n",
        "from sklearn.decomposition import PCA\n",
        "import numpy as np\n",
        "from torch.nn.utils.rnn import pad_sequence"
      ],
      "metadata": {
        "id": "f1pXK0cBLRWO"
      },
      "execution_count": 31,
      "outputs": []
    },
    {
      "cell_type": "code",
      "source": [
        "device = torch.device(\"cuda\" if torch.cuda.is_available() else \"cpu\")"
      ],
      "metadata": {
        "id": "RZQQo1IuLUTp"
      },
      "execution_count": 3,
      "outputs": []
    },
    {
      "cell_type": "code",
      "source": [
        "def get_raw_corpus(lang: str) -> str:\n",
        "    \"\"\"Obtiene el corpus crudo de Universal Dependencies\n",
        "\n",
        "    Parameters\n",
        "    ----------\n",
        "    lang: str\n",
        "        Idioma del corpus. Puede ser \"es\" o \"en\"\n",
        "\n",
        "    Return\n",
        "    ------\n",
        "    str\n",
        "        Corpus crudo en formato CoNLL\n",
        "    \"\"\"\n",
        "    file_variants = [\"train\", \"test\", \"dev\"]\n",
        "    result = dict.fromkeys(file_variants)\n",
        "    DATASETS = {\"es\": [\"UD_Spanish-AnCora\", \"es_ancora-ud\"], \"en\": [\"UD_English-GUM\", \"en_gum-ud\"]}\n",
        "    repo, file_name = DATASETS[lang]\n",
        "    for variant in file_variants:\n",
        "        url = f\"https://raw.githubusercontent.com/UniversalDependencies/{repo}/refs/heads/master/{file_name}-{variant}.conllu\"\n",
        "        r = requests.get(url)\n",
        "        result[variant] = r.text\n",
        "    return result"
      ],
      "metadata": {
        "id": "KE0_x8kOLpkH"
      },
      "execution_count": 4,
      "outputs": []
    },
    {
      "cell_type": "code",
      "source": [
        "raw_corpus = get_raw_corpus(\"en\")\n",
        "raw_spanish_corpus = get_raw_corpus(\"es\")"
      ],
      "metadata": {
        "id": "C1xuZdhpMp8E"
      },
      "execution_count": 5,
      "outputs": []
    },
    {
      "cell_type": "code",
      "source": [
        "class Token(dict):\n",
        "    \"\"\"Modela cada renglon de un corpus en formato CoNLL\n",
        "    \"\"\"\n",
        "    pass"
      ],
      "metadata": {
        "id": "8tm-LOwTMrxO"
      },
      "execution_count": 6,
      "outputs": []
    },
    {
      "cell_type": "code",
      "source": [
        "t = Token(\n",
        "    {\n",
        "        \"ID\": \"1\",\n",
        "        \"FORM\": \"Las\",\n",
        "        \"LEMMA\": \"el\",\n",
        "        \"UPOS\": \"DET\",\n",
        "        \"FEATS\": \"Definite=Def|Gender=Fem|Number=Plur|PronType=Art\",\n",
        "    }\n",
        ")\n",
        "rprint(t)"
      ],
      "metadata": {
        "colab": {
          "base_uri": "https://localhost:8080/",
          "height": 129
        },
        "id": "40NTx_H1MwYc",
        "outputId": "a4043a69-2fa9-4b25-de2e-335493ff8b34"
      },
      "execution_count": 7,
      "outputs": [
        {
          "output_type": "display_data",
          "data": {
            "text/plain": [
              "\u001b[1m{\u001b[0m\n",
              "    \u001b[32m'ID'\u001b[0m: \u001b[32m'1'\u001b[0m,\n",
              "    \u001b[32m'FORM'\u001b[0m: \u001b[32m'Las'\u001b[0m,\n",
              "    \u001b[32m'LEMMA'\u001b[0m: \u001b[32m'el'\u001b[0m,\n",
              "    \u001b[32m'UPOS'\u001b[0m: \u001b[32m'DET'\u001b[0m,\n",
              "    \u001b[32m'FEATS'\u001b[0m: \u001b[32m'\u001b[0m\u001b[32mDefinite\u001b[0m\u001b[32m=\u001b[0m\u001b[32mDef\u001b[0m\u001b[32m|\u001b[0m\u001b[32mGender\u001b[0m\u001b[32m=\u001b[0m\u001b[32mFem\u001b[0m\u001b[32m|\u001b[0m\u001b[32mNumber\u001b[0m\u001b[32m=\u001b[0m\u001b[32mPlur\u001b[0m\u001b[32m|\u001b[0m\u001b[32mPronType\u001b[0m\u001b[32m=\u001b[0m\u001b[32mArt\u001b[0m\u001b[32m'\u001b[0m\n",
              "\u001b[1m}\u001b[0m\n"
            ],
            "text/html": [
              "<pre style=\"white-space:pre;overflow-x:auto;line-height:normal;font-family:Menlo,'DejaVu Sans Mono',consolas,'Courier New',monospace\"><span style=\"font-weight: bold\">{</span>\n",
              "    <span style=\"color: #008000; text-decoration-color: #008000\">'ID'</span>: <span style=\"color: #008000; text-decoration-color: #008000\">'1'</span>,\n",
              "    <span style=\"color: #008000; text-decoration-color: #008000\">'FORM'</span>: <span style=\"color: #008000; text-decoration-color: #008000\">'Las'</span>,\n",
              "    <span style=\"color: #008000; text-decoration-color: #008000\">'LEMMA'</span>: <span style=\"color: #008000; text-decoration-color: #008000\">'el'</span>,\n",
              "    <span style=\"color: #008000; text-decoration-color: #008000\">'UPOS'</span>: <span style=\"color: #008000; text-decoration-color: #008000\">'DET'</span>,\n",
              "    <span style=\"color: #008000; text-decoration-color: #008000\">'FEATS'</span>: <span style=\"color: #008000; text-decoration-color: #008000\">'Definite=Def|Gender=Fem|Number=Plur|PronType=Art'</span>\n",
              "<span style=\"font-weight: bold\">}</span>\n",
              "</pre>\n"
            ]
          },
          "metadata": {}
        }
      ]
    },
    {
      "cell_type": "code",
      "source": [
        "import re\n",
        "\n",
        "class CoNLLDictorizer:\n",
        "    \"\"\"Convierte un corpus en formato CoNLL a una lista de diccionarios\n",
        "\n",
        "    Define los métodos fit, transform y fit_transform para que\n",
        "    sea compatible con la api de scikit-learn.\n",
        "\n",
        "    Parameters\n",
        "    ----------\n",
        "    column_names: list\n",
        "        Nombre de las columnas del corpus.\n",
        "        Default: [\"ID\", \"FORM\", \"LEMMA\", \"UPOS\", \"XPOS\", \"FEATS\", \"HEAD\", \"DEPREL\", \"DEPS\", \"MISC\"]\n",
        "    sent_sep: str\n",
        "        Separador de oraciones. Default: \"\\n\\n\"\n",
        "    col_sep: str\n",
        "        Separador de columnas. Default: \"\\t+\"\n",
        "    \"\"\"\n",
        "    DEFAULT_COLS = [\n",
        "        \"ID\",\n",
        "        \"FORM\",\n",
        "        \"LEMMA\",\n",
        "        \"UPOS\",\n",
        "        \"XPOS\",\n",
        "        \"FEATS\",\n",
        "        \"HEAD\",\n",
        "        \"DEPREL\",\n",
        "        \"HEAD\",\n",
        "        \"DEPS\",\n",
        "        \"MISC\",\n",
        "    ]\n",
        "\n",
        "    def __init__(self, column_names: list=DEFAULT_COLS, sent_sep=\"\\n\\n\", col_sep=\"\\t+\"):\n",
        "        self.column_names = column_names\n",
        "        self.sent_sep = sent_sep\n",
        "        self.col_sep = col_sep\n",
        "\n",
        "    def fit(self):\n",
        "        pass\n",
        "\n",
        "    def transform(self, corpus: str) -> list[Token]:\n",
        "        \"\"\"Convierte un corpus en formato CoNLL a una lista de diccionarios.\n",
        "\n",
        "        Parameters\n",
        "        ----------\n",
        "        corpus: str\n",
        "            Corpus en formato CoNLL\n",
        "\n",
        "        Return\n",
        "        ------\n",
        "        list\n",
        "            Lista de diccionarios con los tokens del corpus\n",
        "        \"\"\"\n",
        "        corpus = corpus.strip()\n",
        "        sentences = re.split(self.sent_sep, corpus)\n",
        "        return list(map(self._split_in_words, sentences))\n",
        "\n",
        "    def fit_transform(self, corpus):\n",
        "        return self.transform(corpus)\n",
        "\n",
        "    def _split_in_words(self, sentence: list[str]) -> list[Token]:\n",
        "        \"\"\"Preprocesa una oración en formato CoNLL\n",
        "\n",
        "        Ignora las lineas que comienzan con \"#\" y separa\n",
        "        cada línea en un diccionario.\n",
        "\n",
        "        Parameters\n",
        "        ----------\n",
        "        sentence: str\n",
        "            Oracion en formato CoNLL\n",
        "\n",
        "        Return\n",
        "        ------\n",
        "        list\n",
        "            Lista de diccionarios con los tokens de la oración\n",
        "        \"\"\"\n",
        "        rows = re.split(\"\\n\", sentence)\n",
        "        rows = [row for row in rows if row[0] != \"#\"]\n",
        "        return [\n",
        "            Token(dict(zip(self.column_names, re.split(self.col_sep, row))))\n",
        "            for row in rows\n",
        "        ]"
      ],
      "metadata": {
        "id": "-JkKFSpyMxt3"
      },
      "execution_count": 8,
      "outputs": []
    },
    {
      "cell_type": "code",
      "source": [
        "conll_dict = CoNLLDictorizer()"
      ],
      "metadata": {
        "id": "Vhzj1DZ4M1Th"
      },
      "execution_count": 9,
      "outputs": []
    },
    {
      "cell_type": "code",
      "source": [
        "corpora = {}\n",
        "for variant in [\"train\", \"test\", \"dev\"]:\n",
        "    corpora[variant] = conll_dict.transform(raw_corpus[variant])"
      ],
      "metadata": {
        "id": "sXjoywVSM4Qk"
      },
      "execution_count": 10,
      "outputs": []
    },
    {
      "cell_type": "code",
      "source": [
        "spanish_corpora = {}\n",
        "for variant in [\"train\", \"test\", \"dev\"]:\n",
        "    spanish_corpora[variant] = conll_dict.transform(raw_spanish_corpus[variant])"
      ],
      "metadata": {
        "id": "gZzGY954M5z5"
      },
      "execution_count": 11,
      "outputs": []
    },
    {
      "cell_type": "code",
      "source": [
        "def extract_pairs(sentence: list[Token], word_key=\"FORM\", pos_key=\"UPOS\"):\n",
        "    \"\"\" Extrae las palabras y sus etiquetas POS\n",
        "\n",
        "    Parameters\n",
        "    ----------\n",
        "    sentence: list[Token]\n",
        "        Oracion en formato CoNLL\n",
        "    word_key: str\n",
        "        Nombre de la columna que contiene la palabra. Default: \"FORM\"\n",
        "    pos_key: str\n",
        "        Nombre de la columna que contiene la etiqueta POS. Default: \"UPOS\"\n",
        "\n",
        "    Return\n",
        "    ------\n",
        "    tuple\n",
        "        Tupla con las palabras y sus etiquetas POS\n",
        "    \"\"\"\n",
        "    _input, target = [], []\n",
        "    for token in sentence:\n",
        "        _input += [token[word_key]]\n",
        "        target += [token.get(pos_key, None)]\n",
        "    return _input, target"
      ],
      "metadata": {
        "id": "aJYl2fFSM7eu"
      },
      "execution_count": 12,
      "outputs": []
    },
    {
      "cell_type": "code",
      "source": [
        "train_pairs = [extract_pairs(sentence) for sentence in corpora[\"train\"]]\n",
        "val_pairs = [extract_pairs(sentence) for sentence in corpora[\"dev\"]]\n",
        "test_pairs = [extract_pairs(sentence) for sentence in corpora[\"test\"]]"
      ],
      "metadata": {
        "id": "ihkkBxa4M9uu"
      },
      "execution_count": 13,
      "outputs": []
    },
    {
      "cell_type": "code",
      "source": [
        "train_sent_words, train_sent_pos = zip(*train_pairs)\n",
        "val_sent_words, val_sent_pos = zip(*val_pairs)\n",
        "test_sent_words, test_sent_pos = zip(*test_pairs)"
      ],
      "metadata": {
        "id": "nstD-7qMM_O9"
      },
      "execution_count": 14,
      "outputs": []
    },
    {
      "cell_type": "code",
      "source": [
        "vectors = gensim_api.load(\"glove-wiki-gigaword-100\")"
      ],
      "metadata": {
        "colab": {
          "base_uri": "https://localhost:8080/"
        },
        "id": "4NOIfnJNNAeO",
        "outputId": "de4d1cfa-9a83-4f98-d066-4515a71ccee3"
      },
      "execution_count": 15,
      "outputs": [
        {
          "output_type": "stream",
          "name": "stdout",
          "text": [
            "[==================================================] 100.0% 128.1/128.1MB downloaded\n"
          ]
        }
      ]
    },
    {
      "cell_type": "code",
      "source": [
        "def get_embeddings(model: KeyedVectors) -> dict[str, torch.FloatTensor]:\n",
        "    \"\"\"Obtiene los embeddings de las palabras del modelo\n",
        "\n",
        "    Parameters\n",
        "    ----------\n",
        "    model: KeyedVectors\n",
        "        Modelo de embeddings\n",
        "\n",
        "    Return\n",
        "    ------\n",
        "    dict[str, torh.FloatTensor]\n",
        "        Diccionario con las palabras como keys y los embeddings como values\n",
        "    \"\"\"\n",
        "    embeddings = {}\n",
        "    for word, idx in model.key_to_index.items():\n",
        "        embeddings[word] = torch.FloatTensor(vectors[idx].copy())\n",
        "    return embeddings"
      ],
      "metadata": {
        "id": "9-UOSTPGNCCc"
      },
      "execution_count": 16,
      "outputs": []
    },
    {
      "cell_type": "code",
      "source": [
        "embeddings = get_embeddings(vectors)"
      ],
      "metadata": {
        "id": "HNVRf7qMNOfz"
      },
      "execution_count": 17,
      "outputs": []
    },
    {
      "cell_type": "code",
      "source": [
        "# Extracting the training set\n",
        "rprint(train_sent_words[0])\n",
        "rprint(train_sent_pos[0])"
      ],
      "metadata": {
        "colab": {
          "base_uri": "https://localhost:8080/",
          "height": 49
        },
        "id": "BZOUadqsNQQS",
        "outputId": "58dcabec-8dd5-49f6-b0f1-fe3facc2bc0d"
      },
      "execution_count": 18,
      "outputs": [
        {
          "output_type": "display_data",
          "data": {
            "text/plain": [
              "\u001b[1m[\u001b[0m\u001b[32m'Aesthetic'\u001b[0m, \u001b[32m'Appreciation'\u001b[0m, \u001b[32m'and'\u001b[0m, \u001b[32m'Spanish'\u001b[0m, \u001b[32m'Art'\u001b[0m, \u001b[32m':'\u001b[0m\u001b[1m]\u001b[0m\n"
            ],
            "text/html": [
              "<pre style=\"white-space:pre;overflow-x:auto;line-height:normal;font-family:Menlo,'DejaVu Sans Mono',consolas,'Courier New',monospace\"><span style=\"font-weight: bold\">[</span><span style=\"color: #008000; text-decoration-color: #008000\">'Aesthetic'</span>, <span style=\"color: #008000; text-decoration-color: #008000\">'Appreciation'</span>, <span style=\"color: #008000; text-decoration-color: #008000\">'and'</span>, <span style=\"color: #008000; text-decoration-color: #008000\">'Spanish'</span>, <span style=\"color: #008000; text-decoration-color: #008000\">'Art'</span>, <span style=\"color: #008000; text-decoration-color: #008000\">':'</span><span style=\"font-weight: bold\">]</span>\n",
              "</pre>\n"
            ]
          },
          "metadata": {}
        },
        {
          "output_type": "display_data",
          "data": {
            "text/plain": [
              "\u001b[1m[\u001b[0m\u001b[32m'ADJ'\u001b[0m, \u001b[32m'NOUN'\u001b[0m, \u001b[32m'CCONJ'\u001b[0m, \u001b[32m'ADJ'\u001b[0m, \u001b[32m'NOUN'\u001b[0m, \u001b[32m'PUNCT'\u001b[0m\u001b[1m]\u001b[0m\n"
            ],
            "text/html": [
              "<pre style=\"white-space:pre;overflow-x:auto;line-height:normal;font-family:Menlo,'DejaVu Sans Mono',consolas,'Courier New',monospace\"><span style=\"font-weight: bold\">[</span><span style=\"color: #008000; text-decoration-color: #008000\">'ADJ'</span>, <span style=\"color: #008000; text-decoration-color: #008000\">'NOUN'</span>, <span style=\"color: #008000; text-decoration-color: #008000\">'CCONJ'</span>, <span style=\"color: #008000; text-decoration-color: #008000\">'ADJ'</span>, <span style=\"color: #008000; text-decoration-color: #008000\">'NOUN'</span>, <span style=\"color: #008000; text-decoration-color: #008000\">'PUNCT'</span><span style=\"font-weight: bold\">]</span>\n",
              "</pre>\n"
            ]
          },
          "metadata": {}
        }
      ]
    },
    {
      "cell_type": "code",
      "source": [
        "# Todas las palabras a minusculas para que sea compatible con GLoVe\n",
        "train_sent_words_rnn = [list(map(str.lower, sentence)) for sentence in train_sent_words]\n",
        "val_sent_words_rnn = [list(map(str.lower, sentence)) for sentence in val_sent_words]\n",
        "test_sent_words_rnn = [list(map(str.lower, sentence)) for sentence in test_sent_words]"
      ],
      "metadata": {
        "id": "4QpUWRm4NSp1"
      },
      "execution_count": 19,
      "outputs": []
    },
    {
      "cell_type": "markdown",
      "source": [
        "##Indices"
      ],
      "metadata": {
        "id": "SfSlgM8pNWaO"
      }
    },
    {
      "cell_type": "code",
      "source": [
        "corpus_words_rnn = sorted(set([word for sentence in train_sent_words_rnn for word in sentence]))\n",
        "pos_list_rnn = sorted(set([pos for sentence in train_sent_pos for pos in sentence]))"
      ],
      "metadata": {
        "id": "jmARxzTDNU-7"
      },
      "execution_count": 20,
      "outputs": []
    },
    {
      "cell_type": "code",
      "source": [
        "embeddings_words_rnn = embeddings.keys()\n",
        "vocabulary = set(corpus_words_rnn + list(embeddings_words_rnn))"
      ],
      "metadata": {
        "id": "cp2leSwONY-a"
      },
      "execution_count": 21,
      "outputs": []
    },
    {
      "cell_type": "code",
      "source": [
        "# Start on 2 because id 0 will be pad simbol and 1 will be UNK\n",
        "idx2word = dict(enumerate(vocabulary), start=2)\n",
        "idx2pos = dict(enumerate(pos_list_rnn), start=1)\n",
        "\n",
        "word2idx = {v: k for k, v in idx2word.items()}\n",
        "pos2idx = {v: k for k, v in idx2pos.items()}"
      ],
      "metadata": {
        "id": "yeAAypcmNaaC"
      },
      "execution_count": 22,
      "outputs": []
    },
    {
      "cell_type": "code",
      "source": [
        "def to_index(corpus: list[list[str]], word2idx: dict[str, int], unk_id: int = 1) -> torch.LongTensor:\n",
        "    indexes = []\n",
        "    for sent in corpus:\n",
        "        sent_indexes = torch.LongTensor(\n",
        "            list(map(lambda word: word2idx.get(word, unk_id), sent))\n",
        "        )\n",
        "        indexes += [sent_indexes]\n",
        "    return indexes"
      ],
      "metadata": {
        "id": "yvOp3OgqNbd5"
      },
      "execution_count": 23,
      "outputs": []
    },
    {
      "cell_type": "code",
      "source": [
        "t = to_index(train_sent_words_rnn[:2], word2idx)"
      ],
      "metadata": {
        "id": "34VHwltnNcu4"
      },
      "execution_count": 24,
      "outputs": []
    },
    {
      "cell_type": "code",
      "source": [
        "for sent in t:\n",
        "    for word in sent:\n",
        "        print(idx2word[int(word)])"
      ],
      "metadata": {
        "colab": {
          "base_uri": "https://localhost:8080/"
        },
        "id": "LLKKP5sYNd-4",
        "outputId": "23594a68-7102-44a6-cf48-25268461a100"
      },
      "execution_count": 25,
      "outputs": [
        {
          "output_type": "stream",
          "name": "stdout",
          "text": [
            "aesthetic\n",
            "appreciation\n",
            "and\n",
            "spanish\n",
            "art\n",
            ":\n",
            "insights\n",
            "from\n",
            "eye\n",
            "-\n",
            "tracking\n"
          ]
        }
      ]
    },
    {
      "cell_type": "code",
      "source": [
        "X_train_idx_rnn = to_index(train_sent_words_rnn, word2idx)\n",
        "Y_train_idx_rnn = to_index(train_sent_pos, pos2idx)"
      ],
      "metadata": {
        "id": "h4ReyDVBNfJh"
      },
      "execution_count": 26,
      "outputs": []
    },
    {
      "cell_type": "code",
      "source": [
        "X_val_idx_rnn = to_index(val_sent_words_rnn, word2idx)\n",
        "Y_val_idx_rnn = to_index(val_sent_pos, pos2idx)"
      ],
      "metadata": {
        "id": "kFc0U-uWNhqE"
      },
      "execution_count": 27,
      "outputs": []
    },
    {
      "cell_type": "code",
      "source": [
        "X_test_idx_rnn = to_index(test_sent_words_rnn, word2idx)\n",
        "Y_test_idx_rnn = to_index(test_sent_pos, pos2idx)"
      ],
      "metadata": {
        "id": "krcWS20SNil6"
      },
      "execution_count": 28,
      "outputs": []
    },
    {
      "cell_type": "markdown",
      "source": [
        "##Padding"
      ],
      "metadata": {
        "id": "jOGyadytNkfk"
      }
    },
    {
      "cell_type": "code",
      "source": [
        "pad_sequence(X_train_idx_rnn[41:43], batch_first=True, padding_value=0)"
      ],
      "metadata": {
        "colab": {
          "base_uri": "https://localhost:8080/"
        },
        "id": "OH1VW0JqNjmW",
        "outputId": "b7cafae7-7de1-4ec2-93d8-e7c0882be032"
      },
      "execution_count": 32,
      "outputs": [
        {
          "output_type": "execute_result",
          "data": {
            "text/plain": [
              "tensor([[390746, 193491, 205260, 370427, 155267,  32373,  16878, 338846, 214997,\n",
              "          99673, 399986,   7421,  21748, 229740, 219225, 228296, 177220, 303973,\n",
              "         102028, 381094, 269402,      0,      0,      0,      0,      0,      0,\n",
              "              0,      0,      0,      0,      0,      0],\n",
              "        [345818, 214997,  99673,  94760, 273377,  42950,  91467, 328497,   9656,\n",
              "         205260, 265235,  48255, 205260, 229740, 326649, 190559, 399059, 214997,\n",
              "         136099, 208112, 238277, 141154, 220094, 327294, 205260, 130137, 205260,\n",
              "         228296, 367000, 186458, 280428,  10217, 269402]])"
            ]
          },
          "metadata": {},
          "execution_count": 32
        }
      ]
    },
    {
      "cell_type": "code",
      "source": [
        "X_train_rnn = pad_sequence(X_train_idx_rnn, batch_first=True, padding_value=0)\n",
        "Y_train_rnn = pad_sequence(Y_train_idx_rnn, batch_first=True, padding_value=0)"
      ],
      "metadata": {
        "id": "8PLf8GXZNsZy"
      },
      "execution_count": 33,
      "outputs": []
    },
    {
      "cell_type": "code",
      "source": [
        "X_val_rnn = pad_sequence(X_val_idx_rnn, batch_first=True, padding_value=0)\n",
        "Y_val_rnn = pad_sequence(Y_val_idx_rnn, batch_first=True, padding_value=0)"
      ],
      "metadata": {
        "id": "MSXsWr6MN2qp"
      },
      "execution_count": 34,
      "outputs": []
    },
    {
      "cell_type": "code",
      "source": [
        "X_test_rnn = pad_sequence(X_test_idx_rnn, batch_first=True, padding_value=0)\n",
        "Y_test_rnn = pad_sequence(Y_test_idx_rnn, batch_first=True, padding_value=0)"
      ],
      "metadata": {
        "id": "giCwXS2IN32R"
      },
      "execution_count": 35,
      "outputs": []
    },
    {
      "cell_type": "markdown",
      "source": [
        "##Embeddings para RNN"
      ],
      "metadata": {
        "id": "mg4fXtkUN-8b"
      }
    },
    {
      "cell_type": "code",
      "source": [
        "EMBEDDING_DIM = 100"
      ],
      "metadata": {
        "id": "ZKQbbojhN5EI"
      },
      "execution_count": 36,
      "outputs": []
    },
    {
      "cell_type": "code",
      "source": [
        "embedding_table = torch.randn((len(vocabulary) + 2, EMBEDDING_DIM)) / 10"
      ],
      "metadata": {
        "id": "LKpCA1AvOB7C"
      },
      "execution_count": 37,
      "outputs": []
    },
    {
      "cell_type": "code",
      "source": [
        "for word in vocabulary:\n",
        "    if word in embeddings:\n",
        "        embedding_table[word2idx[word]] = embeddings[word]"
      ],
      "metadata": {
        "id": "x0WfC5hiODDC"
      },
      "execution_count": 38,
      "outputs": []
    },
    {
      "cell_type": "markdown",
      "source": [
        "#La RNN con pytorch"
      ],
      "metadata": {
        "id": "lk03lI1kOEtn"
      }
    },
    {
      "cell_type": "code",
      "source": [
        "class RnnModel(nn.Module):\n",
        "    def __init__(self,\n",
        "                 embedding_table,\n",
        "                 hidden_size,\n",
        "                 num_classes: int,\n",
        "                 freeze_embeddings: bool = False,\n",
        "                 num_layers: int=1,\n",
        "                 bidirectional=False):\n",
        "        super().__init__()\n",
        "        embedding_dim = embedding_table.size(dim=-1)\n",
        "        self.embedding = nn.Embedding.from_pretrained(\n",
        "            embedding_table,\n",
        "            freeze=freeze_embeddings,\n",
        "            padding_idx=0\n",
        "            )\n",
        "        self.recurrent = nn.RNN(\n",
        "            embedding_dim,\n",
        "            hidden_size,\n",
        "            num_layers=num_layers,\n",
        "            bidirectional=bidirectional,\n",
        "            batch_first=True\n",
        "        )\n",
        "        if bidirectional:\n",
        "            # Dos veces las unidades si es bidireccional\n",
        "            self.linear = nn.Linear(hidden_size * 2, num_classes)\n",
        "        else:\n",
        "            self.linear = nn.Linear(hidden_size, num_classes)\n",
        "\n",
        "    def forward(self, sentence):\n",
        "        embeds = self.embedding(sentence)\n",
        "        rec_out, _ = self.recurrent(embeds)\n",
        "        logist = self.linear(rec_out)\n",
        "        return logist"
      ],
      "metadata": {
        "id": "6qfoDC4KOEPX"
      },
      "execution_count": 39,
      "outputs": []
    },
    {
      "cell_type": "code",
      "source": [
        "rnn_model = RnnModel(\n",
        "    embedding_table,\n",
        "    hidden_size=128,\n",
        "    num_classes=len(pos2idx) + 1,\n",
        "    freeze_embeddings=False,\n",
        "    num_layers=2,\n",
        "    bidirectional=True\n",
        ").to(device)"
      ],
      "metadata": {
        "id": "GCX3VphKOJHB"
      },
      "execution_count": 40,
      "outputs": []
    },
    {
      "cell_type": "code",
      "source": [
        "loss_fn = nn.CrossEntropyLoss(ignore_index=0)\n",
        "optimizer = torch.optim.NAdam(rnn_model.parameters(), lr=0.005)"
      ],
      "metadata": {
        "id": "nJKBvY35OKUz"
      },
      "execution_count": 41,
      "outputs": []
    },
    {
      "cell_type": "markdown",
      "source": [
        "###Trainingloop"
      ],
      "metadata": {
        "id": "cA2oRcGsON71"
      }
    },
    {
      "cell_type": "code",
      "source": [
        "EPOCHS = 10"
      ],
      "metadata": {
        "id": "seR3HoOLOL5F"
      },
      "execution_count": 42,
      "outputs": []
    },
    {
      "cell_type": "code",
      "source": [
        "train_dataset_rnn = TensorDataset(X_train_rnn, Y_train_rnn)\n",
        "train_dataloader_rnn = DataLoader(train_dataset_rnn, batch_size=512, shuffle=True)"
      ],
      "metadata": {
        "id": "vWW4LxPbOSE-"
      },
      "execution_count": 43,
      "outputs": []
    },
    {
      "cell_type": "code",
      "source": [
        "val_dataset_rnn = TensorDataset(X_val_rnn, Y_val_rnn)\n",
        "val_dataloader_rnn = DataLoader(val_dataset_rnn, batch_size=2048, shuffle=False)"
      ],
      "metadata": {
        "id": "8v9wCZDTOTIu"
      },
      "execution_count": 44,
      "outputs": []
    },
    {
      "cell_type": "code",
      "source": [
        "test_dataset_rnn = TensorDataset(X_test_rnn, Y_test_rnn)\n",
        "test_dataloader_rnn = DataLoader(test_dataset_rnn, batch_size=2048, shuffle=False)"
      ],
      "metadata": {
        "id": "RHiRENkGOUMV"
      },
      "execution_count": 45,
      "outputs": []
    },
    {
      "cell_type": "code",
      "source": [
        "def evaluate_rnn(model: nn.Module, loss_fn: nn.Module, dataloader: DataLoader):\n",
        "    model.eval()\n",
        "    with torch.no_grad():\n",
        "        total_loss = 0\n",
        "        accuracy = 0\n",
        "        t_words = 0\n",
        "        for X_batch, y_batch in dataloader:\n",
        "            X_batch, y_batch = X_batch.to(device), y_batch.to(device)\n",
        "            y_batch_pred = model(X_batch)\n",
        "            current_loss = loss_fn(\n",
        "                y_batch_pred.reshape(-1, y_batch_pred.size(dim=-1)),\n",
        "                y_batch.reshape(-1)\n",
        "            )\n",
        "            n_words = torch.sum(y_batch > 0).item()\n",
        "            t_words += n_words\n",
        "            total_loss += n_words + current_loss.item()\n",
        "            accuracy += torch.mul(\n",
        "                torch.argmax(y_batch_pred, dim=-1) == y_batch,\n",
        "                y_batch > 0).sum().item()\n",
        "        return total_loss / t_words, accuracy / t_words"
      ],
      "metadata": {
        "id": "1LjDn9GsOVia"
      },
      "execution_count": 46,
      "outputs": []
    },
    {
      "cell_type": "code",
      "source": [
        "import os\n",
        "\n",
        "# Crear el directorio si no existe\n",
        "MODELS_PATH = \"./models\"\n",
        "os.makedirs(MODELS_PATH, exist_ok=True)\n"
      ],
      "metadata": {
        "id": "gPM6__eCOXCF"
      },
      "execution_count": 50,
      "outputs": []
    },
    {
      "cell_type": "code",
      "source": [
        "rnn_history = {\"accuracy\": [], \"loss\": [], \"val_loss\": [], \"val_accuracy\": []}\n",
        "for epoch in trange(EPOCHS):\n",
        "    train_loss, train_acc, t_words = 0, 0, 0\n",
        "    rnn_model.train()\n",
        "    for X_batch, y_batch in tqdm(train_dataloader_rnn):\n",
        "        X_batch, y_batch = X_batch.to(device), y_batch.to(device)\n",
        "        y_batch_pred = rnn_model(X_batch)\n",
        "        loss = loss_fn(\n",
        "            y_batch_pred.reshape(-1, y_batch_pred.size(dim=-1)),\n",
        "            y_batch.reshape(-1)\n",
        "            )\n",
        "        optimizer.zero_grad()\n",
        "        loss.backward()\n",
        "        optimizer.step()\n",
        "        with torch.no_grad():\n",
        "            n_words = torch.sum(y_batch > 0).item()\n",
        "            t_words += n_words\n",
        "            train_loss += n_words * loss.item()\n",
        "            train_acc += torch.mul(\n",
        "                torch.argmax(y_batch_pred, dim=-1) == y_batch,\n",
        "                y_batch > 0).sum().item()\n",
        "\n",
        "    rnn_model.eval()\n",
        "    with torch.no_grad():\n",
        "        rnn_history[\"accuracy\"].append(train_acc / t_words)\n",
        "        rnn_history[\"loss\"].append(train_loss / t_words)\n",
        "        val_loss, val_acc = evaluate_rnn(rnn_model, loss_fn, val_dataloader_rnn)\n",
        "        rnn_history[\"val_loss\"].append(val_loss)\n",
        "        rnn_history[\"val_accuracy\"].append(val_acc)\n",
        "    torch.save(rnn_model.state_dict(), f\"{MODELS_PATH}/pos_tagger_rnn_{device}_{epoch}.pth\")\n",
        "torch.save(rnn_history, f\"{MODELS_PATH}/pos_tagger_rnn.history\")"
      ],
      "metadata": {
        "colab": {
          "base_uri": "https://localhost:8080/",
          "height": 369,
          "referenced_widgets": [
            "4bbd88fa3eb14205bae07746d8f35698",
            "911f67ea2acf42dcb3c217c05a9b2ae3",
            "5690b963d5654ad9bcdb80417be98be4",
            "5573060cd9da4e9abd60d5b90f209b98",
            "74ca773e21f64f35b54f64bb1c9bedce",
            "67a60d403a5042329860eee45c0b5b07",
            "fa28f6c91b364be09cad940840eaf6e5",
            "856947ccb7474d42bb35adeb33b5676c",
            "27666ca0e5b64c1fb1dd93373b6c9709",
            "2645eb8bf3f6420ebd2b0f3181bcbe13",
            "139cbd010e8d414f973e7744455f04f1",
            "799dd7bdcd414fa283d1266b95044f4e",
            "ef4ab65b634c477b833ae6fd524fe28c",
            "cab2fc862910463ea5cb10f4c92ba421",
            "6e8f0b28881046f7881e95777c0591c6",
            "8f8b78464baa4488ab47a4df6c8985f8",
            "be47d00db0564f629cac7f13b58fd85c",
            "7e199f9ad7b9407982166315f53b5623",
            "0e8e9791dd714cce999cee3c04a1061b",
            "647004ed58fe4b29bfc649961ffcbbd7",
            "c13f20567065466fa0d6250f882ba34b",
            "a2fcdff1105f4ce6b4f3679dc7ded477",
            "dd7d3fe16786437c95f30c7f3ee9cd6f",
            "2035d29511f34e93b15a775a3a17399a",
            "270afd9cbe4b462d8857c91ebdca1b64",
            "31a99a388d0d47f6a65ae3fbdfcb35b0",
            "25a038e9c3c74d4198dfe8821348f26e",
            "29de34392e3f49c8a2da9236f73d9f60",
            "c6fa0efb52bf438982db91f341f331fc",
            "1b605ef7946945f1aeaf664a02a68394",
            "3bd583e0164740c8b046a6ed8068d27b",
            "59324c364bda44a2a5329df097b38421",
            "83a8edfe9a7843e182acbaa7dc3f7957",
            "58f107350bc8445ba3c07a0638d07e8a",
            "867b2d9e98374172a48c92434c4cfd41",
            "319369b95fab49f8b6d7b944d42f771d",
            "bd0ee1b05d114a5a96e402f681c7a05c",
            "ddd0f6fbfdf840edb21421ebb31b9094",
            "fa7db0af553547ab8620cb877f5ad81a",
            "9bfaf4c598464043a4e1a404845879d5",
            "31d17c22fdc24c69a642f08bc49ee6f6",
            "568f94aae91842f49171cb676c316358",
            "6da597a5909b42daad4fe1a5fd0e7301",
            "e886bbf735574510b5ab274af32036f2",
            "1142ec79a40c4b8bb7d5cfdca2d39d33",
            "c419261ce9ce48d7b460076556b5edf1",
            "e37d62fc3a48464f859ff0cc460dde0e",
            "7c9dbe8037fa4bf08351ff8ebf724d5d",
            "ee2421572b074853ae87f26b6f913709",
            "8c2a0c116e2445e08564a473d553df05",
            "4dcdfff49caf4b38be0eca48d98dca73",
            "ea2a40be12d84538ad2e2f4ec90664c4",
            "3122013803ee430092317fa886e3f920",
            "3ad0497769484f12ab6f4c3fee5cde00",
            "2ce4ac8951a0462a82d8408147515ff0",
            "de8487af4d0543bb952694e721767523",
            "5557ec055a8e455ca27bf0afec44e952",
            "3271fd48ce484cef8ebd310e2ce43c8c",
            "baa9723d5ab2405f8a6002963c2d08ed",
            "cda1c811be5f40f1822319a6341df5d4",
            "4618fd2850cd49bd93c613be555236a5",
            "71c5837c20714eec95b581bf038ef05d",
            "7bd95ad63c2e418cbadaf7b4c2b10332",
            "8fe162424f6f4805b3e518ed3c35e69b",
            "6461b3896b904e8ca0967c83c63b6e4e",
            "eca17ffd2a364f0e83565abbd14773c7",
            "2e71604da86541c8a6500a61b766fbd3",
            "7905d1ff5d2143149cf8d8c061149e3f",
            "9d6b3f959f684855aae079bfd27fa0c3",
            "e2dbae06decf4ba3b784263a4e9aca9f",
            "3a2d3634553b46ae9ba40c050060a6c5",
            "fd1540c800414dadb736b6e31dd1beaa",
            "ceb4988d904a4ea59a311b6362b2bc1d",
            "68f5d20a963c44b2bb76a591a11a60f7",
            "3becfd60c1944c1bba2bca06ccca5251",
            "2f67fd69370848c9b44c112480aa3718",
            "7caea4a482fc490ca835f3f1fc8e5eae",
            "bdda2a977f6e437ab0c7f280fbdc5599",
            "0632b906e40943ea8f0256d3a9206787",
            "6fa4f7ea9ea0412f9977c9b0c04176fc",
            "2711abb136b74377b3ed8107a54e5b6a",
            "9ad6906088734333a561d1604c5711f2",
            "d9db5af6a32046e19f9f938b7f11048b",
            "04099fd1a96344428ceeeec174a8248a",
            "6c582eb6e3ed41a198e49d37ecc90e63",
            "d2d6e3b2fc9e4237ab6f661868c2701c",
            "0df2e1436f3f4b23a666dcb30856e88f",
            "562ebd7cf77d44a59b4304f8cff5a58e",
            "9e35aa0b80744bbb902ec359a050628b",
            "bfe33334e0ed4eb3bc3134d36745e5fe",
            "e185ee857e994268b12c64fd4e1c20f0",
            "0ebfc34824c744a2bd22c36b04012738",
            "c90a1b4baaac4a38b2b3b3a51bba1666",
            "102892d8bb3b40eaa26468472f7f2b0a",
            "398e633ef08f46799da73d94a03abff6",
            "7a70375993f6423fa1a741ab4b8e907a",
            "8283b1d46c01409da165f2e3747d843f",
            "d21d2f00230a41809775797a8eba777d",
            "9076c45934e2428e95bfd507f9c3b575",
            "b5232d0a94e44ee8ad530c4a8d1340e3",
            "16bbfde63d3e473f8540dd84c47668d9",
            "21a6ec4fa91245fd9ad93b0e64786668",
            "ecdd5bac4e024d778d62451e373e5ab6",
            "a05bcbc5b318478fb9c68f23ec5b480f",
            "1968db6644b643cba80a464730b599ee",
            "8e0a28c5e4b4488a88899c7f143130d3",
            "4b9f09ed438e46b498d41bee465ad78b",
            "680303c05de54b2083e7e105dc4529c2",
            "9341c2912ea04ff18666cb0106370f2e",
            "6df7c6f977c6490485a3a7ac985e5459",
            "123a3d6753c14710a2ea1cfd9fd77a0f",
            "4bcfed83d82049d9a06838b161fb7114",
            "e572eca668324278ae5f8128791eefae",
            "1f99ff15f3704e77bc04811c5b04f25c",
            "c8c808f51e004425858dfae505cd9624",
            "1ec5cc85525241849341f86b182152d4",
            "c06badbf685046e4be2fd582f0cc6b0c",
            "c179396898ea4f6db2f48b48ce078cc3",
            "a0d385f9f9714d03be27426a12a5ef09",
            "0f15863730cf40a8ab9c9753dc09ba88",
            "2d6885939b48462a899cc10fa76de5ac"
          ]
        },
        "id": "DMIIUPAaOYdB",
        "outputId": "b1075903-0445-4423-b145-4aa5360384a1"
      },
      "execution_count": 51,
      "outputs": [
        {
          "output_type": "display_data",
          "data": {
            "text/plain": [
              "  0%|          | 0/10 [00:00<?, ?it/s]"
            ],
            "application/vnd.jupyter.widget-view+json": {
              "version_major": 2,
              "version_minor": 0,
              "model_id": "4bbd88fa3eb14205bae07746d8f35698"
            }
          },
          "metadata": {}
        },
        {
          "output_type": "display_data",
          "data": {
            "text/plain": [
              "  0%|          | 0/20 [00:00<?, ?it/s]"
            ],
            "application/vnd.jupyter.widget-view+json": {
              "version_major": 2,
              "version_minor": 0,
              "model_id": "799dd7bdcd414fa283d1266b95044f4e"
            }
          },
          "metadata": {}
        },
        {
          "output_type": "display_data",
          "data": {
            "text/plain": [
              "  0%|          | 0/20 [00:00<?, ?it/s]"
            ],
            "application/vnd.jupyter.widget-view+json": {
              "version_major": 2,
              "version_minor": 0,
              "model_id": "dd7d3fe16786437c95f30c7f3ee9cd6f"
            }
          },
          "metadata": {}
        },
        {
          "output_type": "display_data",
          "data": {
            "text/plain": [
              "  0%|          | 0/20 [00:00<?, ?it/s]"
            ],
            "application/vnd.jupyter.widget-view+json": {
              "version_major": 2,
              "version_minor": 0,
              "model_id": "58f107350bc8445ba3c07a0638d07e8a"
            }
          },
          "metadata": {}
        },
        {
          "output_type": "display_data",
          "data": {
            "text/plain": [
              "  0%|          | 0/20 [00:00<?, ?it/s]"
            ],
            "application/vnd.jupyter.widget-view+json": {
              "version_major": 2,
              "version_minor": 0,
              "model_id": "1142ec79a40c4b8bb7d5cfdca2d39d33"
            }
          },
          "metadata": {}
        },
        {
          "output_type": "display_data",
          "data": {
            "text/plain": [
              "  0%|          | 0/20 [00:00<?, ?it/s]"
            ],
            "application/vnd.jupyter.widget-view+json": {
              "version_major": 2,
              "version_minor": 0,
              "model_id": "de8487af4d0543bb952694e721767523"
            }
          },
          "metadata": {}
        },
        {
          "output_type": "display_data",
          "data": {
            "text/plain": [
              "  0%|          | 0/20 [00:00<?, ?it/s]"
            ],
            "application/vnd.jupyter.widget-view+json": {
              "version_major": 2,
              "version_minor": 0,
              "model_id": "2e71604da86541c8a6500a61b766fbd3"
            }
          },
          "metadata": {}
        },
        {
          "output_type": "display_data",
          "data": {
            "text/plain": [
              "  0%|          | 0/20 [00:00<?, ?it/s]"
            ],
            "application/vnd.jupyter.widget-view+json": {
              "version_major": 2,
              "version_minor": 0,
              "model_id": "bdda2a977f6e437ab0c7f280fbdc5599"
            }
          },
          "metadata": {}
        },
        {
          "output_type": "display_data",
          "data": {
            "text/plain": [
              "  0%|          | 0/20 [00:00<?, ?it/s]"
            ],
            "application/vnd.jupyter.widget-view+json": {
              "version_major": 2,
              "version_minor": 0,
              "model_id": "9e35aa0b80744bbb902ec359a050628b"
            }
          },
          "metadata": {}
        },
        {
          "output_type": "display_data",
          "data": {
            "text/plain": [
              "  0%|          | 0/20 [00:00<?, ?it/s]"
            ],
            "application/vnd.jupyter.widget-view+json": {
              "version_major": 2,
              "version_minor": 0,
              "model_id": "b5232d0a94e44ee8ad530c4a8d1340e3"
            }
          },
          "metadata": {}
        },
        {
          "output_type": "display_data",
          "data": {
            "text/plain": [
              "  0%|          | 0/20 [00:00<?, ?it/s]"
            ],
            "application/vnd.jupyter.widget-view+json": {
              "version_major": 2,
              "version_minor": 0,
              "model_id": "123a3d6753c14710a2ea1cfd9fd77a0f"
            }
          },
          "metadata": {}
        }
      ]
    },
    {
      "cell_type": "code",
      "source": [
        "def plot_history(history: dict) -> None:\n",
        "    fig, axes = plt.subplots(1, 2, figsize=(15, 5))\n",
        "    axes[0].plot(history[\"accuracy\"], label=\"Accuracy\")\n",
        "    axes[0].plot(history[\"val_accuracy\"], label=\"Validation accuracy\")\n",
        "    axes[0].set_title(\"Accuracy\")\n",
        "    axes[0].set_xlabel(\"Epochs\")\n",
        "    axes[0].set_ylabel(\"Accuracy\")\n",
        "    axes[0].legend()\n",
        "\n",
        "    axes[1].plot(history[\"loss\"], label=\"Loss\")\n",
        "    axes[1].plot(history[\"val_loss\"], label=\"Validation loss\")\n",
        "    axes[1].set_title(\"Loss\")\n",
        "    axes[1].set_xlabel(\"Epochs\")\n",
        "    axes[1].set_ylabel(\"Loss\")\n",
        "    axes[1].legend()\n",
        "\n",
        "    plt.show()"
      ],
      "metadata": {
        "id": "AobG1c-7OaOD"
      },
      "execution_count": 52,
      "outputs": []
    },
    {
      "cell_type": "code",
      "source": [
        "plot_history(rnn_history)"
      ],
      "metadata": {
        "colab": {
          "base_uri": "https://localhost:8080/",
          "height": 422
        },
        "id": "NOYS0IohPsnL",
        "outputId": "6563b0a7-a9b8-40e5-e26d-635778e56195"
      },
      "execution_count": 53,
      "outputs": [
        {
          "output_type": "display_data",
          "data": {
            "text/plain": [
              "<Figure size 1500x500 with 2 Axes>"
            ],
            "image/png": "[encoded data removed]"
          },
          "metadata": {}
        }
      ]
    },
    {
      "cell_type": "code",
      "source": [
        "_, accuracy_rnn = evaluate_rnn(rnn_model, loss_fn, test_dataloader_rnn)\n",
        "rprint(f\"Accuracy (RNN): {accuracy_rnn * 100:.2f}%\")"
      ],
      "metadata": {
        "colab": {
          "base_uri": "https://localhost:8080/",
          "height": 33
        },
        "id": "C1rE_supPvMK",
        "outputId": "cb6617b8-aa42-41bc-8378-204419c3c20d"
      },
      "execution_count": 54,
      "outputs": [
        {
          "output_type": "display_data",
          "data": {
            "text/plain": [
              "Accuracy \u001b[1m(\u001b[0mRNN\u001b[1m)\u001b[0m: \u001b[1;36m94.23\u001b[0m%\n"
            ],
            "text/html": [
              "<pre style=\"white-space:pre;overflow-x:auto;line-height:normal;font-family:Menlo,'DejaVu Sans Mono',consolas,'Courier New',monospace\">Accuracy <span style=\"font-weight: bold\">(</span>RNN<span style=\"font-weight: bold\">)</span>: <span style=\"color: #008080; text-decoration-color: #008080; font-weight: bold\">94.23</span>%\n",
              "</pre>\n"
            ]
          },
          "metadata": {}
        }
      ]
    },
    {
      "cell_type": "markdown",
      "source": [
        "#Primer ejercicio"
      ],
      "metadata": {
        "id": "ciOR-LGBQO8R"
      }
    },
    {
      "cell_type": "markdown",
      "source": [
        "- Obten los embeddings de 100 palabras al azar del modelo RNN visto en clase\n",
        "  - Pueden ser los embeddings estáticos o los dinámicos del modelo"
      ],
      "metadata": {
        "id": "P9NTAg37QRYz"
      }
    },
    {
      "cell_type": "markdown",
      "source": [
        "##Embeddings estáticos"
      ],
      "metadata": {
        "id": "nTu_h49hQO5z"
      }
    },
    {
      "cell_type": "code",
      "source": [
        "import random\n",
        "\n",
        "# Seleccionar 100 palabras aleatorias del vocabulario\n",
        "random_words = random.sample(list(word2idx.keys()), 100)\n",
        "\n",
        "# Obtener los índices de estas palabras\n",
        "word_indices = torch.tensor([word2idx[word] for word in random_words]).to(device)\n",
        "\n",
        "# Obtener los embeddings estáticos\n",
        "with torch.no_grad():\n",
        "    static_embeddings = rnn_model.embedding(word_indices).cpu().numpy()\n",
        "\n",
        "# Mostrar algunas palabras y la forma de los embeddings\n",
        "print(f\"Embeddings estáticos para {len(random_words)} palabras\")\n",
        "print(f\"Forma de los embeddings: {static_embeddings.shape}\")\n",
        "print(\"\\nEjemplos:\")\n",
        "for i in range(99):\n",
        "    print(f\"Palabra: {random_words[i]}\")\n",
        "    print(f\"Embedding (primeros 5 valores): {static_embeddings[i][:5]}\")"
      ],
      "metadata": {
        "colab": {
          "base_uri": "https://localhost:8080/"
        },
        "id": "H7GjaGtMP3xN",
        "outputId": "361dfbd6-9042-493e-a9a2-458dea9da23e"
      },
      "execution_count": 95,
      "outputs": [
        {
          "output_type": "stream",
          "name": "stdout",
          "text": [
            "Embeddings estáticos para 100 palabras\n",
            "Forma de los embeddings: (100, 100)\n",
            "\n",
            "Ejemplos:\n",
            "Palabra: leia\n",
            "Embedding (primeros 5 valores): [ 0.16739  -0.17466  -0.14196   0.030429  0.41072 ]\n",
            "Palabra: filipinos\n",
            "Embedding (primeros 5 valores): [ 0.36199   0.88105  -0.496    -0.3913   -0.071198]\n",
            "Palabra: 7.85\n",
            "Embedding (primeros 5 valores): [ 0.55331  0.41292  0.23334  0.13985 -0.11996]\n",
            "Palabra: levier\n",
            "Embedding (primeros 5 valores): [-0.057408  -0.20377   -0.0031278  0.29105   -0.35732  ]\n",
            "Palabra: dullest\n",
            "Embedding (primeros 5 valores): [-0.14081  0.21055  0.34692  0.21454 -0.13023]\n",
            "Palabra: 8:38\n",
            "Embedding (primeros 5 valores): [-0.43567  -0.18503  -0.037366  0.55285  -0.44005 ]\n",
            "Palabra: healthyeating\n",
            "Embedding (primeros 5 valores): [-0.17988   0.46029   0.20182   0.37777  -0.079765]\n",
            "Palabra: lasius\n",
            "Embedding (primeros 5 valores): [-0.1275   -0.37134  -0.059139 -0.14335  -0.25432 ]\n",
            "Palabra: ashan\n",
            "Embedding (primeros 5 valores): [-0.066507 -0.014649 -0.37036   0.42861  -0.22307 ]\n",
            "Palabra: viejo\n",
            "Embedding (primeros 5 valores): [ 0.27276   -0.94989    0.15336    0.0059014  0.025054 ]\n",
            "Palabra: castaways\n",
            "Embedding (primeros 5 valores): [ 0.10385  0.15021  0.46913 -0.362   -0.48008]\n",
            "Palabra: khwarezmian\n",
            "Embedding (primeros 5 valores): [ 0.23617  -0.50394   0.052058  0.27617   0.01364 ]\n",
            "Palabra: 59.33\n",
            "Embedding (primeros 5 valores): [ 0.14589   0.39675   0.29794   0.60502  -0.066783]\n",
            "Palabra: arrears\n",
            "Embedding (primeros 5 valores): [ 0.4521     0.481574   0.3495747 -0.0236361 -0.4236521]\n",
            "Palabra: miyazawa\n",
            "Embedding (primeros 5 valores): [-0.14691  -0.086732  0.28423   0.58544  -0.24351 ]\n",
            "Palabra: 8:31\n",
            "Embedding (primeros 5 valores): [-0.22763  0.28398 -0.18557  0.46846 -0.52863]\n",
            "Palabra: officiate\n",
            "Embedding (primeros 5 valores): [-0.013901 -0.074957 -0.88429   0.10567  -0.72247 ]\n",
            "Palabra: osdorp\n",
            "Embedding (primeros 5 valores): [ 0.63969  -0.46259  -0.054899 -0.06822  -0.043172]\n",
            "Palabra: aloro\n",
            "Embedding (primeros 5 valores): [-1.4736  -0.92301 -0.44152 -0.78615 -0.12293]\n",
            "Palabra: discodermolide\n",
            "Embedding (primeros 5 valores): [-0.50346  -0.049537  0.10535   0.2222   -0.48123 ]\n",
            "Palabra: slobodon\n",
            "Embedding (primeros 5 valores): [ 0.048097  0.093492 -0.68487   1.0277   -0.16859 ]\n",
            "Palabra: sambad\n",
            "Embedding (primeros 5 valores): [ 0.10337 -0.18216 -0.46615  0.25825 -0.30631]\n",
            "Palabra: dewolf\n",
            "Embedding (primeros 5 valores): [-0.12893 -0.17843 -0.41728 -0.37506 -0.17214]\n",
            "Palabra: pacificor\n",
            "Embedding (primeros 5 valores): [-0.033321 -0.58299  -0.55677   0.46946   0.2468  ]\n",
            "Palabra: 3a\n",
            "Embedding (primeros 5 valores): [-0.14224  0.2324   0.97829  0.30863 -0.47311]\n",
            "Palabra: helsingør\n",
            "Embedding (primeros 5 valores): [ 0.2982  -0.29297  0.13174  0.51447 -0.40426]\n",
            "Palabra: ssekandi\n",
            "Embedding (primeros 5 valores): [-0.44307 -0.37299 -0.47832 -0.17194  0.18349]\n",
            "Palabra: qum\n",
            "Embedding (primeros 5 valores): [ 0.72028 -0.17254  0.14995 -0.27061  0.12722]\n",
            "Palabra: mysimon\n",
            "Embedding (primeros 5 valores): [-0.32518   0.034628 -0.35171  -0.1184   -0.26854 ]\n",
            "Palabra: azides\n",
            "Embedding (primeros 5 valores): [-0.12292   0.17338  -0.091277 -0.14876  -0.40908 ]\n",
            "Palabra: soothe\n",
            "Embedding (primeros 5 valores): [-0.42504 -0.14648  0.51759  0.10651 -0.24111]\n",
            "Palabra: higher-resolution\n",
            "Embedding (primeros 5 valores): [-0.068493  0.10548  -0.4086    0.22033   0.19624 ]\n",
            "Palabra: sharptooth\n",
            "Embedding (primeros 5 valores): [ 0.1769    0.15632  -0.067337 -0.26523  -0.11868 ]\n",
            "Palabra: hammams\n",
            "Embedding (primeros 5 valores): [ 0.22187  0.16328 -0.76125  0.02262 -0.18756]\n",
            "Palabra: keigwin\n",
            "Embedding (primeros 5 valores): [ 0.20176 -0.2115  -0.61117  0.19069  0.30891]\n",
            "Palabra: eurymedon\n",
            "Embedding (primeros 5 valores): [ 0.06031  -0.17044  -0.47477  -0.090543  0.11566 ]\n",
            "Palabra: 2:53\n",
            "Embedding (primeros 5 valores): [-0.59577    0.0035849  0.24138    0.61918   -0.50512  ]\n",
            "Palabra: priesand\n",
            "Embedding (primeros 5 valores): [ 0.30649  -0.46813  -0.47551   0.031764  0.18021 ]\n",
            "Palabra: rakugo\n",
            "Embedding (primeros 5 valores): [ 0.23282  -0.065543 -0.33305   0.34351  -0.29853 ]\n",
            "Palabra: exuberantly\n",
            "Embedding (primeros 5 valores): [-0.13727    0.36851   -0.01709    0.0063967  0.30854  ]\n",
            "Palabra: 28.82\n",
            "Embedding (primeros 5 valores): [ 0.28037  0.12014  0.24849  0.29793 -0.11065]\n",
            "Palabra: uvular\n",
            "Embedding (primeros 5 valores): [ 0.036712 -0.10288  -0.1721    0.2843    0.35003 ]\n",
            "Palabra: schuenemann\n",
            "Embedding (primeros 5 valores): [-0.31975 -0.6163  -0.35872  0.13835  0.15318]\n",
            "Palabra: sophocles\n",
            "Embedding (primeros 5 valores): [-0.13797   0.064979  0.61005   0.66188  -0.65265 ]\n",
            "Palabra: turgay\n",
            "Embedding (primeros 5 valores): [-0.50714  -0.037289 -0.17259   0.26942  -0.14874 ]\n",
            "Palabra: bacall\n",
            "Embedding (primeros 5 valores): [-0.05938   0.81158   0.34489  -0.32364   0.040752]\n",
            "Palabra: cohere\n",
            "Embedding (primeros 5 valores): [-0.45378 -0.14522 -0.24469 -0.10846  0.10161]\n",
            "Palabra: .222\n",
            "Embedding (primeros 5 valores): [ 0.047027  0.42553   0.33942   0.98702  -0.83054 ]\n",
            "Palabra: eight-lane\n",
            "Embedding (primeros 5 valores): [-0.54594  0.30943  0.33955  0.56083  0.35088]\n",
            "Palabra: leatherman\n",
            "Embedding (primeros 5 valores): [-0.42047   -0.3252    -0.79169   -0.81893    0.0044488]\n",
            "Palabra: edenic\n",
            "Embedding (primeros 5 valores): [-0.19168    0.084704   0.86189    0.67824   -0.0019017]\n",
            "Palabra: nuti\n",
            "Embedding (primeros 5 valores): [ 0.026623 -0.60441  -0.16791  -0.17255  -0.28776 ]\n",
            "Palabra: navtex\n",
            "Embedding (primeros 5 valores): [-0.13144  -0.008538 -0.21459  -0.19228  -0.074612]\n",
            "Palabra: edgartown\n",
            "Embedding (primeros 5 valores): [-0.21434   0.27224   0.34563   0.13082  -0.040245]\n",
            "Palabra: deodorizing\n",
            "Embedding (primeros 5 valores): [ 0.16637  -0.33903  -0.29426  -0.013947 -0.28784 ]\n",
            "Palabra: krasno\n",
            "Embedding (primeros 5 valores): [-0.19649 -0.46742 -0.28682 -0.26285  0.19832]\n",
            "Palabra: woodsy\n",
            "Embedding (primeros 5 valores): [-0.096918  0.084824  0.37684   0.68601  -0.08212 ]\n",
            "Palabra: caffe\n",
            "Embedding (primeros 5 valores): [ 0.61323 -0.21906 -0.46386  0.52714  0.1042 ]\n",
            "Palabra: concentrically\n",
            "Embedding (primeros 5 valores): [-0.43242  0.18371 -0.63439  0.14769  0.89686]\n",
            "Palabra: tommorow\n",
            "Embedding (primeros 5 valores): [ 0.12445   0.1522    0.095374  0.1594   -0.65508 ]\n",
            "Palabra: parasuram\n",
            "Embedding (primeros 5 valores): [-0.15006 -0.37601 -0.5096   0.34643  0.17441]\n",
            "Palabra: anabaptists\n",
            "Embedding (primeros 5 valores): [ 0.37123 -0.05662 -0.26587  0.21756 -0.6911 ]\n",
            "Palabra: 2.86\n",
            "Embedding (primeros 5 valores): [ 0.54063  0.19998  0.87217  0.19089 -0.394  ]\n",
            "Palabra: rostow\n",
            "Embedding (primeros 5 valores): [ 0.42112 -0.73117 -0.38547  0.1636   0.11876]\n",
            "Palabra: plasa\n",
            "Embedding (primeros 5 valores): [ 0.12935   -0.56143   -0.12009   -0.0085849 -0.30932  ]\n",
            "Palabra: anaximenes\n",
            "Embedding (primeros 5 valores): [-0.30434 -0.30441 -0.10387  0.31717 -0.28553]\n",
            "Palabra: tamimi\n",
            "Embedding (primeros 5 valores): [-0.16897 -0.63007 -0.29578 -0.46415  0.68703]\n",
            "Palabra: aceto\n",
            "Embedding (primeros 5 valores): [ 0.18091  -0.52931  -0.54245   0.069099 -0.10656 ]\n",
            "Palabra: lembede\n",
            "Embedding (primeros 5 valores): [ 0.045988 -0.021221 -0.62924   0.29148   0.014943]\n",
            "Palabra: bulelani\n",
            "Embedding (primeros 5 valores): [ 0.3719   0.11898 -0.15326 -0.23324  0.13362]\n",
            "Palabra: iisc\n",
            "Embedding (primeros 5 valores): [ 0.18106 -0.33509  0.35451  0.2106   0.4576 ]\n",
            "Palabra: ecclesiatical\n",
            "Embedding (primeros 5 valores): [ 0.23289 -0.13165 -0.4304   0.27285  0.17433]\n",
            "Palabra: iwami\n",
            "Embedding (primeros 5 valores): [ 0.334    -0.048533 -0.10551   0.44235   0.2724  ]\n",
            "Palabra: ustye\n",
            "Embedding (primeros 5 valores): [ 0.16392 -0.22021 -0.20465  0.21986 -0.33574]\n",
            "Palabra: ausaid\n",
            "Embedding (primeros 5 valores): [-0.19774   0.16369   0.51481  -0.59711   0.056772]\n",
            "Palabra: dershowitz\n",
            "Embedding (primeros 5 valores): [-0.18106 -0.38007 -0.4819  -0.51187 -0.26333]\n",
            "Palabra: 95.20\n",
            "Embedding (primeros 5 valores): [ 0.17265   0.69505  -0.30094   0.32055  -0.056738]\n",
            "Palabra: gt500\n",
            "Embedding (primeros 5 valores): [-0.21726  0.18431  0.69572 -0.62407 -0.36334]\n",
            "Palabra: unsightly\n",
            "Embedding (primeros 5 valores): [-0.088913   0.0015774  0.094949  -0.69476   -0.48038  ]\n",
            "Palabra: 0600\n",
            "Embedding (primeros 5 valores): [ 0.49896 -0.19439  0.60513  0.63668 -1.236  ]\n",
            "Palabra: meander\n",
            "Embedding (primeros 5 valores): [-0.34341568  0.0761409  -0.37265792  0.14918731  0.28147748]\n",
            "Palabra: mandelieu\n",
            "Embedding (primeros 5 valores): [-0.20073  -0.12729  -0.073326  0.43939   0.19768 ]\n",
            "Palabra: sofrito\n",
            "Embedding (primeros 5 valores): [-0.4785    0.22615  -0.17643  -0.011528  0.094018]\n",
            "Palabra: keator\n",
            "Embedding (primeros 5 valores): [ 0.35453 -0.68284 -0.45982 -0.5552  -0.36214]\n",
            "Palabra: undeniably\n",
            "Embedding (primeros 5 valores): [-0.19955  0.24881  0.4141  -0.47134  0.3347 ]\n",
            "Palabra: ogawara\n",
            "Embedding (primeros 5 valores): [-0.44735  -0.41842   0.18895   0.46255  -0.086958]\n",
            "Palabra: armato\n",
            "Embedding (primeros 5 valores): [ 0.56459 -0.19126  0.13999 -0.11231 -0.14842]\n",
            "Palabra: roisman\n",
            "Embedding (primeros 5 valores): [-0.24252  -0.22851  -0.3335    0.074258 -0.11553 ]\n",
            "Palabra: iguide\n",
            "Embedding (primeros 5 valores): [-0.0081653 -0.023892  -0.083077   0.29987   -0.11545  ]\n",
            "Palabra: samai\n",
            "Embedding (primeros 5 valores): [ 0.17237 -0.28191 -0.43896  0.25927 -0.16945]\n",
            "Palabra: breaker\n",
            "Embedding (primeros 5 valores): [ 0.25152  -0.81618   0.92288  -0.008912 -0.32168 ]\n",
            "Palabra: troves\n",
            "Embedding (primeros 5 valores): [-0.13318  1.0201   0.66105 -0.14215  0.76773]\n",
            "Palabra: cadenet\n",
            "Embedding (primeros 5 valores): [ 0.30561    -0.62506    -0.43198     0.3624      0.00064356]\n",
            "Palabra: enormities\n",
            "Embedding (primeros 5 valores): [ 0.040474 -0.12961  -0.38839   0.13098  -0.19737 ]\n",
            "Palabra: 5-foot-6\n",
            "Embedding (primeros 5 valores): [ 0.75977   0.7056    0.62442   0.051268 -0.43284 ]\n",
            "Palabra: markovich\n",
            "Embedding (primeros 5 valores): [ 0.010417 -0.28682  -0.14678  -0.091627  0.23245 ]\n",
            "Palabra: üsküdar\n",
            "Embedding (primeros 5 valores): [ 0.30575  -0.26843   0.71597   0.15832  -0.029157]\n",
            "Palabra: formula_172\n",
            "Embedding (primeros 5 valores): [0.14999  0.2504   0.15358  0.018637 0.023993]\n",
            "Palabra: bartkowski\n",
            "Embedding (primeros 5 valores): [-0.41914  -0.29609  -0.15106  -0.042766 -0.042678]\n"
          ]
        }
      ]
    },
    {
      "cell_type": "markdown",
      "source": [
        "#Segundo Ejercicio"
      ],
      "metadata": {
        "id": "b5EZ0L-6R3vD"
      }
    },
    {
      "cell_type": "markdown",
      "source": [
        "- Aplica un algoritmo de clusterización a las palabras y plotearlas en 2D\n",
        "  - Aplica algun color para los diferentes clusters"
      ],
      "metadata": {
        "id": "ynxF2SNrR5V-"
      }
    },
    {
      "cell_type": "code",
      "source": [
        "\n",
        "# 3. Reducir dimensionalidad a 2D con PCA (para visualización)\n",
        "pca = PCA(n_components=2)\n",
        "embeddings_2d = pca.fit_transform(static_embeddings)\n",
        "\n",
        "# 4. Aplicar K-means para clusterizar las palabras en 5 grupos\n",
        "n_clusters = 5  # Puedes ajustar este valor\n",
        "kmeans = KMeans(n_clusters=n_clusters, random_state=42)\n",
        "clusters = kmeans.fit_predict(static_embeddings)\n",
        "\n",
        "# 5. Graficar con colores por cluster\n",
        "plt.figure(figsize=(12, 8))\n",
        "colors = plt.cm.get_cmap('tab10', n_clusters)  # Paleta de colores\n",
        "\n",
        "# Scatter plot con colores según el cluster\n",
        "plt.figure(figsize=(12, 8))\n",
        "scatter = plt.scatter(\n",
        "    embeddings_2d[:, 0], embeddings_2d[:, 1],\n",
        "    c=clusters, cmap='tab10', alpha=0.6, s=50\n",
        ")\n",
        "\n",
        "# Etiquetar palabras (opcional)\n",
        "for i, word in enumerate(random_words):\n",
        "    if i % 5 == 0:\n",
        "        plt.annotate(word, (embeddings_2d[i, 0], embeddings_2d[i, 1]),\n",
        "                    fontsize=8, alpha=0.8)\n",
        "\n",
        "# Colorbar con clusters enteros\n",
        "cbar = plt.colorbar(scatter, label='Cluster',\n",
        "                    ticks=np.arange(n_clusters),\n",
        "                    boundaries=np.arange(n_clusters+1)-0.5)\n",
        "cbar.set_ticklabels([f'Cluster {i+1}' for i in range(n_clusters)])\n",
        "\n",
        "plt.title(\"Clustering de palabras (K-means + PCA)\")\n",
        "plt.xlabel(\"Componente PCA 1\")\n",
        "plt.ylabel(\"Componente PCA 2\")\n",
        "plt.grid(alpha=0.2)\n",
        "plt.show()"
      ],
      "metadata": {
        "colab": {
          "base_uri": "https://localhost:8080/",
          "height": 790
        },
        "id": "pH7xKktHRiKS",
        "outputId": "54e1b8c4-06af-4b88-e495-3ab6817281e8"
      },
      "execution_count": 96,
      "outputs": [
        {
          "output_type": "stream",
          "name": "stderr",
          "text": [
            "<ipython-input-96-368956f49728>:12: MatplotlibDeprecationWarning: The get_cmap function was deprecated in Matplotlib 3.7 and will be removed in 3.11. Use ``matplotlib.colormaps[name]`` or ``matplotlib.colormaps.get_cmap()`` or ``pyplot.get_cmap()`` instead.\n",
            "  colors = plt.cm.get_cmap('tab10', n_clusters)  # Paleta de colores\n"
          ]
        },
        {
          "output_type": "display_data",
          "data": {
            "text/plain": [
              "<Figure size 1200x800 with 0 Axes>"
            ]
          },
          "metadata": {}
        },
        {
          "output_type": "display_data",
          "data": {
            "text/plain": [
              "<Figure size 1200x800 with 2 Axes>"
            ],
            "image/png": "[encoded data removed]"
          },
          "metadata": {}
        }
      ]
    },
    {
      "cell_type": "markdown",
      "source": [
        "#Tercer Ejercicio"
      ],
      "metadata": {
        "id": "GIOBX_ABUwry"
      }
    },
    {
      "cell_type": "markdown",
      "source": [
        "- Agrega al plot los embeddings de las etiquetas POS\n",
        "  - Utiliza un marcador que las distinga claramente de las palabras"
      ],
      "metadata": {
        "id": "qI0HjS0AU0Ef"
      }
    },
    {
      "cell_type": "code",
      "source": [
        "# Obtener embeddings POS desde la capa lineal del modelo\n",
        "pos_embeddings_dynamic = {\n",
        "    pos: rnn_model.linear.weight.data.cpu().numpy()[int(pos_id)-1]  # -1 porque el padding es 0\n",
        "    for pos, pos_id in pos2idx.items()\n",
        "    if pos not in ['_', 'X', '<pad>'] and str(pos_id).isdigit()  # Filtramos tags especiales\n",
        "}\n",
        "\n",
        "\n",
        "# Reducción de dimensionalidad para POS\n",
        "pca_pos = PCA(n_components=2)\n",
        "pos_embs = np.array(list(pos_embeddings_dynamic.values()))\n",
        "pos_2d = pca_pos.fit_transform(pos_embs)\n",
        "pos_tags = list(pos_embeddings_dynamic.keys())\n",
        "\n",
        "# Configuración del gráfico\n",
        "plt.figure(figsize=(14, 8))\n",
        "\n",
        "# 1. Graficar palabras (clusters)\n",
        "scatter_words = plt.scatter(\n",
        "    embeddings_2d[:, 0], embeddings_2d[:, 1],\n",
        "    c=clusters, cmap='tab10', alpha=0.6, s=50\n",
        ")\n",
        "\n",
        "# 2. Graficar POS con etiquetas individuales en la leyenda\n",
        "pos_markers = []\n",
        "for i, pos in enumerate(pos_tags):\n",
        "    # Graficar cada POS\n",
        "    marker = plt.scatter(\n",
        "        pos_2d[i, 0], pos_2d[i, 1],\n",
        "        marker='X', s=150, edgecolor='black', linewidth=1.5,\n",
        "        color='darkred', zorder=4,\n",
        "        label=pos  # Etiqueta individual para la leyenda\n",
        "    )\n",
        "    plt.annotate(pos, (pos_2d[i, 0], pos_2d[i, 1]),\n",
        "                fontsize=10, ha='center', va='bottom',\n",
        "                bbox=dict(boxstyle='round,pad=0.3', fc='white', alpha=0.8))\n",
        "    pos_markers.append(marker)\n",
        "\n",
        "# 3. Colorbar con valores enteros\n",
        "cbar = plt.colorbar(\n",
        "    scatter_words,\n",
        "    label='Cluster de palabras',\n",
        "    ticks=np.arange(n_clusters),\n",
        "    boundaries=np.arange(n_clusters+1)-0.5\n",
        ")\n",
        "cbar.set_ticklabels([f'Cluster {i+1}' for i in range(n_clusters)])\n",
        "\n",
        "# 4. Leyenda para POS (todas las etiquetas)\n",
        "plt.legend(\n",
        "    handles=pos_markers,\n",
        "    labels=pos_tags,\n",
        "    title=\"Etiquetas POS\",\n",
        "    loc='upper right',\n",
        "    framealpha=1,\n",
        "    handletextpad=0.5\n",
        ")\n",
        "\n",
        "# Ajustes finales\n",
        "plt.title(\"Clustering de palabras con etiquetas POS\", fontsize=14)\n",
        "plt.xlabel(\"Componente PCA 1\")\n",
        "plt.ylabel(\"Componente PCA 2\")\n",
        "plt.grid(alpha=0.2)\n",
        "plt.tight_layout()\n",
        "plt.show()"
      ],
      "metadata": {
        "colab": {
          "base_uri": "https://localhost:8080/",
          "height": 659
        },
        "id": "1LnO7nZxX-GV",
        "outputId": "48de3860-3bcf-4e23-a018-34b34e4579a3"
      },
      "execution_count": 105,
      "outputs": [
        {
          "output_type": "display_data",
          "data": {
            "text/plain": [
              "<Figure size 1400x800 with 2 Axes>"
            ],
            "image/png": "[encoded data removed]"
          },
          "metadata": {}
        }
      ]
    },
    {
      "cell_type": "markdown",
      "source": [
        "En base a lo observado podemos decir que el modelo RNN logra agrupar palabras que tienen cierta relación entre sí, ya sea por su significado o por cómo se usan en el lenguaje. Al aplicar clustering y reducir la dimensión con PCA, se forman grupos bastante coherentes, aunque no siempre corresponden a una sola categoría gramatical. Al agregar las etiquetas POS, se nota que están distribuidas en distintas zonas del espacio, lo que indica que el modelo también está captando diferencias en la función de las palabras. Algunos puntos quedan más aislados, probablemente porque son palabras menos comunes o con un uso más específico. En general, los resultados son buenos considerando que se usaron embeddings estáticos, aunque usar embeddings dinámicos podría ayudar a reflejar mejor el contexto en el que se usan las palabras.\n"
      ],
      "metadata": {
        "id": "x38iyMPTlqGq"
      }
    }
  ],
  "metadata": {
    "colab": {
      "provenance": [],
      "gpuType": "T4",
      "toc_visible": true
    },
    "kernelspec": {
      "display_name": "Python 3",
      "name": "python3"
    },
    "language_info": {
      "codemirror_mode": {
        "name": "ipython",
        "version": 3
      },
      "file_extension": ".py",
      "mimetype": "text/x-python",
      "name": "python",
      "nbconvert_exporter": "python",
      "pygments_lexer": "ipython3",
      "version": "3.11.11"
    },
    "accelerator": "GPU",
    "widgets": {
      "application/vnd.jupyter.widget-state+json": {
        "4bbd88fa3eb14205bae07746d8f35698": {
          "model_module": "@jupyter-widgets/controls",
          "model_name": "HBoxModel",
          "model_module_version": "1.5.0",
          "state": {
            "_dom_classes": [],
            "_model_module": "@jupyter-widgets/controls",
            "_model_module_version": "1.5.0",
            "_model_name": "HBoxModel",
            "_view_count": null,
            "_view_module": "@jupyter-widgets/controls",
            "_view_module_version": "1.5.0",
            "_view_name": "HBoxView",
            "box_style": "",
            "children": [
              "IPY_MODEL_911f67ea2acf42dcb3c217c05a9b2ae3",
              "IPY_MODEL_5690b963d5654ad9bcdb80417be98be4",
              "IPY_MODEL_5573060cd9da4e9abd60d5b90f209b98"
            ],
            "layout": "IPY_MODEL_74ca773e21f64f35b54f64bb1c9bedce"
          }
        },
        "911f67ea2acf42dcb3c217c05a9b2ae3": {
          "model_module": "@jupyter-widgets/controls",
          "model_name": "HTMLModel",
          "model_module_version": "1.5.0",
          "state": {
            "_dom_classes": [],
            "_model_module": "@jupyter-widgets/controls",
            "_model_module_version": "1.5.0",
            "_model_name": "HTMLModel",
            "_view_count": null,
            "_view_module": "@jupyter-widgets/controls",
            "_view_module_version": "1.5.0",
            "_view_name": "HTMLView",
            "description": "",
            "description_tooltip": null,
            "layout": "IPY_MODEL_67a60d403a5042329860eee45c0b5b07",
            "placeholder": "​",
            "style": "IPY_MODEL_fa28f6c91b364be09cad940840eaf6e5",
            "value": "100%"
          }
        },
        "5690b963d5654ad9bcdb80417be98be4": {
          "model_module": "@jupyter-widgets/controls",
          "model_name": "FloatProgressModel",
          "model_module_version": "1.5.0",
          "state": {
            "_dom_classes": [],
            "_model_module": "@jupyter-widgets/controls",
            "_model_module_version": "1.5.0",
            "_model_name": "FloatProgressModel",
            "_view_count": null,
            "_view_module": "@jupyter-widgets/controls",
            "_view_module_version": "1.5.0",
            "_view_name": "ProgressView",
            "bar_style": "success",
            "description": "",
            "description_tooltip": null,
            "layout": "IPY_MODEL_856947ccb7474d42bb35adeb33b5676c",
            "max": 10,
            "min": 0,
            "orientation": "horizontal",
            "style": "IPY_MODEL_27666ca0e5b64c1fb1dd93373b6c9709",
            "value": 10
          }
        },
        "5573060cd9da4e9abd60d5b90f209b98": {
          "model_module": "@jupyter-widgets/controls",
          "model_name": "HTMLModel",
          "model_module_version": "1.5.0",
          "state": {
            "_dom_classes": [],
            "_model_module": "@jupyter-widgets/controls",
            "_model_module_version": "1.5.0",
            "_model_name": "HTMLModel",
            "_view_count": null,
            "_view_module": "@jupyter-widgets/controls",
            "_view_module_version": "1.5.0",
            "_view_name": "HTMLView",
            "description": "",
            "description_tooltip": null,
            "layout": "IPY_MODEL_2645eb8bf3f6420ebd2b0f3181bcbe13",
            "placeholder": "​",
            "style": "IPY_MODEL_139cbd010e8d414f973e7744455f04f1",
            "value": " 10/10 [00:27&lt;00:00,  2.29s/it]"
          }
        },
        "74ca773e21f64f35b54f64bb1c9bedce": {
          "model_module": "@jupyter-widgets/base",
          "model_name": "LayoutModel",
          "model_module_version": "1.2.0",
          "state": {
            "_model_module": "@jupyter-widgets/base",
            "_model_module_version": "1.2.0",
            "_model_name": "LayoutModel",
            "_view_count": null,
            "_view_module": "@jupyter-widgets/base",
            "_view_module_version": "1.2.0",
            "_view_name": "LayoutView",
            "align_content": null,
            "align_items": null,
            "align_self": null,
            "border": null,
            "bottom": null,
            "display": null,
            "flex": null,
            "flex_flow": null,
            "grid_area": null,
            "grid_auto_columns": null,
            "grid_auto_flow": null,
            "grid_auto_rows": null,
            "grid_column": null,
            "grid_gap": null,
            "grid_row": null,
            "grid_template_areas": null,
            "grid_template_columns": null,
            "grid_template_rows": null,
            "height": null,
            "justify_content": null,
            "justify_items": null,
            "left": null,
            "margin": null,
            "max_height": null,
            "max_width": null,
            "min_height": null,
            "min_width": null,
            "object_fit": null,
            "object_position": null,
            "order": null,
            "overflow": null,
            "overflow_x": null,
            "overflow_y": null,
            "padding": null,
            "right": null,
            "top": null,
            "visibility": null,
            "width": null
          }
        },
        "67a60d403a5042329860eee45c0b5b07": {
          "model_module": "@jupyter-widgets/base",
          "model_name": "LayoutModel",
          "model_module_version": "1.2.0",
          "state": {
            "_model_module": "@jupyter-widgets/base",
            "_model_module_version": "1.2.0",
            "_model_name": "LayoutModel",
            "_view_count": null,
            "_view_module": "@jupyter-widgets/base",
            "_view_module_version": "1.2.0",
            "_view_name": "LayoutView",
            "align_content": null,
            "align_items": null,
            "align_self": null,
            "border": null,
            "bottom": null,
            "display": null,
            "flex": null,
            "flex_flow": null,
            "grid_area": null,
            "grid_auto_columns": null,
            "grid_auto_flow": null,
            "grid_auto_rows": null,
            "grid_column": null,
            "grid_gap": null,
            "grid_row": null,
            "grid_template_areas": null,
            "grid_template_columns": null,
            "grid_template_rows": null,
            "height": null,
            "justify_content": null,
            "justify_items": null,
            "left": null,
            "margin": null,
            "max_height": null,
            "max_width": null,
            "min_height": null,
            "min_width": null,
            "object_fit": null,
            "object_position": null,
            "order": null,
            "overflow": null,
            "overflow_x": null,
            "overflow_y": null,
            "padding": null,
            "right": null,
            "top": null,
            "visibility": null,
            "width": null
          }
        },
        "fa28f6c91b364be09cad940840eaf6e5": {
          "model_module": "@jupyter-widgets/controls",
          "model_name": "DescriptionStyleModel",
          "model_module_version": "1.5.0",
          "state": {
            "_model_module": "@jupyter-widgets/controls",
            "_model_module_version": "1.5.0",
            "_model_name": "DescriptionStyleModel",
            "_view_count": null,
            "_view_module": "@jupyter-widgets/base",
            "_view_module_version": "1.2.0",
            "_view_name": "StyleView",
            "description_width": ""
          }
        },
        "856947ccb7474d42bb35adeb33b5676c": {
          "model_module": "@jupyter-widgets/base",
          "model_name": "LayoutModel",
          "model_module_version": "1.2.0",
          "state": {
            "_model_module": "@jupyter-widgets/base",
            "_model_module_version": "1.2.0",
            "_model_name": "LayoutModel",
            "_view_count": null,
            "_view_module": "@jupyter-widgets/base",
            "_view_module_version": "1.2.0",
            "_view_name": "LayoutView",
            "align_content": null,
            "align_items": null,
            "align_self": null,
            "border": null,
            "bottom": null,
            "display": null,
            "flex": null,
            "flex_flow": null,
            "grid_area": null,
            "grid_auto_columns": null,
            "grid_auto_flow": null,
            "grid_auto_rows": null,
            "grid_column": null,
            "grid_gap": null,
            "grid_row": null,
            "grid_template_areas": null,
            "grid_template_columns": null,
            "grid_template_rows": null,
            "height": null,
            "justify_content": null,
            "justify_items": null,
            "left": null,
            "margin": null,
            "max_height": null,
            "max_width": null,
            "min_height": null,
            "min_width": null,
            "object_fit": null,
            "object_position": null,
            "order": null,
            "overflow": null,
            "overflow_x": null,
            "overflow_y": null,
            "padding": null,
            "right": null,
            "top": null,
            "visibility": null,
            "width": null
          }
        },
        "27666ca0e5b64c1fb1dd93373b6c9709": {
          "model_module": "@jupyter-widgets/controls",
          "model_name": "ProgressStyleModel",
          "model_module_version": "1.5.0",
          "state": {
            "_model_module": "@jupyter-widgets/controls",
            "_model_module_version": "1.5.0",
            "_model_name": "ProgressStyleModel",
            "_view_count": null,
            "_view_module": "@jupyter-widgets/base",
            "_view_module_version": "1.2.0",
            "_view_name": "StyleView",
            "bar_color": null,
            "description_width": ""
          }
        },
        "2645eb8bf3f6420ebd2b0f3181bcbe13": {
          "model_module": "@jupyter-widgets/base",
          "model_name": "LayoutModel",
          "model_module_version": "1.2.0",
          "state": {
            "_model_module": "@jupyter-widgets/base",
            "_model_module_version": "1.2.0",
            "_model_name": "LayoutModel",
            "_view_count": null,
            "_view_module": "@jupyter-widgets/base",
            "_view_module_version": "1.2.0",
            "_view_name": "LayoutView",
            "align_content": null,
            "align_items": null,
            "align_self": null,
            "border": null,
            "bottom": null,
            "display": null,
            "flex": null,
            "flex_flow": null,
            "grid_area": null,
            "grid_auto_columns": null,
            "grid_auto_flow": null,
            "grid_auto_rows": null,
            "grid_column": null,
            "grid_gap": null,
            "grid_row": null,
            "grid_template_areas": null,
            "grid_template_columns": null,
            "grid_template_rows": null,
            "height": null,
            "justify_content": null,
            "justify_items": null,
            "left": null,
            "margin": null,
            "max_height": null,
            "max_width": null,
            "min_height": null,
            "min_width": null,
            "object_fit": null,
            "object_position": null,
            "order": null,
            "overflow": null,
            "overflow_x": null,
            "overflow_y": null,
            "padding": null,
            "right": null,
            "top": null,
            "visibility": null,
            "width": null
          }
        },
        "139cbd010e8d414f973e7744455f04f1": {
          "model_module": "@jupyter-widgets/controls",
          "model_name": "DescriptionStyleModel",
          "model_module_version": "1.5.0",
          "state": {
            "_model_module": "@jupyter-widgets/controls",
            "_model_module_version": "1.5.0",
            "_model_name": "DescriptionStyleModel",
            "_view_count": null,
            "_view_module": "@jupyter-widgets/base",
            "_view_module_version": "1.2.0",
            "_view_name": "StyleView",
            "description_width": ""
          }
        },
        "799dd7bdcd414fa283d1266b95044f4e": {
          "model_module": "@jupyter-widgets/controls",
          "model_name": "HBoxModel",
          "model_module_version": "1.5.0",
          "state": {
            "_dom_classes": [],
            "_model_module": "@jupyter-widgets/controls",
            "_model_module_version": "1.5.0",
            "_model_name": "HBoxModel",
            "_view_count": null,
            "_view_module": "@jupyter-widgets/controls",
            "_view_module_version": "1.5.0",
            "_view_name": "HBoxView",
            "box_style": "",
            "children": [
              "IPY_MODEL_ef4ab65b634c477b833ae6fd524fe28c",
              "IPY_MODEL_cab2fc862910463ea5cb10f4c92ba421",
              "IPY_MODEL_6e8f0b28881046f7881e95777c0591c6"
            ],
            "layout": "IPY_MODEL_8f8b78464baa4488ab47a4df6c8985f8"
          }
        },
        "ef4ab65b634c477b833ae6fd524fe28c": {
          "model_module": "@jupyter-widgets/controls",
          "model_name": "HTMLModel",
          "model_module_version": "1.5.0",
          "state": {
            "_dom_classes": [],
            "_model_module": "@jupyter-widgets/controls",
            "_model_module_version": "1.5.0",
            "_model_name": "HTMLModel",
            "_view_count": null,
            "_view_module": "@jupyter-widgets/controls",
            "_view_module_version": "1.5.0",
            "_view_name": "HTMLView",
            "description": "",
            "description_tooltip": null,
            "layout": "IPY_MODEL_be47d00db0564f629cac7f13b58fd85c",
            "placeholder": "​",
            "style": "IPY_MODEL_7e199f9ad7b9407982166315f53b5623",
            "value": "100%"
          }
        },
        "cab2fc862910463ea5cb10f4c92ba421": {
          "model_module": "@jupyter-widgets/controls",
          "model_name": "FloatProgressModel",
          "model_module_version": "1.5.0",
          "state": {
            "_dom_classes": [],
            "_model_module": "@jupyter-widgets/controls",
            "_model_module_version": "1.5.0",
            "_model_name": "FloatProgressModel",
            "_view_count": null,
            "_view_module": "@jupyter-widgets/controls",
            "_view_module_version": "1.5.0",
            "_view_name": "ProgressView",
            "bar_style": "success",
            "description": "",
            "description_tooltip": null,
            "layout": "IPY_MODEL_0e8e9791dd714cce999cee3c04a1061b",
            "max": 20,
            "min": 0,
            "orientation": "horizontal",
            "style": "IPY_MODEL_647004ed58fe4b29bfc649961ffcbbd7",
            "value": 20
          }
        },
        "6e8f0b28881046f7881e95777c0591c6": {
          "model_module": "@jupyter-widgets/controls",
          "model_name": "HTMLModel",
          "model_module_version": "1.5.0",
          "state": {
            "_dom_classes": [],
            "_model_module": "@jupyter-widgets/controls",
            "_model_module_version": "1.5.0",
            "_model_name": "HTMLModel",
            "_view_count": null,
            "_view_module": "@jupyter-widgets/controls",
            "_view_module_version": "1.5.0",
            "_view_name": "HTMLView",
            "description": "",
            "description_tooltip": null,
            "layout": "IPY_MODEL_c13f20567065466fa0d6250f882ba34b",
            "placeholder": "​",
            "style": "IPY_MODEL_a2fcdff1105f4ce6b4f3679dc7ded477",
            "value": " 20/20 [00:00&lt;00:00, 22.01it/s]"
          }
        },
        "8f8b78464baa4488ab47a4df6c8985f8": {
          "model_module": "@jupyter-widgets/base",
          "model_name": "LayoutModel",
          "model_module_version": "1.2.0",
          "state": {
            "_model_module": "@jupyter-widgets/base",
            "_model_module_version": "1.2.0",
            "_model_name": "LayoutModel",
            "_view_count": null,
            "_view_module": "@jupyter-widgets/base",
            "_view_module_version": "1.2.0",
            "_view_name": "LayoutView",
            "align_content": null,
            "align_items": null,
            "align_self": null,
            "border": null,
            "bottom": null,
            "display": null,
            "flex": null,
            "flex_flow": null,
            "grid_area": null,
            "grid_auto_columns": null,
            "grid_auto_flow": null,
            "grid_auto_rows": null,
            "grid_column": null,
            "grid_gap": null,
            "grid_row": null,
            "grid_template_areas": null,
            "grid_template_columns": null,
            "grid_template_rows": null,
            "height": null,
            "justify_content": null,
            "justify_items": null,
            "left": null,
            "margin": null,
            "max_height": null,
            "max_width": null,
            "min_height": null,
            "min_width": null,
            "object_fit": null,
            "object_position": null,
            "order": null,
            "overflow": null,
            "overflow_x": null,
            "overflow_y": null,
            "padding": null,
            "right": null,
            "top": null,
            "visibility": null,
            "width": null
          }
        },
        "be47d00db0564f629cac7f13b58fd85c": {
          "model_module": "@jupyter-widgets/base",
          "model_name": "LayoutModel",
          "model_module_version": "1.2.0",
          "state": {
            "_model_module": "@jupyter-widgets/base",
            "_model_module_version": "1.2.0",
            "_model_name": "LayoutModel",
            "_view_count": null,
            "_view_module": "@jupyter-widgets/base",
            "_view_module_version": "1.2.0",
            "_view_name": "LayoutView",
            "align_content": null,
            "align_items": null,
            "align_self": null,
            "border": null,
            "bottom": null,
            "display": null,
            "flex": null,
            "flex_flow": null,
            "grid_area": null,
            "grid_auto_columns": null,
            "grid_auto_flow": null,
            "grid_auto_rows": null,
            "grid_column": null,
            "grid_gap": null,
            "grid_row": null,
            "grid_template_areas": null,
            "grid_template_columns": null,
            "grid_template_rows": null,
            "height": null,
            "justify_content": null,
            "justify_items": null,
            "left": null,
            "margin": null,
            "max_height": null,
            "max_width": null,
            "min_height": null,
            "min_width": null,
            "object_fit": null,
            "object_position": null,
            "order": null,
            "overflow": null,
            "overflow_x": null,
            "overflow_y": null,
            "padding": null,
            "right": null,
            "top": null,
            "visibility": null,
            "width": null
          }
        },
        "7e199f9ad7b9407982166315f53b5623": {
          "model_module": "@jupyter-widgets/controls",
          "model_name": "DescriptionStyleModel",
          "model_module_version": "1.5.0",
          "state": {
            "_model_module": "@jupyter-widgets/controls",
            "_model_module_version": "1.5.0",
            "_model_name": "DescriptionStyleModel",
            "_view_count": null,
            "_view_module": "@jupyter-widgets/base",
            "_view_module_version": "1.2.0",
            "_view_name": "StyleView",
            "description_width": ""
          }
        },
        "0e8e9791dd714cce999cee3c04a1061b": {
          "model_module": "@jupyter-widgets/base",
          "model_name": "LayoutModel",
          "model_module_version": "1.2.0",
          "state": {
            "_model_module": "@jupyter-widgets/base",
            "_model_module_version": "1.2.0",
            "_model_name": "LayoutModel",
            "_view_count": null,
            "_view_module": "@jupyter-widgets/base",
            "_view_module_version": "1.2.0",
            "_view_name": "LayoutView",
            "align_content": null,
            "align_items": null,
            "align_self": null,
            "border": null,
            "bottom": null,
            "display": null,
            "flex": null,
            "flex_flow": null,
            "grid_area": null,
            "grid_auto_columns": null,
            "grid_auto_flow": null,
            "grid_auto_rows": null,
            "grid_column": null,
            "grid_gap": null,
            "grid_row": null,
            "grid_template_areas": null,
            "grid_template_columns": null,
            "grid_template_rows": null,
            "height": null,
            "justify_content": null,
            "justify_items": null,
            "left": null,
            "margin": null,
            "max_height": null,
            "max_width": null,
            "min_height": null,
            "min_width": null,
            "object_fit": null,
            "object_position": null,
            "order": null,
            "overflow": null,
            "overflow_x": null,
            "overflow_y": null,
            "padding": null,
            "right": null,
            "top": null,
            "visibility": null,
            "width": null
          }
        },
        "647004ed58fe4b29bfc649961ffcbbd7": {
          "model_module": "@jupyter-widgets/controls",
          "model_name": "ProgressStyleModel",
          "model_module_version": "1.5.0",
          "state": {
            "_model_module": "@jupyter-widgets/controls",
            "_model_module_version": "1.5.0",
            "_model_name": "ProgressStyleModel",
            "_view_count": null,
            "_view_module": "@jupyter-widgets/base",
            "_view_module_version": "1.2.0",
            "_view_name": "StyleView",
            "bar_color": null,
            "description_width": ""
          }
        },
        "c13f20567065466fa0d6250f882ba34b": {
          "model_module": "@jupyter-widgets/base",
          "model_name": "LayoutModel",
          "model_module_version": "1.2.0",
          "state": {
            "_model_module": "@jupyter-widgets/base",
            "_model_module_version": "1.2.0",
            "_model_name": "LayoutModel",
            "_view_count": null,
            "_view_module": "@jupyter-widgets/base",
            "_view_module_version": "1.2.0",
            "_view_name": "LayoutView",
            "align_content": null,
            "align_items": null,
            "align_self": null,
            "border": null,
            "bottom": null,
            "display": null,
            "flex": null,
            "flex_flow": null,
            "grid_area": null,
            "grid_auto_columns": null,
            "grid_auto_flow": null,
            "grid_auto_rows": null,
            "grid_column": null,
            "grid_gap": null,
            "grid_row": null,
            "grid_template_areas": null,
            "grid_template_columns": null,
            "grid_template_rows": null,
            "height": null,
            "justify_content": null,
            "justify_items": null,
            "left": null,
            "margin": null,
            "max_height": null,
            "max_width": null,
            "min_height": null,
            "min_width": null,
            "object_fit": null,
            "object_position": null,
            "order": null,
            "overflow": null,
            "overflow_x": null,
            "overflow_y": null,
            "padding": null,
            "right": null,
            "top": null,
            "visibility": null,
            "width": null
          }
        },
        "a2fcdff1105f4ce6b4f3679dc7ded477": {
          "model_module": "@jupyter-widgets/controls",
          "model_name": "DescriptionStyleModel",
          "model_module_version": "1.5.0",
          "state": {
            "_model_module": "@jupyter-widgets/controls",
            "_model_module_version": "1.5.0",
            "_model_name": "DescriptionStyleModel",
            "_view_count": null,
            "_view_module": "@jupyter-widgets/base",
            "_view_module_version": "1.2.0",
            "_view_name": "StyleView",
            "description_width": ""
          }
        },
        "dd7d3fe16786437c95f30c7f3ee9cd6f": {
          "model_module": "@jupyter-widgets/controls",
          "model_name": "HBoxModel",
          "model_module_version": "1.5.0",
          "state": {
            "_dom_classes": [],
            "_model_module": "@jupyter-widgets/controls",
            "_model_module_version": "1.5.0",
            "_model_name": "HBoxModel",
            "_view_count": null,
            "_view_module": "@jupyter-widgets/controls",
            "_view_module_version": "1.5.0",
            "_view_name": "HBoxView",
            "box_style": "",
            "children": [
              "IPY_MODEL_2035d29511f34e93b15a775a3a17399a",
              "IPY_MODEL_270afd9cbe4b462d8857c91ebdca1b64",
              "IPY_MODEL_31a99a388d0d47f6a65ae3fbdfcb35b0"
            ],
            "layout": "IPY_MODEL_25a038e9c3c74d4198dfe8821348f26e"
          }
        },
        "2035d29511f34e93b15a775a3a17399a": {
          "model_module": "@jupyter-widgets/controls",
          "model_name": "HTMLModel",
          "model_module_version": "1.5.0",
          "state": {
            "_dom_classes": [],
            "_model_module": "@jupyter-widgets/controls",
            "_model_module_version": "1.5.0",
            "_model_name": "HTMLModel",
            "_view_count": null,
            "_view_module": "@jupyter-widgets/controls",
            "_view_module_version": "1.5.0",
            "_view_name": "HTMLView",
            "description": "",
            "description_tooltip": null,
            "layout": "IPY_MODEL_29de34392e3f49c8a2da9236f73d9f60",
            "placeholder": "​",
            "style": "IPY_MODEL_c6fa0efb52bf438982db91f341f331fc",
            "value": "100%"
          }
        },
        "270afd9cbe4b462d8857c91ebdca1b64": {
          "model_module": "@jupyter-widgets/controls",
          "model_name": "FloatProgressModel",
          "model_module_version": "1.5.0",
          "state": {
            "_dom_classes": [],
            "_model_module": "@jupyter-widgets/controls",
            "_model_module_version": "1.5.0",
            "_model_name": "FloatProgressModel",
            "_view_count": null,
            "_view_module": "@jupyter-widgets/controls",
            "_view_module_version": "1.5.0",
            "_view_name": "ProgressView",
            "bar_style": "success",
            "description": "",
            "description_tooltip": null,
            "layout": "IPY_MODEL_1b605ef7946945f1aeaf664a02a68394",
            "max": 20,
            "min": 0,
            "orientation": "horizontal",
            "style": "IPY_MODEL_3bd583e0164740c8b046a6ed8068d27b",
            "value": 20
          }
        },
        "31a99a388d0d47f6a65ae3fbdfcb35b0": {
          "model_module": "@jupyter-widgets/controls",
          "model_name": "HTMLModel",
          "model_module_version": "1.5.0",
          "state": {
            "_dom_classes": [],
            "_model_module": "@jupyter-widgets/controls",
            "_model_module_version": "1.5.0",
            "_model_name": "HTMLModel",
            "_view_count": null,
            "_view_module": "@jupyter-widgets/controls",
            "_view_module_version": "1.5.0",
            "_view_name": "HTMLView",
            "description": "",
            "description_tooltip": null,
            "layout": "IPY_MODEL_59324c364bda44a2a5329df097b38421",
            "placeholder": "​",
            "style": "IPY_MODEL_83a8edfe9a7843e182acbaa7dc3f7957",
            "value": " 20/20 [00:00&lt;00:00, 22.73it/s]"
          }
        },
        "25a038e9c3c74d4198dfe8821348f26e": {
          "model_module": "@jupyter-widgets/base",
          "model_name": "LayoutModel",
          "model_module_version": "1.2.0",
          "state": {
            "_model_module": "@jupyter-widgets/base",
            "_model_module_version": "1.2.0",
            "_model_name": "LayoutModel",
            "_view_count": null,
            "_view_module": "@jupyter-widgets/base",
            "_view_module_version": "1.2.0",
            "_view_name": "LayoutView",
            "align_content": null,
            "align_items": null,
            "align_self": null,
            "border": null,
            "bottom": null,
            "display": null,
            "flex": null,
            "flex_flow": null,
            "grid_area": null,
            "grid_auto_columns": null,
            "grid_auto_flow": null,
            "grid_auto_rows": null,
            "grid_column": null,
            "grid_gap": null,
            "grid_row": null,
            "grid_template_areas": null,
            "grid_template_columns": null,
            "grid_template_rows": null,
            "height": null,
            "justify_content": null,
            "justify_items": null,
            "left": null,
            "margin": null,
            "max_height": null,
            "max_width": null,
            "min_height": null,
            "min_width": null,
            "object_fit": null,
            "object_position": null,
            "order": null,
            "overflow": null,
            "overflow_x": null,
            "overflow_y": null,
            "padding": null,
            "right": null,
            "top": null,
            "visibility": null,
            "width": null
          }
        },
        "29de34392e3f49c8a2da9236f73d9f60": {
          "model_module": "@jupyter-widgets/base",
          "model_name": "LayoutModel",
          "model_module_version": "1.2.0",
          "state": {
            "_model_module": "@jupyter-widgets/base",
            "_model_module_version": "1.2.0",
            "_model_name": "LayoutModel",
            "_view_count": null,
            "_view_module": "@jupyter-widgets/base",
            "_view_module_version": "1.2.0",
            "_view_name": "LayoutView",
            "align_content": null,
            "align_items": null,
            "align_self": null,
            "border": null,
            "bottom": null,
            "display": null,
            "flex": null,
            "flex_flow": null,
            "grid_area": null,
            "grid_auto_columns": null,
            "grid_auto_flow": null,
            "grid_auto_rows": null,
            "grid_column": null,
            "grid_gap": null,
            "grid_row": null,
            "grid_template_areas": null,
            "grid_template_columns": null,
            "grid_template_rows": null,
            "height": null,
            "justify_content": null,
            "justify_items": null,
            "left": null,
            "margin": null,
            "max_height": null,
            "max_width": null,
            "min_height": null,
            "min_width": null,
            "object_fit": null,
            "object_position": null,
            "order": null,
            "overflow": null,
            "overflow_x": null,
            "overflow_y": null,
            "padding": null,
            "right": null,
            "top": null,
            "visibility": null,
            "width": null
          }
        },
        "c6fa0efb52bf438982db91f341f331fc": {
          "model_module": "@jupyter-widgets/controls",
          "model_name": "DescriptionStyleModel",
          "model_module_version": "1.5.0",
          "state": {
            "_model_module": "@jupyter-widgets/controls",
            "_model_module_version": "1.5.0",
            "_model_name": "DescriptionStyleModel",
            "_view_count": null,
            "_view_module": "@jupyter-widgets/base",
            "_view_module_version": "1.2.0",
            "_view_name": "StyleView",
            "description_width": ""
          }
        },
        "1b605ef7946945f1aeaf664a02a68394": {
          "model_module": "@jupyter-widgets/base",
          "model_name": "LayoutModel",
          "model_module_version": "1.2.0",
          "state": {
            "_model_module": "@jupyter-widgets/base",
            "_model_module_version": "1.2.0",
            "_model_name": "LayoutModel",
            "_view_count": null,
            "_view_module": "@jupyter-widgets/base",
            "_view_module_version": "1.2.0",
            "_view_name": "LayoutView",
            "align_content": null,
            "align_items": null,
            "align_self": null,
            "border": null,
            "bottom": null,
            "display": null,
            "flex": null,
            "flex_flow": null,
            "grid_area": null,
            "grid_auto_columns": null,
            "grid_auto_flow": null,
            "grid_auto_rows": null,
            "grid_column": null,
            "grid_gap": null,
            "grid_row": null,
            "grid_template_areas": null,
            "grid_template_columns": null,
            "grid_template_rows": null,
            "height": null,
            "justify_content": null,
            "justify_items": null,
            "left": null,
            "margin": null,
            "max_height": null,
            "max_width": null,
            "min_height": null,
            "min_width": null,
            "object_fit": null,
            "object_position": null,
            "order": null,
            "overflow": null,
            "overflow_x": null,
            "overflow_y": null,
            "padding": null,
            "right": null,
            "top": null,
            "visibility": null,
            "width": null
          }
        },
        "3bd583e0164740c8b046a6ed8068d27b": {
          "model_module": "@jupyter-widgets/controls",
          "model_name": "ProgressStyleModel",
          "model_module_version": "1.5.0",
          "state": {
            "_model_module": "@jupyter-widgets/controls",
            "_model_module_version": "1.5.0",
            "_model_name": "ProgressStyleModel",
            "_view_count": null,
            "_view_module": "@jupyter-widgets/base",
            "_view_module_version": "1.2.0",
            "_view_name": "StyleView",
            "bar_color": null,
            "description_width": ""
          }
        },
        "59324c364bda44a2a5329df097b38421": {
          "model_module": "@jupyter-widgets/base",
          "model_name": "LayoutModel",
          "model_module_version": "1.2.0",
          "state": {
            "_model_module": "@jupyter-widgets/base",
            "_model_module_version": "1.2.0",
            "_model_name": "LayoutModel",
            "_view_count": null,
            "_view_module": "@jupyter-widgets/base",
            "_view_module_version": "1.2.0",
            "_view_name": "LayoutView",
            "align_content": null,
            "align_items": null,
            "align_self": null,
            "border": null,
            "bottom": null,
            "display": null,
            "flex": null,
            "flex_flow": null,
            "grid_area": null,
            "grid_auto_columns": null,
            "grid_auto_flow": null,
            "grid_auto_rows": null,
            "grid_column": null,
            "grid_gap": null,
            "grid_row": null,
            "grid_template_areas": null,
            "grid_template_columns": null,
            "grid_template_rows": null,
            "height": null,
            "justify_content": null,
            "justify_items": null,
            "left": null,
            "margin": null,
            "max_height": null,
            "max_width": null,
            "min_height": null,
            "min_width": null,
            "object_fit": null,
            "object_position": null,
            "order": null,
            "overflow": null,
            "overflow_x": null,
            "overflow_y": null,
            "padding": null,
            "right": null,
            "top": null,
            "visibility": null,
            "width": null
          }
        },
        "83a8edfe9a7843e182acbaa7dc3f7957": {
          "model_module": "@jupyter-widgets/controls",
          "model_name": "DescriptionStyleModel",
          "model_module_version": "1.5.0",
          "state": {
            "_model_module": "@jupyter-widgets/controls",
            "_model_module_version": "1.5.0",
            "_model_name": "DescriptionStyleModel",
            "_view_count": null,
            "_view_module": "@jupyter-widgets/base",
            "_view_module_version": "1.2.0",
            "_view_name": "StyleView",
            "description_width": ""
          }
        },
        "58f107350bc8445ba3c07a0638d07e8a": {
          "model_module": "@jupyter-widgets/controls",
          "model_name": "HBoxModel",
          "model_module_version": "1.5.0",
          "state": {
            "_dom_classes": [],
            "_model_module": "@jupyter-widgets/controls",
            "_model_module_version": "1.5.0",
            "_model_name": "HBoxModel",
            "_view_count": null,
            "_view_module": "@jupyter-widgets/controls",
            "_view_module_version": "1.5.0",
            "_view_name": "HBoxView",
            "box_style": "",
            "children": [
              "IPY_MODEL_867b2d9e98374172a48c92434c4cfd41",
              "IPY_MODEL_319369b95fab49f8b6d7b944d42f771d",
              "IPY_MODEL_bd0ee1b05d114a5a96e402f681c7a05c"
            ],
            "layout": "IPY_MODEL_ddd0f6fbfdf840edb21421ebb31b9094"
          }
        },
        "867b2d9e98374172a48c92434c4cfd41": {
          "model_module": "@jupyter-widgets/controls",
          "model_name": "HTMLModel",
          "model_module_version": "1.5.0",
          "state": {
            "_dom_classes": [],
            "_model_module": "@jupyter-widgets/controls",
            "_model_module_version": "1.5.0",
            "_model_name": "HTMLModel",
            "_view_count": null,
            "_view_module": "@jupyter-widgets/controls",
            "_view_module_version": "1.5.0",
            "_view_name": "HTMLView",
            "description": "",
            "description_tooltip": null,
            "layout": "IPY_MODEL_fa7db0af553547ab8620cb877f5ad81a",
            "placeholder": "​",
            "style": "IPY_MODEL_9bfaf4c598464043a4e1a404845879d5",
            "value": "100%"
          }
        },
        "319369b95fab49f8b6d7b944d42f771d": {
          "model_module": "@jupyter-widgets/controls",
          "model_name": "FloatProgressModel",
          "model_module_version": "1.5.0",
          "state": {
            "_dom_classes": [],
            "_model_module": "@jupyter-widgets/controls",
            "_model_module_version": "1.5.0",
            "_model_name": "FloatProgressModel",
            "_view_count": null,
            "_view_module": "@jupyter-widgets/controls",
            "_view_module_version": "1.5.0",
            "_view_name": "ProgressView",
            "bar_style": "success",
            "description": "",
            "description_tooltip": null,
            "layout": "IPY_MODEL_31d17c22fdc24c69a642f08bc49ee6f6",
            "max": 20,
            "min": 0,
            "orientation": "horizontal",
            "style": "IPY_MODEL_568f94aae91842f49171cb676c316358",
            "value": 20
          }
        },
        "bd0ee1b05d114a5a96e402f681c7a05c": {
          "model_module": "@jupyter-widgets/controls",
          "model_name": "HTMLModel",
          "model_module_version": "1.5.0",
          "state": {
            "_dom_classes": [],
            "_model_module": "@jupyter-widgets/controls",
            "_model_module_version": "1.5.0",
            "_model_name": "HTMLModel",
            "_view_count": null,
            "_view_module": "@jupyter-widgets/controls",
            "_view_module_version": "1.5.0",
            "_view_name": "HTMLView",
            "description": "",
            "description_tooltip": null,
            "layout": "IPY_MODEL_6da597a5909b42daad4fe1a5fd0e7301",
            "placeholder": "​",
            "style": "IPY_MODEL_e886bbf735574510b5ab274af32036f2",
            "value": " 20/20 [00:00&lt;00:00, 21.93it/s]"
          }
        },
        "ddd0f6fbfdf840edb21421ebb31b9094": {
          "model_module": "@jupyter-widgets/base",
          "model_name": "LayoutModel",
          "model_module_version": "1.2.0",
          "state": {
            "_model_module": "@jupyter-widgets/base",
            "_model_module_version": "1.2.0",
            "_model_name": "LayoutModel",
            "_view_count": null,
            "_view_module": "@jupyter-widgets/base",
            "_view_module_version": "1.2.0",
            "_view_name": "LayoutView",
            "align_content": null,
            "align_items": null,
            "align_self": null,
            "border": null,
            "bottom": null,
            "display": null,
            "flex": null,
            "flex_flow": null,
            "grid_area": null,
            "grid_auto_columns": null,
            "grid_auto_flow": null,
            "grid_auto_rows": null,
            "grid_column": null,
            "grid_gap": null,
            "grid_row": null,
            "grid_template_areas": null,
            "grid_template_columns": null,
            "grid_template_rows": null,
            "height": null,
            "justify_content": null,
            "justify_items": null,
            "left": null,
            "margin": null,
            "max_height": null,
            "max_width": null,
            "min_height": null,
            "min_width": null,
            "object_fit": null,
            "object_position": null,
            "order": null,
            "overflow": null,
            "overflow_x": null,
            "overflow_y": null,
            "padding": null,
            "right": null,
            "top": null,
            "visibility": null,
            "width": null
          }
        },
        "fa7db0af553547ab8620cb877f5ad81a": {
          "model_module": "@jupyter-widgets/base",
          "model_name": "LayoutModel",
          "model_module_version": "1.2.0",
          "state": {
            "_model_module": "@jupyter-widgets/base",
            "_model_module_version": "1.2.0",
            "_model_name": "LayoutModel",
            "_view_count": null,
            "_view_module": "@jupyter-widgets/base",
            "_view_module_version": "1.2.0",
            "_view_name": "LayoutView",
            "align_content": null,
            "align_items": null,
            "align_self": null,
            "border": null,
            "bottom": null,
            "display": null,
            "flex": null,
            "flex_flow": null,
            "grid_area": null,
            "grid_auto_columns": null,
            "grid_auto_flow": null,
            "grid_auto_rows": null,
            "grid_column": null,
            "grid_gap": null,
            "grid_row": null,
            "grid_template_areas": null,
            "grid_template_columns": null,
            "grid_template_rows": null,
            "height": null,
            "justify_content": null,
            "justify_items": null,
            "left": null,
            "margin": null,
            "max_height": null,
            "max_width": null,
            "min_height": null,
            "min_width": null,
            "object_fit": null,
            "object_position": null,
            "order": null,
            "overflow": null,
            "overflow_x": null,
            "overflow_y": null,
            "padding": null,
            "right": null,
            "top": null,
            "visibility": null,
            "width": null
          }
        },
        "9bfaf4c598464043a4e1a404845879d5": {
          "model_module": "@jupyter-widgets/controls",
          "model_name": "DescriptionStyleModel",
          "model_module_version": "1.5.0",
          "state": {
            "_model_module": "@jupyter-widgets/controls",
            "_model_module_version": "1.5.0",
            "_model_name": "DescriptionStyleModel",
            "_view_count": null,
            "_view_module": "@jupyter-widgets/base",
            "_view_module_version": "1.2.0",
            "_view_name": "StyleView",
            "description_width": ""
          }
        },
        "31d17c22fdc24c69a642f08bc49ee6f6": {
          "model_module": "@jupyter-widgets/base",
          "model_name": "LayoutModel",
          "model_module_version": "1.2.0",
          "state": {
            "_model_module": "@jupyter-widgets/base",
            "_model_module_version": "1.2.0",
            "_model_name": "LayoutModel",
            "_view_count": null,
            "_view_module": "@jupyter-widgets/base",
            "_view_module_version": "1.2.0",
            "_view_name": "LayoutView",
            "align_content": null,
            "align_items": null,
            "align_self": null,
            "border": null,
            "bottom": null,
            "display": null,
            "flex": null,
            "flex_flow": null,
            "grid_area": null,
            "grid_auto_columns": null,
            "grid_auto_flow": null,
            "grid_auto_rows": null,
            "grid_column": null,
            "grid_gap": null,
            "grid_row": null,
            "grid_template_areas": null,
            "grid_template_columns": null,
            "grid_template_rows": null,
            "height": null,
            "justify_content": null,
            "justify_items": null,
            "left": null,
            "margin": null,
            "max_height": null,
            "max_width": null,
            "min_height": null,
            "min_width": null,
            "object_fit": null,
            "object_position": null,
            "order": null,
            "overflow": null,
            "overflow_x": null,
            "overflow_y": null,
            "padding": null,
            "right": null,
            "top": null,
            "visibility": null,
            "width": null
          }
        },
        "568f94aae91842f49171cb676c316358": {
          "model_module": "@jupyter-widgets/controls",
          "model_name": "ProgressStyleModel",
          "model_module_version": "1.5.0",
          "state": {
            "_model_module": "@jupyter-widgets/controls",
            "_model_module_version": "1.5.0",
            "_model_name": "ProgressStyleModel",
            "_view_count": null,
            "_view_module": "@jupyter-widgets/base",
            "_view_module_version": "1.2.0",
            "_view_name": "StyleView",
            "bar_color": null,
            "description_width": ""
          }
        },
        "6da597a5909b42daad4fe1a5fd0e7301": {
          "model_module": "@jupyter-widgets/base",
          "model_name": "LayoutModel",
          "model_module_version": "1.2.0",
          "state": {
            "_model_module": "@jupyter-widgets/base",
            "_model_module_version": "1.2.0",
            "_model_name": "LayoutModel",
            "_view_count": null,
            "_view_module": "@jupyter-widgets/base",
            "_view_module_version": "1.2.0",
            "_view_name": "LayoutView",
            "align_content": null,
            "align_items": null,
            "align_self": null,
            "border": null,
            "bottom": null,
            "display": null,
            "flex": null,
            "flex_flow": null,
            "grid_area": null,
            "grid_auto_columns": null,
            "grid_auto_flow": null,
            "grid_auto_rows": null,
            "grid_column": null,
            "grid_gap": null,
            "grid_row": null,
            "grid_template_areas": null,
            "grid_template_columns": null,
            "grid_template_rows": null,
            "height": null,
            "justify_content": null,
            "justify_items": null,
            "left": null,
            "margin": null,
            "max_height": null,
            "max_width": null,
            "min_height": null,
            "min_width": null,
            "object_fit": null,
            "object_position": null,
            "order": null,
            "overflow": null,
            "overflow_x": null,
            "overflow_y": null,
            "padding": null,
            "right": null,
            "top": null,
            "visibility": null,
            "width": null
          }
        },
        "e886bbf735574510b5ab274af32036f2": {
          "model_module": "@jupyter-widgets/controls",
          "model_name": "DescriptionStyleModel",
          "model_module_version": "1.5.0",
          "state": {
            "_model_module": "@jupyter-widgets/controls",
            "_model_module_version": "1.5.0",
            "_model_name": "DescriptionStyleModel",
            "_view_count": null,
            "_view_module": "@jupyter-widgets/base",
            "_view_module_version": "1.2.0",
            "_view_name": "StyleView",
            "description_width": ""
          }
        },
        "1142ec79a40c4b8bb7d5cfdca2d39d33": {
          "model_module": "@jupyter-widgets/controls",
          "model_name": "HBoxModel",
          "model_module_version": "1.5.0",
          "state": {
            "_dom_classes": [],
            "_model_module": "@jupyter-widgets/controls",
            "_model_module_version": "1.5.0",
            "_model_name": "HBoxModel",
            "_view_count": null,
            "_view_module": "@jupyter-widgets/controls",
            "_view_module_version": "1.5.0",
            "_view_name": "HBoxView",
            "box_style": "",
            "children": [
              "IPY_MODEL_c419261ce9ce48d7b460076556b5edf1",
              "IPY_MODEL_e37d62fc3a48464f859ff0cc460dde0e",
              "IPY_MODEL_7c9dbe8037fa4bf08351ff8ebf724d5d"
            ],
            "layout": "IPY_MODEL_ee2421572b074853ae87f26b6f913709"
          }
        },
        "c419261ce9ce48d7b460076556b5edf1": {
          "model_module": "@jupyter-widgets/controls",
          "model_name": "HTMLModel",
          "model_module_version": "1.5.0",
          "state": {
            "_dom_classes": [],
            "_model_module": "@jupyter-widgets/controls",
            "_model_module_version": "1.5.0",
            "_model_name": "HTMLModel",
            "_view_count": null,
            "_view_module": "@jupyter-widgets/controls",
            "_view_module_version": "1.5.0",
            "_view_name": "HTMLView",
            "description": "",
            "description_tooltip": null,
            "layout": "IPY_MODEL_8c2a0c116e2445e08564a473d553df05",
            "placeholder": "​",
            "style": "IPY_MODEL_4dcdfff49caf4b38be0eca48d98dca73",
            "value": "100%"
          }
        },
        "e37d62fc3a48464f859ff0cc460dde0e": {
          "model_module": "@jupyter-widgets/controls",
          "model_name": "FloatProgressModel",
          "model_module_version": "1.5.0",
          "state": {
            "_dom_classes": [],
            "_model_module": "@jupyter-widgets/controls",
            "_model_module_version": "1.5.0",
            "_model_name": "FloatProgressModel",
            "_view_count": null,
            "_view_module": "@jupyter-widgets/controls",
            "_view_module_version": "1.5.0",
            "_view_name": "ProgressView",
            "bar_style": "success",
            "description": "",
            "description_tooltip": null,
            "layout": "IPY_MODEL_ea2a40be12d84538ad2e2f4ec90664c4",
            "max": 20,
            "min": 0,
            "orientation": "horizontal",
            "style": "IPY_MODEL_3122013803ee430092317fa886e3f920",
            "value": 20
          }
        },
        "7c9dbe8037fa4bf08351ff8ebf724d5d": {
          "model_module": "@jupyter-widgets/controls",
          "model_name": "HTMLModel",
          "model_module_version": "1.5.0",
          "state": {
            "_dom_classes": [],
            "_model_module": "@jupyter-widgets/controls",
            "_model_module_version": "1.5.0",
            "_model_name": "HTMLModel",
            "_view_count": null,
            "_view_module": "@jupyter-widgets/controls",
            "_view_module_version": "1.5.0",
            "_view_name": "HTMLView",
            "description": "",
            "description_tooltip": null,
            "layout": "IPY_MODEL_3ad0497769484f12ab6f4c3fee5cde00",
            "placeholder": "​",
            "style": "IPY_MODEL_2ce4ac8951a0462a82d8408147515ff0",
            "value": " 20/20 [00:00&lt;00:00, 22.02it/s]"
          }
        },
        "ee2421572b074853ae87f26b6f913709": {
          "model_module": "@jupyter-widgets/base",
          "model_name": "LayoutModel",
          "model_module_version": "1.2.0",
          "state": {
            "_model_module": "@jupyter-widgets/base",
            "_model_module_version": "1.2.0",
            "_model_name": "LayoutModel",
            "_view_count": null,
            "_view_module": "@jupyter-widgets/base",
            "_view_module_version": "1.2.0",
            "_view_name": "LayoutView",
            "align_content": null,
            "align_items": null,
            "align_self": null,
            "border": null,
            "bottom": null,
            "display": null,
            "flex": null,
            "flex_flow": null,
            "grid_area": null,
            "grid_auto_columns": null,
            "grid_auto_flow": null,
            "grid_auto_rows": null,
            "grid_column": null,
            "grid_gap": null,
            "grid_row": null,
            "grid_template_areas": null,
            "grid_template_columns": null,
            "grid_template_rows": null,
            "height": null,
            "justify_content": null,
            "justify_items": null,
            "left": null,
            "margin": null,
            "max_height": null,
            "max_width": null,
            "min_height": null,
            "min_width": null,
            "object_fit": null,
            "object_position": null,
            "order": null,
            "overflow": null,
            "overflow_x": null,
            "overflow_y": null,
            "padding": null,
            "right": null,
            "top": null,
            "visibility": null,
            "width": null
          }
        },
        "8c2a0c116e2445e08564a473d553df05": {
          "model_module": "@jupyter-widgets/base",
          "model_name": "LayoutModel",
          "model_module_version": "1.2.0",
          "state": {
            "_model_module": "@jupyter-widgets/base",
            "_model_module_version": "1.2.0",
            "_model_name": "LayoutModel",
            "_view_count": null,
            "_view_module": "@jupyter-widgets/base",
            "_view_module_version": "1.2.0",
            "_view_name": "LayoutView",
            "align_content": null,
            "align_items": null,
            "align_self": null,
            "border": null,
            "bottom": null,
            "display": null,
            "flex": null,
            "flex_flow": null,
            "grid_area": null,
            "grid_auto_columns": null,
            "grid_auto_flow": null,
            "grid_auto_rows": null,
            "grid_column": null,
            "grid_gap": null,
            "grid_row": null,
            "grid_template_areas": null,
            "grid_template_columns": null,
            "grid_template_rows": null,
            "height": null,
            "justify_content": null,
            "justify_items": null,
            "left": null,
            "margin": null,
            "max_height": null,
            "max_width": null,
            "min_height": null,
            "min_width": null,
            "object_fit": null,
            "object_position": null,
            "order": null,
            "overflow": null,
            "overflow_x": null,
            "overflow_y": null,
            "padding": null,
            "right": null,
            "top": null,
            "visibility": null,
            "width": null
          }
        },
        "4dcdfff49caf4b38be0eca48d98dca73": {
          "model_module": "@jupyter-widgets/controls",
          "model_name": "DescriptionStyleModel",
          "model_module_version": "1.5.0",
          "state": {
            "_model_module": "@jupyter-widgets/controls",
            "_model_module_version": "1.5.0",
            "_model_name": "DescriptionStyleModel",
            "_view_count": null,
            "_view_module": "@jupyter-widgets/base",
            "_view_module_version": "1.2.0",
            "_view_name": "StyleView",
            "description_width": ""
          }
        },
        "ea2a40be12d84538ad2e2f4ec90664c4": {
          "model_module": "@jupyter-widgets/base",
          "model_name": "LayoutModel",
          "model_module_version": "1.2.0",
          "state": {
            "_model_module": "@jupyter-widgets/base",
            "_model_module_version": "1.2.0",
            "_model_name": "LayoutModel",
            "_view_count": null,
            "_view_module": "@jupyter-widgets/base",
            "_view_module_version": "1.2.0",
            "_view_name": "LayoutView",
            "align_content": null,
            "align_items": null,
            "align_self": null,
            "border": null,
            "bottom": null,
            "display": null,
            "flex": null,
            "flex_flow": null,
            "grid_area": null,
            "grid_auto_columns": null,
            "grid_auto_flow": null,
            "grid_auto_rows": null,
            "grid_column": null,
            "grid_gap": null,
            "grid_row": null,
            "grid_template_areas": null,
            "grid_template_columns": null,
            "grid_template_rows": null,
            "height": null,
            "justify_content": null,
            "justify_items": null,
            "left": null,
            "margin": null,
            "max_height": null,
            "max_width": null,
            "min_height": null,
            "min_width": null,
            "object_fit": null,
            "object_position": null,
            "order": null,
            "overflow": null,
            "overflow_x": null,
            "overflow_y": null,
            "padding": null,
            "right": null,
            "top": null,
            "visibility": null,
            "width": null
          }
        },
        "3122013803ee430092317fa886e3f920": {
          "model_module": "@jupyter-widgets/controls",
          "model_name": "ProgressStyleModel",
          "model_module_version": "1.5.0",
          "state": {
            "_model_module": "@jupyter-widgets/controls",
            "_model_module_version": "1.5.0",
            "_model_name": "ProgressStyleModel",
            "_view_count": null,
            "_view_module": "@jupyter-widgets/base",
            "_view_module_version": "1.2.0",
            "_view_name": "StyleView",
            "bar_color": null,
            "description_width": ""
          }
        },
        "3ad0497769484f12ab6f4c3fee5cde00": {
          "model_module": "@jupyter-widgets/base",
          "model_name": "LayoutModel",
          "model_module_version": "1.2.0",
          "state": {
            "_model_module": "@jupyter-widgets/base",
            "_model_module_version": "1.2.0",
            "_model_name": "LayoutModel",
            "_view_count": null,
            "_view_module": "@jupyter-widgets/base",
            "_view_module_version": "1.2.0",
            "_view_name": "LayoutView",
            "align_content": null,
            "align_items": null,
            "align_self": null,
            "border": null,
            "bottom": null,
            "display": null,
            "flex": null,
            "flex_flow": null,
            "grid_area": null,
            "grid_auto_columns": null,
            "grid_auto_flow": null,
            "grid_auto_rows": null,
            "grid_column": null,
            "grid_gap": null,
            "grid_row": null,
            "grid_template_areas": null,
            "grid_template_columns": null,
            "grid_template_rows": null,
            "height": null,
            "justify_content": null,
            "justify_items": null,
            "left": null,
            "margin": null,
            "max_height": null,
            "max_width": null,
            "min_height": null,
            "min_width": null,
            "object_fit": null,
            "object_position": null,
            "order": null,
            "overflow": null,
            "overflow_x": null,
            "overflow_y": null,
            "padding": null,
            "right": null,
            "top": null,
            "visibility": null,
            "width": null
          }
        },
        "2ce4ac8951a0462a82d8408147515ff0": {
          "model_module": "@jupyter-widgets/controls",
          "model_name": "DescriptionStyleModel",
          "model_module_version": "1.5.0",
          "state": {
            "_model_module": "@jupyter-widgets/controls",
            "_model_module_version": "1.5.0",
            "_model_name": "DescriptionStyleModel",
            "_view_count": null,
            "_view_module": "@jupyter-widgets/base",
            "_view_module_version": "1.2.0",
            "_view_name": "StyleView",
            "description_width": ""
          }
        },
        "de8487af4d0543bb952694e721767523": {
          "model_module": "@jupyter-widgets/controls",
          "model_name": "HBoxModel",
          "model_module_version": "1.5.0",
          "state": {
            "_dom_classes": [],
            "_model_module": "@jupyter-widgets/controls",
            "_model_module_version": "1.5.0",
            "_model_name": "HBoxModel",
            "_view_count": null,
            "_view_module": "@jupyter-widgets/controls",
            "_view_module_version": "1.5.0",
            "_view_name": "HBoxView",
            "box_style": "",
            "children": [
              "IPY_MODEL_5557ec055a8e455ca27bf0afec44e952",
              "IPY_MODEL_3271fd48ce484cef8ebd310e2ce43c8c",
              "IPY_MODEL_baa9723d5ab2405f8a6002963c2d08ed"
            ],
            "layout": "IPY_MODEL_cda1c811be5f40f1822319a6341df5d4"
          }
        },
        "5557ec055a8e455ca27bf0afec44e952": {
          "model_module": "@jupyter-widgets/controls",
          "model_name": "HTMLModel",
          "model_module_version": "1.5.0",
          "state": {
            "_dom_classes": [],
            "_model_module": "@jupyter-widgets/controls",
            "_model_module_version": "1.5.0",
            "_model_name": "HTMLModel",
            "_view_count": null,
            "_view_module": "@jupyter-widgets/controls",
            "_view_module_version": "1.5.0",
            "_view_name": "HTMLView",
            "description": "",
            "description_tooltip": null,
            "layout": "IPY_MODEL_4618fd2850cd49bd93c613be555236a5",
            "placeholder": "​",
            "style": "IPY_MODEL_71c5837c20714eec95b581bf038ef05d",
            "value": "100%"
          }
        },
        "3271fd48ce484cef8ebd310e2ce43c8c": {
          "model_module": "@jupyter-widgets/controls",
          "model_name": "FloatProgressModel",
          "model_module_version": "1.5.0",
          "state": {
            "_dom_classes": [],
            "_model_module": "@jupyter-widgets/controls",
            "_model_module_version": "1.5.0",
            "_model_name": "FloatProgressModel",
            "_view_count": null,
            "_view_module": "@jupyter-widgets/controls",
            "_view_module_version": "1.5.0",
            "_view_name": "ProgressView",
            "bar_style": "success",
            "description": "",
            "description_tooltip": null,
            "layout": "IPY_MODEL_7bd95ad63c2e418cbadaf7b4c2b10332",
            "max": 20,
            "min": 0,
            "orientation": "horizontal",
            "style": "IPY_MODEL_8fe162424f6f4805b3e518ed3c35e69b",
            "value": 20
          }
        },
        "baa9723d5ab2405f8a6002963c2d08ed": {
          "model_module": "@jupyter-widgets/controls",
          "model_name": "HTMLModel",
          "model_module_version": "1.5.0",
          "state": {
            "_dom_classes": [],
            "_model_module": "@jupyter-widgets/controls",
            "_model_module_version": "1.5.0",
            "_model_name": "HTMLModel",
            "_view_count": null,
            "_view_module": "@jupyter-widgets/controls",
            "_view_module_version": "1.5.0",
            "_view_name": "HTMLView",
            "description": "",
            "description_tooltip": null,
            "layout": "IPY_MODEL_6461b3896b904e8ca0967c83c63b6e4e",
            "placeholder": "​",
            "style": "IPY_MODEL_eca17ffd2a364f0e83565abbd14773c7",
            "value": " 20/20 [00:01&lt;00:00, 20.45it/s]"
          }
        },
        "cda1c811be5f40f1822319a6341df5d4": {
          "model_module": "@jupyter-widgets/base",
          "model_name": "LayoutModel",
          "model_module_version": "1.2.0",
          "state": {
            "_model_module": "@jupyter-widgets/base",
            "_model_module_version": "1.2.0",
            "_model_name": "LayoutModel",
            "_view_count": null,
            "_view_module": "@jupyter-widgets/base",
            "_view_module_version": "1.2.0",
            "_view_name": "LayoutView",
            "align_content": null,
            "align_items": null,
            "align_self": null,
            "border": null,
            "bottom": null,
            "display": null,
            "flex": null,
            "flex_flow": null,
            "grid_area": null,
            "grid_auto_columns": null,
            "grid_auto_flow": null,
            "grid_auto_rows": null,
            "grid_column": null,
            "grid_gap": null,
            "grid_row": null,
            "grid_template_areas": null,
            "grid_template_columns": null,
            "grid_template_rows": null,
            "height": null,
            "justify_content": null,
            "justify_items": null,
            "left": null,
            "margin": null,
            "max_height": null,
            "max_width": null,
            "min_height": null,
            "min_width": null,
            "object_fit": null,
            "object_position": null,
            "order": null,
            "overflow": null,
            "overflow_x": null,
            "overflow_y": null,
            "padding": null,
            "right": null,
            "top": null,
            "visibility": null,
            "width": null
          }
        },
        "4618fd2850cd49bd93c613be555236a5": {
          "model_module": "@jupyter-widgets/base",
          "model_name": "LayoutModel",
          "model_module_version": "1.2.0",
          "state": {
            "_model_module": "@jupyter-widgets/base",
            "_model_module_version": "1.2.0",
            "_model_name": "LayoutModel",
            "_view_count": null,
            "_view_module": "@jupyter-widgets/base",
            "_view_module_version": "1.2.0",
            "_view_name": "LayoutView",
            "align_content": null,
            "align_items": null,
            "align_self": null,
            "border": null,
            "bottom": null,
            "display": null,
            "flex": null,
            "flex_flow": null,
            "grid_area": null,
            "grid_auto_columns": null,
            "grid_auto_flow": null,
            "grid_auto_rows": null,
            "grid_column": null,
            "grid_gap": null,
            "grid_row": null,
            "grid_template_areas": null,
            "grid_template_columns": null,
            "grid_template_rows": null,
            "height": null,
            "justify_content": null,
            "justify_items": null,
            "left": null,
            "margin": null,
            "max_height": null,
            "max_width": null,
            "min_height": null,
            "min_width": null,
            "object_fit": null,
            "object_position": null,
            "order": null,
            "overflow": null,
            "overflow_x": null,
            "overflow_y": null,
            "padding": null,
            "right": null,
            "top": null,
            "visibility": null,
            "width": null
          }
        },
        "71c5837c20714eec95b581bf038ef05d": {
          "model_module": "@jupyter-widgets/controls",
          "model_name": "DescriptionStyleModel",
          "model_module_version": "1.5.0",
          "state": {
            "_model_module": "@jupyter-widgets/controls",
            "_model_module_version": "1.5.0",
            "_model_name": "DescriptionStyleModel",
            "_view_count": null,
            "_view_module": "@jupyter-widgets/base",
            "_view_module_version": "1.2.0",
            "_view_name": "StyleView",
            "description_width": ""
          }
        },
        "7bd95ad63c2e418cbadaf7b4c2b10332": {
          "model_module": "@jupyter-widgets/base",
          "model_name": "LayoutModel",
          "model_module_version": "1.2.0",
          "state": {
            "_model_module": "@jupyter-widgets/base",
            "_model_module_version": "1.2.0",
            "_model_name": "LayoutModel",
            "_view_count": null,
            "_view_module": "@jupyter-widgets/base",
            "_view_module_version": "1.2.0",
            "_view_name": "LayoutView",
            "align_content": null,
            "align_items": null,
            "align_self": null,
            "border": null,
            "bottom": null,
            "display": null,
            "flex": null,
            "flex_flow": null,
            "grid_area": null,
            "grid_auto_columns": null,
            "grid_auto_flow": null,
            "grid_auto_rows": null,
            "grid_column": null,
            "grid_gap": null,
            "grid_row": null,
            "grid_template_areas": null,
            "grid_template_columns": null,
            "grid_template_rows": null,
            "height": null,
            "justify_content": null,
            "justify_items": null,
            "left": null,
            "margin": null,
            "max_height": null,
            "max_width": null,
            "min_height": null,
            "min_width": null,
            "object_fit": null,
            "object_position": null,
            "order": null,
            "overflow": null,
            "overflow_x": null,
            "overflow_y": null,
            "padding": null,
            "right": null,
            "top": null,
            "visibility": null,
            "width": null
          }
        },
        "8fe162424f6f4805b3e518ed3c35e69b": {
          "model_module": "@jupyter-widgets/controls",
          "model_name": "ProgressStyleModel",
          "model_module_version": "1.5.0",
          "state": {
            "_model_module": "@jupyter-widgets/controls",
            "_model_module_version": "1.5.0",
            "_model_name": "ProgressStyleModel",
            "_view_count": null,
            "_view_module": "@jupyter-widgets/base",
            "_view_module_version": "1.2.0",
            "_view_name": "StyleView",
            "bar_color": null,
            "description_width": ""
          }
        },
        "6461b3896b904e8ca0967c83c63b6e4e": {
          "model_module": "@jupyter-widgets/base",
          "model_name": "LayoutModel",
          "model_module_version": "1.2.0",
          "state": {
            "_model_module": "@jupyter-widgets/base",
            "_model_module_version": "1.2.0",
            "_model_name": "LayoutModel",
            "_view_count": null,
            "_view_module": "@jupyter-widgets/base",
            "_view_module_version": "1.2.0",
            "_view_name": "LayoutView",
            "align_content": null,
            "align_items": null,
            "align_self": null,
            "border": null,
            "bottom": null,
            "display": null,
            "flex": null,
            "flex_flow": null,
            "grid_area": null,
            "grid_auto_columns": null,
            "grid_auto_flow": null,
            "grid_auto_rows": null,
            "grid_column": null,
            "grid_gap": null,
            "grid_row": null,
            "grid_template_areas": null,
            "grid_template_columns": null,
            "grid_template_rows": null,
            "height": null,
            "justify_content": null,
            "justify_items": null,
            "left": null,
            "margin": null,
            "max_height": null,
            "max_width": null,
            "min_height": null,
            "min_width": null,
            "object_fit": null,
            "object_position": null,
            "order": null,
            "overflow": null,
            "overflow_x": null,
            "overflow_y": null,
            "padding": null,
            "right": null,
            "top": null,
            "visibility": null,
            "width": null
          }
        },
        "eca17ffd2a364f0e83565abbd14773c7": {
          "model_module": "@jupyter-widgets/controls",
          "model_name": "DescriptionStyleModel",
          "model_module_version": "1.5.0",
          "state": {
            "_model_module": "@jupyter-widgets/controls",
            "_model_module_version": "1.5.0",
            "_model_name": "DescriptionStyleModel",
            "_view_count": null,
            "_view_module": "@jupyter-widgets/base",
            "_view_module_version": "1.2.0",
            "_view_name": "StyleView",
            "description_width": ""
          }
        },
        "2e71604da86541c8a6500a61b766fbd3": {
          "model_module": "@jupyter-widgets/controls",
          "model_name": "HBoxModel",
          "model_module_version": "1.5.0",
          "state": {
            "_dom_classes": [],
            "_model_module": "@jupyter-widgets/controls",
            "_model_module_version": "1.5.0",
            "_model_name": "HBoxModel",
            "_view_count": null,
            "_view_module": "@jupyter-widgets/controls",
            "_view_module_version": "1.5.0",
            "_view_name": "HBoxView",
            "box_style": "",
            "children": [
              "IPY_MODEL_7905d1ff5d2143149cf8d8c061149e3f",
              "IPY_MODEL_9d6b3f959f684855aae079bfd27fa0c3",
              "IPY_MODEL_e2dbae06decf4ba3b784263a4e9aca9f"
            ],
            "layout": "IPY_MODEL_3a2d3634553b46ae9ba40c050060a6c5"
          }
        },
        "7905d1ff5d2143149cf8d8c061149e3f": {
          "model_module": "@jupyter-widgets/controls",
          "model_name": "HTMLModel",
          "model_module_version": "1.5.0",
          "state": {
            "_dom_classes": [],
            "_model_module": "@jupyter-widgets/controls",
            "_model_module_version": "1.5.0",
            "_model_name": "HTMLModel",
            "_view_count": null,
            "_view_module": "@jupyter-widgets/controls",
            "_view_module_version": "1.5.0",
            "_view_name": "HTMLView",
            "description": "",
            "description_tooltip": null,
            "layout": "IPY_MODEL_fd1540c800414dadb736b6e31dd1beaa",
            "placeholder": "​",
            "style": "IPY_MODEL_ceb4988d904a4ea59a311b6362b2bc1d",
            "value": "100%"
          }
        },
        "9d6b3f959f684855aae079bfd27fa0c3": {
          "model_module": "@jupyter-widgets/controls",
          "model_name": "FloatProgressModel",
          "model_module_version": "1.5.0",
          "state": {
            "_dom_classes": [],
            "_model_module": "@jupyter-widgets/controls",
            "_model_module_version": "1.5.0",
            "_model_name": "FloatProgressModel",
            "_view_count": null,
            "_view_module": "@jupyter-widgets/controls",
            "_view_module_version": "1.5.0",
            "_view_name": "ProgressView",
            "bar_style": "success",
            "description": "",
            "description_tooltip": null,
            "layout": "IPY_MODEL_68f5d20a963c44b2bb76a591a11a60f7",
            "max": 20,
            "min": 0,
            "orientation": "horizontal",
            "style": "IPY_MODEL_3becfd60c1944c1bba2bca06ccca5251",
            "value": 20
          }
        },
        "e2dbae06decf4ba3b784263a4e9aca9f": {
          "model_module": "@jupyter-widgets/controls",
          "model_name": "HTMLModel",
          "model_module_version": "1.5.0",
          "state": {
            "_dom_classes": [],
            "_model_module": "@jupyter-widgets/controls",
            "_model_module_version": "1.5.0",
            "_model_name": "HTMLModel",
            "_view_count": null,
            "_view_module": "@jupyter-widgets/controls",
            "_view_module_version": "1.5.0",
            "_view_name": "HTMLView",
            "description": "",
            "description_tooltip": null,
            "layout": "IPY_MODEL_2f67fd69370848c9b44c112480aa3718",
            "placeholder": "​",
            "style": "IPY_MODEL_7caea4a482fc490ca835f3f1fc8e5eae",
            "value": " 20/20 [00:00&lt;00:00, 21.81it/s]"
          }
        },
        "3a2d3634553b46ae9ba40c050060a6c5": {
          "model_module": "@jupyter-widgets/base",
          "model_name": "LayoutModel",
          "model_module_version": "1.2.0",
          "state": {
            "_model_module": "@jupyter-widgets/base",
            "_model_module_version": "1.2.0",
            "_model_name": "LayoutModel",
            "_view_count": null,
            "_view_module": "@jupyter-widgets/base",
            "_view_module_version": "1.2.0",
            "_view_name": "LayoutView",
            "align_content": null,
            "align_items": null,
            "align_self": null,
            "border": null,
            "bottom": null,
            "display": null,
            "flex": null,
            "flex_flow": null,
            "grid_area": null,
            "grid_auto_columns": null,
            "grid_auto_flow": null,
            "grid_auto_rows": null,
            "grid_column": null,
            "grid_gap": null,
            "grid_row": null,
            "grid_template_areas": null,
            "grid_template_columns": null,
            "grid_template_rows": null,
            "height": null,
            "justify_content": null,
            "justify_items": null,
            "left": null,
            "margin": null,
            "max_height": null,
            "max_width": null,
            "min_height": null,
            "min_width": null,
            "object_fit": null,
            "object_position": null,
            "order": null,
            "overflow": null,
            "overflow_x": null,
            "overflow_y": null,
            "padding": null,
            "right": null,
            "top": null,
            "visibility": null,
            "width": null
          }
        },
        "fd1540c800414dadb736b6e31dd1beaa": {
          "model_module": "@jupyter-widgets/base",
          "model_name": "LayoutModel",
          "model_module_version": "1.2.0",
          "state": {
            "_model_module": "@jupyter-widgets/base",
            "_model_module_version": "1.2.0",
            "_model_name": "LayoutModel",
            "_view_count": null,
            "_view_module": "@jupyter-widgets/base",
            "_view_module_version": "1.2.0",
            "_view_name": "LayoutView",
            "align_content": null,
            "align_items": null,
            "align_self": null,
            "border": null,
            "bottom": null,
            "display": null,
            "flex": null,
            "flex_flow": null,
            "grid_area": null,
            "grid_auto_columns": null,
            "grid_auto_flow": null,
            "grid_auto_rows": null,
            "grid_column": null,
            "grid_gap": null,
            "grid_row": null,
            "grid_template_areas": null,
            "grid_template_columns": null,
            "grid_template_rows": null,
            "height": null,
            "justify_content": null,
            "justify_items": null,
            "left": null,
            "margin": null,
            "max_height": null,
            "max_width": null,
            "min_height": null,
            "min_width": null,
            "object_fit": null,
            "object_position": null,
            "order": null,
            "overflow": null,
            "overflow_x": null,
            "overflow_y": null,
            "padding": null,
            "right": null,
            "top": null,
            "visibility": null,
            "width": null
          }
        },
        "ceb4988d904a4ea59a311b6362b2bc1d": {
          "model_module": "@jupyter-widgets/controls",
          "model_name": "DescriptionStyleModel",
          "model_module_version": "1.5.0",
          "state": {
            "_model_module": "@jupyter-widgets/controls",
            "_model_module_version": "1.5.0",
            "_model_name": "DescriptionStyleModel",
            "_view_count": null,
            "_view_module": "@jupyter-widgets/base",
            "_view_module_version": "1.2.0",
            "_view_name": "StyleView",
            "description_width": ""
          }
        },
        "68f5d20a963c44b2bb76a591a11a60f7": {
          "model_module": "@jupyter-widgets/base",
          "model_name": "LayoutModel",
          "model_module_version": "1.2.0",
          "state": {
            "_model_module": "@jupyter-widgets/base",
            "_model_module_version": "1.2.0",
            "_model_name": "LayoutModel",
            "_view_count": null,
            "_view_module": "@jupyter-widgets/base",
            "_view_module_version": "1.2.0",
            "_view_name": "LayoutView",
            "align_content": null,
            "align_items": null,
            "align_self": null,
            "border": null,
            "bottom": null,
            "display": null,
            "flex": null,
            "flex_flow": null,
            "grid_area": null,
            "grid_auto_columns": null,
            "grid_auto_flow": null,
            "grid_auto_rows": null,
            "grid_column": null,
            "grid_gap": null,
            "grid_row": null,
            "grid_template_areas": null,
            "grid_template_columns": null,
            "grid_template_rows": null,
            "height": null,
            "justify_content": null,
            "justify_items": null,
            "left": null,
            "margin": null,
            "max_height": null,
            "max_width": null,
            "min_height": null,
            "min_width": null,
            "object_fit": null,
            "object_position": null,
            "order": null,
            "overflow": null,
            "overflow_x": null,
            "overflow_y": null,
            "padding": null,
            "right": null,
            "top": null,
            "visibility": null,
            "width": null
          }
        },
        "3becfd60c1944c1bba2bca06ccca5251": {
          "model_module": "@jupyter-widgets/controls",
          "model_name": "ProgressStyleModel",
          "model_module_version": "1.5.0",
          "state": {
            "_model_module": "@jupyter-widgets/controls",
            "_model_module_version": "1.5.0",
            "_model_name": "ProgressStyleModel",
            "_view_count": null,
            "_view_module": "@jupyter-widgets/base",
            "_view_module_version": "1.2.0",
            "_view_name": "StyleView",
            "bar_color": null,
            "description_width": ""
          }
        },
        "2f67fd69370848c9b44c112480aa3718": {
          "model_module": "@jupyter-widgets/base",
          "model_name": "LayoutModel",
          "model_module_version": "1.2.0",
          "state": {
            "_model_module": "@jupyter-widgets/base",
            "_model_module_version": "1.2.0",
            "_model_name": "LayoutModel",
            "_view_count": null,
            "_view_module": "@jupyter-widgets/base",
            "_view_module_version": "1.2.0",
            "_view_name": "LayoutView",
            "align_content": null,
            "align_items": null,
            "align_self": null,
            "border": null,
            "bottom": null,
            "display": null,
            "flex": null,
            "flex_flow": null,
            "grid_area": null,
            "grid_auto_columns": null,
            "grid_auto_flow": null,
            "grid_auto_rows": null,
            "grid_column": null,
            "grid_gap": null,
            "grid_row": null,
            "grid_template_areas": null,
            "grid_template_columns": null,
            "grid_template_rows": null,
            "height": null,
            "justify_content": null,
            "justify_items": null,
            "left": null,
            "margin": null,
            "max_height": null,
            "max_width": null,
            "min_height": null,
            "min_width": null,
            "object_fit": null,
            "object_position": null,
            "order": null,
            "overflow": null,
            "overflow_x": null,
            "overflow_y": null,
            "padding": null,
            "right": null,
            "top": null,
            "visibility": null,
            "width": null
          }
        },
        "7caea4a482fc490ca835f3f1fc8e5eae": {
          "model_module": "@jupyter-widgets/controls",
          "model_name": "DescriptionStyleModel",
          "model_module_version": "1.5.0",
          "state": {
            "_model_module": "@jupyter-widgets/controls",
            "_model_module_version": "1.5.0",
            "_model_name": "DescriptionStyleModel",
            "_view_count": null,
            "_view_module": "@jupyter-widgets/base",
            "_view_module_version": "1.2.0",
            "_view_name": "StyleView",
            "description_width": ""
          }
        },
        "bdda2a977f6e437ab0c7f280fbdc5599": {
          "model_module": "@jupyter-widgets/controls",
          "model_name": "HBoxModel",
          "model_module_version": "1.5.0",
          "state": {
            "_dom_classes": [],
            "_model_module": "@jupyter-widgets/controls",
            "_model_module_version": "1.5.0",
            "_model_name": "HBoxModel",
            "_view_count": null,
            "_view_module": "@jupyter-widgets/controls",
            "_view_module_version": "1.5.0",
            "_view_name": "HBoxView",
            "box_style": "",
            "children": [
              "IPY_MODEL_0632b906e40943ea8f0256d3a9206787",
              "IPY_MODEL_6fa4f7ea9ea0412f9977c9b0c04176fc",
              "IPY_MODEL_2711abb136b74377b3ed8107a54e5b6a"
            ],
            "layout": "IPY_MODEL_9ad6906088734333a561d1604c5711f2"
          }
        },
        "0632b906e40943ea8f0256d3a9206787": {
          "model_module": "@jupyter-widgets/controls",
          "model_name": "HTMLModel",
          "model_module_version": "1.5.0",
          "state": {
            "_dom_classes": [],
            "_model_module": "@jupyter-widgets/controls",
            "_model_module_version": "1.5.0",
            "_model_name": "HTMLModel",
            "_view_count": null,
            "_view_module": "@jupyter-widgets/controls",
            "_view_module_version": "1.5.0",
            "_view_name": "HTMLView",
            "description": "",
            "description_tooltip": null,
            "layout": "IPY_MODEL_d9db5af6a32046e19f9f938b7f11048b",
            "placeholder": "​",
            "style": "IPY_MODEL_04099fd1a96344428ceeeec174a8248a",
            "value": "100%"
          }
        },
        "6fa4f7ea9ea0412f9977c9b0c04176fc": {
          "model_module": "@jupyter-widgets/controls",
          "model_name": "FloatProgressModel",
          "model_module_version": "1.5.0",
          "state": {
            "_dom_classes": [],
            "_model_module": "@jupyter-widgets/controls",
            "_model_module_version": "1.5.0",
            "_model_name": "FloatProgressModel",
            "_view_count": null,
            "_view_module": "@jupyter-widgets/controls",
            "_view_module_version": "1.5.0",
            "_view_name": "ProgressView",
            "bar_style": "success",
            "description": "",
            "description_tooltip": null,
            "layout": "IPY_MODEL_6c582eb6e3ed41a198e49d37ecc90e63",
            "max": 20,
            "min": 0,
            "orientation": "horizontal",
            "style": "IPY_MODEL_d2d6e3b2fc9e4237ab6f661868c2701c",
            "value": 20
          }
        },
        "2711abb136b74377b3ed8107a54e5b6a": {
          "model_module": "@jupyter-widgets/controls",
          "model_name": "HTMLModel",
          "model_module_version": "1.5.0",
          "state": {
            "_dom_classes": [],
            "_model_module": "@jupyter-widgets/controls",
            "_model_module_version": "1.5.0",
            "_model_name": "HTMLModel",
            "_view_count": null,
            "_view_module": "@jupyter-widgets/controls",
            "_view_module_version": "1.5.0",
            "_view_name": "HTMLView",
            "description": "",
            "description_tooltip": null,
            "layout": "IPY_MODEL_0df2e1436f3f4b23a666dcb30856e88f",
            "placeholder": "​",
            "style": "IPY_MODEL_562ebd7cf77d44a59b4304f8cff5a58e",
            "value": " 20/20 [00:00&lt;00:00, 21.91it/s]"
          }
        },
        "9ad6906088734333a561d1604c5711f2": {
          "model_module": "@jupyter-widgets/base",
          "model_name": "LayoutModel",
          "model_module_version": "1.2.0",
          "state": {
            "_model_module": "@jupyter-widgets/base",
            "_model_module_version": "1.2.0",
            "_model_name": "LayoutModel",
            "_view_count": null,
            "_view_module": "@jupyter-widgets/base",
            "_view_module_version": "1.2.0",
            "_view_name": "LayoutView",
            "align_content": null,
            "align_items": null,
            "align_self": null,
            "border": null,
            "bottom": null,
            "display": null,
            "flex": null,
            "flex_flow": null,
            "grid_area": null,
            "grid_auto_columns": null,
            "grid_auto_flow": null,
            "grid_auto_rows": null,
            "grid_column": null,
            "grid_gap": null,
            "grid_row": null,
            "grid_template_areas": null,
            "grid_template_columns": null,
            "grid_template_rows": null,
            "height": null,
            "justify_content": null,
            "justify_items": null,
            "left": null,
            "margin": null,
            "max_height": null,
            "max_width": null,
            "min_height": null,
            "min_width": null,
            "object_fit": null,
            "object_position": null,
            "order": null,
            "overflow": null,
            "overflow_x": null,
            "overflow_y": null,
            "padding": null,
            "right": null,
            "top": null,
            "visibility": null,
            "width": null
          }
        },
        "d9db5af6a32046e19f9f938b7f11048b": {
          "model_module": "@jupyter-widgets/base",
          "model_name": "LayoutModel",
          "model_module_version": "1.2.0",
          "state": {
            "_model_module": "@jupyter-widgets/base",
            "_model_module_version": "1.2.0",
            "_model_name": "LayoutModel",
            "_view_count": null,
            "_view_module": "@jupyter-widgets/base",
            "_view_module_version": "1.2.0",
            "_view_name": "LayoutView",
            "align_content": null,
            "align_items": null,
            "align_self": null,
            "border": null,
            "bottom": null,
            "display": null,
            "flex": null,
            "flex_flow": null,
            "grid_area": null,
            "grid_auto_columns": null,
            "grid_auto_flow": null,
            "grid_auto_rows": null,
            "grid_column": null,
            "grid_gap": null,
            "grid_row": null,
            "grid_template_areas": null,
            "grid_template_columns": null,
            "grid_template_rows": null,
            "height": null,
            "justify_content": null,
            "justify_items": null,
            "left": null,
            "margin": null,
            "max_height": null,
            "max_width": null,
            "min_height": null,
            "min_width": null,
            "object_fit": null,
            "object_position": null,
            "order": null,
            "overflow": null,
            "overflow_x": null,
            "overflow_y": null,
            "padding": null,
            "right": null,
            "top": null,
            "visibility": null,
            "width": null
          }
        },
        "04099fd1a96344428ceeeec174a8248a": {
          "model_module": "@jupyter-widgets/controls",
          "model_name": "DescriptionStyleModel",
          "model_module_version": "1.5.0",
          "state": {
            "_model_module": "@jupyter-widgets/controls",
            "_model_module_version": "1.5.0",
            "_model_name": "DescriptionStyleModel",
            "_view_count": null,
            "_view_module": "@jupyter-widgets/base",
            "_view_module_version": "1.2.0",
            "_view_name": "StyleView",
            "description_width": ""
          }
        },
        "6c582eb6e3ed41a198e49d37ecc90e63": {
          "model_module": "@jupyter-widgets/base",
          "model_name": "LayoutModel",
          "model_module_version": "1.2.0",
          "state": {
            "_model_module": "@jupyter-widgets/base",
            "_model_module_version": "1.2.0",
            "_model_name": "LayoutModel",
            "_view_count": null,
            "_view_module": "@jupyter-widgets/base",
            "_view_module_version": "1.2.0",
            "_view_name": "LayoutView",
            "align_content": null,
            "align_items": null,
            "align_self": null,
            "border": null,
            "bottom": null,
            "display": null,
            "flex": null,
            "flex_flow": null,
            "grid_area": null,
            "grid_auto_columns": null,
            "grid_auto_flow": null,
            "grid_auto_rows": null,
            "grid_column": null,
            "grid_gap": null,
            "grid_row": null,
            "grid_template_areas": null,
            "grid_template_columns": null,
            "grid_template_rows": null,
            "height": null,
            "justify_content": null,
            "justify_items": null,
            "left": null,
            "margin": null,
            "max_height": null,
            "max_width": null,
            "min_height": null,
            "min_width": null,
            "object_fit": null,
            "object_position": null,
            "order": null,
            "overflow": null,
            "overflow_x": null,
            "overflow_y": null,
            "padding": null,
            "right": null,
            "top": null,
            "visibility": null,
            "width": null
          }
        },
        "d2d6e3b2fc9e4237ab6f661868c2701c": {
          "model_module": "@jupyter-widgets/controls",
          "model_name": "ProgressStyleModel",
          "model_module_version": "1.5.0",
          "state": {
            "_model_module": "@jupyter-widgets/controls",
            "_model_module_version": "1.5.0",
            "_model_name": "ProgressStyleModel",
            "_view_count": null,
            "_view_module": "@jupyter-widgets/base",
            "_view_module_version": "1.2.0",
            "_view_name": "StyleView",
            "bar_color": null,
            "description_width": ""
          }
        },
        "0df2e1436f3f4b23a666dcb30856e88f": {
          "model_module": "@jupyter-widgets/base",
          "model_name": "LayoutModel",
          "model_module_version": "1.2.0",
          "state": {
            "_model_module": "@jupyter-widgets/base",
            "_model_module_version": "1.2.0",
            "_model_name": "LayoutModel",
            "_view_count": null,
            "_view_module": "@jupyter-widgets/base",
            "_view_module_version": "1.2.0",
            "_view_name": "LayoutView",
            "align_content": null,
            "align_items": null,
            "align_self": null,
            "border": null,
            "bottom": null,
            "display": null,
            "flex": null,
            "flex_flow": null,
            "grid_area": null,
            "grid_auto_columns": null,
            "grid_auto_flow": null,
            "grid_auto_rows": null,
            "grid_column": null,
            "grid_gap": null,
            "grid_row": null,
            "grid_template_areas": null,
            "grid_template_columns": null,
            "grid_template_rows": null,
            "height": null,
            "justify_content": null,
            "justify_items": null,
            "left": null,
            "margin": null,
            "max_height": null,
            "max_width": null,
            "min_height": null,
            "min_width": null,
            "object_fit": null,
            "object_position": null,
            "order": null,
            "overflow": null,
            "overflow_x": null,
            "overflow_y": null,
            "padding": null,
            "right": null,
            "top": null,
            "visibility": null,
            "width": null
          }
        },
        "562ebd7cf77d44a59b4304f8cff5a58e": {
          "model_module": "@jupyter-widgets/controls",
          "model_name": "DescriptionStyleModel",
          "model_module_version": "1.5.0",
          "state": {
            "_model_module": "@jupyter-widgets/controls",
            "_model_module_version": "1.5.0",
            "_model_name": "DescriptionStyleModel",
            "_view_count": null,
            "_view_module": "@jupyter-widgets/base",
            "_view_module_version": "1.2.0",
            "_view_name": "StyleView",
            "description_width": ""
          }
        },
        "9e35aa0b80744bbb902ec359a050628b": {
          "model_module": "@jupyter-widgets/controls",
          "model_name": "HBoxModel",
          "model_module_version": "1.5.0",
          "state": {
            "_dom_classes": [],
            "_model_module": "@jupyter-widgets/controls",
            "_model_module_version": "1.5.0",
            "_model_name": "HBoxModel",
            "_view_count": null,
            "_view_module": "@jupyter-widgets/controls",
            "_view_module_version": "1.5.0",
            "_view_name": "HBoxView",
            "box_style": "",
            "children": [
              "IPY_MODEL_bfe33334e0ed4eb3bc3134d36745e5fe",
              "IPY_MODEL_e185ee857e994268b12c64fd4e1c20f0",
              "IPY_MODEL_0ebfc34824c744a2bd22c36b04012738"
            ],
            "layout": "IPY_MODEL_c90a1b4baaac4a38b2b3b3a51bba1666"
          }
        },
        "bfe33334e0ed4eb3bc3134d36745e5fe": {
          "model_module": "@jupyter-widgets/controls",
          "model_name": "HTMLModel",
          "model_module_version": "1.5.0",
          "state": {
            "_dom_classes": [],
            "_model_module": "@jupyter-widgets/controls",
            "_model_module_version": "1.5.0",
            "_model_name": "HTMLModel",
            "_view_count": null,
            "_view_module": "@jupyter-widgets/controls",
            "_view_module_version": "1.5.0",
            "_view_name": "HTMLView",
            "description": "",
            "description_tooltip": null,
            "layout": "IPY_MODEL_102892d8bb3b40eaa26468472f7f2b0a",
            "placeholder": "​",
            "style": "IPY_MODEL_398e633ef08f46799da73d94a03abff6",
            "value": "100%"
          }
        },
        "e185ee857e994268b12c64fd4e1c20f0": {
          "model_module": "@jupyter-widgets/controls",
          "model_name": "FloatProgressModel",
          "model_module_version": "1.5.0",
          "state": {
            "_dom_classes": [],
            "_model_module": "@jupyter-widgets/controls",
            "_model_module_version": "1.5.0",
            "_model_name": "FloatProgressModel",
            "_view_count": null,
            "_view_module": "@jupyter-widgets/controls",
            "_view_module_version": "1.5.0",
            "_view_name": "ProgressView",
            "bar_style": "success",
            "description": "",
            "description_tooltip": null,
            "layout": "IPY_MODEL_7a70375993f6423fa1a741ab4b8e907a",
            "max": 20,
            "min": 0,
            "orientation": "horizontal",
            "style": "IPY_MODEL_8283b1d46c01409da165f2e3747d843f",
            "value": 20
          }
        },
        "0ebfc34824c744a2bd22c36b04012738": {
          "model_module": "@jupyter-widgets/controls",
          "model_name": "HTMLModel",
          "model_module_version": "1.5.0",
          "state": {
            "_dom_classes": [],
            "_model_module": "@jupyter-widgets/controls",
            "_model_module_version": "1.5.0",
            "_model_name": "HTMLModel",
            "_view_count": null,
            "_view_module": "@jupyter-widgets/controls",
            "_view_module_version": "1.5.0",
            "_view_name": "HTMLView",
            "description": "",
            "description_tooltip": null,
            "layout": "IPY_MODEL_d21d2f00230a41809775797a8eba777d",
            "placeholder": "​",
            "style": "IPY_MODEL_9076c45934e2428e95bfd507f9c3b575",
            "value": " 20/20 [00:00&lt;00:00, 21.80it/s]"
          }
        },
        "c90a1b4baaac4a38b2b3b3a51bba1666": {
          "model_module": "@jupyter-widgets/base",
          "model_name": "LayoutModel",
          "model_module_version": "1.2.0",
          "state": {
            "_model_module": "@jupyter-widgets/base",
            "_model_module_version": "1.2.0",
            "_model_name": "LayoutModel",
            "_view_count": null,
            "_view_module": "@jupyter-widgets/base",
            "_view_module_version": "1.2.0",
            "_view_name": "LayoutView",
            "align_content": null,
            "align_items": null,
            "align_self": null,
            "border": null,
            "bottom": null,
            "display": null,
            "flex": null,
            "flex_flow": null,
            "grid_area": null,
            "grid_auto_columns": null,
            "grid_auto_flow": null,
            "grid_auto_rows": null,
            "grid_column": null,
            "grid_gap": null,
            "grid_row": null,
            "grid_template_areas": null,
            "grid_template_columns": null,
            "grid_template_rows": null,
            "height": null,
            "justify_content": null,
            "justify_items": null,
            "left": null,
            "margin": null,
            "max_height": null,
            "max_width": null,
            "min_height": null,
            "min_width": null,
            "object_fit": null,
            "object_position": null,
            "order": null,
            "overflow": null,
            "overflow_x": null,
            "overflow_y": null,
            "padding": null,
            "right": null,
            "top": null,
            "visibility": null,
            "width": null
          }
        },
        "102892d8bb3b40eaa26468472f7f2b0a": {
          "model_module": "@jupyter-widgets/base",
          "model_name": "LayoutModel",
          "model_module_version": "1.2.0",
          "state": {
            "_model_module": "@jupyter-widgets/base",
            "_model_module_version": "1.2.0",
            "_model_name": "LayoutModel",
            "_view_count": null,
            "_view_module": "@jupyter-widgets/base",
            "_view_module_version": "1.2.0",
            "_view_name": "LayoutView",
            "align_content": null,
            "align_items": null,
            "align_self": null,
            "border": null,
            "bottom": null,
            "display": null,
            "flex": null,
            "flex_flow": null,
            "grid_area": null,
            "grid_auto_columns": null,
            "grid_auto_flow": null,
            "grid_auto_rows": null,
            "grid_column": null,
            "grid_gap": null,
            "grid_row": null,
            "grid_template_areas": null,
            "grid_template_columns": null,
            "grid_template_rows": null,
            "height": null,
            "justify_content": null,
            "justify_items": null,
            "left": null,
            "margin": null,
            "max_height": null,
            "max_width": null,
            "min_height": null,
            "min_width": null,
            "object_fit": null,
            "object_position": null,
            "order": null,
            "overflow": null,
            "overflow_x": null,
            "overflow_y": null,
            "padding": null,
            "right": null,
            "top": null,
            "visibility": null,
            "width": null
          }
        },
        "398e633ef08f46799da73d94a03abff6": {
          "model_module": "@jupyter-widgets/controls",
          "model_name": "DescriptionStyleModel",
          "model_module_version": "1.5.0",
          "state": {
            "_model_module": "@jupyter-widgets/controls",
            "_model_module_version": "1.5.0",
            "_model_name": "DescriptionStyleModel",
            "_view_count": null,
            "_view_module": "@jupyter-widgets/base",
            "_view_module_version": "1.2.0",
            "_view_name": "StyleView",
            "description_width": ""
          }
        },
        "7a70375993f6423fa1a741ab4b8e907a": {
          "model_module": "@jupyter-widgets/base",
          "model_name": "LayoutModel",
          "model_module_version": "1.2.0",
          "state": {
            "_model_module": "@jupyter-widgets/base",
            "_model_module_version": "1.2.0",
            "_model_name": "LayoutModel",
            "_view_count": null,
            "_view_module": "@jupyter-widgets/base",
            "_view_module_version": "1.2.0",
            "_view_name": "LayoutView",
            "align_content": null,
            "align_items": null,
            "align_self": null,
            "border": null,
            "bottom": null,
            "display": null,
            "flex": null,
            "flex_flow": null,
            "grid_area": null,
            "grid_auto_columns": null,
            "grid_auto_flow": null,
            "grid_auto_rows": null,
            "grid_column": null,
            "grid_gap": null,
            "grid_row": null,
            "grid_template_areas": null,
            "grid_template_columns": null,
            "grid_template_rows": null,
            "height": null,
            "justify_content": null,
            "justify_items": null,
            "left": null,
            "margin": null,
            "max_height": null,
            "max_width": null,
            "min_height": null,
            "min_width": null,
            "object_fit": null,
            "object_position": null,
            "order": null,
            "overflow": null,
            "overflow_x": null,
            "overflow_y": null,
            "padding": null,
            "right": null,
            "top": null,
            "visibility": null,
            "width": null
          }
        },
        "8283b1d46c01409da165f2e3747d843f": {
          "model_module": "@jupyter-widgets/controls",
          "model_name": "ProgressStyleModel",
          "model_module_version": "1.5.0",
          "state": {
            "_model_module": "@jupyter-widgets/controls",
            "_model_module_version": "1.5.0",
            "_model_name": "ProgressStyleModel",
            "_view_count": null,
            "_view_module": "@jupyter-widgets/base",
            "_view_module_version": "1.2.0",
            "_view_name": "StyleView",
            "bar_color": null,
            "description_width": ""
          }
        },
        "d21d2f00230a41809775797a8eba777d": {
          "model_module": "@jupyter-widgets/base",
          "model_name": "LayoutModel",
          "model_module_version": "1.2.0",
          "state": {
            "_model_module": "@jupyter-widgets/base",
            "_model_module_version": "1.2.0",
            "_model_name": "LayoutModel",
            "_view_count": null,
            "_view_module": "@jupyter-widgets/base",
            "_view_module_version": "1.2.0",
            "_view_name": "LayoutView",
            "align_content": null,
            "align_items": null,
            "align_self": null,
            "border": null,
            "bottom": null,
            "display": null,
            "flex": null,
            "flex_flow": null,
            "grid_area": null,
            "grid_auto_columns": null,
            "grid_auto_flow": null,
            "grid_auto_rows": null,
            "grid_column": null,
            "grid_gap": null,
            "grid_row": null,
            "grid_template_areas": null,
            "grid_template_columns": null,
            "grid_template_rows": null,
            "height": null,
            "justify_content": null,
            "justify_items": null,
            "left": null,
            "margin": null,
            "max_height": null,
            "max_width": null,
            "min_height": null,
            "min_width": null,
            "object_fit": null,
            "object_position": null,
            "order": null,
            "overflow": null,
            "overflow_x": null,
            "overflow_y": null,
            "padding": null,
            "right": null,
            "top": null,
            "visibility": null,
            "width": null
          }
        },
        "9076c45934e2428e95bfd507f9c3b575": {
          "model_module": "@jupyter-widgets/controls",
          "model_name": "DescriptionStyleModel",
          "model_module_version": "1.5.0",
          "state": {
            "_model_module": "@jupyter-widgets/controls",
            "_model_module_version": "1.5.0",
            "_model_name": "DescriptionStyleModel",
            "_view_count": null,
            "_view_module": "@jupyter-widgets/base",
            "_view_module_version": "1.2.0",
            "_view_name": "StyleView",
            "description_width": ""
          }
        },
        "b5232d0a94e44ee8ad530c4a8d1340e3": {
          "model_module": "@jupyter-widgets/controls",
          "model_name": "HBoxModel",
          "model_module_version": "1.5.0",
          "state": {
            "_dom_classes": [],
            "_model_module": "@jupyter-widgets/controls",
            "_model_module_version": "1.5.0",
            "_model_name": "HBoxModel",
            "_view_count": null,
            "_view_module": "@jupyter-widgets/controls",
            "_view_module_version": "1.5.0",
            "_view_name": "HBoxView",
            "box_style": "",
            "children": [
              "IPY_MODEL_16bbfde63d3e473f8540dd84c47668d9",
              "IPY_MODEL_21a6ec4fa91245fd9ad93b0e64786668",
              "IPY_MODEL_ecdd5bac4e024d778d62451e373e5ab6"
            ],
            "layout": "IPY_MODEL_a05bcbc5b318478fb9c68f23ec5b480f"
          }
        },
        "16bbfde63d3e473f8540dd84c47668d9": {
          "model_module": "@jupyter-widgets/controls",
          "model_name": "HTMLModel",
          "model_module_version": "1.5.0",
          "state": {
            "_dom_classes": [],
            "_model_module": "@jupyter-widgets/controls",
            "_model_module_version": "1.5.0",
            "_model_name": "HTMLModel",
            "_view_count": null,
            "_view_module": "@jupyter-widgets/controls",
            "_view_module_version": "1.5.0",
            "_view_name": "HTMLView",
            "description": "",
            "description_tooltip": null,
            "layout": "IPY_MODEL_1968db6644b643cba80a464730b599ee",
            "placeholder": "​",
            "style": "IPY_MODEL_8e0a28c5e4b4488a88899c7f143130d3",
            "value": "100%"
          }
        },
        "21a6ec4fa91245fd9ad93b0e64786668": {
          "model_module": "@jupyter-widgets/controls",
          "model_name": "FloatProgressModel",
          "model_module_version": "1.5.0",
          "state": {
            "_dom_classes": [],
            "_model_module": "@jupyter-widgets/controls",
            "_model_module_version": "1.5.0",
            "_model_name": "FloatProgressModel",
            "_view_count": null,
            "_view_module": "@jupyter-widgets/controls",
            "_view_module_version": "1.5.0",
            "_view_name": "ProgressView",
            "bar_style": "success",
            "description": "",
            "description_tooltip": null,
            "layout": "IPY_MODEL_4b9f09ed438e46b498d41bee465ad78b",
            "max": 20,
            "min": 0,
            "orientation": "horizontal",
            "style": "IPY_MODEL_680303c05de54b2083e7e105dc4529c2",
            "value": 20
          }
        },
        "ecdd5bac4e024d778d62451e373e5ab6": {
          "model_module": "@jupyter-widgets/controls",
          "model_name": "HTMLModel",
          "model_module_version": "1.5.0",
          "state": {
            "_dom_classes": [],
            "_model_module": "@jupyter-widgets/controls",
            "_model_module_version": "1.5.0",
            "_model_name": "HTMLModel",
            "_view_count": null,
            "_view_module": "@jupyter-widgets/controls",
            "_view_module_version": "1.5.0",
            "_view_name": "HTMLView",
            "description": "",
            "description_tooltip": null,
            "layout": "IPY_MODEL_9341c2912ea04ff18666cb0106370f2e",
            "placeholder": "​",
            "style": "IPY_MODEL_6df7c6f977c6490485a3a7ac985e5459",
            "value": " 20/20 [00:00&lt;00:00, 22.37it/s]"
          }
        },
        "a05bcbc5b318478fb9c68f23ec5b480f": {
          "model_module": "@jupyter-widgets/base",
          "model_name": "LayoutModel",
          "model_module_version": "1.2.0",
          "state": {
            "_model_module": "@jupyter-widgets/base",
            "_model_module_version": "1.2.0",
            "_model_name": "LayoutModel",
            "_view_count": null,
            "_view_module": "@jupyter-widgets/base",
            "_view_module_version": "1.2.0",
            "_view_name": "LayoutView",
            "align_content": null,
            "align_items": null,
            "align_self": null,
            "border": null,
            "bottom": null,
            "display": null,
            "flex": null,
            "flex_flow": null,
            "grid_area": null,
            "grid_auto_columns": null,
            "grid_auto_flow": null,
            "grid_auto_rows": null,
            "grid_column": null,
            "grid_gap": null,
            "grid_row": null,
            "grid_template_areas": null,
            "grid_template_columns": null,
            "grid_template_rows": null,
            "height": null,
            "justify_content": null,
            "justify_items": null,
            "left": null,
            "margin": null,
            "max_height": null,
            "max_width": null,
            "min_height": null,
            "min_width": null,
            "object_fit": null,
            "object_position": null,
            "order": null,
            "overflow": null,
            "overflow_x": null,
            "overflow_y": null,
            "padding": null,
            "right": null,
            "top": null,
            "visibility": null,
            "width": null
          }
        },
        "1968db6644b643cba80a464730b599ee": {
          "model_module": "@jupyter-widgets/base",
          "model_name": "LayoutModel",
          "model_module_version": "1.2.0",
          "state": {
            "_model_module": "@jupyter-widgets/base",
            "_model_module_version": "1.2.0",
            "_model_name": "LayoutModel",
            "_view_count": null,
            "_view_module": "@jupyter-widgets/base",
            "_view_module_version": "1.2.0",
            "_view_name": "LayoutView",
            "align_content": null,
            "align_items": null,
            "align_self": null,
            "border": null,
            "bottom": null,
            "display": null,
            "flex": null,
            "flex_flow": null,
            "grid_area": null,
            "grid_auto_columns": null,
            "grid_auto_flow": null,
            "grid_auto_rows": null,
            "grid_column": null,
            "grid_gap": null,
            "grid_row": null,
            "grid_template_areas": null,
            "grid_template_columns": null,
            "grid_template_rows": null,
            "height": null,
            "justify_content": null,
            "justify_items": null,
            "left": null,
            "margin": null,
            "max_height": null,
            "max_width": null,
            "min_height": null,
            "min_width": null,
            "object_fit": null,
            "object_position": null,
            "order": null,
            "overflow": null,
            "overflow_x": null,
            "overflow_y": null,
            "padding": null,
            "right": null,
            "top": null,
            "visibility": null,
            "width": null
          }
        },
        "8e0a28c5e4b4488a88899c7f143130d3": {
          "model_module": "@jupyter-widgets/controls",
          "model_name": "DescriptionStyleModel",
          "model_module_version": "1.5.0",
          "state": {
            "_model_module": "@jupyter-widgets/controls",
            "_model_module_version": "1.5.0",
            "_model_name": "DescriptionStyleModel",
            "_view_count": null,
            "_view_module": "@jupyter-widgets/base",
            "_view_module_version": "1.2.0",
            "_view_name": "StyleView",
            "description_width": ""
          }
        },
        "4b9f09ed438e46b498d41bee465ad78b": {
          "model_module": "@jupyter-widgets/base",
          "model_name": "LayoutModel",
          "model_module_version": "1.2.0",
          "state": {
            "_model_module": "@jupyter-widgets/base",
            "_model_module_version": "1.2.0",
            "_model_name": "LayoutModel",
            "_view_count": null,
            "_view_module": "@jupyter-widgets/base",
            "_view_module_version": "1.2.0",
            "_view_name": "LayoutView",
            "align_content": null,
            "align_items": null,
            "align_self": null,
            "border": null,
            "bottom": null,
            "display": null,
            "flex": null,
            "flex_flow": null,
            "grid_area": null,
            "grid_auto_columns": null,
            "grid_auto_flow": null,
            "grid_auto_rows": null,
            "grid_column": null,
            "grid_gap": null,
            "grid_row": null,
            "grid_template_areas": null,
            "grid_template_columns": null,
            "grid_template_rows": null,
            "height": null,
            "justify_content": null,
            "justify_items": null,
            "left": null,
            "margin": null,
            "max_height": null,
            "max_width": null,
            "min_height": null,
            "min_width": null,
            "object_fit": null,
            "object_position": null,
            "order": null,
            "overflow": null,
            "overflow_x": null,
            "overflow_y": null,
            "padding": null,
            "right": null,
            "top": null,
            "visibility": null,
            "width": null
          }
        },
        "680303c05de54b2083e7e105dc4529c2": {
          "model_module": "@jupyter-widgets/controls",
          "model_name": "ProgressStyleModel",
          "model_module_version": "1.5.0",
          "state": {
            "_model_module": "@jupyter-widgets/controls",
            "_model_module_version": "1.5.0",
            "_model_name": "ProgressStyleModel",
            "_view_count": null,
            "_view_module": "@jupyter-widgets/base",
            "_view_module_version": "1.2.0",
            "_view_name": "StyleView",
            "bar_color": null,
            "description_width": ""
          }
        },
        "9341c2912ea04ff18666cb0106370f2e": {
          "model_module": "@jupyter-widgets/base",
          "model_name": "LayoutModel",
          "model_module_version": "1.2.0",
          "state": {
            "_model_module": "@jupyter-widgets/base",
            "_model_module_version": "1.2.0",
            "_model_name": "LayoutModel",
            "_view_count": null,
            "_view_module": "@jupyter-widgets/base",
            "_view_module_version": "1.2.0",
            "_view_name": "LayoutView",
            "align_content": null,
            "align_items": null,
            "align_self": null,
            "border": null,
            "bottom": null,
            "display": null,
            "flex": null,
            "flex_flow": null,
            "grid_area": null,
            "grid_auto_columns": null,
            "grid_auto_flow": null,
            "grid_auto_rows": null,
            "grid_column": null,
            "grid_gap": null,
            "grid_row": null,
            "grid_template_areas": null,
            "grid_template_columns": null,
            "grid_template_rows": null,
            "height": null,
            "justify_content": null,
            "justify_items": null,
            "left": null,
            "margin": null,
            "max_height": null,
            "max_width": null,
            "min_height": null,
            "min_width": null,
            "object_fit": null,
            "object_position": null,
            "order": null,
            "overflow": null,
            "overflow_x": null,
            "overflow_y": null,
            "padding": null,
            "right": null,
            "top": null,
            "visibility": null,
            "width": null
          }
        },
        "6df7c6f977c6490485a3a7ac985e5459": {
          "model_module": "@jupyter-widgets/controls",
          "model_name": "DescriptionStyleModel",
          "model_module_version": "1.5.0",
          "state": {
            "_model_module": "@jupyter-widgets/controls",
            "_model_module_version": "1.5.0",
            "_model_name": "DescriptionStyleModel",
            "_view_count": null,
            "_view_module": "@jupyter-widgets/base",
            "_view_module_version": "1.2.0",
            "_view_name": "StyleView",
            "description_width": ""
          }
        },
        "123a3d6753c14710a2ea1cfd9fd77a0f": {
          "model_module": "@jupyter-widgets/controls",
          "model_name": "HBoxModel",
          "model_module_version": "1.5.0",
          "state": {
            "_dom_classes": [],
            "_model_module": "@jupyter-widgets/controls",
            "_model_module_version": "1.5.0",
            "_model_name": "HBoxModel",
            "_view_count": null,
            "_view_module": "@jupyter-widgets/controls",
            "_view_module_version": "1.5.0",
            "_view_name": "HBoxView",
            "box_style": "",
            "children": [
              "IPY_MODEL_4bcfed83d82049d9a06838b161fb7114",
              "IPY_MODEL_e572eca668324278ae5f8128791eefae",
              "IPY_MODEL_1f99ff15f3704e77bc04811c5b04f25c"
            ],
            "layout": "IPY_MODEL_c8c808f51e004425858dfae505cd9624"
          }
        },
        "4bcfed83d82049d9a06838b161fb7114": {
          "model_module": "@jupyter-widgets/controls",
          "model_name": "HTMLModel",
          "model_module_version": "1.5.0",
          "state": {
            "_dom_classes": [],
            "_model_module": "@jupyter-widgets/controls",
            "_model_module_version": "1.5.0",
            "_model_name": "HTMLModel",
            "_view_count": null,
            "_view_module": "@jupyter-widgets/controls",
            "_view_module_version": "1.5.0",
            "_view_name": "HTMLView",
            "description": "",
            "description_tooltip": null,
            "layout": "IPY_MODEL_1ec5cc85525241849341f86b182152d4",
            "placeholder": "​",
            "style": "IPY_MODEL_c06badbf685046e4be2fd582f0cc6b0c",
            "value": "100%"
          }
        },
        "e572eca668324278ae5f8128791eefae": {
          "model_module": "@jupyter-widgets/controls",
          "model_name": "FloatProgressModel",
          "model_module_version": "1.5.0",
          "state": {
            "_dom_classes": [],
            "_model_module": "@jupyter-widgets/controls",
            "_model_module_version": "1.5.0",
            "_model_name": "FloatProgressModel",
            "_view_count": null,
            "_view_module": "@jupyter-widgets/controls",
            "_view_module_version": "1.5.0",
            "_view_name": "ProgressView",
            "bar_style": "success",
            "description": "",
            "description_tooltip": null,
            "layout": "IPY_MODEL_c179396898ea4f6db2f48b48ce078cc3",
            "max": 20,
            "min": 0,
            "orientation": "horizontal",
            "style": "IPY_MODEL_a0d385f9f9714d03be27426a12a5ef09",
            "value": 20
          }
        },
        "1f99ff15f3704e77bc04811c5b04f25c": {
          "model_module": "@jupyter-widgets/controls",
          "model_name": "HTMLModel",
          "model_module_version": "1.5.0",
          "state": {
            "_dom_classes": [],
            "_model_module": "@jupyter-widgets/controls",
            "_model_module_version": "1.5.0",
            "_model_name": "HTMLModel",
            "_view_count": null,
            "_view_module": "@jupyter-widgets/controls",
            "_view_module_version": "1.5.0",
            "_view_name": "HTMLView",
            "description": "",
            "description_tooltip": null,
            "layout": "IPY_MODEL_0f15863730cf40a8ab9c9753dc09ba88",
            "placeholder": "​",
            "style": "IPY_MODEL_2d6885939b48462a899cc10fa76de5ac",
            "value": " 20/20 [00:00&lt;00:00, 22.32it/s]"
          }
        },
        "c8c808f51e004425858dfae505cd9624": {
          "model_module": "@jupyter-widgets/base",
          "model_name": "LayoutModel",
          "model_module_version": "1.2.0",
          "state": {
            "_model_module": "@jupyter-widgets/base",
            "_model_module_version": "1.2.0",
            "_model_name": "LayoutModel",
            "_view_count": null,
            "_view_module": "@jupyter-widgets/base",
            "_view_module_version": "1.2.0",
            "_view_name": "LayoutView",
            "align_content": null,
            "align_items": null,
            "align_self": null,
            "border": null,
            "bottom": null,
            "display": null,
            "flex": null,
            "flex_flow": null,
            "grid_area": null,
            "grid_auto_columns": null,
            "grid_auto_flow": null,
            "grid_auto_rows": null,
            "grid_column": null,
            "grid_gap": null,
            "grid_row": null,
            "grid_template_areas": null,
            "grid_template_columns": null,
            "grid_template_rows": null,
            "height": null,
            "justify_content": null,
            "justify_items": null,
            "left": null,
            "margin": null,
            "max_height": null,
            "max_width": null,
            "min_height": null,
            "min_width": null,
            "object_fit": null,
            "object_position": null,
            "order": null,
            "overflow": null,
            "overflow_x": null,
            "overflow_y": null,
            "padding": null,
            "right": null,
            "top": null,
            "visibility": null,
            "width": null
          }
        },
        "1ec5cc85525241849341f86b182152d4": {
          "model_module": "@jupyter-widgets/base",
          "model_name": "LayoutModel",
          "model_module_version": "1.2.0",
          "state": {
            "_model_module": "@jupyter-widgets/base",
            "_model_module_version": "1.2.0",
            "_model_name": "LayoutModel",
            "_view_count": null,
            "_view_module": "@jupyter-widgets/base",
            "_view_module_version": "1.2.0",
            "_view_name": "LayoutView",
            "align_content": null,
            "align_items": null,
            "align_self": null,
            "border": null,
            "bottom": null,
            "display": null,
            "flex": null,
            "flex_flow": null,
            "grid_area": null,
            "grid_auto_columns": null,
            "grid_auto_flow": null,
            "grid_auto_rows": null,
            "grid_column": null,
            "grid_gap": null,
            "grid_row": null,
            "grid_template_areas": null,
            "grid_template_columns": null,
            "grid_template_rows": null,
            "height": null,
            "justify_content": null,
            "justify_items": null,
            "left": null,
            "margin": null,
            "max_height": null,
            "max_width": null,
            "min_height": null,
            "min_width": null,
            "object_fit": null,
            "object_position": null,
            "order": null,
            "overflow": null,
            "overflow_x": null,
            "overflow_y": null,
            "padding": null,
            "right": null,
            "top": null,
            "visibility": null,
            "width": null
          }
        },
        "c06badbf685046e4be2fd582f0cc6b0c": {
          "model_module": "@jupyter-widgets/controls",
          "model_name": "DescriptionStyleModel",
          "model_module_version": "1.5.0",
          "state": {
            "_model_module": "@jupyter-widgets/controls",
            "_model_module_version": "1.5.0",
            "_model_name": "DescriptionStyleModel",
            "_view_count": null,
            "_view_module": "@jupyter-widgets/base",
            "_view_module_version": "1.2.0",
            "_view_name": "StyleView",
            "description_width": ""
          }
        },
        "c179396898ea4f6db2f48b48ce078cc3": {
          "model_module": "@jupyter-widgets/base",
          "model_name": "LayoutModel",
          "model_module_version": "1.2.0",
          "state": {
            "_model_module": "@jupyter-widgets/base",
            "_model_module_version": "1.2.0",
            "_model_name": "LayoutModel",
            "_view_count": null,
            "_view_module": "@jupyter-widgets/base",
            "_view_module_version": "1.2.0",
            "_view_name": "LayoutView",
            "align_content": null,
            "align_items": null,
            "align_self": null,
            "border": null,
            "bottom": null,
            "display": null,
            "flex": null,
            "flex_flow": null,
            "grid_area": null,
            "grid_auto_columns": null,
            "grid_auto_flow": null,
            "grid_auto_rows": null,
            "grid_column": null,
            "grid_gap": null,
            "grid_row": null,
            "grid_template_areas": null,
            "grid_template_columns": null,
            "grid_template_rows": null,
            "height": null,
            "justify_content": null,
            "justify_items": null,
            "left": null,
            "margin": null,
            "max_height": null,
            "max_width": null,
            "min_height": null,
            "min_width": null,
            "object_fit": null,
            "object_position": null,
            "order": null,
            "overflow": null,
            "overflow_x": null,
            "overflow_y": null,
            "padding": null,
            "right": null,
            "top": null,
            "visibility": null,
            "width": null
          }
        },
        "a0d385f9f9714d03be27426a12a5ef09": {
          "model_module": "@jupyter-widgets/controls",
          "model_name": "ProgressStyleModel",
          "model_module_version": "1.5.0",
          "state": {
            "_model_module": "@jupyter-widgets/controls",
            "_model_module_version": "1.5.0",
            "_model_name": "ProgressStyleModel",
            "_view_count": null,
            "_view_module": "@jupyter-widgets/base",
            "_view_module_version": "1.2.0",
            "_view_name": "StyleView",
            "bar_color": null,
            "description_width": ""
          }
        },
        "0f15863730cf40a8ab9c9753dc09ba88": {
          "model_module": "@jupyter-widgets/base",
          "model_name": "LayoutModel",
          "model_module_version": "1.2.0",
          "state": {
            "_model_module": "@jupyter-widgets/base",
            "_model_module_version": "1.2.0",
            "_model_name": "LayoutModel",
            "_view_count": null,
            "_view_module": "@jupyter-widgets/base",
            "_view_module_version": "1.2.0",
            "_view_name": "LayoutView",
            "align_content": null,
            "align_items": null,
            "align_self": null,
            "border": null,
            "bottom": null,
            "display": null,
            "flex": null,
            "flex_flow": null,
            "grid_area": null,
            "grid_auto_columns": null,
            "grid_auto_flow": null,
            "grid_auto_rows": null,
            "grid_column": null,
            "grid_gap": null,
            "grid_row": null,
            "grid_template_areas": null,
            "grid_template_columns": null,
            "grid_template_rows": null,
            "height": null,
            "justify_content": null,
            "justify_items": null,
            "left": null,
            "margin": null,
            "max_height": null,
            "max_width": null,
            "min_height": null,
            "min_width": null,
            "object_fit": null,
            "object_position": null,
            "order": null,
            "overflow": null,
            "overflow_x": null,
            "overflow_y": null,
            "padding": null,
            "right": null,
            "top": null,
            "visibility": null,
            "width": null
          }
        },
        "2d6885939b48462a899cc10fa76de5ac": {
          "model_module": "@jupyter-widgets/controls",
          "model_name": "DescriptionStyleModel",
          "model_module_version": "1.5.0",
          "state": {
            "_model_module": "@jupyter-widgets/controls",
            "_model_module_version": "1.5.0",
            "_model_name": "DescriptionStyleModel",
            "_view_count": null,
            "_view_module": "@jupyter-widgets/base",
            "_view_module_version": "1.2.0",
            "_view_name": "StyleView",
            "description_width": ""
          }
        }
      }
    }
  },
  "nbformat": 4,
  "nbformat_minor": 0
}