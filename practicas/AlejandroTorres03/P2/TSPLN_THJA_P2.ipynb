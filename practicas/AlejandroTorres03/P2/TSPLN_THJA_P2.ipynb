{
  "cells": [
    {
      "cell_type": "code",
      "execution_count": 11,
      "metadata": {},
      "outputs": [
        {
          "name": "stdout",
          "output_type": "stream",
          "text": [
            "Requirement already satisfied: spacy in c:\\users\\alejandro torres\\appdata\\local\\programs\\python\\python311\\lib\\site-packages (3.8.6)\n",
            "Requirement already satisfied: datasets in c:\\users\\alejandro torres\\appdata\\local\\programs\\python\\python311\\lib\\site-packages (3.6.0)\n",
            "Requirement already satisfied: matplotlib in c:\\users\\alejandro torres\\appdata\\local\\programs\\python\\python311\\lib\\site-packages (3.8.2)\n",
            "Requirement already satisfied: spacy-legacy<3.1.0,>=3.0.11 in c:\\users\\alejandro torres\\appdata\\local\\programs\\python\\python311\\lib\\site-packages (from spacy) (3.0.12)\n",
            "Requirement already satisfied: spacy-loggers<2.0.0,>=1.0.0 in c:\\users\\alejandro torres\\appdata\\local\\programs\\python\\python311\\lib\\site-packages (from spacy) (1.0.5)\n",
            "Requirement already satisfied: murmurhash<1.1.0,>=0.28.0 in c:\\users\\alejandro torres\\appdata\\local\\programs\\python\\python311\\lib\\site-packages (from spacy) (1.0.12)\n",
            "Requirement already satisfied: cymem<2.1.0,>=2.0.2 in c:\\users\\alejandro torres\\appdata\\local\\programs\\python\\python311\\lib\\site-packages (from spacy) (2.0.11)\n",
            "Requirement already satisfied: preshed<3.1.0,>=3.0.2 in c:\\users\\alejandro torres\\appdata\\local\\programs\\python\\python311\\lib\\site-packages (from spacy) (3.0.9)\n",
            "Requirement already satisfied: thinc<8.4.0,>=8.3.4 in c:\\users\\alejandro torres\\appdata\\local\\programs\\python\\python311\\lib\\site-packages (from spacy) (8.3.4)\n",
            "Requirement already satisfied: wasabi<1.2.0,>=0.9.1 in c:\\users\\alejandro torres\\appdata\\local\\programs\\python\\python311\\lib\\site-packages (from spacy) (1.1.3)\n",
            "Requirement already satisfied: srsly<3.0.0,>=2.4.3 in c:\\users\\alejandro torres\\appdata\\local\\programs\\python\\python311\\lib\\site-packages (from spacy) (2.5.1)\n",
            "Requirement already satisfied: catalogue<2.1.0,>=2.0.6 in c:\\users\\alejandro torres\\appdata\\local\\programs\\python\\python311\\lib\\site-packages (from spacy) (2.0.10)\n",
            "Requirement already satisfied: weasel<0.5.0,>=0.1.0 in c:\\users\\alejandro torres\\appdata\\local\\programs\\python\\python311\\lib\\site-packages (from spacy) (0.4.1)\n",
            "Requirement already satisfied: typer<1.0.0,>=0.3.0 in c:\\users\\alejandro torres\\appdata\\local\\programs\\python\\python311\\lib\\site-packages (from spacy) (0.15.4)\n",
            "Requirement already satisfied: tqdm<5.0.0,>=4.38.0 in c:\\users\\alejandro torres\\appdata\\local\\programs\\python\\python311\\lib\\site-packages (from spacy) (4.66.4)\n",
            "Requirement already satisfied: numpy>=1.19.0 in c:\\users\\alejandro torres\\appdata\\local\\programs\\python\\python311\\lib\\site-packages (from spacy) (1.26.4)\n",
            "Requirement already satisfied: requests<3.0.0,>=2.13.0 in c:\\users\\alejandro torres\\appdata\\local\\programs\\python\\python311\\lib\\site-packages (from spacy) (2.32.3)\n",
            "Requirement already satisfied: pydantic!=1.8,!=1.8.1,<3.0.0,>=1.7.4 in c:\\users\\alejandro torres\\appdata\\local\\programs\\python\\python311\\lib\\site-packages (from spacy) (2.9.2)\n",
            "Requirement already satisfied: jinja2 in c:\\users\\alejandro torres\\appdata\\local\\programs\\python\\python311\\lib\\site-packages (from spacy) (3.1.2)\n",
            "Requirement already satisfied: setuptools in c:\\users\\alejandro torres\\appdata\\local\\programs\\python\\python311\\lib\\site-packages (from spacy) (65.5.0)\n",
            "Requirement already satisfied: packaging>=20.0 in c:\\users\\alejandro torres\\appdata\\local\\programs\\python\\python311\\lib\\site-packages (from spacy) (23.2)\n",
            "Requirement already satisfied: langcodes<4.0.0,>=3.2.0 in c:\\users\\alejandro torres\\appdata\\local\\programs\\python\\python311\\lib\\site-packages (from spacy) (3.5.0)\n",
            "Requirement already satisfied: filelock in c:\\users\\alejandro torres\\appdata\\local\\programs\\python\\python311\\lib\\site-packages (from datasets) (3.14.0)\n",
            "Requirement already satisfied: pyarrow>=15.0.0 in c:\\users\\alejandro torres\\appdata\\local\\programs\\python\\python311\\lib\\site-packages (from datasets) (20.0.0)\n",
            "Requirement already satisfied: dill<0.3.9,>=0.3.0 in c:\\users\\alejandro torres\\appdata\\local\\programs\\python\\python311\\lib\\site-packages (from datasets) (0.3.8)\n",
            "Requirement already satisfied: pandas in c:\\users\\alejandro torres\\appdata\\local\\programs\\python\\python311\\lib\\site-packages (from datasets) (2.0.3)\n",
            "Requirement already satisfied: xxhash in c:\\users\\alejandro torres\\appdata\\local\\programs\\python\\python311\\lib\\site-packages (from datasets) (3.5.0)\n",
            "Requirement already satisfied: multiprocess<0.70.17 in c:\\users\\alejandro torres\\appdata\\local\\programs\\python\\python311\\lib\\site-packages (from datasets) (0.70.16)\n",
            "Requirement already satisfied: fsspec<=2025.3.0,>=2023.1.0 in c:\\users\\alejandro torres\\appdata\\local\\programs\\python\\python311\\lib\\site-packages (from fsspec[http]<=2025.3.0,>=2023.1.0->datasets) (2024.5.0)\n",
            "Requirement already satisfied: huggingface-hub>=0.24.0 in c:\\users\\alejandro torres\\appdata\\local\\programs\\python\\python311\\lib\\site-packages (from datasets) (0.26.2)\n",
            "Requirement already satisfied: pyyaml>=5.1 in c:\\users\\alejandro torres\\appdata\\local\\programs\\python\\python311\\lib\\site-packages (from datasets) (6.0.1)\n",
            "Requirement already satisfied: contourpy>=1.0.1 in c:\\users\\alejandro torres\\appdata\\local\\programs\\python\\python311\\lib\\site-packages (from matplotlib) (1.2.0)\n",
            "Requirement already satisfied: cycler>=0.10 in c:\\users\\alejandro torres\\appdata\\local\\programs\\python\\python311\\lib\\site-packages (from matplotlib) (0.12.1)\n",
            "Requirement already satisfied: fonttools>=4.22.0 in c:\\users\\alejandro torres\\appdata\\local\\programs\\python\\python311\\lib\\site-packages (from matplotlib) (4.46.0)\n",
            "Requirement already satisfied: kiwisolver>=1.3.1 in c:\\users\\alejandro torres\\appdata\\local\\programs\\python\\python311\\lib\\site-packages (from matplotlib) (1.4.5)\n",
            "Requirement already satisfied: pillow>=8 in c:\\users\\alejandro torres\\appdata\\local\\programs\\python\\python311\\lib\\site-packages (from matplotlib) (10.1.0)\n",
            "Requirement already satisfied: pyparsing>=2.3.1 in c:\\users\\alejandro torres\\appdata\\local\\programs\\python\\python311\\lib\\site-packages (from matplotlib) (3.1.1)\n",
            "Requirement already satisfied: python-dateutil>=2.7 in c:\\users\\alejandro torres\\appdata\\local\\programs\\python\\python311\\lib\\site-packages (from matplotlib) (2.8.2)\n",
            "Requirement already satisfied: aiohttp!=4.0.0a0,!=4.0.0a1 in c:\\users\\alejandro torres\\appdata\\local\\programs\\python\\python311\\lib\\site-packages (from fsspec[http]<=2025.3.0,>=2023.1.0->datasets) (3.11.18)\n",
            "Requirement already satisfied: typing-extensions>=3.7.4.3 in c:\\users\\alejandro torres\\appdata\\roaming\\python\\python311\\site-packages (from huggingface-hub>=0.24.0->datasets) (4.11.0)\n",
            "Requirement already satisfied: language-data>=1.2 in c:\\users\\alejandro torres\\appdata\\local\\programs\\python\\python311\\lib\\site-packages (from langcodes<4.0.0,>=3.2.0->spacy) (1.3.0)\n",
            "Requirement already satisfied: annotated-types>=0.6.0 in c:\\users\\alejandro torres\\appdata\\local\\programs\\python\\python311\\lib\\site-packages (from pydantic!=1.8,!=1.8.1,<3.0.0,>=1.7.4->spacy) (0.7.0)\n",
            "Requirement already satisfied: pydantic-core==2.23.4 in c:\\users\\alejandro torres\\appdata\\local\\programs\\python\\python311\\lib\\site-packages (from pydantic!=1.8,!=1.8.1,<3.0.0,>=1.7.4->spacy) (2.23.4)\n",
            "Requirement already satisfied: six>=1.5 in c:\\users\\alejandro torres\\appdata\\local\\programs\\python\\python311\\lib\\site-packages (from python-dateutil>=2.7->matplotlib) (1.16.0)\n",
            "Requirement already satisfied: charset-normalizer<4,>=2 in c:\\users\\alejandro torres\\appdata\\local\\programs\\python\\python311\\lib\\site-packages (from requests<3.0.0,>=2.13.0->spacy) (3.3.2)\n",
            "Requirement already satisfied: idna<4,>=2.5 in c:\\users\\alejandro torres\\appdata\\local\\programs\\python\\python311\\lib\\site-packages (from requests<3.0.0,>=2.13.0->spacy) (2.10)\n",
            "Requirement already satisfied: urllib3<3,>=1.21.1 in c:\\users\\alejandro torres\\appdata\\local\\programs\\python\\python311\\lib\\site-packages (from requests<3.0.0,>=2.13.0->spacy) (2.1.0)\n",
            "Requirement already satisfied: certifi>=2017.4.17 in c:\\users\\alejandro torres\\appdata\\local\\programs\\python\\python311\\lib\\site-packages (from requests<3.0.0,>=2.13.0->spacy) (2023.11.17)\n",
            "Requirement already satisfied: blis<1.3.0,>=1.2.0 in c:\\users\\alejandro torres\\appdata\\local\\programs\\python\\python311\\lib\\site-packages (from thinc<8.4.0,>=8.3.4->spacy) (1.2.1)\n",
            "Requirement already satisfied: confection<1.0.0,>=0.0.1 in c:\\users\\alejandro torres\\appdata\\local\\programs\\python\\python311\\lib\\site-packages (from thinc<8.4.0,>=8.3.4->spacy) (0.1.5)\n",
            "Requirement already satisfied: colorama in c:\\users\\alejandro torres\\appdata\\local\\programs\\python\\python311\\lib\\site-packages (from tqdm<5.0.0,>=4.38.0->spacy) (0.4.6)\n",
            "Requirement already satisfied: click<8.2,>=8.0.0 in c:\\users\\alejandro torres\\appdata\\local\\programs\\python\\python311\\lib\\site-packages (from typer<1.0.0,>=0.3.0->spacy) (8.1.7)\n",
            "Requirement already satisfied: shellingham>=1.3.0 in c:\\users\\alejandro torres\\appdata\\local\\programs\\python\\python311\\lib\\site-packages (from typer<1.0.0,>=0.3.0->spacy) (1.5.4)\n",
            "Requirement already satisfied: rich>=10.11.0 in c:\\users\\alejandro torres\\appdata\\local\\programs\\python\\python311\\lib\\site-packages (from typer<1.0.0,>=0.3.0->spacy) (14.0.0)\n",
            "Requirement already satisfied: cloudpathlib<1.0.0,>=0.7.0 in c:\\users\\alejandro torres\\appdata\\local\\programs\\python\\python311\\lib\\site-packages (from weasel<0.5.0,>=0.1.0->spacy) (0.21.1)\n",
            "Requirement already satisfied: smart-open<8.0.0,>=5.2.1 in c:\\users\\alejandro torres\\appdata\\local\\programs\\python\\python311\\lib\\site-packages (from weasel<0.5.0,>=0.1.0->spacy) (7.1.0)\n",
            "Requirement already satisfied: MarkupSafe>=2.0 in c:\\users\\alejandro torres\\appdata\\local\\programs\\python\\python311\\lib\\site-packages (from jinja2->spacy) (2.1.3)\n",
            "Requirement already satisfied: pytz>=2020.1 in c:\\users\\alejandro torres\\appdata\\local\\programs\\python\\python311\\lib\\site-packages (from pandas->datasets) (2023.3)\n",
            "Requirement already satisfied: tzdata>=2022.1 in c:\\users\\alejandro torres\\appdata\\local\\programs\\python\\python311\\lib\\site-packages (from pandas->datasets) (2023.3)\n",
            "Requirement already satisfied: aiohappyeyeballs>=2.3.0 in c:\\users\\alejandro torres\\appdata\\local\\programs\\python\\python311\\lib\\site-packages (from aiohttp!=4.0.0a0,!=4.0.0a1->fsspec[http]<=2025.3.0,>=2023.1.0->datasets) (2.6.1)\n",
            "Requirement already satisfied: aiosignal>=1.1.2 in c:\\users\\alejandro torres\\appdata\\local\\programs\\python\\python311\\lib\\site-packages (from aiohttp!=4.0.0a0,!=4.0.0a1->fsspec[http]<=2025.3.0,>=2023.1.0->datasets) (1.3.2)\n",
            "Requirement already satisfied: attrs>=17.3.0 in c:\\users\\alejandro torres\\appdata\\local\\programs\\python\\python311\\lib\\site-packages (from aiohttp!=4.0.0a0,!=4.0.0a1->fsspec[http]<=2025.3.0,>=2023.1.0->datasets) (23.1.0)\n",
            "Requirement already satisfied: frozenlist>=1.1.1 in c:\\users\\alejandro torres\\appdata\\local\\programs\\python\\python311\\lib\\site-packages (from aiohttp!=4.0.0a0,!=4.0.0a1->fsspec[http]<=2025.3.0,>=2023.1.0->datasets) (1.6.0)\n",
            "Requirement already satisfied: multidict<7.0,>=4.5 in c:\\users\\alejandro torres\\appdata\\local\\programs\\python\\python311\\lib\\site-packages (from aiohttp!=4.0.0a0,!=4.0.0a1->fsspec[http]<=2025.3.0,>=2023.1.0->datasets) (6.4.4)\n",
            "Requirement already satisfied: propcache>=0.2.0 in c:\\users\\alejandro torres\\appdata\\local\\programs\\python\\python311\\lib\\site-packages (from aiohttp!=4.0.0a0,!=4.0.0a1->fsspec[http]<=2025.3.0,>=2023.1.0->datasets) (0.3.1)\n",
            "Requirement already satisfied: yarl<2.0,>=1.17.0 in c:\\users\\alejandro torres\\appdata\\local\\programs\\python\\python311\\lib\\site-packages (from aiohttp!=4.0.0a0,!=4.0.0a1->fsspec[http]<=2025.3.0,>=2023.1.0->datasets) (1.20.0)\n",
            "Requirement already satisfied: marisa-trie>=1.1.0 in c:\\users\\alejandro torres\\appdata\\local\\programs\\python\\python311\\lib\\site-packages (from language-data>=1.2->langcodes<4.0.0,>=3.2.0->spacy) (1.2.1)\n",
            "Requirement already satisfied: markdown-it-py>=2.2.0 in c:\\users\\alejandro torres\\appdata\\local\\programs\\python\\python311\\lib\\site-packages (from rich>=10.11.0->typer<1.0.0,>=0.3.0->spacy) (3.0.0)\n",
            "Requirement already satisfied: pygments<3.0.0,>=2.13.0 in c:\\users\\alejandro torres\\appdata\\roaming\\python\\python311\\site-packages (from rich>=10.11.0->typer<1.0.0,>=0.3.0->spacy) (2.18.0)\n",
            "Requirement already satisfied: wrapt in c:\\users\\alejandro torres\\appdata\\local\\programs\\python\\python311\\lib\\site-packages (from smart-open<8.0.0,>=5.2.1->weasel<0.5.0,>=0.1.0->spacy) (1.17.2)\n",
            "Requirement already satisfied: mdurl~=0.1 in c:\\users\\alejandro torres\\appdata\\local\\programs\\python\\python311\\lib\\site-packages (from markdown-it-py>=2.2.0->rich>=10.11.0->typer<1.0.0,>=0.3.0->spacy) (0.1.2)\n"
          ]
        },
        {
          "name": "stderr",
          "output_type": "stream",
          "text": [
            "\n",
            "[notice] A new release of pip is available: 25.0.1 -> 25.1.1\n",
            "[notice] To update, run: python.exe -m pip install --upgrade pip\n"
          ]
        },
        {
          "name": "stdout",
          "output_type": "stream",
          "text": [
            "Collecting es-core-news-md==3.8.0"
          ]
        },
        {
          "name": "stderr",
          "output_type": "stream",
          "text": [
            "\n",
            "[notice] A new release of pip is available: 25.0.1 -> 25.1.1\n",
            "[notice] To update, run: python.exe -m pip install --upgrade pip\n"
          ]
        },
        {
          "name": "stdout",
          "output_type": "stream",
          "text": [
            "\n",
            "  Downloading https://github.com/explosion/spacy-models/releases/download/es_core_news_md-3.8.0/es_core_news_md-3.8.0-py3-none-any.whl (42.3 MB)\n",
            "     ---------------------------------------- 0.0/42.3 MB ? eta -:--:--\n",
            "     ---------------------------------------- 0.0/42.3 MB ? eta -:--:--\n",
            "      --------------------------------------- 0.8/42.3 MB 3.0 MB/s eta 0:00:14\n",
            "     -- ------------------------------------- 2.9/42.3 MB 7.0 MB/s eta 0:00:06\n",
            "     ---- ----------------------------------- 4.7/42.3 MB 8.4 MB/s eta 0:00:05\n",
            "     -------- ------------------------------- 8.7/42.3 MB 10.5 MB/s eta 0:00:04\n",
            "     ------------ -------------------------- 13.4/42.3 MB 13.1 MB/s eta 0:00:03\n",
            "     ---------------- ---------------------- 17.8/42.3 MB 14.4 MB/s eta 0:00:02\n",
            "     ------------------ -------------------- 20.4/42.3 MB 14.2 MB/s eta 0:00:02\n",
            "     -------------------- ------------------ 22.5/42.3 MB 13.8 MB/s eta 0:00:02\n",
            "     ---------------------- ---------------- 24.1/42.3 MB 13.3 MB/s eta 0:00:02\n",
            "     ------------------------- ------------- 27.8/42.3 MB 13.6 MB/s eta 0:00:02\n",
            "     ------------------------------ -------- 33.3/42.3 MB 14.8 MB/s eta 0:00:01\n",
            "     ----------------------------------- --- 38.5/42.3 MB 15.6 MB/s eta 0:00:01\n",
            "     --------------------------------------  42.2/42.3 MB 15.9 MB/s eta 0:00:01\n",
            "     --------------------------------------- 42.3/42.3 MB 15.3 MB/s eta 0:00:00\n",
            "\u001b[38;5;2m✔ Download and installation successful\u001b[0m\n",
            "You can now load the package via spacy.load('es_core_news_md')\n"
          ]
        }
      ],
      "source": [
        "!pip install spacy datasets matplotlib\n",
        "!python -m spacy download es_core_news_md"
      ]
    },
    {
      "cell_type": "markdown",
      "metadata": {
        "id": "ZPUhoPghmtFC"
      },
      "source": [
        "## Práctica 2: Propiedades estadísticas de la lengua\n",
        "\n",
        "### Fecha de entrega: 2 de Marzo de 2025 11:59pm\n",
        "\n",
        "1. Verificar si la ley de Zipf se cumple en un lenguaje artificial creado por ustedes.\n",
        "    - *Ejemplo:* Un \"lenguaje artificial\" podría ser simplemente un texto donde las secuencias de caracteres fueron generadas aleatoriamente.\n",
        "2. Explorar `datasets` del sitio [Hugging Face](https://huggingface.co/datasets) y elegir documentos de diferentes dominios en Español (al menos 3). Realizar reconocimiento de entidades nombradas (NER).\n",
        "    - Pueden utilizar subconjuntos de los datasets encontrados\n",
        "    - Mostrar resultados del reconocimiento\n",
        "    - Una distribución de frecuencias de las etiquetas más comunes en cada dominio\n",
        "    - Comentarios generales del desempeño observado.\n",
        "\n",
        "*Sugerencias: Spacy, CoreNLP (puede ser cualquier otra herramienta)*"
      ]
    },
    {
      "cell_type": "markdown",
      "metadata": {},
      "source": [
        "## 1. Ley de Zipf"
      ]
    },
    {
      "cell_type": "code",
      "execution_count": 10,
      "metadata": {},
      "outputs": [
        {
          "data": {
            "image/png": "[encoded data removed]",
            "text/plain": [
              "<Figure size 1000x600 with 1 Axes>"
            ]
          },
          "metadata": {},
          "output_type": "display_data"
        }
      ],
      "source": [
        "import random\n",
        "import string\n",
        "from collections import Counter\n",
        "import matplotlib.pyplot as plt\n",
        "\n",
        "# --- Configuración ---\n",
        "num_total_palabras = 10000  # Total de palabras en el texto\n",
        "num_palabras_comunes = 20   # Número de palabras frecuentes (ej: \"el\", \"la\", \"de\")\n",
        "num_palabras_raras = 500     # Número de palabras raras (aparecerán poco)\n",
        "\n",
        "# --- Generar palabras ---\n",
        "# 1. Palabras \"comunes\" (aparecerán mucho)\n",
        "palabras_comunes = [''.join(random.choices(string.ascii_lowercase, k=3)) for _ in range(num_palabras_comunes)]\n",
        "\n",
        "# 2. Palabras \"raras\" (aparecerán poco)\n",
        "palabras_raras = [''.join(random.choices(string.ascii_lowercase, k=5)) for _ in range(num_palabras_raras)]\n",
        "\n",
        "# --- Asignar frecuencias ---\n",
        "# - Las palabras comunes aparecerán entre 100 y 500 veces.\n",
        "# - Las palabras raras aparecerán entre 1 y 10 veces.\n",
        "texto_artificial = []\n",
        "\n",
        "# Añadir palabras comunes (muchas repeticiones)\n",
        "for palabra in palabras_comunes:\n",
        "    frecuencia = random.randint(100, 500)\n",
        "    texto_artificial.extend([palabra] * frecuencia)\n",
        "\n",
        "# Añadir palabras raras (pocas repeticiones)\n",
        "for palabra in palabras_raras:\n",
        "    frecuencia = random.randint(1, 10)\n",
        "    texto_artificial.extend([palabra] * frecuencia)\n",
        "\n",
        "# Mezclar todas las palabras para que no estén ordenadas\n",
        "random.shuffle(texto_artificial)\n",
        "\n",
        "# Recortar a num_total_palabras (por si nos pasamos)\n",
        "texto_artificial = texto_artificial[:num_total_palabras]\n",
        "\n",
        "# --- Calcular frecuencias ---\n",
        "word_counts = Counter(texto_artificial)\n",
        "sorted_counts = sorted(word_counts.values(), reverse=True)\n",
        "ranks = range(1, len(sorted_counts) + 1)\n",
        "\n",
        "# --- Graficar (log-log) ---\n",
        "plt.figure(figsize=(10, 6))\n",
        "plt.loglog(ranks, sorted_counts, 'o', markersize=5, alpha=0.7)\n",
        "plt.xlabel('Rango (log)')\n",
        "plt.ylabel('Frecuencia (log)')\n",
        "plt.title('Ley de Zipf en Lenguaje Artificial')\n",
        "plt.grid(True)\n",
        "plt.show()"
      ]
    },
    {
      "cell_type": "markdown",
      "metadata": {},
      "source": [
        "### Análisis\n",
        "\n",
        "El lenguaje artificial generado muestra un comportamiento parcialmente similar a la Ley de Zipf, especialmente en los rangos altos (palabras más frecuentes). No obstante, la presencia artificial y uniforme de muchas palabras raras altera la distribución esperada, lo que demuestra que la ley de Zipf no se cumple completamente en un lenguaje no natural."
      ]
    },
    {
      "cell_type": "markdown",
      "metadata": {},
      "source": [
        "## 2. NER"
      ]
    },
    {
      "cell_type": "code",
      "execution_count": 12,
      "metadata": {},
      "outputs": [
        {
          "data": {
            "application/vnd.jupyter.widget-view+json": {
              "model_id": "5cfe2867fb4f49e090a64f7bfa9131d5",
              "version_major": 2,
              "version_minor": 0
            },
            "text/plain": [
              "README.md:   0%|          | 0.00/1.16k [00:00<?, ?B/s]"
            ]
          },
          "metadata": {},
          "output_type": "display_data"
        },
        {
          "name": "stderr",
          "output_type": "stream",
          "text": [
            "c:\\Users\\Alejandro Torres\\AppData\\Local\\Programs\\Python\\Python311\\Lib\\site-packages\\huggingface_hub\\file_download.py:139: UserWarning: `huggingface_hub` cache-system uses symlinks by default to efficiently store duplicated files but your machine does not support them in C:\\Users\\Alejandro Torres\\.cache\\huggingface\\hub\\datasets--Danielbrdz--Barcenas-Juridico-Mexicano-Dataset. Caching files will still work but in a degraded version that might require more space on your disk. This warning can be disabled by setting the `HF_HUB_DISABLE_SYMLINKS_WARNING` environment variable. For more details, see https://huggingface.co/docs/huggingface_hub/how-to-cache#limitations.\n",
            "To support symlinks on Windows, you either need to activate Developer Mode or to run Python as an administrator. In order to activate developer mode, see this article: https://docs.microsoft.com/en-us/windows/apps/get-started/enable-your-device-for-development\n",
            "  warnings.warn(message)\n"
          ]
        },
        {
          "data": {
            "application/vnd.jupyter.widget-view+json": {
              "model_id": "fda8382523da43e9825b15ad37cdfe96",
              "version_major": 2,
              "version_minor": 0
            },
            "text/plain": [
              "Barcenas-Juridico-Mexicano.parquet:   0%|          | 0.00/3.82M [00:00<?, ?B/s]"
            ]
          },
          "metadata": {},
          "output_type": "display_data"
        },
        {
          "data": {
            "application/vnd.jupyter.widget-view+json": {
              "model_id": "fa9ee05305d54317b4d8de39c1d502b4",
              "version_major": 2,
              "version_minor": 0
            },
            "text/plain": [
              "Generating train split:   0%|          | 0/22789 [00:00<?, ? examples/s]"
            ]
          },
          "metadata": {},
          "output_type": "display_data"
        },
        {
          "data": {
            "application/vnd.jupyter.widget-view+json": {
              "model_id": "447ab3d99354436eb7938b81f8c43cc7",
              "version_major": 2,
              "version_minor": 0
            },
            "text/plain": [
              "README.md:   0%|          | 0.00/29.5k [00:00<?, ?B/s]"
            ]
          },
          "metadata": {},
          "output_type": "display_data"
        },
        {
          "name": "stderr",
          "output_type": "stream",
          "text": [
            "c:\\Users\\Alejandro Torres\\AppData\\Local\\Programs\\Python\\Python311\\Lib\\site-packages\\huggingface_hub\\file_download.py:139: UserWarning: `huggingface_hub` cache-system uses symlinks by default to efficiently store duplicated files but your machine does not support them in C:\\Users\\Alejandro Torres\\.cache\\huggingface\\hub\\datasets--nazimali--quran. Caching files will still work but in a degraded version that might require more space on your disk. This warning can be disabled by setting the `HF_HUB_DISABLE_SYMLINKS_WARNING` environment variable. For more details, see https://huggingface.co/docs/huggingface_hub/how-to-cache#limitations.\n",
            "To support symlinks on Windows, you either need to activate Developer Mode or to run Python as an administrator. In order to activate developer mode, see this article: https://docs.microsoft.com/en-us/windows/apps/get-started/enable-your-device-for-development\n",
            "  warnings.warn(message)\n"
          ]
        },
        {
          "data": {
            "application/vnd.jupyter.widget-view+json": {
              "model_id": "bc6bf7d18d5d46ee93b047f2f3af51e4",
              "version_major": 2,
              "version_minor": 0
            },
            "text/plain": [
              "Resolving data files:   0%|          | 0/172 [00:00<?, ?it/s]"
            ]
          },
          "metadata": {},
          "output_type": "display_data"
        },
        {
          "data": {
            "application/vnd.jupyter.widget-view+json": {
              "model_id": "89bf40df4b6444779b6a4c521f9bdb43",
              "version_major": 2,
              "version_minor": 0
            },
            "text/plain": [
              "Resolving data files:   0%|          | 0/172 [00:00<?, ?it/s]"
            ]
          },
          "metadata": {},
          "output_type": "display_data"
        },
        {
          "data": {
            "application/vnd.jupyter.widget-view+json": {
              "model_id": "6207632cefa5422a91d7d4ea2bf9f285",
              "version_major": 2,
              "version_minor": 0
            },
            "text/plain": [
              "Downloading data:   0%|          | 0/172 [00:00<?, ?files/s]"
            ]
          },
          "metadata": {},
          "output_type": "display_data"
        },
        {
          "data": {
            "application/vnd.jupyter.widget-view+json": {
              "model_id": "4af92f4db5ba443f902ad114d4cf619b",
              "version_major": 2,
              "version_minor": 0
            },
            "text/plain": [
              "train-00004-of-00172.parquet:   0%|          | 0.00/1.16M [00:00<?, ?B/s]"
            ]
          },
          "metadata": {},
          "output_type": "display_data"
        },
        {
          "data": {
            "application/vnd.jupyter.widget-view+json": {
              "model_id": "37f9d49a1ed24d129d41e5f0b4ca3c9e",
              "version_major": 2,
              "version_minor": 0
            },
            "text/plain": [
              "train-00001-of-00172.parquet:   0%|          | 0.00/935k [00:00<?, ?B/s]"
            ]
          },
          "metadata": {},
          "output_type": "display_data"
        },
        {
          "data": {
            "application/vnd.jupyter.widget-view+json": {
              "model_id": "64980e86fb2c4936ac0baae7b05d8b2a",
              "version_major": 2,
              "version_minor": 0
            },
            "text/plain": [
              "train-00010-of-00172.parquet:   0%|          | 0.00/933k [00:00<?, ?B/s]"
            ]
          },
          "metadata": {},
          "output_type": "display_data"
        },
        {
          "data": {
            "application/vnd.jupyter.widget-view+json": {
              "model_id": "5ea6389b57b3457399e2304b54e1fd39",
              "version_major": 2,
              "version_minor": 0
            },
            "text/plain": [
              "train-00007-of-00172.parquet:   0%|          | 0.00/1.52M [00:00<?, ?B/s]"
            ]
          },
          "metadata": {},
          "output_type": "display_data"
        },
        {
          "data": {
            "application/vnd.jupyter.widget-view+json": {
              "model_id": "4a96b928b4c74e78adb6ff91475a3fc1",
              "version_major": 2,
              "version_minor": 0
            },
            "text/plain": [
              "train-00002-of-00172.parquet:   0%|          | 0.00/1.13M [00:00<?, ?B/s]"
            ]
          },
          "metadata": {},
          "output_type": "display_data"
        },
        {
          "data": {
            "application/vnd.jupyter.widget-view+json": {
              "model_id": "43591f307d3543e99925d8891cf0cc6a",
              "version_major": 2,
              "version_minor": 0
            },
            "text/plain": [
              "train-00014-of-00172.parquet:   0%|          | 0.00/1.06M [00:00<?, ?B/s]"
            ]
          },
          "metadata": {},
          "output_type": "display_data"
        },
        {
          "data": {
            "application/vnd.jupyter.widget-view+json": {
              "model_id": "f78b7f635615412a977e7684d7a061db",
              "version_major": 2,
              "version_minor": 0
            },
            "text/plain": [
              "train-00005-of-00172.parquet:   0%|          | 0.00/1.32M [00:00<?, ?B/s]"
            ]
          },
          "metadata": {},
          "output_type": "display_data"
        },
        {
          "data": {
            "application/vnd.jupyter.widget-view+json": {
              "model_id": "5d36ef739fb643fca03a00aec010b5f8",
              "version_major": 2,
              "version_minor": 0
            },
            "text/plain": [
              "train-00000-of-00172.parquet:   0%|          | 0.00/816k [00:00<?, ?B/s]"
            ]
          },
          "metadata": {},
          "output_type": "display_data"
        },
        {
          "data": {
            "application/vnd.jupyter.widget-view+json": {
              "model_id": "4a6bd9d487c847b4b42dea8c46633dcb",
              "version_major": 2,
              "version_minor": 0
            },
            "text/plain": [
              "train-00003-of-00172.parquet:   0%|          | 0.00/1.06M [00:00<?, ?B/s]"
            ]
          },
          "metadata": {},
          "output_type": "display_data"
        },
        {
          "data": {
            "application/vnd.jupyter.widget-view+json": {
              "model_id": "877d82be9403484baaf28519fbf0ef5f",
              "version_major": 2,
              "version_minor": 0
            },
            "text/plain": [
              "train-00006-of-00172.parquet:   0%|          | 0.00/1.50M [00:00<?, ?B/s]"
            ]
          },
          "metadata": {},
          "output_type": "display_data"
        },
        {
          "data": {
            "application/vnd.jupyter.widget-view+json": {
              "model_id": "6def1bf9a9324e4d98d67861879138f7",
              "version_major": 2,
              "version_minor": 0
            },
            "text/plain": [
              "train-00008-of-00172.parquet:   0%|          | 0.00/1.04M [00:00<?, ?B/s]"
            ]
          },
          "metadata": {},
          "output_type": "display_data"
        },
        {
          "data": {
            "application/vnd.jupyter.widget-view+json": {
              "model_id": "8a4ee88491d2424894daacc36aa9c554",
              "version_major": 2,
              "version_minor": 0
            },
            "text/plain": [
              "train-00012-of-00172.parquet:   0%|          | 0.00/1.17M [00:00<?, ?B/s]"
            ]
          },
          "metadata": {},
          "output_type": "display_data"
        },
        {
          "data": {
            "application/vnd.jupyter.widget-view+json": {
              "model_id": "0ad35f1a812b43638fbacc93cb7b112b",
              "version_major": 2,
              "version_minor": 0
            },
            "text/plain": [
              "train-00011-of-00172.parquet:   0%|          | 0.00/880k [00:00<?, ?B/s]"
            ]
          },
          "metadata": {},
          "output_type": "display_data"
        },
        {
          "data": {
            "application/vnd.jupyter.widget-view+json": {
              "model_id": "f513b9c5ec114256a52d5cec37b1706f",
              "version_major": 2,
              "version_minor": 0
            },
            "text/plain": [
              "train-00017-of-00172.parquet:   0%|          | 0.00/1.02M [00:00<?, ?B/s]"
            ]
          },
          "metadata": {},
          "output_type": "display_data"
        },
        {
          "data": {
            "application/vnd.jupyter.widget-view+json": {
              "model_id": "58b77ab4f95a429a84e3abf4de42cb31",
              "version_major": 2,
              "version_minor": 0
            },
            "text/plain": [
              "train-00019-of-00172.parquet:   0%|          | 0.00/1.21M [00:00<?, ?B/s]"
            ]
          },
          "metadata": {},
          "output_type": "display_data"
        },
        {
          "data": {
            "application/vnd.jupyter.widget-view+json": {
              "model_id": "0f4f1e98b6c24e78a657b9df1ebe75c0",
              "version_major": 2,
              "version_minor": 0
            },
            "text/plain": [
              "train-00020-of-00172.parquet:   0%|          | 0.00/1.12M [00:00<?, ?B/s]"
            ]
          },
          "metadata": {},
          "output_type": "display_data"
        },
        {
          "data": {
            "application/vnd.jupyter.widget-view+json": {
              "model_id": "8caae66810674375a2b85a47ca499873",
              "version_major": 2,
              "version_minor": 0
            },
            "text/plain": [
              "train-00018-of-00172.parquet:   0%|          | 0.00/1.39M [00:00<?, ?B/s]"
            ]
          },
          "metadata": {},
          "output_type": "display_data"
        },
        {
          "data": {
            "application/vnd.jupyter.widget-view+json": {
              "model_id": "c49b3d4da0034a7ca250c73877a2fd35",
              "version_major": 2,
              "version_minor": 0
            },
            "text/plain": [
              "train-00021-of-00172.parquet:   0%|          | 0.00/1.02M [00:00<?, ?B/s]"
            ]
          },
          "metadata": {},
          "output_type": "display_data"
        },
        {
          "data": {
            "application/vnd.jupyter.widget-view+json": {
              "model_id": "b72d29b5c28b48e28bda17e41890d5bc",
              "version_major": 2,
              "version_minor": 0
            },
            "text/plain": [
              "train-00023-of-00172.parquet:   0%|          | 0.00/1.12M [00:00<?, ?B/s]"
            ]
          },
          "metadata": {},
          "output_type": "display_data"
        },
        {
          "data": {
            "application/vnd.jupyter.widget-view+json": {
              "model_id": "770170c2cceb4854ae8eca45a2207786",
              "version_major": 2,
              "version_minor": 0
            },
            "text/plain": [
              "train-00026-of-00172.parquet:   0%|          | 0.00/1.00M [00:00<?, ?B/s]"
            ]
          },
          "metadata": {},
          "output_type": "display_data"
        },
        {
          "data": {
            "application/vnd.jupyter.widget-view+json": {
              "model_id": "6da8ab81937847a8a8852217ad5148d7",
              "version_major": 2,
              "version_minor": 0
            },
            "text/plain": [
              "train-00028-of-00172.parquet:   0%|          | 0.00/779k [00:00<?, ?B/s]"
            ]
          },
          "metadata": {},
          "output_type": "display_data"
        },
        {
          "data": {
            "application/vnd.jupyter.widget-view+json": {
              "model_id": "8bd6d2bb46ce4fc19b8e69954d71054a",
              "version_major": 2,
              "version_minor": 0
            },
            "text/plain": [
              "train-00016-of-00172.parquet:   0%|          | 0.00/1.08M [00:00<?, ?B/s]"
            ]
          },
          "metadata": {},
          "output_type": "display_data"
        },
        {
          "data": {
            "application/vnd.jupyter.widget-view+json": {
              "model_id": "eb17086241fb48c29093931fd48ed3bd",
              "version_major": 2,
              "version_minor": 0
            },
            "text/plain": [
              "train-00029-of-00172.parquet:   0%|          | 0.00/1.03M [00:00<?, ?B/s]"
            ]
          },
          "metadata": {},
          "output_type": "display_data"
        },
        {
          "data": {
            "application/vnd.jupyter.widget-view+json": {
              "model_id": "dbd6649d5958404cb2a79ef234ca2507",
              "version_major": 2,
              "version_minor": 0
            },
            "text/plain": [
              "train-00015-of-00172.parquet:   0%|          | 0.00/1.23M [00:00<?, ?B/s]"
            ]
          },
          "metadata": {},
          "output_type": "display_data"
        },
        {
          "data": {
            "application/vnd.jupyter.widget-view+json": {
              "model_id": "87d3415619db4955b3739dea79da182e",
              "version_major": 2,
              "version_minor": 0
            },
            "text/plain": [
              "train-00031-of-00172.parquet:   0%|          | 0.00/865k [00:00<?, ?B/s]"
            ]
          },
          "metadata": {},
          "output_type": "display_data"
        },
        {
          "data": {
            "application/vnd.jupyter.widget-view+json": {
              "model_id": "301ca1df9ba64db8a60da2f370dcc230",
              "version_major": 2,
              "version_minor": 0
            },
            "text/plain": [
              "train-00030-of-00172.parquet:   0%|          | 0.00/1.15M [00:00<?, ?B/s]"
            ]
          },
          "metadata": {},
          "output_type": "display_data"
        },
        {
          "data": {
            "application/vnd.jupyter.widget-view+json": {
              "model_id": "5673ddac0a59442ab7009e6c6ea60cac",
              "version_major": 2,
              "version_minor": 0
            },
            "text/plain": [
              "train-00032-of-00172.parquet:   0%|          | 0.00/1.01M [00:00<?, ?B/s]"
            ]
          },
          "metadata": {},
          "output_type": "display_data"
        },
        {
          "data": {
            "application/vnd.jupyter.widget-view+json": {
              "model_id": "f2eaffb9f5ac4b52bce523dad7a2ff64",
              "version_major": 2,
              "version_minor": 0
            },
            "text/plain": [
              "train-00033-of-00172.parquet:   0%|          | 0.00/1.00M [00:00<?, ?B/s]"
            ]
          },
          "metadata": {},
          "output_type": "display_data"
        },
        {
          "data": {
            "application/vnd.jupyter.widget-view+json": {
              "model_id": "ec4cf7952bcd4c78a821361b4ce7b003",
              "version_major": 2,
              "version_minor": 0
            },
            "text/plain": [
              "train-00027-of-00172.parquet:   0%|          | 0.00/963k [00:00<?, ?B/s]"
            ]
          },
          "metadata": {},
          "output_type": "display_data"
        },
        {
          "data": {
            "application/vnd.jupyter.widget-view+json": {
              "model_id": "d5c7ef3349a943b99da938f33fc68082",
              "version_major": 2,
              "version_minor": 0
            },
            "text/plain": [
              "train-00022-of-00172.parquet:   0%|          | 0.00/1.02M [00:00<?, ?B/s]"
            ]
          },
          "metadata": {},
          "output_type": "display_data"
        },
        {
          "data": {
            "application/vnd.jupyter.widget-view+json": {
              "model_id": "c85a3773852e4012a0fb559b00be7202",
              "version_major": 2,
              "version_minor": 0
            },
            "text/plain": [
              "train-00035-of-00172.parquet:   0%|          | 0.00/1.09M [00:00<?, ?B/s]"
            ]
          },
          "metadata": {},
          "output_type": "display_data"
        },
        {
          "data": {
            "application/vnd.jupyter.widget-view+json": {
              "model_id": "e3e2350ab9324eb6b892de6acb030ce6",
              "version_major": 2,
              "version_minor": 0
            },
            "text/plain": [
              "train-00037-of-00172.parquet:   0%|          | 0.00/1.06M [00:00<?, ?B/s]"
            ]
          },
          "metadata": {},
          "output_type": "display_data"
        },
        {
          "data": {
            "application/vnd.jupyter.widget-view+json": {
              "model_id": "5276665c0981405c885a6b78dfdc15d1",
              "version_major": 2,
              "version_minor": 0
            },
            "text/plain": [
              "train-00036-of-00172.parquet:   0%|          | 0.00/1.19M [00:00<?, ?B/s]"
            ]
          },
          "metadata": {},
          "output_type": "display_data"
        },
        {
          "data": {
            "application/vnd.jupyter.widget-view+json": {
              "model_id": "593b7994f91c4025b4a36ff4fa6ced01",
              "version_major": 2,
              "version_minor": 0
            },
            "text/plain": [
              "train-00038-of-00172.parquet:   0%|          | 0.00/868k [00:00<?, ?B/s]"
            ]
          },
          "metadata": {},
          "output_type": "display_data"
        },
        {
          "data": {
            "application/vnd.jupyter.widget-view+json": {
              "model_id": "8a7b0d238aa049d39403e3de75dc2536",
              "version_major": 2,
              "version_minor": 0
            },
            "text/plain": [
              "train-00024-of-00172.parquet:   0%|          | 0.00/1.06M [00:00<?, ?B/s]"
            ]
          },
          "metadata": {},
          "output_type": "display_data"
        },
        {
          "data": {
            "application/vnd.jupyter.widget-view+json": {
              "model_id": "73cf963b341844e282f1f9c826773a05",
              "version_major": 2,
              "version_minor": 0
            },
            "text/plain": [
              "train-00040-of-00172.parquet:   0%|          | 0.00/968k [00:00<?, ?B/s]"
            ]
          },
          "metadata": {},
          "output_type": "display_data"
        },
        {
          "data": {
            "application/vnd.jupyter.widget-view+json": {
              "model_id": "8ac81b39f6dc4270a7a63ee7bdb587dc",
              "version_major": 2,
              "version_minor": 0
            },
            "text/plain": [
              "train-00039-of-00172.parquet:   0%|          | 0.00/887k [00:00<?, ?B/s]"
            ]
          },
          "metadata": {},
          "output_type": "display_data"
        },
        {
          "data": {
            "application/vnd.jupyter.widget-view+json": {
              "model_id": "95c6948c77e54ad5a5e102c042de337b",
              "version_major": 2,
              "version_minor": 0
            },
            "text/plain": [
              "train-00043-of-00172.parquet:   0%|          | 0.00/897k [00:00<?, ?B/s]"
            ]
          },
          "metadata": {},
          "output_type": "display_data"
        },
        {
          "data": {
            "application/vnd.jupyter.widget-view+json": {
              "model_id": "f2ab59c30bac4b209e7cbb103d7f5c24",
              "version_major": 2,
              "version_minor": 0
            },
            "text/plain": [
              "train-00042-of-00172.parquet:   0%|          | 0.00/868k [00:00<?, ?B/s]"
            ]
          },
          "metadata": {},
          "output_type": "display_data"
        },
        {
          "data": {
            "application/vnd.jupyter.widget-view+json": {
              "model_id": "c55dbfaecd76416789a3db6980ad94fa",
              "version_major": 2,
              "version_minor": 0
            },
            "text/plain": [
              "train-00044-of-00172.parquet:   0%|          | 0.00/969k [00:00<?, ?B/s]"
            ]
          },
          "metadata": {},
          "output_type": "display_data"
        },
        {
          "data": {
            "application/vnd.jupyter.widget-view+json": {
              "model_id": "28d79a58ab3349108b341e47d681b4b7",
              "version_major": 2,
              "version_minor": 0
            },
            "text/plain": [
              "train-00041-of-00172.parquet:   0%|          | 0.00/902k [00:00<?, ?B/s]"
            ]
          },
          "metadata": {},
          "output_type": "display_data"
        },
        {
          "data": {
            "application/vnd.jupyter.widget-view+json": {
              "model_id": "976bbbf4deba4becb26fc84692e9b637",
              "version_major": 2,
              "version_minor": 0
            },
            "text/plain": [
              "train-00045-of-00172.parquet:   0%|          | 0.00/872k [00:00<?, ?B/s]"
            ]
          },
          "metadata": {},
          "output_type": "display_data"
        },
        {
          "data": {
            "application/vnd.jupyter.widget-view+json": {
              "model_id": "89a1c5ee15de4476999128915cd98bb7",
              "version_major": 2,
              "version_minor": 0
            },
            "text/plain": [
              "train-00046-of-00172.parquet:   0%|          | 0.00/1.09M [00:00<?, ?B/s]"
            ]
          },
          "metadata": {},
          "output_type": "display_data"
        },
        {
          "data": {
            "application/vnd.jupyter.widget-view+json": {
              "model_id": "717305e69bdb49e587cb1c5b85e891a5",
              "version_major": 2,
              "version_minor": 0
            },
            "text/plain": [
              "train-00047-of-00172.parquet:   0%|          | 0.00/1.12M [00:00<?, ?B/s]"
            ]
          },
          "metadata": {},
          "output_type": "display_data"
        },
        {
          "data": {
            "application/vnd.jupyter.widget-view+json": {
              "model_id": "7ec776c54df346a79f3801fcd9629558",
              "version_major": 2,
              "version_minor": 0
            },
            "text/plain": [
              "train-00049-of-00172.parquet:   0%|          | 0.00/494k [00:00<?, ?B/s]"
            ]
          },
          "metadata": {},
          "output_type": "display_data"
        },
        {
          "data": {
            "application/vnd.jupyter.widget-view+json": {
              "model_id": "589be3a782634c91a005e8b6c7a47670",
              "version_major": 2,
              "version_minor": 0
            },
            "text/plain": [
              "train-00050-of-00172.parquet:   0%|          | 0.00/452k [00:00<?, ?B/s]"
            ]
          },
          "metadata": {},
          "output_type": "display_data"
        },
        {
          "data": {
            "application/vnd.jupyter.widget-view+json": {
              "model_id": "3a86e08e0e3449fba95abe646921689f",
              "version_major": 2,
              "version_minor": 0
            },
            "text/plain": [
              "train-00052-of-00172.parquet:   0%|          | 0.00/813k [00:00<?, ?B/s]"
            ]
          },
          "metadata": {},
          "output_type": "display_data"
        },
        {
          "data": {
            "application/vnd.jupyter.widget-view+json": {
              "model_id": "c990f7117dbc40d0a9973b3ab4a0a5e0",
              "version_major": 2,
              "version_minor": 0
            },
            "text/plain": [
              "train-00051-of-00172.parquet:   0%|          | 0.00/616k [00:00<?, ?B/s]"
            ]
          },
          "metadata": {},
          "output_type": "display_data"
        },
        {
          "data": {
            "application/vnd.jupyter.widget-view+json": {
              "model_id": "e38f550314ea40079a266168cd0f3a2f",
              "version_major": 2,
              "version_minor": 0
            },
            "text/plain": [
              "train-00055-of-00172.parquet:   0%|          | 0.00/869k [00:00<?, ?B/s]"
            ]
          },
          "metadata": {},
          "output_type": "display_data"
        },
        {
          "data": {
            "application/vnd.jupyter.widget-view+json": {
              "model_id": "f489007b51b5425883a51aecf40baeee",
              "version_major": 2,
              "version_minor": 0
            },
            "text/plain": [
              "train-00056-of-00172.parquet:   0%|          | 0.00/903k [00:00<?, ?B/s]"
            ]
          },
          "metadata": {},
          "output_type": "display_data"
        },
        {
          "data": {
            "application/vnd.jupyter.widget-view+json": {
              "model_id": "63ab3e5268a140f8b4c416b28e2d354f",
              "version_major": 2,
              "version_minor": 0
            },
            "text/plain": [
              "train-00053-of-00172.parquet:   0%|          | 0.00/906k [00:00<?, ?B/s]"
            ]
          },
          "metadata": {},
          "output_type": "display_data"
        },
        {
          "data": {
            "application/vnd.jupyter.widget-view+json": {
              "model_id": "4503ad4e3ed14a9e96ed1423b20b7a2f",
              "version_major": 2,
              "version_minor": 0
            },
            "text/plain": [
              "train-00058-of-00172.parquet:   0%|          | 0.00/954k [00:00<?, ?B/s]"
            ]
          },
          "metadata": {},
          "output_type": "display_data"
        },
        {
          "data": {
            "application/vnd.jupyter.widget-view+json": {
              "model_id": "5f3231ca8e6b43abb9179e5022838138",
              "version_major": 2,
              "version_minor": 0
            },
            "text/plain": [
              "train-00057-of-00172.parquet:   0%|          | 0.00/854k [00:00<?, ?B/s]"
            ]
          },
          "metadata": {},
          "output_type": "display_data"
        },
        {
          "data": {
            "application/vnd.jupyter.widget-view+json": {
              "model_id": "798b1e5ea4b84316b41f3d9fc2e7e568",
              "version_major": 2,
              "version_minor": 0
            },
            "text/plain": [
              "train-00061-of-00172.parquet:   0%|          | 0.00/671k [00:00<?, ?B/s]"
            ]
          },
          "metadata": {},
          "output_type": "display_data"
        },
        {
          "data": {
            "application/vnd.jupyter.widget-view+json": {
              "model_id": "f19045f3c3da4c4fa7c305db38b0d63e",
              "version_major": 2,
              "version_minor": 0
            },
            "text/plain": [
              "train-00062-of-00172.parquet:   0%|          | 0.00/680k [00:00<?, ?B/s]"
            ]
          },
          "metadata": {},
          "output_type": "display_data"
        },
        {
          "data": {
            "application/vnd.jupyter.widget-view+json": {
              "model_id": "8999c5ca5bbf452b988f69de81c0a887",
              "version_major": 2,
              "version_minor": 0
            },
            "text/plain": [
              "train-00063-of-00172.parquet:   0%|          | 0.00/604k [00:00<?, ?B/s]"
            ]
          },
          "metadata": {},
          "output_type": "display_data"
        },
        {
          "data": {
            "application/vnd.jupyter.widget-view+json": {
              "model_id": "9ca6e211b96b408594096711ac1bb662",
              "version_major": 2,
              "version_minor": 0
            },
            "text/plain": [
              "train-00064-of-00172.parquet:   0%|          | 0.00/447k [00:00<?, ?B/s]"
            ]
          },
          "metadata": {},
          "output_type": "display_data"
        },
        {
          "data": {
            "application/vnd.jupyter.widget-view+json": {
              "model_id": "8ee685d16dec44b08c8a2b02343763a5",
              "version_major": 2,
              "version_minor": 0
            },
            "text/plain": [
              "train-00066-of-00172.parquet:   0%|          | 0.00/702k [00:00<?, ?B/s]"
            ]
          },
          "metadata": {},
          "output_type": "display_data"
        },
        {
          "data": {
            "application/vnd.jupyter.widget-view+json": {
              "model_id": "6bf0d65584614e1d9286facfe2996a7d",
              "version_major": 2,
              "version_minor": 0
            },
            "text/plain": [
              "train-00065-of-00172.parquet:   0%|          | 0.00/702k [00:00<?, ?B/s]"
            ]
          },
          "metadata": {},
          "output_type": "display_data"
        },
        {
          "data": {
            "application/vnd.jupyter.widget-view+json": {
              "model_id": "5b1021c4a3db4a32a2a8bd51127ced61",
              "version_major": 2,
              "version_minor": 0
            },
            "text/plain": [
              "train-00067-of-00172.parquet:   0%|          | 0.00/818k [00:00<?, ?B/s]"
            ]
          },
          "metadata": {},
          "output_type": "display_data"
        },
        {
          "data": {
            "application/vnd.jupyter.widget-view+json": {
              "model_id": "b430f8da2a1442f8b9407d4d442e2740",
              "version_major": 2,
              "version_minor": 0
            },
            "text/plain": [
              "train-00069-of-00172.parquet:   0%|          | 0.00/630k [00:00<?, ?B/s]"
            ]
          },
          "metadata": {},
          "output_type": "display_data"
        },
        {
          "data": {
            "application/vnd.jupyter.widget-view+json": {
              "model_id": "8ef64565261e4d1e977e5e16e18b6369",
              "version_major": 2,
              "version_minor": 0
            },
            "text/plain": [
              "train-00070-of-00172.parquet:   0%|          | 0.00/811k [00:00<?, ?B/s]"
            ]
          },
          "metadata": {},
          "output_type": "display_data"
        },
        {
          "data": {
            "application/vnd.jupyter.widget-view+json": {
              "model_id": "02a13bd61e0e42d9b6230a7287cf5ad9",
              "version_major": 2,
              "version_minor": 0
            },
            "text/plain": [
              "train-00072-of-00172.parquet:   0%|          | 0.00/824k [00:00<?, ?B/s]"
            ]
          },
          "metadata": {},
          "output_type": "display_data"
        },
        {
          "data": {
            "application/vnd.jupyter.widget-view+json": {
              "model_id": "9323f4295c2d4e29a0f19ea106fe6142",
              "version_major": 2,
              "version_minor": 0
            },
            "text/plain": [
              "train-00060-of-00172.parquet:   0%|          | 0.00/722k [00:00<?, ?B/s]"
            ]
          },
          "metadata": {},
          "output_type": "display_data"
        },
        {
          "data": {
            "application/vnd.jupyter.widget-view+json": {
              "model_id": "adafc0a58f5a4c9ab185a0d269431669",
              "version_major": 2,
              "version_minor": 0
            },
            "text/plain": [
              "train-00009-of-00172.parquet:   0%|          | 0.00/923k [00:00<?, ?B/s]"
            ]
          },
          "metadata": {},
          "output_type": "display_data"
        },
        {
          "data": {
            "application/vnd.jupyter.widget-view+json": {
              "model_id": "7023138e074a4f05b13ead9625491ee2",
              "version_major": 2,
              "version_minor": 0
            },
            "text/plain": [
              "train-00074-of-00172.parquet:   0%|          | 0.00/581k [00:00<?, ?B/s]"
            ]
          },
          "metadata": {},
          "output_type": "display_data"
        },
        {
          "data": {
            "application/vnd.jupyter.widget-view+json": {
              "model_id": "5e946c16cd644919ac98bcd7c11e1242",
              "version_major": 2,
              "version_minor": 0
            },
            "text/plain": [
              "train-00077-of-00172.parquet:   0%|          | 0.00/1.24M [00:00<?, ?B/s]"
            ]
          },
          "metadata": {},
          "output_type": "display_data"
        },
        {
          "data": {
            "application/vnd.jupyter.widget-view+json": {
              "model_id": "c0bc52045b534b32a19c5dcc9bf0e1ee",
              "version_major": 2,
              "version_minor": 0
            },
            "text/plain": [
              "train-00076-of-00172.parquet:   0%|          | 0.00/766k [00:00<?, ?B/s]"
            ]
          },
          "metadata": {},
          "output_type": "display_data"
        },
        {
          "data": {
            "application/vnd.jupyter.widget-view+json": {
              "model_id": "78db534145534ce1bc2359d3c28d7793",
              "version_major": 2,
              "version_minor": 0
            },
            "text/plain": [
              "train-00059-of-00172.parquet:   0%|          | 0.00/930k [00:00<?, ?B/s]"
            ]
          },
          "metadata": {},
          "output_type": "display_data"
        },
        {
          "data": {
            "application/vnd.jupyter.widget-view+json": {
              "model_id": "eca776387bc04d94b9432faf5dcb7438",
              "version_major": 2,
              "version_minor": 0
            },
            "text/plain": [
              "train-00013-of-00172.parquet:   0%|          | 0.00/1.38M [00:00<?, ?B/s]"
            ]
          },
          "metadata": {},
          "output_type": "display_data"
        },
        {
          "data": {
            "application/vnd.jupyter.widget-view+json": {
              "model_id": "c135f3be2b6347e8a58f0560abb20555",
              "version_major": 2,
              "version_minor": 0
            },
            "text/plain": [
              "train-00079-of-00172.parquet:   0%|          | 0.00/739k [00:00<?, ?B/s]"
            ]
          },
          "metadata": {},
          "output_type": "display_data"
        },
        {
          "data": {
            "application/vnd.jupyter.widget-view+json": {
              "model_id": "5e49f183c648454391a35484e77b17f0",
              "version_major": 2,
              "version_minor": 0
            },
            "text/plain": [
              "train-00080-of-00172.parquet:   0%|          | 0.00/560k [00:00<?, ?B/s]"
            ]
          },
          "metadata": {},
          "output_type": "display_data"
        },
        {
          "data": {
            "application/vnd.jupyter.widget-view+json": {
              "model_id": "0d09e09ec64c492ca626a42c5a45638d",
              "version_major": 2,
              "version_minor": 0
            },
            "text/plain": [
              "train-00078-of-00172.parquet:   0%|          | 0.00/859k [00:00<?, ?B/s]"
            ]
          },
          "metadata": {},
          "output_type": "display_data"
        },
        {
          "data": {
            "application/vnd.jupyter.widget-view+json": {
              "model_id": "6e75fd3632404299a2754bb7daff4799",
              "version_major": 2,
              "version_minor": 0
            },
            "text/plain": [
              "train-00081-of-00172.parquet:   0%|          | 0.00/464k [00:00<?, ?B/s]"
            ]
          },
          "metadata": {},
          "output_type": "display_data"
        },
        {
          "data": {
            "application/vnd.jupyter.widget-view+json": {
              "model_id": "cf7eb6dcaaf54c5ba5ab4904ac56b895",
              "version_major": 2,
              "version_minor": 0
            },
            "text/plain": [
              "train-00082-of-00172.parquet:   0%|          | 0.00/371k [00:00<?, ?B/s]"
            ]
          },
          "metadata": {},
          "output_type": "display_data"
        },
        {
          "data": {
            "application/vnd.jupyter.widget-view+json": {
              "model_id": "b071a1d633374c039f47b2e89771280a",
              "version_major": 2,
              "version_minor": 0
            },
            "text/plain": [
              "train-00054-of-00172.parquet:   0%|          | 0.00/831k [00:00<?, ?B/s]"
            ]
          },
          "metadata": {},
          "output_type": "display_data"
        },
        {
          "data": {
            "application/vnd.jupyter.widget-view+json": {
              "model_id": "b6c3b7584abf4dbcb536dc747d432c58",
              "version_major": 2,
              "version_minor": 0
            },
            "text/plain": [
              "train-00084-of-00172.parquet:   0%|          | 0.00/374k [00:00<?, ?B/s]"
            ]
          },
          "metadata": {},
          "output_type": "display_data"
        },
        {
          "data": {
            "application/vnd.jupyter.widget-view+json": {
              "model_id": "fd53a87c1bdd4fc394a4bf4b582c20c7",
              "version_major": 2,
              "version_minor": 0
            },
            "text/plain": [
              "train-00034-of-00172.parquet:   0%|          | 0.00/1.16M [00:00<?, ?B/s]"
            ]
          },
          "metadata": {},
          "output_type": "display_data"
        },
        {
          "data": {
            "application/vnd.jupyter.widget-view+json": {
              "model_id": "7aaae110e3f94ec1a902be04943c558c",
              "version_major": 2,
              "version_minor": 0
            },
            "text/plain": [
              "train-00085-of-00172.parquet:   0%|          | 0.00/402k [00:00<?, ?B/s]"
            ]
          },
          "metadata": {},
          "output_type": "display_data"
        },
        {
          "data": {
            "application/vnd.jupyter.widget-view+json": {
              "model_id": "c934aa16edda469f9c838cccb303cea6",
              "version_major": 2,
              "version_minor": 0
            },
            "text/plain": [
              "train-00087-of-00172.parquet:   0%|          | 0.00/797k [00:00<?, ?B/s]"
            ]
          },
          "metadata": {},
          "output_type": "display_data"
        },
        {
          "data": {
            "application/vnd.jupyter.widget-view+json": {
              "model_id": "e16230d0209645e98a4874f7208e6bbb",
              "version_major": 2,
              "version_minor": 0
            },
            "text/plain": [
              "train-00088-of-00172.parquet:   0%|          | 0.00/752k [00:00<?, ?B/s]"
            ]
          },
          "metadata": {},
          "output_type": "display_data"
        },
        {
          "data": {
            "application/vnd.jupyter.widget-view+json": {
              "model_id": "efa1e1df55de4127ad0cb08d03f5f2a3",
              "version_major": 2,
              "version_minor": 0
            },
            "text/plain": [
              "train-00089-of-00172.parquet:   0%|          | 0.00/948k [00:00<?, ?B/s]"
            ]
          },
          "metadata": {},
          "output_type": "display_data"
        },
        {
          "data": {
            "application/vnd.jupyter.widget-view+json": {
              "model_id": "d25f2f4dbf954b7a98658c41cea698a8",
              "version_major": 2,
              "version_minor": 0
            },
            "text/plain": [
              "train-00025-of-00172.parquet:   0%|          | 0.00/1.16M [00:00<?, ?B/s]"
            ]
          },
          "metadata": {},
          "output_type": "display_data"
        },
        {
          "data": {
            "application/vnd.jupyter.widget-view+json": {
              "model_id": "45a96512ae164e50893ac29c6eec2486",
              "version_major": 2,
              "version_minor": 0
            },
            "text/plain": [
              "train-00048-of-00172.parquet:   0%|          | 0.00/779k [00:00<?, ?B/s]"
            ]
          },
          "metadata": {},
          "output_type": "display_data"
        },
        {
          "data": {
            "application/vnd.jupyter.widget-view+json": {
              "model_id": "3de662ca8f0b47109dd29ea71b039699",
              "version_major": 2,
              "version_minor": 0
            },
            "text/plain": [
              "train-00091-of-00172.parquet:   0%|          | 0.00/871k [00:00<?, ?B/s]"
            ]
          },
          "metadata": {},
          "output_type": "display_data"
        },
        {
          "data": {
            "application/vnd.jupyter.widget-view+json": {
              "model_id": "35ba263ad78f4da782e2507a36727fb9",
              "version_major": 2,
              "version_minor": 0
            },
            "text/plain": [
              "train-00092-of-00172.parquet:   0%|          | 0.00/881k [00:00<?, ?B/s]"
            ]
          },
          "metadata": {},
          "output_type": "display_data"
        },
        {
          "data": {
            "application/vnd.jupyter.widget-view+json": {
              "model_id": "83ee723f31e745d2b412ce0138c34b2a",
              "version_major": 2,
              "version_minor": 0
            },
            "text/plain": [
              "train-00093-of-00172.parquet:   0%|          | 0.00/690k [00:00<?, ?B/s]"
            ]
          },
          "metadata": {},
          "output_type": "display_data"
        },
        {
          "data": {
            "application/vnd.jupyter.widget-view+json": {
              "model_id": "d9d06ba5b40444478c7c393847c9596b",
              "version_major": 2,
              "version_minor": 0
            },
            "text/plain": [
              "train-00095-of-00172.parquet:   0%|          | 0.00/840k [00:00<?, ?B/s]"
            ]
          },
          "metadata": {},
          "output_type": "display_data"
        },
        {
          "data": {
            "application/vnd.jupyter.widget-view+json": {
              "model_id": "d5d3a5ae4d284078af8658435b0b0652",
              "version_major": 2,
              "version_minor": 0
            },
            "text/plain": [
              "train-00096-of-00172.parquet:   0%|          | 0.00/796k [00:00<?, ?B/s]"
            ]
          },
          "metadata": {},
          "output_type": "display_data"
        },
        {
          "data": {
            "application/vnd.jupyter.widget-view+json": {
              "model_id": "196337ea0a0545e7937eb6afcc747c2b",
              "version_major": 2,
              "version_minor": 0
            },
            "text/plain": [
              "train-00094-of-00172.parquet:   0%|          | 0.00/855k [00:00<?, ?B/s]"
            ]
          },
          "metadata": {},
          "output_type": "display_data"
        },
        {
          "data": {
            "application/vnd.jupyter.widget-view+json": {
              "model_id": "14f23f5be9394f3facb9960fc50f2763",
              "version_major": 2,
              "version_minor": 0
            },
            "text/plain": [
              "train-00090-of-00172.parquet:   0%|          | 0.00/895k [00:00<?, ?B/s]"
            ]
          },
          "metadata": {},
          "output_type": "display_data"
        },
        {
          "data": {
            "application/vnd.jupyter.widget-view+json": {
              "model_id": "a5ee87c150c742d0a070ccd09481caeb",
              "version_major": 2,
              "version_minor": 0
            },
            "text/plain": [
              "train-00098-of-00172.parquet:   0%|          | 0.00/890k [00:00<?, ?B/s]"
            ]
          },
          "metadata": {},
          "output_type": "display_data"
        },
        {
          "data": {
            "application/vnd.jupyter.widget-view+json": {
              "model_id": "629a001fce384463bb11e94c51df9a38",
              "version_major": 2,
              "version_minor": 0
            },
            "text/plain": [
              "train-00099-of-00172.parquet:   0%|          | 0.00/978k [00:00<?, ?B/s]"
            ]
          },
          "metadata": {},
          "output_type": "display_data"
        },
        {
          "data": {
            "application/vnd.jupyter.widget-view+json": {
              "model_id": "517ab2b7e0e045b68107d9aaebeb7d82",
              "version_major": 2,
              "version_minor": 0
            },
            "text/plain": [
              "train-00097-of-00172.parquet:   0%|          | 0.00/1.10M [00:00<?, ?B/s]"
            ]
          },
          "metadata": {},
          "output_type": "display_data"
        },
        {
          "data": {
            "application/vnd.jupyter.widget-view+json": {
              "model_id": "c9bb78f7d29a4e20b3627cdb8f6701cc",
              "version_major": 2,
              "version_minor": 0
            },
            "text/plain": [
              "train-00101-of-00172.parquet:   0%|          | 0.00/804k [00:00<?, ?B/s]"
            ]
          },
          "metadata": {},
          "output_type": "display_data"
        },
        {
          "data": {
            "application/vnd.jupyter.widget-view+json": {
              "model_id": "6c4bb15b0b2f4eb4af0c2ab6596c22dd",
              "version_major": 2,
              "version_minor": 0
            },
            "text/plain": [
              "train-00102-of-00172.parquet:   0%|          | 0.00/625k [00:00<?, ?B/s]"
            ]
          },
          "metadata": {},
          "output_type": "display_data"
        },
        {
          "data": {
            "application/vnd.jupyter.widget-view+json": {
              "model_id": "c9c41bf347a7494c83aec44239ccb49b",
              "version_major": 2,
              "version_minor": 0
            },
            "text/plain": [
              "train-00103-of-00172.parquet:   0%|          | 0.00/567k [00:00<?, ?B/s]"
            ]
          },
          "metadata": {},
          "output_type": "display_data"
        },
        {
          "data": {
            "application/vnd.jupyter.widget-view+json": {
              "model_id": "94f3a8dc09bb411abc9de795cd46bdf5",
              "version_major": 2,
              "version_minor": 0
            },
            "text/plain": [
              "train-00105-of-00172.parquet:   0%|          | 0.00/394k [00:00<?, ?B/s]"
            ]
          },
          "metadata": {},
          "output_type": "display_data"
        },
        {
          "data": {
            "application/vnd.jupyter.widget-view+json": {
              "model_id": "8888b50642894219a6308cf67a98c6af",
              "version_major": 2,
              "version_minor": 0
            },
            "text/plain": [
              "train-00106-of-00172.parquet:   0%|          | 0.00/409k [00:00<?, ?B/s]"
            ]
          },
          "metadata": {},
          "output_type": "display_data"
        },
        {
          "data": {
            "application/vnd.jupyter.widget-view+json": {
              "model_id": "cbd12e459c3f41c9b8113a13712152e6",
              "version_major": 2,
              "version_minor": 0
            },
            "text/plain": [
              "train-00107-of-00172.parquet:   0%|          | 0.00/348k [00:00<?, ?B/s]"
            ]
          },
          "metadata": {},
          "output_type": "display_data"
        },
        {
          "data": {
            "application/vnd.jupyter.widget-view+json": {
              "model_id": "fedfcbb4e8694b07b7c674e84631fcf0",
              "version_major": 2,
              "version_minor": 0
            },
            "text/plain": [
              "train-00108-of-00172.parquet:   0%|          | 0.00/374k [00:00<?, ?B/s]"
            ]
          },
          "metadata": {},
          "output_type": "display_data"
        },
        {
          "data": {
            "application/vnd.jupyter.widget-view+json": {
              "model_id": "65a7ea88b44f4d04bcbfb0fbd1ccd5a5",
              "version_major": 2,
              "version_minor": 0
            },
            "text/plain": [
              "train-00073-of-00172.parquet:   0%|          | 0.00/657k [00:00<?, ?B/s]"
            ]
          },
          "metadata": {},
          "output_type": "display_data"
        },
        {
          "data": {
            "application/vnd.jupyter.widget-view+json": {
              "model_id": "dca9d3728d354df1adc7a0fd9a04872d",
              "version_major": 2,
              "version_minor": 0
            },
            "text/plain": [
              "train-00075-of-00172.parquet:   0%|          | 0.00/580k [00:00<?, ?B/s]"
            ]
          },
          "metadata": {},
          "output_type": "display_data"
        },
        {
          "data": {
            "application/vnd.jupyter.widget-view+json": {
              "model_id": "60b98705dc354c909e5585f924e282bd",
              "version_major": 2,
              "version_minor": 0
            },
            "text/plain": [
              "train-00110-of-00172.parquet:   0%|          | 0.00/547k [00:00<?, ?B/s]"
            ]
          },
          "metadata": {},
          "output_type": "display_data"
        },
        {
          "data": {
            "application/vnd.jupyter.widget-view+json": {
              "model_id": "c3f1abe51b6e4f94bec88861f16a6fd2",
              "version_major": 2,
              "version_minor": 0
            },
            "text/plain": [
              "train-00111-of-00172.parquet:   0%|          | 0.00/743k [00:00<?, ?B/s]"
            ]
          },
          "metadata": {},
          "output_type": "display_data"
        },
        {
          "data": {
            "application/vnd.jupyter.widget-view+json": {
              "model_id": "2761ca1a10cc4d0fbda506f12907357c",
              "version_major": 2,
              "version_minor": 0
            },
            "text/plain": [
              "train-00112-of-00172.parquet:   0%|          | 0.00/861k [00:00<?, ?B/s]"
            ]
          },
          "metadata": {},
          "output_type": "display_data"
        },
        {
          "data": {
            "application/vnd.jupyter.widget-view+json": {
              "model_id": "d67f14f32729463197da1a799196ad4e",
              "version_major": 2,
              "version_minor": 0
            },
            "text/plain": [
              "train-00114-of-00172.parquet:   0%|          | 0.00/871k [00:00<?, ?B/s]"
            ]
          },
          "metadata": {},
          "output_type": "display_data"
        },
        {
          "data": {
            "application/vnd.jupyter.widget-view+json": {
              "model_id": "550cacf3fe26401c93634b4d846caa3e",
              "version_major": 2,
              "version_minor": 0
            },
            "text/plain": [
              "train-00115-of-00172.parquet:   0%|          | 0.00/748k [00:00<?, ?B/s]"
            ]
          },
          "metadata": {},
          "output_type": "display_data"
        },
        {
          "data": {
            "application/vnd.jupyter.widget-view+json": {
              "model_id": "8f9df96042c2418d9fec6fc12ebf20ec",
              "version_major": 2,
              "version_minor": 0
            },
            "text/plain": [
              "train-00109-of-00172.parquet:   0%|          | 0.00/709k [00:00<?, ?B/s]"
            ]
          },
          "metadata": {},
          "output_type": "display_data"
        },
        {
          "data": {
            "application/vnd.jupyter.widget-view+json": {
              "model_id": "f10d3c2a620f4ab2bb9c97ec4172d4ff",
              "version_major": 2,
              "version_minor": 0
            },
            "text/plain": [
              "train-00113-of-00172.parquet:   0%|          | 0.00/842k [00:00<?, ?B/s]"
            ]
          },
          "metadata": {},
          "output_type": "display_data"
        },
        {
          "data": {
            "application/vnd.jupyter.widget-view+json": {
              "model_id": "dd166ba5d5614063ad5b66b692ec4d0c",
              "version_major": 2,
              "version_minor": 0
            },
            "text/plain": [
              "train-00116-of-00172.parquet:   0%|          | 0.00/822k [00:00<?, ?B/s]"
            ]
          },
          "metadata": {},
          "output_type": "display_data"
        },
        {
          "data": {
            "application/vnd.jupyter.widget-view+json": {
              "model_id": "889d4fec751b42b796c784515e2075d2",
              "version_major": 2,
              "version_minor": 0
            },
            "text/plain": [
              "train-00117-of-00172.parquet:   0%|          | 0.00/957k [00:00<?, ?B/s]"
            ]
          },
          "metadata": {},
          "output_type": "display_data"
        },
        {
          "data": {
            "application/vnd.jupyter.widget-view+json": {
              "model_id": "f4c77dac61874ec9a70b0325322b9c0e",
              "version_major": 2,
              "version_minor": 0
            },
            "text/plain": [
              "train-00119-of-00172.parquet:   0%|          | 0.00/695k [00:00<?, ?B/s]"
            ]
          },
          "metadata": {},
          "output_type": "display_data"
        },
        {
          "data": {
            "application/vnd.jupyter.widget-view+json": {
              "model_id": "0157b1dd5fc748e79a74e1f3e09d57c4",
              "version_major": 2,
              "version_minor": 0
            },
            "text/plain": [
              "train-00086-of-00172.parquet:   0%|          | 0.00/590k [00:00<?, ?B/s]"
            ]
          },
          "metadata": {},
          "output_type": "display_data"
        },
        {
          "data": {
            "application/vnd.jupyter.widget-view+json": {
              "model_id": "950f1a649b5740b093f43533a9ea3e3b",
              "version_major": 2,
              "version_minor": 0
            },
            "text/plain": [
              "train-00120-of-00172.parquet:   0%|          | 0.00/598k [00:00<?, ?B/s]"
            ]
          },
          "metadata": {},
          "output_type": "display_data"
        },
        {
          "data": {
            "application/vnd.jupyter.widget-view+json": {
              "model_id": "7937d9bae30843e7aa46c1426e5c1a41",
              "version_major": 2,
              "version_minor": 0
            },
            "text/plain": [
              "train-00118-of-00172.parquet:   0%|          | 0.00/847k [00:00<?, ?B/s]"
            ]
          },
          "metadata": {},
          "output_type": "display_data"
        },
        {
          "data": {
            "application/vnd.jupyter.widget-view+json": {
              "model_id": "2556a307422e48e28672a81f16519f48",
              "version_major": 2,
              "version_minor": 0
            },
            "text/plain": [
              "train-00121-of-00172.parquet:   0%|          | 0.00/527k [00:00<?, ?B/s]"
            ]
          },
          "metadata": {},
          "output_type": "display_data"
        },
        {
          "data": {
            "application/vnd.jupyter.widget-view+json": {
              "model_id": "f82e2289d55f4d63a807aded32f574e7",
              "version_major": 2,
              "version_minor": 0
            },
            "text/plain": [
              "train-00125-of-00172.parquet:   0%|          | 0.00/866k [00:00<?, ?B/s]"
            ]
          },
          "metadata": {},
          "output_type": "display_data"
        },
        {
          "data": {
            "application/vnd.jupyter.widget-view+json": {
              "model_id": "a1595644d7d04361925399cd100695d9",
              "version_major": 2,
              "version_minor": 0
            },
            "text/plain": [
              "train-00104-of-00172.parquet:   0%|          | 0.00/445k [00:00<?, ?B/s]"
            ]
          },
          "metadata": {},
          "output_type": "display_data"
        },
        {
          "data": {
            "application/vnd.jupyter.widget-view+json": {
              "model_id": "970f562c1b724f32aa4e53aba8f9ed85",
              "version_major": 2,
              "version_minor": 0
            },
            "text/plain": [
              "train-00071-of-00172.parquet:   0%|          | 0.00/970k [00:00<?, ?B/s]"
            ]
          },
          "metadata": {},
          "output_type": "display_data"
        },
        {
          "data": {
            "application/vnd.jupyter.widget-view+json": {
              "model_id": "6f2a85aebf4c47fda91bf8ad3be48a88",
              "version_major": 2,
              "version_minor": 0
            },
            "text/plain": [
              "train-00100-of-00172.parquet:   0%|          | 0.00/929k [00:00<?, ?B/s]"
            ]
          },
          "metadata": {},
          "output_type": "display_data"
        },
        {
          "data": {
            "application/vnd.jupyter.widget-view+json": {
              "model_id": "f22e7304886f4e9e81451ccea6bbfbe1",
              "version_major": 2,
              "version_minor": 0
            },
            "text/plain": [
              "train-00124-of-00172.parquet:   0%|          | 0.00/973k [00:00<?, ?B/s]"
            ]
          },
          "metadata": {},
          "output_type": "display_data"
        },
        {
          "data": {
            "application/vnd.jupyter.widget-view+json": {
              "model_id": "7d01e90875dc4614b8a6091332b5a9d9",
              "version_major": 2,
              "version_minor": 0
            },
            "text/plain": [
              "train-00129-of-00172.parquet:   0%|          | 0.00/472k [00:00<?, ?B/s]"
            ]
          },
          "metadata": {},
          "output_type": "display_data"
        },
        {
          "data": {
            "application/vnd.jupyter.widget-view+json": {
              "model_id": "efa3539e6c544698aae48cf9048c1ba1",
              "version_major": 2,
              "version_minor": 0
            },
            "text/plain": [
              "train-00130-of-00172.parquet:   0%|          | 0.00/463k [00:00<?, ?B/s]"
            ]
          },
          "metadata": {},
          "output_type": "display_data"
        },
        {
          "data": {
            "application/vnd.jupyter.widget-view+json": {
              "model_id": "63ab46cc06d2483abdebfa67002a6dd5",
              "version_major": 2,
              "version_minor": 0
            },
            "text/plain": [
              "train-00131-of-00172.parquet:   0%|          | 0.00/467k [00:00<?, ?B/s]"
            ]
          },
          "metadata": {},
          "output_type": "display_data"
        },
        {
          "data": {
            "application/vnd.jupyter.widget-view+json": {
              "model_id": "5c5be87268c842a69bcbf5e1a97452dd",
              "version_major": 2,
              "version_minor": 0
            },
            "text/plain": [
              "train-00128-of-00172.parquet:   0%|          | 0.00/494k [00:00<?, ?B/s]"
            ]
          },
          "metadata": {},
          "output_type": "display_data"
        },
        {
          "data": {
            "application/vnd.jupyter.widget-view+json": {
              "model_id": "d97f3f92ddc843649fa643d5a61fd908",
              "version_major": 2,
              "version_minor": 0
            },
            "text/plain": [
              "train-00132-of-00172.parquet:   0%|          | 0.00/477k [00:00<?, ?B/s]"
            ]
          },
          "metadata": {},
          "output_type": "display_data"
        },
        {
          "data": {
            "application/vnd.jupyter.widget-view+json": {
              "model_id": "58f6f749ca4b46b9960e7ee3ffcd3ec1",
              "version_major": 2,
              "version_minor": 0
            },
            "text/plain": [
              "train-00133-of-00172.parquet:   0%|          | 0.00/444k [00:00<?, ?B/s]"
            ]
          },
          "metadata": {},
          "output_type": "display_data"
        },
        {
          "data": {
            "application/vnd.jupyter.widget-view+json": {
              "model_id": "ffc739c29d844672b1c666dba1e56644",
              "version_major": 2,
              "version_minor": 0
            },
            "text/plain": [
              "train-00134-of-00172.parquet:   0%|          | 0.00/457k [00:00<?, ?B/s]"
            ]
          },
          "metadata": {},
          "output_type": "display_data"
        },
        {
          "data": {
            "application/vnd.jupyter.widget-view+json": {
              "model_id": "7fdb07e2b2f24feaa2a00745fbfdf419",
              "version_major": 2,
              "version_minor": 0
            },
            "text/plain": [
              "train-00136-of-00172.parquet:   0%|          | 0.00/271k [00:00<?, ?B/s]"
            ]
          },
          "metadata": {},
          "output_type": "display_data"
        },
        {
          "data": {
            "application/vnd.jupyter.widget-view+json": {
              "model_id": "450b7b824ec643ad8d93b9d2eeebfba9",
              "version_major": 2,
              "version_minor": 0
            },
            "text/plain": [
              "train-00138-of-00172.parquet:   0%|          | 0.00/344k [00:00<?, ?B/s]"
            ]
          },
          "metadata": {},
          "output_type": "display_data"
        },
        {
          "data": {
            "application/vnd.jupyter.widget-view+json": {
              "model_id": "16c8d6f92bf5467f98353ef926e2d842",
              "version_major": 2,
              "version_minor": 0
            },
            "text/plain": [
              "train-00139-of-00172.parquet:   0%|          | 0.00/471k [00:00<?, ?B/s]"
            ]
          },
          "metadata": {},
          "output_type": "display_data"
        },
        {
          "data": {
            "application/vnd.jupyter.widget-view+json": {
              "model_id": "e6404179368f4ae1857ddf0a4f68d07b",
              "version_major": 2,
              "version_minor": 0
            },
            "text/plain": [
              "train-00140-of-00172.parquet:   0%|          | 0.00/1.19M [00:00<?, ?B/s]"
            ]
          },
          "metadata": {},
          "output_type": "display_data"
        },
        {
          "data": {
            "application/vnd.jupyter.widget-view+json": {
              "model_id": "a4bfc4e36f1b4f95ae2ece3491d2ec9a",
              "version_major": 2,
              "version_minor": 0
            },
            "text/plain": [
              "train-00135-of-00172.parquet:   0%|          | 0.00/362k [00:00<?, ?B/s]"
            ]
          },
          "metadata": {},
          "output_type": "display_data"
        },
        {
          "data": {
            "application/vnd.jupyter.widget-view+json": {
              "model_id": "cfc97b02639d45ad809575ca10ed9e32",
              "version_major": 2,
              "version_minor": 0
            },
            "text/plain": [
              "train-00127-of-00172.parquet:   0%|          | 0.00/770k [00:00<?, ?B/s]"
            ]
          },
          "metadata": {},
          "output_type": "display_data"
        },
        {
          "data": {
            "application/vnd.jupyter.widget-view+json": {
              "model_id": "b5d7698b417b49008275838ff9dee909",
              "version_major": 2,
              "version_minor": 0
            },
            "text/plain": [
              "train-00141-of-00172.parquet:   0%|          | 0.00/1.09M [00:00<?, ?B/s]"
            ]
          },
          "metadata": {},
          "output_type": "display_data"
        },
        {
          "data": {
            "application/vnd.jupyter.widget-view+json": {
              "model_id": "5df50ca4e84142659bf1cdfdd36842c9",
              "version_major": 2,
              "version_minor": 0
            },
            "text/plain": [
              "train-00142-of-00172.parquet:   0%|          | 0.00/966k [00:00<?, ?B/s]"
            ]
          },
          "metadata": {},
          "output_type": "display_data"
        },
        {
          "data": {
            "application/vnd.jupyter.widget-view+json": {
              "model_id": "1aee184a606544c2bbe036a02f9aba17",
              "version_major": 2,
              "version_minor": 0
            },
            "text/plain": [
              "train-00145-of-00172.parquet:   0%|          | 0.00/450k [00:00<?, ?B/s]"
            ]
          },
          "metadata": {},
          "output_type": "display_data"
        },
        {
          "data": {
            "application/vnd.jupyter.widget-view+json": {
              "model_id": "b20f13983dec4b62abf41f05b2c7130f",
              "version_major": 2,
              "version_minor": 0
            },
            "text/plain": [
              "train-00144-of-00172.parquet:   0%|          | 0.00/854k [00:00<?, ?B/s]"
            ]
          },
          "metadata": {},
          "output_type": "display_data"
        },
        {
          "data": {
            "application/vnd.jupyter.widget-view+json": {
              "model_id": "5a07bc7df3564e489692c89230d4fbaa",
              "version_major": 2,
              "version_minor": 0
            },
            "text/plain": [
              "train-00083-of-00172.parquet:   0%|          | 0.00/369k [00:00<?, ?B/s]"
            ]
          },
          "metadata": {},
          "output_type": "display_data"
        },
        {
          "data": {
            "application/vnd.jupyter.widget-view+json": {
              "model_id": "0bddb7896d9745a68c04a362ddb7eef3",
              "version_major": 2,
              "version_minor": 0
            },
            "text/plain": [
              "train-00068-of-00172.parquet:   0%|          | 0.00/717k [00:00<?, ?B/s]"
            ]
          },
          "metadata": {},
          "output_type": "display_data"
        },
        {
          "data": {
            "application/vnd.jupyter.widget-view+json": {
              "model_id": "41add6f6b6094e5881db01c4274414eb",
              "version_major": 2,
              "version_minor": 0
            },
            "text/plain": [
              "train-00148-of-00172.parquet:   0%|          | 0.00/362k [00:00<?, ?B/s]"
            ]
          },
          "metadata": {},
          "output_type": "display_data"
        },
        {
          "data": {
            "application/vnd.jupyter.widget-view+json": {
              "model_id": "c13ba917bb224e3a9365fca55f9b8f32",
              "version_major": 2,
              "version_minor": 0
            },
            "text/plain": [
              "train-00146-of-00172.parquet:   0%|          | 0.00/504k [00:00<?, ?B/s]"
            ]
          },
          "metadata": {},
          "output_type": "display_data"
        },
        {
          "data": {
            "application/vnd.jupyter.widget-view+json": {
              "model_id": "f3f7d5708ca94d30b517b63135438632",
              "version_major": 2,
              "version_minor": 0
            },
            "text/plain": [
              "train-00149-of-00172.parquet:   0%|          | 0.00/502k [00:00<?, ?B/s]"
            ]
          },
          "metadata": {},
          "output_type": "display_data"
        },
        {
          "data": {
            "application/vnd.jupyter.widget-view+json": {
              "model_id": "e792f213b2fa43a485ad6c766126966e",
              "version_major": 2,
              "version_minor": 0
            },
            "text/plain": [
              "train-00122-of-00172.parquet:   0%|          | 0.00/434k [00:00<?, ?B/s]"
            ]
          },
          "metadata": {},
          "output_type": "display_data"
        },
        {
          "data": {
            "application/vnd.jupyter.widget-view+json": {
              "model_id": "10346504ad08487589a329bd5afdb35a",
              "version_major": 2,
              "version_minor": 0
            },
            "text/plain": [
              "train-00150-of-00172.parquet:   0%|          | 0.00/598k [00:00<?, ?B/s]"
            ]
          },
          "metadata": {},
          "output_type": "display_data"
        },
        {
          "data": {
            "application/vnd.jupyter.widget-view+json": {
              "model_id": "a0a75a7605de4cf0a0155191c71e8482",
              "version_major": 2,
              "version_minor": 0
            },
            "text/plain": [
              "train-00153-of-00172.parquet:   0%|          | 0.00/358k [00:00<?, ?B/s]"
            ]
          },
          "metadata": {},
          "output_type": "display_data"
        },
        {
          "data": {
            "application/vnd.jupyter.widget-view+json": {
              "model_id": "97c4d1f77dc54090a0040c8e8bb7d85f",
              "version_major": 2,
              "version_minor": 0
            },
            "text/plain": [
              "train-00152-of-00172.parquet:   0%|          | 0.00/390k [00:00<?, ?B/s]"
            ]
          },
          "metadata": {},
          "output_type": "display_data"
        },
        {
          "data": {
            "application/vnd.jupyter.widget-view+json": {
              "model_id": "1680b3cdf6f74643bcca108408fd8b30",
              "version_major": 2,
              "version_minor": 0
            },
            "text/plain": [
              "train-00154-of-00172.parquet:   0%|          | 0.00/534k [00:00<?, ?B/s]"
            ]
          },
          "metadata": {},
          "output_type": "display_data"
        },
        {
          "data": {
            "application/vnd.jupyter.widget-view+json": {
              "model_id": "ef0dba4ad7cf4f82baa6c500c55c31b6",
              "version_major": 2,
              "version_minor": 0
            },
            "text/plain": [
              "train-00156-of-00172.parquet:   0%|          | 0.00/333k [00:00<?, ?B/s]"
            ]
          },
          "metadata": {},
          "output_type": "display_data"
        },
        {
          "data": {
            "application/vnd.jupyter.widget-view+json": {
              "model_id": "99b5026cf9cf4c39b1b76b39775ae845",
              "version_major": 2,
              "version_minor": 0
            },
            "text/plain": [
              "train-00155-of-00172.parquet:   0%|          | 0.00/311k [00:00<?, ?B/s]"
            ]
          },
          "metadata": {},
          "output_type": "display_data"
        },
        {
          "data": {
            "application/vnd.jupyter.widget-view+json": {
              "model_id": "98c690d033304dbaba3cd0cfdce5c45a",
              "version_major": 2,
              "version_minor": 0
            },
            "text/plain": [
              "train-00151-of-00172.parquet:   0%|          | 0.00/519k [00:00<?, ?B/s]"
            ]
          },
          "metadata": {},
          "output_type": "display_data"
        },
        {
          "data": {
            "application/vnd.jupyter.widget-view+json": {
              "model_id": "316020d5bf6f477e96675d793ee8feb9",
              "version_major": 2,
              "version_minor": 0
            },
            "text/plain": [
              "train-00157-of-00172.parquet:   0%|          | 0.00/398k [00:00<?, ?B/s]"
            ]
          },
          "metadata": {},
          "output_type": "display_data"
        },
        {
          "data": {
            "application/vnd.jupyter.widget-view+json": {
              "model_id": "a8d4183f6f034f679a5fb88082d1a15a",
              "version_major": 2,
              "version_minor": 0
            },
            "text/plain": [
              "train-00160-of-00172.parquet:   0%|          | 0.00/347k [00:00<?, ?B/s]"
            ]
          },
          "metadata": {},
          "output_type": "display_data"
        },
        {
          "data": {
            "application/vnd.jupyter.widget-view+json": {
              "model_id": "d48e04afaa27496898498c36951d03e2",
              "version_major": 2,
              "version_minor": 0
            },
            "text/plain": [
              "train-00159-of-00172.parquet:   0%|          | 0.00/298k [00:00<?, ?B/s]"
            ]
          },
          "metadata": {},
          "output_type": "display_data"
        },
        {
          "data": {
            "application/vnd.jupyter.widget-view+json": {
              "model_id": "6708be4faa1f40f2adf0659cdcbef34e",
              "version_major": 2,
              "version_minor": 0
            },
            "text/plain": [
              "train-00158-of-00172.parquet:   0%|          | 0.00/353k [00:00<?, ?B/s]"
            ]
          },
          "metadata": {},
          "output_type": "display_data"
        },
        {
          "data": {
            "application/vnd.jupyter.widget-view+json": {
              "model_id": "9a099c2f93c043ab960ca5680e653552",
              "version_major": 2,
              "version_minor": 0
            },
            "text/plain": [
              "train-00161-of-00172.parquet:   0%|          | 0.00/360k [00:00<?, ?B/s]"
            ]
          },
          "metadata": {},
          "output_type": "display_data"
        },
        {
          "data": {
            "application/vnd.jupyter.widget-view+json": {
              "model_id": "1318bcf80ebf43dca51aadf2d9533432",
              "version_major": 2,
              "version_minor": 0
            },
            "text/plain": [
              "train-00163-of-00172.parquet:   0%|          | 0.00/377k [00:00<?, ?B/s]"
            ]
          },
          "metadata": {},
          "output_type": "display_data"
        },
        {
          "data": {
            "application/vnd.jupyter.widget-view+json": {
              "model_id": "395630ad8cb54ed199f76ae4bd009a4f",
              "version_major": 2,
              "version_minor": 0
            },
            "text/plain": [
              "train-00164-of-00172.parquet:   0%|          | 0.00/340k [00:00<?, ?B/s]"
            ]
          },
          "metadata": {},
          "output_type": "display_data"
        },
        {
          "data": {
            "application/vnd.jupyter.widget-view+json": {
              "model_id": "d12508b10f2042efbf0808cebd6e0e7b",
              "version_major": 2,
              "version_minor": 0
            },
            "text/plain": [
              "train-00166-of-00172.parquet:   0%|          | 0.00/347k [00:00<?, ?B/s]"
            ]
          },
          "metadata": {},
          "output_type": "display_data"
        },
        {
          "data": {
            "application/vnd.jupyter.widget-view+json": {
              "model_id": "ff5b9293910940d98dd6e99c900d8133",
              "version_major": 2,
              "version_minor": 0
            },
            "text/plain": [
              "train-00162-of-00172.parquet:   0%|          | 0.00/361k [00:00<?, ?B/s]"
            ]
          },
          "metadata": {},
          "output_type": "display_data"
        },
        {
          "data": {
            "application/vnd.jupyter.widget-view+json": {
              "model_id": "38e2f583b14448b3a3aff8e5af182e51",
              "version_major": 2,
              "version_minor": 0
            },
            "text/plain": [
              "train-00167-of-00172.parquet:   0%|          | 0.00/362k [00:00<?, ?B/s]"
            ]
          },
          "metadata": {},
          "output_type": "display_data"
        },
        {
          "data": {
            "application/vnd.jupyter.widget-view+json": {
              "model_id": "145f28a2c5374dcaac6981056dd841bd",
              "version_major": 2,
              "version_minor": 0
            },
            "text/plain": [
              "train-00165-of-00172.parquet:   0%|          | 0.00/365k [00:00<?, ?B/s]"
            ]
          },
          "metadata": {},
          "output_type": "display_data"
        },
        {
          "data": {
            "application/vnd.jupyter.widget-view+json": {
              "model_id": "8592918508eb4ca78928236b07a2f3c7",
              "version_major": 2,
              "version_minor": 0
            },
            "text/plain": [
              "train-00169-of-00172.parquet:   0%|          | 0.00/423k [00:00<?, ?B/s]"
            ]
          },
          "metadata": {},
          "output_type": "display_data"
        },
        {
          "data": {
            "application/vnd.jupyter.widget-view+json": {
              "model_id": "44832ec1800d4f129cccac7599c1d3eb",
              "version_major": 2,
              "version_minor": 0
            },
            "text/plain": [
              "train-00170-of-00172.parquet:   0%|          | 0.00/369k [00:00<?, ?B/s]"
            ]
          },
          "metadata": {},
          "output_type": "display_data"
        },
        {
          "data": {
            "application/vnd.jupyter.widget-view+json": {
              "model_id": "6fee2dce16d04a89aa0a94f42f9874ac",
              "version_major": 2,
              "version_minor": 0
            },
            "text/plain": [
              "train-00168-of-00172.parquet:   0%|          | 0.00/351k [00:00<?, ?B/s]"
            ]
          },
          "metadata": {},
          "output_type": "display_data"
        },
        {
          "data": {
            "application/vnd.jupyter.widget-view+json": {
              "model_id": "da1c0b5af40d4febb0dc13ca5874f8bd",
              "version_major": 2,
              "version_minor": 0
            },
            "text/plain": [
              "train-00171-of-00172.parquet:   0%|          | 0.00/342k [00:00<?, ?B/s]"
            ]
          },
          "metadata": {},
          "output_type": "display_data"
        },
        {
          "data": {
            "application/vnd.jupyter.widget-view+json": {
              "model_id": "7206190f4f274cc78a5b5c7da47e7531",
              "version_major": 2,
              "version_minor": 0
            },
            "text/plain": [
              "train-00123-of-00172.parquet:   0%|          | 0.00/766k [00:00<?, ?B/s]"
            ]
          },
          "metadata": {},
          "output_type": "display_data"
        },
        {
          "data": {
            "application/vnd.jupyter.widget-view+json": {
              "model_id": "a83fe348753943e387fc8f9f1a05f437",
              "version_major": 2,
              "version_minor": 0
            },
            "text/plain": [
              "train-00143-of-00172.parquet:   0%|          | 0.00/988k [00:00<?, ?B/s]"
            ]
          },
          "metadata": {},
          "output_type": "display_data"
        },
        {
          "data": {
            "application/vnd.jupyter.widget-view+json": {
              "model_id": "7fca26f73d074a8b81b157c77d999987",
              "version_major": 2,
              "version_minor": 0
            },
            "text/plain": [
              "train-00126-of-00172.parquet:   0%|          | 0.00/1.08M [00:00<?, ?B/s]"
            ]
          },
          "metadata": {},
          "output_type": "display_data"
        },
        {
          "data": {
            "application/vnd.jupyter.widget-view+json": {
              "model_id": "a01f85a7b77d4425beed4866e777d52c",
              "version_major": 2,
              "version_minor": 0
            },
            "text/plain": [
              "train-00137-of-00172.parquet:   0%|          | 0.00/331k [00:00<?, ?B/s]"
            ]
          },
          "metadata": {},
          "output_type": "display_data"
        },
        {
          "data": {
            "application/vnd.jupyter.widget-view+json": {
              "model_id": "d0d49709d3844e9bada3cb1a16c069c7",
              "version_major": 2,
              "version_minor": 0
            },
            "text/plain": [
              "train-00147-of-00172.parquet:   0%|          | 0.00/365k [00:00<?, ?B/s]"
            ]
          },
          "metadata": {},
          "output_type": "display_data"
        },
        {
          "data": {
            "application/vnd.jupyter.widget-view+json": {
              "model_id": "ed13afb4cc9149f691652df3eb13488d",
              "version_major": 2,
              "version_minor": 0
            },
            "text/plain": [
              "Generating train split:   0%|          | 0/6236 [00:00<?, ? examples/s]"
            ]
          },
          "metadata": {},
          "output_type": "display_data"
        }
      ],
      "source": [
        "from datasets import load_dataset\n",
        "\n",
        "# Dataset 1: Jurídico Mexicano\n",
        "dataset_juridico = load_dataset(\"Danielbrdz/Barcenas-Juridico-Mexicano-Dataset\", split=\"train[:500]\")  # Subconjunto para prueba\n",
        "\n",
        "# Dataset 2: Narrativas (LAMBADA en español)\n",
        "dataset_lambada = load_dataset(\"EleutherAI/lambada_openai\", \"es\", split=\"test[:500]\")\n",
        "\n",
        "# Dataset 3: Quran en español\n",
        "dataset_quran = load_dataset(\"nazimali/quran\", split=\"train[:500]\")"
      ]
    },
    {
      "cell_type": "code",
      "execution_count": 14,
      "metadata": {},
      "outputs": [
        {
          "data": {
            "text/plain": [
              "<spacy.lang.es.Spanish at 0x12e692d2f50>"
            ]
          },
          "execution_count": 14,
          "metadata": {},
          "output_type": "execute_result"
        }
      ],
      "source": [
        "spacy.load('es_core_news_md')"
      ]
    },
    {
      "cell_type": "code",
      "execution_count": 17,
      "metadata": {},
      "outputs": [
        {
          "name": "stdout",
          "output_type": "stream",
          "text": [
            "{'question': '¿Cuál es el propósito principal de la Ley General de Archivos?', 'answer': 'Establecer los principios y bases generales para la organización y conservación, administración y preservación homogénea de los archivos en posesión de cualquier autoridad, entidad, órgano y organismo de los poderes Legislativo, Ejecutivo y Judicial, órganos autónomos, partidos políticos, fideicomisos y fondos públicos, a sí como de cualquier persona física, moral o sindicato que reciba y ejerza recursos públicos o realice actos de autoridad de la federación, las entidades federativas y los municipios.', 'source': 'LEY GENERAL DE ARCHIVOS.pdf'}\n",
            "{'text': 'Escuchó a Rhinna hablar: \"La reina te quiere en su carruaje\".\\nTom habló \"No, no voy a ir en algún asilo\".\\nSe vio que se había visto de pie junto a él hablaba \"Solo para una charla privada contigo, eso es todo\".\\nTom gimió y entró dentro del carruaje para sentarse junto a la reina.'}\n",
            "{'surah': 1, 'ayah': 1, 'surah-name': 'الفاتحة', 'surah-total-ayas': 7, 'surah-name-transliteration': 'Al-Faatiha', 'surah-name-en': 'The Opening', 'surah-type': 'Meccan', 'surah-order-revealed': 5, 'surah-rukus': 1, 'arabic-text-simple': 'بِسْمِ اللَّهِ الرَّحْمَـٰنِ الرَّحِيمِ', 'arabic-text-simple-min': 'بِسمِ اللَّهِ الرَّحمـٰنِ الرَّحيمِ', 'arabic-text-simple-plain': 'بِسْمِ اللَّهِ الرَّحْمَـٰنِ الرَّحِيمِ', 'arabic-text-simple-clean': 'بسم الله الرحمن الرحيم', 'arabic-text-uthmani': 'بِسْمِ ٱللَّهِ ٱلرَّحْمَـٰنِ ٱلرَّحِيمِ', 'translation-am-sadiq': 'በአላህ ስም እጅግ በጣም ሩኅሩህ በጣም አዛኝ በኾነው፡፡', 'translation-ar-jalalayn': '«بسم الله الرحمن الرحيم»', 'translation-ar-muyassar': 'سورة الفاتحة سميت هذه السورة بالفاتحة؛ لأنه يفتتح بها القرآن العظيم، وتسمى المثاني؛ لأنها تقرأ في كل ركعة، ولها أسماء أخر. أبتدئ قراءة القرآن باسم الله مستعينا به، (اللهِ) علم على الرب -تبارك وتعالى- المعبود بحق دون سواه، وهو أخص أسماء الله تعالى، ولا يسمى به غيره سبحانه. (الرَّحْمَنِ) ذي الرحمة العامة الذي وسعت رحمته جميع الخلق، (الرَّحِيمِ) بالمؤمنين، وهما اسمان من أسمائه تعالى، يتضمنان إثبات صفة الرحمة لله تعالى كما يليق بجلاله.', 'translation-az-mammadaliyev': 'Mərhəmətli, rəhmli Allahın adı ilə!', 'translation-az-musayev': 'Mərhəmətli və Rəhmli Allahın adı ilə!', 'translation-ber-mensur': 'S yisem n Öebbi, Aênin Ipêunun,', 'translation-bg-theophanov': 'В името на Аллах, Всемилостивия, Милосърдния!', 'translation-bn-bengali': 'শুরু করছি আল্লাহর নামে যিনি পরম করুণাময়, অতি দয়ালু।', 'translation-bn-hoque': 'আল্লাহর নাম নিয়ে (আরম্ভ করছি), (যিনি) রহমান (--পরম করুণাময়, যিনি অসীম করুণা ও দয়া বশতঃ বিশ্বজগতের সমস্ত সৃষ্টির সহাবস্থানের প্রয়োজনীয় সব ব্যবস্থা অগ্রিম করে রেখেছেন), (যিনি) রহীম (--অফুরন্ত ফলদাতা, যাঁর অপার করুণা ও দয়ার ফলে প্রত্যেকের ক্ষুদ্রতম শুভ-প্রচেষ্টাও বিপুলভাবে সাফল্যমণ্ডিত ও পুরস্কৃত হয়ে থাকে)।', 'translation-bs-korkut': 'U ime Allaha, Milostivog, Samilosnog!', 'translation-bs-mlivo': 'U ime Allaha, Milostivog, Milosrdnog!', 'translation-cs-hrbek': 'Ve jménu Boha milosrdného, slitovného.', 'translation-cs-nykl': 'Ve jménu Boha, Milosrdného, Slitovného.', 'translation-de-aburida': 'Im Namen Allahs, des Allerbarmers, des Barmherzigen!', 'translation-de-bubenheim': 'Im Namen Allahs, des Allerbarmers, des Barmherzigen.', 'translation-de-khoury': 'Im Namen Gottes, des Erbarmers, des Barmherzigen.', 'translation-de-zaidan': 'Bismil-lahir-rahmanir-rahim: Mit dem Namen ALLAHs, Des Allgnade Erweisenden, Des Allgnädigen, (rezitiere ich).', 'translation-dv-divehi': 'رحمن ވަންތަ رحيم ވަންތަ اللَّه ގެ اسم ފުޅުން ފަށައިގަންނަމެވެ.', 'translation-en-ahmedali': 'In the name of Allah, most benevolent, ever-merciful.', 'translation-en-ahmedraza': 'Allah - beginning with the name of - the Most Gracious, the Most Merciful.', 'translation-en-arberry': 'In the Name of God, the Merciful, the Compassionate', 'translation-en-hilali': 'In the Name of Allah, the Most Beneficent, the Most Merciful.', 'translation-en-itani': 'In the name of God, the Gracious, the Merciful.', 'translation-en-maududi': 'In the name of Allah, the Merciful, the Compassionate', 'translation-en-mubarakpuri': 'In the Name of Allah, the Most Gracious, the Most Merciful.', 'translation-en-pickthall': 'In the name of Allah, the Beneficent, the Merciful.', 'translation-en-qarai': 'In the Name of Allah, the All-beneficent, the All-merciful.', 'translation-en-qaribullah': 'In the Name of Allah, the Merciful, the Most Merciful', 'translation-en-sahih': 'In the name of Allah, the Entirely Merciful, the Especially Merciful.', 'translation-en-sarwar': 'In the Name of Allah, the Beneficent, the Merciful', 'translation-en-shakir': 'In the name of Allah, the Beneficent, the Merciful.', 'translation-en-transliteration': 'Bismi All<u>a</U>hi a<b>l</B>rra<u>h</U>m<u>a</U>ni a<b>l</B>rra<u>h</U>eem<b>i</b>', 'translation-en-wahiduddin': '\\ufeffIn the name of God, the Most Gracious, the Most Merciful.', 'translation-en-yusufali': 'In the name of Allah, Most Gracious, Most Merciful.', 'translation-es-bornez': 'En el nombre de Al.lah, el Clementísimo, el Misericordiosísimo.', 'translation-es-cortes': '¡En el nombre de Alá, el Compasivo, el Misericordioso!', 'translation-es-garcia': 'En el nombre de Dios, el Compasivo con toda la creación, el Misericordioso con los creyentes.', 'translation-fa-ansarian': 'به نام خدا که رحمتش بی\\u200cاندازه است و مهربانی\\u200cاش همیشگی.', 'translation-fa-ayati': 'به نام خداى بخشاينده مهربان\\u200c', 'translation-fa-bahrampour': 'به نام خداوند هستى بخش مهربان', 'translation-fa-fooladvand': 'به نام خداوند رحمتگر مهربان', 'translation-fa-gharaati': 'به نام خداوند بخشنده\\u200cی مهربان.', 'translation-fa-ghomshei': 'به نام خداوند بخشنده مهربان', 'translation-fa-khorramdel': 'به نام خداوند بخشنده\\u200cی مهربان. [[«بِسْمِ»: فراهم آمده است از (بِ) و (اِسْمِ). یعنی: کارم را با نام خدا آغاز می\\u200cکنم؛ نه به نام چیز دیگری، و نه به فرمان دل یا کس دیگری. واژه (اِسْم) از ماده (سُمُوّ) به معنی عُلُوّ، یا (وسم) به معنی علامت و نشانه است. «اللهِ»: اسم خاصّ است برای خدا. اصل آن (إِلاه) بوده و مصدری است بر وزن (فِعال) به معنی مفعول، یعنی (مَأْلُوه) به معنی معبود می\\u200cباشد. همان گونه که مصدر (خَلْق) به معنی مخلوق است (نگا: لقمان / 11). «الرَّحْمنِ»: دارای مهر فراوان (نگا: أعراف / 156). «الرَّحِیمِ»: دارای مهر همیشگی.]]', 'translation-fa-khorramshahi': 'به نام خداوند بخشنده مهربان\\u200c', 'translation-fa-makarem': 'به نام خداوند بخشنده بخشایشگر', 'translation-fa-moezzi': 'بنام خداوند بخشاینده مهربان\\u200c', 'translation-fa-mojtabavi': 'به نام خداى بخشاينده مهربان', 'translation-fa-sadeqi': 'به نام خدای رحمتگر بر آفریدگان، رحمتگر بر ویژگان\\u200c', 'translation-fa-safavi': 'به نام خداوندِ گسترده مهرِ مهربان', 'translation-fr-hamidullah': \"Au nom d'Allah, le Tout Miséricordieux, le Très Miséricordieux.\", 'translation-ha-gumi': 'Da sũnan Allah, Mai rahama, Mai jin ƙai.', 'translation-hi-farooq': 'अल्लाह के नाम से जो बड़ा कृपालु और अत्यन्त दयावान हैं।', 'translation-hi-hindi': 'अल्लाह के नाम से जो रहमान व रहीम है।', 'translation-id-indonesian': 'Dengan menyebut nama Allah Yang Maha Pemurah lagi Maha Penyayang.', 'translation-id-jalalayn': '(Dengan nama Allah Yang Maha Pemurah lagi Maha Penyayang)', 'translation-id-muntakhab': \"[[1 ~ FATIHAH AL-KITAB (PEMBUKA KITAB SUCI) Pendahuluan: Makkiyyah, 7 ayat ~ Surat al-Fâtihah ini termasuk kelompok surat Makkiyyah yang turun di Mekah sebelum hijrah. Disebut al-Fâtihah (pembuka), karena letaknya yang berada urutan pertama surat-surat al-Qur'ân. Surat yang pertama diturunkan secara lengkap di antara surat-surat yang ada dalam al-Qur'ân ini merupakan intisari dari seluruh kandungan al-Qur'ân yang kemudian diperinci oleh surat-surat sesudahnya. Tema-tema pokok al-Qur'ân--seperti penjelasan tawhid dan keimanan, janji dan kabar gembira bagi orang-orang Mukmin, ancaman dan peringatan bagi orang-orang kafir dan pelaku kejahatan, tentang ibadah, kisah orang-orang yang beruntung karena taat kepada Allah dan sengsara karena mengingkari-Nya--semua itu tercermin secara singkat dalam surat ini. Oleh sebab itu, surat ini juga disebut dengan nama Umm al-Kitâb (induk al-Qur'ân).]] Surat ini dimulai dengan menyebut nama Allah--satu-satunya Tuhan yang berhak disembah--Yang memiliki seluruh sifat kesempurnaan dan tersucikan dari segala bentuk kekurangan. Dialah Pemilik rahmah (sifat kasih) yang tak habis-habisnya, Yang menganugerahkan segala macam kenikmatan, baik besar maupun kecil.\", 'translation-it-piccardo': 'In nome di Allah, il Compassionevole, il Misericordioso', 'translation-ja-japanese': '慈悲あまねく慈愛深きアッラーの御名において。', 'translation-ko-korean': '자비로우시고 자애로우신 하나님의 이름으로', 'translation-ku-asan': 'به ناوی خوای به\\u200cخشنده\\u200cی میهره\\u200cبان (به ناوی ئه\\u200cو خوایه\\u200cی كانگای ڕه\\u200cحمه\\u200cت و سۆزو به\\u200cزه\\u200cییه\\u200c).', 'translation-ml-abdulhameed': 'പരമകാരുണികനും കരുണാനിധിയുമായ അല്ലാഹുവിന്റെ നാമത്തില്\\u200d .', 'translation-ml-karakunnu': 'പരമകാരുണികനും ദയാപരനുമായ അല്ലാഹുവിന്റെ നാമത്തില്\\u200d.', 'translation-ms-basmeih': 'Dengan nama Allah, Yang Maha Pemurah, lagi Maha Mengasihani.', 'translation-nl-keyzer': 'In naam van den lankmoedigen en albarmhartigen God.', 'translation-nl-leemhuis': 'In de naam van God, de erbarmer, de barmhartige.', 'translation-nl-siregar': 'In de naam van Allah, de Erbarmer, de Meest Barmhartige.', 'translation-no-berg': 'I Guds, den Barmhjertiges, den Nåderikes navn', 'translation-pl-bielawskiego': 'W Imię Boga Miłosiernego i Litościwego!', 'translation-ps-abdulwali': 'د الله په نامه سره (شروع كوم) چې ډېر زیات مهربان، بې حده رحم كوونكى دى', 'translation-pt-elhayek': 'Em nome de Deus, o Clemente, o Misericordioso.', 'translation-ro-grigore': 'În numele lui Dumnezeu cel Milos şi Milostiv.', 'translation-ru-abuadel': 'С именем Аллаха Милостивого, Милосердного!', 'translation-ru-kalam': 'Хвала Аллаху – Господу миров [создавшему мир и управляющему им],', 'translation-ru-krachkovsky': 'Во имя Аллаха милостивого, милосердного!', 'translation-ru-kuliev-alsaadi': 'Во имя Аллаха, Милостивого, Милосердного! [[Это означает: я начинаю во имя Аллаха. Из лексического анализа этого словосочетания ясно, что подразумеваются все прекрасные имена Всевышнего Господа. Аллах - одно из этих имен, означающее «Бог, Которого обожествляют и Которому поклоняются, Единственный, Кто заслуживает поклонения в силу Своих божественных качеств - качеств совершенства и безупречности». Прекрасные имена Милостивый и Милосердный свидетельствуют о Его великом милосердии, объемлющем всякую вещь и всякую тварь. Милосердия Аллаха в полной мере будут удостоены Его богобоязненные рабы, которые следуют путем Божьих пророков и посланников. А все остальные творения получат лишь часть Божьей милости. Следует знать, что все праведные богословы единодушно говорили о необходимости веры в Аллаха и Его божественные качества. Господь - Милостивый и Милосердный, то есть обладает милосердием, которое проявляется на Его рабах. Все блага и щедроты являются одним из многочисленных проявлений Его милости и сострадания. То же самое можно сказать и об остальных именах Аллаха. Он всеведущ, то есть обладает знанием обо всем сущем. Он всемогущ, то есть обладает могуществом и властен над всякой тварью.]]', 'translation-ru-kuliev': 'Во имя Аллаха, Милостивого, Милосердного!', 'translation-ru-muntahab': 'Сура начинается именем Аллаха Единого, Совершенного, Всемогущего, Безупречного. Он - Милостивый, Податель Блага (великого и малого, общего и частного) и вечно Милосердный. [[Во имя Аллаха Милостивого, Милосердного! Эта сура мекканского происхождения. Она была ниспослана пророку Мухаммаду - да благословит его Аллах и приветствует! - до хиджры. Сура состоит из 7 айатов. Она называется \"Открывающая Книгу\" (аль-Фатиха), потому что это первая сура по порядку расположения в Благородном Коране и первая сура, ниспосланная полностью. В этой суре говорится о совокупности идей и общем значении Корана, который подтверждает единобожие, является благой вестью для верующих, предупреждает о наказании неверующих и грешников, указывает на необходимость поклонения Господу, на путь к счастью в настоящей и будущей жизни и рассказывает о тех, которые повиновались Аллаху и обрели блаженство, и о тех, которые не повиновались Ему и оказались в убытке, и поэтому эта сура называется \"Мать Книги\".]]', 'translation-ru-osmanov': 'Во имя Аллаха, Милостивого, Милосердного.', 'translation-ru-porokhova': 'Во имя Аллаха, Всемилостивого, Милосердного!', 'translation-ru-sablukov': 'Во имя Бога милостивого, милосердного.', 'translation-sd-amroti': 'الله ٻاجھاري مھربان جي نالي سان (شروع)', 'translation-so-abduh': 'Magaca Eebe yaan kubillaabaynaa ee Naxariis guud iyo mid gaaraba Naxariista.', 'translation-sq-ahmeti': 'Me emrin e All-llahut, Mëshiruesit, Mëshirëbërësit!', 'translation-sq-mehdiu': 'Në emër të All-llahut, të Gjithëmëshirshmit, Mëshirëplotit!', 'translation-sq-nahi': 'Me emër të Allahut, Mëshirues dhe Përdëllimtar i Madh.', 'translation-sv-bernstrom': 'I GUDS, DEN NÅDERIKES, DEN BARMHÄRTIGES NAMN', 'translation-sw-barwani': 'KWA JINA LA MWENYEZI MUNGU MWINGI WA REHEMA MWENYE KUREHEMU.', 'translation-ta-tamil': 'அளவற்ற அருளாளன், நிகரற்ற அன்பாளன், அல்லாஹ்வின் பெயரால்! (தொடங்குகிறேன்).', 'translation-tg-ayati': 'Ба номи Худованди бахшояндаи меҳрубон!', 'translation-th-thai': 'ด้วยพระนามของอัลลอฮฺ ผู้ทรงกรุณาปราณี ผู้ทรงเมตตาเสมอ', 'translation-tr-ates': \"Rahman ve Rahim Allah'ın adıyla\", 'translation-tr-bulac': \"Rahman Rahim olan Allah'ın adıyla\", 'translation-tr-diyanet': \"Rahman ve Rahim olan Allah'ın adıyla:\", 'translation-tr-golpinarli': 'Rahman ve rahim Allah adiyle', 'translation-tr-ozturk': \"Rahman ve Rahîm Allah'ın adıyla...\", 'translation-tr-transliteration': 'bismi-llâhi-rraḥmâni-rraḥîm.', 'translation-tr-vakfi': \"Rahman (ve) rahim (olan) Allah'ın adıyla.\", 'translation-tr-yazir': \"Rahmân ve Rahîm olan Allah'ın ismiyle.\", 'translation-tr-yildirim': \"Rahmân ve rahîm olan Allah'ın adıyla [59,22-24]\", 'translation-tr-yuksel': \"Rahman ve Rahim ALLAH'ın ismiyle.\", 'translation-tt-nugman': 'Рәхимле шәфкатьле Аллаһ исеме белән башлыйм эшемне.', 'translation-ug-saleh': 'ناھايىتى شەپقەتلىك ۋە مېھرىبان اﷲ نىڭ ئىسمى بىلەن باشلايمەن', 'translation-ur-ahmedali': 'شروع الله کا نام لے کر جو بڑا مہربان نہایت رحم والا ہے', 'translation-ur-jalandhry': 'شروع الله کا نام لے کر جو بڑا مہربان نہایت رحم والا ہے', 'translation-ur-jawadi': 'عظیم اور دائمی رحمتوں والے خدا کے نام سے', 'translation-ur-junagarhi': 'شروع کرتا ہوں اللہ تعالیٰ کے نام سے جو بڑا مہربان نہایت رحم واﻻ ہے', 'translation-ur-kanzuliman': 'اللہ کے نام سے شروع جو بہت مہربان رحمت والا', 'translation-ur-maududi': 'اللہ کے نام سے جو رحمان و رحیم ہے', 'translation-ur-najafi': '(شروع کرتا ہوں) اللہ کے نام سے جو بڑا مہربان نہایت رحم والا ہے۔', 'translation-ur-qadri': 'اللہ کے نام سےشروع جو نہایت مہربان ہمیشہ رحم فرمانےوالا ہے \\u200e', 'translation-uz-sodik': 'Меҳрибон ва раҳмли Аллоҳнинг номи билан бошлайман. (Аллоҳ таоло ўз китобини \"бисмиллаҳ\" билан бошлагани мусулмонларга ҳам ўрнак, улар ҳам доим ўз сўзларини ва ишларини \"бисмиллаҳ\" билан бошламоқлари лозим. Пайғамбар алайҳиссалом ҳадисларидан бирида: \"Эътиборли ҳар бир иш \"бисмиллаҳ\" билан бошланмас экан, унинг охири кесикдир\", деганлар. Яъни, баракаси бўлмайди, охирига етмайди.)', 'translation-zh-jian': '奉至仁至慈的真主之名', 'translation-zh-majian': '奉至仁至慈的真主之名'}\n"
          ]
        }
      ],
      "source": [
        "# Mira el primer elemento del dataset jurídico\n",
        "print(dataset_juridico[0])\n",
        "\n",
        "# Para el dataset LAMBADA\n",
        "print(dataset_lambada[0])\n",
        "\n",
        "# Para el Quran\n",
        "print(dataset_quran[0])"
      ]
    },
    {
      "cell_type": "code",
      "execution_count": 18,
      "metadata": {},
      "outputs": [
        {
          "name": "stdout",
          "output_type": "stream",
          "text": [
            "[('Ley General de Archivos?', 'MISC')]\n"
          ]
        }
      ],
      "source": [
        "import spacy\n",
        "nlp = spacy.load(\"es_core_news_md\")\n",
        "\n",
        "def extract_entities(text):\n",
        "    doc = nlp(text)\n",
        "    return [(ent.text, ent.label_) for ent in doc.ents]\n",
        "\n",
        "# Ejemplo para un texto del dataset jurídico:\n",
        "text_juridico = dataset_juridico[0][\"question\"]  # Ajusta según la estructura real del dataset\n",
        "entities = extract_entities(text_juridico)\n",
        "print(entities)"
      ]
    },
    {
      "cell_type": "code",
      "execution_count": null,
      "metadata": {},
      "outputs": [],
      "source": [
        "from collections import defaultdict\n",
        "import spacy\n",
        "\n",
        "nlp = spacy.load(\"es_core_news_md\")\n",
        "\n",
        "def count_entities(dataset, text_field=\"text\"):  # \"text\" es el valor por defecto, pero lo cambiaremos\n",
        "    entity_counts = defaultdict(int)\n",
        "    for example in dataset:\n",
        "        text = example[text_field]  # Accede al campo correcto (ej: \"question\" o \"translation\")\n",
        "        doc = nlp(text)\n",
        "        for ent in doc.ents:\n",
        "            entity_counts[ent.label_] += 1\n",
        "    return entity_counts"
      ]
    },
    {
      "cell_type": "code",
      "execution_count": 24,
      "metadata": {},
      "outputs": [],
      "source": [
        "# Dataset Jurídico (campo \"question\")\n",
        "counts_juridico = count_entities(dataset_juridico, text_field=\"question\")\n",
        "\n",
        "# Dataset Quran (campo \"surah\")\n",
        "counts_quran = count_entities(dataset_quran, text_field=\"translation-es-garcia\")\n",
        "\n",
        "# Dataset LAMBADA (campo \"text\" por defecto)\n",
        "counts_lambada = count_entities(dataset_lambada)  "
      ]
    },
    {
      "cell_type": "code",
      "execution_count": 25,
      "metadata": {},
      "outputs": [
        {
          "data": {
            "image/png": "[encoded data removed]",
            "text/plain": [
              "<Figure size 640x480 with 1 Axes>"
            ]
          },
          "metadata": {},
          "output_type": "display_data"
        },
        {
          "data": {
            "image/png": "[encoded data removed]",
            "text/plain": [
              "<Figure size 640x480 with 1 Axes>"
            ]
          },
          "metadata": {},
          "output_type": "display_data"
        },
        {
          "data": {
            "image/png": "[encoded data removed]",
            "text/plain": [
              "<Figure size 640x480 with 1 Axes>"
            ]
          },
          "metadata": {},
          "output_type": "display_data"
        }
      ],
      "source": [
        "import pandas as pd\n",
        "\n",
        "def plot_entity_counts(counts, title):\n",
        "    df = pd.DataFrame.from_dict(counts, orient=\"index\", columns=[\"Frecuencia\"])\n",
        "    df.sort_values(by=\"Frecuencia\", ascending=False).plot(kind=\"bar\", title=title)\n",
        "\n",
        "plot_entity_counts(counts_juridico, \"Entidades en Dataset Jurídico (question)\")\n",
        "plot_entity_counts(counts_quran, \"Entidades en Dataset Quran (surah)\")\n",
        "plot_entity_counts(counts_lambada, \"Entidades en Dataset LAMBADA (text)\")"
      ]
    },
    {
      "cell_type": "markdown",
      "metadata": {},
      "source": [
        "### Análisis de Reconocimiento de entidades (NER)\n",
        "\n",
        "Los resultados muestran diferencias interesantes:\n",
        "\n",
        "* En el **dataset jurídico**, las entidades más comunes fueron `LOC`, `ORG` y `MISC`, mientras que `PER` (personas) fue casi inexistente. Esto tiene sentido ya que el lenguaje jurídico se enfoca en lugares, instituciones y términos legales más que en individuos.\n",
        "\n",
        "* En el **dataset religioso (Quran)**, predominan `MISC` y `PER`, lo cual es coherente con la naturaleza del texto, que menciona con frecuencia conceptos abstractos y figuras históricas o religiosas.\n",
        "\n",
        "* En el **dataset narrativo (LAMBADA)**, `PER` fue la entidad más frecuente, seguida de `MISC` y `LOC`. Esto refleja que los textos narrativos tienden a enfocarse en personajes, lugares y elementos variados del entorno.\n",
        "\n",
        "En general, el modelo mostró un desempeño razonable para identificar entidades relevantes, aunque en textos complejos o muy específicos (como el jurídico o el religioso) pueden aparecer confusiones o etiquetas genéricas (`MISC`) debido a la ambigüedad o falta de contexto entrenado.\n"
      ]
    },
    {
      "cell_type": "markdown",
      "metadata": {},
      "source": []
    }
  ],
  "metadata": {
    "colab": {
      "provenance": []
    },
    "kernelspec": {
      "display_name": "Python 3",
      "name": "python3"
    },
    "language_info": {
      "codemirror_mode": {
        "name": "ipython",
        "version": 3
      },
      "file_extension": ".py",
      "mimetype": "text/x-python",
      "name": "python",
      "nbconvert_exporter": "python",
      "pygments_lexer": "ipython3",
      "version": "3.11.4"
    },
    "widgets": {
      "application/vnd.jupyter.widget-state+json": {
        "062128b917e44e129aa7a2512a2f7194": {
          "model_module": "@jupyter-widgets/base",
          "model_module_version": "1.2.0",
          "model_name": "LayoutModel",
          "state": {
            "_model_module": "@jupyter-widgets/base",
            "_model_module_version": "1.2.0",
            "_model_name": "LayoutModel",
            "_view_count": null,
            "_view_module": "@jupyter-widgets/base",
            "_view_module_version": "1.2.0",
            "_view_name": "LayoutView",
            "align_content": null,
            "align_items": null,
            "align_self": null,
            "border": null,
            "bottom": null,
            "display": null,
            "flex": null,
            "flex_flow": null,
            "grid_area": null,
            "grid_auto_columns": null,
            "grid_auto_flow": null,
            "grid_auto_rows": null,
            "grid_column": null,
            "grid_gap": null,
            "grid_row": null,
            "grid_template_areas": null,
            "grid_template_columns": null,
            "grid_template_rows": null,
            "height": null,
            "justify_content": null,
            "justify_items": null,
            "left": null,
            "margin": null,
            "max_height": null,
            "max_width": null,
            "min_height": null,
            "min_width": null,
            "object_fit": null,
            "object_position": null,
            "order": null,
            "overflow": null,
            "overflow_x": null,
            "overflow_y": null,
            "padding": null,
            "right": null,
            "top": null,
            "visibility": null,
            "width": null
          }
        },
        "07930fe609994ee29591ef1b53ad3cb0": {
          "model_module": "@jupyter-widgets/base",
          "model_module_version": "1.2.0",
          "model_name": "LayoutModel",
          "state": {
            "_model_module": "@jupyter-widgets/base",
            "_model_module_version": "1.2.0",
            "_model_name": "LayoutModel",
            "_view_count": null,
            "_view_module": "@jupyter-widgets/base",
            "_view_module_version": "1.2.0",
            "_view_name": "LayoutView",
            "align_content": null,
            "align_items": null,
            "align_self": null,
            "border": null,
            "bottom": null,
            "display": null,
            "flex": null,
            "flex_flow": null,
            "grid_area": null,
            "grid_auto_columns": null,
            "grid_auto_flow": null,
            "grid_auto_rows": null,
            "grid_column": null,
            "grid_gap": null,
            "grid_row": null,
            "grid_template_areas": null,
            "grid_template_columns": null,
            "grid_template_rows": null,
            "height": null,
            "justify_content": null,
            "justify_items": null,
            "left": null,
            "margin": null,
            "max_height": null,
            "max_width": null,
            "min_height": null,
            "min_width": null,
            "object_fit": null,
            "object_position": null,
            "order": null,
            "overflow": null,
            "overflow_x": null,
            "overflow_y": null,
            "padding": null,
            "right": null,
            "top": null,
            "visibility": null,
            "width": null
          }
        },
        "09c32de90315410ba46f3212b8894c06": {
          "model_module": "@jupyter-widgets/base",
          "model_module_version": "1.2.0",
          "model_name": "LayoutModel",
          "state": {
            "_model_module": "@jupyter-widgets/base",
            "_model_module_version": "1.2.0",
            "_model_name": "LayoutModel",
            "_view_count": null,
            "_view_module": "@jupyter-widgets/base",
            "_view_module_version": "1.2.0",
            "_view_name": "LayoutView",
            "align_content": null,
            "align_items": null,
            "align_self": null,
            "border": null,
            "bottom": null,
            "display": null,
            "flex": null,
            "flex_flow": null,
            "grid_area": null,
            "grid_auto_columns": null,
            "grid_auto_flow": null,
            "grid_auto_rows": null,
            "grid_column": null,
            "grid_gap": null,
            "grid_row": null,
            "grid_template_areas": null,
            "grid_template_columns": null,
            "grid_template_rows": null,
            "height": null,
            "justify_content": null,
            "justify_items": null,
            "left": null,
            "margin": null,
            "max_height": null,
            "max_width": null,
            "min_height": null,
            "min_width": null,
            "object_fit": null,
            "object_position": null,
            "order": null,
            "overflow": null,
            "overflow_x": null,
            "overflow_y": null,
            "padding": null,
            "right": null,
            "top": null,
            "visibility": null,
            "width": null
          }
        },
        "0d14c3082f5c4b21ac209a493742bc34": {
          "model_module": "@jupyter-widgets/controls",
          "model_module_version": "1.5.0",
          "model_name": "DescriptionStyleModel",
          "state": {
            "_model_module": "@jupyter-widgets/controls",
            "_model_module_version": "1.5.0",
            "_model_name": "DescriptionStyleModel",
            "_view_count": null,
            "_view_module": "@jupyter-widgets/base",
            "_view_module_version": "1.2.0",
            "_view_name": "StyleView",
            "description_width": ""
          }
        },
        "0d5f2962853d4b90b187650e326f6d87": {
          "model_module": "@jupyter-widgets/base",
          "model_module_version": "1.2.0",
          "model_name": "LayoutModel",
          "state": {
            "_model_module": "@jupyter-widgets/base",
            "_model_module_version": "1.2.0",
            "_model_name": "LayoutModel",
            "_view_count": null,
            "_view_module": "@jupyter-widgets/base",
            "_view_module_version": "1.2.0",
            "_view_name": "LayoutView",
            "align_content": null,
            "align_items": null,
            "align_self": null,
            "border": null,
            "bottom": null,
            "display": null,
            "flex": null,
            "flex_flow": null,
            "grid_area": null,
            "grid_auto_columns": null,
            "grid_auto_flow": null,
            "grid_auto_rows": null,
            "grid_column": null,
            "grid_gap": null,
            "grid_row": null,
            "grid_template_areas": null,
            "grid_template_columns": null,
            "grid_template_rows": null,
            "height": null,
            "justify_content": null,
            "justify_items": null,
            "left": null,
            "margin": null,
            "max_height": null,
            "max_width": null,
            "min_height": null,
            "min_width": null,
            "object_fit": null,
            "object_position": null,
            "order": null,
            "overflow": null,
            "overflow_x": null,
            "overflow_y": null,
            "padding": null,
            "right": null,
            "top": null,
            "visibility": null,
            "width": null
          }
        },
        "0e23144cc26b4be5be3b5cc9af033ee4": {
          "model_module": "@jupyter-widgets/controls",
          "model_module_version": "1.5.0",
          "model_name": "HBoxModel",
          "state": {
            "_dom_classes": [],
            "_model_module": "@jupyter-widgets/controls",
            "_model_module_version": "1.5.0",
            "_model_name": "HBoxModel",
            "_view_count": null,
            "_view_module": "@jupyter-widgets/controls",
            "_view_module_version": "1.5.0",
            "_view_name": "HBoxView",
            "box_style": "",
            "children": [
              "IPY_MODEL_9fdc54af8bad44109b834c6ad182d308",
              "IPY_MODEL_33a777fa73494162a8f937ebcdd5f68c",
              "IPY_MODEL_8ea2394163e4459896901f37b41a4407"
            ],
            "layout": "IPY_MODEL_062128b917e44e129aa7a2512a2f7194"
          }
        },
        "169a55b923304268850944ffb2f1cd3a": {
          "model_module": "@jupyter-widgets/base",
          "model_module_version": "1.2.0",
          "model_name": "LayoutModel",
          "state": {
            "_model_module": "@jupyter-widgets/base",
            "_model_module_version": "1.2.0",
            "_model_name": "LayoutModel",
            "_view_count": null,
            "_view_module": "@jupyter-widgets/base",
            "_view_module_version": "1.2.0",
            "_view_name": "LayoutView",
            "align_content": null,
            "align_items": null,
            "align_self": null,
            "border": null,
            "bottom": null,
            "display": null,
            "flex": null,
            "flex_flow": null,
            "grid_area": null,
            "grid_auto_columns": null,
            "grid_auto_flow": null,
            "grid_auto_rows": null,
            "grid_column": null,
            "grid_gap": null,
            "grid_row": null,
            "grid_template_areas": null,
            "grid_template_columns": null,
            "grid_template_rows": null,
            "height": null,
            "justify_content": null,
            "justify_items": null,
            "left": null,
            "margin": null,
            "max_height": null,
            "max_width": null,
            "min_height": null,
            "min_width": null,
            "object_fit": null,
            "object_position": null,
            "order": null,
            "overflow": null,
            "overflow_x": null,
            "overflow_y": null,
            "padding": null,
            "right": null,
            "top": null,
            "visibility": null,
            "width": null
          }
        },
        "1b9b69c97b894f5d9d8b552a5cd5cdf8": {
          "model_module": "@jupyter-widgets/controls",
          "model_module_version": "1.5.0",
          "model_name": "HTMLModel",
          "state": {
            "_dom_classes": [],
            "_model_module": "@jupyter-widgets/controls",
            "_model_module_version": "1.5.0",
            "_model_name": "HTMLModel",
            "_view_count": null,
            "_view_module": "@jupyter-widgets/controls",
            "_view_module_version": "1.5.0",
            "_view_name": "HTMLView",
            "description": "",
            "description_tooltip": null,
            "layout": "IPY_MODEL_8793aaab2ee74093b208054a1449eae5",
            "placeholder": "​",
            "style": "IPY_MODEL_f700e94bf1bc4c97a95a0a1f58e4fd2a",
            "value": "Downloading readme: 100%"
          }
        },
        "1bf3102b35b14c2e9f3f7f21e1857566": {
          "model_module": "@jupyter-widgets/controls",
          "model_module_version": "1.5.0",
          "model_name": "ProgressStyleModel",
          "state": {
            "_model_module": "@jupyter-widgets/controls",
            "_model_module_version": "1.5.0",
            "_model_name": "ProgressStyleModel",
            "_view_count": null,
            "_view_module": "@jupyter-widgets/base",
            "_view_module_version": "1.2.0",
            "_view_name": "StyleView",
            "bar_color": null,
            "description_width": ""
          }
        },
        "1e2cf49c993c4fffbe7cc5b70ab5cf47": {
          "model_module": "@jupyter-widgets/controls",
          "model_module_version": "1.5.0",
          "model_name": "HTMLModel",
          "state": {
            "_dom_classes": [],
            "_model_module": "@jupyter-widgets/controls",
            "_model_module_version": "1.5.0",
            "_model_name": "HTMLModel",
            "_view_count": null,
            "_view_module": "@jupyter-widgets/controls",
            "_view_module_version": "1.5.0",
            "_view_name": "HTMLView",
            "description": "",
            "description_tooltip": null,
            "layout": "IPY_MODEL_5ccad5362ff24dfa9e2a56f03d538acd",
            "placeholder": "​",
            "style": "IPY_MODEL_8cbfee3978b1413b970e7c3dd12b6379",
            "value": "Generating test split: 100%"
          }
        },
        "2cb46af2aa3848548e9cb20c1e79453e": {
          "model_module": "@jupyter-widgets/controls",
          "model_module_version": "1.5.0",
          "model_name": "ProgressStyleModel",
          "state": {
            "_model_module": "@jupyter-widgets/controls",
            "_model_module_version": "1.5.0",
            "_model_name": "ProgressStyleModel",
            "_view_count": null,
            "_view_module": "@jupyter-widgets/base",
            "_view_module_version": "1.2.0",
            "_view_name": "StyleView",
            "bar_color": null,
            "description_width": ""
          }
        },
        "33a777fa73494162a8f937ebcdd5f68c": {
          "model_module": "@jupyter-widgets/controls",
          "model_module_version": "1.5.0",
          "model_name": "FloatProgressModel",
          "state": {
            "_dom_classes": [],
            "_model_module": "@jupyter-widgets/controls",
            "_model_module_version": "1.5.0",
            "_model_name": "FloatProgressModel",
            "_view_count": null,
            "_view_module": "@jupyter-widgets/controls",
            "_view_module_version": "1.5.0",
            "_view_name": "ProgressView",
            "bar_style": "success",
            "description": "",
            "description_tooltip": null,
            "layout": "IPY_MODEL_4ee8775e26b0468dacc8e2c9c998a450",
            "max": 1902349,
            "min": 0,
            "orientation": "horizontal",
            "style": "IPY_MODEL_2cb46af2aa3848548e9cb20c1e79453e",
            "value": 1902349
          }
        },
        "38a14151476c41baa5aff00633bdd942": {
          "model_module": "@jupyter-widgets/controls",
          "model_module_version": "1.5.0",
          "model_name": "DescriptionStyleModel",
          "state": {
            "_model_module": "@jupyter-widgets/controls",
            "_model_module_version": "1.5.0",
            "_model_name": "DescriptionStyleModel",
            "_view_count": null,
            "_view_module": "@jupyter-widgets/base",
            "_view_module_version": "1.2.0",
            "_view_name": "StyleView",
            "description_width": ""
          }
        },
        "441894378cfa4c8fb25a7a5c4be5473e": {
          "model_module": "@jupyter-widgets/controls",
          "model_module_version": "1.5.0",
          "model_name": "FloatProgressModel",
          "state": {
            "_dom_classes": [],
            "_model_module": "@jupyter-widgets/controls",
            "_model_module_version": "1.5.0",
            "_model_name": "FloatProgressModel",
            "_view_count": null,
            "_view_module": "@jupyter-widgets/controls",
            "_view_module_version": "1.5.0",
            "_view_name": "ProgressView",
            "bar_style": "success",
            "description": "",
            "description_tooltip": null,
            "layout": "IPY_MODEL_65929d3ef30a4b3e9a9e8d97cb4eee1e",
            "max": 5153,
            "min": 0,
            "orientation": "horizontal",
            "style": "IPY_MODEL_1bf3102b35b14c2e9f3f7f21e1857566",
            "value": 5153
          }
        },
        "4ee8775e26b0468dacc8e2c9c998a450": {
          "model_module": "@jupyter-widgets/base",
          "model_module_version": "1.2.0",
          "model_name": "LayoutModel",
          "state": {
            "_model_module": "@jupyter-widgets/base",
            "_model_module_version": "1.2.0",
            "_model_name": "LayoutModel",
            "_view_count": null,
            "_view_module": "@jupyter-widgets/base",
            "_view_module_version": "1.2.0",
            "_view_name": "LayoutView",
            "align_content": null,
            "align_items": null,
            "align_self": null,
            "border": null,
            "bottom": null,
            "display": null,
            "flex": null,
            "flex_flow": null,
            "grid_area": null,
            "grid_auto_columns": null,
            "grid_auto_flow": null,
            "grid_auto_rows": null,
            "grid_column": null,
            "grid_gap": null,
            "grid_row": null,
            "grid_template_areas": null,
            "grid_template_columns": null,
            "grid_template_rows": null,
            "height": null,
            "justify_content": null,
            "justify_items": null,
            "left": null,
            "margin": null,
            "max_height": null,
            "max_width": null,
            "min_height": null,
            "min_width": null,
            "object_fit": null,
            "object_position": null,
            "order": null,
            "overflow": null,
            "overflow_x": null,
            "overflow_y": null,
            "padding": null,
            "right": null,
            "top": null,
            "visibility": null,
            "width": null
          }
        },
        "5ccad5362ff24dfa9e2a56f03d538acd": {
          "model_module": "@jupyter-widgets/base",
          "model_module_version": "1.2.0",
          "model_name": "LayoutModel",
          "state": {
            "_model_module": "@jupyter-widgets/base",
            "_model_module_version": "1.2.0",
            "_model_name": "LayoutModel",
            "_view_count": null,
            "_view_module": "@jupyter-widgets/base",
            "_view_module_version": "1.2.0",
            "_view_name": "LayoutView",
            "align_content": null,
            "align_items": null,
            "align_self": null,
            "border": null,
            "bottom": null,
            "display": null,
            "flex": null,
            "flex_flow": null,
            "grid_area": null,
            "grid_auto_columns": null,
            "grid_auto_flow": null,
            "grid_auto_rows": null,
            "grid_column": null,
            "grid_gap": null,
            "grid_row": null,
            "grid_template_areas": null,
            "grid_template_columns": null,
            "grid_template_rows": null,
            "height": null,
            "justify_content": null,
            "justify_items": null,
            "left": null,
            "margin": null,
            "max_height": null,
            "max_width": null,
            "min_height": null,
            "min_width": null,
            "object_fit": null,
            "object_position": null,
            "order": null,
            "overflow": null,
            "overflow_x": null,
            "overflow_y": null,
            "padding": null,
            "right": null,
            "top": null,
            "visibility": null,
            "width": null
          }
        },
        "65929d3ef30a4b3e9a9e8d97cb4eee1e": {
          "model_module": "@jupyter-widgets/base",
          "model_module_version": "1.2.0",
          "model_name": "LayoutModel",
          "state": {
            "_model_module": "@jupyter-widgets/base",
            "_model_module_version": "1.2.0",
            "_model_name": "LayoutModel",
            "_view_count": null,
            "_view_module": "@jupyter-widgets/base",
            "_view_module_version": "1.2.0",
            "_view_name": "LayoutView",
            "align_content": null,
            "align_items": null,
            "align_self": null,
            "border": null,
            "bottom": null,
            "display": null,
            "flex": null,
            "flex_flow": null,
            "grid_area": null,
            "grid_auto_columns": null,
            "grid_auto_flow": null,
            "grid_auto_rows": null,
            "grid_column": null,
            "grid_gap": null,
            "grid_row": null,
            "grid_template_areas": null,
            "grid_template_columns": null,
            "grid_template_rows": null,
            "height": null,
            "justify_content": null,
            "justify_items": null,
            "left": null,
            "margin": null,
            "max_height": null,
            "max_width": null,
            "min_height": null,
            "min_width": null,
            "object_fit": null,
            "object_position": null,
            "order": null,
            "overflow": null,
            "overflow_x": null,
            "overflow_y": null,
            "padding": null,
            "right": null,
            "top": null,
            "visibility": null,
            "width": null
          }
        },
        "69560bc248014a55849d45e5f2aac888": {
          "model_module": "@jupyter-widgets/controls",
          "model_module_version": "1.5.0",
          "model_name": "ProgressStyleModel",
          "state": {
            "_model_module": "@jupyter-widgets/controls",
            "_model_module_version": "1.5.0",
            "_model_name": "ProgressStyleModel",
            "_view_count": null,
            "_view_module": "@jupyter-widgets/base",
            "_view_module_version": "1.2.0",
            "_view_name": "StyleView",
            "bar_color": null,
            "description_width": ""
          }
        },
        "73498793e42641a09dcaad409c6aa1ac": {
          "model_module": "@jupyter-widgets/base",
          "model_module_version": "1.2.0",
          "model_name": "LayoutModel",
          "state": {
            "_model_module": "@jupyter-widgets/base",
            "_model_module_version": "1.2.0",
            "_model_name": "LayoutModel",
            "_view_count": null,
            "_view_module": "@jupyter-widgets/base",
            "_view_module_version": "1.2.0",
            "_view_name": "LayoutView",
            "align_content": null,
            "align_items": null,
            "align_self": null,
            "border": null,
            "bottom": null,
            "display": null,
            "flex": null,
            "flex_flow": null,
            "grid_area": null,
            "grid_auto_columns": null,
            "grid_auto_flow": null,
            "grid_auto_rows": null,
            "grid_column": null,
            "grid_gap": null,
            "grid_row": null,
            "grid_template_areas": null,
            "grid_template_columns": null,
            "grid_template_rows": null,
            "height": null,
            "justify_content": null,
            "justify_items": null,
            "left": null,
            "margin": null,
            "max_height": null,
            "max_width": null,
            "min_height": null,
            "min_width": null,
            "object_fit": null,
            "object_position": null,
            "order": null,
            "overflow": null,
            "overflow_x": null,
            "overflow_y": null,
            "padding": null,
            "right": null,
            "top": null,
            "visibility": null,
            "width": null
          }
        },
        "757d70f7d5f643e48f8da455ba5c9768": {
          "model_module": "@jupyter-widgets/controls",
          "model_module_version": "1.5.0",
          "model_name": "FloatProgressModel",
          "state": {
            "_dom_classes": [],
            "_model_module": "@jupyter-widgets/controls",
            "_model_module_version": "1.5.0",
            "_model_name": "FloatProgressModel",
            "_view_count": null,
            "_view_module": "@jupyter-widgets/controls",
            "_view_module_version": "1.5.0",
            "_view_name": "ProgressView",
            "bar_style": "success",
            "description": "",
            "description_tooltip": null,
            "layout": "IPY_MODEL_b4ecdce5ccd8433b8d25edefd7868724",
            "max": 4817,
            "min": 0,
            "orientation": "horizontal",
            "style": "IPY_MODEL_69560bc248014a55849d45e5f2aac888",
            "value": 4817
          }
        },
        "7ae09180ebf04af6baf942f52ce5bffa": {
          "model_module": "@jupyter-widgets/controls",
          "model_module_version": "1.5.0",
          "model_name": "DescriptionStyleModel",
          "state": {
            "_model_module": "@jupyter-widgets/controls",
            "_model_module_version": "1.5.0",
            "_model_name": "DescriptionStyleModel",
            "_view_count": null,
            "_view_module": "@jupyter-widgets/base",
            "_view_module_version": "1.2.0",
            "_view_name": "StyleView",
            "description_width": ""
          }
        },
        "7cf8dad35948457ebaf5a7b18c38234d": {
          "model_module": "@jupyter-widgets/controls",
          "model_module_version": "1.5.0",
          "model_name": "HTMLModel",
          "state": {
            "_dom_classes": [],
            "_model_module": "@jupyter-widgets/controls",
            "_model_module_version": "1.5.0",
            "_model_name": "HTMLModel",
            "_view_count": null,
            "_view_module": "@jupyter-widgets/controls",
            "_view_module_version": "1.5.0",
            "_view_name": "HTMLView",
            "description": "",
            "description_tooltip": null,
            "layout": "IPY_MODEL_ddcfdaaf0a05435fa0f2079b676ff667",
            "placeholder": "​",
            "style": "IPY_MODEL_38a14151476c41baa5aff00633bdd942",
            "value": " 4.99k/4.99k [00:00&lt;00:00, 238kB/s]"
          }
        },
        "83b51be652f340cf8cf0b6978fc347b8": {
          "model_module": "@jupyter-widgets/base",
          "model_module_version": "1.2.0",
          "model_name": "LayoutModel",
          "state": {
            "_model_module": "@jupyter-widgets/base",
            "_model_module_version": "1.2.0",
            "_model_name": "LayoutModel",
            "_view_count": null,
            "_view_module": "@jupyter-widgets/base",
            "_view_module_version": "1.2.0",
            "_view_name": "LayoutView",
            "align_content": null,
            "align_items": null,
            "align_self": null,
            "border": null,
            "bottom": null,
            "display": null,
            "flex": null,
            "flex_flow": null,
            "grid_area": null,
            "grid_auto_columns": null,
            "grid_auto_flow": null,
            "grid_auto_rows": null,
            "grid_column": null,
            "grid_gap": null,
            "grid_row": null,
            "grid_template_areas": null,
            "grid_template_columns": null,
            "grid_template_rows": null,
            "height": null,
            "justify_content": null,
            "justify_items": null,
            "left": null,
            "margin": null,
            "max_height": null,
            "max_width": null,
            "min_height": null,
            "min_width": null,
            "object_fit": null,
            "object_position": null,
            "order": null,
            "overflow": null,
            "overflow_x": null,
            "overflow_y": null,
            "padding": null,
            "right": null,
            "top": null,
            "visibility": null,
            "width": null
          }
        },
        "8793aaab2ee74093b208054a1449eae5": {
          "model_module": "@jupyter-widgets/base",
          "model_module_version": "1.2.0",
          "model_name": "LayoutModel",
          "state": {
            "_model_module": "@jupyter-widgets/base",
            "_model_module_version": "1.2.0",
            "_model_name": "LayoutModel",
            "_view_count": null,
            "_view_module": "@jupyter-widgets/base",
            "_view_module_version": "1.2.0",
            "_view_name": "LayoutView",
            "align_content": null,
            "align_items": null,
            "align_self": null,
            "border": null,
            "bottom": null,
            "display": null,
            "flex": null,
            "flex_flow": null,
            "grid_area": null,
            "grid_auto_columns": null,
            "grid_auto_flow": null,
            "grid_auto_rows": null,
            "grid_column": null,
            "grid_gap": null,
            "grid_row": null,
            "grid_template_areas": null,
            "grid_template_columns": null,
            "grid_template_rows": null,
            "height": null,
            "justify_content": null,
            "justify_items": null,
            "left": null,
            "margin": null,
            "max_height": null,
            "max_width": null,
            "min_height": null,
            "min_width": null,
            "object_fit": null,
            "object_position": null,
            "order": null,
            "overflow": null,
            "overflow_x": null,
            "overflow_y": null,
            "padding": null,
            "right": null,
            "top": null,
            "visibility": null,
            "width": null
          }
        },
        "87be1926630b4da6b198b180d6812fd5": {
          "model_module": "@jupyter-widgets/controls",
          "model_module_version": "1.5.0",
          "model_name": "DescriptionStyleModel",
          "state": {
            "_model_module": "@jupyter-widgets/controls",
            "_model_module_version": "1.5.0",
            "_model_name": "DescriptionStyleModel",
            "_view_count": null,
            "_view_module": "@jupyter-widgets/base",
            "_view_module_version": "1.2.0",
            "_view_name": "StyleView",
            "description_width": ""
          }
        },
        "8c8e9dbafde34b578c40d15e9557f39e": {
          "model_module": "@jupyter-widgets/controls",
          "model_module_version": "1.5.0",
          "model_name": "FloatProgressModel",
          "state": {
            "_dom_classes": [],
            "_model_module": "@jupyter-widgets/controls",
            "_model_module_version": "1.5.0",
            "_model_name": "FloatProgressModel",
            "_view_count": null,
            "_view_module": "@jupyter-widgets/controls",
            "_view_module_version": "1.5.0",
            "_view_name": "ProgressView",
            "bar_style": "success",
            "description": "",
            "description_tooltip": null,
            "layout": "IPY_MODEL_73498793e42641a09dcaad409c6aa1ac",
            "max": 4987,
            "min": 0,
            "orientation": "horizontal",
            "style": "IPY_MODEL_ef22e3d1a9a140608a9b7620828e9597",
            "value": 4987
          }
        },
        "8cbfee3978b1413b970e7c3dd12b6379": {
          "model_module": "@jupyter-widgets/controls",
          "model_module_version": "1.5.0",
          "model_name": "DescriptionStyleModel",
          "state": {
            "_model_module": "@jupyter-widgets/controls",
            "_model_module_version": "1.5.0",
            "_model_name": "DescriptionStyleModel",
            "_view_count": null,
            "_view_module": "@jupyter-widgets/base",
            "_view_module_version": "1.2.0",
            "_view_name": "StyleView",
            "description_width": ""
          }
        },
        "8ea2394163e4459896901f37b41a4407": {
          "model_module": "@jupyter-widgets/controls",
          "model_module_version": "1.5.0",
          "model_name": "HTMLModel",
          "state": {
            "_dom_classes": [],
            "_model_module": "@jupyter-widgets/controls",
            "_model_module_version": "1.5.0",
            "_model_name": "HTMLModel",
            "_view_count": null,
            "_view_module": "@jupyter-widgets/controls",
            "_view_module_version": "1.5.0",
            "_view_name": "HTMLView",
            "description": "",
            "description_tooltip": null,
            "layout": "IPY_MODEL_169a55b923304268850944ffb2f1cd3a",
            "placeholder": "​",
            "style": "IPY_MODEL_87be1926630b4da6b198b180d6812fd5",
            "value": " 1.90M/1.90M [00:00&lt;00:00, 19.1MB/s]"
          }
        },
        "9314500344694ea28e4845af1a0ac53e": {
          "model_module": "@jupyter-widgets/controls",
          "model_module_version": "1.5.0",
          "model_name": "HBoxModel",
          "state": {
            "_dom_classes": [],
            "_model_module": "@jupyter-widgets/controls",
            "_model_module_version": "1.5.0",
            "_model_name": "HBoxModel",
            "_view_count": null,
            "_view_module": "@jupyter-widgets/controls",
            "_view_module_version": "1.5.0",
            "_view_name": "HBoxView",
            "box_style": "",
            "children": [
              "IPY_MODEL_1b9b69c97b894f5d9d8b552a5cd5cdf8",
              "IPY_MODEL_8c8e9dbafde34b578c40d15e9557f39e",
              "IPY_MODEL_7cf8dad35948457ebaf5a7b18c38234d"
            ],
            "layout": "IPY_MODEL_0d5f2962853d4b90b187650e326f6d87"
          }
        },
        "9fdc54af8bad44109b834c6ad182d308": {
          "model_module": "@jupyter-widgets/controls",
          "model_module_version": "1.5.0",
          "model_name": "HTMLModel",
          "state": {
            "_dom_classes": [],
            "_model_module": "@jupyter-widgets/controls",
            "_model_module_version": "1.5.0",
            "_model_name": "HTMLModel",
            "_view_count": null,
            "_view_module": "@jupyter-widgets/controls",
            "_view_module_version": "1.5.0",
            "_view_name": "HTMLView",
            "description": "",
            "description_tooltip": null,
            "layout": "IPY_MODEL_83b51be652f340cf8cf0b6978fc347b8",
            "placeholder": "​",
            "style": "IPY_MODEL_7ae09180ebf04af6baf942f52ce5bffa",
            "value": "Downloading data: 100%"
          }
        },
        "af63e811b63e42abb687e027cc20b00b": {
          "model_module": "@jupyter-widgets/controls",
          "model_module_version": "1.5.0",
          "model_name": "DescriptionStyleModel",
          "state": {
            "_model_module": "@jupyter-widgets/controls",
            "_model_module_version": "1.5.0",
            "_model_name": "DescriptionStyleModel",
            "_view_count": null,
            "_view_module": "@jupyter-widgets/base",
            "_view_module_version": "1.2.0",
            "_view_name": "StyleView",
            "description_width": ""
          }
        },
        "b30c2bcc036446d5ac5800ef689d038e": {
          "model_module": "@jupyter-widgets/base",
          "model_module_version": "1.2.0",
          "model_name": "LayoutModel",
          "state": {
            "_model_module": "@jupyter-widgets/base",
            "_model_module_version": "1.2.0",
            "_model_name": "LayoutModel",
            "_view_count": null,
            "_view_module": "@jupyter-widgets/base",
            "_view_module_version": "1.2.0",
            "_view_name": "LayoutView",
            "align_content": null,
            "align_items": null,
            "align_self": null,
            "border": null,
            "bottom": null,
            "display": null,
            "flex": null,
            "flex_flow": null,
            "grid_area": null,
            "grid_auto_columns": null,
            "grid_auto_flow": null,
            "grid_auto_rows": null,
            "grid_column": null,
            "grid_gap": null,
            "grid_row": null,
            "grid_template_areas": null,
            "grid_template_columns": null,
            "grid_template_rows": null,
            "height": null,
            "justify_content": null,
            "justify_items": null,
            "left": null,
            "margin": null,
            "max_height": null,
            "max_width": null,
            "min_height": null,
            "min_width": null,
            "object_fit": null,
            "object_position": null,
            "order": null,
            "overflow": null,
            "overflow_x": null,
            "overflow_y": null,
            "padding": null,
            "right": null,
            "top": null,
            "visibility": null,
            "width": null
          }
        },
        "b4ecdce5ccd8433b8d25edefd7868724": {
          "model_module": "@jupyter-widgets/base",
          "model_module_version": "1.2.0",
          "model_name": "LayoutModel",
          "state": {
            "_model_module": "@jupyter-widgets/base",
            "_model_module_version": "1.2.0",
            "_model_name": "LayoutModel",
            "_view_count": null,
            "_view_module": "@jupyter-widgets/base",
            "_view_module_version": "1.2.0",
            "_view_name": "LayoutView",
            "align_content": null,
            "align_items": null,
            "align_self": null,
            "border": null,
            "bottom": null,
            "display": null,
            "flex": null,
            "flex_flow": null,
            "grid_area": null,
            "grid_auto_columns": null,
            "grid_auto_flow": null,
            "grid_auto_rows": null,
            "grid_column": null,
            "grid_gap": null,
            "grid_row": null,
            "grid_template_areas": null,
            "grid_template_columns": null,
            "grid_template_rows": null,
            "height": null,
            "justify_content": null,
            "justify_items": null,
            "left": null,
            "margin": null,
            "max_height": null,
            "max_width": null,
            "min_height": null,
            "min_width": null,
            "object_fit": null,
            "object_position": null,
            "order": null,
            "overflow": null,
            "overflow_x": null,
            "overflow_y": null,
            "padding": null,
            "right": null,
            "top": null,
            "visibility": null,
            "width": null
          }
        },
        "bd4496bdbdba4260ae48643c01957fb0": {
          "model_module": "@jupyter-widgets/controls",
          "model_module_version": "1.5.0",
          "model_name": "DescriptionStyleModel",
          "state": {
            "_model_module": "@jupyter-widgets/controls",
            "_model_module_version": "1.5.0",
            "_model_name": "DescriptionStyleModel",
            "_view_count": null,
            "_view_module": "@jupyter-widgets/base",
            "_view_module_version": "1.2.0",
            "_view_name": "StyleView",
            "description_width": ""
          }
        },
        "c9b5afe274764e46b5a83ae25ba73f3f": {
          "model_module": "@jupyter-widgets/base",
          "model_module_version": "1.2.0",
          "model_name": "LayoutModel",
          "state": {
            "_model_module": "@jupyter-widgets/base",
            "_model_module_version": "1.2.0",
            "_model_name": "LayoutModel",
            "_view_count": null,
            "_view_module": "@jupyter-widgets/base",
            "_view_module_version": "1.2.0",
            "_view_name": "LayoutView",
            "align_content": null,
            "align_items": null,
            "align_self": null,
            "border": null,
            "bottom": null,
            "display": null,
            "flex": null,
            "flex_flow": null,
            "grid_area": null,
            "grid_auto_columns": null,
            "grid_auto_flow": null,
            "grid_auto_rows": null,
            "grid_column": null,
            "grid_gap": null,
            "grid_row": null,
            "grid_template_areas": null,
            "grid_template_columns": null,
            "grid_template_rows": null,
            "height": null,
            "justify_content": null,
            "justify_items": null,
            "left": null,
            "margin": null,
            "max_height": null,
            "max_width": null,
            "min_height": null,
            "min_width": null,
            "object_fit": null,
            "object_position": null,
            "order": null,
            "overflow": null,
            "overflow_x": null,
            "overflow_y": null,
            "padding": null,
            "right": null,
            "top": null,
            "visibility": null,
            "width": null
          }
        },
        "cd75ce58d7774636bf1c325662ad7624": {
          "model_module": "@jupyter-widgets/controls",
          "model_module_version": "1.5.0",
          "model_name": "HTMLModel",
          "state": {
            "_dom_classes": [],
            "_model_module": "@jupyter-widgets/controls",
            "_model_module_version": "1.5.0",
            "_model_name": "HTMLModel",
            "_view_count": null,
            "_view_module": "@jupyter-widgets/controls",
            "_view_module_version": "1.5.0",
            "_view_name": "HTMLView",
            "description": "",
            "description_tooltip": null,
            "layout": "IPY_MODEL_c9b5afe274764e46b5a83ae25ba73f3f",
            "placeholder": "​",
            "style": "IPY_MODEL_bd4496bdbdba4260ae48643c01957fb0",
            "value": " 5153/5153 [00:00&lt;00:00, 31407.17 examples/s]"
          }
        },
        "d4ba93f75d294fb1b2c633e985121ce9": {
          "model_module": "@jupyter-widgets/controls",
          "model_module_version": "1.5.0",
          "model_name": "HBoxModel",
          "state": {
            "_dom_classes": [],
            "_model_module": "@jupyter-widgets/controls",
            "_model_module_version": "1.5.0",
            "_model_name": "HBoxModel",
            "_view_count": null,
            "_view_module": "@jupyter-widgets/controls",
            "_view_module_version": "1.5.0",
            "_view_name": "HBoxView",
            "box_style": "",
            "children": [
              "IPY_MODEL_1e2cf49c993c4fffbe7cc5b70ab5cf47",
              "IPY_MODEL_441894378cfa4c8fb25a7a5c4be5473e",
              "IPY_MODEL_cd75ce58d7774636bf1c325662ad7624"
            ],
            "layout": "IPY_MODEL_e27409175d31425994ec0ae5e2acdd01"
          }
        },
        "ddcfdaaf0a05435fa0f2079b676ff667": {
          "model_module": "@jupyter-widgets/base",
          "model_module_version": "1.2.0",
          "model_name": "LayoutModel",
          "state": {
            "_model_module": "@jupyter-widgets/base",
            "_model_module_version": "1.2.0",
            "_model_name": "LayoutModel",
            "_view_count": null,
            "_view_module": "@jupyter-widgets/base",
            "_view_module_version": "1.2.0",
            "_view_name": "LayoutView",
            "align_content": null,
            "align_items": null,
            "align_self": null,
            "border": null,
            "bottom": null,
            "display": null,
            "flex": null,
            "flex_flow": null,
            "grid_area": null,
            "grid_auto_columns": null,
            "grid_auto_flow": null,
            "grid_auto_rows": null,
            "grid_column": null,
            "grid_gap": null,
            "grid_row": null,
            "grid_template_areas": null,
            "grid_template_columns": null,
            "grid_template_rows": null,
            "height": null,
            "justify_content": null,
            "justify_items": null,
            "left": null,
            "margin": null,
            "max_height": null,
            "max_width": null,
            "min_height": null,
            "min_width": null,
            "object_fit": null,
            "object_position": null,
            "order": null,
            "overflow": null,
            "overflow_x": null,
            "overflow_y": null,
            "padding": null,
            "right": null,
            "top": null,
            "visibility": null,
            "width": null
          }
        },
        "e27409175d31425994ec0ae5e2acdd01": {
          "model_module": "@jupyter-widgets/base",
          "model_module_version": "1.2.0",
          "model_name": "LayoutModel",
          "state": {
            "_model_module": "@jupyter-widgets/base",
            "_model_module_version": "1.2.0",
            "_model_name": "LayoutModel",
            "_view_count": null,
            "_view_module": "@jupyter-widgets/base",
            "_view_module_version": "1.2.0",
            "_view_name": "LayoutView",
            "align_content": null,
            "align_items": null,
            "align_self": null,
            "border": null,
            "bottom": null,
            "display": null,
            "flex": null,
            "flex_flow": null,
            "grid_area": null,
            "grid_auto_columns": null,
            "grid_auto_flow": null,
            "grid_auto_rows": null,
            "grid_column": null,
            "grid_gap": null,
            "grid_row": null,
            "grid_template_areas": null,
            "grid_template_columns": null,
            "grid_template_rows": null,
            "height": null,
            "justify_content": null,
            "justify_items": null,
            "left": null,
            "margin": null,
            "max_height": null,
            "max_width": null,
            "min_height": null,
            "min_width": null,
            "object_fit": null,
            "object_position": null,
            "order": null,
            "overflow": null,
            "overflow_x": null,
            "overflow_y": null,
            "padding": null,
            "right": null,
            "top": null,
            "visibility": null,
            "width": null
          }
        },
        "e4dfdba0b71742db8e49967a8b8528d5": {
          "model_module": "@jupyter-widgets/controls",
          "model_module_version": "1.5.0",
          "model_name": "HTMLModel",
          "state": {
            "_dom_classes": [],
            "_model_module": "@jupyter-widgets/controls",
            "_model_module_version": "1.5.0",
            "_model_name": "HTMLModel",
            "_view_count": null,
            "_view_module": "@jupyter-widgets/controls",
            "_view_module_version": "1.5.0",
            "_view_name": "HTMLView",
            "description": "",
            "description_tooltip": null,
            "layout": "IPY_MODEL_b30c2bcc036446d5ac5800ef689d038e",
            "placeholder": "​",
            "style": "IPY_MODEL_0d14c3082f5c4b21ac209a493742bc34",
            "value": " 4.82k/4.82k [00:00&lt;00:00, 371kB/s]"
          }
        },
        "ed2021b5a93143df94fcbf91ecfee888": {
          "model_module": "@jupyter-widgets/controls",
          "model_module_version": "1.5.0",
          "model_name": "HTMLModel",
          "state": {
            "_dom_classes": [],
            "_model_module": "@jupyter-widgets/controls",
            "_model_module_version": "1.5.0",
            "_model_name": "HTMLModel",
            "_view_count": null,
            "_view_module": "@jupyter-widgets/controls",
            "_view_module_version": "1.5.0",
            "_view_name": "HTMLView",
            "description": "",
            "description_tooltip": null,
            "layout": "IPY_MODEL_09c32de90315410ba46f3212b8894c06",
            "placeholder": "​",
            "style": "IPY_MODEL_af63e811b63e42abb687e027cc20b00b",
            "value": "Downloading builder script: 100%"
          }
        },
        "ef22e3d1a9a140608a9b7620828e9597": {
          "model_module": "@jupyter-widgets/controls",
          "model_module_version": "1.5.0",
          "model_name": "ProgressStyleModel",
          "state": {
            "_model_module": "@jupyter-widgets/controls",
            "_model_module_version": "1.5.0",
            "_model_name": "ProgressStyleModel",
            "_view_count": null,
            "_view_module": "@jupyter-widgets/base",
            "_view_module_version": "1.2.0",
            "_view_name": "StyleView",
            "bar_color": null,
            "description_width": ""
          }
        },
        "f1ef34abcca844b09f0e409fbb3ea56c": {
          "model_module": "@jupyter-widgets/controls",
          "model_module_version": "1.5.0",
          "model_name": "HBoxModel",
          "state": {
            "_dom_classes": [],
            "_model_module": "@jupyter-widgets/controls",
            "_model_module_version": "1.5.0",
            "_model_name": "HBoxModel",
            "_view_count": null,
            "_view_module": "@jupyter-widgets/controls",
            "_view_module_version": "1.5.0",
            "_view_name": "HBoxView",
            "box_style": "",
            "children": [
              "IPY_MODEL_ed2021b5a93143df94fcbf91ecfee888",
              "IPY_MODEL_757d70f7d5f643e48f8da455ba5c9768",
              "IPY_MODEL_e4dfdba0b71742db8e49967a8b8528d5"
            ],
            "layout": "IPY_MODEL_07930fe609994ee29591ef1b53ad3cb0"
          }
        },
        "f700e94bf1bc4c97a95a0a1f58e4fd2a": {
          "model_module": "@jupyter-widgets/controls",
          "model_module_version": "1.5.0",
          "model_name": "DescriptionStyleModel",
          "state": {
            "_model_module": "@jupyter-widgets/controls",
            "_model_module_version": "1.5.0",
            "_model_name": "DescriptionStyleModel",
            "_view_count": null,
            "_view_module": "@jupyter-widgets/base",
            "_view_module_version": "1.2.0",
            "_view_name": "StyleView",
            "description_width": ""
          }
        }
      }
    }
  },
  "nbformat": 4,
  "nbformat_minor": 0
}
