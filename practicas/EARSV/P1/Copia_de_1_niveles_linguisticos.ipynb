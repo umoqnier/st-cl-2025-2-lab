{
  "cells": [
    {
      "cell_type": "markdown",
      "id": "76b3a996-772a-4be8-a8eb-f1e9ae67d03e",
      "metadata": {
        "id": "76b3a996-772a-4be8-a8eb-f1e9ae67d03e"
      },
      "source": [
        "# 1. Niveles Lingüísticos"
      ]
    },
    {
      "cell_type": "markdown",
      "id": "615a09ab-2b52-440a-a4dc-fd8982c3c0e7",
      "metadata": {
        "id": "615a09ab-2b52-440a-a4dc-fd8982c3c0e7"
      },
      "source": [
        "## Objetivos"
      ]
    },
    {
      "cell_type": "markdown",
      "id": "f034458c-9cb0-4966-a203-3145074c3fca",
      "metadata": {
        "id": "f034458c-9cb0-4966-a203-3145074c3fca"
      },
      "source": [
        "- Trabajar tareas a diferentes niveles lingüísticos (Fonético, Morfólogico, Sintáctico)\n",
        "- Manipularan y recuperará información de datasets disponibles en Github para resolver tareas de NLP\n",
        "- Comparar enfoques basados en reglas y estadísticos para el análisis morfológico"
      ]
    },
    {
      "cell_type": "markdown",
      "id": "3c169487-91d2-4afb-a12a-849c26a5be86",
      "metadata": {
        "id": "3c169487-91d2-4afb-a12a-849c26a5be86"
      },
      "source": [
        "## Fonética y Fonología"
      ]
    },
    {
      "cell_type": "markdown",
      "id": "d0647e1e-a8c5-418f-81c7-31d2e86c88a4",
      "metadata": {
        "id": "d0647e1e-a8c5-418f-81c7-31d2e86c88a4"
      },
      "source": [
        "<center><img src=\"https://upload.wikimedia.org/wikipedia/commons/thumb/8/8f/IPA_chart_2020.svg/660px-IPA_chart_2020.svg.png\"></center"
      ]
    },
    {
      "cell_type": "code",
      "execution_count": null,
      "id": "ecb34504-4988-4fca-82f1-824ba96a0909",
      "metadata": {
        "colab": {
          "base_uri": "https://localhost:8080/",
          "height": 625
        },
        "id": "ecb34504-4988-4fca-82f1-824ba96a0909",
        "outputId": "cc8cb1b7-985e-4526-fbe9-f256f16e1afe"
      },
      "outputs": [
        {
          "output_type": "display_data",
          "data": {
            "text/plain": [
              "<IPython.core.display.HTML object>"
            ],
            "text/html": [
              "<center><iframe width='901' height='600' src='https://www.youtube.com/embed/DcNMCB-Gsn8?controls=1'></iframe></center\n"
            ]
          },
          "metadata": {}
        }
      ],
      "source": [
        "%%HTML\n",
        "<center><iframe width='901' height='600' src='https://www.youtube.com/embed/DcNMCB-Gsn8?controls=1'></iframe></center"
      ]
    },
    {
      "cell_type": "code",
      "execution_count": null,
      "id": "1HPZ7Xpt9kgF",
      "metadata": {
        "colab": {
          "base_uri": "https://localhost:8080/",
          "height": 625
        },
        "id": "1HPZ7Xpt9kgF",
        "outputId": "ce689157-33e7-4f55-a249-e32ca67eae7a"
      },
      "outputs": [
        {
          "output_type": "display_data",
          "data": {
            "text/plain": [
              "<IPython.core.display.HTML object>"
            ],
            "text/html": [
              "<center><iframe width='900' height='600' src='https://www.youtube.com/embed/74nnLh0Vdcc?controls=1'></iframe></center>\n"
            ]
          },
          "metadata": {}
        }
      ],
      "source": [
        "%%HTML\n",
        "<center><iframe width='900' height='600' src='https://www.youtube.com/embed/74nnLh0Vdcc?controls=1'></iframe></center>"
      ]
    },
    {
      "cell_type": "markdown",
      "id": "aa915e8e-038e-4de6-8956-f6221b1d8490",
      "metadata": {
        "id": "aa915e8e-038e-4de6-8956-f6221b1d8490"
      },
      "source": [
        "### International Phonetic Alphabet (IPA)"
      ]
    },
    {
      "cell_type": "markdown",
      "id": "09b4f076-b23b-46a8-9101-e37d79d374c8",
      "metadata": {
        "id": "09b4f076-b23b-46a8-9101-e37d79d374c8"
      },
      "source": [
        "- Las lenguas naturales tienen muchos sonidos diferentes por lo que necesitamos una forma de describirlos independientemente de las lenguas\n",
        "- IPA es una representación escrita de los [sonidos](https://www.ipachart.com/) del [habla](http://ipa-reader.xyz/)"
      ]
    },
    {
      "cell_type": "markdown",
      "id": "19eee353-6fd4-474a-86ca-8382ad51bf0f",
      "metadata": {
        "id": "19eee353-6fd4-474a-86ca-8382ad51bf0f"
      },
      "source": [
        "### Dataset: [IPA-dict](https://github.com/open-dict-data/ipa-dict) de open-dict"
      ]
    },
    {
      "cell_type": "markdown",
      "id": "18f45a54-5f64-408e-98f3-fc31114dc84a",
      "metadata": {
        "id": "18f45a54-5f64-408e-98f3-fc31114dc84a"
      },
      "source": [
        "- Diccionario de palabras para varios idiomas con su representación fonética\n",
        "- Representación simple, una palabra por renglon con el formato:\n",
        "\n",
        "```\n",
        "[PALABRA][TAB][IPA]\n",
        "\n",
        "Ejemplos\n",
        "mariguana\t/maɾiɣwana/\n",
        "zyuganov's   /ˈzjuɡɑnɑvz/, /ˈzuɡɑnɑvz/\n",
        "```"
      ]
    },
    {
      "cell_type": "markdown",
      "id": "7cb52e47-d493-4b30-a991-ba5c4458d047",
      "metadata": {
        "id": "7cb52e47-d493-4b30-a991-ba5c4458d047"
      },
      "source": [
        "- [ISO language codes](https://en.wikipedia.org/wiki/List_of_ISO_639-1_codes)\n",
        "- URL: `https://raw.githubusercontent.com/open-dict-data/ipa-dict/master/data/<iso-lang>`"
      ]
    },
    {
      "cell_type": "markdown",
      "id": "4152e020-fbc0-4ec5-8d51-ccd2e8a089fc",
      "metadata": {
        "id": "4152e020-fbc0-4ec5-8d51-ccd2e8a089fc"
      },
      "source": [
        "#### Explorando el corpus 🗺️"
      ]
    },
    {
      "cell_type": "code",
      "execution_count": null,
      "id": "25b595d7-7201-42bd-abb3-3acf9731d219",
      "metadata": {
        "id": "25b595d7-7201-42bd-abb3-3acf9731d219"
      },
      "outputs": [],
      "source": [
        "IPA_URL = \"https://raw.githubusercontent.com/open-dict-data/ipa-dict/master/data/{lang}.txt\""
      ]
    },
    {
      "cell_type": "code",
      "execution_count": null,
      "id": "3f45ba75-bbd3-4f13-8abf-b822fbf90dda",
      "metadata": {
        "colab": {
          "base_uri": "https://localhost:8080/"
        },
        "id": "3f45ba75-bbd3-4f13-8abf-b822fbf90dda",
        "outputId": "1f1b5aa1-8c94-449a-cfac-b4b771f94dbc",
        "scrolled": true
      },
      "outputs": [
        {
          "output_type": "stream",
          "name": "stdout",
          "text": [
            "['abuellah\\t/əbˈwɛɫə/',\n",
            " \"abuellah's\\t/əbˈwɛɫəz/\",\n",
            " 'abuladze\\t/ˌæbjuˈɫædzi/',\n",
            " 'abundance\\t/əˈbəndəns/',\n",
            " 'abundant\\t/əˈbəndənt/',\n",
            " 'abundantly\\t/əˈbəndəntɫi/',\n",
            " 'aburto\\t/əˈbʊɹˌtoʊ/',\n",
            " \"aburto's\\t/əˈbʊɹˌtoʊz/\",\n",
            " 'abuse\\t/əbˈjus/, /əbˈjuz/',\n",
            " 'abused\\t/əbˈjuzd/']\n",
            "[\"zyuganov's\", '/ˈzjuɡɑnɑvz/, /ˈzuɡɑnɑvz/']\n"
          ]
        }
      ],
      "source": [
        "import requests as r\n",
        "from pprint import pprint as pp\n",
        "\n",
        "response = r.get(IPA_URL.format(lang=\"en_US\"))\n",
        "response.text[:100]\n",
        "\n",
        "ipa_data = response.text.split(\"\\n\")\n",
        "#print(ipa_data[-4:])\n",
        "ipa_data[-1]\n",
        "pp(ipa_data[400:410])\n",
        "\n",
        "# Puede haber mas de una transcipcion asociada a una palabra\n",
        "print(ipa_data[-3].split(\"\\t\"))"
      ]
    },
    {
      "cell_type": "code",
      "execution_count": null,
      "id": "df50823b-11f6-4de3-b12c-8747cfa084bb",
      "metadata": {
        "colab": {
          "base_uri": "https://localhost:8080/"
        },
        "id": "df50823b-11f6-4de3-b12c-8747cfa084bb",
        "outputId": "3a45dfcd-65a8-40a6-9344-f4e723baa86d",
        "scrolled": true
      },
      "outputs": [
        {
          "output_type": "stream",
          "name": "stdout",
          "text": [
            "abs --> ['/ˈæbz/', '/ˈeɪˈbiˈɛs/']\n",
            "absolve --> ['/æbˈzɑɫv/', '/əbˈzɑɫv/']\n",
            "absolved --> ['/æbˈzɑɫvd/', '/əbˈzɑɫvd/']\n",
            "absolves --> ['/æbˈzɑɫvz/', '/əbˈzɑɫvz/']\n",
            "absolving --> ['/æbˈzɑɫvɪŋ/', '/əbˈzɑɫvɪŋ/']\n",
            "absorption --> ['/əbˈsɔɹpʃən/', '/əbˈzɔɹpʃən/']\n",
            "abstain --> ['/æbˈsteɪn/', '/əbˈsteɪn/']\n",
            "abstained --> ['/æbˈsteɪnd/', '/əbˈsteɪnd/']\n",
            "abstaining --> ['/æbˈsteɪnɪŋ/', '/əbˈsteɪnɪŋ/']\n",
            "abstention --> ['/æbˈstɛntʃən/', '/əbˈstɛntʃən/']\n",
            "abstentions --> ['/æbˈstɛntʃənz/', '/əbˈstɛntʃənz/']\n",
            "abstract --> ['/ˈæbˌstɹækt/', '/æbˈstɹækt/']\n",
            "abt --> ['/ˈæbt/', '/ˈeɪˈbiˈti/']\n",
            "abts --> ['/ˈæbts/', '/ˈeɪˈbiˈtiˈɛs/', '/ˈeɪˈbiˈtiz/']\n",
            "abuse --> ['/əbˈjus/', '/əbˈjuz/']\n",
            "abuses --> ['/əbˈjusɪz/', '/əbˈjuzɪz/']\n",
            "abzug --> ['/ˈæbˌzəɡ/', '/ˈæbˌzʊɡ/']\n",
            "academicians --> ['/ˌækədəˈmɪʃənz/', '/əˌkædəˈmɪʃənz/']\n",
            "accent --> ['/ˈækˌsɛnt/', '/əkˈsɛnt/']\n",
            "accept --> ['/ækˈsɛpt/', '/əkˈsɛpt/']\n",
            "acceptable --> ['/ækˈsɛptəbəɫ/', '/əkˈsɛptəbəɫ/']\n",
            "acceptably --> ['/ækˈsɛptəbɫi/', '/əkˈsɛptəbɫi/']\n",
            "acceptance --> ['/ækˈsɛptəns/', '/əkˈsɛptəns/']\n",
            "accepted --> ['/ækˈsɛptɪd/', '/əkˈsɛptɪd/']\n",
            "accepting --> ['/ækˈsɛptɪŋ/', '/əkˈsɛptɪŋ/']\n",
            "accidental --> ['/ˌæksəˈdɛnəɫ/', '/ˌæksəˈdɛntəɫ/']\n",
            "accidentally --> ['/ˌæksəˈdɛnəɫi/', '/ˌæksəˈdɛntəɫi/']\n"
          ]
        }
      ],
      "source": [
        "for data in ipa_data[300:500]:\n",
        "    word, ipa = data.split('\\t')\n",
        "    representations = ipa.split(\", \")\n",
        "    if len(representations) >= 2:\n",
        "        print(f\"{word} --> {representations}\")"
      ]
    },
    {
      "cell_type": "markdown",
      "id": "c671dbe4-1f99-443a-afb9-3f92951bef35",
      "metadata": {
        "id": "c671dbe4-1f99-443a-afb9-3f92951bef35"
      },
      "source": [
        "#### Obtención y manipulación"
      ]
    },
    {
      "cell_type": "code",
      "execution_count": null,
      "id": "1fdc23af-9a0b-470d-a5f1-e5bddfa0b53e",
      "metadata": {
        "id": "1fdc23af-9a0b-470d-a5f1-e5bddfa0b53e"
      },
      "outputs": [],
      "source": [
        "import http\n",
        "\n",
        "def download_ipa_corpus(iso_lang: str) -> str:\n",
        "    \"\"\"Get ipa-dict file from Github\n",
        "\n",
        "    Parameters:\n",
        "    -----------\n",
        "    iso_lang:\n",
        "        Language as iso code\n",
        "\n",
        "    Results:\n",
        "    --------\n",
        "    dict:\n",
        "        Dictionary with words as keys and phonetic representation\n",
        "        as values for a given lang code\n",
        "    \"\"\"\n",
        "    print(f\"Downloading {iso_lang}\", end=\"::\")\n",
        "    response = r.get(IPA_URL.format(lang=iso_lang))\n",
        "    status_code = response.status_code\n",
        "    print(f\"status={status_code}\")\n",
        "    if status_code != http.HTTPStatus.OK:\n",
        "        print(f\"ERROR on {iso_lang} :(\")\n",
        "        return \"\"\n",
        "    return response.text"
      ]
    },
    {
      "cell_type": "code",
      "execution_count": null,
      "id": "4a2cab84-505b-4cdb-91a9-3e9c3410e1a0",
      "metadata": {
        "colab": {
          "base_uri": "https://localhost:8080/",
          "height": 53
        },
        "id": "4a2cab84-505b-4cdb-91a9-3e9c3410e1a0",
        "outputId": "88fc4e22-955d-4e94-ef8b-e58d50cbc604"
      },
      "outputs": [
        {
          "output_type": "stream",
          "name": "stdout",
          "text": [
            "Downloading en_US::status=200\n"
          ]
        },
        {
          "output_type": "execute_result",
          "data": {
            "text/plain": [
              "\"'bout\\t/ˈbaʊt/\\n'cause\\t/kəz/\\n'course\\t/ˈkɔɹs/\\n'cuse\\t/\""
            ],
            "application/vnd.google.colaboratory.intrinsic+json": {
              "type": "string"
            }
          },
          "metadata": {},
          "execution_count": 7
        }
      ],
      "source": [
        "download_ipa_corpus(\"en_US\").rstrip()[:50]"
      ]
    },
    {
      "cell_type": "code",
      "execution_count": null,
      "id": "0a83a2a2-8e0e-4881-98f3-b9251a6be778",
      "metadata": {
        "id": "0a83a2a2-8e0e-4881-98f3-b9251a6be778"
      },
      "outputs": [],
      "source": [
        "def parse_response(response: str) -> dict:\n",
        "    \"\"\"Parse text response from ipa-dict to python dict\n",
        "\n",
        "    Each row have the format:\n",
        "    [WORD][TAB]/[IPA]/(, /[IPA]/)?\n",
        "\n",
        "    Parameters\n",
        "    ----------\n",
        "    response: str\n",
        "        ipa-dict raw text\n",
        "\n",
        "    Returns\n",
        "    -------\n",
        "    dict:\n",
        "        A dictionary with the word as key and the phonetic\n",
        "        representations as value\n",
        "    \"\"\"\n",
        "    ipa_list = response.rstrip().split(\"\\n\")\n",
        "    result = {}\n",
        "    for item in ipa_list:\n",
        "        if item == '':\n",
        "            continue\n",
        "        item_list = item.split(\"\\t\")\n",
        "        result[item_list[0]] = item_list[1]\n",
        "    return result"
      ]
    },
    {
      "cell_type": "code",
      "execution_count": null,
      "id": "90b71697-bdec-45a8-8015-b8effc8b9f46",
      "metadata": {
        "colab": {
          "base_uri": "https://localhost:8080/",
          "height": 53
        },
        "id": "90b71697-bdec-45a8-8015-b8effc8b9f46",
        "outputId": "ff128ac4-bc96-4296-ea38-36e405e5df83"
      },
      "outputs": [
        {
          "output_type": "stream",
          "name": "stdout",
          "text": [
            "Downloading en_US::status=200\n"
          ]
        },
        {
          "output_type": "execute_result",
          "data": {
            "text/plain": [
              "'/ˈɑbəbə/, /əˈbɑbə/'"
            ],
            "application/vnd.google.colaboratory.intrinsic+json": {
              "type": "string"
            }
          },
          "metadata": {},
          "execution_count": 9
        }
      ],
      "source": [
        "parse_response(download_ipa_corpus(\"en_US\"))[\"ababa\"]"
      ]
    },
    {
      "cell_type": "code",
      "execution_count": null,
      "id": "dc377ece-bb15-488a-802b-e74a748e1da0",
      "metadata": {
        "colab": {
          "base_uri": "https://localhost:8080/"
        },
        "id": "dc377ece-bb15-488a-802b-e74a748e1da0",
        "outputId": "02e1c0ab-025f-4cc8-8777-db80fc666b5e"
      },
      "outputs": [
        {
          "output_type": "stream",
          "name": "stdout",
          "text": [
            "Downloading es_MX::status=200\n"
          ]
        }
      ],
      "source": [
        "es_mx_ipa = parse_response(download_ipa_corpus(\"es_MX\"))"
      ]
    },
    {
      "cell_type": "code",
      "execution_count": null,
      "id": "b834aaba-0716-41b5-935b-7f4a61e9da03",
      "metadata": {
        "id": "b834aaba-0716-41b5-935b-7f4a61e9da03"
      },
      "outputs": [],
      "source": [
        "def get_ipa_transcriptions(word: str, dataset: dict) -> list[str]:\n",
        "    \"\"\"Search for a word in an IPA phonetics dict\n",
        "\n",
        "    Given a word this function return the IPA transcriptions\n",
        "\n",
        "    Parameters:\n",
        "    -----------\n",
        "    word: str\n",
        "        A word to search in the dataset\n",
        "    dataset: dict\n",
        "        A dataset for a given language code\n",
        "\n",
        "    Returns\n",
        "    -------\n",
        "    list[str]:\n",
        "        List with posible transcriptions if any,\n",
        "        else an empty list\n",
        "    \"\"\"\n",
        "    return dataset.get(word.lower(), \"\").split(\", \")"
      ]
    },
    {
      "cell_type": "code",
      "execution_count": null,
      "id": "d89e45e2-5010-4701-84fd-e62b910233e7",
      "metadata": {
        "colab": {
          "base_uri": "https://localhost:8080/"
        },
        "id": "d89e45e2-5010-4701-84fd-e62b910233e7",
        "outputId": "e5d4b4a4-95e5-4729-f8bb-474b5d65b24b"
      },
      "outputs": [
        {
          "output_type": "execute_result",
          "data": {
            "text/plain": [
              "['/maʝonesa/']"
            ]
          },
          "metadata": {},
          "execution_count": 12
        }
      ],
      "source": [
        "get_ipa_transcriptions(\"mayonesa\", es_mx_ipa)"
      ]
    },
    {
      "cell_type": "markdown",
      "id": "37f69f04-ad55-4ca2-8bb1-d52fa58c4051",
      "metadata": {
        "id": "37f69f04-ad55-4ca2-8bb1-d52fa58c4051"
      },
      "source": [
        "#### Obtengamos datasets"
      ]
    },
    {
      "cell_type": "code",
      "execution_count": null,
      "id": "0828cb63-19b9-4cac-8df2-7dc8282fc4c3",
      "metadata": {
        "colab": {
          "base_uri": "https://localhost:8080/"
        },
        "id": "0828cb63-19b9-4cac-8df2-7dc8282fc4c3",
        "outputId": "9bf09c9d-6537-4f08-9c69-7d48b2ca6733"
      },
      "outputs": [
        {
          "output_type": "stream",
          "name": "stdout",
          "text": [
            "Downloading es_MX::status=200\n",
            "Downloading ja::status=200\n",
            "Downloading en_US::status=200\n",
            "Downloading fr_FR::status=200\n"
          ]
        }
      ],
      "source": [
        "# Get datasets\n",
        "dataset_es_mx = parse_response(download_ipa_corpus(\"es_MX\"))\n",
        "dataset_ja = parse_response(download_ipa_corpus(\"ja\"))\n",
        "dataset_en_us = parse_response(download_ipa_corpus(\"en_US\"))\n",
        "dataset_fr = parse_response(download_ipa_corpus(\"fr_FR\"))"
      ]
    },
    {
      "cell_type": "code",
      "execution_count": null,
      "id": "694ef1c1-871e-407e-9ce5-5e177804f72f",
      "metadata": {
        "colab": {
          "base_uri": "https://localhost:8080/"
        },
        "id": "694ef1c1-871e-407e-9ce5-5e177804f72f",
        "outputId": "4115525b-c61d-4622-8e03-f0727ba3ae8e"
      },
      "outputs": [
        {
          "output_type": "execute_result",
          "data": {
            "text/plain": [
              "['/ˈbjutəfəɫ/']"
            ]
          },
          "metadata": {},
          "execution_count": 14
        }
      ],
      "source": [
        "# Simple query\n",
        "get_ipa_transcriptions(\"beautiful\", dataset_en_us)"
      ]
    },
    {
      "cell_type": "code",
      "execution_count": null,
      "id": "04a5fdbb-3acc-4e34-9685-61a591f2b598",
      "metadata": {
        "colab": {
          "base_uri": "https://localhost:8080/"
        },
        "id": "04a5fdbb-3acc-4e34-9685-61a591f2b598",
        "outputId": "d4f0b8ce-33fc-44b9-9056-04305ecc316f"
      },
      "outputs": [
        {
          "output_type": "stream",
          "name": "stdout",
          "text": [
            "dog -> ['/ˈdɔɡ/'] 🐶\n",
            "mariguana -> ['/maɾiɣwana/'] 🪴\n",
            "猫 - > ['/neko/', '/nekoma/'] 🐈\n",
            "croissant -> ['/kʁwasɑ̃/'] 🥐\n"
          ]
        }
      ],
      "source": [
        "# Examples\n",
        "print(f\"dog -> {get_ipa_transcriptions('dog', dataset_en_us)} 🐶\")\n",
        "print(f\"mariguana -> {get_ipa_transcriptions('mariguana', dataset_es_mx)} 🪴\")\n",
        "print(f\"猫 - > {get_ipa_transcriptions('猫', dataset_ja)} 🐈\")\n",
        "print(f\"croissant -> {get_ipa_transcriptions('croissant', dataset_fr)} 🥐\")"
      ]
    },
    {
      "cell_type": "code",
      "execution_count": null,
      "id": "9001ea35-855f-499b-a5b9-3c70a0ba7397",
      "metadata": {
        "colab": {
          "base_uri": "https://localhost:8080/"
        },
        "id": "9001ea35-855f-499b-a5b9-3c70a0ba7397",
        "outputId": "aed13ba4-ef88-4f75-84df-1f1e1c8f77ad"
      },
      "outputs": [
        {
          "output_type": "stream",
          "name": "stdout",
          "text": [
            "[es_MX] hotel | /otel/\n",
            "[en_US] hotel | /hoʊˈtɛɫ/\n"
          ]
        }
      ],
      "source": [
        "# Diferentes formas de pronunciar\n",
        "print(f\"[es_MX] hotel | {dataset_es_mx['hotel']}\")\n",
        "print(f\"[en_US] hotel | {dataset_en_us['hotel']}\")"
      ]
    },
    {
      "cell_type": "code",
      "execution_count": null,
      "id": "9fc9c19c-f6f4-4e35-9155-71aacaef1a05",
      "metadata": {
        "colab": {
          "base_uri": "https://localhost:8080/"
        },
        "id": "9fc9c19c-f6f4-4e35-9155-71aacaef1a05",
        "outputId": "eec4e075-bdc9-40ed-ce74-27b46d16f78a"
      },
      "outputs": [
        {
          "output_type": "stream",
          "name": "stdout",
          "text": [
            "[ja] ホテル | /hoteɾɯ/\n",
            "[fr] hôtel | /otɛl/\n"
          ]
        }
      ],
      "source": [
        "print(f\"[ja] ホテル | {dataset_ja['ホテル']}\")\n",
        "print(f\"[fr] hôtel | {dataset_fr['hôtel']}\")"
      ]
    },
    {
      "cell_type": "markdown",
      "id": "41ca5bf8-93b1-4b10-9596-02bce9caccb8",
      "metadata": {
        "id": "41ca5bf8-93b1-4b10-9596-02bce9caccb8"
      },
      "source": [
        "#### 🧙🏼‍♂️ Ejercicio: Obtener la distribución de frecuencias de los símbolos fonológicos para español"
      ]
    },
    {
      "cell_type": "code",
      "execution_count": null,
      "id": "d616b9ef-396a-479b-adfd-1e15eab3fe37",
      "metadata": {
        "id": "d616b9ef-396a-479b-adfd-1e15eab3fe37"
      },
      "outputs": [],
      "source": [
        "from collections import defaultdict\n",
        "import pandas as pd\n",
        "import matplotlib.pyplot as plt"
      ]
    },
    {
      "cell_type": "code",
      "execution_count": null,
      "id": "d3868dcd-eb1b-4e4a-9f52-ad7e2be72971",
      "metadata": {
        "id": "d3868dcd-eb1b-4e4a-9f52-ad7e2be72971"
      },
      "outputs": [],
      "source": [
        "\n",
        "def get_phone_symbols_freq(dataset: dict):\n",
        "    freqs = defaultdict(int)\n",
        "    ipas = [_.strip(\"/\") for _ in dataset.values()]\n",
        "    unique_ipas = set(ipas)\n",
        "    for ipa in unique_ipas:\n",
        "        for char in ipa:\n",
        "            freqs[char] += 1\n",
        "    return freqs"
      ]
    },
    {
      "cell_type": "code",
      "execution_count": null,
      "id": "ijDBSOM5UB5i",
      "metadata": {
        "id": "ijDBSOM5UB5i"
      },
      "outputs": [],
      "source": [
        "freqs_es = get_phone_symbols_freq(dataset_es_mx)\n",
        "# Sorted by freq number (d[1]) descendent (reverse=True)\n",
        "distribution_es = dict(sorted(freqs_es.items(), key=lambda d: d[1], reverse=True))\n",
        "df_es = pd.DataFrame.from_dict(distribution_es, orient='index')"
      ]
    },
    {
      "cell_type": "markdown",
      "id": "aeb6c269-ad75-4e49-9090-247dc9a60231",
      "metadata": {
        "id": "aeb6c269-ad75-4e49-9090-247dc9a60231"
      },
      "source": [
        "#### Encontrar homófonos (palabras con el mismo sonido pero distina ortografía)\n",
        "\n",
        "- Ejemplos: Casa-Caza, Vaya-Valla"
      ]
    },
    {
      "cell_type": "code",
      "execution_count": null,
      "id": "-UXEnSv6700t",
      "metadata": {
        "colab": {
          "base_uri": "https://localhost:8080/"
        },
        "id": "-UXEnSv6700t",
        "outputId": "f76412bb-c25b-412e-b7ce-f91984a20daf"
      },
      "outputs": [
        {
          "output_type": "stream",
          "name": "stdout",
          "text": [
            "/bexetas/ => ['vegetas', 'vejetas']\n",
            "/bexete/ => ['vegete', 'vejete']\n",
            "/bexetes/ => ['vegetes', 'vejetes']\n",
            "/bexes/ => ['vejes', 'vejez']\n",
            "/beɾas/ => ['veras', 'veraz']\n",
            "/bise/ => ['vice', 'vise']\n",
            "/bises/ => ['vices', 'vises']\n",
            "/biβas/ => ['vivas', 'vivaz']\n",
            "/bos/ => ['vos', 'voz']\n",
            "/ʝak/ => ['yac', 'yak']\n"
          ]
        }
      ],
      "source": [
        "from collections import Counter\n",
        "\n",
        "transcription_counts = Counter(dataset_es_mx.values())\n",
        "duplicated_transcriptions = [transcription for transcription, freq in transcription_counts.items() if freq > 1]\n",
        "\n",
        "for ipa in duplicated_transcriptions[-10:]:\n",
        "    words = [word for word, transcription in dataset_es_mx.items() if transcription == ipa]\n",
        "    print(f\"{ipa} => {words}\")"
      ]
    },
    {
      "cell_type": "markdown",
      "id": "a6e06a95-ceb6-49c0-bcbb-ff456976e510",
      "metadata": {
        "id": "a6e06a95-ceb6-49c0-bcbb-ff456976e510"
      },
      "source": [
        "#### Obteniendo todos los datos"
      ]
    },
    {
      "cell_type": "code",
      "execution_count": null,
      "id": "9d92e8bd-53c9-4f2a-b926-b2de8ac19357",
      "metadata": {
        "id": "9d92e8bd-53c9-4f2a-b926-b2de8ac19357"
      },
      "outputs": [],
      "source": [
        "lang_codes = {\n",
        "    \"ar\": \"Arabic (Modern Standard)\",\n",
        "    \"de\": \"German\",\n",
        "    \"en_UK\": \"English (Received Pronunciation)\",\n",
        "    \"en_US\": \"English (General American)\",\n",
        "    \"eo\": \"Esperanto\",\n",
        "    \"es_ES\": \"Spanish (Spain)\",\n",
        "    \"es_MX\": \"Spanish (Mexico)\",\n",
        "    \"fa\": \"Persian\",\n",
        "    \"fi\": \"Finnish\",\n",
        "    \"fr_FR\": \"French (France)\",\n",
        "    \"fr_QC\": \"French (Québec)\",\n",
        "    \"is\": \"Icelandic\",\n",
        "    \"ja\": \"Japanese\",\n",
        "    \"jam\": \"Jamaican Creole\",\n",
        "    \"km\": \"Khmer\",\n",
        "    \"ko\": \"Korean\",\n",
        "    \"ma\": \"Malay (Malaysian and Indonesian)\",\n",
        "    \"nb\": \"Norwegian Bokmål\",\n",
        "    \"nl\": \"Dutch\",\n",
        "    \"or\": \"Odia\",\n",
        "    \"ro\": \"Romanian\",\n",
        "    \"sv\": \"Swedish\",\n",
        "    \"sw\": \"Swahili\",\n",
        "    \"tts\": \"Isan\",\n",
        "    \"vi_C\": \"Vietnamese (Central)\",\n",
        "    \"vi_N\": \"Vietnamese (Northern)\",\n",
        "    \"vi_S\": \"Vietnamese (Southern)\",\n",
        "    \"yue\": \"Cantonese\",\n",
        "    \"zh_hans\": \"Mandarin (Simplified)\",\n",
        "    \"zh_hant\": \"Mandarin (Traditional)\"\n",
        "}\n",
        "iso_lang_codes = list(lang_codes.keys())"
      ]
    },
    {
      "cell_type": "code",
      "execution_count": null,
      "id": "aaf29cd0-be3c-4821-a608-71275da4852e",
      "metadata": {
        "id": "aaf29cd0-be3c-4821-a608-71275da4852e"
      },
      "outputs": [],
      "source": [
        "def get_corpora() -> dict:\n",
        "    \"\"\"Download corpora from ipa-dict github\n",
        "\n",
        "    Given a list of iso lang codes download available datasets.\n",
        "\n",
        "    Returns\n",
        "    -------\n",
        "    dict\n",
        "        Lang codes as keys and dictionary with words-transcriptions\n",
        "        as values\n",
        "    \"\"\"\n",
        "    return {\n",
        "        code: parse_response(download_ipa_corpus(code))\n",
        "         for code in iso_lang_codes\n",
        "        }"
      ]
    },
    {
      "cell_type": "code",
      "execution_count": null,
      "id": "f04bc065-584b-4373-bc7f-9e328793bbe4",
      "metadata": {
        "colab": {
          "base_uri": "https://localhost:8080/"
        },
        "id": "f04bc065-584b-4373-bc7f-9e328793bbe4",
        "outputId": "afdd1f45-e615-49de-914c-2ad385952f49",
        "scrolled": true
      },
      "outputs": [
        {
          "output_type": "stream",
          "name": "stdout",
          "text": [
            "Downloading ar::status=200\n",
            "Downloading de::status=200\n",
            "Downloading en_UK::status=200\n",
            "Downloading en_US::status=200\n",
            "Downloading eo::status=200\n",
            "Downloading es_ES::status=200\n",
            "Downloading es_MX::status=200\n",
            "Downloading fa::status=200\n",
            "Downloading fi::status=200\n",
            "Downloading fr_FR::status=200\n",
            "Downloading fr_QC::status=200\n",
            "Downloading is::status=200\n",
            "Downloading ja::status=200\n",
            "Downloading jam::status=200\n",
            "Downloading km::status=200\n",
            "Downloading ko::status=200\n",
            "Downloading ma::status=200\n",
            "Downloading nb::status=200\n",
            "Downloading nl::status=200\n",
            "Downloading or::status=200\n",
            "Downloading ro::status=200\n",
            "Downloading sv::status=200\n",
            "Downloading sw::status=200\n",
            "Downloading tts::status=200\n",
            "Downloading vi_C::status=200\n",
            "Downloading vi_N::status=200\n",
            "Downloading vi_S::status=200\n",
            "Downloading yue::status=200\n",
            "Downloading zh_hans::status=200\n",
            "Downloading zh_hant::status=200\n"
          ]
        }
      ],
      "source": [
        "data = get_corpora()"
      ]
    },
    {
      "cell_type": "markdown",
      "id": "41cc36cd-7919-4372-ada2-d9f52432b56c",
      "metadata": {
        "id": "41cc36cd-7919-4372-ada2-d9f52432b56c"
      },
      "source": [
        "#### Sistema de búsqueda (naïve)"
      ]
    },
    {
      "cell_type": "code",
      "execution_count": null,
      "id": "26b1bcf5-f8ca-42ab-995a-e28d9fcc47d3",
      "metadata": {
        "id": "26b1bcf5-f8ca-42ab-995a-e28d9fcc47d3"
      },
      "outputs": [],
      "source": [
        "from rich import print as rprint\n",
        "from rich.columns import Columns\n",
        "from rich.panel import Panel\n",
        "from rich.text import Text"
      ]
    },
    {
      "cell_type": "code",
      "execution_count": null,
      "id": "24424a3c-70df-416f-8923-6bcd2a435007",
      "metadata": {
        "id": "24424a3c-70df-416f-8923-6bcd2a435007"
      },
      "outputs": [],
      "source": [
        "def get_formated_string(code: str, name: str):\n",
        "    return f\"[b]{name}[/b]\\n[yellow]{code}\""
      ]
    },
    {
      "cell_type": "code",
      "execution_count": null,
      "id": "bd09c65f-c559-4571-98a8-20c0d2c0308e",
      "metadata": {
        "colab": {
          "base_uri": "https://localhost:8080/",
          "height": 741
        },
        "id": "bd09c65f-c559-4571-98a8-20c0d2c0308e",
        "outputId": "944192f4-a306-4068-dae9-a1cd3ec0ef78"
      },
      "outputs": [
        {
          "output_type": "display_data",
          "data": {
            "text/plain": [
              "╭─────────────────────────────────────────────────────────────────────────────────────────────────────────────────╮\n",
              "│ \u001b[1m                                      Representación fonética de palabras                                      \u001b[0m │\n",
              "╰─────────────────────────────────────────────────────────────────────────────────────────────────────────────────╯\n"
            ],
            "text/html": [
              "<pre style=\"white-space:pre;overflow-x:auto;line-height:normal;font-family:Menlo,'DejaVu Sans Mono',consolas,'Courier New',monospace\">╭─────────────────────────────────────────────────────────────────────────────────────────────────────────────────╮\n",
              "│ <span style=\"font-weight: bold\">                                      Representación fonética de palabras                                      </span> │\n",
              "╰─────────────────────────────────────────────────────────────────────────────────────────────────────────────────╯\n",
              "</pre>\n"
            ]
          },
          "metadata": {}
        },
        {
          "output_type": "display_data",
          "data": {
            "text/plain": [
              "╭────────────────────────────╮ ╭──────────────────────────────────╮ ╭──────────────────────────────────╮\n",
              "│ \u001b[1mArabic (Modern Standard)\u001b[0m   │ │ \u001b[1mGerman\u001b[0m                           │ │ \u001b[1mEnglish (Received Pronunciation)\u001b[0m │\n",
              "│ \u001b[33mar\u001b[0m                         │ │ \u001b[33mde\u001b[0m                               │ │ \u001b[33men_UK\u001b[0m                            │\n",
              "╰────────────────────────────╯ ╰──────────────────────────────────╯ ╰──────────────────────────────────╯\n",
              "╭────────────────────────────╮ ╭──────────────────────────────────╮ ╭──────────────────────────────────╮\n",
              "│ \u001b[1mEnglish (General American)\u001b[0m │ │ \u001b[1mEsperanto\u001b[0m                        │ │ \u001b[1mSpanish (Spain)\u001b[0m                  │\n",
              "│ \u001b[33men_US\u001b[0m                      │ │ \u001b[33meo\u001b[0m                               │ │ \u001b[33mes_ES\u001b[0m                            │\n",
              "╰────────────────────────────╯ ╰──────────────────────────────────╯ ╰──────────────────────────────────╯\n",
              "╭────────────────────────────╮ ╭──────────────────────────────────╮ ╭──────────────────────────────────╮\n",
              "│ \u001b[1mSpanish (Mexico)\u001b[0m           │ │ \u001b[1mPersian\u001b[0m                          │ │ \u001b[1mFinnish\u001b[0m                          │\n",
              "│ \u001b[33mes_MX\u001b[0m                      │ │ \u001b[33mfa\u001b[0m                               │ │ \u001b[33mfi\u001b[0m                               │\n",
              "╰────────────────────────────╯ ╰──────────────────────────────────╯ ╰──────────────────────────────────╯\n",
              "╭────────────────────────────╮ ╭──────────────────────────────────╮ ╭──────────────────────────────────╮\n",
              "│ \u001b[1mFrench (France)\u001b[0m            │ │ \u001b[1mFrench (Québec)\u001b[0m                  │ │ \u001b[1mIcelandic\u001b[0m                        │\n",
              "│ \u001b[33mfr_FR\u001b[0m                      │ │ \u001b[33mfr_QC\u001b[0m                            │ │ \u001b[33mis\u001b[0m                               │\n",
              "╰────────────────────────────╯ ╰──────────────────────────────────╯ ╰──────────────────────────────────╯\n",
              "╭────────────────────────────╮ ╭──────────────────────────────────╮ ╭──────────────────────────────────╮\n",
              "│ \u001b[1mJapanese\u001b[0m                   │ │ \u001b[1mJamaican Creole\u001b[0m                  │ │ \u001b[1mKhmer\u001b[0m                            │\n",
              "│ \u001b[33mja\u001b[0m                         │ │ \u001b[33mjam\u001b[0m                              │ │ \u001b[33mkm\u001b[0m                               │\n",
              "╰────────────────────────────╯ ╰──────────────────────────────────╯ ╰──────────────────────────────────╯\n",
              "╭────────────────────────────╮ ╭──────────────────────────────────╮ ╭──────────────────────────────────╮\n",
              "│ \u001b[1mKorean\u001b[0m                     │ │ \u001b[1mMalay (Malaysian and Indonesian)\u001b[0m │ │ \u001b[1mNorwegian Bokmål\u001b[0m                 │\n",
              "│ \u001b[33mko\u001b[0m                         │ │ \u001b[33mma\u001b[0m                               │ │ \u001b[33mnb\u001b[0m                               │\n",
              "╰────────────────────────────╯ ╰──────────────────────────────────╯ ╰──────────────────────────────────╯\n",
              "╭────────────────────────────╮ ╭──────────────────────────────────╮ ╭──────────────────────────────────╮\n",
              "│ \u001b[1mDutch\u001b[0m                      │ │ \u001b[1mOdia\u001b[0m                             │ │ \u001b[1mRomanian\u001b[0m                         │\n",
              "│ \u001b[33mnl\u001b[0m                         │ │ \u001b[33mor\u001b[0m                               │ │ \u001b[33mro\u001b[0m                               │\n",
              "╰────────────────────────────╯ ╰──────────────────────────────────╯ ╰──────────────────────────────────╯\n",
              "╭────────────────────────────╮ ╭──────────────────────────────────╮ ╭──────────────────────────────────╮\n",
              "│ \u001b[1mSwedish\u001b[0m                    │ │ \u001b[1mSwahili\u001b[0m                          │ │ \u001b[1mIsan\u001b[0m                             │\n",
              "│ \u001b[33msv\u001b[0m                         │ │ \u001b[33msw\u001b[0m                               │ │ \u001b[33mtts\u001b[0m                              │\n",
              "╰────────────────────────────╯ ╰──────────────────────────────────╯ ╰──────────────────────────────────╯\n",
              "╭────────────────────────────╮ ╭──────────────────────────────────╮ ╭──────────────────────────────────╮\n",
              "│ \u001b[1mVietnamese (Central)\u001b[0m       │ │ \u001b[1mVietnamese (Northern)\u001b[0m            │ │ \u001b[1mVietnamese (Southern)\u001b[0m            │\n",
              "│ \u001b[33mvi_C\u001b[0m                       │ │ \u001b[33mvi_N\u001b[0m                             │ │ \u001b[33mvi_S\u001b[0m                             │\n",
              "╰────────────────────────────╯ ╰──────────────────────────────────╯ ╰──────────────────────────────────╯\n",
              "╭────────────────────────────╮ ╭──────────────────────────────────╮ ╭──────────────────────────────────╮\n",
              "│ \u001b[1mCantonese\u001b[0m                  │ │ \u001b[1mMandarin (Simplified)\u001b[0m            │ │ \u001b[1mMandarin (Traditional)\u001b[0m           │\n",
              "│ \u001b[33myue\u001b[0m                        │ │ \u001b[33mzh_hans\u001b[0m                          │ │ \u001b[33mzh_hant\u001b[0m                          │\n",
              "╰────────────────────────────╯ ╰──────────────────────────────────╯ ╰──────────────────────────────────╯\n"
            ],
            "text/html": [
              "<pre style=\"white-space:pre;overflow-x:auto;line-height:normal;font-family:Menlo,'DejaVu Sans Mono',consolas,'Courier New',monospace\">╭────────────────────────────╮ ╭──────────────────────────────────╮ ╭──────────────────────────────────╮\n",
              "│ <span style=\"font-weight: bold\">Arabic (Modern Standard)</span>   │ │ <span style=\"font-weight: bold\">German</span>                           │ │ <span style=\"font-weight: bold\">English (Received Pronunciation)</span> │\n",
              "│ <span style=\"color: #808000; text-decoration-color: #808000\">ar</span>                         │ │ <span style=\"color: #808000; text-decoration-color: #808000\">de</span>                               │ │ <span style=\"color: #808000; text-decoration-color: #808000\">en_UK</span>                            │\n",
              "╰────────────────────────────╯ ╰──────────────────────────────────╯ ╰──────────────────────────────────╯\n",
              "╭────────────────────────────╮ ╭──────────────────────────────────╮ ╭──────────────────────────────────╮\n",
              "│ <span style=\"font-weight: bold\">English (General American)</span> │ │ <span style=\"font-weight: bold\">Esperanto</span>                        │ │ <span style=\"font-weight: bold\">Spanish (Spain)</span>                  │\n",
              "│ <span style=\"color: #808000; text-decoration-color: #808000\">en_US</span>                      │ │ <span style=\"color: #808000; text-decoration-color: #808000\">eo</span>                               │ │ <span style=\"color: #808000; text-decoration-color: #808000\">es_ES</span>                            │\n",
              "╰────────────────────────────╯ ╰──────────────────────────────────╯ ╰──────────────────────────────────╯\n",
              "╭────────────────────────────╮ ╭──────────────────────────────────╮ ╭──────────────────────────────────╮\n",
              "│ <span style=\"font-weight: bold\">Spanish (Mexico)</span>           │ │ <span style=\"font-weight: bold\">Persian</span>                          │ │ <span style=\"font-weight: bold\">Finnish</span>                          │\n",
              "│ <span style=\"color: #808000; text-decoration-color: #808000\">es_MX</span>                      │ │ <span style=\"color: #808000; text-decoration-color: #808000\">fa</span>                               │ │ <span style=\"color: #808000; text-decoration-color: #808000\">fi</span>                               │\n",
              "╰────────────────────────────╯ ╰──────────────────────────────────╯ ╰──────────────────────────────────╯\n",
              "╭────────────────────────────╮ ╭──────────────────────────────────╮ ╭──────────────────────────────────╮\n",
              "│ <span style=\"font-weight: bold\">French (France)</span>            │ │ <span style=\"font-weight: bold\">French (Québec)</span>                  │ │ <span style=\"font-weight: bold\">Icelandic</span>                        │\n",
              "│ <span style=\"color: #808000; text-decoration-color: #808000\">fr_FR</span>                      │ │ <span style=\"color: #808000; text-decoration-color: #808000\">fr_QC</span>                            │ │ <span style=\"color: #808000; text-decoration-color: #808000\">is</span>                               │\n",
              "╰────────────────────────────╯ ╰──────────────────────────────────╯ ╰──────────────────────────────────╯\n",
              "╭────────────────────────────╮ ╭──────────────────────────────────╮ ╭──────────────────────────────────╮\n",
              "│ <span style=\"font-weight: bold\">Japanese</span>                   │ │ <span style=\"font-weight: bold\">Jamaican Creole</span>                  │ │ <span style=\"font-weight: bold\">Khmer</span>                            │\n",
              "│ <span style=\"color: #808000; text-decoration-color: #808000\">ja</span>                         │ │ <span style=\"color: #808000; text-decoration-color: #808000\">jam</span>                              │ │ <span style=\"color: #808000; text-decoration-color: #808000\">km</span>                               │\n",
              "╰────────────────────────────╯ ╰──────────────────────────────────╯ ╰──────────────────────────────────╯\n",
              "╭────────────────────────────╮ ╭──────────────────────────────────╮ ╭──────────────────────────────────╮\n",
              "│ <span style=\"font-weight: bold\">Korean</span>                     │ │ <span style=\"font-weight: bold\">Malay (Malaysian and Indonesian)</span> │ │ <span style=\"font-weight: bold\">Norwegian Bokmål</span>                 │\n",
              "│ <span style=\"color: #808000; text-decoration-color: #808000\">ko</span>                         │ │ <span style=\"color: #808000; text-decoration-color: #808000\">ma</span>                               │ │ <span style=\"color: #808000; text-decoration-color: #808000\">nb</span>                               │\n",
              "╰────────────────────────────╯ ╰──────────────────────────────────╯ ╰──────────────────────────────────╯\n",
              "╭────────────────────────────╮ ╭──────────────────────────────────╮ ╭──────────────────────────────────╮\n",
              "│ <span style=\"font-weight: bold\">Dutch</span>                      │ │ <span style=\"font-weight: bold\">Odia</span>                             │ │ <span style=\"font-weight: bold\">Romanian</span>                         │\n",
              "│ <span style=\"color: #808000; text-decoration-color: #808000\">nl</span>                         │ │ <span style=\"color: #808000; text-decoration-color: #808000\">or</span>                               │ │ <span style=\"color: #808000; text-decoration-color: #808000\">ro</span>                               │\n",
              "╰────────────────────────────╯ ╰──────────────────────────────────╯ ╰──────────────────────────────────╯\n",
              "╭────────────────────────────╮ ╭──────────────────────────────────╮ ╭──────────────────────────────────╮\n",
              "│ <span style=\"font-weight: bold\">Swedish</span>                    │ │ <span style=\"font-weight: bold\">Swahili</span>                          │ │ <span style=\"font-weight: bold\">Isan</span>                             │\n",
              "│ <span style=\"color: #808000; text-decoration-color: #808000\">sv</span>                         │ │ <span style=\"color: #808000; text-decoration-color: #808000\">sw</span>                               │ │ <span style=\"color: #808000; text-decoration-color: #808000\">tts</span>                              │\n",
              "╰────────────────────────────╯ ╰──────────────────────────────────╯ ╰──────────────────────────────────╯\n",
              "╭────────────────────────────╮ ╭──────────────────────────────────╮ ╭──────────────────────────────────╮\n",
              "│ <span style=\"font-weight: bold\">Vietnamese (Central)</span>       │ │ <span style=\"font-weight: bold\">Vietnamese (Northern)</span>            │ │ <span style=\"font-weight: bold\">Vietnamese (Southern)</span>            │\n",
              "│ <span style=\"color: #808000; text-decoration-color: #808000\">vi_C</span>                       │ │ <span style=\"color: #808000; text-decoration-color: #808000\">vi_N</span>                             │ │ <span style=\"color: #808000; text-decoration-color: #808000\">vi_S</span>                             │\n",
              "╰────────────────────────────╯ ╰──────────────────────────────────╯ ╰──────────────────────────────────╯\n",
              "╭────────────────────────────╮ ╭──────────────────────────────────╮ ╭──────────────────────────────────╮\n",
              "│ <span style=\"font-weight: bold\">Cantonese</span>                  │ │ <span style=\"font-weight: bold\">Mandarin (Simplified)</span>            │ │ <span style=\"font-weight: bold\">Mandarin (Traditional)</span>           │\n",
              "│ <span style=\"color: #808000; text-decoration-color: #808000\">yue</span>                        │ │ <span style=\"color: #808000; text-decoration-color: #808000\">zh_hans</span>                          │ │ <span style=\"color: #808000; text-decoration-color: #808000\">zh_hant</span>                          │\n",
              "╰────────────────────────────╯ ╰──────────────────────────────────╯ ╰──────────────────────────────────╯\n",
              "</pre>\n"
            ]
          },
          "metadata": {}
        },
        {
          "name": "stdout",
          "output_type": "stream",
          "text": [
            "lang>> \n"
          ]
        },
        {
          "output_type": "display_data",
          "data": {
            "text/plain": [
              "Adios 👋🏼\n"
            ],
            "text/html": [
              "<pre style=\"white-space:pre;overflow-x:auto;line-height:normal;font-family:Menlo,'DejaVu Sans Mono',consolas,'Courier New',monospace\">Adios 👋🏼\n",
              "</pre>\n"
            ]
          },
          "metadata": {}
        }
      ],
      "source": [
        "rprint(Panel(Text(\"Representación fonética de palabras\", style=\"bold\", justify=\"center\")))\n",
        "rendable_langs = [Panel(get_formated_string(code, lang), expand=True) for code, lang in lang_codes.items()]\n",
        "rprint(Columns(rendable_langs))\n",
        "\n",
        "lang = input(\"lang>> \")\n",
        "rprint(f\"Selected language: {lang_codes[lang]}\") if lang else rprint(\"Adios 👋🏼\")\n",
        "while lang:\n",
        "    sub_dataset = data[lang]\n",
        "    query = input(f\"  [{lang}]word>> \")\n",
        "    results = get_ipa_transcriptions(query, sub_dataset)\n",
        "    rprint(query, \" | \", \", \".join(results))\n",
        "    while query:\n",
        "        query = input(f\"  [{lang}]word>> \")\n",
        "        if query:\n",
        "            results = get_ipa_transcriptions(query, sub_dataset)\n",
        "            rprint(query, \" | \", \", \".join(results))\n",
        "    lang = input(\"lang>> \")\n",
        "    rprint(f\"Selected language: {lang_codes[lang]}\") if lang else rprint(\"Adios 👋🏼\")"
      ]
    },
    {
      "cell_type": "markdown",
      "id": "dc8b18ff-9d70-49a6-98c1-7feb7d0c268a",
      "metadata": {
        "id": "dc8b18ff-9d70-49a6-98c1-7feb7d0c268a"
      },
      "source": [
        "#### 👩‍🔬 Ejercicio: Obtener palabras con pronunciación similar"
      ]
    },
    {
      "cell_type": "code",
      "execution_count": null,
      "id": "a4116005-8fb4-454d-a2ab-e2f083eda000",
      "metadata": {
        "id": "a4116005-8fb4-454d-a2ab-e2f083eda000"
      },
      "outputs": [],
      "source": [
        "from collections import defaultdict\n",
        "\n",
        "def get_rhyming_patterns(sentence: str, dataset: dict) -> dict[str, list]:\n",
        "    words = sentence.split()\n",
        "    word_ipa_map = {}\n",
        "    for word in words:\n",
        "        ipa_transcriptions = get_ipa_transcriptions(word, dataset)\n",
        "        # Remove \"/\" char from transcriptions\n",
        "        word_ipa_map.update({word: [_.strip(\"/\") for _ in ipa_transcriptions]})\n",
        "\n",
        "    rhyming_patterns = defaultdict(list)\n",
        "    for word, ipas in word_ipa_map.items():\n",
        "        for ipa in ipas:\n",
        "            # Getting last 2 elements of the ipa representation\n",
        "            pattern = ipa[-2:]\n",
        "            rhyming_patterns[pattern].append(word)\n",
        "    return rhyming_patterns\n",
        "\n",
        "def display_rhyming_patterns(patterns: dict[str, list]) -> None:\n",
        "    for pattern, words in patterns.items():\n",
        "        if len(set(words)) > 1:\n",
        "            print(f\"{pattern}:: {', '.join(words)}\")"
      ]
    },
    {
      "cell_type": "markdown",
      "id": "f4daacb3-544b-4b3a-ab77-23b2fc4dd07e",
      "metadata": {
        "id": "f4daacb3-544b-4b3a-ab77-23b2fc4dd07e"
      },
      "source": [
        "#### Testing"
      ]
    },
    {
      "cell_type": "markdown",
      "id": "3HoQEf8i8qTo",
      "metadata": {
        "id": "3HoQEf8i8qTo"
      },
      "source": [
        "```\n",
        "ɣo:: juego, fuego\n",
        "on:: con, corazón\n",
        "ʎa:: brilla, orilla\n",
        "```"
      ]
    },
    {
      "cell_type": "code",
      "execution_count": null,
      "id": "057bb91d-5bef-47b4-ba82-42559f457c2b",
      "metadata": {
        "colab": {
          "base_uri": "https://localhost:8080/"
        },
        "id": "057bb91d-5bef-47b4-ba82-42559f457c2b",
        "outputId": "1dd96f4a-1b8c-40e2-b3e2-a6a49c62a192"
      },
      "outputs": [
        {
          "output_type": "stream",
          "name": "stdout",
          "text": [
            "ɔɫ:: ball, fall\n",
            "ɑɫ:: fall, doll\n"
          ]
        }
      ],
      "source": [
        "#sentence = \"There once was a cat that ate a rat and after that sat on a yellow mat\"\n",
        "#sentence = \"the cat sat on the mat and looked at the rat.\"\n",
        "sentence = \"If you drop the ball it will fall on the doll\"\n",
        "#sentence = \"cuando juego con fuego siento como brilla la orilla de mi corazón\"\n",
        "\n",
        "dataset = data.get(\"en_US\")\n",
        "rhyming_words = get_rhyming_patterns(sentence, dataset)\n",
        "display_rhyming_patterns(rhyming_words)"
      ]
    },
    {
      "cell_type": "markdown",
      "id": "86f07e0f-bfe4-4a14-be9d-a7b0b7661260",
      "metadata": {
        "id": "86f07e0f-bfe4-4a14-be9d-a7b0b7661260"
      },
      "source": [
        "#### Material extra (fonética)"
      ]
    },
    {
      "cell_type": "code",
      "execution_count": null,
      "id": "64dc5e71-449b-4fdf-a3f4-d0f1776c5bbf",
      "metadata": {
        "colab": {
          "base_uri": "https://localhost:8080/"
        },
        "id": "64dc5e71-449b-4fdf-a3f4-d0f1776c5bbf",
        "outputId": "83e32dac-d2d2-4986-bbce-29906e933278"
      },
      "outputs": [
        {
          "output_type": "stream",
          "name": "stdout",
          "text": [
            "Reading package lists... Done\n",
            "Building dependency tree... Done\n",
            "Reading state information... Done\n",
            "The following additional packages will be installed:\n",
            "  espeak-data libespeak1 libportaudio2 libsonic0\n",
            "The following NEW packages will be installed:\n",
            "  espeak espeak-data libespeak1 libportaudio2 libsonic0\n",
            "0 upgraded, 5 newly installed, 0 to remove and 20 not upgraded.\n",
            "Need to get 1,382 kB of archives.\n",
            "After this operation, 3,178 kB of additional disk space will be used.\n",
            "Get:1 http://archive.ubuntu.com/ubuntu jammy/universe amd64 libportaudio2 amd64 19.6.0-1.1 [65.3 kB]\n",
            "Get:2 http://archive.ubuntu.com/ubuntu jammy/main amd64 libsonic0 amd64 0.2.0-11build1 [10.3 kB]\n",
            "Get:3 http://archive.ubuntu.com/ubuntu jammy/universe amd64 espeak-data amd64 1.48.15+dfsg-3 [1,085 kB]\n",
            "Get:4 http://archive.ubuntu.com/ubuntu jammy/universe amd64 libespeak1 amd64 1.48.15+dfsg-3 [156 kB]\n",
            "Get:5 http://archive.ubuntu.com/ubuntu jammy/universe amd64 espeak amd64 1.48.15+dfsg-3 [64.2 kB]\n",
            "Fetched 1,382 kB in 1s (1,730 kB/s)\n",
            "Selecting previously unselected package libportaudio2:amd64.\n",
            "(Reading database ... 124926 files and directories currently installed.)\n",
            "Preparing to unpack .../libportaudio2_19.6.0-1.1_amd64.deb ...\n",
            "Unpacking libportaudio2:amd64 (19.6.0-1.1) ...\n",
            "Selecting previously unselected package libsonic0:amd64.\n",
            "Preparing to unpack .../libsonic0_0.2.0-11build1_amd64.deb ...\n",
            "Unpacking libsonic0:amd64 (0.2.0-11build1) ...\n",
            "Selecting previously unselected package espeak-data:amd64.\n",
            "Preparing to unpack .../espeak-data_1.48.15+dfsg-3_amd64.deb ...\n",
            "Unpacking espeak-data:amd64 (1.48.15+dfsg-3) ...\n",
            "Selecting previously unselected package libespeak1:amd64.\n",
            "Preparing to unpack .../libespeak1_1.48.15+dfsg-3_amd64.deb ...\n",
            "Unpacking libespeak1:amd64 (1.48.15+dfsg-3) ...\n",
            "Selecting previously unselected package espeak.\n",
            "Preparing to unpack .../espeak_1.48.15+dfsg-3_amd64.deb ...\n",
            "Unpacking espeak (1.48.15+dfsg-3) ...\n",
            "Setting up libportaudio2:amd64 (19.6.0-1.1) ...\n",
            "Setting up libsonic0:amd64 (0.2.0-11build1) ...\n",
            "Setting up espeak-data:amd64 (1.48.15+dfsg-3) ...\n",
            "Setting up libespeak1:amd64 (1.48.15+dfsg-3) ...\n",
            "Setting up espeak (1.48.15+dfsg-3) ...\n",
            "Processing triggers for man-db (2.10.2-1) ...\n",
            "Processing triggers for libc-bin (2.35-0ubuntu3.8) ...\n",
            "/sbin/ldconfig.real: /usr/local/lib/libtbbbind_2_0.so.3 is not a symbolic link\n",
            "\n",
            "/sbin/ldconfig.real: /usr/local/lib/libtbbbind_2_5.so.3 is not a symbolic link\n",
            "\n",
            "/sbin/ldconfig.real: /usr/local/lib/libtbbmalloc_proxy.so.2 is not a symbolic link\n",
            "\n",
            "/sbin/ldconfig.real: /usr/local/lib/libhwloc.so.15 is not a symbolic link\n",
            "\n",
            "/sbin/ldconfig.real: /usr/local/lib/libtbbbind.so.3 is not a symbolic link\n",
            "\n",
            "/sbin/ldconfig.real: /usr/local/lib/libtbbmalloc.so.2 is not a symbolic link\n",
            "\n",
            "/sbin/ldconfig.real: /usr/local/lib/libur_loader.so.0 is not a symbolic link\n",
            "\n",
            "/sbin/ldconfig.real: /usr/local/lib/libumf.so.0 is not a symbolic link\n",
            "\n",
            "/sbin/ldconfig.real: /usr/local/lib/libur_adapter_opencl.so.0 is not a symbolic link\n",
            "\n",
            "/sbin/ldconfig.real: /usr/local/lib/libtcm.so.1 is not a symbolic link\n",
            "\n",
            "/sbin/ldconfig.real: /usr/local/lib/libtbb.so.12 is not a symbolic link\n",
            "\n",
            "/sbin/ldconfig.real: /usr/local/lib/libtcm_debug.so.1 is not a symbolic link\n",
            "\n",
            "/sbin/ldconfig.real: /usr/local/lib/libur_adapter_level_zero.so.0 is not a symbolic link\n",
            "\n"
          ]
        }
      ],
      "source": [
        "!apt-get install espeak -y"
      ]
    },
    {
      "cell_type": "code",
      "execution_count": null,
      "id": "c87a1b9d-848c-488f-b2e4-1782f07bc557",
      "metadata": {
        "id": "c87a1b9d-848c-488f-b2e4-1782f07bc557"
      },
      "outputs": [],
      "source": [
        "!espeak -v es \"Hola que hace\" -w mi-prueba.wav"
      ]
    },
    {
      "cell_type": "markdown",
      "id": "9fc31a40-1d6e-4c56-b07e-74a0c47a89c4",
      "metadata": {
        "id": "9fc31a40-1d6e-4c56-b07e-74a0c47a89c4"
      },
      "source": [
        "## Morfología"
      ]
    },
    {
      "cell_type": "markdown",
      "id": "GJ10fzsXvFSS",
      "metadata": {
        "id": "GJ10fzsXvFSS"
      },
      "source": [
        "<center><img src=\"https://upload.wikimedia.org/wikipedia/commons/thumb/2/29/Flexi%C3%B3nGato-svg.svg/800px-Flexi%C3%B3nGato-svg.svg.png\" height=300></center>\n",
        "\n",
        "> De <a href=\"//commons.wikimedia.org/wiki/User:KES47\" class=\"mw-redirect\" title=\"User:KES47\">KES47</a> - <a href=\"//commons.wikimedia.org/wiki/File:Flexi%C3%B3nGato.png\" title=\"File:FlexiónGato.png\">File:FlexiónGato.png</a> y <a href=\"//commons.wikimedia.org/wiki/File:Nuvola_apps_package_toys_svg.svg\" title=\"File:Nuvola apps package toys svg.svg\">File:Nuvola apps package toys svg.svg</a>, <a href=\"http://www.gnu.org/licenses/lgpl.html\" title=\"GNU Lesser General Public License\">LGPL</a>, <a href=\"https://commons.wikimedia.org/w/index.php?curid=27305101\">Enlace</a>"
      ]
    },
    {
      "cell_type": "markdown",
      "id": "9677e8f1-aa3e-4f9c-8c7c-1422ea9ca913",
      "metadata": {
        "id": "9677e8f1-aa3e-4f9c-8c7c-1422ea9ca913"
      },
      "source": [
        "El análisis morfológico es la determinación de las partes que componen la palabra y su representación lingüística, es una especie de etiquetado\n",
        "\n",
        "Los elementos morfológicos son analizados para:\n",
        "\n",
        "- Determinar la función morfológica de las palabras\n",
        "- Hacer filtrado y pre-procesamiento de text"
      ]
    },
    {
      "cell_type": "markdown",
      "id": "d962a952-6fa8-4410-82b6-8e7c6ba2f7e4",
      "metadata": {
        "id": "d962a952-6fa8-4410-82b6-8e7c6ba2f7e4"
      },
      "source": [
        "### Análisis morfológico basado en reglas"
      ]
    },
    {
      "cell_type": "markdown",
      "id": "cf70678d-f1d1-401e-aa23-da90a2ea7eaa",
      "metadata": {
        "id": "cf70678d-f1d1-401e-aa23-da90a2ea7eaa"
      },
      "source": [
        "Recordemos que podemos hacer un analizador morfológico haciendo uso de un transductor que vaya leyendo y haciendo transformaciones en una cadena. Formalmente:\n",
        "\n",
        "* $Q = \\{q_0, \\ldots, q_T\\}$ conjunto finito de estados.\n",
        "* $\\Sigma$ es un alfabeto de entrada.\n",
        "* $q_0 \\in Q$ es el estado inicial.\n",
        "* $F \\subseteq Q$ es el conjunto de estados finales.\n",
        "\n",
        "Un transductor es una 6-tupla $T = (Q, \\Sigma, \\Delta, q_0, F, \\sigma)$ tal que\n",
        "\n",
        "* $\\Delta$ es un alfabeto de salida teminal\n",
        "* $\\Sigma$ es un alfabeto de entrada no terminal\n",
        "* $\\sigma: Q \\times \\Sigma \\times \\Delta \\longrightarrow Q$ función de transducción"
      ]
    },
    {
      "cell_type": "markdown",
      "id": "cdf136a8-6a9d-4434-b533-191553db242b",
      "metadata": {
        "id": "cdf136a8-6a9d-4434-b533-191553db242b"
      },
      "source": [
        "#### EJEMPLO: Parsing con expresiones regulares"
      ]
    },
    {
      "cell_type": "markdown",
      "id": "605d64c5-e102-4972-b5f6-92e0c08b495b",
      "metadata": {
        "id": "605d64c5-e102-4972-b5f6-92e0c08b495b"
      },
      "source": [
        "Con fines de prácticidad vamos a _imitar_ el comportamiento de un transductor utilizando el modulo de python `re`"
      ]
    },
    {
      "cell_type": "markdown",
      "id": "cb409f23-1456-40bd-8fdd-997a862ad190",
      "metadata": {
        "id": "cb409f23-1456-40bd-8fdd-997a862ad190"
      },
      "source": [
        "La estructura del sustantivo en español es:\n",
        "\n",
        "` BASE+AFIJOS (marcas flexivas)   --> Base+DIM+GEN+NUM`"
      ]
    },
    {
      "cell_type": "code",
      "execution_count": null,
      "id": "1e2959df-96a4-40f5-a932-108abad269be",
      "metadata": {
        "id": "1e2959df-96a4-40f5-a932-108abad269be"
      },
      "outputs": [],
      "source": [
        "palabras = [\n",
        "    'niño',\n",
        "    'niños',\n",
        "    'niñas',\n",
        "    'niñitos',\n",
        "    'gato',\n",
        "    'gatos',\n",
        "    'gatitos',\n",
        "    'perritos',\n",
        "    'paloma',\n",
        "    'palomita',\n",
        "    'palomas',\n",
        "    'flores',\n",
        "    'flor',\n",
        "    'florecita',\n",
        "    'lápiz',\n",
        "    'lápices',\n",
        "    # 'chiquitititititos',\n",
        "    #'curriculum', # curricula\n",
        "    #'campus', # campi\n",
        "]"
      ]
    },
    {
      "cell_type": "code",
      "execution_count": null,
      "id": "66599e2e-d67b-49e2-9f80-0a20e756ca19",
      "metadata": {
        "id": "66599e2e-d67b-49e2-9f80-0a20e756ca19"
      },
      "outputs": [],
      "source": [
        "import re\n",
        "\n",
        "def morph_parser_rules(words: list[str]) -> list[str]:\n",
        "    \"\"\"Aplica reglas morfológicas a una lista de palabras para realizar\n",
        "    un análisis morfológico.\n",
        "\n",
        "    Parameters:\n",
        "    ----------\n",
        "    words : list of str\n",
        "        Lista de palabras a las que se les aplicarán las reglas morfológicas.\n",
        "\n",
        "    Returns:\n",
        "    -------\n",
        "    list of str\n",
        "        Una lista de palabras después de aplicar las reglas morfológicas.\n",
        "    \"\"\"\n",
        "\n",
        "    # Lista para guardar las palabras parseadas\n",
        "    morph_parsing = []\n",
        "\n",
        "    # Reglas que capturan ciertos morfemas\n",
        "    # {ecita, itos, as, os}\n",
        "    for w in words:\n",
        "        # ecit -> DIM\n",
        "        R0 = re.sub(r'([^ ]+)ecit([a|o|as|os])', r'\\1-DIM\\2', w)\n",
        "        # it -> DIM\n",
        "        R1 = re.sub(r'([^ ]+)it([a|o|as|os])', r'\\1-DIM\\2', R0)\n",
        "        # a(s) -> FEM\n",
        "        R2 = re.sub(r'([^ ]+)a(s)', r'\\1-FEM\\2', R1)\n",
        "        # a -> FEM\n",
        "        R3 = re.sub(r'([^ ]+)a\\b', r'\\1-FEM', R2)\n",
        "        # o(s) -> MSC\n",
        "        R4 = re.sub(r'([^ ]+)o(s)', r'\\1-MSC\\2', R3)\n",
        "        # o .> MSC\n",
        "        R5 = re.sub(r'([^ ]+)o\\b', r'\\1-MSC', R4)\n",
        "        # es -> PL\n",
        "        R6 = re.sub(r'([^ ]+)es\\b', r'\\1-PL', R5)\n",
        "        # s -> PL\n",
        "        R7 = re.sub(r'([^ ]+)s\\b', r'\\1-PL', R6)\n",
        "        # Sustituye la c por z cuando es necesario\n",
        "        parse = re.sub(r'c-', r'z-', R7)\n",
        "\n",
        "        # Guarda los parseos\n",
        "        morph_parsing.append(parse)\n",
        "    return morph_parsing"
      ]
    },
    {
      "cell_type": "code",
      "execution_count": null,
      "id": "85c9648c-0c09-4d19-b52b-f020943caf5a",
      "metadata": {
        "colab": {
          "base_uri": "https://localhost:8080/"
        },
        "id": "85c9648c-0c09-4d19-b52b-f020943caf5a",
        "outputId": "07312dd0-0cbd-428d-891f-d1dc5140d71d"
      },
      "outputs": [
        {
          "output_type": "stream",
          "name": "stdout",
          "text": [
            "niño --> niñ-MSC\n",
            "niños --> niñ-MSC-PL\n",
            "niñas --> niñ-FEM-PL\n",
            "niñitos --> niñ-DIM-MSC-PL\n",
            "gato --> gat-MSC\n",
            "gatos --> gat-MSC-PL\n",
            "gatitos --> gat-DIM-MSC-PL\n",
            "perritos --> perr-DIM-MSC-PL\n",
            "paloma --> palom-FEM\n",
            "palomita --> palom-DIM-FEM\n",
            "palomas --> palom-FEM-PL\n",
            "flores --> flor-PL\n",
            "flor --> flor\n",
            "florecita --> flor-DIM-FEM\n",
            "lápiz --> lápiz\n",
            "lápices --> lápiz-PL\n"
          ]
        }
      ],
      "source": [
        "morph_parsing = morph_parser_rules(palabras)\n",
        "for palabra, parseo in zip(palabras, morph_parsing):\n",
        "    print(palabra, \"-->\", parseo)"
      ]
    },
    {
      "cell_type": "markdown",
      "id": "3a104dae-e815-4271-9ff2-96802d50df9e",
      "metadata": {
        "id": "3a104dae-e815-4271-9ff2-96802d50df9e"
      },
      "source": [
        "#### Preguntas 🤔\n",
        "- ¿Qué pasa con las reglas en lenguas donde son más comunes los prefijos y no los sufijos?\n",
        "- ¿Cómo podríamos identificar características de las lenguas?"
      ]
    },
    {
      "cell_type": "markdown",
      "id": "8b3d6dac-6b02-45db-b352-a549a25fdabe",
      "metadata": {
        "id": "8b3d6dac-6b02-45db-b352-a549a25fdabe"
      },
      "source": [
        "#### Herramientas para hacer sistemas de análisis morfológico basados en reglas"
      ]
    },
    {
      "cell_type": "markdown",
      "id": "2ff2d85d-64c1-4272-9d6d-cf3599094588",
      "metadata": {
        "id": "2ff2d85d-64c1-4272-9d6d-cf3599094588"
      },
      "source": [
        "- [Apertium](https://en.wikipedia.org/wiki/Apertium)\n",
        "- [Foma](https://github.com/mhulden/foma/tree/master)\n",
        "- [Helsinki Finite-State Technology](https://hfst.github.io/)\n",
        "- Ejemplo [proyecto](https://github.com/apertium/apertium-yua) de analizador morfológico de Maya Yucateco\n",
        "- Ejemplo normalizador ortográfico del [Náhuatl](https://github.com/ElotlMX/py-elotl/tree/master)\n",
        "\n",
        "\n",
        "También se pueden utilizar diferentes métodos de aprendizaje de máquina para realizar análisis/generación morfológica. En los últimos años ha habido un shared task de [morphological reinflection](https://github.com/sigmorphon/2023InflectionST) para poner a competir diferentes métodos"
      ]
    },
    {
      "cell_type": "markdown",
      "id": "d5b878ce-f60a-4069-b618-fcb0d4e77256",
      "metadata": {
        "id": "d5b878ce-f60a-4069-b618-fcb0d4e77256"
      },
      "source": [
        "### Segmentación morfológica"
      ]
    },
    {
      "cell_type": "markdown",
      "id": "bcdc6126-3d69-4f90-9cfe-9dd6845525d5",
      "metadata": {
        "id": "bcdc6126-3d69-4f90-9cfe-9dd6845525d5"
      },
      "source": [
        "#### Corpus: [SIGMORPHON 2022 Shared Task on Morpheme Segmentation](https://github.com/sigmorphon/2022SegmentationST/tree/main)"
      ]
    },
    {
      "cell_type": "markdown",
      "id": "78102f5e-2bcc-41cd-981f-514d786cb9be",
      "metadata": {
        "id": "78102f5e-2bcc-41cd-981f-514d786cb9be"
      },
      "source": [
        "- Shared task donde se buscaba convertir las palabras en una secuencia de morfemas\n",
        "- Dividido en dos partes:\n",
        "    - Segmentación a nivel de palabras (nos enfocaremos en esta)\n",
        "    - Segmentación a nivel oraciones"
      ]
    },
    {
      "cell_type": "markdown",
      "id": "c6b0c352-e6ac-49db-9b3a-74da7db6ddad",
      "metadata": {
        "id": "c6b0c352-e6ac-49db-9b3a-74da7db6ddad"
      },
      "source": [
        "#### Track: words\n",
        "\n",
        "| word class | Description                      | English example (input ==> output)     |\n",
        "|------------|----------------------------------|----------------------------------------|\n",
        "| 100        | Inflection only                  | played ==> play @@ed                   |\n",
        "| 010        | Derivation only                  | player ==> play @@er                   |\n",
        "| 101        | Inflection and Compound          | wheelbands ==> wheel @@band @@s        |\n",
        "| 000        | Root words                       | progress ==> progress                  |\n",
        "| 011        | Derivation and Compound          | tankbuster ==> tank @@bust @@er        |\n",
        "| 110        | Inflection and Derivation        | urbanizes ==> urban @@ize @@s          |\n",
        "| 001        | Compound only                    | hotpot ==> hot @@pot                   |\n",
        "| 111        | Inflection, Derivation, Compound | trackworkers ==> track @@work @@er @@s"
      ]
    },
    {
      "cell_type": "markdown",
      "id": "84e2235d-f919-4c5d-832e-93551ba9ac4b",
      "metadata": {
        "id": "84e2235d-f919-4c5d-832e-93551ba9ac4b"
      },
      "source": [
        "#### Explorando el corpus"
      ]
    },
    {
      "cell_type": "code",
      "execution_count": null,
      "id": "1a59cbf7-de9d-4618-8229-5cd369fa1c07",
      "metadata": {
        "colab": {
          "base_uri": "https://localhost:8080/",
          "height": 36
        },
        "id": "1a59cbf7-de9d-4618-8229-5cd369fa1c07",
        "outputId": "ddcaac33-09e4-4f0a-8481-34301984a9b4"
      },
      "outputs": [
        {
          "output_type": "execute_result",
          "data": {
            "text/plain": [
              "'astronómica\\tastronómico @@a\\t100\\nresignifiques\\tresignificar @@es\\t100\\nimportunamente\\timportuno @@mente'"
            ],
            "application/vnd.google.colaboratory.intrinsic+json": {
              "type": "string"
            }
          },
          "metadata": {},
          "execution_count": 35
        }
      ],
      "source": [
        "response = r.get(\"https://raw.githubusercontent.com/sigmorphon/2022SegmentationST/main/data/spa.word.test.gold.tsv\")\n",
        "response.text[:100]"
      ]
    },
    {
      "cell_type": "code",
      "execution_count": null,
      "id": "17faa0d5-2d5f-4035-bf65-c0e5b256aa0f",
      "metadata": {
        "colab": {
          "base_uri": "https://localhost:8080/",
          "height": 36
        },
        "id": "17faa0d5-2d5f-4035-bf65-c0e5b256aa0f",
        "outputId": "9ee9cd69-cbd2-43bd-ac1f-8e8284aa548b"
      },
      "outputs": [
        {
          "output_type": "execute_result",
          "data": {
            "text/plain": [
              "'sumárieles\\tsumario @@ar @@e @@les\\t110'"
            ],
            "application/vnd.google.colaboratory.intrinsic+json": {
              "type": "string"
            }
          },
          "metadata": {},
          "execution_count": 36
        }
      ],
      "source": [
        "raw_data = response.text.split(\"\\n\")\n",
        "raw_data[-2]"
      ]
    },
    {
      "cell_type": "code",
      "execution_count": null,
      "id": "a1814873-5c65-4f34-9c59-01ccdf130089",
      "metadata": {
        "colab": {
          "base_uri": "https://localhost:8080/"
        },
        "id": "a1814873-5c65-4f34-9c59-01ccdf130089",
        "outputId": "e921e2a3-4fa9-465c-c657-200c6ffc215e"
      },
      "outputs": [
        {
          "output_type": "execute_result",
          "data": {
            "text/plain": [
              "['importunamente', 'importuno @@mente', '010']"
            ]
          },
          "metadata": {},
          "execution_count": 37
        }
      ],
      "source": [
        "element = raw_data[2].split(\"\\t\")\n",
        "element"
      ]
    },
    {
      "cell_type": "code",
      "execution_count": null,
      "id": "99c1dfb3-a1ad-4a78-b26b-8a560894f058",
      "metadata": {
        "colab": {
          "base_uri": "https://localhost:8080/"
        },
        "id": "99c1dfb3-a1ad-4a78-b26b-8a560894f058",
        "outputId": "e2f9ce5d-aefb-4a30-9f03-1b4fde6316f0"
      },
      "outputs": [
        {
          "output_type": "execute_result",
          "data": {
            "text/plain": [
              "['importuno', '@@mente']"
            ]
          },
          "metadata": {},
          "execution_count": 38
        }
      ],
      "source": [
        "element[1].split()"
      ]
    },
    {
      "cell_type": "code",
      "execution_count": null,
      "id": "bb87e719-41c2-4e22-b9bf-5303902be165",
      "metadata": {
        "id": "bb87e719-41c2-4e22-b9bf-5303902be165"
      },
      "outputs": [],
      "source": [
        "LANGS = {\n",
        "    \"ces\": \"Czech\",\n",
        "    \"eng\": \"English\",\n",
        "    \"fra\": \"French\",\n",
        "    \"hun\": \"Hungarian\",\n",
        "    \"spa\": \"Spanish\",\n",
        "    \"ita\": \"Italian\",\n",
        "    \"lat\": \"Latin\",\n",
        "    \"rus\": \"Russian\",\n",
        "}\n",
        "CATEGORIES = {\n",
        "    \"100\": \"Inflection\",\n",
        "    \"010\": \"Derivation\",\n",
        "    \"101\": \"Inflection, Compound\",\n",
        "    \"000\": \"Root\",\n",
        "    \"011\": \"Derivation, Compound\",\n",
        "    \"110\": \"Inflection, Derivation\",\n",
        "    \"001\": \"Compound\",\n",
        "    \"111\": \"Inflection, Derivation, Compound\"\n",
        "}"
      ]
    },
    {
      "cell_type": "code",
      "execution_count": null,
      "id": "721ea2fa-24d8-4035-b0a5-87c86f821c6d",
      "metadata": {
        "id": "721ea2fa-24d8-4035-b0a5-87c86f821c6d"
      },
      "outputs": [],
      "source": [
        "def get_track_files(lang: str, track: str = \"word\") -> list[str]:\n",
        "    \"\"\"Genera una lista de nombres de archivo del shared task\n",
        "\n",
        "    Con base en el idioma y el track obtiene el nombre de los archivos\n",
        "    para con información reelevante para hacer análisis estadístico.\n",
        "    Esto es archivos .test y .dev\n",
        "\n",
        "    Parameters:\n",
        "    ----------\n",
        "    lang : str\n",
        "        Idioma para el cual se generarán los nombres de archivo.\n",
        "    track : str, optional\n",
        "        Track del shared task de donde vienen los datos (por defecto es \"word\").\n",
        "\n",
        "    Returns:\n",
        "    -------\n",
        "    list[str]\n",
        "        Una lista de nombres de archivo generados para el idioma y la pista especificados.\n",
        "    \"\"\"\n",
        "    return [\n",
        "        f\"{lang}.{track}.test.gold\",\n",
        "        f\"{lang}.{track}.dev\",\n",
        "    ]"
      ]
    },
    {
      "cell_type": "code",
      "execution_count": null,
      "id": "f583e168-1f5d-4426-9789-5fac8b2b221c",
      "metadata": {
        "id": "f583e168-1f5d-4426-9789-5fac8b2b221c"
      },
      "outputs": [],
      "source": [
        "def get_raw_corpus(files: list) -> list:\n",
        "    \"\"\"Descarga y concatena los datos de los archivos tsv desde una URL base.\n",
        "\n",
        "    Parameters:\n",
        "    ----------\n",
        "    files : list\n",
        "        Lista de nombres de archivos (sin extensión) que se descargarán\n",
        "        y concatenarán.\n",
        "\n",
        "    Returns:\n",
        "    -------\n",
        "    list\n",
        "        Una lista que contiene los contenidos descargados y concatenados\n",
        "        de los archivos tsv.\n",
        "    \"\"\"\n",
        "    result = []\n",
        "    for file in files:\n",
        "        print(f\"Downloading {file}.tsv\", end=\" \")\n",
        "        response = r.get(f\"https://raw.githubusercontent.com/sigmorphon/2022SegmentationST/main/data/{file}.tsv\")\n",
        "        print(f\"status={response.status_code}\")\n",
        "        lines = response.text.split(\"\\n\")\n",
        "        result.extend(lines[:-1])\n",
        "    return result"
      ]
    },
    {
      "cell_type": "code",
      "execution_count": null,
      "id": "54de3b3d-be08-437d-b4ee-ff55d4fee2a9",
      "metadata": {
        "id": "54de3b3d-be08-437d-b4ee-ff55d4fee2a9"
      },
      "outputs": [],
      "source": [
        "import pandas as pd\n",
        "\n",
        "def raw_corpus_to_dataframe(corpus_list: list, lang: str) -> pd.DataFrame:\n",
        "    \"\"\"Convierte una lista de datos de corpus en un DataFrame\n",
        "\n",
        "    Parameters:\n",
        "    ----------\n",
        "    corpus_list : list\n",
        "        Lista de líneas del corpus a convertir en DataFrame.\n",
        "    lang : str\n",
        "        Idioma al que pertenecen los datos del corpus.\n",
        "\n",
        "    Returns:\n",
        "    -------\n",
        "    pd.DataFrame\n",
        "        Un DataFrame de pandas que contiene los datos del corpus procesados.\n",
        "    \"\"\"\n",
        "    data_list = []\n",
        "    for line in corpus_list:\n",
        "        try:\n",
        "            word, tagged_data, category = line.split(\"\\t\")\n",
        "        except ValueError:\n",
        "            # Caso donde no existe la categoria\n",
        "            word, tagged_data = line.split(\"\\t\")\n",
        "            category = \"NOT_FOUND\"\n",
        "        morphemes = tagged_data.split()\n",
        "        data_list.append({\"words\": word, \"morph\": morphemes, \"category\": category, \"lang\": lang})\n",
        "    df = pd.DataFrame(data_list)\n",
        "    df[\"word_len\"] = df[\"words\"].apply(lambda x: len(x))\n",
        "    df[\"morph_count\"] = df[\"morph\"].apply(lambda x: len(x))\n",
        "    return df"
      ]
    },
    {
      "cell_type": "code",
      "execution_count": null,
      "id": "fe645a77-f8ca-4bf1-b11e-2274b78ba6d1",
      "metadata": {
        "colab": {
          "base_uri": "https://localhost:8080/"
        },
        "id": "fe645a77-f8ca-4bf1-b11e-2274b78ba6d1",
        "outputId": "3d5b3b43-d6c5-4804-8890-33d015ea663d"
      },
      "outputs": [
        {
          "output_type": "stream",
          "name": "stdout",
          "text": [
            "Downloading spa.word.test.gold.tsv status=200\n",
            "Downloading spa.word.dev.tsv status=200\n"
          ]
        }
      ],
      "source": [
        "files = get_track_files(\"spa\")\n",
        "raw_spa = get_raw_corpus(files)\n",
        "df = raw_corpus_to_dataframe(raw_spa, lang=\"spa\")"
      ]
    },
    {
      "cell_type": "code",
      "execution_count": null,
      "id": "774a3b39-3a37-43d5-afb4-5d98154afe9e",
      "metadata": {
        "colab": {
          "base_uri": "https://localhost:8080/",
          "height": 206
        },
        "id": "774a3b39-3a37-43d5-afb4-5d98154afe9e",
        "outputId": "37d77ec2-876c-4952-e9e3-54c3f744cb71"
      },
      "outputs": [
        {
          "output_type": "execute_result",
          "data": {
            "text/plain": [
              "             words                        morph category lang  word_len  \\\n",
              "0      astronómica           [astronómico, @@a]      100  spa        11   \n",
              "1    resignifiques         [resignificar, @@es]      100  spa        13   \n",
              "2   importunamente         [importuno, @@mente]      010  spa        14   \n",
              "3  conjeturaríamos  [conjeturar, @@ría, @@amos]      100  spa        15   \n",
              "4       adquiridla       [adquirir, @@id, @@la]      100  spa        10   \n",
              "\n",
              "   morph_count  \n",
              "0            2  \n",
              "1            2  \n",
              "2            2  \n",
              "3            3  \n",
              "4            3  "
            ],
            "text/html": [
              "\n",
              "  <div id=\"df-fbef38dc-4c54-4e48-bf06-a6408dc2a40d\" class=\"colab-df-container\">\n",
              "    <div>\n",
              "<style scoped>\n",
              "    .dataframe tbody tr th:only-of-type {\n",
              "        vertical-align: middle;\n",
              "    }\n",
              "\n",
              "    .dataframe tbody tr th {\n",
              "        vertical-align: top;\n",
              "    }\n",
              "\n",
              "    .dataframe thead th {\n",
              "        text-align: right;\n",
              "    }\n",
              "</style>\n",
              "<table border=\"1\" class=\"dataframe\">\n",
              "  <thead>\n",
              "    <tr style=\"text-align: right;\">\n",
              "      <th></th>\n",
              "      <th>words</th>\n",
              "      <th>morph</th>\n",
              "      <th>category</th>\n",
              "      <th>lang</th>\n",
              "      <th>word_len</th>\n",
              "      <th>morph_count</th>\n",
              "    </tr>\n",
              "  </thead>\n",
              "  <tbody>\n",
              "    <tr>\n",
              "      <th>0</th>\n",
              "      <td>astronómica</td>\n",
              "      <td>[astronómico, @@a]</td>\n",
              "      <td>100</td>\n",
              "      <td>spa</td>\n",
              "      <td>11</td>\n",
              "      <td>2</td>\n",
              "    </tr>\n",
              "    <tr>\n",
              "      <th>1</th>\n",
              "      <td>resignifiques</td>\n",
              "      <td>[resignificar, @@es]</td>\n",
              "      <td>100</td>\n",
              "      <td>spa</td>\n",
              "      <td>13</td>\n",
              "      <td>2</td>\n",
              "    </tr>\n",
              "    <tr>\n",
              "      <th>2</th>\n",
              "      <td>importunamente</td>\n",
              "      <td>[importuno, @@mente]</td>\n",
              "      <td>010</td>\n",
              "      <td>spa</td>\n",
              "      <td>14</td>\n",
              "      <td>2</td>\n",
              "    </tr>\n",
              "    <tr>\n",
              "      <th>3</th>\n",
              "      <td>conjeturaríamos</td>\n",
              "      <td>[conjeturar, @@ría, @@amos]</td>\n",
              "      <td>100</td>\n",
              "      <td>spa</td>\n",
              "      <td>15</td>\n",
              "      <td>3</td>\n",
              "    </tr>\n",
              "    <tr>\n",
              "      <th>4</th>\n",
              "      <td>adquiridla</td>\n",
              "      <td>[adquirir, @@id, @@la]</td>\n",
              "      <td>100</td>\n",
              "      <td>spa</td>\n",
              "      <td>10</td>\n",
              "      <td>3</td>\n",
              "    </tr>\n",
              "  </tbody>\n",
              "</table>\n",
              "</div>\n",
              "    <div class=\"colab-df-buttons\">\n",
              "\n",
              "  <div class=\"colab-df-container\">\n",
              "    <button class=\"colab-df-convert\" onclick=\"convertToInteractive('df-fbef38dc-4c54-4e48-bf06-a6408dc2a40d')\"\n",
              "            title=\"Convert this dataframe to an interactive table.\"\n",
              "            style=\"display:none;\">\n",
              "\n",
              "  <svg xmlns=\"http://www.w3.org/2000/svg\" height=\"24px\" viewBox=\"0 -960 960 960\">\n",
              "    <path d=\"M120-120v-720h720v720H120Zm60-500h600v-160H180v160Zm220 220h160v-160H400v160Zm0 220h160v-160H400v160ZM180-400h160v-160H180v160Zm440 0h160v-160H620v160ZM180-180h160v-160H180v160Zm440 0h160v-160H620v160Z\"/>\n",
              "  </svg>\n",
              "    </button>\n",
              "\n",
              "  <style>\n",
              "    .colab-df-container {\n",
              "      display:flex;\n",
              "      gap: 12px;\n",
              "    }\n",
              "\n",
              "    .colab-df-convert {\n",
              "      background-color: #E8F0FE;\n",
              "      border: none;\n",
              "      border-radius: 50%;\n",
              "      cursor: pointer;\n",
              "      display: none;\n",
              "      fill: #1967D2;\n",
              "      height: 32px;\n",
              "      padding: 0 0 0 0;\n",
              "      width: 32px;\n",
              "    }\n",
              "\n",
              "    .colab-df-convert:hover {\n",
              "      background-color: #E2EBFA;\n",
              "      box-shadow: 0px 1px 2px rgba(60, 64, 67, 0.3), 0px 1px 3px 1px rgba(60, 64, 67, 0.15);\n",
              "      fill: #174EA6;\n",
              "    }\n",
              "\n",
              "    .colab-df-buttons div {\n",
              "      margin-bottom: 4px;\n",
              "    }\n",
              "\n",
              "    [theme=dark] .colab-df-convert {\n",
              "      background-color: #3B4455;\n",
              "      fill: #D2E3FC;\n",
              "    }\n",
              "\n",
              "    [theme=dark] .colab-df-convert:hover {\n",
              "      background-color: #434B5C;\n",
              "      box-shadow: 0px 1px 3px 1px rgba(0, 0, 0, 0.15);\n",
              "      filter: drop-shadow(0px 1px 2px rgba(0, 0, 0, 0.3));\n",
              "      fill: #FFFFFF;\n",
              "    }\n",
              "  </style>\n",
              "\n",
              "    <script>\n",
              "      const buttonEl =\n",
              "        document.querySelector('#df-fbef38dc-4c54-4e48-bf06-a6408dc2a40d button.colab-df-convert');\n",
              "      buttonEl.style.display =\n",
              "        google.colab.kernel.accessAllowed ? 'block' : 'none';\n",
              "\n",
              "      async function convertToInteractive(key) {\n",
              "        const element = document.querySelector('#df-fbef38dc-4c54-4e48-bf06-a6408dc2a40d');\n",
              "        const dataTable =\n",
              "          await google.colab.kernel.invokeFunction('convertToInteractive',\n",
              "                                                    [key], {});\n",
              "        if (!dataTable) return;\n",
              "\n",
              "        const docLinkHtml = 'Like what you see? Visit the ' +\n",
              "          '<a target=\"_blank\" href=https://colab.research.google.com/notebooks/data_table.ipynb>data table notebook</a>'\n",
              "          + ' to learn more about interactive tables.';\n",
              "        element.innerHTML = '';\n",
              "        dataTable['output_type'] = 'display_data';\n",
              "        await google.colab.output.renderOutput(dataTable, element);\n",
              "        const docLink = document.createElement('div');\n",
              "        docLink.innerHTML = docLinkHtml;\n",
              "        element.appendChild(docLink);\n",
              "      }\n",
              "    </script>\n",
              "  </div>\n",
              "\n",
              "\n",
              "<div id=\"df-40fe2f60-af79-4876-8059-d83219e89da4\">\n",
              "  <button class=\"colab-df-quickchart\" onclick=\"quickchart('df-40fe2f60-af79-4876-8059-d83219e89da4')\"\n",
              "            title=\"Suggest charts\"\n",
              "            style=\"display:none;\">\n",
              "\n",
              "<svg xmlns=\"http://www.w3.org/2000/svg\" height=\"24px\"viewBox=\"0 0 24 24\"\n",
              "     width=\"24px\">\n",
              "    <g>\n",
              "        <path d=\"M19 3H5c-1.1 0-2 .9-2 2v14c0 1.1.9 2 2 2h14c1.1 0 2-.9 2-2V5c0-1.1-.9-2-2-2zM9 17H7v-7h2v7zm4 0h-2V7h2v10zm4 0h-2v-4h2v4z\"/>\n",
              "    </g>\n",
              "</svg>\n",
              "  </button>\n",
              "\n",
              "<style>\n",
              "  .colab-df-quickchart {\n",
              "      --bg-color: #E8F0FE;\n",
              "      --fill-color: #1967D2;\n",
              "      --hover-bg-color: #E2EBFA;\n",
              "      --hover-fill-color: #174EA6;\n",
              "      --disabled-fill-color: #AAA;\n",
              "      --disabled-bg-color: #DDD;\n",
              "  }\n",
              "\n",
              "  [theme=dark] .colab-df-quickchart {\n",
              "      --bg-color: #3B4455;\n",
              "      --fill-color: #D2E3FC;\n",
              "      --hover-bg-color: #434B5C;\n",
              "      --hover-fill-color: #FFFFFF;\n",
              "      --disabled-bg-color: #3B4455;\n",
              "      --disabled-fill-color: #666;\n",
              "  }\n",
              "\n",
              "  .colab-df-quickchart {\n",
              "    background-color: var(--bg-color);\n",
              "    border: none;\n",
              "    border-radius: 50%;\n",
              "    cursor: pointer;\n",
              "    display: none;\n",
              "    fill: var(--fill-color);\n",
              "    height: 32px;\n",
              "    padding: 0;\n",
              "    width: 32px;\n",
              "  }\n",
              "\n",
              "  .colab-df-quickchart:hover {\n",
              "    background-color: var(--hover-bg-color);\n",
              "    box-shadow: 0 1px 2px rgba(60, 64, 67, 0.3), 0 1px 3px 1px rgba(60, 64, 67, 0.15);\n",
              "    fill: var(--button-hover-fill-color);\n",
              "  }\n",
              "\n",
              "  .colab-df-quickchart-complete:disabled,\n",
              "  .colab-df-quickchart-complete:disabled:hover {\n",
              "    background-color: var(--disabled-bg-color);\n",
              "    fill: var(--disabled-fill-color);\n",
              "    box-shadow: none;\n",
              "  }\n",
              "\n",
              "  .colab-df-spinner {\n",
              "    border: 2px solid var(--fill-color);\n",
              "    border-color: transparent;\n",
              "    border-bottom-color: var(--fill-color);\n",
              "    animation:\n",
              "      spin 1s steps(1) infinite;\n",
              "  }\n",
              "\n",
              "  @keyframes spin {\n",
              "    0% {\n",
              "      border-color: transparent;\n",
              "      border-bottom-color: var(--fill-color);\n",
              "      border-left-color: var(--fill-color);\n",
              "    }\n",
              "    20% {\n",
              "      border-color: transparent;\n",
              "      border-left-color: var(--fill-color);\n",
              "      border-top-color: var(--fill-color);\n",
              "    }\n",
              "    30% {\n",
              "      border-color: transparent;\n",
              "      border-left-color: var(--fill-color);\n",
              "      border-top-color: var(--fill-color);\n",
              "      border-right-color: var(--fill-color);\n",
              "    }\n",
              "    40% {\n",
              "      border-color: transparent;\n",
              "      border-right-color: var(--fill-color);\n",
              "      border-top-color: var(--fill-color);\n",
              "    }\n",
              "    60% {\n",
              "      border-color: transparent;\n",
              "      border-right-color: var(--fill-color);\n",
              "    }\n",
              "    80% {\n",
              "      border-color: transparent;\n",
              "      border-right-color: var(--fill-color);\n",
              "      border-bottom-color: var(--fill-color);\n",
              "    }\n",
              "    90% {\n",
              "      border-color: transparent;\n",
              "      border-bottom-color: var(--fill-color);\n",
              "    }\n",
              "  }\n",
              "</style>\n",
              "\n",
              "  <script>\n",
              "    async function quickchart(key) {\n",
              "      const quickchartButtonEl =\n",
              "        document.querySelector('#' + key + ' button');\n",
              "      quickchartButtonEl.disabled = true;  // To prevent multiple clicks.\n",
              "      quickchartButtonEl.classList.add('colab-df-spinner');\n",
              "      try {\n",
              "        const charts = await google.colab.kernel.invokeFunction(\n",
              "            'suggestCharts', [key], {});\n",
              "      } catch (error) {\n",
              "        console.error('Error during call to suggestCharts:', error);\n",
              "      }\n",
              "      quickchartButtonEl.classList.remove('colab-df-spinner');\n",
              "      quickchartButtonEl.classList.add('colab-df-quickchart-complete');\n",
              "    }\n",
              "    (() => {\n",
              "      let quickchartButtonEl =\n",
              "        document.querySelector('#df-40fe2f60-af79-4876-8059-d83219e89da4 button');\n",
              "      quickchartButtonEl.style.display =\n",
              "        google.colab.kernel.accessAllowed ? 'block' : 'none';\n",
              "    })();\n",
              "  </script>\n",
              "</div>\n",
              "\n",
              "    </div>\n",
              "  </div>\n"
            ],
            "application/vnd.google.colaboratory.intrinsic+json": {
              "type": "dataframe",
              "variable_name": "df"
            }
          },
          "metadata": {},
          "execution_count": 44
        }
      ],
      "source": [
        "df.head()"
      ]
    },
    {
      "cell_type": "markdown",
      "id": "0ffef737-bd71-43ed-be6d-a357819ab7c8",
      "metadata": {
        "id": "0ffef737-bd71-43ed-be6d-a357819ab7c8"
      },
      "source": [
        "#### Análisis cuantitativo para el Español"
      ]
    },
    {
      "cell_type": "code",
      "execution_count": null,
      "id": "e02c54b1-8b19-4a37-8a64-37749beb0418",
      "metadata": {
        "colab": {
          "base_uri": "https://localhost:8080/",
          "height": 383
        },
        "id": "e02c54b1-8b19-4a37-8a64-37749beb0418",
        "outputId": "2b2d19c1-5470-4be3-85c2-47e57a27ea9a"
      },
      "outputs": [
        {
          "output_type": "stream",
          "name": "stdout",
          "text": [
            "Total unique words: 172173\n"
          ]
        },
        {
          "output_type": "execute_result",
          "data": {
            "text/plain": [
              "category\n",
              "100    84377\n",
              "110    78803\n",
              "010     5710\n",
              "000     3059\n",
              "101      118\n",
              "001       58\n",
              "111       36\n",
              "011       12\n",
              "Name: count, dtype: int64"
            ],
            "text/html": [
              "<div>\n",
              "<style scoped>\n",
              "    .dataframe tbody tr th:only-of-type {\n",
              "        vertical-align: middle;\n",
              "    }\n",
              "\n",
              "    .dataframe tbody tr th {\n",
              "        vertical-align: top;\n",
              "    }\n",
              "\n",
              "    .dataframe thead th {\n",
              "        text-align: right;\n",
              "    }\n",
              "</style>\n",
              "<table border=\"1\" class=\"dataframe\">\n",
              "  <thead>\n",
              "    <tr style=\"text-align: right;\">\n",
              "      <th></th>\n",
              "      <th>count</th>\n",
              "    </tr>\n",
              "    <tr>\n",
              "      <th>category</th>\n",
              "      <th></th>\n",
              "    </tr>\n",
              "  </thead>\n",
              "  <tbody>\n",
              "    <tr>\n",
              "      <th>100</th>\n",
              "      <td>84377</td>\n",
              "    </tr>\n",
              "    <tr>\n",
              "      <th>110</th>\n",
              "      <td>78803</td>\n",
              "    </tr>\n",
              "    <tr>\n",
              "      <th>010</th>\n",
              "      <td>5710</td>\n",
              "    </tr>\n",
              "    <tr>\n",
              "      <th>000</th>\n",
              "      <td>3059</td>\n",
              "    </tr>\n",
              "    <tr>\n",
              "      <th>101</th>\n",
              "      <td>118</td>\n",
              "    </tr>\n",
              "    <tr>\n",
              "      <th>001</th>\n",
              "      <td>58</td>\n",
              "    </tr>\n",
              "    <tr>\n",
              "      <th>111</th>\n",
              "      <td>36</td>\n",
              "    </tr>\n",
              "    <tr>\n",
              "      <th>011</th>\n",
              "      <td>12</td>\n",
              "    </tr>\n",
              "  </tbody>\n",
              "</table>\n",
              "</div><br><label><b>dtype:</b> int64</label>"
            ]
          },
          "metadata": {},
          "execution_count": 45
        }
      ],
      "source": [
        "print(\"Total unique words:\", len(df[\"words\"].unique()))\n",
        "df[\"category\"].value_counts().head(30)"
      ]
    },
    {
      "cell_type": "code",
      "execution_count": null,
      "id": "39965a92-4719-4043-919b-3b99dca0b8f9",
      "metadata": {
        "colab": {
          "base_uri": "https://localhost:8080/"
        },
        "id": "39965a92-4719-4043-919b-3b99dca0b8f9",
        "outputId": "4c759871-d53f-47e5-d307-e8455970a3e4"
      },
      "outputs": [
        {
          "output_type": "execute_result",
          "data": {
            "text/plain": [
              "10.688301882408972"
            ]
          },
          "metadata": {},
          "execution_count": 46
        }
      ],
      "source": [
        "df[\"word_len\"].mean()"
      ]
    },
    {
      "cell_type": "code",
      "execution_count": null,
      "id": "baf02d64-9bc1-4135-9f05-e523728ba269",
      "metadata": {
        "colab": {
          "base_uri": "https://localhost:8080/",
          "height": 472
        },
        "id": "baf02d64-9bc1-4135-9f05-e523728ba269",
        "outputId": "56c77863-6846-456e-bed0-1eca75700b87"
      },
      "outputs": [
        {
          "output_type": "display_data",
          "data": {
            "text/plain": [
              "<Figure size 640x480 with 1 Axes>"
            ],
            "image/png": "[encoded data removed]"
          },
          "metadata": {}
        }
      ],
      "source": [
        "from matplotlib import pyplot as plt\n",
        "\n",
        "plt.hist(df['word_len'], bins=10, edgecolor='black')\n",
        "plt.xlabel('Word Length')\n",
        "plt.ylabel('Frequency')\n",
        "plt.title('Word Length Distribution')\n",
        "plt.show()"
      ]
    },
    {
      "cell_type": "code",
      "execution_count": null,
      "id": "c902ecf4-889a-4082-b4b8-0cb89ba9b16c",
      "metadata": {
        "id": "c902ecf4-889a-4082-b4b8-0cb89ba9b16c"
      },
      "outputs": [],
      "source": [
        "def plot_histogram(df, kind, lang):\n",
        "    \"\"\"Genera un histograma de frecuencia para una columna específica\n",
        "    en un DataFrame.\n",
        "\n",
        "    Parameters:\n",
        "    ----------\n",
        "    df : pd.DataFrame\n",
        "        DataFrame que contiene los datos para generar el histograma.\n",
        "    kind : str\n",
        "        Nombre de la columna para la cual se generará el histograma.\n",
        "    lang : str\n",
        "        Idioma asociado a los datos.\n",
        "\n",
        "    Returns:\n",
        "    -------\n",
        "    None\n",
        "        Esta función muestra el histograma usando matplotlib.\n",
        "    \"\"\"\n",
        "    counts = df[kind].value_counts().head(30)\n",
        "    plt.bar(counts.index, counts.values)\n",
        "    plt.xlabel(kind)\n",
        "    plt.ylabel('Frequency')\n",
        "    plt.title(f'{kind} Frequency Graph for {lang}')\n",
        "    plt.xticks(rotation=90)\n",
        "    plt.tight_layout()\n",
        "    plt.show()"
      ]
    },
    {
      "cell_type": "code",
      "execution_count": null,
      "id": "1f36d2ce-cca3-49f0-b989-69dae98f9646",
      "metadata": {
        "colab": {
          "base_uri": "https://localhost:8080/",
          "height": 487
        },
        "id": "1f36d2ce-cca3-49f0-b989-69dae98f9646",
        "outputId": "39844827-7b3c-417b-d58b-4be672f0d4e1"
      },
      "outputs": [
        {
          "output_type": "display_data",
          "data": {
            "text/plain": [
              "<Figure size 640x480 with 1 Axes>"
            ],
            "image/png": "[encoded data removed]"
          },
          "metadata": {}
        }
      ],
      "source": [
        "plot_histogram(df, \"category\", \"spa\")"
      ]
    },
    {
      "cell_type": "markdown",
      "id": "408683e9-5d9b-44a6-bcb5-d2ad29bf7903",
      "metadata": {
        "id": "408683e9-5d9b-44a6-bcb5-d2ad29bf7903"
      },
      "source": [
        "#### Morfosintaxis"
      ]
    },
    {
      "cell_type": "markdown",
      "id": "10233e8c-b359-4ad7-ab6f-8d6d0c600a39",
      "metadata": {
        "id": "10233e8c-b359-4ad7-ab6f-8d6d0c600a39"
      },
      "source": [
        "- Etiquetas que hacen explícita la funcion gramatical de las palabras en una oración\n",
        "- Determina la función de la palabra dentro la oración (por ello se le llama Partes del Discurso)\n",
        "- Se le conoce tambien como **Análisis morfosintáctico**: es el puente entre la estructura de las palabras y la sintaxis\n",
        "- Permiten el desarrollo de herramientas de NLP más avanzadas\n",
        "- El etiquetado es una tarea que se puede abordar con técnicas secuenciales, por ejemplo, HMMs, CRFs, Redes neuronales"
      ]
    },
    {
      "cell_type": "markdown",
      "id": "8db57418-b7bc-4dc1-972d-aef484e9ea48",
      "metadata": {
        "id": "8db57418-b7bc-4dc1-972d-aef484e9ea48"
      },
      "source": [
        "<center><img src=\"https://byteiota.com/wp-content/uploads/2021/01/POS-Tagging.jpg\" height=500 width=500></center"
      ]
    },
    {
      "cell_type": "markdown",
      "id": "628dd2cd-c0b4-4b12-aa08-b74e5a81579c",
      "metadata": {
        "id": "628dd2cd-c0b4-4b12-aa08-b74e5a81579c"
      },
      "source": [
        "#### Ejemplo\n",
        "\n",
        "> El gato negro rie malvadamente\n",
        "\n",
        "- El - DET\n",
        "- gato - NOUN\n",
        "- negro - ADJ\n",
        "- ríe - VER\n",
        "\n",
        "<center><img src=\"https://i.pinimg.com/originals/0e/f1/30/0ef130b255ea704625b2ad473701dee5.gif\"></center"
      ]
    },
    {
      "cell_type": "markdown",
      "id": "522e2222-af00-4315-82ce-11534116f0b8",
      "metadata": {
        "id": "522e2222-af00-4315-82ce-11534116f0b8"
      },
      "source": [
        "### Etiquetado POS usando Conditional Random Fields (CRFs)"
      ]
    },
    {
      "cell_type": "markdown",
      "id": "2276eafd-a3e4-48a8-b97a-359503a7d66f",
      "metadata": {
        "id": "2276eafd-a3e4-48a8-b97a-359503a7d66f"
      },
      "source": [
        "- Modelo de gráficas **no dirigido**. Generaliza los *HMM*\n",
        "    - Adiós a la *Markov assuption*\n",
        "    - Podemos tener cualquier dependencia que queramos entre nodos\n",
        "    - Nos enfocaremos en un tipo en concreto: *LinearChain-CRFs* ¡¿Por?!\n",
        "\n",
        "<center><img width=300 src=\"https://i.kym-cdn.com/entries/icons/original/000/032/676/Unlimited_Power_Banner.jpg\"></center>\n"
      ]
    },
    {
      "cell_type": "markdown",
      "id": "c5a1bff5-1f06-416b-9244-c4eab4dd989a",
      "metadata": {
        "id": "c5a1bff5-1f06-416b-9244-c4eab4dd989a"
      },
      "source": [
        "- Modela la probabilidad **condicional** $P(Y|X)$\n",
        "    - Modelo discriminativo\n",
        "    - Probabilidad de un estado oculto dada **toda** la secuecia de entrada\n",
        "![homer](https://media.tenor.com/ul0qAKNUm2kAAAAd/hiding-meme.gif)"
      ]
    },
    {
      "cell_type": "markdown",
      "id": "74beab61-39ec-43bf-8ca8-44cbb9d62149",
      "metadata": {
        "id": "74beab61-39ec-43bf-8ca8-44cbb9d62149"
      },
      "source": [
        "- Captura mayor **número de dependencias** entre las palabras y captura más características\n",
        "    - Estas se definen en las *feature functions* 🙀\n",
        "- El entrenamiento se realiza aplicando gradiente decendente y optimización con algoritmos como [L-BFGS](https://en.wikipedia.org/wiki/Limited-memory_BFGS)\n",
        "\n",
        "\n",
        "<center><img src=\"https://iameo.github.io/images/gradient-descent-400.gif\"></center>\n"
      ]
    },
    {
      "cell_type": "markdown",
      "id": "4653baf1-edc2-4813-be95-643a1b0f60f7",
      "metadata": {
        "id": "4653baf1-edc2-4813-be95-643a1b0f60f7"
      },
      "source": [
        "$P(\\overrightarrow{y}|\\overrightarrow{x}) = \\frac{1}{Z} \\displaystyle\\prod_{i=1}^N exp\\{w^T ⋅ \\phi(y_{i-1}, y_i, \\overrightarrow{x}, i)\\}$\n",
        "\n",
        "Donde:\n",
        "- $\\overrightarrow{y}$ = Etiquetas POS\n",
        "- $\\overrightarrow{x}$ = Palabras en una oración\n",
        "- $w^T$ = Vector de pesos a aprender\n",
        "- $\\phi$ = Vector de *Features*\n",
        "    - Calculado con base en un conjunto de *feature functions*\n",
        "- $i$ = la posición actual en la oración\n",
        "- $Z$ = factor de normalización"
      ]
    },
    {
      "cell_type": "markdown",
      "id": "5c13a366-4bc3-425c-8db4-bb2986dc2e8f",
      "metadata": {
        "id": "5c13a366-4bc3-425c-8db4-bb2986dc2e8f"
      },
      "source": [
        "![](https://aman.ai/primers/ai/assets/conditional-random-fields/Conditional_Random_Fields.png)\n",
        "\n",
        "Tomado de http://www.davidsbatista.net/blog/2017/11/13/Conditional_Random_Fields/"
      ]
    },
    {
      "cell_type": "markdown",
      "id": "5ad8c1dc-4c5b-41f8-95c2-40be89f8f07f",
      "metadata": {
        "id": "5ad8c1dc-4c5b-41f8-95c2-40be89f8f07f"
      },
      "source": [
        "#### Feature functions\n",
        "\n",
        "$\\phi(y_{i-1}, y_i, \\overrightarrow{x}, i)$\n",
        "\n",
        "- Parte fundamental de los CRFs\n",
        "- Cuatro argumentos:\n",
        "    - Todos los datos observables $\\overrightarrow{x}$ (conectar $x$ con cualquier $y$)\n",
        "    - El estado oculto anterior $y_{i-1}$\n",
        "    - El estado oculto actual $y_i$\n",
        "    - El index del timestamp $i$\n",
        "        - Cada feature list puede tener diferentes formas"
      ]
    },
    {
      "cell_type": "markdown",
      "id": "c1cfd87f-d4d2-4501-bd47-5a7dc843db2b",
      "metadata": {
        "id": "c1cfd87f-d4d2-4501-bd47-5a7dc843db2b"
      },
      "source": [
        "- Aqui es donde esta la flexibilidad del modelo\n",
        "- Tantas features como querramos, las que consideremos que pueden ayudar a que el modelo tenga un mejor desempeño\n",
        "    - Intimamente ligadas a la lengua. Para mejor desempeño se debe hacer un análisis de sus características.\n",
        "- Ejemplo:\n",
        "\n",
        "```python\n",
        "[\n",
        "    \"word.lower()\",\n",
        "    \"EOS\",\n",
        "    \"BOS\",\n",
        "    \"postag\",\n",
        "    \"pre-word\",\n",
        "    \"nxt-word\",\n",
        "    \"word-position\",\n",
        "    ...\n",
        "]\n",
        "```"
      ]
    },
    {
      "cell_type": "markdown",
      "id": "1c50c45f-9e37-42e0-9cfe-1a78429660ed",
      "metadata": {
        "id": "1c50c45f-9e37-42e0-9cfe-1a78429660ed"
      },
      "source": [
        "### Implementación de CRFs"
      ]
    },
    {
      "cell_type": "code",
      "execution_count": null,
      "id": "ca05605b-7776-4fc8-9e6a-7541a28d659f",
      "metadata": {
        "colab": {
          "base_uri": "https://localhost:8080/"
        },
        "id": "ca05605b-7776-4fc8-9e6a-7541a28d659f",
        "outputId": "1b212ba3-d06c-4401-e179-b0fb66d8e736"
      },
      "outputs": [
        {
          "output_type": "stream",
          "name": "stdout",
          "text": [
            "Requirement already satisfied: nltk in /usr/local/lib/python3.11/dist-packages (3.9.1)\n",
            "Requirement already satisfied: click in /usr/local/lib/python3.11/dist-packages (from nltk) (8.1.8)\n",
            "Requirement already satisfied: joblib in /usr/local/lib/python3.11/dist-packages (from nltk) (1.4.2)\n",
            "Requirement already satisfied: regex>=2021.8.3 in /usr/local/lib/python3.11/dist-packages (from nltk) (2024.11.6)\n",
            "Requirement already satisfied: tqdm in /usr/local/lib/python3.11/dist-packages (from nltk) (4.67.1)\n",
            "Requirement already satisfied: scikit-learn in /usr/local/lib/python3.11/dist-packages (1.6.1)\n",
            "Requirement already satisfied: numpy>=1.19.5 in /usr/local/lib/python3.11/dist-packages (from scikit-learn) (1.26.4)\n",
            "Requirement already satisfied: scipy>=1.6.0 in /usr/local/lib/python3.11/dist-packages (from scikit-learn) (1.13.1)\n",
            "Requirement already satisfied: joblib>=1.2.0 in /usr/local/lib/python3.11/dist-packages (from scikit-learn) (1.4.2)\n",
            "Requirement already satisfied: threadpoolctl>=3.1.0 in /usr/local/lib/python3.11/dist-packages (from scikit-learn) (3.5.0)\n",
            "Collecting sklearn-crfsuite\n",
            "  Downloading sklearn_crfsuite-0.5.0-py2.py3-none-any.whl.metadata (4.9 kB)\n",
            "Collecting python-crfsuite>=0.9.7 (from sklearn-crfsuite)\n",
            "  Downloading python_crfsuite-0.9.11-cp311-cp311-manylinux_2_17_x86_64.manylinux2014_x86_64.whl.metadata (4.3 kB)\n",
            "Requirement already satisfied: scikit-learn>=0.24.0 in /usr/local/lib/python3.11/dist-packages (from sklearn-crfsuite) (1.6.1)\n",
            "Requirement already satisfied: tabulate>=0.4.2 in /usr/local/lib/python3.11/dist-packages (from sklearn-crfsuite) (0.9.0)\n",
            "Requirement already satisfied: tqdm>=2.0 in /usr/local/lib/python3.11/dist-packages (from sklearn-crfsuite) (4.67.1)\n",
            "Requirement already satisfied: numpy>=1.19.5 in /usr/local/lib/python3.11/dist-packages (from scikit-learn>=0.24.0->sklearn-crfsuite) (1.26.4)\n",
            "Requirement already satisfied: scipy>=1.6.0 in /usr/local/lib/python3.11/dist-packages (from scikit-learn>=0.24.0->sklearn-crfsuite) (1.13.1)\n",
            "Requirement already satisfied: joblib>=1.2.0 in /usr/local/lib/python3.11/dist-packages (from scikit-learn>=0.24.0->sklearn-crfsuite) (1.4.2)\n",
            "Requirement already satisfied: threadpoolctl>=3.1.0 in /usr/local/lib/python3.11/dist-packages (from scikit-learn>=0.24.0->sklearn-crfsuite) (3.5.0)\n",
            "Downloading sklearn_crfsuite-0.5.0-py2.py3-none-any.whl (10 kB)\n",
            "Downloading python_crfsuite-0.9.11-cp311-cp311-manylinux_2_17_x86_64.manylinux2014_x86_64.whl (1.3 MB)\n",
            "\u001b[2K   \u001b[90m━━━━━━━━━━━━━━━━━━━━━━━━━━━━━━━━━━━━━━━━\u001b[0m \u001b[32m1.3/1.3 MB\u001b[0m \u001b[31m13.1 MB/s\u001b[0m eta \u001b[36m0:00:00\u001b[0m\n",
            "\u001b[?25hInstalling collected packages: python-crfsuite, sklearn-crfsuite\n",
            "Successfully installed python-crfsuite-0.9.11 sklearn-crfsuite-0.5.0\n"
          ]
        }
      ],
      "source": [
        "!pip install nltk\n",
        "!pip install scikit-learn\n",
        "!pip install -U sklearn-crfsuite"
      ]
    },
    {
      "cell_type": "markdown",
      "id": "b2e0fb29-beee-4a0a-8010-0f62db206981",
      "metadata": {
        "id": "b2e0fb29-beee-4a0a-8010-0f62db206981"
      },
      "source": [
        "#### Obteniendo otro corpus más"
      ]
    },
    {
      "cell_type": "code",
      "execution_count": null,
      "id": "5651f7bc-21de-4379-93b8-07499f6df74a",
      "metadata": {
        "colab": {
          "base_uri": "https://localhost:8080/"
        },
        "id": "5651f7bc-21de-4379-93b8-07499f6df74a",
        "outputId": "e550c513-533c-4d46-b524-939dd60908f3"
      },
      "outputs": [
        {
          "output_type": "stream",
          "name": "stderr",
          "text": [
            "[nltk_data] Downloading package cess_esp to /root/nltk_data...\n",
            "[nltk_data]   Unzipping corpora/cess_esp.zip.\n"
          ]
        },
        {
          "output_type": "execute_result",
          "data": {
            "text/plain": [
              "True"
            ]
          },
          "metadata": {},
          "execution_count": 51
        }
      ],
      "source": [
        "import nltk\n",
        "\n",
        "# Descargando el corpus cess_esp: https://www.nltk.org/book/ch02.html#tab-corpora\n",
        "nltk.download('cess_esp')"
      ]
    },
    {
      "cell_type": "code",
      "execution_count": null,
      "id": "1ab197a8-2ea3-4d85-acf8-745d6f99be83",
      "metadata": {
        "id": "1ab197a8-2ea3-4d85-acf8-745d6f99be83"
      },
      "outputs": [],
      "source": [
        "from nltk.corpus import cess_esp\n",
        "# Cargando oraciones\n",
        "corpora = cess_esp.tagged_sents()"
      ]
    },
    {
      "cell_type": "code",
      "execution_count": null,
      "id": "We80idF3qUIb",
      "metadata": {
        "colab": {
          "base_uri": "https://localhost:8080/"
        },
        "id": "We80idF3qUIb",
        "outputId": "b3ab5308-359d-4989-8d2a-2b057f8b27d1"
      },
      "outputs": [
        {
          "output_type": "execute_result",
          "data": {
            "text/plain": [
              "[('Una', 'di0fs0'),\n",
              " ('portavoz', 'nccs000'),\n",
              " ('de', 'sps00'),\n",
              " ('EDF', 'np00000'),\n",
              " ('explicó', 'vmis3s0'),\n",
              " ('a', 'sps00'),\n",
              " ('EFE', 'np00000'),\n",
              " ('que', 'cs'),\n",
              " ('el', 'da0ms0'),\n",
              " ('proyecto', 'ncms000'),\n",
              " ('para', 'sps00'),\n",
              " ('la', 'da0fs0'),\n",
              " ('construcción', 'ncfs000'),\n",
              " ('de', 'sps00'),\n",
              " ('Altamira_2', 'np00000'),\n",
              " (',', 'Fc'),\n",
              " ('al', 'spcms'),\n",
              " ('norte', 'ncms000'),\n",
              " ('de', 'sps00'),\n",
              " ('Tampico', 'np00000'),\n",
              " (',', 'Fc'),\n",
              " ('prevé', 'vmm02s0'),\n",
              " ('la', 'da0fs0'),\n",
              " ('utilización', 'ncfs000'),\n",
              " ('de', 'sps00'),\n",
              " ('gas', 'ncms000'),\n",
              " ('natural', 'aq0cs0'),\n",
              " ('como', 'cs'),\n",
              " ('combustible', 'ncms000'),\n",
              " ('principal', 'aq0cs0'),\n",
              " ('en', 'sps00'),\n",
              " ('una', 'di0fs0'),\n",
              " ('central', 'ncfs000'),\n",
              " ('de', 'sps00'),\n",
              " ('ciclo', 'ncms000'),\n",
              " ('combinado', 'aq0msp'),\n",
              " ('que', 'pr0cn000'),\n",
              " ('debe', 'vmip3s0'),\n",
              " ('empezar', 'vmn0000'),\n",
              " ('a', 'sps00'),\n",
              " ('funcionar', 'vmn0000'),\n",
              " ('en', 'sps00'),\n",
              " ('mayo_del_2002', 'W'),\n",
              " ('.', 'Fp')]"
            ]
          },
          "metadata": {},
          "execution_count": 53
        }
      ],
      "source": [
        "corpora[1]"
      ]
    },
    {
      "cell_type": "code",
      "execution_count": null,
      "id": "45d7a052-6e9e-47ca-8fc2-13ff05963b53",
      "metadata": {
        "id": "45d7a052-6e9e-47ca-8fc2-13ff05963b53"
      },
      "outputs": [],
      "source": [
        "import requests\n",
        "\n",
        "def get_tags_map() -> dict:\n",
        "    tags_raw = requests.get(\"https://gist.githubusercontent.com/vitojph/39c52c709a9aff2d1d24588aba7f8155/raw/af2d83bc4c2a7e2e6dbb01bd0a10a23a3a21a551/universal_tagset-ES.map\").text.split(\"\\n\")\n",
        "    tags_map = {line.split(\"\\t\")[0].lower(): line.split(\"\\t\")[1] for line in tags_raw}\n",
        "    return tags_map\n",
        "\n",
        "def map_tag(tag: str, tags_map=get_tags_map()) -> str:\n",
        "    return tags_map.get(tag.lower(), \"N/F\")\n",
        "\n",
        "def parse_tags(corpora: list[list[tuple]]) -> list[list[tuple]]:\n",
        "    result = []\n",
        "    for sentence in corpora:\n",
        "        print\n",
        "        result.append([(word, map_tag(tag)) for word, tag in sentence if tag not in [\"Fp\", \"Fc\", \"Fpa\", \"Fpt\"]])\n",
        "    return result"
      ]
    },
    {
      "cell_type": "code",
      "execution_count": null,
      "id": "c07cc1fb-8b6d-4a3d-a637-93c15bcbbfc6",
      "metadata": {
        "id": "c07cc1fb-8b6d-4a3d-a637-93c15bcbbfc6"
      },
      "outputs": [],
      "source": [
        "corpora = parse_tags(corpora)"
      ]
    },
    {
      "cell_type": "code",
      "execution_count": null,
      "id": "d2347079-1504-458b-9743-5bc4dfa7d1e6",
      "metadata": {
        "colab": {
          "base_uri": "https://localhost:8080/"
        },
        "id": "d2347079-1504-458b-9743-5bc4dfa7d1e6",
        "outputId": "0ee5c92f-ab6f-47d4-d52d-9e52d16a6d4e"
      },
      "outputs": [
        {
          "output_type": "execute_result",
          "data": {
            "text/plain": [
              "[('El', 'DET'),\n",
              " ('grupo', 'NOUN'),\n",
              " ('estatal', 'ADJ'),\n",
              " ('Electricité_de_France', 'NOUN'),\n",
              " ('EDF', 'NOUN'),\n",
              " ('anunció', 'VERB'),\n",
              " ('hoy', 'ADV'),\n",
              " ('jueves', 'NOUN'),\n",
              " ('la', 'DET'),\n",
              " ('compra', 'NOUN'),\n",
              " ('del', 'ADP'),\n",
              " ('51_por_ciento', 'NUM'),\n",
              " ('de', 'ADP'),\n",
              " ('la', 'DET'),\n",
              " ('empresa', 'NOUN'),\n",
              " ('mexicana', 'ADJ'),\n",
              " ('Electricidad_Águila_de_Altamira', 'NOUN'),\n",
              " ('EAA', 'NOUN'),\n",
              " ('creada', 'ADJ'),\n",
              " ('por', 'ADP'),\n",
              " ('el', 'DET'),\n",
              " ('japonés', 'ADJ'),\n",
              " ('Mitsubishi_Corporation', 'NOUN'),\n",
              " ('para', 'ADP'),\n",
              " ('poner_en_marcha', 'VERB'),\n",
              " ('una', 'DET'),\n",
              " ('central', 'NOUN'),\n",
              " ('de', 'ADP'),\n",
              " ('gas', 'NOUN'),\n",
              " ('de', 'ADP'),\n",
              " ('495', 'NUM'),\n",
              " ('megavatios', 'NOUN')]"
            ]
          },
          "metadata": {},
          "execution_count": 56
        }
      ],
      "source": [
        "corpora[0]"
      ]
    },
    {
      "cell_type": "markdown",
      "id": "d7864024-2275-4cf6-93f4-16c6b0f54451",
      "metadata": {
        "id": "d7864024-2275-4cf6-93f4-16c6b0f54451"
      },
      "source": [
        "#### Feature lists"
      ]
    },
    {
      "cell_type": "code",
      "execution_count": null,
      "id": "2b6ab1f8-71fc-4862-ac2a-35fcb3ca5b2a",
      "metadata": {
        "id": "2b6ab1f8-71fc-4862-ac2a-35fcb3ca5b2a"
      },
      "outputs": [],
      "source": [
        "def word_to_features(sent, i):\n",
        "    word = sent[i][0]\n",
        "    features = {\n",
        "        'word.lower()': word.lower(),\n",
        "        'word[-3:]': word[-3:],\n",
        "        'word[-2:]': word[-2:],\n",
        "        'word.isupper()': word.isupper(),\n",
        "        'word.istitle()': word.istitle(),\n",
        "        'word.isdigit()': word.isdigit(),\n",
        "        'prefix_1': word[:1],\n",
        "        'prefix_2': word[:2],\n",
        "        'suffix_1': word[-1:],\n",
        "        'suffix_2': word[-2:],\n",
        "        'word_len': len(word)\n",
        "    }\n",
        "    if i > 0:\n",
        "        prev_word = sent[i - 1][0]\n",
        "        features.update({\n",
        "            'prev_word.lower()': prev_word.lower(),\n",
        "            'prev_word.istitle()': prev_word.istitle(),\n",
        "        })\n",
        "    else:\n",
        "        features['BOS'] = True  # Beginning of sentence\n",
        "\n",
        "    return features\n",
        "\n",
        "# Extract features and labels\n",
        "def sent_to_features(sent) -> list:\n",
        "    return [word_to_features(sent, i) for i in range(len(sent))]\n",
        "\n",
        "def sent_to_labels(sent) -> list:\n",
        "    return [label for token, label in sent]"
      ]
    },
    {
      "cell_type": "code",
      "execution_count": null,
      "id": "59da4b3c-7d1d-4725-936c-0afdbf74137f",
      "metadata": {
        "colab": {
          "base_uri": "https://localhost:8080/"
        },
        "id": "59da4b3c-7d1d-4725-936c-0afdbf74137f",
        "outputId": "deaefeab-ab51-4f4d-d552-be23aa2cb28e"
      },
      "outputs": [
        {
          "output_type": "execute_result",
          "data": {
            "text/plain": [
              "6030"
            ]
          },
          "metadata": {},
          "execution_count": 58
        }
      ],
      "source": [
        "# ¿Cuantas oraciones tenemos disponibles?\n",
        "len(corpora)"
      ]
    },
    {
      "cell_type": "code",
      "execution_count": null,
      "id": "7266b709-0287-4f48-a62f-12ca9d7aaffb",
      "metadata": {
        "id": "7266b709-0287-4f48-a62f-12ca9d7aaffb"
      },
      "outputs": [],
      "source": [
        "# Preparando datos para el CRF\n",
        "X = [[word_to_features(sent, i) for i in range(len(sent))] for sent in corpora]\n",
        "y = [[pos for _, pos in sent] for sent in corpora]"
      ]
    },
    {
      "cell_type": "code",
      "execution_count": null,
      "id": "f7f68f41-8ad8-42c4-b20d-626561047433",
      "metadata": {
        "colab": {
          "base_uri": "https://localhost:8080/"
        },
        "id": "f7f68f41-8ad8-42c4-b20d-626561047433",
        "outputId": "ce7d329b-f107-4f37-ebb7-ee396aa54138",
        "scrolled": true
      },
      "outputs": [
        {
          "output_type": "execute_result",
          "data": {
            "text/plain": [
              "[{'word.lower()': 'el',\n",
              "  'word[-3:]': 'El',\n",
              "  'word[-2:]': 'El',\n",
              "  'word.isupper()': False,\n",
              "  'word.istitle()': True,\n",
              "  'word.isdigit()': False,\n",
              "  'prefix_1': 'E',\n",
              "  'prefix_2': 'El',\n",
              "  'suffix_1': 'l',\n",
              "  'suffix_2': 'El',\n",
              "  'word_len': 2,\n",
              "  'BOS': True},\n",
              " {'word.lower()': 'grupo',\n",
              "  'word[-3:]': 'upo',\n",
              "  'word[-2:]': 'po',\n",
              "  'word.isupper()': False,\n",
              "  'word.istitle()': False,\n",
              "  'word.isdigit()': False,\n",
              "  'prefix_1': 'g',\n",
              "  'prefix_2': 'gr',\n",
              "  'suffix_1': 'o',\n",
              "  'suffix_2': 'po',\n",
              "  'word_len': 5,\n",
              "  'prev_word.lower()': 'el',\n",
              "  'prev_word.istitle()': True},\n",
              " {'word.lower()': 'estatal',\n",
              "  'word[-3:]': 'tal',\n",
              "  'word[-2:]': 'al',\n",
              "  'word.isupper()': False,\n",
              "  'word.istitle()': False,\n",
              "  'word.isdigit()': False,\n",
              "  'prefix_1': 'e',\n",
              "  'prefix_2': 'es',\n",
              "  'suffix_1': 'l',\n",
              "  'suffix_2': 'al',\n",
              "  'word_len': 7,\n",
              "  'prev_word.lower()': 'grupo',\n",
              "  'prev_word.istitle()': False},\n",
              " {'word.lower()': 'electricité_de_france',\n",
              "  'word[-3:]': 'nce',\n",
              "  'word[-2:]': 'ce',\n",
              "  'word.isupper()': False,\n",
              "  'word.istitle()': False,\n",
              "  'word.isdigit()': False,\n",
              "  'prefix_1': 'E',\n",
              "  'prefix_2': 'El',\n",
              "  'suffix_1': 'e',\n",
              "  'suffix_2': 'ce',\n",
              "  'word_len': 21,\n",
              "  'prev_word.lower()': 'estatal',\n",
              "  'prev_word.istitle()': False},\n",
              " {'word.lower()': 'edf',\n",
              "  'word[-3:]': 'EDF',\n",
              "  'word[-2:]': 'DF',\n",
              "  'word.isupper()': True,\n",
              "  'word.istitle()': False,\n",
              "  'word.isdigit()': False,\n",
              "  'prefix_1': 'E',\n",
              "  'prefix_2': 'ED',\n",
              "  'suffix_1': 'F',\n",
              "  'suffix_2': 'DF',\n",
              "  'word_len': 3,\n",
              "  'prev_word.lower()': 'electricité_de_france',\n",
              "  'prev_word.istitle()': False},\n",
              " {'word.lower()': 'anunció',\n",
              "  'word[-3:]': 'ció',\n",
              "  'word[-2:]': 'ió',\n",
              "  'word.isupper()': False,\n",
              "  'word.istitle()': False,\n",
              "  'word.isdigit()': False,\n",
              "  'prefix_1': 'a',\n",
              "  'prefix_2': 'an',\n",
              "  'suffix_1': 'ó',\n",
              "  'suffix_2': 'ió',\n",
              "  'word_len': 7,\n",
              "  'prev_word.lower()': 'edf',\n",
              "  'prev_word.istitle()': False},\n",
              " {'word.lower()': 'hoy',\n",
              "  'word[-3:]': 'hoy',\n",
              "  'word[-2:]': 'oy',\n",
              "  'word.isupper()': False,\n",
              "  'word.istitle()': False,\n",
              "  'word.isdigit()': False,\n",
              "  'prefix_1': 'h',\n",
              "  'prefix_2': 'ho',\n",
              "  'suffix_1': 'y',\n",
              "  'suffix_2': 'oy',\n",
              "  'word_len': 3,\n",
              "  'prev_word.lower()': 'anunció',\n",
              "  'prev_word.istitle()': False},\n",
              " {'word.lower()': 'jueves',\n",
              "  'word[-3:]': 'ves',\n",
              "  'word[-2:]': 'es',\n",
              "  'word.isupper()': False,\n",
              "  'word.istitle()': False,\n",
              "  'word.isdigit()': False,\n",
              "  'prefix_1': 'j',\n",
              "  'prefix_2': 'ju',\n",
              "  'suffix_1': 's',\n",
              "  'suffix_2': 'es',\n",
              "  'word_len': 6,\n",
              "  'prev_word.lower()': 'hoy',\n",
              "  'prev_word.istitle()': False},\n",
              " {'word.lower()': 'la',\n",
              "  'word[-3:]': 'la',\n",
              "  'word[-2:]': 'la',\n",
              "  'word.isupper()': False,\n",
              "  'word.istitle()': False,\n",
              "  'word.isdigit()': False,\n",
              "  'prefix_1': 'l',\n",
              "  'prefix_2': 'la',\n",
              "  'suffix_1': 'a',\n",
              "  'suffix_2': 'la',\n",
              "  'word_len': 2,\n",
              "  'prev_word.lower()': 'jueves',\n",
              "  'prev_word.istitle()': False},\n",
              " {'word.lower()': 'compra',\n",
              "  'word[-3:]': 'pra',\n",
              "  'word[-2:]': 'ra',\n",
              "  'word.isupper()': False,\n",
              "  'word.istitle()': False,\n",
              "  'word.isdigit()': False,\n",
              "  'prefix_1': 'c',\n",
              "  'prefix_2': 'co',\n",
              "  'suffix_1': 'a',\n",
              "  'suffix_2': 'ra',\n",
              "  'word_len': 6,\n",
              "  'prev_word.lower()': 'la',\n",
              "  'prev_word.istitle()': False},\n",
              " {'word.lower()': 'del',\n",
              "  'word[-3:]': 'del',\n",
              "  'word[-2:]': 'el',\n",
              "  'word.isupper()': False,\n",
              "  'word.istitle()': False,\n",
              "  'word.isdigit()': False,\n",
              "  'prefix_1': 'd',\n",
              "  'prefix_2': 'de',\n",
              "  'suffix_1': 'l',\n",
              "  'suffix_2': 'el',\n",
              "  'word_len': 3,\n",
              "  'prev_word.lower()': 'compra',\n",
              "  'prev_word.istitle()': False},\n",
              " {'word.lower()': '51_por_ciento',\n",
              "  'word[-3:]': 'nto',\n",
              "  'word[-2:]': 'to',\n",
              "  'word.isupper()': False,\n",
              "  'word.istitle()': False,\n",
              "  'word.isdigit()': False,\n",
              "  'prefix_1': '5',\n",
              "  'prefix_2': '51',\n",
              "  'suffix_1': 'o',\n",
              "  'suffix_2': 'to',\n",
              "  'word_len': 13,\n",
              "  'prev_word.lower()': 'del',\n",
              "  'prev_word.istitle()': False},\n",
              " {'word.lower()': 'de',\n",
              "  'word[-3:]': 'de',\n",
              "  'word[-2:]': 'de',\n",
              "  'word.isupper()': False,\n",
              "  'word.istitle()': False,\n",
              "  'word.isdigit()': False,\n",
              "  'prefix_1': 'd',\n",
              "  'prefix_2': 'de',\n",
              "  'suffix_1': 'e',\n",
              "  'suffix_2': 'de',\n",
              "  'word_len': 2,\n",
              "  'prev_word.lower()': '51_por_ciento',\n",
              "  'prev_word.istitle()': False},\n",
              " {'word.lower()': 'la',\n",
              "  'word[-3:]': 'la',\n",
              "  'word[-2:]': 'la',\n",
              "  'word.isupper()': False,\n",
              "  'word.istitle()': False,\n",
              "  'word.isdigit()': False,\n",
              "  'prefix_1': 'l',\n",
              "  'prefix_2': 'la',\n",
              "  'suffix_1': 'a',\n",
              "  'suffix_2': 'la',\n",
              "  'word_len': 2,\n",
              "  'prev_word.lower()': 'de',\n",
              "  'prev_word.istitle()': False},\n",
              " {'word.lower()': 'empresa',\n",
              "  'word[-3:]': 'esa',\n",
              "  'word[-2:]': 'sa',\n",
              "  'word.isupper()': False,\n",
              "  'word.istitle()': False,\n",
              "  'word.isdigit()': False,\n",
              "  'prefix_1': 'e',\n",
              "  'prefix_2': 'em',\n",
              "  'suffix_1': 'a',\n",
              "  'suffix_2': 'sa',\n",
              "  'word_len': 7,\n",
              "  'prev_word.lower()': 'la',\n",
              "  'prev_word.istitle()': False},\n",
              " {'word.lower()': 'mexicana',\n",
              "  'word[-3:]': 'ana',\n",
              "  'word[-2:]': 'na',\n",
              "  'word.isupper()': False,\n",
              "  'word.istitle()': False,\n",
              "  'word.isdigit()': False,\n",
              "  'prefix_1': 'm',\n",
              "  'prefix_2': 'me',\n",
              "  'suffix_1': 'a',\n",
              "  'suffix_2': 'na',\n",
              "  'word_len': 8,\n",
              "  'prev_word.lower()': 'empresa',\n",
              "  'prev_word.istitle()': False},\n",
              " {'word.lower()': 'electricidad_águila_de_altamira',\n",
              "  'word[-3:]': 'ira',\n",
              "  'word[-2:]': 'ra',\n",
              "  'word.isupper()': False,\n",
              "  'word.istitle()': False,\n",
              "  'word.isdigit()': False,\n",
              "  'prefix_1': 'E',\n",
              "  'prefix_2': 'El',\n",
              "  'suffix_1': 'a',\n",
              "  'suffix_2': 'ra',\n",
              "  'word_len': 31,\n",
              "  'prev_word.lower()': 'mexicana',\n",
              "  'prev_word.istitle()': False},\n",
              " {'word.lower()': 'eaa',\n",
              "  'word[-3:]': 'EAA',\n",
              "  'word[-2:]': 'AA',\n",
              "  'word.isupper()': True,\n",
              "  'word.istitle()': False,\n",
              "  'word.isdigit()': False,\n",
              "  'prefix_1': 'E',\n",
              "  'prefix_2': 'EA',\n",
              "  'suffix_1': 'A',\n",
              "  'suffix_2': 'AA',\n",
              "  'word_len': 3,\n",
              "  'prev_word.lower()': 'electricidad_águila_de_altamira',\n",
              "  'prev_word.istitle()': False},\n",
              " {'word.lower()': 'creada',\n",
              "  'word[-3:]': 'ada',\n",
              "  'word[-2:]': 'da',\n",
              "  'word.isupper()': False,\n",
              "  'word.istitle()': False,\n",
              "  'word.isdigit()': False,\n",
              "  'prefix_1': 'c',\n",
              "  'prefix_2': 'cr',\n",
              "  'suffix_1': 'a',\n",
              "  'suffix_2': 'da',\n",
              "  'word_len': 6,\n",
              "  'prev_word.lower()': 'eaa',\n",
              "  'prev_word.istitle()': False},\n",
              " {'word.lower()': 'por',\n",
              "  'word[-3:]': 'por',\n",
              "  'word[-2:]': 'or',\n",
              "  'word.isupper()': False,\n",
              "  'word.istitle()': False,\n",
              "  'word.isdigit()': False,\n",
              "  'prefix_1': 'p',\n",
              "  'prefix_2': 'po',\n",
              "  'suffix_1': 'r',\n",
              "  'suffix_2': 'or',\n",
              "  'word_len': 3,\n",
              "  'prev_word.lower()': 'creada',\n",
              "  'prev_word.istitle()': False},\n",
              " {'word.lower()': 'el',\n",
              "  'word[-3:]': 'el',\n",
              "  'word[-2:]': 'el',\n",
              "  'word.isupper()': False,\n",
              "  'word.istitle()': False,\n",
              "  'word.isdigit()': False,\n",
              "  'prefix_1': 'e',\n",
              "  'prefix_2': 'el',\n",
              "  'suffix_1': 'l',\n",
              "  'suffix_2': 'el',\n",
              "  'word_len': 2,\n",
              "  'prev_word.lower()': 'por',\n",
              "  'prev_word.istitle()': False},\n",
              " {'word.lower()': 'japonés',\n",
              "  'word[-3:]': 'nés',\n",
              "  'word[-2:]': 'és',\n",
              "  'word.isupper()': False,\n",
              "  'word.istitle()': False,\n",
              "  'word.isdigit()': False,\n",
              "  'prefix_1': 'j',\n",
              "  'prefix_2': 'ja',\n",
              "  'suffix_1': 's',\n",
              "  'suffix_2': 'és',\n",
              "  'word_len': 7,\n",
              "  'prev_word.lower()': 'el',\n",
              "  'prev_word.istitle()': False},\n",
              " {'word.lower()': 'mitsubishi_corporation',\n",
              "  'word[-3:]': 'ion',\n",
              "  'word[-2:]': 'on',\n",
              "  'word.isupper()': False,\n",
              "  'word.istitle()': True,\n",
              "  'word.isdigit()': False,\n",
              "  'prefix_1': 'M',\n",
              "  'prefix_2': 'Mi',\n",
              "  'suffix_1': 'n',\n",
              "  'suffix_2': 'on',\n",
              "  'word_len': 22,\n",
              "  'prev_word.lower()': 'japonés',\n",
              "  'prev_word.istitle()': False},\n",
              " {'word.lower()': 'para',\n",
              "  'word[-3:]': 'ara',\n",
              "  'word[-2:]': 'ra',\n",
              "  'word.isupper()': False,\n",
              "  'word.istitle()': False,\n",
              "  'word.isdigit()': False,\n",
              "  'prefix_1': 'p',\n",
              "  'prefix_2': 'pa',\n",
              "  'suffix_1': 'a',\n",
              "  'suffix_2': 'ra',\n",
              "  'word_len': 4,\n",
              "  'prev_word.lower()': 'mitsubishi_corporation',\n",
              "  'prev_word.istitle()': True},\n",
              " {'word.lower()': 'poner_en_marcha',\n",
              "  'word[-3:]': 'cha',\n",
              "  'word[-2:]': 'ha',\n",
              "  'word.isupper()': False,\n",
              "  'word.istitle()': False,\n",
              "  'word.isdigit()': False,\n",
              "  'prefix_1': 'p',\n",
              "  'prefix_2': 'po',\n",
              "  'suffix_1': 'a',\n",
              "  'suffix_2': 'ha',\n",
              "  'word_len': 15,\n",
              "  'prev_word.lower()': 'para',\n",
              "  'prev_word.istitle()': False},\n",
              " {'word.lower()': 'una',\n",
              "  'word[-3:]': 'una',\n",
              "  'word[-2:]': 'na',\n",
              "  'word.isupper()': False,\n",
              "  'word.istitle()': False,\n",
              "  'word.isdigit()': False,\n",
              "  'prefix_1': 'u',\n",
              "  'prefix_2': 'un',\n",
              "  'suffix_1': 'a',\n",
              "  'suffix_2': 'na',\n",
              "  'word_len': 3,\n",
              "  'prev_word.lower()': 'poner_en_marcha',\n",
              "  'prev_word.istitle()': False},\n",
              " {'word.lower()': 'central',\n",
              "  'word[-3:]': 'ral',\n",
              "  'word[-2:]': 'al',\n",
              "  'word.isupper()': False,\n",
              "  'word.istitle()': False,\n",
              "  'word.isdigit()': False,\n",
              "  'prefix_1': 'c',\n",
              "  'prefix_2': 'ce',\n",
              "  'suffix_1': 'l',\n",
              "  'suffix_2': 'al',\n",
              "  'word_len': 7,\n",
              "  'prev_word.lower()': 'una',\n",
              "  'prev_word.istitle()': False},\n",
              " {'word.lower()': 'de',\n",
              "  'word[-3:]': 'de',\n",
              "  'word[-2:]': 'de',\n",
              "  'word.isupper()': False,\n",
              "  'word.istitle()': False,\n",
              "  'word.isdigit()': False,\n",
              "  'prefix_1': 'd',\n",
              "  'prefix_2': 'de',\n",
              "  'suffix_1': 'e',\n",
              "  'suffix_2': 'de',\n",
              "  'word_len': 2,\n",
              "  'prev_word.lower()': 'central',\n",
              "  'prev_word.istitle()': False},\n",
              " {'word.lower()': 'gas',\n",
              "  'word[-3:]': 'gas',\n",
              "  'word[-2:]': 'as',\n",
              "  'word.isupper()': False,\n",
              "  'word.istitle()': False,\n",
              "  'word.isdigit()': False,\n",
              "  'prefix_1': 'g',\n",
              "  'prefix_2': 'ga',\n",
              "  'suffix_1': 's',\n",
              "  'suffix_2': 'as',\n",
              "  'word_len': 3,\n",
              "  'prev_word.lower()': 'de',\n",
              "  'prev_word.istitle()': False},\n",
              " {'word.lower()': 'de',\n",
              "  'word[-3:]': 'de',\n",
              "  'word[-2:]': 'de',\n",
              "  'word.isupper()': False,\n",
              "  'word.istitle()': False,\n",
              "  'word.isdigit()': False,\n",
              "  'prefix_1': 'd',\n",
              "  'prefix_2': 'de',\n",
              "  'suffix_1': 'e',\n",
              "  'suffix_2': 'de',\n",
              "  'word_len': 2,\n",
              "  'prev_word.lower()': 'gas',\n",
              "  'prev_word.istitle()': False},\n",
              " {'word.lower()': '495',\n",
              "  'word[-3:]': '495',\n",
              "  'word[-2:]': '95',\n",
              "  'word.isupper()': False,\n",
              "  'word.istitle()': False,\n",
              "  'word.isdigit()': True,\n",
              "  'prefix_1': '4',\n",
              "  'prefix_2': '49',\n",
              "  'suffix_1': '5',\n",
              "  'suffix_2': '95',\n",
              "  'word_len': 3,\n",
              "  'prev_word.lower()': 'de',\n",
              "  'prev_word.istitle()': False},\n",
              " {'word.lower()': 'megavatios',\n",
              "  'word[-3:]': 'ios',\n",
              "  'word[-2:]': 'os',\n",
              "  'word.isupper()': False,\n",
              "  'word.istitle()': False,\n",
              "  'word.isdigit()': False,\n",
              "  'prefix_1': 'm',\n",
              "  'prefix_2': 'me',\n",
              "  'suffix_1': 's',\n",
              "  'suffix_2': 'os',\n",
              "  'word_len': 10,\n",
              "  'prev_word.lower()': '495',\n",
              "  'prev_word.istitle()': False}]"
            ]
          },
          "metadata": {},
          "execution_count": 60
        }
      ],
      "source": [
        "# Exploración de data estructurada\n",
        "X[0]"
      ]
    },
    {
      "cell_type": "code",
      "execution_count": null,
      "id": "e6bdf707-c7fc-408b-9d81-65528e068cbb",
      "metadata": {
        "id": "e6bdf707-c7fc-408b-9d81-65528e068cbb"
      },
      "outputs": [],
      "source": [
        "from sklearn.model_selection import train_test_split\n",
        "# Split the data into training and testing sets\n",
        "X_train, X_test, y_train, y_test = train_test_split(X, y, test_size=0.2, random_state=42)"
      ]
    },
    {
      "cell_type": "code",
      "execution_count": null,
      "id": "49503189-368e-4d83-abd2-b06433bae3e8",
      "metadata": {
        "id": "49503189-368e-4d83-abd2-b06433bae3e8"
      },
      "outputs": [],
      "source": [
        "assert len(X_train) + len(X_test) == len(corpora), \"Something wrong with my split :(\"\n",
        "assert len(y_train) + len(y_test) == len(corpora), \"Something wrong with my split :(\""
      ]
    },
    {
      "cell_type": "code",
      "execution_count": null,
      "id": "cba343a2-482f-4c67-a842-704ab5fc6f3e",
      "metadata": {
        "colab": {
          "base_uri": "https://localhost:8080/"
        },
        "collapsed": true,
        "id": "cba343a2-482f-4c67-a842-704ab5fc6f3e",
        "outputId": "2d99de00-a478-4e5a-b181-2086a6c6594a",
        "scrolled": true
      },
      "outputs": [
        {
          "output_type": "stream",
          "name": "stderr",
          "text": [
            "loading training data to CRFsuite: 100%|██████████| 4824/4824 [00:03<00:00, 1327.65it/s]\n"
          ]
        },
        {
          "output_type": "stream",
          "name": "stdout",
          "text": [
            "\n",
            "Feature generation\n",
            "type: CRF1d\n",
            "feature.minfreq: 0.000000\n",
            "feature.possible_states: 0\n",
            "feature.possible_transitions: 1\n",
            "0....1....2....3....4....5....6....7....8....9....10\n",
            "Number of features: 67684\n",
            "Seconds required: 0.656\n",
            "\n",
            "L-BFGS optimization\n",
            "c1: 0.100000\n",
            "c2: 0.100000\n",
            "num_memories: 6\n",
            "max_iterations: 100\n",
            "epsilon: 0.000010\n",
            "stop: 10\n",
            "delta: 0.000010\n",
            "linesearch: MoreThuente\n",
            "linesearch.max_iterations: 20\n",
            "\n",
            "Iter 1   time=0.75  loss=296361.69 active=66733 feature_norm=0.50\n",
            "Iter 2   time=0.27  loss=274496.22 active=66451 feature_norm=0.43\n",
            "Iter 3   time=0.28  loss=268124.40 active=66864 feature_norm=0.50\n",
            "Iter 4   time=0.27  loss=259997.04 active=67083 feature_norm=0.64\n",
            "Iter 5   time=0.28  loss=229759.34 active=66884 feature_norm=1.46\n",
            "Iter 6   time=0.28  loss=192769.26 active=67105 feature_norm=2.81\n",
            "Iter 7   time=0.28  loss=162202.75 active=67202 feature_norm=4.47\n",
            "Iter 8   time=0.28  loss=135392.33 active=67332 feature_norm=5.69\n",
            "Iter 9   time=0.27  loss=114697.04 active=67160 feature_norm=7.82\n",
            "Iter 10  time=0.27  loss=102761.57 active=67094 feature_norm=9.72\n",
            "Iter 11  time=0.27  loss=92949.35 active=67387 feature_norm=11.18\n",
            "Iter 12  time=0.27  loss=87086.08 active=67346 feature_norm=12.80\n",
            "Iter 13  time=0.28  loss=81856.98 active=67250 feature_norm=14.29\n",
            "Iter 14  time=0.27  loss=74105.76 active=66596 feature_norm=18.56\n",
            "Iter 15  time=0.28  loss=68918.72 active=66321 feature_norm=20.51\n",
            "Iter 16  time=0.28  loss=63715.25 active=66086 feature_norm=22.62\n",
            "Iter 17  time=0.27  loss=57476.94 active=65349 feature_norm=26.21\n",
            "Iter 18  time=0.27  loss=51406.67 active=62892 feature_norm=30.49\n",
            "Iter 19  time=0.27  loss=47347.14 active=60881 feature_norm=33.93\n",
            "Iter 20  time=0.23  loss=42965.45 active=55201 feature_norm=38.46\n",
            "Iter 21  time=0.18  loss=41070.23 active=53538 feature_norm=43.83\n",
            "Iter 22  time=0.17  loss=37461.44 active=50903 feature_norm=45.43\n",
            "Iter 23  time=0.18  loss=35203.80 active=50768 feature_norm=47.50\n",
            "Iter 24  time=0.19  loss=31965.72 active=47460 feature_norm=53.23\n",
            "Iter 25  time=0.18  loss=30850.32 active=47290 feature_norm=61.15\n",
            "Iter 26  time=0.18  loss=27966.63 active=47646 feature_norm=62.46\n",
            "Iter 27  time=0.18  loss=26905.79 active=46613 feature_norm=64.85\n",
            "Iter 28  time=0.19  loss=24743.60 active=43233 feature_norm=72.37\n",
            "Iter 29  time=0.52  loss=24479.94 active=43096 feature_norm=74.55\n",
            "Iter 30  time=0.18  loss=22729.75 active=42998 feature_norm=79.15\n",
            "Iter 31  time=0.17  loss=21422.96 active=42809 feature_norm=84.24\n",
            "Iter 32  time=0.19  loss=19910.69 active=41230 feature_norm=92.46\n",
            "Iter 33  time=0.17  loss=18679.11 active=39169 feature_norm=101.36\n",
            "Iter 34  time=0.17  loss=18224.33 active=39307 feature_norm=104.80\n",
            "Iter 35  time=0.18  loss=17403.38 active=39338 feature_norm=106.34\n",
            "Iter 36  time=0.18  loss=16711.39 active=38897 feature_norm=109.77\n",
            "Iter 37  time=0.18  loss=15907.02 active=37992 feature_norm=114.83\n",
            "Iter 38  time=0.82  loss=15749.53 active=37876 feature_norm=114.84\n",
            "Iter 39  time=0.26  loss=14880.05 active=35913 feature_norm=121.77\n",
            "Iter 40  time=0.26  loss=14286.83 active=35561 feature_norm=126.76\n",
            "Iter 41  time=0.75  loss=14070.55 active=34389 feature_norm=130.25\n",
            "Iter 42  time=0.27  loss=13490.81 active=33508 feature_norm=134.89\n",
            "Iter 43  time=0.27  loss=13027.46 active=32364 feature_norm=140.53\n",
            "Iter 44  time=0.27  loss=12624.95 active=31050 feature_norm=146.35\n",
            "Iter 45  time=0.36  loss=12445.46 active=30934 feature_norm=150.35\n",
            "Iter 46  time=0.18  loss=12171.03 active=30800 feature_norm=154.35\n",
            "Iter 47  time=0.18  loss=11971.51 active=30606 feature_norm=156.04\n",
            "Iter 48  time=0.17  loss=11743.11 active=29914 feature_norm=159.47\n",
            "Iter 49  time=0.18  loss=11588.13 active=29567 feature_norm=161.81\n",
            "Iter 50  time=0.19  loss=11412.93 active=29144 feature_norm=164.17\n",
            "Iter 51  time=0.36  loss=11377.54 active=28957 feature_norm=164.57\n",
            "Iter 52  time=0.18  loss=11266.41 active=28874 feature_norm=165.14\n",
            "Iter 53  time=0.18  loss=11200.86 active=28629 feature_norm=166.12\n",
            "Iter 54  time=0.18  loss=11117.21 active=28135 feature_norm=167.42\n",
            "Iter 55  time=0.19  loss=11051.98 active=27709 feature_norm=167.76\n",
            "Iter 56  time=0.18  loss=11042.30 active=27478 feature_norm=168.35\n",
            "Iter 57  time=0.18  loss=10978.35 active=27568 feature_norm=168.49\n",
            "Iter 58  time=0.18  loss=10956.36 active=27480 feature_norm=168.62\n",
            "Iter 59  time=0.19  loss=10910.73 active=27272 feature_norm=168.92\n",
            "Iter 60  time=0.37  loss=10889.98 active=27059 feature_norm=168.62\n",
            "Iter 61  time=0.18  loss=10832.25 active=26887 feature_norm=168.96\n",
            "Iter 62  time=0.18  loss=10793.52 active=26716 feature_norm=169.25\n",
            "Iter 63  time=0.18  loss=10741.51 active=26374 feature_norm=169.87\n",
            "Iter 64  time=0.36  loss=10726.33 active=26253 feature_norm=170.21\n",
            "Iter 65  time=0.18  loss=10692.68 active=26212 feature_norm=170.40\n",
            "Iter 66  time=0.18  loss=10665.57 active=26032 feature_norm=170.63\n",
            "Iter 67  time=0.18  loss=10619.49 active=25551 feature_norm=171.15\n",
            "Iter 68  time=0.54  loss=10617.03 active=25520 feature_norm=171.01\n",
            "Iter 69  time=0.18  loss=10593.32 active=25511 feature_norm=171.18\n",
            "Iter 70  time=0.18  loss=10569.74 active=25362 feature_norm=171.32\n",
            "Iter 71  time=0.20  loss=10540.13 active=25099 feature_norm=171.45\n",
            "Iter 72  time=0.35  loss=10530.91 active=24971 feature_norm=171.49\n",
            "Iter 73  time=0.19  loss=10507.30 active=24934 feature_norm=171.59\n",
            "Iter 74  time=0.18  loss=10489.44 active=24821 feature_norm=171.61\n",
            "Iter 75  time=0.36  loss=10479.12 active=24686 feature_norm=171.62\n",
            "Iter 76  time=0.18  loss=10460.34 active=24610 feature_norm=171.67\n",
            "Iter 77  time=0.19  loss=10446.72 active=24542 feature_norm=171.67\n",
            "Iter 78  time=0.18  loss=10430.96 active=24387 feature_norm=171.70\n",
            "Iter 79  time=0.18  loss=10415.40 active=24352 feature_norm=171.70\n",
            "Iter 80  time=0.18  loss=10402.49 active=24267 feature_norm=171.72\n",
            "Iter 81  time=0.19  loss=10388.30 active=24140 feature_norm=171.74\n",
            "Iter 82  time=0.18  loss=10376.38 active=24076 feature_norm=171.77\n",
            "Iter 83  time=0.19  loss=10365.55 active=24058 feature_norm=171.81\n",
            "Iter 84  time=0.18  loss=10355.77 active=23984 feature_norm=171.85\n",
            "Iter 85  time=0.18  loss=10345.77 active=23979 feature_norm=171.86\n",
            "Iter 86  time=0.19  loss=10336.52 active=23888 feature_norm=171.88\n",
            "Iter 87  time=0.18  loss=10327.96 active=23870 feature_norm=171.91\n",
            "Iter 88  time=0.18  loss=10320.15 active=23838 feature_norm=171.96\n",
            "Iter 89  time=0.20  loss=10312.66 active=23829 feature_norm=171.99\n",
            "Iter 90  time=0.18  loss=10304.78 active=23746 feature_norm=172.02\n",
            "Iter 91  time=0.19  loss=10298.36 active=23707 feature_norm=172.04\n",
            "Iter 92  time=0.26  loss=10292.54 active=23671 feature_norm=172.09\n",
            "Iter 93  time=0.26  loss=10287.45 active=23624 feature_norm=172.10\n",
            "Iter 94  time=0.26  loss=10282.71 active=23584 feature_norm=172.11\n",
            "Iter 95  time=0.26  loss=10277.81 active=23554 feature_norm=172.10\n",
            "Iter 96  time=0.26  loss=10273.39 active=23502 feature_norm=172.11\n",
            "Iter 97  time=0.25  loss=10268.76 active=23473 feature_norm=172.09\n",
            "Iter 98  time=0.27  loss=10264.11 active=23413 feature_norm=172.07\n",
            "Iter 99  time=0.26  loss=10259.33 active=23380 feature_norm=172.03\n",
            "Iter 100 time=0.27  loss=10254.55 active=23347 feature_norm=171.97\n",
            "L-BFGS terminated with the maximum number of iterations\n",
            "Total seconds required for training: 24.595\n",
            "\n",
            "Storing the model\n",
            "Number of active features: 23347 (67684)\n",
            "Number of active attributes: 16525 (47474)\n",
            "Number of active labels: 11 (11)\n",
            "Writing labels\n",
            "Writing attributes\n",
            "Writing feature references for transitions\n",
            "Writing feature references for attributes\n",
            "Seconds required: 0.025\n",
            "\n"
          ]
        }
      ],
      "source": [
        "from inspect import Attribute\n",
        "from sklearn_crfsuite import CRF\n",
        "# Initialize and train the CRF tagger: https://sklearn-crfsuite.readthedocs.io/en/latest/api.html\n",
        "crf = CRF(algorithm='lbfgs', c1=0.1, c2=0.1, max_iterations=100, all_possible_transitions=True, verbose=True)\n",
        "try:\n",
        "    crf.fit(X_train, y_train)\n",
        "except AttributeError as e:\n",
        "    print(e)"
      ]
    },
    {
      "cell_type": "code",
      "execution_count": null,
      "id": "983f2a29-b455-4ca3-8115-eb4962e25481",
      "metadata": {
        "colab": {
          "base_uri": "https://localhost:8080/"
        },
        "id": "983f2a29-b455-4ca3-8115-eb4962e25481",
        "outputId": "91a79a1d-7b88-421e-f0e8-d8253535086a"
      },
      "outputs": [
        {
          "output_type": "stream",
          "name": "stdout",
          "text": [
            "              precision    recall  f1-score   support\n",
            "\n",
            "           .       1.00      1.00      1.00      1035\n",
            "         ADJ       0.90      0.90      0.90      2675\n",
            "         ADP       1.00      1.00      1.00      6577\n",
            "         ADV       0.96      0.95      0.95      1473\n",
            "        CONJ       0.97      0.97      0.97      2149\n",
            "         DET       0.99      0.99      0.99      5563\n",
            "        NOUN       0.97      0.97      0.97      9005\n",
            "         NUM       0.94      0.98      0.96       400\n",
            "        PRON       0.95      0.95      0.95      1705\n",
            "        VERB       0.98      0.98      0.98      4505\n",
            "           X       1.00      1.00      1.00         4\n",
            "\n",
            "    accuracy                           0.97     35091\n",
            "   macro avg       0.97      0.97      0.97     35091\n",
            "weighted avg       0.97      0.97      0.97     35091\n",
            "\n"
          ]
        }
      ],
      "source": [
        "from sklearn.metrics import classification_report\n",
        "y_pred = crf.predict(X_test)\n",
        "\n",
        "# Flatten the true and predicted labels\n",
        "y_test_flat = [label for sent_labels in y_test for label in sent_labels]\n",
        "y_pred_flat = [label for sent_labels in y_pred for label in sent_labels]\n",
        "\n",
        "# Evaluate the model\n",
        "report = classification_report(y_true=y_test_flat, y_pred=y_pred_flat)\n",
        "print(report)"
      ]
    },
    {
      "cell_type": "markdown",
      "id": "1266180c-54ca-433c-bf77-e7052df67291",
      "metadata": {
        "id": "1266180c-54ca-433c-bf77-e7052df67291"
      },
      "source": [
        "## Tarea 1: Niveles del lenguaje\n",
        "\n",
        "### FECHA DE ENTREGA: 16 de Febrero 2025 at 11:59pm\n",
        "\n",
        "### Fonética\n",
        "\n",
        "1. Si tenemos un sistema de búsqueda que recibe una palabra ortográfica y devuelve sus transcripciones fonológicas, proponga una solución para los casos en que la palabra buscada no se encuentra en el lexicón/diccionario. *¿Cómo devolver o aproximar su transcripción fonológica?*\n",
        "  - Reutiliza el sistema de búsqueda visto en clase y mejoralo con esta funcionalidad\n",
        "\n",
        "### Morfología\n",
        "\n",
        "2. Obtenga los datos de `test` y `dev` para todas las lenguas disponibles en el Shared Task SIGMORPHON 2022 y haga lo siguiente:\n",
        "    - En un plot de 4 columnas y 2 rows muestre las siguientes distribuciones (un subplot por lengua):\n",
        "        - Plot 1: distribución de longitud de palabras\n",
        "        - Plot 2: distribución de la cuenta de morfemas\n",
        "        - Plot 3: distribución de categorias (si existe para la lengua)\n",
        "    - Realice una función que imprima por cada lengua lo siguiente:\n",
        "        - Total de palabras\n",
        "        - La longitud de palabra promedio\n",
        "        - La cuenta de morfemas promedio\n",
        "        - La categoría más común\n",
        "    - Con base en esta información elabore una conclusión lingüística sobre la morfología de las lenguas analizadas.\n",
        "    \n",
        "### EXTRA:\n",
        "\n",
        "- Imprimir la [matríz de confusión](https://en.wikipedia.org/wiki/Confusion_matrix) para el etiquetador CRFs visto en clase y elaborar una conclusión sobre los resultados"
      ]
    },
    {
      "cell_type": "markdown",
      "source": [
        "#Tarea Fonética"
      ],
      "metadata": {
        "id": "Tj3xXN4gTj-M"
      },
      "id": "Tj3xXN4gTj-M"
    },
    {
      "cell_type": "code",
      "source": [
        "!pip install python-Levenshtein"
      ],
      "metadata": {
        "colab": {
          "base_uri": "https://localhost:8080/"
        },
        "id": "IXdcAWnugcqK",
        "outputId": "d5504f41-7157-4815-fba0-bff419c8fe2e"
      },
      "id": "IXdcAWnugcqK",
      "execution_count": null,
      "outputs": [
        {
          "output_type": "stream",
          "name": "stdout",
          "text": [
            "Collecting python-Levenshtein\n",
            "  Downloading python_Levenshtein-0.26.1-py3-none-any.whl.metadata (3.7 kB)\n",
            "Collecting Levenshtein==0.26.1 (from python-Levenshtein)\n",
            "  Downloading levenshtein-0.26.1-cp311-cp311-manylinux_2_17_x86_64.manylinux2014_x86_64.whl.metadata (3.2 kB)\n",
            "Collecting rapidfuzz<4.0.0,>=3.9.0 (from Levenshtein==0.26.1->python-Levenshtein)\n",
            "  Downloading rapidfuzz-3.12.1-cp311-cp311-manylinux_2_17_x86_64.manylinux2014_x86_64.whl.metadata (11 kB)\n",
            "Downloading python_Levenshtein-0.26.1-py3-none-any.whl (9.4 kB)\n",
            "Downloading levenshtein-0.26.1-cp311-cp311-manylinux_2_17_x86_64.manylinux2014_x86_64.whl (162 kB)\n",
            "\u001b[2K   \u001b[90m━━━━━━━━━━━━━━━━━━━━━━━━━━━━━━━━━━━━━━━━\u001b[0m \u001b[32m162.7/162.7 kB\u001b[0m \u001b[31m2.9 MB/s\u001b[0m eta \u001b[36m0:00:00\u001b[0m\n",
            "\u001b[?25hDownloading rapidfuzz-3.12.1-cp311-cp311-manylinux_2_17_x86_64.manylinux2014_x86_64.whl (3.1 MB)\n",
            "\u001b[2K   \u001b[90m━━━━━━━━━━━━━━━━━━━━━━━━━━━━━━━━━━━━━━━━\u001b[0m \u001b[32m3.1/3.1 MB\u001b[0m \u001b[31m34.2 MB/s\u001b[0m eta \u001b[36m0:00:00\u001b[0m\n",
            "\u001b[?25hInstalling collected packages: rapidfuzz, Levenshtein, python-Levenshtein\n",
            "Successfully installed Levenshtein-0.26.1 python-Levenshtein-0.26.1 rapidfuzz-3.12.1\n"
          ]
        }
      ]
    },
    {
      "cell_type": "code",
      "execution_count": null,
      "id": "RHStHUpmDkwp",
      "metadata": {
        "colab": {
          "base_uri": "https://localhost:8080/"
        },
        "id": "RHStHUpmDkwp",
        "outputId": "ceceb37d-634a-4831-d97b-1bb561875f7e"
      },
      "outputs": [
        {
          "output_type": "stream",
          "name": "stdout",
          "text": [
            "{'o', 'h', 'a', 'l'}\n"
          ]
        }
      ],
      "source": [
        "var='hola'\n",
        "var_set=set(var)\n",
        "print(var_set)"
      ]
    },
    {
      "cell_type": "code",
      "execution_count": null,
      "id": "XXOv6GTWAmAD",
      "metadata": {
        "id": "XXOv6GTWAmAD"
      },
      "outputs": [],
      "source": [
        "import Levenshtein\n",
        "def get_similar_words(word,words_to_compare)->dict:\n",
        "  word=word.lower()\n",
        "  levenshtein_distances={}\n",
        "  for word_compare in words_to_compare:\n",
        "    word_compare=word_compare.lower()\n",
        "    levenshtein_distance=Levenshtein.distance(word,word_compare)\n",
        "    levenshtein_distances[word_compare]=levenshtein_distance\n",
        "  #Ordenados por similitud\n",
        "  levenshtein_distances=dict(sorted(levenshtein_distances.items(),key=lambda x:x[1],reverse=False))\n",
        "  #10 palabras más similares\n",
        "  levenshtein_distances=dict(list(levenshtein_distances.items())[:10])\n",
        "  return levenshtein_distances"
      ]
    },
    {
      "cell_type": "code",
      "execution_count": null,
      "id": "OucVKpNra4oE",
      "metadata": {
        "colab": {
          "base_uri": "https://localhost:8080/"
        },
        "id": "OucVKpNra4oE",
        "outputId": "bc374512-e5bd-4608-8553-272330b9001b"
      },
      "outputs": [
        {
          "output_type": "stream",
          "name": "stdout",
          "text": [
            "{'peroro': 1, 'perrero': 1, 'perro': 1, 'aperreo': 2, 'berreo': 2, 'berro': 2, 'cerero': 2, 'cerro': 2, 'erro': 2, 'ferro': 2}\n"
          ]
        }
      ],
      "source": [
        "print(get_similar_words('perrro',data['es_MX'].keys()))"
      ]
    },
    {
      "cell_type": "code",
      "execution_count": null,
      "id": "oW_JEkMlsSIs",
      "metadata": {
        "colab": {
          "base_uri": "https://localhost:8080/",
          "height": 741
        },
        "id": "oW_JEkMlsSIs",
        "outputId": "dd9609cb-0f99-44c6-be74-6f0ead98573a"
      },
      "outputs": [
        {
          "output_type": "display_data",
          "data": {
            "text/plain": [
              "╭─────────────────────────────────────────────────────────────────────────────────────────────────────────────────╮\n",
              "│ \u001b[1m                                      Representación fonética de palabras                                      \u001b[0m │\n",
              "╰─────────────────────────────────────────────────────────────────────────────────────────────────────────────────╯\n"
            ],
            "text/html": [
              "<pre style=\"white-space:pre;overflow-x:auto;line-height:normal;font-family:Menlo,'DejaVu Sans Mono',consolas,'Courier New',monospace\">╭─────────────────────────────────────────────────────────────────────────────────────────────────────────────────╮\n",
              "│ <span style=\"font-weight: bold\">                                      Representación fonética de palabras                                      </span> │\n",
              "╰─────────────────────────────────────────────────────────────────────────────────────────────────────────────────╯\n",
              "</pre>\n"
            ]
          },
          "metadata": {}
        },
        {
          "output_type": "display_data",
          "data": {
            "text/plain": [
              "╭────────────────────────────╮ ╭──────────────────────────────────╮ ╭──────────────────────────────────╮\n",
              "│ \u001b[1mArabic (Modern Standard)\u001b[0m   │ │ \u001b[1mGerman\u001b[0m                           │ │ \u001b[1mEnglish (Received Pronunciation)\u001b[0m │\n",
              "│ \u001b[33mar\u001b[0m                         │ │ \u001b[33mde\u001b[0m                               │ │ \u001b[33men_UK\u001b[0m                            │\n",
              "╰────────────────────────────╯ ╰──────────────────────────────────╯ ╰──────────────────────────────────╯\n",
              "╭────────────────────────────╮ ╭──────────────────────────────────╮ ╭──────────────────────────────────╮\n",
              "│ \u001b[1mEnglish (General American)\u001b[0m │ │ \u001b[1mEsperanto\u001b[0m                        │ │ \u001b[1mSpanish (Spain)\u001b[0m                  │\n",
              "│ \u001b[33men_US\u001b[0m                      │ │ \u001b[33meo\u001b[0m                               │ │ \u001b[33mes_ES\u001b[0m                            │\n",
              "╰────────────────────────────╯ ╰──────────────────────────────────╯ ╰──────────────────────────────────╯\n",
              "╭────────────────────────────╮ ╭──────────────────────────────────╮ ╭──────────────────────────────────╮\n",
              "│ \u001b[1mSpanish (Mexico)\u001b[0m           │ │ \u001b[1mPersian\u001b[0m                          │ │ \u001b[1mFinnish\u001b[0m                          │\n",
              "│ \u001b[33mes_MX\u001b[0m                      │ │ \u001b[33mfa\u001b[0m                               │ │ \u001b[33mfi\u001b[0m                               │\n",
              "╰────────────────────────────╯ ╰──────────────────────────────────╯ ╰──────────────────────────────────╯\n",
              "╭────────────────────────────╮ ╭──────────────────────────────────╮ ╭──────────────────────────────────╮\n",
              "│ \u001b[1mFrench (France)\u001b[0m            │ │ \u001b[1mFrench (Québec)\u001b[0m                  │ │ \u001b[1mIcelandic\u001b[0m                        │\n",
              "│ \u001b[33mfr_FR\u001b[0m                      │ │ \u001b[33mfr_QC\u001b[0m                            │ │ \u001b[33mis\u001b[0m                               │\n",
              "╰────────────────────────────╯ ╰──────────────────────────────────╯ ╰──────────────────────────────────╯\n",
              "╭────────────────────────────╮ ╭──────────────────────────────────╮ ╭──────────────────────────────────╮\n",
              "│ \u001b[1mJapanese\u001b[0m                   │ │ \u001b[1mJamaican Creole\u001b[0m                  │ │ \u001b[1mKhmer\u001b[0m                            │\n",
              "│ \u001b[33mja\u001b[0m                         │ │ \u001b[33mjam\u001b[0m                              │ │ \u001b[33mkm\u001b[0m                               │\n",
              "╰────────────────────────────╯ ╰──────────────────────────────────╯ ╰──────────────────────────────────╯\n",
              "╭────────────────────────────╮ ╭──────────────────────────────────╮ ╭──────────────────────────────────╮\n",
              "│ \u001b[1mKorean\u001b[0m                     │ │ \u001b[1mMalay (Malaysian and Indonesian)\u001b[0m │ │ \u001b[1mNorwegian Bokmål\u001b[0m                 │\n",
              "│ \u001b[33mko\u001b[0m                         │ │ \u001b[33mma\u001b[0m                               │ │ \u001b[33mnb\u001b[0m                               │\n",
              "╰────────────────────────────╯ ╰──────────────────────────────────╯ ╰──────────────────────────────────╯\n",
              "╭────────────────────────────╮ ╭──────────────────────────────────╮ ╭──────────────────────────────────╮\n",
              "│ \u001b[1mDutch\u001b[0m                      │ │ \u001b[1mOdia\u001b[0m                             │ │ \u001b[1mRomanian\u001b[0m                         │\n",
              "│ \u001b[33mnl\u001b[0m                         │ │ \u001b[33mor\u001b[0m                               │ │ \u001b[33mro\u001b[0m                               │\n",
              "╰────────────────────────────╯ ╰──────────────────────────────────╯ ╰──────────────────────────────────╯\n",
              "╭────────────────────────────╮ ╭──────────────────────────────────╮ ╭──────────────────────────────────╮\n",
              "│ \u001b[1mSwedish\u001b[0m                    │ │ \u001b[1mSwahili\u001b[0m                          │ │ \u001b[1mIsan\u001b[0m                             │\n",
              "│ \u001b[33msv\u001b[0m                         │ │ \u001b[33msw\u001b[0m                               │ │ \u001b[33mtts\u001b[0m                              │\n",
              "╰────────────────────────────╯ ╰──────────────────────────────────╯ ╰──────────────────────────────────╯\n",
              "╭────────────────────────────╮ ╭──────────────────────────────────╮ ╭──────────────────────────────────╮\n",
              "│ \u001b[1mVietnamese (Central)\u001b[0m       │ │ \u001b[1mVietnamese (Northern)\u001b[0m            │ │ \u001b[1mVietnamese (Southern)\u001b[0m            │\n",
              "│ \u001b[33mvi_C\u001b[0m                       │ │ \u001b[33mvi_N\u001b[0m                             │ │ \u001b[33mvi_S\u001b[0m                             │\n",
              "╰────────────────────────────╯ ╰──────────────────────────────────╯ ╰──────────────────────────────────╯\n",
              "╭────────────────────────────╮ ╭──────────────────────────────────╮ ╭──────────────────────────────────╮\n",
              "│ \u001b[1mCantonese\u001b[0m                  │ │ \u001b[1mMandarin (Simplified)\u001b[0m            │ │ \u001b[1mMandarin (Traditional)\u001b[0m           │\n",
              "│ \u001b[33myue\u001b[0m                        │ │ \u001b[33mzh_hans\u001b[0m                          │ │ \u001b[33mzh_hant\u001b[0m                          │\n",
              "╰────────────────────────────╯ ╰──────────────────────────────────╯ ╰──────────────────────────────────╯\n"
            ],
            "text/html": [
              "<pre style=\"white-space:pre;overflow-x:auto;line-height:normal;font-family:Menlo,'DejaVu Sans Mono',consolas,'Courier New',monospace\">╭────────────────────────────╮ ╭──────────────────────────────────╮ ╭──────────────────────────────────╮\n",
              "│ <span style=\"font-weight: bold\">Arabic (Modern Standard)</span>   │ │ <span style=\"font-weight: bold\">German</span>                           │ │ <span style=\"font-weight: bold\">English (Received Pronunciation)</span> │\n",
              "│ <span style=\"color: #808000; text-decoration-color: #808000\">ar</span>                         │ │ <span style=\"color: #808000; text-decoration-color: #808000\">de</span>                               │ │ <span style=\"color: #808000; text-decoration-color: #808000\">en_UK</span>                            │\n",
              "╰────────────────────────────╯ ╰──────────────────────────────────╯ ╰──────────────────────────────────╯\n",
              "╭────────────────────────────╮ ╭──────────────────────────────────╮ ╭──────────────────────────────────╮\n",
              "│ <span style=\"font-weight: bold\">English (General American)</span> │ │ <span style=\"font-weight: bold\">Esperanto</span>                        │ │ <span style=\"font-weight: bold\">Spanish (Spain)</span>                  │\n",
              "│ <span style=\"color: #808000; text-decoration-color: #808000\">en_US</span>                      │ │ <span style=\"color: #808000; text-decoration-color: #808000\">eo</span>                               │ │ <span style=\"color: #808000; text-decoration-color: #808000\">es_ES</span>                            │\n",
              "╰────────────────────────────╯ ╰──────────────────────────────────╯ ╰──────────────────────────────────╯\n",
              "╭────────────────────────────╮ ╭──────────────────────────────────╮ ╭──────────────────────────────────╮\n",
              "│ <span style=\"font-weight: bold\">Spanish (Mexico)</span>           │ │ <span style=\"font-weight: bold\">Persian</span>                          │ │ <span style=\"font-weight: bold\">Finnish</span>                          │\n",
              "│ <span style=\"color: #808000; text-decoration-color: #808000\">es_MX</span>                      │ │ <span style=\"color: #808000; text-decoration-color: #808000\">fa</span>                               │ │ <span style=\"color: #808000; text-decoration-color: #808000\">fi</span>                               │\n",
              "╰────────────────────────────╯ ╰──────────────────────────────────╯ ╰──────────────────────────────────╯\n",
              "╭────────────────────────────╮ ╭──────────────────────────────────╮ ╭──────────────────────────────────╮\n",
              "│ <span style=\"font-weight: bold\">French (France)</span>            │ │ <span style=\"font-weight: bold\">French (Québec)</span>                  │ │ <span style=\"font-weight: bold\">Icelandic</span>                        │\n",
              "│ <span style=\"color: #808000; text-decoration-color: #808000\">fr_FR</span>                      │ │ <span style=\"color: #808000; text-decoration-color: #808000\">fr_QC</span>                            │ │ <span style=\"color: #808000; text-decoration-color: #808000\">is</span>                               │\n",
              "╰────────────────────────────╯ ╰──────────────────────────────────╯ ╰──────────────────────────────────╯\n",
              "╭────────────────────────────╮ ╭──────────────────────────────────╮ ╭──────────────────────────────────╮\n",
              "│ <span style=\"font-weight: bold\">Japanese</span>                   │ │ <span style=\"font-weight: bold\">Jamaican Creole</span>                  │ │ <span style=\"font-weight: bold\">Khmer</span>                            │\n",
              "│ <span style=\"color: #808000; text-decoration-color: #808000\">ja</span>                         │ │ <span style=\"color: #808000; text-decoration-color: #808000\">jam</span>                              │ │ <span style=\"color: #808000; text-decoration-color: #808000\">km</span>                               │\n",
              "╰────────────────────────────╯ ╰──────────────────────────────────╯ ╰──────────────────────────────────╯\n",
              "╭────────────────────────────╮ ╭──────────────────────────────────╮ ╭──────────────────────────────────╮\n",
              "│ <span style=\"font-weight: bold\">Korean</span>                     │ │ <span style=\"font-weight: bold\">Malay (Malaysian and Indonesian)</span> │ │ <span style=\"font-weight: bold\">Norwegian Bokmål</span>                 │\n",
              "│ <span style=\"color: #808000; text-decoration-color: #808000\">ko</span>                         │ │ <span style=\"color: #808000; text-decoration-color: #808000\">ma</span>                               │ │ <span style=\"color: #808000; text-decoration-color: #808000\">nb</span>                               │\n",
              "╰────────────────────────────╯ ╰──────────────────────────────────╯ ╰──────────────────────────────────╯\n",
              "╭────────────────────────────╮ ╭──────────────────────────────────╮ ╭──────────────────────────────────╮\n",
              "│ <span style=\"font-weight: bold\">Dutch</span>                      │ │ <span style=\"font-weight: bold\">Odia</span>                             │ │ <span style=\"font-weight: bold\">Romanian</span>                         │\n",
              "│ <span style=\"color: #808000; text-decoration-color: #808000\">nl</span>                         │ │ <span style=\"color: #808000; text-decoration-color: #808000\">or</span>                               │ │ <span style=\"color: #808000; text-decoration-color: #808000\">ro</span>                               │\n",
              "╰────────────────────────────╯ ╰──────────────────────────────────╯ ╰──────────────────────────────────╯\n",
              "╭────────────────────────────╮ ╭──────────────────────────────────╮ ╭──────────────────────────────────╮\n",
              "│ <span style=\"font-weight: bold\">Swedish</span>                    │ │ <span style=\"font-weight: bold\">Swahili</span>                          │ │ <span style=\"font-weight: bold\">Isan</span>                             │\n",
              "│ <span style=\"color: #808000; text-decoration-color: #808000\">sv</span>                         │ │ <span style=\"color: #808000; text-decoration-color: #808000\">sw</span>                               │ │ <span style=\"color: #808000; text-decoration-color: #808000\">tts</span>                              │\n",
              "╰────────────────────────────╯ ╰──────────────────────────────────╯ ╰──────────────────────────────────╯\n",
              "╭────────────────────────────╮ ╭──────────────────────────────────╮ ╭──────────────────────────────────╮\n",
              "│ <span style=\"font-weight: bold\">Vietnamese (Central)</span>       │ │ <span style=\"font-weight: bold\">Vietnamese (Northern)</span>            │ │ <span style=\"font-weight: bold\">Vietnamese (Southern)</span>            │\n",
              "│ <span style=\"color: #808000; text-decoration-color: #808000\">vi_C</span>                       │ │ <span style=\"color: #808000; text-decoration-color: #808000\">vi_N</span>                             │ │ <span style=\"color: #808000; text-decoration-color: #808000\">vi_S</span>                             │\n",
              "╰────────────────────────────╯ ╰──────────────────────────────────╯ ╰──────────────────────────────────╯\n",
              "╭────────────────────────────╮ ╭──────────────────────────────────╮ ╭──────────────────────────────────╮\n",
              "│ <span style=\"font-weight: bold\">Cantonese</span>                  │ │ <span style=\"font-weight: bold\">Mandarin (Simplified)</span>            │ │ <span style=\"font-weight: bold\">Mandarin (Traditional)</span>           │\n",
              "│ <span style=\"color: #808000; text-decoration-color: #808000\">yue</span>                        │ │ <span style=\"color: #808000; text-decoration-color: #808000\">zh_hans</span>                          │ │ <span style=\"color: #808000; text-decoration-color: #808000\">zh_hant</span>                          │\n",
              "╰────────────────────────────╯ ╰──────────────────────────────────╯ ╰──────────────────────────────────╯\n",
              "</pre>\n"
            ]
          },
          "metadata": {}
        },
        {
          "name": "stdout",
          "output_type": "stream",
          "text": [
            "lang>> \n"
          ]
        },
        {
          "output_type": "display_data",
          "data": {
            "text/plain": [
              "Adios 👋🏼\n"
            ],
            "text/html": [
              "<pre style=\"white-space:pre;overflow-x:auto;line-height:normal;font-family:Menlo,'DejaVu Sans Mono',consolas,'Courier New',monospace\">Adios 👋🏼\n",
              "</pre>\n"
            ]
          },
          "metadata": {}
        }
      ],
      "source": [
        "rprint(Panel(Text(\"Representación fonética de palabras\", style=\"bold\", justify=\"center\")))\n",
        "rendable_langs = [Panel(get_formated_string(code, lang), expand=True) for code, lang in lang_codes.items()]\n",
        "rprint(Columns(rendable_langs))\n",
        "\n",
        "lang = input(\"lang>> \")\n",
        "rprint(f\"Selected language: {lang_codes[lang]}\") if lang else rprint(\"Adios 👋🏼\")\n",
        "while lang:\n",
        "    sub_dataset = data[lang]\n",
        "    query = input(f\"  [{lang}]word>> \")\n",
        "    results = get_ipa_transcriptions(query, sub_dataset)\n",
        "    if results == [\"\"]:\n",
        "      rprint(f'Tu palabra no está en el dataset. \\nPero, te damos 10 posibles sugerencias similares.')\n",
        "      similar_words=get_similar_words(query,sub_dataset.keys())\n",
        "      for similar_word in similar_words.keys():\n",
        "        results = get_ipa_transcriptions(similar_word, sub_dataset)\n",
        "        rprint(similar_word, \" | \", \", \".join(results))\n",
        "    else:\n",
        "     rprint(query, \" | \", \", \".join(results))\n",
        "    while query:\n",
        "        query = input(f\"  [{lang}]word>> \")\n",
        "        if query:\n",
        "            results = get_ipa_transcriptions(query, sub_dataset)\n",
        "            if results == [\"\"]:\n",
        "              rprint(f'Tu palabra no está en el dataset.\\nPero, te damos 10 posibles sugerencias similares.')\n",
        "              similar_words=get_similar_words(query,sub_dataset.keys())\n",
        "              for similar_word in similar_words.keys():\n",
        "                      results = get_ipa_transcriptions(similar_word, sub_dataset)\n",
        "                      rprint(similar_word, \" | \", \", \".join(results))\n",
        "            else:\n",
        "             rprint(query, \" | \", \", \".join(results))\n",
        "    lang = input(\"lang>> \")\n",
        "    rprint(f\"Selected language: {lang_codes[lang]}\") if lang else rprint(\"Adios 👋🏼\")"
      ]
    },
    {
      "cell_type": "markdown",
      "source": [
        "#Tarea Morfología"
      ],
      "metadata": {
        "id": "i1y4B0IXTm_U"
      },
      "id": "i1y4B0IXTm_U"
    },
    {
      "cell_type": "code",
      "source": [
        "import requests as r\n",
        "from pprint import pprint as pp\n",
        "import pandas as pd\n",
        "import matplotlib.pyplot as plt"
      ],
      "metadata": {
        "id": "HHRFvLRKYGjq"
      },
      "id": "HHRFvLRKYGjq",
      "execution_count": null,
      "outputs": []
    },
    {
      "cell_type": "code",
      "execution_count": null,
      "metadata": {
        "id": "Pkrs2Es_Te0X"
      },
      "outputs": [],
      "source": [
        "def get_track_files(lang: str, track: str = \"word\") -> list[str]:\n",
        "    \"\"\"Genera una lista de nombres de archivo del shared task\n",
        "\n",
        "    Con base en el idioma y el track obtiene el nombre de los archivos\n",
        "    para con información reelevante para hacer análisis estadístico.\n",
        "    Esto es archivos .test y .dev\n",
        "\n",
        "    Parameters:\n",
        "    ----------\n",
        "    lang : str\n",
        "        Idioma para el cual se generarán los nombres de archivo.\n",
        "    track : str, optional\n",
        "        Track del shared task de donde vienen los datos (por defecto es \"word\").\n",
        "\n",
        "    Returns:\n",
        "    -------\n",
        "    list[str]\n",
        "        Una lista de nombres de archivo generados para el idioma y la pista especificados.\n",
        "    \"\"\"\n",
        "    return [\n",
        "        f\"{lang}.{track}.test.gold\",\n",
        "        f\"{lang}.{track}.dev\",\n",
        "    ]"
      ],
      "id": "Pkrs2Es_Te0X"
    },
    {
      "cell_type": "code",
      "execution_count": null,
      "metadata": {
        "id": "cdS9mIrHTe0Y"
      },
      "outputs": [],
      "source": [
        "def get_raw_corpus(files: list) -> list:\n",
        "    \"\"\"Descarga y concatena los datos de los archivos tsv desde una URL base.\n",
        "\n",
        "    Parameters:\n",
        "    ----------\n",
        "    files : list\n",
        "        Lista de nombres de archivos (sin extensión) que se descargarán\n",
        "        y concatenarán.\n",
        "\n",
        "    Returns:\n",
        "    -------\n",
        "    list\n",
        "        Una lista que contiene los contenidos descargados y concatenados\n",
        "        de los archivos tsv.\n",
        "    \"\"\"\n",
        "    result = []\n",
        "    for file in files:\n",
        "        #print(f\"Downloading {file}.tsv\", end=\" \")\n",
        "        response = r.get(f\"https://raw.githubusercontent.com/sigmorphon/2022SegmentationST/main/data/{file}.tsv\")\n",
        "        #print(f\"status={response.status_code}\")\n",
        "        lines = response.text.split(\"\\n\")\n",
        "        result.extend(lines[:-1])\n",
        "    return result"
      ],
      "id": "cdS9mIrHTe0Y"
    },
    {
      "cell_type": "code",
      "execution_count": null,
      "metadata": {
        "id": "BxqIhXj4Te0Z"
      },
      "outputs": [],
      "source": [
        "def raw_corpus_to_dataframe(corpus_list: list, lang: str) -> pd.DataFrame:\n",
        "    \"\"\"Convierte una lista de datos de corpus en un DataFrame\n",
        "\n",
        "    Parameters:\n",
        "    ----------\n",
        "    corpus_list : list\n",
        "        Lista de líneas del corpus a convertir en DataFrame.\n",
        "    lang : str\n",
        "        Idioma al que pertenecen los datos del corpus.\n",
        "\n",
        "    Returns:\n",
        "    -------\n",
        "    pd.DataFrame\n",
        "        Un DataFrame de pandas que contiene los datos del corpus procesados.\n",
        "    \"\"\"\n",
        "    data_list = []\n",
        "    for line in corpus_list:\n",
        "        try:\n",
        "            word, tagged_data, category = line.split(\"\\t\")\n",
        "        except ValueError:\n",
        "            # Caso donde no existe la categoria\n",
        "            word, tagged_data = line.split(\"\\t\")\n",
        "            category = \"NOT_FOUND\"\n",
        "        morphemes = tagged_data.split()\n",
        "        data_list.append({\"words\": word, \"morph\": morphemes, \"category\": category, \"lang\": lang})\n",
        "    df = pd.DataFrame(data_list)\n",
        "    df[\"word_len\"] = df[\"words\"].apply(lambda x: len(x))\n",
        "    df[\"morph_count\"] = df[\"morph\"].apply(lambda x: len(x))\n",
        "    return df"
      ],
      "id": "BxqIhXj4Te0Z"
    },
    {
      "cell_type": "code",
      "execution_count": null,
      "metadata": {
        "id": "w-Dwvve8WzIq"
      },
      "outputs": [],
      "source": [
        "def plot_histogram(df, kind, lang):\n",
        "    \"\"\"Genera un histograma de frecuencia para una columna específica\n",
        "    en un DataFrame.\n",
        "\n",
        "    Parameters:\n",
        "    ----------\n",
        "    df : pd.DataFrame\n",
        "        DataFrame que contiene los datos para generar el histograma.\n",
        "    kind : str\n",
        "        Nombre de la columna para la cual se generará el histograma.\n",
        "    lang : str\n",
        "        Idioma asociado a los datos.\n",
        "\n",
        "    Returns:\n",
        "    -------\n",
        "    None\n",
        "        Esta función muestra el histograma usando matplotlib.\n",
        "    \"\"\"\n",
        "    counts = df[kind].value_counts().head(30)\n",
        "    plt.bar(counts.index, counts.values)\n",
        "    plt.xlabel(kind)\n",
        "    plt.ylabel('Frequency')\n",
        "    plt.title(f'{kind} Frequency Graph for {lang}')\n",
        "    plt.xticks(rotation=90)\n",
        "    plt.tight_layout()\n",
        "    #plt.show()"
      ],
      "id": "w-Dwvve8WzIq"
    },
    {
      "cell_type": "code",
      "execution_count": null,
      "metadata": {
        "id": "PBxWwzL6Te0U"
      },
      "outputs": [],
      "source": [
        "LANGS = {\n",
        "    \"ces\": \"Czech\",\n",
        "    \"eng\": \"English\",\n",
        "    \"fra\": \"French\",\n",
        "    \"hun\": \"Hungarian\",\n",
        "    \"spa\": \"Spanish\",\n",
        "    \"ita\": \"Italian\",\n",
        "    \"lat\": \"Latin\",\n",
        "    \"rus\": \"Russian\",\n",
        "}\n",
        "CATEGORIES = {\n",
        "    \"100\": \"Inflection\",\n",
        "    \"010\": \"Derivation\",\n",
        "    \"101\": \"Inflection, Compound\",\n",
        "    \"000\": \"Root\",\n",
        "    \"011\": \"Derivation, Compound\",\n",
        "    \"110\": \"Inflection, Derivation\",\n",
        "    \"001\": \"Compound\",\n",
        "    \"111\": \"Inflection, Derivation, Compound\"\n",
        "}"
      ],
      "id": "PBxWwzL6Te0U"
    },
    {
      "cell_type": "code",
      "source": [
        "import numpy as np\n",
        "x = np.linspace(0, 10, 100)\n",
        "y = np.sin(x)"
      ],
      "metadata": {
        "id": "x0uA8JzcddQr"
      },
      "id": "x0uA8JzcddQr",
      "execution_count": null,
      "outputs": []
    },
    {
      "cell_type": "code",
      "source": [
        "columns=[\"word_len\",\"morph_count\",\"category\"]\n",
        "for column in columns:\n",
        "  plt.figure(figsize=(20, 10))\n",
        "  plt.suptitle(f\"Distribución de la columna: {column}\")\n",
        "\n",
        "  i=1\n",
        "  for lang_short, lang_name in LANGS.items():\n",
        "      files = get_track_files(lang_short)\n",
        "      raw_corpus = get_raw_corpus(files)\n",
        "      df = raw_corpus_to_dataframe(raw_corpus, lang=lang_short)\n",
        "      plt.subplot(2, 4, i)\n",
        "      plot_histogram(df, column, lang_name)\n",
        "\n",
        "      i+=1\n",
        "  plt.show()\n",
        "  print(\"\\n\")"
      ],
      "metadata": {
        "colab": {
          "base_uri": "https://localhost:8080/",
          "height": 1000
        },
        "id": "OdOhmY3tYUS6",
        "outputId": "065b1d01-86df-43c0-e332-905caf6d304b"
      },
      "id": "OdOhmY3tYUS6",
      "execution_count": null,
      "outputs": [
        {
          "output_type": "display_data",
          "data": {
            "text/plain": [
              "<Figure size 2000x1000 with 8 Axes>"
            ],
            "image/png": "[encoded data removed]"
          },
          "metadata": {}
        },
        {
          "output_type": "stream",
          "name": "stdout",
          "text": [
            "\n",
            "\n"
          ]
        },
        {
          "output_type": "display_data",
          "data": {
            "text/plain": [
              "<Figure size 2000x1000 with 8 Axes>"
            ],
            "image/png": "[encoded data removed]"
          },
          "metadata": {}
        },
        {
          "output_type": "stream",
          "name": "stdout",
          "text": [
            "\n",
            "\n"
          ]
        },
        {
          "output_type": "display_data",
          "data": {
            "text/plain": [
              "<Figure size 2000x1000 with 8 Axes>"
            ],
            "image/png": "[encoded data removed]"
          },
          "metadata": {}
        },
        {
          "output_type": "stream",
          "name": "stdout",
          "text": [
            "\n",
            "\n"
          ]
        }
      ]
    },
    {
      "cell_type": "markdown",
      "source": [
        "Realice una función que imprima por cada lengua lo siguiente:\n",
        "Total de palabras\n",
        "La longitud de palabra promedio\n",
        "La cuenta de morfemas promedio\n",
        "La categoría más común"
      ],
      "metadata": {
        "id": "LcM68rKrmeKo"
      },
      "id": "LcM68rKrmeKo"
    },
    {
      "cell_type": "code",
      "source": [
        "def stats(df):\n",
        "  print(f\"Total de palabras: {df['words'].count()}\")\n",
        "  print(f\"Longitud de palabra promedio: {df['word_len'].mean()}\")\n",
        "  print(f\"Cuenta de morfemas promedio: {df['morph_count'].mean()}\")\n",
        "  print(f\"Categoría más común: {df['category'].value_counts().idxmax()}\")"
      ],
      "metadata": {
        "id": "t3NS2u-QmdsC"
      },
      "id": "t3NS2u-QmdsC",
      "execution_count": null,
      "outputs": []
    },
    {
      "cell_type": "code",
      "source": [
        "for lang_short, lang_name in LANGS.items():\n",
        "  files = get_track_files(lang_short)\n",
        "  raw_corpus = get_raw_corpus(files)\n",
        "  df = raw_corpus_to_dataframe(raw_corpus, lang=lang_short)\n",
        "  print(f\"Language: {lang_name}\")\n",
        "  stats(df)\n",
        "  print(\"\\n\")\n"
      ],
      "metadata": {
        "colab": {
          "base_uri": "https://localhost:8080/"
        },
        "id": "CkRVqV1smpo-",
        "outputId": "dd5689f4-7f62-467e-e20b-abee332412f9"
      },
      "id": "CkRVqV1smpo-",
      "execution_count": null,
      "outputs": [
        {
          "output_type": "stream",
          "name": "stdout",
          "text": [
            "Language: Czech\n",
            "Total de palabras: 8000\n",
            "Longitud de palabra promedio: 7.84275\n",
            "Cuenta de morfemas promedio: 3.59075\n",
            "Categoría más común: NOT_FOUND\n",
            "\n",
            "\n",
            "Language: English\n",
            "Total de palabras: 115126\n",
            "Longitud de palabra promedio: 10.10949742021785\n",
            "Cuenta de morfemas promedio: 2.353230373677536\n",
            "Categoría más común: 010\n",
            "\n",
            "\n",
            "Language: French\n",
            "Total de palabras: 63173\n",
            "Longitud de palabra promedio: 10.203393854969686\n",
            "Cuenta de morfemas promedio: 2.6686400835800104\n",
            "Categoría más común: 110\n",
            "\n",
            "\n",
            "Language: Hungarian\n",
            "Total de palabras: 188074\n",
            "Longitud de palabra promedio: 10.85869923540734\n",
            "Cuenta de morfemas promedio: 3.2302816976296564\n",
            "Categoría más común: 100\n",
            "\n",
            "\n",
            "Language: Spanish\n",
            "Total de palabras: 172173\n",
            "Longitud de palabra promedio: 10.688301882408972\n",
            "Cuenta de morfemas promedio: 3.236227515347935\n",
            "Categoría más común: 100\n",
            "\n",
            "\n",
            "Language: Italian\n",
            "Total de palabras: 92304\n",
            "Longitud de palabra promedio: 10.795523487606172\n",
            "Cuenta de morfemas promedio: 2.682657306292252\n",
            "Categoría más común: 110\n",
            "\n",
            "\n",
            "Language: Latin\n",
            "Total de palabras: 176467\n",
            "Longitud de palabra promedio: 10.55255656865023\n",
            "Cuenta de morfemas promedio: 2.4890036097400645\n",
            "Categoría más común: NOT_FOUND\n",
            "\n",
            "\n",
            "Language: Russian\n",
            "Total de palabras: 156846\n",
            "Longitud de palabra promedio: 10.409994516914681\n",
            "Cuenta de morfemas promedio: 3.851561404179896\n",
            "Categoría más común: 110\n",
            "\n",
            "\n"
          ]
        }
      ]
    },
    {
      "cell_type": "markdown",
      "source": [
        "#Conclusión\n",
        "Con base a los histogramas y a los promedios podemos observar varias cosas muy curiosas. Para empezar, la distribución de longitud de palabras parecen muy similares a pesar de ser diferentes lenguas, además todas tienen una media de longitud de palabas de alrededor de 10 caracteres. Además, pasa algo muy similar con la cantidad de morfemas, la distribución es muy parecida y el promedio está muy cercano a 3. En la parte de las categorías sí parece haber un poco más de diferencas, sin embargo en la mayoría predomina la categoría 100 y 110, lo que corresponde \"inflexión\" y a \"inflexión, derivación\", respectivamente. Esto a pesar de que la cantidad de palabras es muy diferente entre sí, lo que nos habla de que pareciera haber alguna razón por la cual todas las lenguas se relacionan entre sí, esto puede deberse al principio de mínimo esfuerzo postulado por Zipf, donde los sistemas lingüisticos tienden a optimizar recursos, además, con respecto a las categorías la inflexión es muy importante para cumplir funciones sintácticas y contextualizar palabras dentro de oraciones, por lo que es común que sea la categoría más frecuente sin importar la lengua. Esto nos habla de que no importa la variación cultural, hay principios más básicos y arraigados en la naturaleza humana."
      ],
      "metadata": {
        "id": "RFpN6YY0ep-k"
      },
      "id": "RFpN6YY0ep-k"
    },
    {
      "cell_type": "markdown",
      "source": [
        "#Extra"
      ],
      "metadata": {
        "id": "oKurgpA9raTj"
      },
      "id": "oKurgpA9raTj"
    },
    {
      "cell_type": "code",
      "source": [
        "from sklearn.metrics import confusion_matrix\n",
        "import seaborn as sns\n",
        "labels = sorted(set(y_test_flat))  # Asegura que las etiquetas están ordenadas\n",
        "\n",
        "cm=confusion_matrix(y_test_flat,y_pred_flat,labels=labels)\n",
        "plt.figure(figsize=(15,10))\n",
        "sns.heatmap(cm, annot=True, fmt='g', cmap='Blues', xticklabels=labels, yticklabels=labels)\n",
        "plt.xlabel('Predicted')\n",
        "plt.ylabel('True')\n",
        "plt.title('Confusion Matrix')\n",
        "plt.tight_layout()\n",
        "plt.show()"
      ],
      "metadata": {
        "colab": {
          "base_uri": "https://localhost:8080/",
          "height": 1000
        },
        "id": "FC2Z2IzIr0zv",
        "outputId": "28d43dd5-54b2-4532-b994-e7e6af969ff0"
      },
      "id": "FC2Z2IzIr0zv",
      "execution_count": null,
      "outputs": [
        {
          "output_type": "display_data",
          "data": {
            "text/plain": [
              "<Figure size 1500x1000 with 2 Axes>"
            ],
            "image/png": "[encoded data removed]"
          },
          "metadata": {}
        }
      ]
    }
  ],
  "metadata": {
    "colab": {
      "provenance": []
    },
    "jupytext": {
      "formats": "ipynb,auto:light"
    },
    "kernelspec": {
      "display_name": "Python 3 (ipykernel)",
      "language": "python",
      "name": "python3"
    },
    "language_info": {
      "codemirror_mode": {
        "name": "ipython",
        "version": 3
      },
      "file_extension": ".py",
      "mimetype": "text/x-python",
      "name": "python",
      "nbconvert_exporter": "python",
      "pygments_lexer": "ipython3",
      "version": "3.11.11"
    }
  },
  "nbformat": 4,
  "nbformat_minor": 5
}